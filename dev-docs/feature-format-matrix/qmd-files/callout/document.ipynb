{
  "cells": [
    {
      "cell_type": "markdown",
      "metadata": {},
      "source": [
        "# Callouts\n",
        "\n",
        "> **A small note**\n",
        ">\n",
        "> You should note that this is a note.\n",
        "\n",
        "> **Warning**\n",
        ">\n",
        "> A callout does not need a title.\n",
        "\n",
        "## `ipynb`-specific comments"
      ],
      "id": "bb8c5c70-13e5-468a-9a43-88556ce0f745"
    }
  ],
  "nbformat": 4,
  "nbformat_minor": 5,
  "metadata": {
    "kernelspec": {
      "display_name": "Python 3",
      "language": "python",
      "name": "python3"
    }
  }
}