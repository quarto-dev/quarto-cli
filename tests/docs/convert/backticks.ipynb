{
 "cells": [
  {
   "cell_type": "code",
   "execution_count": 1,
   "id": "d02a6fa3",
   "metadata": {},
   "outputs": [],
   "source": [
    "message = \"\"\"\n",
    "Content\n",
    "```python\n",
    "print(\"Hello, world!\")\n",
    "```\n",
    "\"\"\""
   ]
  }
 ],
 "metadata": {
  "kernelspec": {
   "display_name": "Python 3 (ipykernel)",
   "language": "python",
   "name": "python3"
  },
  "language_info": {
   "codemirror_mode": {
    "name": "ipython",
    "version": 3
   },
   "file_extension": ".py",
   "mimetype": "text/x-python",
   "name": "python",
   "nbconvert_exporter": "python",
   "pygments_lexer": "ipython3",
   "version": "3.10.13"
  }
 },
 "nbformat": 4,
 "nbformat_minor": 5
}
