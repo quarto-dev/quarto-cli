{
  "cells": [
    {
      "cell_type": "markdown",
      "metadata": {},
      "source": [
        "---\n",
        "title: My Document\n",
        "format: html\n",
        "jupyter: python3\n",
        "keep-ipynb: true\n",
        "---\n",
        "\n",
        "\n",
        "\n",
        "## Introduction\n",
        "\n",
        "Here I place some text."
      ]
    }
  ],
  "metadata": {
    "kernelspec": {
      "name": "python3",
      "language": "python",
      "display_name": "Python 3 (ipykernel)",
      "path": "/Users/cscheid/virtualenvs/homebrew-python3/share/jupyter/kernels/python3"
    }
  },
  "nbformat": 4,
  "nbformat_minor": 4
}