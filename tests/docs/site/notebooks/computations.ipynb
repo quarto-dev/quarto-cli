{
 "cells": [
  {
   "cell_type": "markdown",
   "id": "3a7ef254",
   "metadata": {},
   "source": [
    "# Computations\n",
    "\n",
    "This is a simple markdown cell that has various contents in it. _What_ is up!"
   ]
  },
  {
   "cell_type": "raw",
   "id": "081703fc-4357-469b-a931-707a8f41d626",
   "metadata": {
    "raw_mimetype": "text/html",
    "tags": []
   },
   "source": [
    "<b>Hello World - this is HTML!</b>"
   ]
  },
  {
   "cell_type": "code",
   "execution_count": 5,
   "id": "c997cb65",
   "metadata": {
    "tags": []
   },
   "outputs": [
    {
     "data": {
      "image/png": "[encoded data removed]",
      "text/plain": [
       "<Figure size 432x288 with 1 Axes>"
      ]
     },
     "metadata": {
      "needs_background": "light"
     },
     "output_type": "display_data"
    }
   ],
   "source": [
    "#| label: fig-visualization\n",
    "#| fig-cap: A display of a line and region moving up and to the right.\n",
    "\n",
    "import matplotlib.pyplot as plt\n",
    "import numpy as np\n",
    "\n",
    "# make data\n",
    "np.random.seed(1)\n",
    "x = np.linspace(0, 8, 16)\n",
    "y1 = 3 + 4*x/8 + np.random.uniform(0.0, 0.5, len(x))\n",
    "y2 = 1 + 2*x/8 + np.random.uniform(0.0, 0.5, len(x))\n",
    "\n",
    "# plot\n",
    "fig, ax = plt.subplots()\n",
    "\n",
    "ax.fill_between(x, y1, y2, alpha=.5, linewidth=0)\n",
    "ax.plot(x, (y1 + y2)/2, linewidth=2)\n",
    "\n",
    "ax.set(xlim=(0, 8), xticks=np.arange(1, 8),\n",
    "       ylim=(0, 8), yticks=np.arange(1, 8))\n",
    "\n",
    "# Store the plot in the notebook as different MIME types\n",
    "from IPython.display import Image, SVG, display\n",
    "from io import BytesIO\n",
    "\n",
    "# SVG alternative\n",
    "buffer = BytesIO()\n",
    "plt.savefig(buffer, format='svg')\n"
   ]
  }
 ],
 "metadata": {
  "kernelspec": {
   "display_name": "Python 3 (ipykernel)",
   "language": "python",
   "name": "python3"
  },
  "language_info": {
   "codemirror_mode": {
    "name": "ipython",
    "version": 3
   },
   "file_extension": ".py",
   "mimetype": "text/x-python",
   "name": "python",
   "nbconvert_exporter": "python",
   "pygments_lexer": "ipython3",
   "version": "3.11.2"
  },
  "vscode": {
   "interpreter": {
    "hash": "31f2aee4e71d21fbe5cf8b01ff0e069b9275f58929596ceb00d14d90e3e16cd6"
   }
  }
 },
 "nbformat": 4,
 "nbformat_minor": 5
}
