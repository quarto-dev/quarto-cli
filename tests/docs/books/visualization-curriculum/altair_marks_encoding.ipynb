{
 "cells": [
  {
   "cell_type": "markdown",
   "metadata": {
    "colab_type": "text",
    "id": "IyWDKt1wJhjq"
   },
   "source": [
    "# Data Types, Graphical Marks, and Visual Encoding Channels\n",
    "\n",
    "A visualization represents data using a collection of _graphical marks_ (bars, lines, points, etc.). The attributes of a mark &mdash; such as its position, shape, size, or color &mdash; serve as _channels_ through which we can encode underlying data values."
   ]
  },
  {
   "cell_type": "markdown",
   "metadata": {},
   "source": [
    "With a basic framework of _data types_, _marks_, and _encoding channels_, we can concisely create a wide variety of visualizations. In this notebook, we explore each of these elements and show how to use them to create custom statistical graphics.\n",
    "\n",
    "_This notebook is part of the [data visualization curriculum](https://github.com/uwdata/visualization-curriculum)._"
   ]
  },
  {
   "cell_type": "code",
   "execution_count": 2,
   "metadata": {
    "colab": {},
    "colab_type": "code",
    "id": "Y5K12kFBKE6v"
   },
   "outputs": [],
   "source": [
    "import pandas as pd\n",
    "import altair as alt"
   ]
  },
  {
   "cell_type": "markdown",
   "metadata": {
    "colab_type": "text",
    "id": "dkfRE2_2KOZ9"
   },
   "source": [
    "## Global Development Data\n"
   ]
  },
  {
   "cell_type": "markdown",
   "metadata": {
    "colab_type": "text",
    "id": "LbfvKf2tzCmb"
   },
   "source": [
    "We will be visualizing global health and population data for a number of countries, over the time period of 1955 to 2005. The data was collected by the [Gapminder Foundation](https://www.gapminder.org/) and shared in [Hans Rosling's popular TED talk](https://www.youtube.com/watch?v=hVimVzgtD6w). If you haven't seen the talk, we encourage you to watch it first!\n",
    "\n",
    "Let's first load the dataset from the [vega-datasets](https://github.com/vega/vega-datasets) collection into a Pandas data frame."
   ]
  },
  {
   "cell_type": "code",
   "execution_count": 3,
   "metadata": {
    "colab": {},
    "colab_type": "code",
    "id": "cMgPRofkJHJP"
   },
   "outputs": [],
   "source": [
    "from vega_datasets import data as vega_data\n",
    "data = vega_data.gapminder()"
   ]
  },
  {
   "cell_type": "markdown",
   "metadata": {
    "colab_type": "text",
    "id": "ioAtaF9P0IMX"
   },
   "source": [
    "How big is the data?"
   ]
  },
  {
   "cell_type": "code",
   "execution_count": 4,
   "metadata": {
    "colab": {
     "base_uri": "https://localhost:8080/",
     "height": 34
    },
    "colab_type": "code",
    "id": "oM-Lodk_KK8T",
    "outputId": "134a2f4a-c15d-4fcd-fd93-49b26a4f5e30"
   },
   "outputs": [
    {
     "data": {
      "text/plain": [
       "(693, 6)"
      ]
     },
     "execution_count": 3,
     "metadata": {},
     "output_type": "execute_result"
    }
   ],
   "source": [
    "data.shape"
   ]
  },
  {
   "cell_type": "markdown",
   "metadata": {
    "colab_type": "text",
    "id": "spJtZFQN0KCQ"
   },
   "source": [
    "693 rows and 6 columns! Let's take a peek at the data content:"
   ]
  },
  {
   "cell_type": "code",
   "execution_count": 5,
   "metadata": {
    "colab": {
     "base_uri": "https://localhost:8080/",
     "height": 204
    },
    "colab_type": "code",
    "id": "SpB2dH0JKVJe",
    "outputId": "ec103505-4d8f-4310-a6e1-7eea3d789c28"
   },
   "outputs": [
    {
     "data": {
      "text/html": [
       "<div>\n",
       "<style scoped>\n",
       "    .dataframe tbody tr th:only-of-type {\n",
       "        vertical-align: middle;\n",
       "    }\n",
       "\n",
       "    .dataframe tbody tr th {\n",
       "        vertical-align: top;\n",
       "    }\n",
       "\n",
       "    .dataframe thead th {\n",
       "        text-align: right;\n",
       "    }\n",
       "</style>\n",
       "<table border=\"1\" class=\"dataframe\">\n",
       "  <thead>\n",
       "    <tr style=\"text-align: right;\">\n",
       "      <th></th>\n",
       "      <th>year</th>\n",
       "      <th>country</th>\n",
       "      <th>cluster</th>\n",
       "      <th>pop</th>\n",
       "      <th>life_expect</th>\n",
       "      <th>fertility</th>\n",
       "    </tr>\n",
       "  </thead>\n",
       "  <tbody>\n",
       "    <tr>\n",
       "      <th>0</th>\n",
       "      <td>1955</td>\n",
       "      <td>Afghanistan</td>\n",
       "      <td>0</td>\n",
       "      <td>8891209</td>\n",
       "      <td>30.332</td>\n",
       "      <td>7.7</td>\n",
       "    </tr>\n",
       "    <tr>\n",
       "      <th>1</th>\n",
       "      <td>1960</td>\n",
       "      <td>Afghanistan</td>\n",
       "      <td>0</td>\n",
       "      <td>9829450</td>\n",
       "      <td>31.997</td>\n",
       "      <td>7.7</td>\n",
       "    </tr>\n",
       "    <tr>\n",
       "      <th>2</th>\n",
       "      <td>1965</td>\n",
       "      <td>Afghanistan</td>\n",
       "      <td>0</td>\n",
       "      <td>10997885</td>\n",
       "      <td>34.020</td>\n",
       "      <td>7.7</td>\n",
       "    </tr>\n",
       "    <tr>\n",
       "      <th>3</th>\n",
       "      <td>1970</td>\n",
       "      <td>Afghanistan</td>\n",
       "      <td>0</td>\n",
       "      <td>12430623</td>\n",
       "      <td>36.088</td>\n",
       "      <td>7.7</td>\n",
       "    </tr>\n",
       "    <tr>\n",
       "      <th>4</th>\n",
       "      <td>1975</td>\n",
       "      <td>Afghanistan</td>\n",
       "      <td>0</td>\n",
       "      <td>14132019</td>\n",
       "      <td>38.438</td>\n",
       "      <td>7.7</td>\n",
       "    </tr>\n",
       "  </tbody>\n",
       "</table>\n",
       "</div>"
      ],
      "text/plain": [
       "   year      country  cluster       pop  life_expect  fertility\n",
       "0  1955  Afghanistan        0   8891209       30.332        7.7\n",
       "1  1960  Afghanistan        0   9829450       31.997        7.7\n",
       "2  1965  Afghanistan        0  10997885       34.020        7.7\n",
       "3  1970  Afghanistan        0  12430623       36.088        7.7\n",
       "4  1975  Afghanistan        0  14132019       38.438        7.7"
      ]
     },
     "execution_count": 4,
     "metadata": {},
     "output_type": "execute_result"
    }
   ],
   "source": [
    "data.head(5)"
   ]
  },
  {
   "cell_type": "markdown",
   "metadata": {
    "colab_type": "text",
    "id": "ZpJ2OTZbY3Kf"
   },
   "source": [
    "For each `country` and `year` (in 5-year intervals), we have measures of fertility in terms of the number of children per woman (`fertility`), life expectancy in years (`life_expect`), and total population (`pop`).\n",
    "\n",
    "We also see a `cluster` field with an integer code. What might this represent? We'll try and solve this mystery as we visualize the data!"
   ]
  },
  {
   "cell_type": "markdown",
   "metadata": {
    "colab_type": "text",
    "id": "nTSCOwsEvo15"
   },
   "source": [
    "Let's also create a smaller data frame, filtered down to values for the year 2000 only:"
   ]
  },
  {
   "cell_type": "code",
   "execution_count": 6,
   "metadata": {
    "colab": {},
    "colab_type": "code",
    "id": "kCVTdUK2Le_M"
   },
   "outputs": [],
   "source": [
    "data2000 = data.loc[data['year'] == 2000]"
   ]
  },
  {
   "cell_type": "code",
   "execution_count": 7,
   "metadata": {
    "colab": {
     "base_uri": "https://localhost:8080/",
     "height": 204
    },
    "colab_type": "code",
    "id": "mOLR5Nh-MLWm",
    "outputId": "8629f998-e723-4b92-9a95-f0df3c9843a8"
   },
   "outputs": [
    {
     "data": {
      "text/html": [
       "<div>\n",
       "<style scoped>\n",
       "    .dataframe tbody tr th:only-of-type {\n",
       "        vertical-align: middle;\n",
       "    }\n",
       "\n",
       "    .dataframe tbody tr th {\n",
       "        vertical-align: top;\n",
       "    }\n",
       "\n",
       "    .dataframe thead th {\n",
       "        text-align: right;\n",
       "    }\n",
       "</style>\n",
       "<table border=\"1\" class=\"dataframe\">\n",
       "  <thead>\n",
       "    <tr style=\"text-align: right;\">\n",
       "      <th></th>\n",
       "      <th>year</th>\n",
       "      <th>country</th>\n",
       "      <th>cluster</th>\n",
       "      <th>pop</th>\n",
       "      <th>life_expect</th>\n",
       "      <th>fertility</th>\n",
       "    </tr>\n",
       "  </thead>\n",
       "  <tbody>\n",
       "    <tr>\n",
       "      <th>9</th>\n",
       "      <td>2000</td>\n",
       "      <td>Afghanistan</td>\n",
       "      <td>0</td>\n",
       "      <td>23898198</td>\n",
       "      <td>42.129</td>\n",
       "      <td>7.4792</td>\n",
       "    </tr>\n",
       "    <tr>\n",
       "      <th>20</th>\n",
       "      <td>2000</td>\n",
       "      <td>Argentina</td>\n",
       "      <td>3</td>\n",
       "      <td>37497728</td>\n",
       "      <td>74.340</td>\n",
       "      <td>2.3500</td>\n",
       "    </tr>\n",
       "    <tr>\n",
       "      <th>31</th>\n",
       "      <td>2000</td>\n",
       "      <td>Aruba</td>\n",
       "      <td>3</td>\n",
       "      <td>69539</td>\n",
       "      <td>73.451</td>\n",
       "      <td>2.1240</td>\n",
       "    </tr>\n",
       "    <tr>\n",
       "      <th>42</th>\n",
       "      <td>2000</td>\n",
       "      <td>Australia</td>\n",
       "      <td>4</td>\n",
       "      <td>19164620</td>\n",
       "      <td>80.370</td>\n",
       "      <td>1.7560</td>\n",
       "    </tr>\n",
       "    <tr>\n",
       "      <th>53</th>\n",
       "      <td>2000</td>\n",
       "      <td>Austria</td>\n",
       "      <td>1</td>\n",
       "      <td>8113413</td>\n",
       "      <td>78.980</td>\n",
       "      <td>1.3820</td>\n",
       "    </tr>\n",
       "  </tbody>\n",
       "</table>\n",
       "</div>"
      ],
      "text/plain": [
       "    year      country  cluster       pop  life_expect  fertility\n",
       "9   2000  Afghanistan        0  23898198       42.129     7.4792\n",
       "20  2000    Argentina        3  37497728       74.340     2.3500\n",
       "31  2000        Aruba        3     69539       73.451     2.1240\n",
       "42  2000    Australia        4  19164620       80.370     1.7560\n",
       "53  2000      Austria        1   8113413       78.980     1.3820"
      ]
     },
     "execution_count": 6,
     "metadata": {},
     "output_type": "execute_result"
    }
   ],
   "source": [
    "data2000.head(5)"
   ]
  },
  {
   "cell_type": "markdown",
   "metadata": {
    "colab_type": "text",
    "id": "xyIb1bzLJgG-"
   },
   "source": [
    "## Data Types\n"
   ]
  },
  {
   "cell_type": "markdown",
   "metadata": {
    "colab_type": "text",
    "id": "vyj1xBF2NTY6"
   },
   "source": [
    "The first ingredient in effective visualization is the input data. Data values can represent different forms of measurement. What kinds of comparisons do those measurements support? And what kinds of visual encodings then support those comparisons?\n",
    "\n",
    "We will start by looking at the basic data types that Altair uses to inform visual encoding choices. These data types determine the kinds of comparisons we can make, and thereby guide our visualization design decisions.\n",
    "\n",
    "### Nominal (N)\n",
    "\n",
    "*Nominal* data (also called *categorical* data) consist of category names. \n",
    "\n",
    "With nominal data we can compare the equality of values: *is value A the same or different than value B? (A = B)*, supporting statements like “A is equal to B” or “A is not equal to B”.\n",
    "In the dataset above, the `country` field is nominal.\n",
    "\n",
    "When visualizing nominal data we should readily be able to see if values are the same or different: position, color hue (blue, red, green, *etc.*), and shape can help. However, using a size channel to encode nominal data might mislead us, suggesting rank-order or magnitude differences among values that do not exist!\n",
    "\n",
    "### Ordinal (O)\n",
    "\n",
    "*Ordinal* data consist of values that have a specific ordering.\n",
    "\n",
    "With ordinal data we can compare the rank-ordering of values: *does value A come before or after value B? (A < B)*, supporting statements like “A is less than B” or “A is greater than B”.\n",
    "In the dataset above, we can treat the `year` field as ordinal.\n",
    "\n",
    "When visualizing ordinal data, we should perceive a sense of rank-order. Position, size, or color value (brightness) might be appropriate, where as color hue (which is not perceptually ordered) would be less appropriate.\n",
    "\n",
    "### Quantitative (Q)\n",
    "\n",
    "With *quantitative* data we can measure numerical differences among values. There are multiple sub-types of quantitative data:\n",
    "\n",
    "For *interval* data we can measure the distance (interval) between points: *what is the distance to value A from value B? (A - B)*, supporting statements such as “A is 12 units away from B”.\n",
    "\n",
    "For *ratio* data the zero-point is meaningful and so we can also measure proportions or scale factors: *value A is what proportion of value B? (A / B)*, supporting statements such as “A is 10% of B” or “B is 7 times larger than A”.\n",
    "\n",
    "In the dataset above, `year` is a quantitative interval field (the value of year \"zero\" is subjective), whereas `fertility` and `life_expect` are quantitative ratio fields (zero is meaningful for calculating proportions).\n",
    "Vega-Lite represents quantitative data, but does not make a distinction between interval and ratio types.\n",
    "\n",
    "Quantitative values can be visualized using position, size, or color value, among other channels. An axis with a zero baseline is essential for proportional comparisons of ratio values, but can be safely omitted for interval comparisons.\n",
    "\n",
    "### Temporal (T)\n",
    "\n",
    "*Temporal* values measure time points or intervals. This type is a special case of quantitative values (timestamps) with rich semantics and conventions (i.e., the [Gregorian calendar](https://en.wikipedia.org/wiki/Gregorian_calendar)). The temporal type in Vega-Lite supports reasoning about time units (year, month, day, hour, etc.), and provides methods for requesting specific time intervals.\n",
    "\n",
    "Example temporal values include date strings such as `“2019-01-04”` and `“Jan 04 2019”`, as well as standardized date-times such as the [ISO date-time format](https://en.wikipedia.org/wiki/ISO_8601): `“2019-01-04T17:50:35.643Z”`.\n",
    "\n",
    "There are no temporal values in our global development dataset above, as the `year` field is simply encoded as an integer. For more details about using temporal data in Altair, see the [Times and Dates documentation](https://altair-viz.github.io/user_guide/times_and_dates.html).\n",
    "\n",
    "### Summary\n",
    "\n",
    "These data types are not mutually exclusive, but rather form a hierarchy: ordinal data support nominal (equality) comparisons, while quantitative data support ordinal (rank-order) comparisons.\n",
    "\n",
    "Moreover, these data types do _not_ provide a fixed categorization. Just because a data field is represented using a number doesn't mean we have to treat it as a quantitative type! For example, we might interpret a set of ages (10 years old, 20 years old, etc) as nominal (underage or overage), ordinal (grouped by year), or quantitative (calculate average age).\n",
    "\n",
    "Now let's examine how to visually encode these data types!\n"
   ]
  },
  {
   "cell_type": "markdown",
   "metadata": {
    "colab_type": "text",
    "id": "yaz3tS2RKf03"
   },
   "source": [
    "## Encoding Channels\n",
    "\n",
    "At the heart of Altair is the use of *encodings* that bind data fields (with a given data type) to available encoding *channels* of a chosen *mark* type. In this notebook we'll examine the following encoding channels:\n",
    "\n",
    "- `x`: Horizontal (x-axis) position of the mark.\n",
    "- `y`: Vertical (y-axis) position of the mark.\n",
    "- `size`: Size of the mark. May correspond to area or length, depending on the mark type.\n",
    "- `color`: Mark color, specified as a [legal CSS color](https://developer.mozilla.org/en-US/docs/Web/CSS/color_value).\n",
    "- `opacity`: Mark opacity, ranging from 0 (fully transparent) to 1 (fully opaque).\n",
    "- `shape`: Plotting symbol shape for `point` marks.\n",
    "- `tooltip`: Tooltip text to display upon mouse hover over the mark.\n",
    "- `order`: Mark ordering, determines line/area point order and drawing order.\n",
    "- `column`: Facet the data into horizontally-aligned subplots.\n",
    "- `row`: Facet the data into vertically-aligned subplots.\n",
    "\n",
    "For a complete list of available channels, see the [Altair encoding documentation](https://altair-viz.github.io/user_guide/encoding.html)."
   ]
  },
  {
   "cell_type": "markdown",
   "metadata": {
    "colab_type": "text",
    "id": "vujZA4b6OCRC"
   },
   "source": [
    "### X\n",
    "\n",
    "The `x` encoding channel sets a mark's horizontal position (x-coordinate). In addition, default choices of axis and title are made automatically. In the chart below, the choice of a quantitative data type results in a continuous linear axis scale:"
   ]
  },
  {
   "cell_type": "code",
   "execution_count": 8,
   "metadata": {
    "colab": {
     "base_uri": "https://localhost:8080/",
     "height": 87
    },
    "colab_type": "code",
    "id": "nswya-ToLaRP",
    "outputId": "2a958755-7f70-4a86-ab6f-2cfb24ad7231"
   },
   "outputs": [
    {
     "data": {
      "text/html": [
       "\n",
       "<div id=\"altair-viz-eff22498c40943008d25247747a4ab1b\"></div>\n",
       "<script type=\"text/javascript\">\n",
       "  (function(spec, embedOpt){\n",
       "    let outputDiv = document.currentScript.previousElementSibling;\n",
       "    if (outputDiv.id !== \"altair-viz-eff22498c40943008d25247747a4ab1b\") {\n",
       "      outputDiv = document.getElementById(\"altair-viz-eff22498c40943008d25247747a4ab1b\");\n",
       "    }\n",
       "    const paths = {\n",
       "      \"vega\": \"https://cdn.jsdelivr.net/npm//vega@5?noext\",\n",
       "      \"vega-lib\": \"https://cdn.jsdelivr.net/npm//vega-lib?noext\",\n",
       "      \"vega-lite\": \"https://cdn.jsdelivr.net/npm//vega-lite@4.8.1?noext\",\n",
       "      \"vega-embed\": \"https://cdn.jsdelivr.net/npm//vega-embed@6?noext\",\n",
       "    };\n",
       "\n",
       "    function loadScript(lib) {\n",
       "      return new Promise(function(resolve, reject) {\n",
       "        var s = document.createElement('script');\n",
       "        s.src = paths[lib];\n",
       "        s.async = true;\n",
       "        s.onload = () => resolve(paths[lib]);\n",
       "        s.onerror = () => reject(`Error loading script: ${paths[lib]}`);\n",
       "        document.getElementsByTagName(\"head\")[0].appendChild(s);\n",
       "      });\n",
       "    }\n",
       "\n",
       "    function showError(err) {\n",
       "      outputDiv.innerHTML = `<div class=\"error\" style=\"color:red;\">${err}</div>`;\n",
       "      throw err;\n",
       "    }\n",
       "\n",
       "    function displayChart(vegaEmbed) {\n",
       "      vegaEmbed(outputDiv, spec, embedOpt)\n",
       "        .catch(err => showError(`Javascript Error: ${err.message}<br>This usually means there's a typo in your chart specification. See the javascript console for the full traceback.`));\n",
       "    }\n",
       "\n",
       "    if(typeof define === \"function\" && define.amd) {\n",
       "      requirejs.config({paths});\n",
       "      require([\"vega-embed\"], displayChart, err => showError(`Error loading script: ${err.message}`));\n",
       "    } else if (typeof vegaEmbed === \"function\") {\n",
       "      displayChart(vegaEmbed);\n",
       "    } else {\n",
       "      loadScript(\"vega\")\n",
       "        .then(() => loadScript(\"vega-lite\"))\n",
       "        .then(() => loadScript(\"vega-embed\"))\n",
       "        .catch(showError)\n",
       "        .then(() => displayChart(vegaEmbed));\n",
       "    }\n",
       "  })({\"config\": {\"view\": {\"continuousWidth\": 400, \"continuousHeight\": 300}}, \"data\": {\"name\": \"data-fdeb0b749a6385830bd1445d39ad6ea0\"}, \"mark\": \"point\", \"encoding\": {\"x\": {\"type\": \"quantitative\", \"field\": \"fertility\"}}, \"$schema\": \"https://vega.github.io/schema/vega-lite/v4.8.1.json\", \"datasets\": {\"data-fdeb0b749a6385830bd1445d39ad6ea0\": [{\"year\": 2000, \"country\": \"Afghanistan\", \"cluster\": 0, \"pop\": 23898198, \"life_expect\": 42.129, \"fertility\": 7.4792}, {\"year\": 2000, \"country\": \"Argentina\", \"cluster\": 3, \"pop\": 37497728, \"life_expect\": 74.34, \"fertility\": 2.35}, {\"year\": 2000, \"country\": \"Aruba\", \"cluster\": 3, \"pop\": 69539, \"life_expect\": 73.451, \"fertility\": 2.124}, {\"year\": 2000, \"country\": \"Australia\", \"cluster\": 4, \"pop\": 19164620, \"life_expect\": 80.37, \"fertility\": 1.756}, {\"year\": 2000, \"country\": \"Austria\", \"cluster\": 1, \"pop\": 8113413, \"life_expect\": 78.98, \"fertility\": 1.3820000000000001}, {\"year\": 2000, \"country\": \"Bahamas\", \"cluster\": 3, \"pop\": 290075, \"life_expect\": 71.068, \"fertility\": 2.1111}, {\"year\": 2000, \"country\": \"Bangladesh\", \"cluster\": 0, \"pop\": 130406594, \"life_expect\": 62.013, \"fertility\": 3.224}, {\"year\": 2000, \"country\": \"Barbados\", \"cluster\": 3, \"pop\": 273483, \"life_expect\": 75.97, \"fertility\": 1.5}, {\"year\": 2000, \"country\": \"Belgium\", \"cluster\": 1, \"pop\": 10263618, \"life_expect\": 78.32, \"fertility\": 1.638}, {\"year\": 2000, \"country\": \"Bolivia\", \"cluster\": 3, \"pop\": 8152620, \"life_expect\": 63.883, \"fertility\": 3.9585}, {\"year\": 2000, \"country\": \"Brazil\", \"cluster\": 3, \"pop\": 175552771, \"life_expect\": 71.006, \"fertility\": 2.345}, {\"year\": 2000, \"country\": \"Canada\", \"cluster\": 3, \"pop\": 31278097, \"life_expect\": 79.77, \"fertility\": 1.522}, {\"year\": 2000, \"country\": \"Chile\", \"cluster\": 3, \"pop\": 15153450, \"life_expect\": 77.86, \"fertility\": 2.0}, {\"year\": 2000, \"country\": \"China\", \"cluster\": 4, \"pop\": 1262645000, \"life_expect\": 72.028, \"fertility\": 1.7000000000000002}, {\"year\": 2000, \"country\": \"Colombia\", \"cluster\": 3, \"pop\": 39685655, \"life_expect\": 71.682, \"fertility\": 2.4705}, {\"year\": 2000, \"country\": \"Costa Rica\", \"cluster\": 3, \"pop\": 3710558, \"life_expect\": 78.123, \"fertility\": 2.2815}, {\"year\": 2000, \"country\": \"Croatia\", \"cluster\": 1, \"pop\": 4410830, \"life_expect\": 74.876, \"fertility\": 1.348}, {\"year\": 2000, \"country\": \"Cuba\", \"cluster\": 3, \"pop\": 11134273, \"life_expect\": 77.158, \"fertility\": 1.63}, {\"year\": 2000, \"country\": \"Dominican Republic\", \"cluster\": 3, \"pop\": 8385828, \"life_expect\": 70.847, \"fertility\": 2.95}, {\"year\": 2000, \"country\": \"Ecuador\", \"cluster\": 3, \"pop\": 12505204, \"life_expect\": 74.173, \"fertility\": 2.8175}, {\"year\": 2000, \"country\": \"Egypt\", \"cluster\": 5, \"pop\": 70492342, \"life_expect\": 69.806, \"fertility\": 3.174}, {\"year\": 2000, \"country\": \"El Salvador\", \"cluster\": 3, \"pop\": 6122515, \"life_expect\": 70.734, \"fertility\": 2.883}, {\"year\": 2000, \"country\": \"Finland\", \"cluster\": 1, \"pop\": 5168595, \"life_expect\": 78.37, \"fertility\": 1.754}, {\"year\": 2000, \"country\": \"France\", \"cluster\": 1, \"pop\": 59381628, \"life_expect\": 79.59, \"fertility\": 1.8833000000000002}, {\"year\": 2000, \"country\": \"Georgia\", \"cluster\": 1, \"pop\": 4777209, \"life_expect\": 70.476, \"fertility\": 1.478}, {\"year\": 2000, \"country\": \"Germany\", \"cluster\": 1, \"pop\": 82187909, \"life_expect\": 78.67, \"fertility\": 1.346}, {\"year\": 2000, \"country\": \"Greece\", \"cluster\": 1, \"pop\": 10559110, \"life_expect\": 78.256, \"fertility\": 1.2770000000000001}, {\"year\": 2000, \"country\": \"Grenada\", \"cluster\": 3, \"pop\": 89312, \"life_expect\": 67.746, \"fertility\": 2.429}, {\"year\": 2000, \"country\": \"Haiti\", \"cluster\": 3, \"pop\": 7306302, \"life_expect\": 58.137, \"fertility\": 4.0}, {\"year\": 2000, \"country\": \"Hong Kong\", \"cluster\": 4, \"pop\": 6658720, \"life_expect\": 81.495, \"fertility\": 0.9400000000000001}, {\"year\": 2000, \"country\": \"Iceland\", \"cluster\": 1, \"pop\": 281043, \"life_expect\": 80.5, \"fertility\": 1.9929999999999999}, {\"year\": 2000, \"country\": \"India\", \"cluster\": 0, \"pop\": 1007702000, \"life_expect\": 62.879, \"fertility\": 3.1132}, {\"year\": 2000, \"country\": \"Indonesia\", \"cluster\": 4, \"pop\": 206265000, \"life_expect\": 68.588, \"fertility\": 2.3761}, {\"year\": 2000, \"country\": \"Iran\", \"cluster\": 5, \"pop\": 65660289, \"life_expect\": 69.451, \"fertility\": 2.124}, {\"year\": 2000, \"country\": \"Iraq\", \"cluster\": 5, \"pop\": 22675617, \"life_expect\": 57.046, \"fertility\": 4.858}, {\"year\": 2000, \"country\": \"Ireland\", \"cluster\": 1, \"pop\": 3791690, \"life_expect\": 77.783, \"fertility\": 1.9689999999999999}, {\"year\": 2000, \"country\": \"Israel\", \"cluster\": 5, \"pop\": 5842454, \"life_expect\": 79.696, \"fertility\": 2.906}, {\"year\": 2000, \"country\": \"Italy\", \"cluster\": 1, \"pop\": 57719337, \"life_expect\": 80.24, \"fertility\": 1.286}, {\"year\": 2000, \"country\": \"Jamaica\", \"cluster\": 3, \"pop\": 2615467, \"life_expect\": 72.047, \"fertility\": 2.628}, {\"year\": 2000, \"country\": \"Japan\", \"cluster\": 4, \"pop\": 126699784, \"life_expect\": 82.0, \"fertility\": 1.291}, {\"year\": 2000, \"country\": \"Kenya\", \"cluster\": 2, \"pop\": 29985839, \"life_expect\": 50.992, \"fertility\": 5.0}, {\"year\": 2000, \"country\": \"South Korea\", \"cluster\": 4, \"pop\": 21647682, \"life_expect\": 66.662, \"fertility\": 1.9173}, {\"year\": 2000, \"country\": \"North Korea\", \"cluster\": 4, \"pop\": 47351083, \"life_expect\": 77.045, \"fertility\": 1.242}, {\"year\": 2000, \"country\": \"Lebanon\", \"cluster\": 5, \"pop\": 3578036, \"life_expect\": 71.028, \"fertility\": 2.319}, {\"year\": 2000, \"country\": \"Mexico\", \"cluster\": 3, \"pop\": 99926620, \"life_expect\": 74.902, \"fertility\": 2.4005}, {\"year\": 2000, \"country\": \"Netherlands\", \"cluster\": 1, \"pop\": 15907853, \"life_expect\": 78.53, \"fertility\": 1.726}, {\"year\": 2000, \"country\": \"New Zealand\", \"cluster\": 4, \"pop\": 3819762, \"life_expect\": 79.11, \"fertility\": 1.964}, {\"year\": 2000, \"country\": \"Nigeria\", \"cluster\": 2, \"pop\": 114306700, \"life_expect\": 46.608, \"fertility\": 5.845}, {\"year\": 2000, \"country\": \"Norway\", \"cluster\": 1, \"pop\": 4492400, \"life_expect\": 79.05, \"fertility\": 1.8010000000000002}, {\"year\": 2000, \"country\": \"Pakistan\", \"cluster\": 0, \"pop\": 146342958, \"life_expect\": 63.61, \"fertility\": 3.9936}, {\"year\": 2000, \"country\": \"Peru\", \"cluster\": 3, \"pop\": 25979722, \"life_expect\": 69.906, \"fertility\": 2.7005}, {\"year\": 2000, \"country\": \"Philippines\", \"cluster\": 4, \"pop\": 79739825, \"life_expect\": 70.303, \"fertility\": 3.5436}, {\"year\": 2000, \"country\": \"Poland\", \"cluster\": 1, \"pop\": 38654164, \"life_expect\": 74.67, \"fertility\": 1.251}, {\"year\": 2000, \"country\": \"Portugal\", \"cluster\": 1, \"pop\": 10335597, \"life_expect\": 77.29, \"fertility\": 1.454}, {\"year\": 2000, \"country\": \"Rwanda\", \"cluster\": 2, \"pop\": 7507056, \"life_expect\": 43.413, \"fertility\": 6.01}, {\"year\": 2000, \"country\": \"Saudi Arabia\", \"cluster\": 5, \"pop\": 23153090, \"life_expect\": 71.626, \"fertility\": 3.81}, {\"year\": 2000, \"country\": \"South Africa\", \"cluster\": 2, \"pop\": 44066197, \"life_expect\": 53.365, \"fertility\": 2.802}, {\"year\": 2000, \"country\": \"Spain\", \"cluster\": 1, \"pop\": 40016081, \"life_expect\": 79.78, \"fertility\": 1.287}, {\"year\": 2000, \"country\": \"Switzerland\", \"cluster\": 1, \"pop\": 7266920, \"life_expect\": 80.62, \"fertility\": 1.415}, {\"year\": 2000, \"country\": \"Turkey\", \"cluster\": 1, \"pop\": 65666677, \"life_expect\": 70.845, \"fertility\": 2.23}, {\"year\": 2000, \"country\": \"United Kingdom\", \"cluster\": 1, \"pop\": 59522468, \"life_expect\": 78.471, \"fertility\": 1.695}, {\"year\": 2000, \"country\": \"United States\", \"cluster\": 3, \"pop\": 282338631, \"life_expect\": 77.31, \"fertility\": 2.038}, {\"year\": 2000, \"country\": \"Venezuela\", \"cluster\": 3, \"pop\": 23542649, \"life_expect\": 72.766, \"fertility\": 2.723}]}}, {\"mode\": \"vega-lite\"});\n",
       "</script>"
      ],
      "text/plain": [
       "alt.Chart(...)"
      ]
     },
     "execution_count": 7,
     "metadata": {},
     "output_type": "execute_result"
    }
   ],
   "source": [
    "alt.Chart(data2000).mark_point().encode(\n",
    "    alt.X('fertility:Q')\n",
    ")"
   ]
  },
  {
   "cell_type": "markdown",
   "metadata": {
    "colab_type": "text",
    "id": "WwQuuyKUOElr"
   },
   "source": [
    "### Y\n",
    "\n",
    "The `y` encoding channel sets a mark's vertical position (y-coordinate). Here we've added the `cluster` field using an ordinal (`O`) data type. The result is a discrete axis that includes a sized band, with a default step size, for each unique value:"
   ]
  },
  {
   "cell_type": "code",
   "execution_count": 9,
   "metadata": {
    "colab": {
     "base_uri": "https://localhost:8080/",
     "height": 192
    },
    "colab_type": "code",
    "id": "eP38vNrdNrHF",
    "outputId": "9ff5b4a8-143c-4595-845f-026ed2e747a8"
   },
   "outputs": [
    {
     "data": {
      "text/html": [
       "\n",
       "<div id=\"altair-viz-b145c545341148bfb56f5594c25fb0e9\"></div>\n",
       "<script type=\"text/javascript\">\n",
       "  (function(spec, embedOpt){\n",
       "    let outputDiv = document.currentScript.previousElementSibling;\n",
       "    if (outputDiv.id !== \"altair-viz-b145c545341148bfb56f5594c25fb0e9\") {\n",
       "      outputDiv = document.getElementById(\"altair-viz-b145c545341148bfb56f5594c25fb0e9\");\n",
       "    }\n",
       "    const paths = {\n",
       "      \"vega\": \"https://cdn.jsdelivr.net/npm//vega@5?noext\",\n",
       "      \"vega-lib\": \"https://cdn.jsdelivr.net/npm//vega-lib?noext\",\n",
       "      \"vega-lite\": \"https://cdn.jsdelivr.net/npm//vega-lite@4.8.1?noext\",\n",
       "      \"vega-embed\": \"https://cdn.jsdelivr.net/npm//vega-embed@6?noext\",\n",
       "    };\n",
       "\n",
       "    function loadScript(lib) {\n",
       "      return new Promise(function(resolve, reject) {\n",
       "        var s = document.createElement('script');\n",
       "        s.src = paths[lib];\n",
       "        s.async = true;\n",
       "        s.onload = () => resolve(paths[lib]);\n",
       "        s.onerror = () => reject(`Error loading script: ${paths[lib]}`);\n",
       "        document.getElementsByTagName(\"head\")[0].appendChild(s);\n",
       "      });\n",
       "    }\n",
       "\n",
       "    function showError(err) {\n",
       "      outputDiv.innerHTML = `<div class=\"error\" style=\"color:red;\">${err}</div>`;\n",
       "      throw err;\n",
       "    }\n",
       "\n",
       "    function displayChart(vegaEmbed) {\n",
       "      vegaEmbed(outputDiv, spec, embedOpt)\n",
       "        .catch(err => showError(`Javascript Error: ${err.message}<br>This usually means there's a typo in your chart specification. See the javascript console for the full traceback.`));\n",
       "    }\n",
       "\n",
       "    if(typeof define === \"function\" && define.amd) {\n",
       "      requirejs.config({paths});\n",
       "      require([\"vega-embed\"], displayChart, err => showError(`Error loading script: ${err.message}`));\n",
       "    } else if (typeof vegaEmbed === \"function\") {\n",
       "      displayChart(vegaEmbed);\n",
       "    } else {\n",
       "      loadScript(\"vega\")\n",
       "        .then(() => loadScript(\"vega-lite\"))\n",
       "        .then(() => loadScript(\"vega-embed\"))\n",
       "        .catch(showError)\n",
       "        .then(() => displayChart(vegaEmbed));\n",
       "    }\n",
       "  })({\"config\": {\"view\": {\"continuousWidth\": 400, \"continuousHeight\": 300}}, \"data\": {\"name\": \"data-fdeb0b749a6385830bd1445d39ad6ea0\"}, \"mark\": \"point\", \"encoding\": {\"x\": {\"type\": \"quantitative\", \"field\": \"fertility\"}, \"y\": {\"type\": \"ordinal\", \"field\": \"cluster\"}}, \"$schema\": \"https://vega.github.io/schema/vega-lite/v4.8.1.json\", \"datasets\": {\"data-fdeb0b749a6385830bd1445d39ad6ea0\": [{\"year\": 2000, \"country\": \"Afghanistan\", \"cluster\": 0, \"pop\": 23898198, \"life_expect\": 42.129, \"fertility\": 7.4792}, {\"year\": 2000, \"country\": \"Argentina\", \"cluster\": 3, \"pop\": 37497728, \"life_expect\": 74.34, \"fertility\": 2.35}, {\"year\": 2000, \"country\": \"Aruba\", \"cluster\": 3, \"pop\": 69539, \"life_expect\": 73.451, \"fertility\": 2.124}, {\"year\": 2000, \"country\": \"Australia\", \"cluster\": 4, \"pop\": 19164620, \"life_expect\": 80.37, \"fertility\": 1.756}, {\"year\": 2000, \"country\": \"Austria\", \"cluster\": 1, \"pop\": 8113413, \"life_expect\": 78.98, \"fertility\": 1.3820000000000001}, {\"year\": 2000, \"country\": \"Bahamas\", \"cluster\": 3, \"pop\": 290075, \"life_expect\": 71.068, \"fertility\": 2.1111}, {\"year\": 2000, \"country\": \"Bangladesh\", \"cluster\": 0, \"pop\": 130406594, \"life_expect\": 62.013, \"fertility\": 3.224}, {\"year\": 2000, \"country\": \"Barbados\", \"cluster\": 3, \"pop\": 273483, \"life_expect\": 75.97, \"fertility\": 1.5}, {\"year\": 2000, \"country\": \"Belgium\", \"cluster\": 1, \"pop\": 10263618, \"life_expect\": 78.32, \"fertility\": 1.638}, {\"year\": 2000, \"country\": \"Bolivia\", \"cluster\": 3, \"pop\": 8152620, \"life_expect\": 63.883, \"fertility\": 3.9585}, {\"year\": 2000, \"country\": \"Brazil\", \"cluster\": 3, \"pop\": 175552771, \"life_expect\": 71.006, \"fertility\": 2.345}, {\"year\": 2000, \"country\": \"Canada\", \"cluster\": 3, \"pop\": 31278097, \"life_expect\": 79.77, \"fertility\": 1.522}, {\"year\": 2000, \"country\": \"Chile\", \"cluster\": 3, \"pop\": 15153450, \"life_expect\": 77.86, \"fertility\": 2.0}, {\"year\": 2000, \"country\": \"China\", \"cluster\": 4, \"pop\": 1262645000, \"life_expect\": 72.028, \"fertility\": 1.7000000000000002}, {\"year\": 2000, \"country\": \"Colombia\", \"cluster\": 3, \"pop\": 39685655, \"life_expect\": 71.682, \"fertility\": 2.4705}, {\"year\": 2000, \"country\": \"Costa Rica\", \"cluster\": 3, \"pop\": 3710558, \"life_expect\": 78.123, \"fertility\": 2.2815}, {\"year\": 2000, \"country\": \"Croatia\", \"cluster\": 1, \"pop\": 4410830, \"life_expect\": 74.876, \"fertility\": 1.348}, {\"year\": 2000, \"country\": \"Cuba\", \"cluster\": 3, \"pop\": 11134273, \"life_expect\": 77.158, \"fertility\": 1.63}, {\"year\": 2000, \"country\": \"Dominican Republic\", \"cluster\": 3, \"pop\": 8385828, \"life_expect\": 70.847, \"fertility\": 2.95}, {\"year\": 2000, \"country\": \"Ecuador\", \"cluster\": 3, \"pop\": 12505204, \"life_expect\": 74.173, \"fertility\": 2.8175}, {\"year\": 2000, \"country\": \"Egypt\", \"cluster\": 5, \"pop\": 70492342, \"life_expect\": 69.806, \"fertility\": 3.174}, {\"year\": 2000, \"country\": \"El Salvador\", \"cluster\": 3, \"pop\": 6122515, \"life_expect\": 70.734, \"fertility\": 2.883}, {\"year\": 2000, \"country\": \"Finland\", \"cluster\": 1, \"pop\": 5168595, \"life_expect\": 78.37, \"fertility\": 1.754}, {\"year\": 2000, \"country\": \"France\", \"cluster\": 1, \"pop\": 59381628, \"life_expect\": 79.59, \"fertility\": 1.8833000000000002}, {\"year\": 2000, \"country\": \"Georgia\", \"cluster\": 1, \"pop\": 4777209, \"life_expect\": 70.476, \"fertility\": 1.478}, {\"year\": 2000, \"country\": \"Germany\", \"cluster\": 1, \"pop\": 82187909, \"life_expect\": 78.67, \"fertility\": 1.346}, {\"year\": 2000, \"country\": \"Greece\", \"cluster\": 1, \"pop\": 10559110, \"life_expect\": 78.256, \"fertility\": 1.2770000000000001}, {\"year\": 2000, \"country\": \"Grenada\", \"cluster\": 3, \"pop\": 89312, \"life_expect\": 67.746, \"fertility\": 2.429}, {\"year\": 2000, \"country\": \"Haiti\", \"cluster\": 3, \"pop\": 7306302, \"life_expect\": 58.137, \"fertility\": 4.0}, {\"year\": 2000, \"country\": \"Hong Kong\", \"cluster\": 4, \"pop\": 6658720, \"life_expect\": 81.495, \"fertility\": 0.9400000000000001}, {\"year\": 2000, \"country\": \"Iceland\", \"cluster\": 1, \"pop\": 281043, \"life_expect\": 80.5, \"fertility\": 1.9929999999999999}, {\"year\": 2000, \"country\": \"India\", \"cluster\": 0, \"pop\": 1007702000, \"life_expect\": 62.879, \"fertility\": 3.1132}, {\"year\": 2000, \"country\": \"Indonesia\", \"cluster\": 4, \"pop\": 206265000, \"life_expect\": 68.588, \"fertility\": 2.3761}, {\"year\": 2000, \"country\": \"Iran\", \"cluster\": 5, \"pop\": 65660289, \"life_expect\": 69.451, \"fertility\": 2.124}, {\"year\": 2000, \"country\": \"Iraq\", \"cluster\": 5, \"pop\": 22675617, \"life_expect\": 57.046, \"fertility\": 4.858}, {\"year\": 2000, \"country\": \"Ireland\", \"cluster\": 1, \"pop\": 3791690, \"life_expect\": 77.783, \"fertility\": 1.9689999999999999}, {\"year\": 2000, \"country\": \"Israel\", \"cluster\": 5, \"pop\": 5842454, \"life_expect\": 79.696, \"fertility\": 2.906}, {\"year\": 2000, \"country\": \"Italy\", \"cluster\": 1, \"pop\": 57719337, \"life_expect\": 80.24, \"fertility\": 1.286}, {\"year\": 2000, \"country\": \"Jamaica\", \"cluster\": 3, \"pop\": 2615467, \"life_expect\": 72.047, \"fertility\": 2.628}, {\"year\": 2000, \"country\": \"Japan\", \"cluster\": 4, \"pop\": 126699784, \"life_expect\": 82.0, \"fertility\": 1.291}, {\"year\": 2000, \"country\": \"Kenya\", \"cluster\": 2, \"pop\": 29985839, \"life_expect\": 50.992, \"fertility\": 5.0}, {\"year\": 2000, \"country\": \"South Korea\", \"cluster\": 4, \"pop\": 21647682, \"life_expect\": 66.662, \"fertility\": 1.9173}, {\"year\": 2000, \"country\": \"North Korea\", \"cluster\": 4, \"pop\": 47351083, \"life_expect\": 77.045, \"fertility\": 1.242}, {\"year\": 2000, \"country\": \"Lebanon\", \"cluster\": 5, \"pop\": 3578036, \"life_expect\": 71.028, \"fertility\": 2.319}, {\"year\": 2000, \"country\": \"Mexico\", \"cluster\": 3, \"pop\": 99926620, \"life_expect\": 74.902, \"fertility\": 2.4005}, {\"year\": 2000, \"country\": \"Netherlands\", \"cluster\": 1, \"pop\": 15907853, \"life_expect\": 78.53, \"fertility\": 1.726}, {\"year\": 2000, \"country\": \"New Zealand\", \"cluster\": 4, \"pop\": 3819762, \"life_expect\": 79.11, \"fertility\": 1.964}, {\"year\": 2000, \"country\": \"Nigeria\", \"cluster\": 2, \"pop\": 114306700, \"life_expect\": 46.608, \"fertility\": 5.845}, {\"year\": 2000, \"country\": \"Norway\", \"cluster\": 1, \"pop\": 4492400, \"life_expect\": 79.05, \"fertility\": 1.8010000000000002}, {\"year\": 2000, \"country\": \"Pakistan\", \"cluster\": 0, \"pop\": 146342958, \"life_expect\": 63.61, \"fertility\": 3.9936}, {\"year\": 2000, \"country\": \"Peru\", \"cluster\": 3, \"pop\": 25979722, \"life_expect\": 69.906, \"fertility\": 2.7005}, {\"year\": 2000, \"country\": \"Philippines\", \"cluster\": 4, \"pop\": 79739825, \"life_expect\": 70.303, \"fertility\": 3.5436}, {\"year\": 2000, \"country\": \"Poland\", \"cluster\": 1, \"pop\": 38654164, \"life_expect\": 74.67, \"fertility\": 1.251}, {\"year\": 2000, \"country\": \"Portugal\", \"cluster\": 1, \"pop\": 10335597, \"life_expect\": 77.29, \"fertility\": 1.454}, {\"year\": 2000, \"country\": \"Rwanda\", \"cluster\": 2, \"pop\": 7507056, \"life_expect\": 43.413, \"fertility\": 6.01}, {\"year\": 2000, \"country\": \"Saudi Arabia\", \"cluster\": 5, \"pop\": 23153090, \"life_expect\": 71.626, \"fertility\": 3.81}, {\"year\": 2000, \"country\": \"South Africa\", \"cluster\": 2, \"pop\": 44066197, \"life_expect\": 53.365, \"fertility\": 2.802}, {\"year\": 2000, \"country\": \"Spain\", \"cluster\": 1, \"pop\": 40016081, \"life_expect\": 79.78, \"fertility\": 1.287}, {\"year\": 2000, \"country\": \"Switzerland\", \"cluster\": 1, \"pop\": 7266920, \"life_expect\": 80.62, \"fertility\": 1.415}, {\"year\": 2000, \"country\": \"Turkey\", \"cluster\": 1, \"pop\": 65666677, \"life_expect\": 70.845, \"fertility\": 2.23}, {\"year\": 2000, \"country\": \"United Kingdom\", \"cluster\": 1, \"pop\": 59522468, \"life_expect\": 78.471, \"fertility\": 1.695}, {\"year\": 2000, \"country\": \"United States\", \"cluster\": 3, \"pop\": 282338631, \"life_expect\": 77.31, \"fertility\": 2.038}, {\"year\": 2000, \"country\": \"Venezuela\", \"cluster\": 3, \"pop\": 23542649, \"life_expect\": 72.766, \"fertility\": 2.723}]}}, {\"mode\": \"vega-lite\"});\n",
       "</script>"
      ],
      "text/plain": [
       "alt.Chart(...)"
      ]
     },
     "execution_count": 8,
     "metadata": {},
     "output_type": "execute_result"
    }
   ],
   "source": [
    "alt.Chart(data2000).mark_point().encode(\n",
    "    alt.X('fertility:Q'),\n",
    "    alt.Y('cluster:O')\n",
    ")"
   ]
  },
  {
   "cell_type": "markdown",
   "metadata": {
    "colab_type": "text",
    "id": "2BQetZgvc0f_"
   },
   "source": [
    "_What happens to the chart above if you swap the `O` and `Q` field types?_\n",
    "\n",
    "If we instead add the `life_expect` field as a quantitative (`Q`) variable, the result is a scatter plot with linear scales for both axes:"
   ]
  },
  {
   "cell_type": "code",
   "execution_count": 10,
   "metadata": {
    "colab": {
     "base_uri": "https://localhost:8080/",
     "height": 372
    },
    "colab_type": "code",
    "id": "n8PJhH6jN68w",
    "outputId": "ac41eaeb-4872-48db-ddf1-ab6b5c84f387"
   },
   "outputs": [
    {
     "data": {
      "text/html": [
       "\n",
       "<div id=\"altair-viz-6dedf42d2e554f7695f2a85be5bf4433\"></div>\n",
       "<script type=\"text/javascript\">\n",
       "  (function(spec, embedOpt){\n",
       "    let outputDiv = document.currentScript.previousElementSibling;\n",
       "    if (outputDiv.id !== \"altair-viz-6dedf42d2e554f7695f2a85be5bf4433\") {\n",
       "      outputDiv = document.getElementById(\"altair-viz-6dedf42d2e554f7695f2a85be5bf4433\");\n",
       "    }\n",
       "    const paths = {\n",
       "      \"vega\": \"https://cdn.jsdelivr.net/npm//vega@5?noext\",\n",
       "      \"vega-lib\": \"https://cdn.jsdelivr.net/npm//vega-lib?noext\",\n",
       "      \"vega-lite\": \"https://cdn.jsdelivr.net/npm//vega-lite@4.8.1?noext\",\n",
       "      \"vega-embed\": \"https://cdn.jsdelivr.net/npm//vega-embed@6?noext\",\n",
       "    };\n",
       "\n",
       "    function loadScript(lib) {\n",
       "      return new Promise(function(resolve, reject) {\n",
       "        var s = document.createElement('script');\n",
       "        s.src = paths[lib];\n",
       "        s.async = true;\n",
       "        s.onload = () => resolve(paths[lib]);\n",
       "        s.onerror = () => reject(`Error loading script: ${paths[lib]}`);\n",
       "        document.getElementsByTagName(\"head\")[0].appendChild(s);\n",
       "      });\n",
       "    }\n",
       "\n",
       "    function showError(err) {\n",
       "      outputDiv.innerHTML = `<div class=\"error\" style=\"color:red;\">${err}</div>`;\n",
       "      throw err;\n",
       "    }\n",
       "\n",
       "    function displayChart(vegaEmbed) {\n",
       "      vegaEmbed(outputDiv, spec, embedOpt)\n",
       "        .catch(err => showError(`Javascript Error: ${err.message}<br>This usually means there's a typo in your chart specification. See the javascript console for the full traceback.`));\n",
       "    }\n",
       "\n",
       "    if(typeof define === \"function\" && define.amd) {\n",
       "      requirejs.config({paths});\n",
       "      require([\"vega-embed\"], displayChart, err => showError(`Error loading script: ${err.message}`));\n",
       "    } else if (typeof vegaEmbed === \"function\") {\n",
       "      displayChart(vegaEmbed);\n",
       "    } else {\n",
       "      loadScript(\"vega\")\n",
       "        .then(() => loadScript(\"vega-lite\"))\n",
       "        .then(() => loadScript(\"vega-embed\"))\n",
       "        .catch(showError)\n",
       "        .then(() => displayChart(vegaEmbed));\n",
       "    }\n",
       "  })({\"config\": {\"view\": {\"continuousWidth\": 400, \"continuousHeight\": 300}}, \"data\": {\"name\": \"data-fdeb0b749a6385830bd1445d39ad6ea0\"}, \"mark\": \"point\", \"encoding\": {\"x\": {\"type\": \"quantitative\", \"field\": \"fertility\"}, \"y\": {\"type\": \"quantitative\", \"field\": \"life_expect\"}}, \"$schema\": \"https://vega.github.io/schema/vega-lite/v4.8.1.json\", \"datasets\": {\"data-fdeb0b749a6385830bd1445d39ad6ea0\": [{\"year\": 2000, \"country\": \"Afghanistan\", \"cluster\": 0, \"pop\": 23898198, \"life_expect\": 42.129, \"fertility\": 7.4792}, {\"year\": 2000, \"country\": \"Argentina\", \"cluster\": 3, \"pop\": 37497728, \"life_expect\": 74.34, \"fertility\": 2.35}, {\"year\": 2000, \"country\": \"Aruba\", \"cluster\": 3, \"pop\": 69539, \"life_expect\": 73.451, \"fertility\": 2.124}, {\"year\": 2000, \"country\": \"Australia\", \"cluster\": 4, \"pop\": 19164620, \"life_expect\": 80.37, \"fertility\": 1.756}, {\"year\": 2000, \"country\": \"Austria\", \"cluster\": 1, \"pop\": 8113413, \"life_expect\": 78.98, \"fertility\": 1.3820000000000001}, {\"year\": 2000, \"country\": \"Bahamas\", \"cluster\": 3, \"pop\": 290075, \"life_expect\": 71.068, \"fertility\": 2.1111}, {\"year\": 2000, \"country\": \"Bangladesh\", \"cluster\": 0, \"pop\": 130406594, \"life_expect\": 62.013, \"fertility\": 3.224}, {\"year\": 2000, \"country\": \"Barbados\", \"cluster\": 3, \"pop\": 273483, \"life_expect\": 75.97, \"fertility\": 1.5}, {\"year\": 2000, \"country\": \"Belgium\", \"cluster\": 1, \"pop\": 10263618, \"life_expect\": 78.32, \"fertility\": 1.638}, {\"year\": 2000, \"country\": \"Bolivia\", \"cluster\": 3, \"pop\": 8152620, \"life_expect\": 63.883, \"fertility\": 3.9585}, {\"year\": 2000, \"country\": \"Brazil\", \"cluster\": 3, \"pop\": 175552771, \"life_expect\": 71.006, \"fertility\": 2.345}, {\"year\": 2000, \"country\": \"Canada\", \"cluster\": 3, \"pop\": 31278097, \"life_expect\": 79.77, \"fertility\": 1.522}, {\"year\": 2000, \"country\": \"Chile\", \"cluster\": 3, \"pop\": 15153450, \"life_expect\": 77.86, \"fertility\": 2.0}, {\"year\": 2000, \"country\": \"China\", \"cluster\": 4, \"pop\": 1262645000, \"life_expect\": 72.028, \"fertility\": 1.7000000000000002}, {\"year\": 2000, \"country\": \"Colombia\", \"cluster\": 3, \"pop\": 39685655, \"life_expect\": 71.682, \"fertility\": 2.4705}, {\"year\": 2000, \"country\": \"Costa Rica\", \"cluster\": 3, \"pop\": 3710558, \"life_expect\": 78.123, \"fertility\": 2.2815}, {\"year\": 2000, \"country\": \"Croatia\", \"cluster\": 1, \"pop\": 4410830, \"life_expect\": 74.876, \"fertility\": 1.348}, {\"year\": 2000, \"country\": \"Cuba\", \"cluster\": 3, \"pop\": 11134273, \"life_expect\": 77.158, \"fertility\": 1.63}, {\"year\": 2000, \"country\": \"Dominican Republic\", \"cluster\": 3, \"pop\": 8385828, \"life_expect\": 70.847, \"fertility\": 2.95}, {\"year\": 2000, \"country\": \"Ecuador\", \"cluster\": 3, \"pop\": 12505204, \"life_expect\": 74.173, \"fertility\": 2.8175}, {\"year\": 2000, \"country\": \"Egypt\", \"cluster\": 5, \"pop\": 70492342, \"life_expect\": 69.806, \"fertility\": 3.174}, {\"year\": 2000, \"country\": \"El Salvador\", \"cluster\": 3, \"pop\": 6122515, \"life_expect\": 70.734, \"fertility\": 2.883}, {\"year\": 2000, \"country\": \"Finland\", \"cluster\": 1, \"pop\": 5168595, \"life_expect\": 78.37, \"fertility\": 1.754}, {\"year\": 2000, \"country\": \"France\", \"cluster\": 1, \"pop\": 59381628, \"life_expect\": 79.59, \"fertility\": 1.8833000000000002}, {\"year\": 2000, \"country\": \"Georgia\", \"cluster\": 1, \"pop\": 4777209, \"life_expect\": 70.476, \"fertility\": 1.478}, {\"year\": 2000, \"country\": \"Germany\", \"cluster\": 1, \"pop\": 82187909, \"life_expect\": 78.67, \"fertility\": 1.346}, {\"year\": 2000, \"country\": \"Greece\", \"cluster\": 1, \"pop\": 10559110, \"life_expect\": 78.256, \"fertility\": 1.2770000000000001}, {\"year\": 2000, \"country\": \"Grenada\", \"cluster\": 3, \"pop\": 89312, \"life_expect\": 67.746, \"fertility\": 2.429}, {\"year\": 2000, \"country\": \"Haiti\", \"cluster\": 3, \"pop\": 7306302, \"life_expect\": 58.137, \"fertility\": 4.0}, {\"year\": 2000, \"country\": \"Hong Kong\", \"cluster\": 4, \"pop\": 6658720, \"life_expect\": 81.495, \"fertility\": 0.9400000000000001}, {\"year\": 2000, \"country\": \"Iceland\", \"cluster\": 1, \"pop\": 281043, \"life_expect\": 80.5, \"fertility\": 1.9929999999999999}, {\"year\": 2000, \"country\": \"India\", \"cluster\": 0, \"pop\": 1007702000, \"life_expect\": 62.879, \"fertility\": 3.1132}, {\"year\": 2000, \"country\": \"Indonesia\", \"cluster\": 4, \"pop\": 206265000, \"life_expect\": 68.588, \"fertility\": 2.3761}, {\"year\": 2000, \"country\": \"Iran\", \"cluster\": 5, \"pop\": 65660289, \"life_expect\": 69.451, \"fertility\": 2.124}, {\"year\": 2000, \"country\": \"Iraq\", \"cluster\": 5, \"pop\": 22675617, \"life_expect\": 57.046, \"fertility\": 4.858}, {\"year\": 2000, \"country\": \"Ireland\", \"cluster\": 1, \"pop\": 3791690, \"life_expect\": 77.783, \"fertility\": 1.9689999999999999}, {\"year\": 2000, \"country\": \"Israel\", \"cluster\": 5, \"pop\": 5842454, \"life_expect\": 79.696, \"fertility\": 2.906}, {\"year\": 2000, \"country\": \"Italy\", \"cluster\": 1, \"pop\": 57719337, \"life_expect\": 80.24, \"fertility\": 1.286}, {\"year\": 2000, \"country\": \"Jamaica\", \"cluster\": 3, \"pop\": 2615467, \"life_expect\": 72.047, \"fertility\": 2.628}, {\"year\": 2000, \"country\": \"Japan\", \"cluster\": 4, \"pop\": 126699784, \"life_expect\": 82.0, \"fertility\": 1.291}, {\"year\": 2000, \"country\": \"Kenya\", \"cluster\": 2, \"pop\": 29985839, \"life_expect\": 50.992, \"fertility\": 5.0}, {\"year\": 2000, \"country\": \"South Korea\", \"cluster\": 4, \"pop\": 21647682, \"life_expect\": 66.662, \"fertility\": 1.9173}, {\"year\": 2000, \"country\": \"North Korea\", \"cluster\": 4, \"pop\": 47351083, \"life_expect\": 77.045, \"fertility\": 1.242}, {\"year\": 2000, \"country\": \"Lebanon\", \"cluster\": 5, \"pop\": 3578036, \"life_expect\": 71.028, \"fertility\": 2.319}, {\"year\": 2000, \"country\": \"Mexico\", \"cluster\": 3, \"pop\": 99926620, \"life_expect\": 74.902, \"fertility\": 2.4005}, {\"year\": 2000, \"country\": \"Netherlands\", \"cluster\": 1, \"pop\": 15907853, \"life_expect\": 78.53, \"fertility\": 1.726}, {\"year\": 2000, \"country\": \"New Zealand\", \"cluster\": 4, \"pop\": 3819762, \"life_expect\": 79.11, \"fertility\": 1.964}, {\"year\": 2000, \"country\": \"Nigeria\", \"cluster\": 2, \"pop\": 114306700, \"life_expect\": 46.608, \"fertility\": 5.845}, {\"year\": 2000, \"country\": \"Norway\", \"cluster\": 1, \"pop\": 4492400, \"life_expect\": 79.05, \"fertility\": 1.8010000000000002}, {\"year\": 2000, \"country\": \"Pakistan\", \"cluster\": 0, \"pop\": 146342958, \"life_expect\": 63.61, \"fertility\": 3.9936}, {\"year\": 2000, \"country\": \"Peru\", \"cluster\": 3, \"pop\": 25979722, \"life_expect\": 69.906, \"fertility\": 2.7005}, {\"year\": 2000, \"country\": \"Philippines\", \"cluster\": 4, \"pop\": 79739825, \"life_expect\": 70.303, \"fertility\": 3.5436}, {\"year\": 2000, \"country\": \"Poland\", \"cluster\": 1, \"pop\": 38654164, \"life_expect\": 74.67, \"fertility\": 1.251}, {\"year\": 2000, \"country\": \"Portugal\", \"cluster\": 1, \"pop\": 10335597, \"life_expect\": 77.29, \"fertility\": 1.454}, {\"year\": 2000, \"country\": \"Rwanda\", \"cluster\": 2, \"pop\": 7507056, \"life_expect\": 43.413, \"fertility\": 6.01}, {\"year\": 2000, \"country\": \"Saudi Arabia\", \"cluster\": 5, \"pop\": 23153090, \"life_expect\": 71.626, \"fertility\": 3.81}, {\"year\": 2000, \"country\": \"South Africa\", \"cluster\": 2, \"pop\": 44066197, \"life_expect\": 53.365, \"fertility\": 2.802}, {\"year\": 2000, \"country\": \"Spain\", \"cluster\": 1, \"pop\": 40016081, \"life_expect\": 79.78, \"fertility\": 1.287}, {\"year\": 2000, \"country\": \"Switzerland\", \"cluster\": 1, \"pop\": 7266920, \"life_expect\": 80.62, \"fertility\": 1.415}, {\"year\": 2000, \"country\": \"Turkey\", \"cluster\": 1, \"pop\": 65666677, \"life_expect\": 70.845, \"fertility\": 2.23}, {\"year\": 2000, \"country\": \"United Kingdom\", \"cluster\": 1, \"pop\": 59522468, \"life_expect\": 78.471, \"fertility\": 1.695}, {\"year\": 2000, \"country\": \"United States\", \"cluster\": 3, \"pop\": 282338631, \"life_expect\": 77.31, \"fertility\": 2.038}, {\"year\": 2000, \"country\": \"Venezuela\", \"cluster\": 3, \"pop\": 23542649, \"life_expect\": 72.766, \"fertility\": 2.723}]}}, {\"mode\": \"vega-lite\"});\n",
       "</script>"
      ],
      "text/plain": [
       "alt.Chart(...)"
      ]
     },
     "execution_count": 9,
     "metadata": {},
     "output_type": "execute_result"
    }
   ],
   "source": [
    "alt.Chart(data2000).mark_point().encode(\n",
    "    alt.X('fertility:Q'),\n",
    "    alt.Y('life_expect:Q')\n",
    ")"
   ]
  },
  {
   "cell_type": "markdown",
   "metadata": {
    "colab_type": "text",
    "id": "GUKc1DEDTbA0"
   },
   "source": [
    "By default, axes for linear quantitative scales include zero to ensure a proper baseline for comparing ratio-valued data. In some cases, however, a zero baseline may be meaningless or you may want to focus on interval comparisons. To disable automatic inclusion of zero, configure the scale mapping using the encoding `scale` attribute:"
   ]
  },
  {
   "cell_type": "code",
   "execution_count": 11,
   "metadata": {
    "colab": {
     "base_uri": "https://localhost:8080/",
     "height": 372
    },
    "colab_type": "code",
    "id": "-6klI5DhSdik",
    "outputId": "8cb0ca55-176b-4d2f-8891-2c124276e429"
   },
   "outputs": [
    {
     "data": {
      "text/html": [
       "\n",
       "<div id=\"altair-viz-b42c8a914f734f6d85de2b71757687d0\"></div>\n",
       "<script type=\"text/javascript\">\n",
       "  (function(spec, embedOpt){\n",
       "    let outputDiv = document.currentScript.previousElementSibling;\n",
       "    if (outputDiv.id !== \"altair-viz-b42c8a914f734f6d85de2b71757687d0\") {\n",
       "      outputDiv = document.getElementById(\"altair-viz-b42c8a914f734f6d85de2b71757687d0\");\n",
       "    }\n",
       "    const paths = {\n",
       "      \"vega\": \"https://cdn.jsdelivr.net/npm//vega@5?noext\",\n",
       "      \"vega-lib\": \"https://cdn.jsdelivr.net/npm//vega-lib?noext\",\n",
       "      \"vega-lite\": \"https://cdn.jsdelivr.net/npm//vega-lite@4.8.1?noext\",\n",
       "      \"vega-embed\": \"https://cdn.jsdelivr.net/npm//vega-embed@6?noext\",\n",
       "    };\n",
       "\n",
       "    function loadScript(lib) {\n",
       "      return new Promise(function(resolve, reject) {\n",
       "        var s = document.createElement('script');\n",
       "        s.src = paths[lib];\n",
       "        s.async = true;\n",
       "        s.onload = () => resolve(paths[lib]);\n",
       "        s.onerror = () => reject(`Error loading script: ${paths[lib]}`);\n",
       "        document.getElementsByTagName(\"head\")[0].appendChild(s);\n",
       "      });\n",
       "    }\n",
       "\n",
       "    function showError(err) {\n",
       "      outputDiv.innerHTML = `<div class=\"error\" style=\"color:red;\">${err}</div>`;\n",
       "      throw err;\n",
       "    }\n",
       "\n",
       "    function displayChart(vegaEmbed) {\n",
       "      vegaEmbed(outputDiv, spec, embedOpt)\n",
       "        .catch(err => showError(`Javascript Error: ${err.message}<br>This usually means there's a typo in your chart specification. See the javascript console for the full traceback.`));\n",
       "    }\n",
       "\n",
       "    if(typeof define === \"function\" && define.amd) {\n",
       "      requirejs.config({paths});\n",
       "      require([\"vega-embed\"], displayChart, err => showError(`Error loading script: ${err.message}`));\n",
       "    } else if (typeof vegaEmbed === \"function\") {\n",
       "      displayChart(vegaEmbed);\n",
       "    } else {\n",
       "      loadScript(\"vega\")\n",
       "        .then(() => loadScript(\"vega-lite\"))\n",
       "        .then(() => loadScript(\"vega-embed\"))\n",
       "        .catch(showError)\n",
       "        .then(() => displayChart(vegaEmbed));\n",
       "    }\n",
       "  })({\"config\": {\"view\": {\"continuousWidth\": 400, \"continuousHeight\": 300}}, \"data\": {\"name\": \"data-fdeb0b749a6385830bd1445d39ad6ea0\"}, \"mark\": \"point\", \"encoding\": {\"x\": {\"type\": \"quantitative\", \"field\": \"fertility\", \"scale\": {\"zero\": false}}, \"y\": {\"type\": \"quantitative\", \"field\": \"life_expect\", \"scale\": {\"zero\": false}}}, \"$schema\": \"https://vega.github.io/schema/vega-lite/v4.8.1.json\", \"datasets\": {\"data-fdeb0b749a6385830bd1445d39ad6ea0\": [{\"year\": 2000, \"country\": \"Afghanistan\", \"cluster\": 0, \"pop\": 23898198, \"life_expect\": 42.129, \"fertility\": 7.4792}, {\"year\": 2000, \"country\": \"Argentina\", \"cluster\": 3, \"pop\": 37497728, \"life_expect\": 74.34, \"fertility\": 2.35}, {\"year\": 2000, \"country\": \"Aruba\", \"cluster\": 3, \"pop\": 69539, \"life_expect\": 73.451, \"fertility\": 2.124}, {\"year\": 2000, \"country\": \"Australia\", \"cluster\": 4, \"pop\": 19164620, \"life_expect\": 80.37, \"fertility\": 1.756}, {\"year\": 2000, \"country\": \"Austria\", \"cluster\": 1, \"pop\": 8113413, \"life_expect\": 78.98, \"fertility\": 1.3820000000000001}, {\"year\": 2000, \"country\": \"Bahamas\", \"cluster\": 3, \"pop\": 290075, \"life_expect\": 71.068, \"fertility\": 2.1111}, {\"year\": 2000, \"country\": \"Bangladesh\", \"cluster\": 0, \"pop\": 130406594, \"life_expect\": 62.013, \"fertility\": 3.224}, {\"year\": 2000, \"country\": \"Barbados\", \"cluster\": 3, \"pop\": 273483, \"life_expect\": 75.97, \"fertility\": 1.5}, {\"year\": 2000, \"country\": \"Belgium\", \"cluster\": 1, \"pop\": 10263618, \"life_expect\": 78.32, \"fertility\": 1.638}, {\"year\": 2000, \"country\": \"Bolivia\", \"cluster\": 3, \"pop\": 8152620, \"life_expect\": 63.883, \"fertility\": 3.9585}, {\"year\": 2000, \"country\": \"Brazil\", \"cluster\": 3, \"pop\": 175552771, \"life_expect\": 71.006, \"fertility\": 2.345}, {\"year\": 2000, \"country\": \"Canada\", \"cluster\": 3, \"pop\": 31278097, \"life_expect\": 79.77, \"fertility\": 1.522}, {\"year\": 2000, \"country\": \"Chile\", \"cluster\": 3, \"pop\": 15153450, \"life_expect\": 77.86, \"fertility\": 2.0}, {\"year\": 2000, \"country\": \"China\", \"cluster\": 4, \"pop\": 1262645000, \"life_expect\": 72.028, \"fertility\": 1.7000000000000002}, {\"year\": 2000, \"country\": \"Colombia\", \"cluster\": 3, \"pop\": 39685655, \"life_expect\": 71.682, \"fertility\": 2.4705}, {\"year\": 2000, \"country\": \"Costa Rica\", \"cluster\": 3, \"pop\": 3710558, \"life_expect\": 78.123, \"fertility\": 2.2815}, {\"year\": 2000, \"country\": \"Croatia\", \"cluster\": 1, \"pop\": 4410830, \"life_expect\": 74.876, \"fertility\": 1.348}, {\"year\": 2000, \"country\": \"Cuba\", \"cluster\": 3, \"pop\": 11134273, \"life_expect\": 77.158, \"fertility\": 1.63}, {\"year\": 2000, \"country\": \"Dominican Republic\", \"cluster\": 3, \"pop\": 8385828, \"life_expect\": 70.847, \"fertility\": 2.95}, {\"year\": 2000, \"country\": \"Ecuador\", \"cluster\": 3, \"pop\": 12505204, \"life_expect\": 74.173, \"fertility\": 2.8175}, {\"year\": 2000, \"country\": \"Egypt\", \"cluster\": 5, \"pop\": 70492342, \"life_expect\": 69.806, \"fertility\": 3.174}, {\"year\": 2000, \"country\": \"El Salvador\", \"cluster\": 3, \"pop\": 6122515, \"life_expect\": 70.734, \"fertility\": 2.883}, {\"year\": 2000, \"country\": \"Finland\", \"cluster\": 1, \"pop\": 5168595, \"life_expect\": 78.37, \"fertility\": 1.754}, {\"year\": 2000, \"country\": \"France\", \"cluster\": 1, \"pop\": 59381628, \"life_expect\": 79.59, \"fertility\": 1.8833000000000002}, {\"year\": 2000, \"country\": \"Georgia\", \"cluster\": 1, \"pop\": 4777209, \"life_expect\": 70.476, \"fertility\": 1.478}, {\"year\": 2000, \"country\": \"Germany\", \"cluster\": 1, \"pop\": 82187909, \"life_expect\": 78.67, \"fertility\": 1.346}, {\"year\": 2000, \"country\": \"Greece\", \"cluster\": 1, \"pop\": 10559110, \"life_expect\": 78.256, \"fertility\": 1.2770000000000001}, {\"year\": 2000, \"country\": \"Grenada\", \"cluster\": 3, \"pop\": 89312, \"life_expect\": 67.746, \"fertility\": 2.429}, {\"year\": 2000, \"country\": \"Haiti\", \"cluster\": 3, \"pop\": 7306302, \"life_expect\": 58.137, \"fertility\": 4.0}, {\"year\": 2000, \"country\": \"Hong Kong\", \"cluster\": 4, \"pop\": 6658720, \"life_expect\": 81.495, \"fertility\": 0.9400000000000001}, {\"year\": 2000, \"country\": \"Iceland\", \"cluster\": 1, \"pop\": 281043, \"life_expect\": 80.5, \"fertility\": 1.9929999999999999}, {\"year\": 2000, \"country\": \"India\", \"cluster\": 0, \"pop\": 1007702000, \"life_expect\": 62.879, \"fertility\": 3.1132}, {\"year\": 2000, \"country\": \"Indonesia\", \"cluster\": 4, \"pop\": 206265000, \"life_expect\": 68.588, \"fertility\": 2.3761}, {\"year\": 2000, \"country\": \"Iran\", \"cluster\": 5, \"pop\": 65660289, \"life_expect\": 69.451, \"fertility\": 2.124}, {\"year\": 2000, \"country\": \"Iraq\", \"cluster\": 5, \"pop\": 22675617, \"life_expect\": 57.046, \"fertility\": 4.858}, {\"year\": 2000, \"country\": \"Ireland\", \"cluster\": 1, \"pop\": 3791690, \"life_expect\": 77.783, \"fertility\": 1.9689999999999999}, {\"year\": 2000, \"country\": \"Israel\", \"cluster\": 5, \"pop\": 5842454, \"life_expect\": 79.696, \"fertility\": 2.906}, {\"year\": 2000, \"country\": \"Italy\", \"cluster\": 1, \"pop\": 57719337, \"life_expect\": 80.24, \"fertility\": 1.286}, {\"year\": 2000, \"country\": \"Jamaica\", \"cluster\": 3, \"pop\": 2615467, \"life_expect\": 72.047, \"fertility\": 2.628}, {\"year\": 2000, \"country\": \"Japan\", \"cluster\": 4, \"pop\": 126699784, \"life_expect\": 82.0, \"fertility\": 1.291}, {\"year\": 2000, \"country\": \"Kenya\", \"cluster\": 2, \"pop\": 29985839, \"life_expect\": 50.992, \"fertility\": 5.0}, {\"year\": 2000, \"country\": \"South Korea\", \"cluster\": 4, \"pop\": 21647682, \"life_expect\": 66.662, \"fertility\": 1.9173}, {\"year\": 2000, \"country\": \"North Korea\", \"cluster\": 4, \"pop\": 47351083, \"life_expect\": 77.045, \"fertility\": 1.242}, {\"year\": 2000, \"country\": \"Lebanon\", \"cluster\": 5, \"pop\": 3578036, \"life_expect\": 71.028, \"fertility\": 2.319}, {\"year\": 2000, \"country\": \"Mexico\", \"cluster\": 3, \"pop\": 99926620, \"life_expect\": 74.902, \"fertility\": 2.4005}, {\"year\": 2000, \"country\": \"Netherlands\", \"cluster\": 1, \"pop\": 15907853, \"life_expect\": 78.53, \"fertility\": 1.726}, {\"year\": 2000, \"country\": \"New Zealand\", \"cluster\": 4, \"pop\": 3819762, \"life_expect\": 79.11, \"fertility\": 1.964}, {\"year\": 2000, \"country\": \"Nigeria\", \"cluster\": 2, \"pop\": 114306700, \"life_expect\": 46.608, \"fertility\": 5.845}, {\"year\": 2000, \"country\": \"Norway\", \"cluster\": 1, \"pop\": 4492400, \"life_expect\": 79.05, \"fertility\": 1.8010000000000002}, {\"year\": 2000, \"country\": \"Pakistan\", \"cluster\": 0, \"pop\": 146342958, \"life_expect\": 63.61, \"fertility\": 3.9936}, {\"year\": 2000, \"country\": \"Peru\", \"cluster\": 3, \"pop\": 25979722, \"life_expect\": 69.906, \"fertility\": 2.7005}, {\"year\": 2000, \"country\": \"Philippines\", \"cluster\": 4, \"pop\": 79739825, \"life_expect\": 70.303, \"fertility\": 3.5436}, {\"year\": 2000, \"country\": \"Poland\", \"cluster\": 1, \"pop\": 38654164, \"life_expect\": 74.67, \"fertility\": 1.251}, {\"year\": 2000, \"country\": \"Portugal\", \"cluster\": 1, \"pop\": 10335597, \"life_expect\": 77.29, \"fertility\": 1.454}, {\"year\": 2000, \"country\": \"Rwanda\", \"cluster\": 2, \"pop\": 7507056, \"life_expect\": 43.413, \"fertility\": 6.01}, {\"year\": 2000, \"country\": \"Saudi Arabia\", \"cluster\": 5, \"pop\": 23153090, \"life_expect\": 71.626, \"fertility\": 3.81}, {\"year\": 2000, \"country\": \"South Africa\", \"cluster\": 2, \"pop\": 44066197, \"life_expect\": 53.365, \"fertility\": 2.802}, {\"year\": 2000, \"country\": \"Spain\", \"cluster\": 1, \"pop\": 40016081, \"life_expect\": 79.78, \"fertility\": 1.287}, {\"year\": 2000, \"country\": \"Switzerland\", \"cluster\": 1, \"pop\": 7266920, \"life_expect\": 80.62, \"fertility\": 1.415}, {\"year\": 2000, \"country\": \"Turkey\", \"cluster\": 1, \"pop\": 65666677, \"life_expect\": 70.845, \"fertility\": 2.23}, {\"year\": 2000, \"country\": \"United Kingdom\", \"cluster\": 1, \"pop\": 59522468, \"life_expect\": 78.471, \"fertility\": 1.695}, {\"year\": 2000, \"country\": \"United States\", \"cluster\": 3, \"pop\": 282338631, \"life_expect\": 77.31, \"fertility\": 2.038}, {\"year\": 2000, \"country\": \"Venezuela\", \"cluster\": 3, \"pop\": 23542649, \"life_expect\": 72.766, \"fertility\": 2.723}]}}, {\"mode\": \"vega-lite\"});\n",
       "</script>"
      ],
      "text/plain": [
       "alt.Chart(...)"
      ]
     },
     "execution_count": 10,
     "metadata": {},
     "output_type": "execute_result"
    }
   ],
   "source": [
    "alt.Chart(data2000).mark_point().encode(\n",
    "    alt.X('fertility:Q', scale=alt.Scale(zero=False)),\n",
    "    alt.Y('life_expect:Q', scale=alt.Scale(zero=False))\n",
    ")"
   ]
  },
  {
   "cell_type": "markdown",
   "metadata": {
    "colab_type": "text",
    "id": "oUKf6WQmSzqC"
   },
   "source": [
    "Now the axis scales no longer include zero by default. Some padding still remains, as the axis domain end points are automatically snapped to _nice_ numbers like multiples of 5 or 10.\n",
    "\n",
    "_What happens if you also add `nice=False` to the scale attribute above?_"
   ]
  },
  {
   "cell_type": "markdown",
   "metadata": {
    "colab_type": "text",
    "id": "hKCsQ0iIPMTV"
   },
   "source": [
    "### Size"
   ]
  },
  {
   "cell_type": "markdown",
   "metadata": {
    "colab_type": "text",
    "id": "G7YtT-HNdYT9"
   },
   "source": [
    "The `size` encoding channel sets a mark's size or extent. The meaning of the channel can vary based on the mark type. For `point` marks, the `size` channel maps to the pixel area of the plotting symbol, such that the diameter of the point matches the square root of the size value.\n",
    "\n",
    "Let's augment our scatter plot by encoding population (`pop`) on the `size` channel. As a result, the chart now also includes a legend for interpreting the size values."
   ]
  },
  {
   "cell_type": "code",
   "execution_count": 12,
   "metadata": {
    "colab": {
     "base_uri": "https://localhost:8080/",
     "height": 372
    },
    "colab_type": "code",
    "id": "sGENuXRfOIPz",
    "outputId": "4f76557c-4e35-41fc-9e06-513be34969ae"
   },
   "outputs": [
    {
     "data": {
      "text/html": [
       "\n",
       "<div id=\"altair-viz-0b4975d831d64191ae99e58c7f7eb31b\"></div>\n",
       "<script type=\"text/javascript\">\n",
       "  (function(spec, embedOpt){\n",
       "    let outputDiv = document.currentScript.previousElementSibling;\n",
       "    if (outputDiv.id !== \"altair-viz-0b4975d831d64191ae99e58c7f7eb31b\") {\n",
       "      outputDiv = document.getElementById(\"altair-viz-0b4975d831d64191ae99e58c7f7eb31b\");\n",
       "    }\n",
       "    const paths = {\n",
       "      \"vega\": \"https://cdn.jsdelivr.net/npm//vega@5?noext\",\n",
       "      \"vega-lib\": \"https://cdn.jsdelivr.net/npm//vega-lib?noext\",\n",
       "      \"vega-lite\": \"https://cdn.jsdelivr.net/npm//vega-lite@4.8.1?noext\",\n",
       "      \"vega-embed\": \"https://cdn.jsdelivr.net/npm//vega-embed@6?noext\",\n",
       "    };\n",
       "\n",
       "    function loadScript(lib) {\n",
       "      return new Promise(function(resolve, reject) {\n",
       "        var s = document.createElement('script');\n",
       "        s.src = paths[lib];\n",
       "        s.async = true;\n",
       "        s.onload = () => resolve(paths[lib]);\n",
       "        s.onerror = () => reject(`Error loading script: ${paths[lib]}`);\n",
       "        document.getElementsByTagName(\"head\")[0].appendChild(s);\n",
       "      });\n",
       "    }\n",
       "\n",
       "    function showError(err) {\n",
       "      outputDiv.innerHTML = `<div class=\"error\" style=\"color:red;\">${err}</div>`;\n",
       "      throw err;\n",
       "    }\n",
       "\n",
       "    function displayChart(vegaEmbed) {\n",
       "      vegaEmbed(outputDiv, spec, embedOpt)\n",
       "        .catch(err => showError(`Javascript Error: ${err.message}<br>This usually means there's a typo in your chart specification. See the javascript console for the full traceback.`));\n",
       "    }\n",
       "\n",
       "    if(typeof define === \"function\" && define.amd) {\n",
       "      requirejs.config({paths});\n",
       "      require([\"vega-embed\"], displayChart, err => showError(`Error loading script: ${err.message}`));\n",
       "    } else if (typeof vegaEmbed === \"function\") {\n",
       "      displayChart(vegaEmbed);\n",
       "    } else {\n",
       "      loadScript(\"vega\")\n",
       "        .then(() => loadScript(\"vega-lite\"))\n",
       "        .then(() => loadScript(\"vega-embed\"))\n",
       "        .catch(showError)\n",
       "        .then(() => displayChart(vegaEmbed));\n",
       "    }\n",
       "  })({\"config\": {\"view\": {\"continuousWidth\": 400, \"continuousHeight\": 300}}, \"data\": {\"name\": \"data-fdeb0b749a6385830bd1445d39ad6ea0\"}, \"mark\": \"point\", \"encoding\": {\"size\": {\"type\": \"quantitative\", \"field\": \"pop\"}, \"x\": {\"type\": \"quantitative\", \"field\": \"fertility\"}, \"y\": {\"type\": \"quantitative\", \"field\": \"life_expect\"}}, \"$schema\": \"https://vega.github.io/schema/vega-lite/v4.8.1.json\", \"datasets\": {\"data-fdeb0b749a6385830bd1445d39ad6ea0\": [{\"year\": 2000, \"country\": \"Afghanistan\", \"cluster\": 0, \"pop\": 23898198, \"life_expect\": 42.129, \"fertility\": 7.4792}, {\"year\": 2000, \"country\": \"Argentina\", \"cluster\": 3, \"pop\": 37497728, \"life_expect\": 74.34, \"fertility\": 2.35}, {\"year\": 2000, \"country\": \"Aruba\", \"cluster\": 3, \"pop\": 69539, \"life_expect\": 73.451, \"fertility\": 2.124}, {\"year\": 2000, \"country\": \"Australia\", \"cluster\": 4, \"pop\": 19164620, \"life_expect\": 80.37, \"fertility\": 1.756}, {\"year\": 2000, \"country\": \"Austria\", \"cluster\": 1, \"pop\": 8113413, \"life_expect\": 78.98, \"fertility\": 1.3820000000000001}, {\"year\": 2000, \"country\": \"Bahamas\", \"cluster\": 3, \"pop\": 290075, \"life_expect\": 71.068, \"fertility\": 2.1111}, {\"year\": 2000, \"country\": \"Bangladesh\", \"cluster\": 0, \"pop\": 130406594, \"life_expect\": 62.013, \"fertility\": 3.224}, {\"year\": 2000, \"country\": \"Barbados\", \"cluster\": 3, \"pop\": 273483, \"life_expect\": 75.97, \"fertility\": 1.5}, {\"year\": 2000, \"country\": \"Belgium\", \"cluster\": 1, \"pop\": 10263618, \"life_expect\": 78.32, \"fertility\": 1.638}, {\"year\": 2000, \"country\": \"Bolivia\", \"cluster\": 3, \"pop\": 8152620, \"life_expect\": 63.883, \"fertility\": 3.9585}, {\"year\": 2000, \"country\": \"Brazil\", \"cluster\": 3, \"pop\": 175552771, \"life_expect\": 71.006, \"fertility\": 2.345}, {\"year\": 2000, \"country\": \"Canada\", \"cluster\": 3, \"pop\": 31278097, \"life_expect\": 79.77, \"fertility\": 1.522}, {\"year\": 2000, \"country\": \"Chile\", \"cluster\": 3, \"pop\": 15153450, \"life_expect\": 77.86, \"fertility\": 2.0}, {\"year\": 2000, \"country\": \"China\", \"cluster\": 4, \"pop\": 1262645000, \"life_expect\": 72.028, \"fertility\": 1.7000000000000002}, {\"year\": 2000, \"country\": \"Colombia\", \"cluster\": 3, \"pop\": 39685655, \"life_expect\": 71.682, \"fertility\": 2.4705}, {\"year\": 2000, \"country\": \"Costa Rica\", \"cluster\": 3, \"pop\": 3710558, \"life_expect\": 78.123, \"fertility\": 2.2815}, {\"year\": 2000, \"country\": \"Croatia\", \"cluster\": 1, \"pop\": 4410830, \"life_expect\": 74.876, \"fertility\": 1.348}, {\"year\": 2000, \"country\": \"Cuba\", \"cluster\": 3, \"pop\": 11134273, \"life_expect\": 77.158, \"fertility\": 1.63}, {\"year\": 2000, \"country\": \"Dominican Republic\", \"cluster\": 3, \"pop\": 8385828, \"life_expect\": 70.847, \"fertility\": 2.95}, {\"year\": 2000, \"country\": \"Ecuador\", \"cluster\": 3, \"pop\": 12505204, \"life_expect\": 74.173, \"fertility\": 2.8175}, {\"year\": 2000, \"country\": \"Egypt\", \"cluster\": 5, \"pop\": 70492342, \"life_expect\": 69.806, \"fertility\": 3.174}, {\"year\": 2000, \"country\": \"El Salvador\", \"cluster\": 3, \"pop\": 6122515, \"life_expect\": 70.734, \"fertility\": 2.883}, {\"year\": 2000, \"country\": \"Finland\", \"cluster\": 1, \"pop\": 5168595, \"life_expect\": 78.37, \"fertility\": 1.754}, {\"year\": 2000, \"country\": \"France\", \"cluster\": 1, \"pop\": 59381628, \"life_expect\": 79.59, \"fertility\": 1.8833000000000002}, {\"year\": 2000, \"country\": \"Georgia\", \"cluster\": 1, \"pop\": 4777209, \"life_expect\": 70.476, \"fertility\": 1.478}, {\"year\": 2000, \"country\": \"Germany\", \"cluster\": 1, \"pop\": 82187909, \"life_expect\": 78.67, \"fertility\": 1.346}, {\"year\": 2000, \"country\": \"Greece\", \"cluster\": 1, \"pop\": 10559110, \"life_expect\": 78.256, \"fertility\": 1.2770000000000001}, {\"year\": 2000, \"country\": \"Grenada\", \"cluster\": 3, \"pop\": 89312, \"life_expect\": 67.746, \"fertility\": 2.429}, {\"year\": 2000, \"country\": \"Haiti\", \"cluster\": 3, \"pop\": 7306302, \"life_expect\": 58.137, \"fertility\": 4.0}, {\"year\": 2000, \"country\": \"Hong Kong\", \"cluster\": 4, \"pop\": 6658720, \"life_expect\": 81.495, \"fertility\": 0.9400000000000001}, {\"year\": 2000, \"country\": \"Iceland\", \"cluster\": 1, \"pop\": 281043, \"life_expect\": 80.5, \"fertility\": 1.9929999999999999}, {\"year\": 2000, \"country\": \"India\", \"cluster\": 0, \"pop\": 1007702000, \"life_expect\": 62.879, \"fertility\": 3.1132}, {\"year\": 2000, \"country\": \"Indonesia\", \"cluster\": 4, \"pop\": 206265000, \"life_expect\": 68.588, \"fertility\": 2.3761}, {\"year\": 2000, \"country\": \"Iran\", \"cluster\": 5, \"pop\": 65660289, \"life_expect\": 69.451, \"fertility\": 2.124}, {\"year\": 2000, \"country\": \"Iraq\", \"cluster\": 5, \"pop\": 22675617, \"life_expect\": 57.046, \"fertility\": 4.858}, {\"year\": 2000, \"country\": \"Ireland\", \"cluster\": 1, \"pop\": 3791690, \"life_expect\": 77.783, \"fertility\": 1.9689999999999999}, {\"year\": 2000, \"country\": \"Israel\", \"cluster\": 5, \"pop\": 5842454, \"life_expect\": 79.696, \"fertility\": 2.906}, {\"year\": 2000, \"country\": \"Italy\", \"cluster\": 1, \"pop\": 57719337, \"life_expect\": 80.24, \"fertility\": 1.286}, {\"year\": 2000, \"country\": \"Jamaica\", \"cluster\": 3, \"pop\": 2615467, \"life_expect\": 72.047, \"fertility\": 2.628}, {\"year\": 2000, \"country\": \"Japan\", \"cluster\": 4, \"pop\": 126699784, \"life_expect\": 82.0, \"fertility\": 1.291}, {\"year\": 2000, \"country\": \"Kenya\", \"cluster\": 2, \"pop\": 29985839, \"life_expect\": 50.992, \"fertility\": 5.0}, {\"year\": 2000, \"country\": \"South Korea\", \"cluster\": 4, \"pop\": 21647682, \"life_expect\": 66.662, \"fertility\": 1.9173}, {\"year\": 2000, \"country\": \"North Korea\", \"cluster\": 4, \"pop\": 47351083, \"life_expect\": 77.045, \"fertility\": 1.242}, {\"year\": 2000, \"country\": \"Lebanon\", \"cluster\": 5, \"pop\": 3578036, \"life_expect\": 71.028, \"fertility\": 2.319}, {\"year\": 2000, \"country\": \"Mexico\", \"cluster\": 3, \"pop\": 99926620, \"life_expect\": 74.902, \"fertility\": 2.4005}, {\"year\": 2000, \"country\": \"Netherlands\", \"cluster\": 1, \"pop\": 15907853, \"life_expect\": 78.53, \"fertility\": 1.726}, {\"year\": 2000, \"country\": \"New Zealand\", \"cluster\": 4, \"pop\": 3819762, \"life_expect\": 79.11, \"fertility\": 1.964}, {\"year\": 2000, \"country\": \"Nigeria\", \"cluster\": 2, \"pop\": 114306700, \"life_expect\": 46.608, \"fertility\": 5.845}, {\"year\": 2000, \"country\": \"Norway\", \"cluster\": 1, \"pop\": 4492400, \"life_expect\": 79.05, \"fertility\": 1.8010000000000002}, {\"year\": 2000, \"country\": \"Pakistan\", \"cluster\": 0, \"pop\": 146342958, \"life_expect\": 63.61, \"fertility\": 3.9936}, {\"year\": 2000, \"country\": \"Peru\", \"cluster\": 3, \"pop\": 25979722, \"life_expect\": 69.906, \"fertility\": 2.7005}, {\"year\": 2000, \"country\": \"Philippines\", \"cluster\": 4, \"pop\": 79739825, \"life_expect\": 70.303, \"fertility\": 3.5436}, {\"year\": 2000, \"country\": \"Poland\", \"cluster\": 1, \"pop\": 38654164, \"life_expect\": 74.67, \"fertility\": 1.251}, {\"year\": 2000, \"country\": \"Portugal\", \"cluster\": 1, \"pop\": 10335597, \"life_expect\": 77.29, \"fertility\": 1.454}, {\"year\": 2000, \"country\": \"Rwanda\", \"cluster\": 2, \"pop\": 7507056, \"life_expect\": 43.413, \"fertility\": 6.01}, {\"year\": 2000, \"country\": \"Saudi Arabia\", \"cluster\": 5, \"pop\": 23153090, \"life_expect\": 71.626, \"fertility\": 3.81}, {\"year\": 2000, \"country\": \"South Africa\", \"cluster\": 2, \"pop\": 44066197, \"life_expect\": 53.365, \"fertility\": 2.802}, {\"year\": 2000, \"country\": \"Spain\", \"cluster\": 1, \"pop\": 40016081, \"life_expect\": 79.78, \"fertility\": 1.287}, {\"year\": 2000, \"country\": \"Switzerland\", \"cluster\": 1, \"pop\": 7266920, \"life_expect\": 80.62, \"fertility\": 1.415}, {\"year\": 2000, \"country\": \"Turkey\", \"cluster\": 1, \"pop\": 65666677, \"life_expect\": 70.845, \"fertility\": 2.23}, {\"year\": 2000, \"country\": \"United Kingdom\", \"cluster\": 1, \"pop\": 59522468, \"life_expect\": 78.471, \"fertility\": 1.695}, {\"year\": 2000, \"country\": \"United States\", \"cluster\": 3, \"pop\": 282338631, \"life_expect\": 77.31, \"fertility\": 2.038}, {\"year\": 2000, \"country\": \"Venezuela\", \"cluster\": 3, \"pop\": 23542649, \"life_expect\": 72.766, \"fertility\": 2.723}]}}, {\"mode\": \"vega-lite\"});\n",
       "</script>"
      ],
      "text/plain": [
       "alt.Chart(...)"
      ]
     },
     "execution_count": 11,
     "metadata": {},
     "output_type": "execute_result"
    }
   ],
   "source": [
    "alt.Chart(data2000).mark_point().encode(\n",
    "    alt.X('fertility:Q'),\n",
    "    alt.Y('life_expect:Q'),\n",
    "    alt.Size('pop:Q')\n",
    ")"
   ]
  },
  {
   "cell_type": "markdown",
   "metadata": {
    "colab_type": "text",
    "id": "g5Cu5F2Ad9xG"
   },
   "source": [
    "In some cases we might be unsatisfied with the default size range. To provide a customized span of sizes, set the `range` parameter of the `scale` attribute to an array indicating the smallest and largest sizes. Here we update the size encoding to range from 0 pixels (for zero values) to 1,000 pixels (for the maximum value in the scale domain):"
   ]
  },
  {
   "cell_type": "code",
   "execution_count": 13,
   "metadata": {
    "colab": {
     "base_uri": "https://localhost:8080/",
     "height": 372
    },
    "colab_type": "code",
    "id": "cALgZSQfQzi0",
    "outputId": "0d88f561-9737-43fa-a84a-7ad6dcdfbf0c"
   },
   "outputs": [
    {
     "data": {
      "text/html": [
       "\n",
       "<div id=\"altair-viz-400b74c9a991492db8feda5d41ee8393\"></div>\n",
       "<script type=\"text/javascript\">\n",
       "  (function(spec, embedOpt){\n",
       "    let outputDiv = document.currentScript.previousElementSibling;\n",
       "    if (outputDiv.id !== \"altair-viz-400b74c9a991492db8feda5d41ee8393\") {\n",
       "      outputDiv = document.getElementById(\"altair-viz-400b74c9a991492db8feda5d41ee8393\");\n",
       "    }\n",
       "    const paths = {\n",
       "      \"vega\": \"https://cdn.jsdelivr.net/npm//vega@5?noext\",\n",
       "      \"vega-lib\": \"https://cdn.jsdelivr.net/npm//vega-lib?noext\",\n",
       "      \"vega-lite\": \"https://cdn.jsdelivr.net/npm//vega-lite@4.8.1?noext\",\n",
       "      \"vega-embed\": \"https://cdn.jsdelivr.net/npm//vega-embed@6?noext\",\n",
       "    };\n",
       "\n",
       "    function loadScript(lib) {\n",
       "      return new Promise(function(resolve, reject) {\n",
       "        var s = document.createElement('script');\n",
       "        s.src = paths[lib];\n",
       "        s.async = true;\n",
       "        s.onload = () => resolve(paths[lib]);\n",
       "        s.onerror = () => reject(`Error loading script: ${paths[lib]}`);\n",
       "        document.getElementsByTagName(\"head\")[0].appendChild(s);\n",
       "      });\n",
       "    }\n",
       "\n",
       "    function showError(err) {\n",
       "      outputDiv.innerHTML = `<div class=\"error\" style=\"color:red;\">${err}</div>`;\n",
       "      throw err;\n",
       "    }\n",
       "\n",
       "    function displayChart(vegaEmbed) {\n",
       "      vegaEmbed(outputDiv, spec, embedOpt)\n",
       "        .catch(err => showError(`Javascript Error: ${err.message}<br>This usually means there's a typo in your chart specification. See the javascript console for the full traceback.`));\n",
       "    }\n",
       "\n",
       "    if(typeof define === \"function\" && define.amd) {\n",
       "      requirejs.config({paths});\n",
       "      require([\"vega-embed\"], displayChart, err => showError(`Error loading script: ${err.message}`));\n",
       "    } else if (typeof vegaEmbed === \"function\") {\n",
       "      displayChart(vegaEmbed);\n",
       "    } else {\n",
       "      loadScript(\"vega\")\n",
       "        .then(() => loadScript(\"vega-lite\"))\n",
       "        .then(() => loadScript(\"vega-embed\"))\n",
       "        .catch(showError)\n",
       "        .then(() => displayChart(vegaEmbed));\n",
       "    }\n",
       "  })({\"config\": {\"view\": {\"continuousWidth\": 400, \"continuousHeight\": 300}}, \"data\": {\"name\": \"data-fdeb0b749a6385830bd1445d39ad6ea0\"}, \"mark\": \"point\", \"encoding\": {\"size\": {\"type\": \"quantitative\", \"field\": \"pop\", \"scale\": {\"range\": [0, 1000]}}, \"x\": {\"type\": \"quantitative\", \"field\": \"fertility\"}, \"y\": {\"type\": \"quantitative\", \"field\": \"life_expect\"}}, \"$schema\": \"https://vega.github.io/schema/vega-lite/v4.8.1.json\", \"datasets\": {\"data-fdeb0b749a6385830bd1445d39ad6ea0\": [{\"year\": 2000, \"country\": \"Afghanistan\", \"cluster\": 0, \"pop\": 23898198, \"life_expect\": 42.129, \"fertility\": 7.4792}, {\"year\": 2000, \"country\": \"Argentina\", \"cluster\": 3, \"pop\": 37497728, \"life_expect\": 74.34, \"fertility\": 2.35}, {\"year\": 2000, \"country\": \"Aruba\", \"cluster\": 3, \"pop\": 69539, \"life_expect\": 73.451, \"fertility\": 2.124}, {\"year\": 2000, \"country\": \"Australia\", \"cluster\": 4, \"pop\": 19164620, \"life_expect\": 80.37, \"fertility\": 1.756}, {\"year\": 2000, \"country\": \"Austria\", \"cluster\": 1, \"pop\": 8113413, \"life_expect\": 78.98, \"fertility\": 1.3820000000000001}, {\"year\": 2000, \"country\": \"Bahamas\", \"cluster\": 3, \"pop\": 290075, \"life_expect\": 71.068, \"fertility\": 2.1111}, {\"year\": 2000, \"country\": \"Bangladesh\", \"cluster\": 0, \"pop\": 130406594, \"life_expect\": 62.013, \"fertility\": 3.224}, {\"year\": 2000, \"country\": \"Barbados\", \"cluster\": 3, \"pop\": 273483, \"life_expect\": 75.97, \"fertility\": 1.5}, {\"year\": 2000, \"country\": \"Belgium\", \"cluster\": 1, \"pop\": 10263618, \"life_expect\": 78.32, \"fertility\": 1.638}, {\"year\": 2000, \"country\": \"Bolivia\", \"cluster\": 3, \"pop\": 8152620, \"life_expect\": 63.883, \"fertility\": 3.9585}, {\"year\": 2000, \"country\": \"Brazil\", \"cluster\": 3, \"pop\": 175552771, \"life_expect\": 71.006, \"fertility\": 2.345}, {\"year\": 2000, \"country\": \"Canada\", \"cluster\": 3, \"pop\": 31278097, \"life_expect\": 79.77, \"fertility\": 1.522}, {\"year\": 2000, \"country\": \"Chile\", \"cluster\": 3, \"pop\": 15153450, \"life_expect\": 77.86, \"fertility\": 2.0}, {\"year\": 2000, \"country\": \"China\", \"cluster\": 4, \"pop\": 1262645000, \"life_expect\": 72.028, \"fertility\": 1.7000000000000002}, {\"year\": 2000, \"country\": \"Colombia\", \"cluster\": 3, \"pop\": 39685655, \"life_expect\": 71.682, \"fertility\": 2.4705}, {\"year\": 2000, \"country\": \"Costa Rica\", \"cluster\": 3, \"pop\": 3710558, \"life_expect\": 78.123, \"fertility\": 2.2815}, {\"year\": 2000, \"country\": \"Croatia\", \"cluster\": 1, \"pop\": 4410830, \"life_expect\": 74.876, \"fertility\": 1.348}, {\"year\": 2000, \"country\": \"Cuba\", \"cluster\": 3, \"pop\": 11134273, \"life_expect\": 77.158, \"fertility\": 1.63}, {\"year\": 2000, \"country\": \"Dominican Republic\", \"cluster\": 3, \"pop\": 8385828, \"life_expect\": 70.847, \"fertility\": 2.95}, {\"year\": 2000, \"country\": \"Ecuador\", \"cluster\": 3, \"pop\": 12505204, \"life_expect\": 74.173, \"fertility\": 2.8175}, {\"year\": 2000, \"country\": \"Egypt\", \"cluster\": 5, \"pop\": 70492342, \"life_expect\": 69.806, \"fertility\": 3.174}, {\"year\": 2000, \"country\": \"El Salvador\", \"cluster\": 3, \"pop\": 6122515, \"life_expect\": 70.734, \"fertility\": 2.883}, {\"year\": 2000, \"country\": \"Finland\", \"cluster\": 1, \"pop\": 5168595, \"life_expect\": 78.37, \"fertility\": 1.754}, {\"year\": 2000, \"country\": \"France\", \"cluster\": 1, \"pop\": 59381628, \"life_expect\": 79.59, \"fertility\": 1.8833000000000002}, {\"year\": 2000, \"country\": \"Georgia\", \"cluster\": 1, \"pop\": 4777209, \"life_expect\": 70.476, \"fertility\": 1.478}, {\"year\": 2000, \"country\": \"Germany\", \"cluster\": 1, \"pop\": 82187909, \"life_expect\": 78.67, \"fertility\": 1.346}, {\"year\": 2000, \"country\": \"Greece\", \"cluster\": 1, \"pop\": 10559110, \"life_expect\": 78.256, \"fertility\": 1.2770000000000001}, {\"year\": 2000, \"country\": \"Grenada\", \"cluster\": 3, \"pop\": 89312, \"life_expect\": 67.746, \"fertility\": 2.429}, {\"year\": 2000, \"country\": \"Haiti\", \"cluster\": 3, \"pop\": 7306302, \"life_expect\": 58.137, \"fertility\": 4.0}, {\"year\": 2000, \"country\": \"Hong Kong\", \"cluster\": 4, \"pop\": 6658720, \"life_expect\": 81.495, \"fertility\": 0.9400000000000001}, {\"year\": 2000, \"country\": \"Iceland\", \"cluster\": 1, \"pop\": 281043, \"life_expect\": 80.5, \"fertility\": 1.9929999999999999}, {\"year\": 2000, \"country\": \"India\", \"cluster\": 0, \"pop\": 1007702000, \"life_expect\": 62.879, \"fertility\": 3.1132}, {\"year\": 2000, \"country\": \"Indonesia\", \"cluster\": 4, \"pop\": 206265000, \"life_expect\": 68.588, \"fertility\": 2.3761}, {\"year\": 2000, \"country\": \"Iran\", \"cluster\": 5, \"pop\": 65660289, \"life_expect\": 69.451, \"fertility\": 2.124}, {\"year\": 2000, \"country\": \"Iraq\", \"cluster\": 5, \"pop\": 22675617, \"life_expect\": 57.046, \"fertility\": 4.858}, {\"year\": 2000, \"country\": \"Ireland\", \"cluster\": 1, \"pop\": 3791690, \"life_expect\": 77.783, \"fertility\": 1.9689999999999999}, {\"year\": 2000, \"country\": \"Israel\", \"cluster\": 5, \"pop\": 5842454, \"life_expect\": 79.696, \"fertility\": 2.906}, {\"year\": 2000, \"country\": \"Italy\", \"cluster\": 1, \"pop\": 57719337, \"life_expect\": 80.24, \"fertility\": 1.286}, {\"year\": 2000, \"country\": \"Jamaica\", \"cluster\": 3, \"pop\": 2615467, \"life_expect\": 72.047, \"fertility\": 2.628}, {\"year\": 2000, \"country\": \"Japan\", \"cluster\": 4, \"pop\": 126699784, \"life_expect\": 82.0, \"fertility\": 1.291}, {\"year\": 2000, \"country\": \"Kenya\", \"cluster\": 2, \"pop\": 29985839, \"life_expect\": 50.992, \"fertility\": 5.0}, {\"year\": 2000, \"country\": \"South Korea\", \"cluster\": 4, \"pop\": 21647682, \"life_expect\": 66.662, \"fertility\": 1.9173}, {\"year\": 2000, \"country\": \"North Korea\", \"cluster\": 4, \"pop\": 47351083, \"life_expect\": 77.045, \"fertility\": 1.242}, {\"year\": 2000, \"country\": \"Lebanon\", \"cluster\": 5, \"pop\": 3578036, \"life_expect\": 71.028, \"fertility\": 2.319}, {\"year\": 2000, \"country\": \"Mexico\", \"cluster\": 3, \"pop\": 99926620, \"life_expect\": 74.902, \"fertility\": 2.4005}, {\"year\": 2000, \"country\": \"Netherlands\", \"cluster\": 1, \"pop\": 15907853, \"life_expect\": 78.53, \"fertility\": 1.726}, {\"year\": 2000, \"country\": \"New Zealand\", \"cluster\": 4, \"pop\": 3819762, \"life_expect\": 79.11, \"fertility\": 1.964}, {\"year\": 2000, \"country\": \"Nigeria\", \"cluster\": 2, \"pop\": 114306700, \"life_expect\": 46.608, \"fertility\": 5.845}, {\"year\": 2000, \"country\": \"Norway\", \"cluster\": 1, \"pop\": 4492400, \"life_expect\": 79.05, \"fertility\": 1.8010000000000002}, {\"year\": 2000, \"country\": \"Pakistan\", \"cluster\": 0, \"pop\": 146342958, \"life_expect\": 63.61, \"fertility\": 3.9936}, {\"year\": 2000, \"country\": \"Peru\", \"cluster\": 3, \"pop\": 25979722, \"life_expect\": 69.906, \"fertility\": 2.7005}, {\"year\": 2000, \"country\": \"Philippines\", \"cluster\": 4, \"pop\": 79739825, \"life_expect\": 70.303, \"fertility\": 3.5436}, {\"year\": 2000, \"country\": \"Poland\", \"cluster\": 1, \"pop\": 38654164, \"life_expect\": 74.67, \"fertility\": 1.251}, {\"year\": 2000, \"country\": \"Portugal\", \"cluster\": 1, \"pop\": 10335597, \"life_expect\": 77.29, \"fertility\": 1.454}, {\"year\": 2000, \"country\": \"Rwanda\", \"cluster\": 2, \"pop\": 7507056, \"life_expect\": 43.413, \"fertility\": 6.01}, {\"year\": 2000, \"country\": \"Saudi Arabia\", \"cluster\": 5, \"pop\": 23153090, \"life_expect\": 71.626, \"fertility\": 3.81}, {\"year\": 2000, \"country\": \"South Africa\", \"cluster\": 2, \"pop\": 44066197, \"life_expect\": 53.365, \"fertility\": 2.802}, {\"year\": 2000, \"country\": \"Spain\", \"cluster\": 1, \"pop\": 40016081, \"life_expect\": 79.78, \"fertility\": 1.287}, {\"year\": 2000, \"country\": \"Switzerland\", \"cluster\": 1, \"pop\": 7266920, \"life_expect\": 80.62, \"fertility\": 1.415}, {\"year\": 2000, \"country\": \"Turkey\", \"cluster\": 1, \"pop\": 65666677, \"life_expect\": 70.845, \"fertility\": 2.23}, {\"year\": 2000, \"country\": \"United Kingdom\", \"cluster\": 1, \"pop\": 59522468, \"life_expect\": 78.471, \"fertility\": 1.695}, {\"year\": 2000, \"country\": \"United States\", \"cluster\": 3, \"pop\": 282338631, \"life_expect\": 77.31, \"fertility\": 2.038}, {\"year\": 2000, \"country\": \"Venezuela\", \"cluster\": 3, \"pop\": 23542649, \"life_expect\": 72.766, \"fertility\": 2.723}]}}, {\"mode\": \"vega-lite\"});\n",
       "</script>"
      ],
      "text/plain": [
       "alt.Chart(...)"
      ]
     },
     "execution_count": 12,
     "metadata": {},
     "output_type": "execute_result"
    }
   ],
   "source": [
    "alt.Chart(data2000).mark_point().encode(\n",
    "    alt.X('fertility:Q'),\n",
    "    alt.Y('life_expect:Q'),\n",
    "    alt.Size('pop:Q', scale=alt.Scale(range=[0,1000]))\n",
    ")"
   ]
  },
  {
   "cell_type": "markdown",
   "metadata": {
    "colab_type": "text",
    "id": "yF__0zZ0PJyT"
   },
   "source": [
    "### Color and Opacity"
   ]
  },
  {
   "cell_type": "markdown",
   "metadata": {
    "colab_type": "text",
    "id": "u5QXPLxJeohH"
   },
   "source": [
    "The `color` encoding channel sets a mark's color. The style of color encoding is highly dependent on the data type: nominal data will default to a multi-hued qualitative color scheme, whereas ordinal and quantitative data will use perceptually ordered color gradients.\n",
    "\n",
    "Here, we encode the `cluster` field using the `color` channel and a nominal (`N`) data type, resulting in a distinct hue for each cluster value. Can you start to guess what the `cluster` field might indicate?\n"
   ]
  },
  {
   "cell_type": "code",
   "execution_count": 14,
   "metadata": {
    "colab": {
     "base_uri": "https://localhost:8080/",
     "height": 372
    },
    "colab_type": "code",
    "id": "bI73XTt5OTmA",
    "outputId": "f12aeb57-07c5-422e-8cb1-62253b545af8"
   },
   "outputs": [
    {
     "data": {
      "text/html": [
       "\n",
       "<div id=\"altair-viz-55c961abe8f84901a743866e7793bbc1\"></div>\n",
       "<script type=\"text/javascript\">\n",
       "  (function(spec, embedOpt){\n",
       "    let outputDiv = document.currentScript.previousElementSibling;\n",
       "    if (outputDiv.id !== \"altair-viz-55c961abe8f84901a743866e7793bbc1\") {\n",
       "      outputDiv = document.getElementById(\"altair-viz-55c961abe8f84901a743866e7793bbc1\");\n",
       "    }\n",
       "    const paths = {\n",
       "      \"vega\": \"https://cdn.jsdelivr.net/npm//vega@5?noext\",\n",
       "      \"vega-lib\": \"https://cdn.jsdelivr.net/npm//vega-lib?noext\",\n",
       "      \"vega-lite\": \"https://cdn.jsdelivr.net/npm//vega-lite@4.8.1?noext\",\n",
       "      \"vega-embed\": \"https://cdn.jsdelivr.net/npm//vega-embed@6?noext\",\n",
       "    };\n",
       "\n",
       "    function loadScript(lib) {\n",
       "      return new Promise(function(resolve, reject) {\n",
       "        var s = document.createElement('script');\n",
       "        s.src = paths[lib];\n",
       "        s.async = true;\n",
       "        s.onload = () => resolve(paths[lib]);\n",
       "        s.onerror = () => reject(`Error loading script: ${paths[lib]}`);\n",
       "        document.getElementsByTagName(\"head\")[0].appendChild(s);\n",
       "      });\n",
       "    }\n",
       "\n",
       "    function showError(err) {\n",
       "      outputDiv.innerHTML = `<div class=\"error\" style=\"color:red;\">${err}</div>`;\n",
       "      throw err;\n",
       "    }\n",
       "\n",
       "    function displayChart(vegaEmbed) {\n",
       "      vegaEmbed(outputDiv, spec, embedOpt)\n",
       "        .catch(err => showError(`Javascript Error: ${err.message}<br>This usually means there's a typo in your chart specification. See the javascript console for the full traceback.`));\n",
       "    }\n",
       "\n",
       "    if(typeof define === \"function\" && define.amd) {\n",
       "      requirejs.config({paths});\n",
       "      require([\"vega-embed\"], displayChart, err => showError(`Error loading script: ${err.message}`));\n",
       "    } else if (typeof vegaEmbed === \"function\") {\n",
       "      displayChart(vegaEmbed);\n",
       "    } else {\n",
       "      loadScript(\"vega\")\n",
       "        .then(() => loadScript(\"vega-lite\"))\n",
       "        .then(() => loadScript(\"vega-embed\"))\n",
       "        .catch(showError)\n",
       "        .then(() => displayChart(vegaEmbed));\n",
       "    }\n",
       "  })({\"config\": {\"view\": {\"continuousWidth\": 400, \"continuousHeight\": 300}}, \"data\": {\"name\": \"data-fdeb0b749a6385830bd1445d39ad6ea0\"}, \"mark\": \"point\", \"encoding\": {\"color\": {\"type\": \"nominal\", \"field\": \"cluster\"}, \"size\": {\"type\": \"quantitative\", \"field\": \"pop\", \"scale\": {\"range\": [0, 1000]}}, \"x\": {\"type\": \"quantitative\", \"field\": \"fertility\"}, \"y\": {\"type\": \"quantitative\", \"field\": \"life_expect\"}}, \"$schema\": \"https://vega.github.io/schema/vega-lite/v4.8.1.json\", \"datasets\": {\"data-fdeb0b749a6385830bd1445d39ad6ea0\": [{\"year\": 2000, \"country\": \"Afghanistan\", \"cluster\": 0, \"pop\": 23898198, \"life_expect\": 42.129, \"fertility\": 7.4792}, {\"year\": 2000, \"country\": \"Argentina\", \"cluster\": 3, \"pop\": 37497728, \"life_expect\": 74.34, \"fertility\": 2.35}, {\"year\": 2000, \"country\": \"Aruba\", \"cluster\": 3, \"pop\": 69539, \"life_expect\": 73.451, \"fertility\": 2.124}, {\"year\": 2000, \"country\": \"Australia\", \"cluster\": 4, \"pop\": 19164620, \"life_expect\": 80.37, \"fertility\": 1.756}, {\"year\": 2000, \"country\": \"Austria\", \"cluster\": 1, \"pop\": 8113413, \"life_expect\": 78.98, \"fertility\": 1.3820000000000001}, {\"year\": 2000, \"country\": \"Bahamas\", \"cluster\": 3, \"pop\": 290075, \"life_expect\": 71.068, \"fertility\": 2.1111}, {\"year\": 2000, \"country\": \"Bangladesh\", \"cluster\": 0, \"pop\": 130406594, \"life_expect\": 62.013, \"fertility\": 3.224}, {\"year\": 2000, \"country\": \"Barbados\", \"cluster\": 3, \"pop\": 273483, \"life_expect\": 75.97, \"fertility\": 1.5}, {\"year\": 2000, \"country\": \"Belgium\", \"cluster\": 1, \"pop\": 10263618, \"life_expect\": 78.32, \"fertility\": 1.638}, {\"year\": 2000, \"country\": \"Bolivia\", \"cluster\": 3, \"pop\": 8152620, \"life_expect\": 63.883, \"fertility\": 3.9585}, {\"year\": 2000, \"country\": \"Brazil\", \"cluster\": 3, \"pop\": 175552771, \"life_expect\": 71.006, \"fertility\": 2.345}, {\"year\": 2000, \"country\": \"Canada\", \"cluster\": 3, \"pop\": 31278097, \"life_expect\": 79.77, \"fertility\": 1.522}, {\"year\": 2000, \"country\": \"Chile\", \"cluster\": 3, \"pop\": 15153450, \"life_expect\": 77.86, \"fertility\": 2.0}, {\"year\": 2000, \"country\": \"China\", \"cluster\": 4, \"pop\": 1262645000, \"life_expect\": 72.028, \"fertility\": 1.7000000000000002}, {\"year\": 2000, \"country\": \"Colombia\", \"cluster\": 3, \"pop\": 39685655, \"life_expect\": 71.682, \"fertility\": 2.4705}, {\"year\": 2000, \"country\": \"Costa Rica\", \"cluster\": 3, \"pop\": 3710558, \"life_expect\": 78.123, \"fertility\": 2.2815}, {\"year\": 2000, \"country\": \"Croatia\", \"cluster\": 1, \"pop\": 4410830, \"life_expect\": 74.876, \"fertility\": 1.348}, {\"year\": 2000, \"country\": \"Cuba\", \"cluster\": 3, \"pop\": 11134273, \"life_expect\": 77.158, \"fertility\": 1.63}, {\"year\": 2000, \"country\": \"Dominican Republic\", \"cluster\": 3, \"pop\": 8385828, \"life_expect\": 70.847, \"fertility\": 2.95}, {\"year\": 2000, \"country\": \"Ecuador\", \"cluster\": 3, \"pop\": 12505204, \"life_expect\": 74.173, \"fertility\": 2.8175}, {\"year\": 2000, \"country\": \"Egypt\", \"cluster\": 5, \"pop\": 70492342, \"life_expect\": 69.806, \"fertility\": 3.174}, {\"year\": 2000, \"country\": \"El Salvador\", \"cluster\": 3, \"pop\": 6122515, \"life_expect\": 70.734, \"fertility\": 2.883}, {\"year\": 2000, \"country\": \"Finland\", \"cluster\": 1, \"pop\": 5168595, \"life_expect\": 78.37, \"fertility\": 1.754}, {\"year\": 2000, \"country\": \"France\", \"cluster\": 1, \"pop\": 59381628, \"life_expect\": 79.59, \"fertility\": 1.8833000000000002}, {\"year\": 2000, \"country\": \"Georgia\", \"cluster\": 1, \"pop\": 4777209, \"life_expect\": 70.476, \"fertility\": 1.478}, {\"year\": 2000, \"country\": \"Germany\", \"cluster\": 1, \"pop\": 82187909, \"life_expect\": 78.67, \"fertility\": 1.346}, {\"year\": 2000, \"country\": \"Greece\", \"cluster\": 1, \"pop\": 10559110, \"life_expect\": 78.256, \"fertility\": 1.2770000000000001}, {\"year\": 2000, \"country\": \"Grenada\", \"cluster\": 3, \"pop\": 89312, \"life_expect\": 67.746, \"fertility\": 2.429}, {\"year\": 2000, \"country\": \"Haiti\", \"cluster\": 3, \"pop\": 7306302, \"life_expect\": 58.137, \"fertility\": 4.0}, {\"year\": 2000, \"country\": \"Hong Kong\", \"cluster\": 4, \"pop\": 6658720, \"life_expect\": 81.495, \"fertility\": 0.9400000000000001}, {\"year\": 2000, \"country\": \"Iceland\", \"cluster\": 1, \"pop\": 281043, \"life_expect\": 80.5, \"fertility\": 1.9929999999999999}, {\"year\": 2000, \"country\": \"India\", \"cluster\": 0, \"pop\": 1007702000, \"life_expect\": 62.879, \"fertility\": 3.1132}, {\"year\": 2000, \"country\": \"Indonesia\", \"cluster\": 4, \"pop\": 206265000, \"life_expect\": 68.588, \"fertility\": 2.3761}, {\"year\": 2000, \"country\": \"Iran\", \"cluster\": 5, \"pop\": 65660289, \"life_expect\": 69.451, \"fertility\": 2.124}, {\"year\": 2000, \"country\": \"Iraq\", \"cluster\": 5, \"pop\": 22675617, \"life_expect\": 57.046, \"fertility\": 4.858}, {\"year\": 2000, \"country\": \"Ireland\", \"cluster\": 1, \"pop\": 3791690, \"life_expect\": 77.783, \"fertility\": 1.9689999999999999}, {\"year\": 2000, \"country\": \"Israel\", \"cluster\": 5, \"pop\": 5842454, \"life_expect\": 79.696, \"fertility\": 2.906}, {\"year\": 2000, \"country\": \"Italy\", \"cluster\": 1, \"pop\": 57719337, \"life_expect\": 80.24, \"fertility\": 1.286}, {\"year\": 2000, \"country\": \"Jamaica\", \"cluster\": 3, \"pop\": 2615467, \"life_expect\": 72.047, \"fertility\": 2.628}, {\"year\": 2000, \"country\": \"Japan\", \"cluster\": 4, \"pop\": 126699784, \"life_expect\": 82.0, \"fertility\": 1.291}, {\"year\": 2000, \"country\": \"Kenya\", \"cluster\": 2, \"pop\": 29985839, \"life_expect\": 50.992, \"fertility\": 5.0}, {\"year\": 2000, \"country\": \"South Korea\", \"cluster\": 4, \"pop\": 21647682, \"life_expect\": 66.662, \"fertility\": 1.9173}, {\"year\": 2000, \"country\": \"North Korea\", \"cluster\": 4, \"pop\": 47351083, \"life_expect\": 77.045, \"fertility\": 1.242}, {\"year\": 2000, \"country\": \"Lebanon\", \"cluster\": 5, \"pop\": 3578036, \"life_expect\": 71.028, \"fertility\": 2.319}, {\"year\": 2000, \"country\": \"Mexico\", \"cluster\": 3, \"pop\": 99926620, \"life_expect\": 74.902, \"fertility\": 2.4005}, {\"year\": 2000, \"country\": \"Netherlands\", \"cluster\": 1, \"pop\": 15907853, \"life_expect\": 78.53, \"fertility\": 1.726}, {\"year\": 2000, \"country\": \"New Zealand\", \"cluster\": 4, \"pop\": 3819762, \"life_expect\": 79.11, \"fertility\": 1.964}, {\"year\": 2000, \"country\": \"Nigeria\", \"cluster\": 2, \"pop\": 114306700, \"life_expect\": 46.608, \"fertility\": 5.845}, {\"year\": 2000, \"country\": \"Norway\", \"cluster\": 1, \"pop\": 4492400, \"life_expect\": 79.05, \"fertility\": 1.8010000000000002}, {\"year\": 2000, \"country\": \"Pakistan\", \"cluster\": 0, \"pop\": 146342958, \"life_expect\": 63.61, \"fertility\": 3.9936}, {\"year\": 2000, \"country\": \"Peru\", \"cluster\": 3, \"pop\": 25979722, \"life_expect\": 69.906, \"fertility\": 2.7005}, {\"year\": 2000, \"country\": \"Philippines\", \"cluster\": 4, \"pop\": 79739825, \"life_expect\": 70.303, \"fertility\": 3.5436}, {\"year\": 2000, \"country\": \"Poland\", \"cluster\": 1, \"pop\": 38654164, \"life_expect\": 74.67, \"fertility\": 1.251}, {\"year\": 2000, \"country\": \"Portugal\", \"cluster\": 1, \"pop\": 10335597, \"life_expect\": 77.29, \"fertility\": 1.454}, {\"year\": 2000, \"country\": \"Rwanda\", \"cluster\": 2, \"pop\": 7507056, \"life_expect\": 43.413, \"fertility\": 6.01}, {\"year\": 2000, \"country\": \"Saudi Arabia\", \"cluster\": 5, \"pop\": 23153090, \"life_expect\": 71.626, \"fertility\": 3.81}, {\"year\": 2000, \"country\": \"South Africa\", \"cluster\": 2, \"pop\": 44066197, \"life_expect\": 53.365, \"fertility\": 2.802}, {\"year\": 2000, \"country\": \"Spain\", \"cluster\": 1, \"pop\": 40016081, \"life_expect\": 79.78, \"fertility\": 1.287}, {\"year\": 2000, \"country\": \"Switzerland\", \"cluster\": 1, \"pop\": 7266920, \"life_expect\": 80.62, \"fertility\": 1.415}, {\"year\": 2000, \"country\": \"Turkey\", \"cluster\": 1, \"pop\": 65666677, \"life_expect\": 70.845, \"fertility\": 2.23}, {\"year\": 2000, \"country\": \"United Kingdom\", \"cluster\": 1, \"pop\": 59522468, \"life_expect\": 78.471, \"fertility\": 1.695}, {\"year\": 2000, \"country\": \"United States\", \"cluster\": 3, \"pop\": 282338631, \"life_expect\": 77.31, \"fertility\": 2.038}, {\"year\": 2000, \"country\": \"Venezuela\", \"cluster\": 3, \"pop\": 23542649, \"life_expect\": 72.766, \"fertility\": 2.723}]}}, {\"mode\": \"vega-lite\"});\n",
       "</script>"
      ],
      "text/plain": [
       "alt.Chart(...)"
      ]
     },
     "execution_count": 13,
     "metadata": {},
     "output_type": "execute_result"
    }
   ],
   "source": [
    "alt.Chart(data2000).mark_point().encode(\n",
    "    alt.X('fertility:Q'),\n",
    "    alt.Y('life_expect:Q'),\n",
    "    alt.Size('pop:Q', scale=alt.Scale(range=[0,1000])),\n",
    "    alt.Color('cluster:N')\n",
    ")"
   ]
  },
  {
   "cell_type": "markdown",
   "metadata": {
    "colab_type": "text",
    "id": "dNOkUJfNfFac"
   },
   "source": [
    "If we prefer filled shapes, we can can pass a `filled=True` parameter to the `mark_point` method:"
   ]
  },
  {
   "cell_type": "code",
   "execution_count": 15,
   "metadata": {
    "colab": {
     "base_uri": "https://localhost:8080/",
     "height": 372
    },
    "colab_type": "code",
    "id": "HH34VMCAQO6s",
    "outputId": "8aba4f13-bfe3-43b1-e3ea-554a8d20b7f5"
   },
   "outputs": [
    {
     "data": {
      "text/html": [
       "\n",
       "<div id=\"altair-viz-0dc01a0e90c442aa8775986e31866c01\"></div>\n",
       "<script type=\"text/javascript\">\n",
       "  (function(spec, embedOpt){\n",
       "    let outputDiv = document.currentScript.previousElementSibling;\n",
       "    if (outputDiv.id !== \"altair-viz-0dc01a0e90c442aa8775986e31866c01\") {\n",
       "      outputDiv = document.getElementById(\"altair-viz-0dc01a0e90c442aa8775986e31866c01\");\n",
       "    }\n",
       "    const paths = {\n",
       "      \"vega\": \"https://cdn.jsdelivr.net/npm//vega@5?noext\",\n",
       "      \"vega-lib\": \"https://cdn.jsdelivr.net/npm//vega-lib?noext\",\n",
       "      \"vega-lite\": \"https://cdn.jsdelivr.net/npm//vega-lite@4.8.1?noext\",\n",
       "      \"vega-embed\": \"https://cdn.jsdelivr.net/npm//vega-embed@6?noext\",\n",
       "    };\n",
       "\n",
       "    function loadScript(lib) {\n",
       "      return new Promise(function(resolve, reject) {\n",
       "        var s = document.createElement('script');\n",
       "        s.src = paths[lib];\n",
       "        s.async = true;\n",
       "        s.onload = () => resolve(paths[lib]);\n",
       "        s.onerror = () => reject(`Error loading script: ${paths[lib]}`);\n",
       "        document.getElementsByTagName(\"head\")[0].appendChild(s);\n",
       "      });\n",
       "    }\n",
       "\n",
       "    function showError(err) {\n",
       "      outputDiv.innerHTML = `<div class=\"error\" style=\"color:red;\">${err}</div>`;\n",
       "      throw err;\n",
       "    }\n",
       "\n",
       "    function displayChart(vegaEmbed) {\n",
       "      vegaEmbed(outputDiv, spec, embedOpt)\n",
       "        .catch(err => showError(`Javascript Error: ${err.message}<br>This usually means there's a typo in your chart specification. See the javascript console for the full traceback.`));\n",
       "    }\n",
       "\n",
       "    if(typeof define === \"function\" && define.amd) {\n",
       "      requirejs.config({paths});\n",
       "      require([\"vega-embed\"], displayChart, err => showError(`Error loading script: ${err.message}`));\n",
       "    } else if (typeof vegaEmbed === \"function\") {\n",
       "      displayChart(vegaEmbed);\n",
       "    } else {\n",
       "      loadScript(\"vega\")\n",
       "        .then(() => loadScript(\"vega-lite\"))\n",
       "        .then(() => loadScript(\"vega-embed\"))\n",
       "        .catch(showError)\n",
       "        .then(() => displayChart(vegaEmbed));\n",
       "    }\n",
       "  })({\"config\": {\"view\": {\"continuousWidth\": 400, \"continuousHeight\": 300}}, \"data\": {\"name\": \"data-fdeb0b749a6385830bd1445d39ad6ea0\"}, \"mark\": {\"type\": \"point\", \"filled\": true}, \"encoding\": {\"color\": {\"type\": \"nominal\", \"field\": \"cluster\"}, \"size\": {\"type\": \"quantitative\", \"field\": \"pop\", \"scale\": {\"range\": [0, 1000]}}, \"x\": {\"type\": \"quantitative\", \"field\": \"fertility\"}, \"y\": {\"type\": \"quantitative\", \"field\": \"life_expect\"}}, \"$schema\": \"https://vega.github.io/schema/vega-lite/v4.8.1.json\", \"datasets\": {\"data-fdeb0b749a6385830bd1445d39ad6ea0\": [{\"year\": 2000, \"country\": \"Afghanistan\", \"cluster\": 0, \"pop\": 23898198, \"life_expect\": 42.129, \"fertility\": 7.4792}, {\"year\": 2000, \"country\": \"Argentina\", \"cluster\": 3, \"pop\": 37497728, \"life_expect\": 74.34, \"fertility\": 2.35}, {\"year\": 2000, \"country\": \"Aruba\", \"cluster\": 3, \"pop\": 69539, \"life_expect\": 73.451, \"fertility\": 2.124}, {\"year\": 2000, \"country\": \"Australia\", \"cluster\": 4, \"pop\": 19164620, \"life_expect\": 80.37, \"fertility\": 1.756}, {\"year\": 2000, \"country\": \"Austria\", \"cluster\": 1, \"pop\": 8113413, \"life_expect\": 78.98, \"fertility\": 1.3820000000000001}, {\"year\": 2000, \"country\": \"Bahamas\", \"cluster\": 3, \"pop\": 290075, \"life_expect\": 71.068, \"fertility\": 2.1111}, {\"year\": 2000, \"country\": \"Bangladesh\", \"cluster\": 0, \"pop\": 130406594, \"life_expect\": 62.013, \"fertility\": 3.224}, {\"year\": 2000, \"country\": \"Barbados\", \"cluster\": 3, \"pop\": 273483, \"life_expect\": 75.97, \"fertility\": 1.5}, {\"year\": 2000, \"country\": \"Belgium\", \"cluster\": 1, \"pop\": 10263618, \"life_expect\": 78.32, \"fertility\": 1.638}, {\"year\": 2000, \"country\": \"Bolivia\", \"cluster\": 3, \"pop\": 8152620, \"life_expect\": 63.883, \"fertility\": 3.9585}, {\"year\": 2000, \"country\": \"Brazil\", \"cluster\": 3, \"pop\": 175552771, \"life_expect\": 71.006, \"fertility\": 2.345}, {\"year\": 2000, \"country\": \"Canada\", \"cluster\": 3, \"pop\": 31278097, \"life_expect\": 79.77, \"fertility\": 1.522}, {\"year\": 2000, \"country\": \"Chile\", \"cluster\": 3, \"pop\": 15153450, \"life_expect\": 77.86, \"fertility\": 2.0}, {\"year\": 2000, \"country\": \"China\", \"cluster\": 4, \"pop\": 1262645000, \"life_expect\": 72.028, \"fertility\": 1.7000000000000002}, {\"year\": 2000, \"country\": \"Colombia\", \"cluster\": 3, \"pop\": 39685655, \"life_expect\": 71.682, \"fertility\": 2.4705}, {\"year\": 2000, \"country\": \"Costa Rica\", \"cluster\": 3, \"pop\": 3710558, \"life_expect\": 78.123, \"fertility\": 2.2815}, {\"year\": 2000, \"country\": \"Croatia\", \"cluster\": 1, \"pop\": 4410830, \"life_expect\": 74.876, \"fertility\": 1.348}, {\"year\": 2000, \"country\": \"Cuba\", \"cluster\": 3, \"pop\": 11134273, \"life_expect\": 77.158, \"fertility\": 1.63}, {\"year\": 2000, \"country\": \"Dominican Republic\", \"cluster\": 3, \"pop\": 8385828, \"life_expect\": 70.847, \"fertility\": 2.95}, {\"year\": 2000, \"country\": \"Ecuador\", \"cluster\": 3, \"pop\": 12505204, \"life_expect\": 74.173, \"fertility\": 2.8175}, {\"year\": 2000, \"country\": \"Egypt\", \"cluster\": 5, \"pop\": 70492342, \"life_expect\": 69.806, \"fertility\": 3.174}, {\"year\": 2000, \"country\": \"El Salvador\", \"cluster\": 3, \"pop\": 6122515, \"life_expect\": 70.734, \"fertility\": 2.883}, {\"year\": 2000, \"country\": \"Finland\", \"cluster\": 1, \"pop\": 5168595, \"life_expect\": 78.37, \"fertility\": 1.754}, {\"year\": 2000, \"country\": \"France\", \"cluster\": 1, \"pop\": 59381628, \"life_expect\": 79.59, \"fertility\": 1.8833000000000002}, {\"year\": 2000, \"country\": \"Georgia\", \"cluster\": 1, \"pop\": 4777209, \"life_expect\": 70.476, \"fertility\": 1.478}, {\"year\": 2000, \"country\": \"Germany\", \"cluster\": 1, \"pop\": 82187909, \"life_expect\": 78.67, \"fertility\": 1.346}, {\"year\": 2000, \"country\": \"Greece\", \"cluster\": 1, \"pop\": 10559110, \"life_expect\": 78.256, \"fertility\": 1.2770000000000001}, {\"year\": 2000, \"country\": \"Grenada\", \"cluster\": 3, \"pop\": 89312, \"life_expect\": 67.746, \"fertility\": 2.429}, {\"year\": 2000, \"country\": \"Haiti\", \"cluster\": 3, \"pop\": 7306302, \"life_expect\": 58.137, \"fertility\": 4.0}, {\"year\": 2000, \"country\": \"Hong Kong\", \"cluster\": 4, \"pop\": 6658720, \"life_expect\": 81.495, \"fertility\": 0.9400000000000001}, {\"year\": 2000, \"country\": \"Iceland\", \"cluster\": 1, \"pop\": 281043, \"life_expect\": 80.5, \"fertility\": 1.9929999999999999}, {\"year\": 2000, \"country\": \"India\", \"cluster\": 0, \"pop\": 1007702000, \"life_expect\": 62.879, \"fertility\": 3.1132}, {\"year\": 2000, \"country\": \"Indonesia\", \"cluster\": 4, \"pop\": 206265000, \"life_expect\": 68.588, \"fertility\": 2.3761}, {\"year\": 2000, \"country\": \"Iran\", \"cluster\": 5, \"pop\": 65660289, \"life_expect\": 69.451, \"fertility\": 2.124}, {\"year\": 2000, \"country\": \"Iraq\", \"cluster\": 5, \"pop\": 22675617, \"life_expect\": 57.046, \"fertility\": 4.858}, {\"year\": 2000, \"country\": \"Ireland\", \"cluster\": 1, \"pop\": 3791690, \"life_expect\": 77.783, \"fertility\": 1.9689999999999999}, {\"year\": 2000, \"country\": \"Israel\", \"cluster\": 5, \"pop\": 5842454, \"life_expect\": 79.696, \"fertility\": 2.906}, {\"year\": 2000, \"country\": \"Italy\", \"cluster\": 1, \"pop\": 57719337, \"life_expect\": 80.24, \"fertility\": 1.286}, {\"year\": 2000, \"country\": \"Jamaica\", \"cluster\": 3, \"pop\": 2615467, \"life_expect\": 72.047, \"fertility\": 2.628}, {\"year\": 2000, \"country\": \"Japan\", \"cluster\": 4, \"pop\": 126699784, \"life_expect\": 82.0, \"fertility\": 1.291}, {\"year\": 2000, \"country\": \"Kenya\", \"cluster\": 2, \"pop\": 29985839, \"life_expect\": 50.992, \"fertility\": 5.0}, {\"year\": 2000, \"country\": \"South Korea\", \"cluster\": 4, \"pop\": 21647682, \"life_expect\": 66.662, \"fertility\": 1.9173}, {\"year\": 2000, \"country\": \"North Korea\", \"cluster\": 4, \"pop\": 47351083, \"life_expect\": 77.045, \"fertility\": 1.242}, {\"year\": 2000, \"country\": \"Lebanon\", \"cluster\": 5, \"pop\": 3578036, \"life_expect\": 71.028, \"fertility\": 2.319}, {\"year\": 2000, \"country\": \"Mexico\", \"cluster\": 3, \"pop\": 99926620, \"life_expect\": 74.902, \"fertility\": 2.4005}, {\"year\": 2000, \"country\": \"Netherlands\", \"cluster\": 1, \"pop\": 15907853, \"life_expect\": 78.53, \"fertility\": 1.726}, {\"year\": 2000, \"country\": \"New Zealand\", \"cluster\": 4, \"pop\": 3819762, \"life_expect\": 79.11, \"fertility\": 1.964}, {\"year\": 2000, \"country\": \"Nigeria\", \"cluster\": 2, \"pop\": 114306700, \"life_expect\": 46.608, \"fertility\": 5.845}, {\"year\": 2000, \"country\": \"Norway\", \"cluster\": 1, \"pop\": 4492400, \"life_expect\": 79.05, \"fertility\": 1.8010000000000002}, {\"year\": 2000, \"country\": \"Pakistan\", \"cluster\": 0, \"pop\": 146342958, \"life_expect\": 63.61, \"fertility\": 3.9936}, {\"year\": 2000, \"country\": \"Peru\", \"cluster\": 3, \"pop\": 25979722, \"life_expect\": 69.906, \"fertility\": 2.7005}, {\"year\": 2000, \"country\": \"Philippines\", \"cluster\": 4, \"pop\": 79739825, \"life_expect\": 70.303, \"fertility\": 3.5436}, {\"year\": 2000, \"country\": \"Poland\", \"cluster\": 1, \"pop\": 38654164, \"life_expect\": 74.67, \"fertility\": 1.251}, {\"year\": 2000, \"country\": \"Portugal\", \"cluster\": 1, \"pop\": 10335597, \"life_expect\": 77.29, \"fertility\": 1.454}, {\"year\": 2000, \"country\": \"Rwanda\", \"cluster\": 2, \"pop\": 7507056, \"life_expect\": 43.413, \"fertility\": 6.01}, {\"year\": 2000, \"country\": \"Saudi Arabia\", \"cluster\": 5, \"pop\": 23153090, \"life_expect\": 71.626, \"fertility\": 3.81}, {\"year\": 2000, \"country\": \"South Africa\", \"cluster\": 2, \"pop\": 44066197, \"life_expect\": 53.365, \"fertility\": 2.802}, {\"year\": 2000, \"country\": \"Spain\", \"cluster\": 1, \"pop\": 40016081, \"life_expect\": 79.78, \"fertility\": 1.287}, {\"year\": 2000, \"country\": \"Switzerland\", \"cluster\": 1, \"pop\": 7266920, \"life_expect\": 80.62, \"fertility\": 1.415}, {\"year\": 2000, \"country\": \"Turkey\", \"cluster\": 1, \"pop\": 65666677, \"life_expect\": 70.845, \"fertility\": 2.23}, {\"year\": 2000, \"country\": \"United Kingdom\", \"cluster\": 1, \"pop\": 59522468, \"life_expect\": 78.471, \"fertility\": 1.695}, {\"year\": 2000, \"country\": \"United States\", \"cluster\": 3, \"pop\": 282338631, \"life_expect\": 77.31, \"fertility\": 2.038}, {\"year\": 2000, \"country\": \"Venezuela\", \"cluster\": 3, \"pop\": 23542649, \"life_expect\": 72.766, \"fertility\": 2.723}]}}, {\"mode\": \"vega-lite\"});\n",
       "</script>"
      ],
      "text/plain": [
       "alt.Chart(...)"
      ]
     },
     "execution_count": 14,
     "metadata": {},
     "output_type": "execute_result"
    }
   ],
   "source": [
    "alt.Chart(data2000).mark_point(filled=True).encode(\n",
    "    alt.X('fertility:Q'),\n",
    "    alt.Y('life_expect:Q'),\n",
    "    alt.Size('pop:Q', scale=alt.Scale(range=[0,1000])),\n",
    "    alt.Color('cluster:N')\n",
    ")"
   ]
  },
  {
   "cell_type": "markdown",
   "metadata": {
    "colab_type": "text",
    "id": "YY96rt7zfRYG"
   },
   "source": [
    "By default, Altair uses a bit of transparency to help combat over-plotting. We are free to further adjust the opacity, either by passing a default value to the `mark_*` method, or using a dedicated encoding channel.\n",
    "\n",
    "Here we demonstrate how to provide a constant value to an encoding channel instead of binding a data field:"
   ]
  },
  {
   "cell_type": "code",
   "execution_count": 16,
   "metadata": {
    "colab": {
     "base_uri": "https://localhost:8080/",
     "height": 372
    },
    "colab_type": "code",
    "id": "42kM5nuDOfGm",
    "outputId": "2dd14842-8fd5-4997-ea47-91cd489e0193"
   },
   "outputs": [
    {
     "data": {
      "text/html": [
       "\n",
       "<div id=\"altair-viz-47630dcd84b44f5bb2731c58ae0fc11e\"></div>\n",
       "<script type=\"text/javascript\">\n",
       "  (function(spec, embedOpt){\n",
       "    let outputDiv = document.currentScript.previousElementSibling;\n",
       "    if (outputDiv.id !== \"altair-viz-47630dcd84b44f5bb2731c58ae0fc11e\") {\n",
       "      outputDiv = document.getElementById(\"altair-viz-47630dcd84b44f5bb2731c58ae0fc11e\");\n",
       "    }\n",
       "    const paths = {\n",
       "      \"vega\": \"https://cdn.jsdelivr.net/npm//vega@5?noext\",\n",
       "      \"vega-lib\": \"https://cdn.jsdelivr.net/npm//vega-lib?noext\",\n",
       "      \"vega-lite\": \"https://cdn.jsdelivr.net/npm//vega-lite@4.8.1?noext\",\n",
       "      \"vega-embed\": \"https://cdn.jsdelivr.net/npm//vega-embed@6?noext\",\n",
       "    };\n",
       "\n",
       "    function loadScript(lib) {\n",
       "      return new Promise(function(resolve, reject) {\n",
       "        var s = document.createElement('script');\n",
       "        s.src = paths[lib];\n",
       "        s.async = true;\n",
       "        s.onload = () => resolve(paths[lib]);\n",
       "        s.onerror = () => reject(`Error loading script: ${paths[lib]}`);\n",
       "        document.getElementsByTagName(\"head\")[0].appendChild(s);\n",
       "      });\n",
       "    }\n",
       "\n",
       "    function showError(err) {\n",
       "      outputDiv.innerHTML = `<div class=\"error\" style=\"color:red;\">${err}</div>`;\n",
       "      throw err;\n",
       "    }\n",
       "\n",
       "    function displayChart(vegaEmbed) {\n",
       "      vegaEmbed(outputDiv, spec, embedOpt)\n",
       "        .catch(err => showError(`Javascript Error: ${err.message}<br>This usually means there's a typo in your chart specification. See the javascript console for the full traceback.`));\n",
       "    }\n",
       "\n",
       "    if(typeof define === \"function\" && define.amd) {\n",
       "      requirejs.config({paths});\n",
       "      require([\"vega-embed\"], displayChart, err => showError(`Error loading script: ${err.message}`));\n",
       "    } else if (typeof vegaEmbed === \"function\") {\n",
       "      displayChart(vegaEmbed);\n",
       "    } else {\n",
       "      loadScript(\"vega\")\n",
       "        .then(() => loadScript(\"vega-lite\"))\n",
       "        .then(() => loadScript(\"vega-embed\"))\n",
       "        .catch(showError)\n",
       "        .then(() => displayChart(vegaEmbed));\n",
       "    }\n",
       "  })({\"config\": {\"view\": {\"continuousWidth\": 400, \"continuousHeight\": 300}}, \"data\": {\"name\": \"data-fdeb0b749a6385830bd1445d39ad6ea0\"}, \"mark\": {\"type\": \"point\", \"filled\": true}, \"encoding\": {\"color\": {\"type\": \"nominal\", \"field\": \"cluster\"}, \"opacity\": {\"value\": 0.5}, \"size\": {\"type\": \"quantitative\", \"field\": \"pop\", \"scale\": {\"range\": [0, 1000]}}, \"x\": {\"type\": \"quantitative\", \"field\": \"fertility\"}, \"y\": {\"type\": \"quantitative\", \"field\": \"life_expect\"}}, \"$schema\": \"https://vega.github.io/schema/vega-lite/v4.8.1.json\", \"datasets\": {\"data-fdeb0b749a6385830bd1445d39ad6ea0\": [{\"year\": 2000, \"country\": \"Afghanistan\", \"cluster\": 0, \"pop\": 23898198, \"life_expect\": 42.129, \"fertility\": 7.4792}, {\"year\": 2000, \"country\": \"Argentina\", \"cluster\": 3, \"pop\": 37497728, \"life_expect\": 74.34, \"fertility\": 2.35}, {\"year\": 2000, \"country\": \"Aruba\", \"cluster\": 3, \"pop\": 69539, \"life_expect\": 73.451, \"fertility\": 2.124}, {\"year\": 2000, \"country\": \"Australia\", \"cluster\": 4, \"pop\": 19164620, \"life_expect\": 80.37, \"fertility\": 1.756}, {\"year\": 2000, \"country\": \"Austria\", \"cluster\": 1, \"pop\": 8113413, \"life_expect\": 78.98, \"fertility\": 1.3820000000000001}, {\"year\": 2000, \"country\": \"Bahamas\", \"cluster\": 3, \"pop\": 290075, \"life_expect\": 71.068, \"fertility\": 2.1111}, {\"year\": 2000, \"country\": \"Bangladesh\", \"cluster\": 0, \"pop\": 130406594, \"life_expect\": 62.013, \"fertility\": 3.224}, {\"year\": 2000, \"country\": \"Barbados\", \"cluster\": 3, \"pop\": 273483, \"life_expect\": 75.97, \"fertility\": 1.5}, {\"year\": 2000, \"country\": \"Belgium\", \"cluster\": 1, \"pop\": 10263618, \"life_expect\": 78.32, \"fertility\": 1.638}, {\"year\": 2000, \"country\": \"Bolivia\", \"cluster\": 3, \"pop\": 8152620, \"life_expect\": 63.883, \"fertility\": 3.9585}, {\"year\": 2000, \"country\": \"Brazil\", \"cluster\": 3, \"pop\": 175552771, \"life_expect\": 71.006, \"fertility\": 2.345}, {\"year\": 2000, \"country\": \"Canada\", \"cluster\": 3, \"pop\": 31278097, \"life_expect\": 79.77, \"fertility\": 1.522}, {\"year\": 2000, \"country\": \"Chile\", \"cluster\": 3, \"pop\": 15153450, \"life_expect\": 77.86, \"fertility\": 2.0}, {\"year\": 2000, \"country\": \"China\", \"cluster\": 4, \"pop\": 1262645000, \"life_expect\": 72.028, \"fertility\": 1.7000000000000002}, {\"year\": 2000, \"country\": \"Colombia\", \"cluster\": 3, \"pop\": 39685655, \"life_expect\": 71.682, \"fertility\": 2.4705}, {\"year\": 2000, \"country\": \"Costa Rica\", \"cluster\": 3, \"pop\": 3710558, \"life_expect\": 78.123, \"fertility\": 2.2815}, {\"year\": 2000, \"country\": \"Croatia\", \"cluster\": 1, \"pop\": 4410830, \"life_expect\": 74.876, \"fertility\": 1.348}, {\"year\": 2000, \"country\": \"Cuba\", \"cluster\": 3, \"pop\": 11134273, \"life_expect\": 77.158, \"fertility\": 1.63}, {\"year\": 2000, \"country\": \"Dominican Republic\", \"cluster\": 3, \"pop\": 8385828, \"life_expect\": 70.847, \"fertility\": 2.95}, {\"year\": 2000, \"country\": \"Ecuador\", \"cluster\": 3, \"pop\": 12505204, \"life_expect\": 74.173, \"fertility\": 2.8175}, {\"year\": 2000, \"country\": \"Egypt\", \"cluster\": 5, \"pop\": 70492342, \"life_expect\": 69.806, \"fertility\": 3.174}, {\"year\": 2000, \"country\": \"El Salvador\", \"cluster\": 3, \"pop\": 6122515, \"life_expect\": 70.734, \"fertility\": 2.883}, {\"year\": 2000, \"country\": \"Finland\", \"cluster\": 1, \"pop\": 5168595, \"life_expect\": 78.37, \"fertility\": 1.754}, {\"year\": 2000, \"country\": \"France\", \"cluster\": 1, \"pop\": 59381628, \"life_expect\": 79.59, \"fertility\": 1.8833000000000002}, {\"year\": 2000, \"country\": \"Georgia\", \"cluster\": 1, \"pop\": 4777209, \"life_expect\": 70.476, \"fertility\": 1.478}, {\"year\": 2000, \"country\": \"Germany\", \"cluster\": 1, \"pop\": 82187909, \"life_expect\": 78.67, \"fertility\": 1.346}, {\"year\": 2000, \"country\": \"Greece\", \"cluster\": 1, \"pop\": 10559110, \"life_expect\": 78.256, \"fertility\": 1.2770000000000001}, {\"year\": 2000, \"country\": \"Grenada\", \"cluster\": 3, \"pop\": 89312, \"life_expect\": 67.746, \"fertility\": 2.429}, {\"year\": 2000, \"country\": \"Haiti\", \"cluster\": 3, \"pop\": 7306302, \"life_expect\": 58.137, \"fertility\": 4.0}, {\"year\": 2000, \"country\": \"Hong Kong\", \"cluster\": 4, \"pop\": 6658720, \"life_expect\": 81.495, \"fertility\": 0.9400000000000001}, {\"year\": 2000, \"country\": \"Iceland\", \"cluster\": 1, \"pop\": 281043, \"life_expect\": 80.5, \"fertility\": 1.9929999999999999}, {\"year\": 2000, \"country\": \"India\", \"cluster\": 0, \"pop\": 1007702000, \"life_expect\": 62.879, \"fertility\": 3.1132}, {\"year\": 2000, \"country\": \"Indonesia\", \"cluster\": 4, \"pop\": 206265000, \"life_expect\": 68.588, \"fertility\": 2.3761}, {\"year\": 2000, \"country\": \"Iran\", \"cluster\": 5, \"pop\": 65660289, \"life_expect\": 69.451, \"fertility\": 2.124}, {\"year\": 2000, \"country\": \"Iraq\", \"cluster\": 5, \"pop\": 22675617, \"life_expect\": 57.046, \"fertility\": 4.858}, {\"year\": 2000, \"country\": \"Ireland\", \"cluster\": 1, \"pop\": 3791690, \"life_expect\": 77.783, \"fertility\": 1.9689999999999999}, {\"year\": 2000, \"country\": \"Israel\", \"cluster\": 5, \"pop\": 5842454, \"life_expect\": 79.696, \"fertility\": 2.906}, {\"year\": 2000, \"country\": \"Italy\", \"cluster\": 1, \"pop\": 57719337, \"life_expect\": 80.24, \"fertility\": 1.286}, {\"year\": 2000, \"country\": \"Jamaica\", \"cluster\": 3, \"pop\": 2615467, \"life_expect\": 72.047, \"fertility\": 2.628}, {\"year\": 2000, \"country\": \"Japan\", \"cluster\": 4, \"pop\": 126699784, \"life_expect\": 82.0, \"fertility\": 1.291}, {\"year\": 2000, \"country\": \"Kenya\", \"cluster\": 2, \"pop\": 29985839, \"life_expect\": 50.992, \"fertility\": 5.0}, {\"year\": 2000, \"country\": \"South Korea\", \"cluster\": 4, \"pop\": 21647682, \"life_expect\": 66.662, \"fertility\": 1.9173}, {\"year\": 2000, \"country\": \"North Korea\", \"cluster\": 4, \"pop\": 47351083, \"life_expect\": 77.045, \"fertility\": 1.242}, {\"year\": 2000, \"country\": \"Lebanon\", \"cluster\": 5, \"pop\": 3578036, \"life_expect\": 71.028, \"fertility\": 2.319}, {\"year\": 2000, \"country\": \"Mexico\", \"cluster\": 3, \"pop\": 99926620, \"life_expect\": 74.902, \"fertility\": 2.4005}, {\"year\": 2000, \"country\": \"Netherlands\", \"cluster\": 1, \"pop\": 15907853, \"life_expect\": 78.53, \"fertility\": 1.726}, {\"year\": 2000, \"country\": \"New Zealand\", \"cluster\": 4, \"pop\": 3819762, \"life_expect\": 79.11, \"fertility\": 1.964}, {\"year\": 2000, \"country\": \"Nigeria\", \"cluster\": 2, \"pop\": 114306700, \"life_expect\": 46.608, \"fertility\": 5.845}, {\"year\": 2000, \"country\": \"Norway\", \"cluster\": 1, \"pop\": 4492400, \"life_expect\": 79.05, \"fertility\": 1.8010000000000002}, {\"year\": 2000, \"country\": \"Pakistan\", \"cluster\": 0, \"pop\": 146342958, \"life_expect\": 63.61, \"fertility\": 3.9936}, {\"year\": 2000, \"country\": \"Peru\", \"cluster\": 3, \"pop\": 25979722, \"life_expect\": 69.906, \"fertility\": 2.7005}, {\"year\": 2000, \"country\": \"Philippines\", \"cluster\": 4, \"pop\": 79739825, \"life_expect\": 70.303, \"fertility\": 3.5436}, {\"year\": 2000, \"country\": \"Poland\", \"cluster\": 1, \"pop\": 38654164, \"life_expect\": 74.67, \"fertility\": 1.251}, {\"year\": 2000, \"country\": \"Portugal\", \"cluster\": 1, \"pop\": 10335597, \"life_expect\": 77.29, \"fertility\": 1.454}, {\"year\": 2000, \"country\": \"Rwanda\", \"cluster\": 2, \"pop\": 7507056, \"life_expect\": 43.413, \"fertility\": 6.01}, {\"year\": 2000, \"country\": \"Saudi Arabia\", \"cluster\": 5, \"pop\": 23153090, \"life_expect\": 71.626, \"fertility\": 3.81}, {\"year\": 2000, \"country\": \"South Africa\", \"cluster\": 2, \"pop\": 44066197, \"life_expect\": 53.365, \"fertility\": 2.802}, {\"year\": 2000, \"country\": \"Spain\", \"cluster\": 1, \"pop\": 40016081, \"life_expect\": 79.78, \"fertility\": 1.287}, {\"year\": 2000, \"country\": \"Switzerland\", \"cluster\": 1, \"pop\": 7266920, \"life_expect\": 80.62, \"fertility\": 1.415}, {\"year\": 2000, \"country\": \"Turkey\", \"cluster\": 1, \"pop\": 65666677, \"life_expect\": 70.845, \"fertility\": 2.23}, {\"year\": 2000, \"country\": \"United Kingdom\", \"cluster\": 1, \"pop\": 59522468, \"life_expect\": 78.471, \"fertility\": 1.695}, {\"year\": 2000, \"country\": \"United States\", \"cluster\": 3, \"pop\": 282338631, \"life_expect\": 77.31, \"fertility\": 2.038}, {\"year\": 2000, \"country\": \"Venezuela\", \"cluster\": 3, \"pop\": 23542649, \"life_expect\": 72.766, \"fertility\": 2.723}]}}, {\"mode\": \"vega-lite\"});\n",
       "</script>"
      ],
      "text/plain": [
       "alt.Chart(...)"
      ]
     },
     "execution_count": 15,
     "metadata": {},
     "output_type": "execute_result"
    }
   ],
   "source": [
    "alt.Chart(data2000).mark_point(filled=True).encode(\n",
    "    alt.X('fertility:Q'),\n",
    "    alt.Y('life_expect:Q'),\n",
    "    alt.Size('pop:Q', scale=alt.Scale(range=[0,1000])),\n",
    "    alt.Color('cluster:N'),\n",
    "    alt.OpacityValue(0.5)\n",
    ")"
   ]
  },
  {
   "cell_type": "markdown",
   "metadata": {
    "colab_type": "text",
    "id": "zW2Siu5sPaiE"
   },
   "source": [
    "### Shape"
   ]
  },
  {
   "cell_type": "markdown",
   "metadata": {
    "colab_type": "text",
    "id": "MGM2hdOqf3Tu"
   },
   "source": [
    "The `shape` encoding channel sets the geometric shape used by `point` marks. Unlike the other channels we have seen so far, the `shape` channel can not be used by other mark types. The shape encoding channel should only be used with nominal data, as perceptual rank-order and magnitude comparisons are not supported.\n",
    "\n",
    "Let's encode the `cluster` field using `shape` as well as `color`. Using multiple channels for the same underlying data field is known as a *redundant encoding*. The resulting chart combines both color and shape information into a single symbol legend:"
   ]
  },
  {
   "cell_type": "code",
   "execution_count": 17,
   "metadata": {
    "colab": {
     "base_uri": "https://localhost:8080/",
     "height": 372
    },
    "colab_type": "code",
    "id": "czAIeWjSPS5x",
    "outputId": "e418f006-988c-42a9-9a81-664d1d52d93c"
   },
   "outputs": [
    {
     "data": {
      "text/html": [
       "\n",
       "<div id=\"altair-viz-4b2245df4e6b4d1a966c13455343c704\"></div>\n",
       "<script type=\"text/javascript\">\n",
       "  (function(spec, embedOpt){\n",
       "    let outputDiv = document.currentScript.previousElementSibling;\n",
       "    if (outputDiv.id !== \"altair-viz-4b2245df4e6b4d1a966c13455343c704\") {\n",
       "      outputDiv = document.getElementById(\"altair-viz-4b2245df4e6b4d1a966c13455343c704\");\n",
       "    }\n",
       "    const paths = {\n",
       "      \"vega\": \"https://cdn.jsdelivr.net/npm//vega@5?noext\",\n",
       "      \"vega-lib\": \"https://cdn.jsdelivr.net/npm//vega-lib?noext\",\n",
       "      \"vega-lite\": \"https://cdn.jsdelivr.net/npm//vega-lite@4.8.1?noext\",\n",
       "      \"vega-embed\": \"https://cdn.jsdelivr.net/npm//vega-embed@6?noext\",\n",
       "    };\n",
       "\n",
       "    function loadScript(lib) {\n",
       "      return new Promise(function(resolve, reject) {\n",
       "        var s = document.createElement('script');\n",
       "        s.src = paths[lib];\n",
       "        s.async = true;\n",
       "        s.onload = () => resolve(paths[lib]);\n",
       "        s.onerror = () => reject(`Error loading script: ${paths[lib]}`);\n",
       "        document.getElementsByTagName(\"head\")[0].appendChild(s);\n",
       "      });\n",
       "    }\n",
       "\n",
       "    function showError(err) {\n",
       "      outputDiv.innerHTML = `<div class=\"error\" style=\"color:red;\">${err}</div>`;\n",
       "      throw err;\n",
       "    }\n",
       "\n",
       "    function displayChart(vegaEmbed) {\n",
       "      vegaEmbed(outputDiv, spec, embedOpt)\n",
       "        .catch(err => showError(`Javascript Error: ${err.message}<br>This usually means there's a typo in your chart specification. See the javascript console for the full traceback.`));\n",
       "    }\n",
       "\n",
       "    if(typeof define === \"function\" && define.amd) {\n",
       "      requirejs.config({paths});\n",
       "      require([\"vega-embed\"], displayChart, err => showError(`Error loading script: ${err.message}`));\n",
       "    } else if (typeof vegaEmbed === \"function\") {\n",
       "      displayChart(vegaEmbed);\n",
       "    } else {\n",
       "      loadScript(\"vega\")\n",
       "        .then(() => loadScript(\"vega-lite\"))\n",
       "        .then(() => loadScript(\"vega-embed\"))\n",
       "        .catch(showError)\n",
       "        .then(() => displayChart(vegaEmbed));\n",
       "    }\n",
       "  })({\"config\": {\"view\": {\"continuousWidth\": 400, \"continuousHeight\": 300}}, \"data\": {\"name\": \"data-fdeb0b749a6385830bd1445d39ad6ea0\"}, \"mark\": {\"type\": \"point\", \"filled\": true}, \"encoding\": {\"color\": {\"type\": \"nominal\", \"field\": \"cluster\"}, \"opacity\": {\"value\": 0.5}, \"shape\": {\"type\": \"nominal\", \"field\": \"cluster\"}, \"size\": {\"type\": \"quantitative\", \"field\": \"pop\", \"scale\": {\"range\": [0, 1000]}}, \"x\": {\"type\": \"quantitative\", \"field\": \"fertility\"}, \"y\": {\"type\": \"quantitative\", \"field\": \"life_expect\"}}, \"$schema\": \"https://vega.github.io/schema/vega-lite/v4.8.1.json\", \"datasets\": {\"data-fdeb0b749a6385830bd1445d39ad6ea0\": [{\"year\": 2000, \"country\": \"Afghanistan\", \"cluster\": 0, \"pop\": 23898198, \"life_expect\": 42.129, \"fertility\": 7.4792}, {\"year\": 2000, \"country\": \"Argentina\", \"cluster\": 3, \"pop\": 37497728, \"life_expect\": 74.34, \"fertility\": 2.35}, {\"year\": 2000, \"country\": \"Aruba\", \"cluster\": 3, \"pop\": 69539, \"life_expect\": 73.451, \"fertility\": 2.124}, {\"year\": 2000, \"country\": \"Australia\", \"cluster\": 4, \"pop\": 19164620, \"life_expect\": 80.37, \"fertility\": 1.756}, {\"year\": 2000, \"country\": \"Austria\", \"cluster\": 1, \"pop\": 8113413, \"life_expect\": 78.98, \"fertility\": 1.3820000000000001}, {\"year\": 2000, \"country\": \"Bahamas\", \"cluster\": 3, \"pop\": 290075, \"life_expect\": 71.068, \"fertility\": 2.1111}, {\"year\": 2000, \"country\": \"Bangladesh\", \"cluster\": 0, \"pop\": 130406594, \"life_expect\": 62.013, \"fertility\": 3.224}, {\"year\": 2000, \"country\": \"Barbados\", \"cluster\": 3, \"pop\": 273483, \"life_expect\": 75.97, \"fertility\": 1.5}, {\"year\": 2000, \"country\": \"Belgium\", \"cluster\": 1, \"pop\": 10263618, \"life_expect\": 78.32, \"fertility\": 1.638}, {\"year\": 2000, \"country\": \"Bolivia\", \"cluster\": 3, \"pop\": 8152620, \"life_expect\": 63.883, \"fertility\": 3.9585}, {\"year\": 2000, \"country\": \"Brazil\", \"cluster\": 3, \"pop\": 175552771, \"life_expect\": 71.006, \"fertility\": 2.345}, {\"year\": 2000, \"country\": \"Canada\", \"cluster\": 3, \"pop\": 31278097, \"life_expect\": 79.77, \"fertility\": 1.522}, {\"year\": 2000, \"country\": \"Chile\", \"cluster\": 3, \"pop\": 15153450, \"life_expect\": 77.86, \"fertility\": 2.0}, {\"year\": 2000, \"country\": \"China\", \"cluster\": 4, \"pop\": 1262645000, \"life_expect\": 72.028, \"fertility\": 1.7000000000000002}, {\"year\": 2000, \"country\": \"Colombia\", \"cluster\": 3, \"pop\": 39685655, \"life_expect\": 71.682, \"fertility\": 2.4705}, {\"year\": 2000, \"country\": \"Costa Rica\", \"cluster\": 3, \"pop\": 3710558, \"life_expect\": 78.123, \"fertility\": 2.2815}, {\"year\": 2000, \"country\": \"Croatia\", \"cluster\": 1, \"pop\": 4410830, \"life_expect\": 74.876, \"fertility\": 1.348}, {\"year\": 2000, \"country\": \"Cuba\", \"cluster\": 3, \"pop\": 11134273, \"life_expect\": 77.158, \"fertility\": 1.63}, {\"year\": 2000, \"country\": \"Dominican Republic\", \"cluster\": 3, \"pop\": 8385828, \"life_expect\": 70.847, \"fertility\": 2.95}, {\"year\": 2000, \"country\": \"Ecuador\", \"cluster\": 3, \"pop\": 12505204, \"life_expect\": 74.173, \"fertility\": 2.8175}, {\"year\": 2000, \"country\": \"Egypt\", \"cluster\": 5, \"pop\": 70492342, \"life_expect\": 69.806, \"fertility\": 3.174}, {\"year\": 2000, \"country\": \"El Salvador\", \"cluster\": 3, \"pop\": 6122515, \"life_expect\": 70.734, \"fertility\": 2.883}, {\"year\": 2000, \"country\": \"Finland\", \"cluster\": 1, \"pop\": 5168595, \"life_expect\": 78.37, \"fertility\": 1.754}, {\"year\": 2000, \"country\": \"France\", \"cluster\": 1, \"pop\": 59381628, \"life_expect\": 79.59, \"fertility\": 1.8833000000000002}, {\"year\": 2000, \"country\": \"Georgia\", \"cluster\": 1, \"pop\": 4777209, \"life_expect\": 70.476, \"fertility\": 1.478}, {\"year\": 2000, \"country\": \"Germany\", \"cluster\": 1, \"pop\": 82187909, \"life_expect\": 78.67, \"fertility\": 1.346}, {\"year\": 2000, \"country\": \"Greece\", \"cluster\": 1, \"pop\": 10559110, \"life_expect\": 78.256, \"fertility\": 1.2770000000000001}, {\"year\": 2000, \"country\": \"Grenada\", \"cluster\": 3, \"pop\": 89312, \"life_expect\": 67.746, \"fertility\": 2.429}, {\"year\": 2000, \"country\": \"Haiti\", \"cluster\": 3, \"pop\": 7306302, \"life_expect\": 58.137, \"fertility\": 4.0}, {\"year\": 2000, \"country\": \"Hong Kong\", \"cluster\": 4, \"pop\": 6658720, \"life_expect\": 81.495, \"fertility\": 0.9400000000000001}, {\"year\": 2000, \"country\": \"Iceland\", \"cluster\": 1, \"pop\": 281043, \"life_expect\": 80.5, \"fertility\": 1.9929999999999999}, {\"year\": 2000, \"country\": \"India\", \"cluster\": 0, \"pop\": 1007702000, \"life_expect\": 62.879, \"fertility\": 3.1132}, {\"year\": 2000, \"country\": \"Indonesia\", \"cluster\": 4, \"pop\": 206265000, \"life_expect\": 68.588, \"fertility\": 2.3761}, {\"year\": 2000, \"country\": \"Iran\", \"cluster\": 5, \"pop\": 65660289, \"life_expect\": 69.451, \"fertility\": 2.124}, {\"year\": 2000, \"country\": \"Iraq\", \"cluster\": 5, \"pop\": 22675617, \"life_expect\": 57.046, \"fertility\": 4.858}, {\"year\": 2000, \"country\": \"Ireland\", \"cluster\": 1, \"pop\": 3791690, \"life_expect\": 77.783, \"fertility\": 1.9689999999999999}, {\"year\": 2000, \"country\": \"Israel\", \"cluster\": 5, \"pop\": 5842454, \"life_expect\": 79.696, \"fertility\": 2.906}, {\"year\": 2000, \"country\": \"Italy\", \"cluster\": 1, \"pop\": 57719337, \"life_expect\": 80.24, \"fertility\": 1.286}, {\"year\": 2000, \"country\": \"Jamaica\", \"cluster\": 3, \"pop\": 2615467, \"life_expect\": 72.047, \"fertility\": 2.628}, {\"year\": 2000, \"country\": \"Japan\", \"cluster\": 4, \"pop\": 126699784, \"life_expect\": 82.0, \"fertility\": 1.291}, {\"year\": 2000, \"country\": \"Kenya\", \"cluster\": 2, \"pop\": 29985839, \"life_expect\": 50.992, \"fertility\": 5.0}, {\"year\": 2000, \"country\": \"South Korea\", \"cluster\": 4, \"pop\": 21647682, \"life_expect\": 66.662, \"fertility\": 1.9173}, {\"year\": 2000, \"country\": \"North Korea\", \"cluster\": 4, \"pop\": 47351083, \"life_expect\": 77.045, \"fertility\": 1.242}, {\"year\": 2000, \"country\": \"Lebanon\", \"cluster\": 5, \"pop\": 3578036, \"life_expect\": 71.028, \"fertility\": 2.319}, {\"year\": 2000, \"country\": \"Mexico\", \"cluster\": 3, \"pop\": 99926620, \"life_expect\": 74.902, \"fertility\": 2.4005}, {\"year\": 2000, \"country\": \"Netherlands\", \"cluster\": 1, \"pop\": 15907853, \"life_expect\": 78.53, \"fertility\": 1.726}, {\"year\": 2000, \"country\": \"New Zealand\", \"cluster\": 4, \"pop\": 3819762, \"life_expect\": 79.11, \"fertility\": 1.964}, {\"year\": 2000, \"country\": \"Nigeria\", \"cluster\": 2, \"pop\": 114306700, \"life_expect\": 46.608, \"fertility\": 5.845}, {\"year\": 2000, \"country\": \"Norway\", \"cluster\": 1, \"pop\": 4492400, \"life_expect\": 79.05, \"fertility\": 1.8010000000000002}, {\"year\": 2000, \"country\": \"Pakistan\", \"cluster\": 0, \"pop\": 146342958, \"life_expect\": 63.61, \"fertility\": 3.9936}, {\"year\": 2000, \"country\": \"Peru\", \"cluster\": 3, \"pop\": 25979722, \"life_expect\": 69.906, \"fertility\": 2.7005}, {\"year\": 2000, \"country\": \"Philippines\", \"cluster\": 4, \"pop\": 79739825, \"life_expect\": 70.303, \"fertility\": 3.5436}, {\"year\": 2000, \"country\": \"Poland\", \"cluster\": 1, \"pop\": 38654164, \"life_expect\": 74.67, \"fertility\": 1.251}, {\"year\": 2000, \"country\": \"Portugal\", \"cluster\": 1, \"pop\": 10335597, \"life_expect\": 77.29, \"fertility\": 1.454}, {\"year\": 2000, \"country\": \"Rwanda\", \"cluster\": 2, \"pop\": 7507056, \"life_expect\": 43.413, \"fertility\": 6.01}, {\"year\": 2000, \"country\": \"Saudi Arabia\", \"cluster\": 5, \"pop\": 23153090, \"life_expect\": 71.626, \"fertility\": 3.81}, {\"year\": 2000, \"country\": \"South Africa\", \"cluster\": 2, \"pop\": 44066197, \"life_expect\": 53.365, \"fertility\": 2.802}, {\"year\": 2000, \"country\": \"Spain\", \"cluster\": 1, \"pop\": 40016081, \"life_expect\": 79.78, \"fertility\": 1.287}, {\"year\": 2000, \"country\": \"Switzerland\", \"cluster\": 1, \"pop\": 7266920, \"life_expect\": 80.62, \"fertility\": 1.415}, {\"year\": 2000, \"country\": \"Turkey\", \"cluster\": 1, \"pop\": 65666677, \"life_expect\": 70.845, \"fertility\": 2.23}, {\"year\": 2000, \"country\": \"United Kingdom\", \"cluster\": 1, \"pop\": 59522468, \"life_expect\": 78.471, \"fertility\": 1.695}, {\"year\": 2000, \"country\": \"United States\", \"cluster\": 3, \"pop\": 282338631, \"life_expect\": 77.31, \"fertility\": 2.038}, {\"year\": 2000, \"country\": \"Venezuela\", \"cluster\": 3, \"pop\": 23542649, \"life_expect\": 72.766, \"fertility\": 2.723}]}}, {\"mode\": \"vega-lite\"});\n",
       "</script>"
      ],
      "text/plain": [
       "alt.Chart(...)"
      ]
     },
     "execution_count": 16,
     "metadata": {},
     "output_type": "execute_result"
    }
   ],
   "source": [
    "alt.Chart(data2000).mark_point(filled=True).encode(\n",
    "    alt.X('fertility:Q'),\n",
    "    alt.Y('life_expect:Q'),\n",
    "    alt.Size('pop:Q', scale=alt.Scale(range=[0,1000])),\n",
    "    alt.Color('cluster:N'),\n",
    "    alt.OpacityValue(0.5),\n",
    "    alt.Shape('cluster:N')\n",
    ")"
   ]
  },
  {
   "cell_type": "markdown",
   "metadata": {
    "colab_type": "text",
    "id": "ramTzfIgUtEi"
   },
   "source": [
    "### Tooltips & Ordering"
   ]
  },
  {
   "cell_type": "markdown",
   "metadata": {
    "colab_type": "text",
    "id": "VE-29r8dg1Us"
   },
   "source": [
    "By this point, you might feel a bit frustrated: we've built up a chart, but we still don't know what countries the visualized points correspond to! Let's add interactive tooltips to enable exploration.\n",
    "\n",
    "The `tooltip` encoding channel determines tooltip text to show when a user moves the mouse cursor over a mark. Let's add a tooltip encoding for the `country` field, then investigate which countries are being represented.\n"
   ]
  },
  {
   "cell_type": "code",
   "execution_count": 18,
   "metadata": {
    "colab": {
     "base_uri": "https://localhost:8080/",
     "height": 372
    },
    "colab_type": "code",
    "id": "61evgaeFUyU0",
    "outputId": "f13ddd14-3b6f-4f96-ca08-8d3b2ba94a34"
   },
   "outputs": [
    {
     "data": {
      "text/html": [
       "\n",
       "<div id=\"altair-viz-18b1640c737f4f54a2587e20320b60fe\"></div>\n",
       "<script type=\"text/javascript\">\n",
       "  (function(spec, embedOpt){\n",
       "    let outputDiv = document.currentScript.previousElementSibling;\n",
       "    if (outputDiv.id !== \"altair-viz-18b1640c737f4f54a2587e20320b60fe\") {\n",
       "      outputDiv = document.getElementById(\"altair-viz-18b1640c737f4f54a2587e20320b60fe\");\n",
       "    }\n",
       "    const paths = {\n",
       "      \"vega\": \"https://cdn.jsdelivr.net/npm//vega@5?noext\",\n",
       "      \"vega-lib\": \"https://cdn.jsdelivr.net/npm//vega-lib?noext\",\n",
       "      \"vega-lite\": \"https://cdn.jsdelivr.net/npm//vega-lite@4.8.1?noext\",\n",
       "      \"vega-embed\": \"https://cdn.jsdelivr.net/npm//vega-embed@6?noext\",\n",
       "    };\n",
       "\n",
       "    function loadScript(lib) {\n",
       "      return new Promise(function(resolve, reject) {\n",
       "        var s = document.createElement('script');\n",
       "        s.src = paths[lib];\n",
       "        s.async = true;\n",
       "        s.onload = () => resolve(paths[lib]);\n",
       "        s.onerror = () => reject(`Error loading script: ${paths[lib]}`);\n",
       "        document.getElementsByTagName(\"head\")[0].appendChild(s);\n",
       "      });\n",
       "    }\n",
       "\n",
       "    function showError(err) {\n",
       "      outputDiv.innerHTML = `<div class=\"error\" style=\"color:red;\">${err}</div>`;\n",
       "      throw err;\n",
       "    }\n",
       "\n",
       "    function displayChart(vegaEmbed) {\n",
       "      vegaEmbed(outputDiv, spec, embedOpt)\n",
       "        .catch(err => showError(`Javascript Error: ${err.message}<br>This usually means there's a typo in your chart specification. See the javascript console for the full traceback.`));\n",
       "    }\n",
       "\n",
       "    if(typeof define === \"function\" && define.amd) {\n",
       "      requirejs.config({paths});\n",
       "      require([\"vega-embed\"], displayChart, err => showError(`Error loading script: ${err.message}`));\n",
       "    } else if (typeof vegaEmbed === \"function\") {\n",
       "      displayChart(vegaEmbed);\n",
       "    } else {\n",
       "      loadScript(\"vega\")\n",
       "        .then(() => loadScript(\"vega-lite\"))\n",
       "        .then(() => loadScript(\"vega-embed\"))\n",
       "        .catch(showError)\n",
       "        .then(() => displayChart(vegaEmbed));\n",
       "    }\n",
       "  })({\"config\": {\"view\": {\"continuousWidth\": 400, \"continuousHeight\": 300}}, \"data\": {\"name\": \"data-fdeb0b749a6385830bd1445d39ad6ea0\"}, \"mark\": {\"type\": \"point\", \"filled\": true}, \"encoding\": {\"color\": {\"type\": \"nominal\", \"field\": \"cluster\"}, \"opacity\": {\"value\": 0.5}, \"size\": {\"type\": \"quantitative\", \"field\": \"pop\", \"scale\": {\"range\": [0, 1000]}}, \"tooltip\": {\"type\": \"nominal\", \"field\": \"country\"}, \"x\": {\"type\": \"quantitative\", \"field\": \"fertility\"}, \"y\": {\"type\": \"quantitative\", \"field\": \"life_expect\"}}, \"$schema\": \"https://vega.github.io/schema/vega-lite/v4.8.1.json\", \"datasets\": {\"data-fdeb0b749a6385830bd1445d39ad6ea0\": [{\"year\": 2000, \"country\": \"Afghanistan\", \"cluster\": 0, \"pop\": 23898198, \"life_expect\": 42.129, \"fertility\": 7.4792}, {\"year\": 2000, \"country\": \"Argentina\", \"cluster\": 3, \"pop\": 37497728, \"life_expect\": 74.34, \"fertility\": 2.35}, {\"year\": 2000, \"country\": \"Aruba\", \"cluster\": 3, \"pop\": 69539, \"life_expect\": 73.451, \"fertility\": 2.124}, {\"year\": 2000, \"country\": \"Australia\", \"cluster\": 4, \"pop\": 19164620, \"life_expect\": 80.37, \"fertility\": 1.756}, {\"year\": 2000, \"country\": \"Austria\", \"cluster\": 1, \"pop\": 8113413, \"life_expect\": 78.98, \"fertility\": 1.3820000000000001}, {\"year\": 2000, \"country\": \"Bahamas\", \"cluster\": 3, \"pop\": 290075, \"life_expect\": 71.068, \"fertility\": 2.1111}, {\"year\": 2000, \"country\": \"Bangladesh\", \"cluster\": 0, \"pop\": 130406594, \"life_expect\": 62.013, \"fertility\": 3.224}, {\"year\": 2000, \"country\": \"Barbados\", \"cluster\": 3, \"pop\": 273483, \"life_expect\": 75.97, \"fertility\": 1.5}, {\"year\": 2000, \"country\": \"Belgium\", \"cluster\": 1, \"pop\": 10263618, \"life_expect\": 78.32, \"fertility\": 1.638}, {\"year\": 2000, \"country\": \"Bolivia\", \"cluster\": 3, \"pop\": 8152620, \"life_expect\": 63.883, \"fertility\": 3.9585}, {\"year\": 2000, \"country\": \"Brazil\", \"cluster\": 3, \"pop\": 175552771, \"life_expect\": 71.006, \"fertility\": 2.345}, {\"year\": 2000, \"country\": \"Canada\", \"cluster\": 3, \"pop\": 31278097, \"life_expect\": 79.77, \"fertility\": 1.522}, {\"year\": 2000, \"country\": \"Chile\", \"cluster\": 3, \"pop\": 15153450, \"life_expect\": 77.86, \"fertility\": 2.0}, {\"year\": 2000, \"country\": \"China\", \"cluster\": 4, \"pop\": 1262645000, \"life_expect\": 72.028, \"fertility\": 1.7000000000000002}, {\"year\": 2000, \"country\": \"Colombia\", \"cluster\": 3, \"pop\": 39685655, \"life_expect\": 71.682, \"fertility\": 2.4705}, {\"year\": 2000, \"country\": \"Costa Rica\", \"cluster\": 3, \"pop\": 3710558, \"life_expect\": 78.123, \"fertility\": 2.2815}, {\"year\": 2000, \"country\": \"Croatia\", \"cluster\": 1, \"pop\": 4410830, \"life_expect\": 74.876, \"fertility\": 1.348}, {\"year\": 2000, \"country\": \"Cuba\", \"cluster\": 3, \"pop\": 11134273, \"life_expect\": 77.158, \"fertility\": 1.63}, {\"year\": 2000, \"country\": \"Dominican Republic\", \"cluster\": 3, \"pop\": 8385828, \"life_expect\": 70.847, \"fertility\": 2.95}, {\"year\": 2000, \"country\": \"Ecuador\", \"cluster\": 3, \"pop\": 12505204, \"life_expect\": 74.173, \"fertility\": 2.8175}, {\"year\": 2000, \"country\": \"Egypt\", \"cluster\": 5, \"pop\": 70492342, \"life_expect\": 69.806, \"fertility\": 3.174}, {\"year\": 2000, \"country\": \"El Salvador\", \"cluster\": 3, \"pop\": 6122515, \"life_expect\": 70.734, \"fertility\": 2.883}, {\"year\": 2000, \"country\": \"Finland\", \"cluster\": 1, \"pop\": 5168595, \"life_expect\": 78.37, \"fertility\": 1.754}, {\"year\": 2000, \"country\": \"France\", \"cluster\": 1, \"pop\": 59381628, \"life_expect\": 79.59, \"fertility\": 1.8833000000000002}, {\"year\": 2000, \"country\": \"Georgia\", \"cluster\": 1, \"pop\": 4777209, \"life_expect\": 70.476, \"fertility\": 1.478}, {\"year\": 2000, \"country\": \"Germany\", \"cluster\": 1, \"pop\": 82187909, \"life_expect\": 78.67, \"fertility\": 1.346}, {\"year\": 2000, \"country\": \"Greece\", \"cluster\": 1, \"pop\": 10559110, \"life_expect\": 78.256, \"fertility\": 1.2770000000000001}, {\"year\": 2000, \"country\": \"Grenada\", \"cluster\": 3, \"pop\": 89312, \"life_expect\": 67.746, \"fertility\": 2.429}, {\"year\": 2000, \"country\": \"Haiti\", \"cluster\": 3, \"pop\": 7306302, \"life_expect\": 58.137, \"fertility\": 4.0}, {\"year\": 2000, \"country\": \"Hong Kong\", \"cluster\": 4, \"pop\": 6658720, \"life_expect\": 81.495, \"fertility\": 0.9400000000000001}, {\"year\": 2000, \"country\": \"Iceland\", \"cluster\": 1, \"pop\": 281043, \"life_expect\": 80.5, \"fertility\": 1.9929999999999999}, {\"year\": 2000, \"country\": \"India\", \"cluster\": 0, \"pop\": 1007702000, \"life_expect\": 62.879, \"fertility\": 3.1132}, {\"year\": 2000, \"country\": \"Indonesia\", \"cluster\": 4, \"pop\": 206265000, \"life_expect\": 68.588, \"fertility\": 2.3761}, {\"year\": 2000, \"country\": \"Iran\", \"cluster\": 5, \"pop\": 65660289, \"life_expect\": 69.451, \"fertility\": 2.124}, {\"year\": 2000, \"country\": \"Iraq\", \"cluster\": 5, \"pop\": 22675617, \"life_expect\": 57.046, \"fertility\": 4.858}, {\"year\": 2000, \"country\": \"Ireland\", \"cluster\": 1, \"pop\": 3791690, \"life_expect\": 77.783, \"fertility\": 1.9689999999999999}, {\"year\": 2000, \"country\": \"Israel\", \"cluster\": 5, \"pop\": 5842454, \"life_expect\": 79.696, \"fertility\": 2.906}, {\"year\": 2000, \"country\": \"Italy\", \"cluster\": 1, \"pop\": 57719337, \"life_expect\": 80.24, \"fertility\": 1.286}, {\"year\": 2000, \"country\": \"Jamaica\", \"cluster\": 3, \"pop\": 2615467, \"life_expect\": 72.047, \"fertility\": 2.628}, {\"year\": 2000, \"country\": \"Japan\", \"cluster\": 4, \"pop\": 126699784, \"life_expect\": 82.0, \"fertility\": 1.291}, {\"year\": 2000, \"country\": \"Kenya\", \"cluster\": 2, \"pop\": 29985839, \"life_expect\": 50.992, \"fertility\": 5.0}, {\"year\": 2000, \"country\": \"South Korea\", \"cluster\": 4, \"pop\": 21647682, \"life_expect\": 66.662, \"fertility\": 1.9173}, {\"year\": 2000, \"country\": \"North Korea\", \"cluster\": 4, \"pop\": 47351083, \"life_expect\": 77.045, \"fertility\": 1.242}, {\"year\": 2000, \"country\": \"Lebanon\", \"cluster\": 5, \"pop\": 3578036, \"life_expect\": 71.028, \"fertility\": 2.319}, {\"year\": 2000, \"country\": \"Mexico\", \"cluster\": 3, \"pop\": 99926620, \"life_expect\": 74.902, \"fertility\": 2.4005}, {\"year\": 2000, \"country\": \"Netherlands\", \"cluster\": 1, \"pop\": 15907853, \"life_expect\": 78.53, \"fertility\": 1.726}, {\"year\": 2000, \"country\": \"New Zealand\", \"cluster\": 4, \"pop\": 3819762, \"life_expect\": 79.11, \"fertility\": 1.964}, {\"year\": 2000, \"country\": \"Nigeria\", \"cluster\": 2, \"pop\": 114306700, \"life_expect\": 46.608, \"fertility\": 5.845}, {\"year\": 2000, \"country\": \"Norway\", \"cluster\": 1, \"pop\": 4492400, \"life_expect\": 79.05, \"fertility\": 1.8010000000000002}, {\"year\": 2000, \"country\": \"Pakistan\", \"cluster\": 0, \"pop\": 146342958, \"life_expect\": 63.61, \"fertility\": 3.9936}, {\"year\": 2000, \"country\": \"Peru\", \"cluster\": 3, \"pop\": 25979722, \"life_expect\": 69.906, \"fertility\": 2.7005}, {\"year\": 2000, \"country\": \"Philippines\", \"cluster\": 4, \"pop\": 79739825, \"life_expect\": 70.303, \"fertility\": 3.5436}, {\"year\": 2000, \"country\": \"Poland\", \"cluster\": 1, \"pop\": 38654164, \"life_expect\": 74.67, \"fertility\": 1.251}, {\"year\": 2000, \"country\": \"Portugal\", \"cluster\": 1, \"pop\": 10335597, \"life_expect\": 77.29, \"fertility\": 1.454}, {\"year\": 2000, \"country\": \"Rwanda\", \"cluster\": 2, \"pop\": 7507056, \"life_expect\": 43.413, \"fertility\": 6.01}, {\"year\": 2000, \"country\": \"Saudi Arabia\", \"cluster\": 5, \"pop\": 23153090, \"life_expect\": 71.626, \"fertility\": 3.81}, {\"year\": 2000, \"country\": \"South Africa\", \"cluster\": 2, \"pop\": 44066197, \"life_expect\": 53.365, \"fertility\": 2.802}, {\"year\": 2000, \"country\": \"Spain\", \"cluster\": 1, \"pop\": 40016081, \"life_expect\": 79.78, \"fertility\": 1.287}, {\"year\": 2000, \"country\": \"Switzerland\", \"cluster\": 1, \"pop\": 7266920, \"life_expect\": 80.62, \"fertility\": 1.415}, {\"year\": 2000, \"country\": \"Turkey\", \"cluster\": 1, \"pop\": 65666677, \"life_expect\": 70.845, \"fertility\": 2.23}, {\"year\": 2000, \"country\": \"United Kingdom\", \"cluster\": 1, \"pop\": 59522468, \"life_expect\": 78.471, \"fertility\": 1.695}, {\"year\": 2000, \"country\": \"United States\", \"cluster\": 3, \"pop\": 282338631, \"life_expect\": 77.31, \"fertility\": 2.038}, {\"year\": 2000, \"country\": \"Venezuela\", \"cluster\": 3, \"pop\": 23542649, \"life_expect\": 72.766, \"fertility\": 2.723}]}}, {\"mode\": \"vega-lite\"});\n",
       "</script>"
      ],
      "text/plain": [
       "alt.Chart(...)"
      ]
     },
     "execution_count": 17,
     "metadata": {},
     "output_type": "execute_result"
    }
   ],
   "source": [
    "alt.Chart(data2000).mark_point(filled=True).encode(\n",
    "    alt.X('fertility:Q'),\n",
    "    alt.Y('life_expect:Q'),\n",
    "    alt.Size('pop:Q', scale=alt.Scale(range=[0,1000])),\n",
    "    alt.Color('cluster:N'),\n",
    "    alt.OpacityValue(0.5),\n",
    "    alt.Tooltip('country')\n",
    ")"
   ]
  },
  {
   "cell_type": "markdown",
   "metadata": {
    "colab_type": "text",
    "id": "IRexn5IAhgeW"
   },
   "source": [
    "As you mouse around you may notice that you can not select some of the points. For example, the largest dark blue circle corresponds to India, which is drawn on top of a country with a smaller population, preventing the mouse from hovering over that country. To fix this problem, we can use the `order` encoding channel.\n",
    "\n",
    "The `order` encoding channel determines the order of data points, affecting both the order in which they are drawn and, for `line` and `area` marks, the order in which they are connected to one another.\n",
    "\n",
    "Let's order the values in descending rank order by the population (`pop`), ensuring that smaller circles are drawn later than larger circles:"
   ]
  },
  {
   "cell_type": "code",
   "execution_count": 19,
   "metadata": {
    "colab": {
     "base_uri": "https://localhost:8080/",
     "height": 372
    },
    "colab_type": "code",
    "id": "DywIzwtgVD3Z",
    "outputId": "3b7254de-09f3-4850-f066-ea8318ec5479"
   },
   "outputs": [
    {
     "data": {
      "text/html": [
       "\n",
       "<div id=\"altair-viz-937d7dc087744b7f96c2642a7a335024\"></div>\n",
       "<script type=\"text/javascript\">\n",
       "  (function(spec, embedOpt){\n",
       "    let outputDiv = document.currentScript.previousElementSibling;\n",
       "    if (outputDiv.id !== \"altair-viz-937d7dc087744b7f96c2642a7a335024\") {\n",
       "      outputDiv = document.getElementById(\"altair-viz-937d7dc087744b7f96c2642a7a335024\");\n",
       "    }\n",
       "    const paths = {\n",
       "      \"vega\": \"https://cdn.jsdelivr.net/npm//vega@5?noext\",\n",
       "      \"vega-lib\": \"https://cdn.jsdelivr.net/npm//vega-lib?noext\",\n",
       "      \"vega-lite\": \"https://cdn.jsdelivr.net/npm//vega-lite@4.8.1?noext\",\n",
       "      \"vega-embed\": \"https://cdn.jsdelivr.net/npm//vega-embed@6?noext\",\n",
       "    };\n",
       "\n",
       "    function loadScript(lib) {\n",
       "      return new Promise(function(resolve, reject) {\n",
       "        var s = document.createElement('script');\n",
       "        s.src = paths[lib];\n",
       "        s.async = true;\n",
       "        s.onload = () => resolve(paths[lib]);\n",
       "        s.onerror = () => reject(`Error loading script: ${paths[lib]}`);\n",
       "        document.getElementsByTagName(\"head\")[0].appendChild(s);\n",
       "      });\n",
       "    }\n",
       "\n",
       "    function showError(err) {\n",
       "      outputDiv.innerHTML = `<div class=\"error\" style=\"color:red;\">${err}</div>`;\n",
       "      throw err;\n",
       "    }\n",
       "\n",
       "    function displayChart(vegaEmbed) {\n",
       "      vegaEmbed(outputDiv, spec, embedOpt)\n",
       "        .catch(err => showError(`Javascript Error: ${err.message}<br>This usually means there's a typo in your chart specification. See the javascript console for the full traceback.`));\n",
       "    }\n",
       "\n",
       "    if(typeof define === \"function\" && define.amd) {\n",
       "      requirejs.config({paths});\n",
       "      require([\"vega-embed\"], displayChart, err => showError(`Error loading script: ${err.message}`));\n",
       "    } else if (typeof vegaEmbed === \"function\") {\n",
       "      displayChart(vegaEmbed);\n",
       "    } else {\n",
       "      loadScript(\"vega\")\n",
       "        .then(() => loadScript(\"vega-lite\"))\n",
       "        .then(() => loadScript(\"vega-embed\"))\n",
       "        .catch(showError)\n",
       "        .then(() => displayChart(vegaEmbed));\n",
       "    }\n",
       "  })({\"config\": {\"view\": {\"continuousWidth\": 400, \"continuousHeight\": 300}}, \"data\": {\"name\": \"data-fdeb0b749a6385830bd1445d39ad6ea0\"}, \"mark\": {\"type\": \"point\", \"filled\": true}, \"encoding\": {\"color\": {\"type\": \"nominal\", \"field\": \"cluster\"}, \"opacity\": {\"value\": 0.5}, \"order\": {\"type\": \"quantitative\", \"field\": \"pop\", \"sort\": \"descending\"}, \"size\": {\"type\": \"quantitative\", \"field\": \"pop\", \"scale\": {\"range\": [0, 1000]}}, \"tooltip\": {\"type\": \"nominal\", \"field\": \"country\"}, \"x\": {\"type\": \"quantitative\", \"field\": \"fertility\"}, \"y\": {\"type\": \"quantitative\", \"field\": \"life_expect\"}}, \"$schema\": \"https://vega.github.io/schema/vega-lite/v4.8.1.json\", \"datasets\": {\"data-fdeb0b749a6385830bd1445d39ad6ea0\": [{\"year\": 2000, \"country\": \"Afghanistan\", \"cluster\": 0, \"pop\": 23898198, \"life_expect\": 42.129, \"fertility\": 7.4792}, {\"year\": 2000, \"country\": \"Argentina\", \"cluster\": 3, \"pop\": 37497728, \"life_expect\": 74.34, \"fertility\": 2.35}, {\"year\": 2000, \"country\": \"Aruba\", \"cluster\": 3, \"pop\": 69539, \"life_expect\": 73.451, \"fertility\": 2.124}, {\"year\": 2000, \"country\": \"Australia\", \"cluster\": 4, \"pop\": 19164620, \"life_expect\": 80.37, \"fertility\": 1.756}, {\"year\": 2000, \"country\": \"Austria\", \"cluster\": 1, \"pop\": 8113413, \"life_expect\": 78.98, \"fertility\": 1.3820000000000001}, {\"year\": 2000, \"country\": \"Bahamas\", \"cluster\": 3, \"pop\": 290075, \"life_expect\": 71.068, \"fertility\": 2.1111}, {\"year\": 2000, \"country\": \"Bangladesh\", \"cluster\": 0, \"pop\": 130406594, \"life_expect\": 62.013, \"fertility\": 3.224}, {\"year\": 2000, \"country\": \"Barbados\", \"cluster\": 3, \"pop\": 273483, \"life_expect\": 75.97, \"fertility\": 1.5}, {\"year\": 2000, \"country\": \"Belgium\", \"cluster\": 1, \"pop\": 10263618, \"life_expect\": 78.32, \"fertility\": 1.638}, {\"year\": 2000, \"country\": \"Bolivia\", \"cluster\": 3, \"pop\": 8152620, \"life_expect\": 63.883, \"fertility\": 3.9585}, {\"year\": 2000, \"country\": \"Brazil\", \"cluster\": 3, \"pop\": 175552771, \"life_expect\": 71.006, \"fertility\": 2.345}, {\"year\": 2000, \"country\": \"Canada\", \"cluster\": 3, \"pop\": 31278097, \"life_expect\": 79.77, \"fertility\": 1.522}, {\"year\": 2000, \"country\": \"Chile\", \"cluster\": 3, \"pop\": 15153450, \"life_expect\": 77.86, \"fertility\": 2.0}, {\"year\": 2000, \"country\": \"China\", \"cluster\": 4, \"pop\": 1262645000, \"life_expect\": 72.028, \"fertility\": 1.7000000000000002}, {\"year\": 2000, \"country\": \"Colombia\", \"cluster\": 3, \"pop\": 39685655, \"life_expect\": 71.682, \"fertility\": 2.4705}, {\"year\": 2000, \"country\": \"Costa Rica\", \"cluster\": 3, \"pop\": 3710558, \"life_expect\": 78.123, \"fertility\": 2.2815}, {\"year\": 2000, \"country\": \"Croatia\", \"cluster\": 1, \"pop\": 4410830, \"life_expect\": 74.876, \"fertility\": 1.348}, {\"year\": 2000, \"country\": \"Cuba\", \"cluster\": 3, \"pop\": 11134273, \"life_expect\": 77.158, \"fertility\": 1.63}, {\"year\": 2000, \"country\": \"Dominican Republic\", \"cluster\": 3, \"pop\": 8385828, \"life_expect\": 70.847, \"fertility\": 2.95}, {\"year\": 2000, \"country\": \"Ecuador\", \"cluster\": 3, \"pop\": 12505204, \"life_expect\": 74.173, \"fertility\": 2.8175}, {\"year\": 2000, \"country\": \"Egypt\", \"cluster\": 5, \"pop\": 70492342, \"life_expect\": 69.806, \"fertility\": 3.174}, {\"year\": 2000, \"country\": \"El Salvador\", \"cluster\": 3, \"pop\": 6122515, \"life_expect\": 70.734, \"fertility\": 2.883}, {\"year\": 2000, \"country\": \"Finland\", \"cluster\": 1, \"pop\": 5168595, \"life_expect\": 78.37, \"fertility\": 1.754}, {\"year\": 2000, \"country\": \"France\", \"cluster\": 1, \"pop\": 59381628, \"life_expect\": 79.59, \"fertility\": 1.8833000000000002}, {\"year\": 2000, \"country\": \"Georgia\", \"cluster\": 1, \"pop\": 4777209, \"life_expect\": 70.476, \"fertility\": 1.478}, {\"year\": 2000, \"country\": \"Germany\", \"cluster\": 1, \"pop\": 82187909, \"life_expect\": 78.67, \"fertility\": 1.346}, {\"year\": 2000, \"country\": \"Greece\", \"cluster\": 1, \"pop\": 10559110, \"life_expect\": 78.256, \"fertility\": 1.2770000000000001}, {\"year\": 2000, \"country\": \"Grenada\", \"cluster\": 3, \"pop\": 89312, \"life_expect\": 67.746, \"fertility\": 2.429}, {\"year\": 2000, \"country\": \"Haiti\", \"cluster\": 3, \"pop\": 7306302, \"life_expect\": 58.137, \"fertility\": 4.0}, {\"year\": 2000, \"country\": \"Hong Kong\", \"cluster\": 4, \"pop\": 6658720, \"life_expect\": 81.495, \"fertility\": 0.9400000000000001}, {\"year\": 2000, \"country\": \"Iceland\", \"cluster\": 1, \"pop\": 281043, \"life_expect\": 80.5, \"fertility\": 1.9929999999999999}, {\"year\": 2000, \"country\": \"India\", \"cluster\": 0, \"pop\": 1007702000, \"life_expect\": 62.879, \"fertility\": 3.1132}, {\"year\": 2000, \"country\": \"Indonesia\", \"cluster\": 4, \"pop\": 206265000, \"life_expect\": 68.588, \"fertility\": 2.3761}, {\"year\": 2000, \"country\": \"Iran\", \"cluster\": 5, \"pop\": 65660289, \"life_expect\": 69.451, \"fertility\": 2.124}, {\"year\": 2000, \"country\": \"Iraq\", \"cluster\": 5, \"pop\": 22675617, \"life_expect\": 57.046, \"fertility\": 4.858}, {\"year\": 2000, \"country\": \"Ireland\", \"cluster\": 1, \"pop\": 3791690, \"life_expect\": 77.783, \"fertility\": 1.9689999999999999}, {\"year\": 2000, \"country\": \"Israel\", \"cluster\": 5, \"pop\": 5842454, \"life_expect\": 79.696, \"fertility\": 2.906}, {\"year\": 2000, \"country\": \"Italy\", \"cluster\": 1, \"pop\": 57719337, \"life_expect\": 80.24, \"fertility\": 1.286}, {\"year\": 2000, \"country\": \"Jamaica\", \"cluster\": 3, \"pop\": 2615467, \"life_expect\": 72.047, \"fertility\": 2.628}, {\"year\": 2000, \"country\": \"Japan\", \"cluster\": 4, \"pop\": 126699784, \"life_expect\": 82.0, \"fertility\": 1.291}, {\"year\": 2000, \"country\": \"Kenya\", \"cluster\": 2, \"pop\": 29985839, \"life_expect\": 50.992, \"fertility\": 5.0}, {\"year\": 2000, \"country\": \"South Korea\", \"cluster\": 4, \"pop\": 21647682, \"life_expect\": 66.662, \"fertility\": 1.9173}, {\"year\": 2000, \"country\": \"North Korea\", \"cluster\": 4, \"pop\": 47351083, \"life_expect\": 77.045, \"fertility\": 1.242}, {\"year\": 2000, \"country\": \"Lebanon\", \"cluster\": 5, \"pop\": 3578036, \"life_expect\": 71.028, \"fertility\": 2.319}, {\"year\": 2000, \"country\": \"Mexico\", \"cluster\": 3, \"pop\": 99926620, \"life_expect\": 74.902, \"fertility\": 2.4005}, {\"year\": 2000, \"country\": \"Netherlands\", \"cluster\": 1, \"pop\": 15907853, \"life_expect\": 78.53, \"fertility\": 1.726}, {\"year\": 2000, \"country\": \"New Zealand\", \"cluster\": 4, \"pop\": 3819762, \"life_expect\": 79.11, \"fertility\": 1.964}, {\"year\": 2000, \"country\": \"Nigeria\", \"cluster\": 2, \"pop\": 114306700, \"life_expect\": 46.608, \"fertility\": 5.845}, {\"year\": 2000, \"country\": \"Norway\", \"cluster\": 1, \"pop\": 4492400, \"life_expect\": 79.05, \"fertility\": 1.8010000000000002}, {\"year\": 2000, \"country\": \"Pakistan\", \"cluster\": 0, \"pop\": 146342958, \"life_expect\": 63.61, \"fertility\": 3.9936}, {\"year\": 2000, \"country\": \"Peru\", \"cluster\": 3, \"pop\": 25979722, \"life_expect\": 69.906, \"fertility\": 2.7005}, {\"year\": 2000, \"country\": \"Philippines\", \"cluster\": 4, \"pop\": 79739825, \"life_expect\": 70.303, \"fertility\": 3.5436}, {\"year\": 2000, \"country\": \"Poland\", \"cluster\": 1, \"pop\": 38654164, \"life_expect\": 74.67, \"fertility\": 1.251}, {\"year\": 2000, \"country\": \"Portugal\", \"cluster\": 1, \"pop\": 10335597, \"life_expect\": 77.29, \"fertility\": 1.454}, {\"year\": 2000, \"country\": \"Rwanda\", \"cluster\": 2, \"pop\": 7507056, \"life_expect\": 43.413, \"fertility\": 6.01}, {\"year\": 2000, \"country\": \"Saudi Arabia\", \"cluster\": 5, \"pop\": 23153090, \"life_expect\": 71.626, \"fertility\": 3.81}, {\"year\": 2000, \"country\": \"South Africa\", \"cluster\": 2, \"pop\": 44066197, \"life_expect\": 53.365, \"fertility\": 2.802}, {\"year\": 2000, \"country\": \"Spain\", \"cluster\": 1, \"pop\": 40016081, \"life_expect\": 79.78, \"fertility\": 1.287}, {\"year\": 2000, \"country\": \"Switzerland\", \"cluster\": 1, \"pop\": 7266920, \"life_expect\": 80.62, \"fertility\": 1.415}, {\"year\": 2000, \"country\": \"Turkey\", \"cluster\": 1, \"pop\": 65666677, \"life_expect\": 70.845, \"fertility\": 2.23}, {\"year\": 2000, \"country\": \"United Kingdom\", \"cluster\": 1, \"pop\": 59522468, \"life_expect\": 78.471, \"fertility\": 1.695}, {\"year\": 2000, \"country\": \"United States\", \"cluster\": 3, \"pop\": 282338631, \"life_expect\": 77.31, \"fertility\": 2.038}, {\"year\": 2000, \"country\": \"Venezuela\", \"cluster\": 3, \"pop\": 23542649, \"life_expect\": 72.766, \"fertility\": 2.723}]}}, {\"mode\": \"vega-lite\"});\n",
       "</script>"
      ],
      "text/plain": [
       "alt.Chart(...)"
      ]
     },
     "execution_count": 18,
     "metadata": {},
     "output_type": "execute_result"
    }
   ],
   "source": [
    "alt.Chart(data2000).mark_point(filled=True).encode(\n",
    "    alt.X('fertility:Q'),\n",
    "    alt.Y('life_expect:Q'),\n",
    "    alt.Size('pop:Q', scale=alt.Scale(range=[0,1000])),\n",
    "    alt.Color('cluster:N'),\n",
    "    alt.OpacityValue(0.5),\n",
    "    alt.Tooltip('country:N'),\n",
    "    alt.Order('pop:Q', sort='descending')\n",
    ")"
   ]
  },
  {
   "cell_type": "markdown",
   "metadata": {
    "colab_type": "text",
    "id": "Ei93j-daiG6U"
   },
   "source": [
    "Now we can identify the smaller country being obscured by India: it's Bangladesh!\n",
    "\n",
    "We can also now figure out what the `cluster` field represents. Mouse over the various colored points to formulate your own explanation."
   ]
  },
  {
   "cell_type": "markdown",
   "metadata": {
    "colab_type": "text",
    "id": "9bsu1tn_idGt"
   },
   "source": [
    "At this point we've added tooltips that show only a single property of the underlying data record. To show multiple values, we can provide the `tooltip` channel an array of encodings, one for each field we want to include:"
   ]
  },
  {
   "cell_type": "code",
   "execution_count": 20,
   "metadata": {
    "colab": {
     "base_uri": "https://localhost:8080/",
     "height": 372
    },
    "colab_type": "code",
    "id": "450DUk-mXzzQ",
    "outputId": "ee47eb3b-146d-4c6b-dfa7-94ddeb0fc5d3"
   },
   "outputs": [
    {
     "data": {
      "text/html": [
       "\n",
       "<div id=\"altair-viz-bc0247d3650346d2a07cffdd5f7f5e2e\"></div>\n",
       "<script type=\"text/javascript\">\n",
       "  (function(spec, embedOpt){\n",
       "    let outputDiv = document.currentScript.previousElementSibling;\n",
       "    if (outputDiv.id !== \"altair-viz-bc0247d3650346d2a07cffdd5f7f5e2e\") {\n",
       "      outputDiv = document.getElementById(\"altair-viz-bc0247d3650346d2a07cffdd5f7f5e2e\");\n",
       "    }\n",
       "    const paths = {\n",
       "      \"vega\": \"https://cdn.jsdelivr.net/npm//vega@5?noext\",\n",
       "      \"vega-lib\": \"https://cdn.jsdelivr.net/npm//vega-lib?noext\",\n",
       "      \"vega-lite\": \"https://cdn.jsdelivr.net/npm//vega-lite@4.8.1?noext\",\n",
       "      \"vega-embed\": \"https://cdn.jsdelivr.net/npm//vega-embed@6?noext\",\n",
       "    };\n",
       "\n",
       "    function loadScript(lib) {\n",
       "      return new Promise(function(resolve, reject) {\n",
       "        var s = document.createElement('script');\n",
       "        s.src = paths[lib];\n",
       "        s.async = true;\n",
       "        s.onload = () => resolve(paths[lib]);\n",
       "        s.onerror = () => reject(`Error loading script: ${paths[lib]}`);\n",
       "        document.getElementsByTagName(\"head\")[0].appendChild(s);\n",
       "      });\n",
       "    }\n",
       "\n",
       "    function showError(err) {\n",
       "      outputDiv.innerHTML = `<div class=\"error\" style=\"color:red;\">${err}</div>`;\n",
       "      throw err;\n",
       "    }\n",
       "\n",
       "    function displayChart(vegaEmbed) {\n",
       "      vegaEmbed(outputDiv, spec, embedOpt)\n",
       "        .catch(err => showError(`Javascript Error: ${err.message}<br>This usually means there's a typo in your chart specification. See the javascript console for the full traceback.`));\n",
       "    }\n",
       "\n",
       "    if(typeof define === \"function\" && define.amd) {\n",
       "      requirejs.config({paths});\n",
       "      require([\"vega-embed\"], displayChart, err => showError(`Error loading script: ${err.message}`));\n",
       "    } else if (typeof vegaEmbed === \"function\") {\n",
       "      displayChart(vegaEmbed);\n",
       "    } else {\n",
       "      loadScript(\"vega\")\n",
       "        .then(() => loadScript(\"vega-lite\"))\n",
       "        .then(() => loadScript(\"vega-embed\"))\n",
       "        .catch(showError)\n",
       "        .then(() => displayChart(vegaEmbed));\n",
       "    }\n",
       "  })({\"config\": {\"view\": {\"continuousWidth\": 400, \"continuousHeight\": 300}}, \"data\": {\"name\": \"data-fdeb0b749a6385830bd1445d39ad6ea0\"}, \"mark\": {\"type\": \"point\", \"filled\": true}, \"encoding\": {\"color\": {\"type\": \"nominal\", \"field\": \"cluster\"}, \"opacity\": {\"value\": 0.5}, \"order\": {\"type\": \"quantitative\", \"field\": \"pop\", \"sort\": \"descending\"}, \"size\": {\"type\": \"quantitative\", \"field\": \"pop\", \"scale\": {\"range\": [0, 1000]}}, \"tooltip\": [{\"type\": \"nominal\", \"field\": \"country\"}, {\"type\": \"quantitative\", \"field\": \"fertility\"}, {\"type\": \"quantitative\", \"field\": \"life_expect\"}], \"x\": {\"type\": \"quantitative\", \"field\": \"fertility\"}, \"y\": {\"type\": \"quantitative\", \"field\": \"life_expect\"}}, \"$schema\": \"https://vega.github.io/schema/vega-lite/v4.8.1.json\", \"datasets\": {\"data-fdeb0b749a6385830bd1445d39ad6ea0\": [{\"year\": 2000, \"country\": \"Afghanistan\", \"cluster\": 0, \"pop\": 23898198, \"life_expect\": 42.129, \"fertility\": 7.4792}, {\"year\": 2000, \"country\": \"Argentina\", \"cluster\": 3, \"pop\": 37497728, \"life_expect\": 74.34, \"fertility\": 2.35}, {\"year\": 2000, \"country\": \"Aruba\", \"cluster\": 3, \"pop\": 69539, \"life_expect\": 73.451, \"fertility\": 2.124}, {\"year\": 2000, \"country\": \"Australia\", \"cluster\": 4, \"pop\": 19164620, \"life_expect\": 80.37, \"fertility\": 1.756}, {\"year\": 2000, \"country\": \"Austria\", \"cluster\": 1, \"pop\": 8113413, \"life_expect\": 78.98, \"fertility\": 1.3820000000000001}, {\"year\": 2000, \"country\": \"Bahamas\", \"cluster\": 3, \"pop\": 290075, \"life_expect\": 71.068, \"fertility\": 2.1111}, {\"year\": 2000, \"country\": \"Bangladesh\", \"cluster\": 0, \"pop\": 130406594, \"life_expect\": 62.013, \"fertility\": 3.224}, {\"year\": 2000, \"country\": \"Barbados\", \"cluster\": 3, \"pop\": 273483, \"life_expect\": 75.97, \"fertility\": 1.5}, {\"year\": 2000, \"country\": \"Belgium\", \"cluster\": 1, \"pop\": 10263618, \"life_expect\": 78.32, \"fertility\": 1.638}, {\"year\": 2000, \"country\": \"Bolivia\", \"cluster\": 3, \"pop\": 8152620, \"life_expect\": 63.883, \"fertility\": 3.9585}, {\"year\": 2000, \"country\": \"Brazil\", \"cluster\": 3, \"pop\": 175552771, \"life_expect\": 71.006, \"fertility\": 2.345}, {\"year\": 2000, \"country\": \"Canada\", \"cluster\": 3, \"pop\": 31278097, \"life_expect\": 79.77, \"fertility\": 1.522}, {\"year\": 2000, \"country\": \"Chile\", \"cluster\": 3, \"pop\": 15153450, \"life_expect\": 77.86, \"fertility\": 2.0}, {\"year\": 2000, \"country\": \"China\", \"cluster\": 4, \"pop\": 1262645000, \"life_expect\": 72.028, \"fertility\": 1.7000000000000002}, {\"year\": 2000, \"country\": \"Colombia\", \"cluster\": 3, \"pop\": 39685655, \"life_expect\": 71.682, \"fertility\": 2.4705}, {\"year\": 2000, \"country\": \"Costa Rica\", \"cluster\": 3, \"pop\": 3710558, \"life_expect\": 78.123, \"fertility\": 2.2815}, {\"year\": 2000, \"country\": \"Croatia\", \"cluster\": 1, \"pop\": 4410830, \"life_expect\": 74.876, \"fertility\": 1.348}, {\"year\": 2000, \"country\": \"Cuba\", \"cluster\": 3, \"pop\": 11134273, \"life_expect\": 77.158, \"fertility\": 1.63}, {\"year\": 2000, \"country\": \"Dominican Republic\", \"cluster\": 3, \"pop\": 8385828, \"life_expect\": 70.847, \"fertility\": 2.95}, {\"year\": 2000, \"country\": \"Ecuador\", \"cluster\": 3, \"pop\": 12505204, \"life_expect\": 74.173, \"fertility\": 2.8175}, {\"year\": 2000, \"country\": \"Egypt\", \"cluster\": 5, \"pop\": 70492342, \"life_expect\": 69.806, \"fertility\": 3.174}, {\"year\": 2000, \"country\": \"El Salvador\", \"cluster\": 3, \"pop\": 6122515, \"life_expect\": 70.734, \"fertility\": 2.883}, {\"year\": 2000, \"country\": \"Finland\", \"cluster\": 1, \"pop\": 5168595, \"life_expect\": 78.37, \"fertility\": 1.754}, {\"year\": 2000, \"country\": \"France\", \"cluster\": 1, \"pop\": 59381628, \"life_expect\": 79.59, \"fertility\": 1.8833000000000002}, {\"year\": 2000, \"country\": \"Georgia\", \"cluster\": 1, \"pop\": 4777209, \"life_expect\": 70.476, \"fertility\": 1.478}, {\"year\": 2000, \"country\": \"Germany\", \"cluster\": 1, \"pop\": 82187909, \"life_expect\": 78.67, \"fertility\": 1.346}, {\"year\": 2000, \"country\": \"Greece\", \"cluster\": 1, \"pop\": 10559110, \"life_expect\": 78.256, \"fertility\": 1.2770000000000001}, {\"year\": 2000, \"country\": \"Grenada\", \"cluster\": 3, \"pop\": 89312, \"life_expect\": 67.746, \"fertility\": 2.429}, {\"year\": 2000, \"country\": \"Haiti\", \"cluster\": 3, \"pop\": 7306302, \"life_expect\": 58.137, \"fertility\": 4.0}, {\"year\": 2000, \"country\": \"Hong Kong\", \"cluster\": 4, \"pop\": 6658720, \"life_expect\": 81.495, \"fertility\": 0.9400000000000001}, {\"year\": 2000, \"country\": \"Iceland\", \"cluster\": 1, \"pop\": 281043, \"life_expect\": 80.5, \"fertility\": 1.9929999999999999}, {\"year\": 2000, \"country\": \"India\", \"cluster\": 0, \"pop\": 1007702000, \"life_expect\": 62.879, \"fertility\": 3.1132}, {\"year\": 2000, \"country\": \"Indonesia\", \"cluster\": 4, \"pop\": 206265000, \"life_expect\": 68.588, \"fertility\": 2.3761}, {\"year\": 2000, \"country\": \"Iran\", \"cluster\": 5, \"pop\": 65660289, \"life_expect\": 69.451, \"fertility\": 2.124}, {\"year\": 2000, \"country\": \"Iraq\", \"cluster\": 5, \"pop\": 22675617, \"life_expect\": 57.046, \"fertility\": 4.858}, {\"year\": 2000, \"country\": \"Ireland\", \"cluster\": 1, \"pop\": 3791690, \"life_expect\": 77.783, \"fertility\": 1.9689999999999999}, {\"year\": 2000, \"country\": \"Israel\", \"cluster\": 5, \"pop\": 5842454, \"life_expect\": 79.696, \"fertility\": 2.906}, {\"year\": 2000, \"country\": \"Italy\", \"cluster\": 1, \"pop\": 57719337, \"life_expect\": 80.24, \"fertility\": 1.286}, {\"year\": 2000, \"country\": \"Jamaica\", \"cluster\": 3, \"pop\": 2615467, \"life_expect\": 72.047, \"fertility\": 2.628}, {\"year\": 2000, \"country\": \"Japan\", \"cluster\": 4, \"pop\": 126699784, \"life_expect\": 82.0, \"fertility\": 1.291}, {\"year\": 2000, \"country\": \"Kenya\", \"cluster\": 2, \"pop\": 29985839, \"life_expect\": 50.992, \"fertility\": 5.0}, {\"year\": 2000, \"country\": \"South Korea\", \"cluster\": 4, \"pop\": 21647682, \"life_expect\": 66.662, \"fertility\": 1.9173}, {\"year\": 2000, \"country\": \"North Korea\", \"cluster\": 4, \"pop\": 47351083, \"life_expect\": 77.045, \"fertility\": 1.242}, {\"year\": 2000, \"country\": \"Lebanon\", \"cluster\": 5, \"pop\": 3578036, \"life_expect\": 71.028, \"fertility\": 2.319}, {\"year\": 2000, \"country\": \"Mexico\", \"cluster\": 3, \"pop\": 99926620, \"life_expect\": 74.902, \"fertility\": 2.4005}, {\"year\": 2000, \"country\": \"Netherlands\", \"cluster\": 1, \"pop\": 15907853, \"life_expect\": 78.53, \"fertility\": 1.726}, {\"year\": 2000, \"country\": \"New Zealand\", \"cluster\": 4, \"pop\": 3819762, \"life_expect\": 79.11, \"fertility\": 1.964}, {\"year\": 2000, \"country\": \"Nigeria\", \"cluster\": 2, \"pop\": 114306700, \"life_expect\": 46.608, \"fertility\": 5.845}, {\"year\": 2000, \"country\": \"Norway\", \"cluster\": 1, \"pop\": 4492400, \"life_expect\": 79.05, \"fertility\": 1.8010000000000002}, {\"year\": 2000, \"country\": \"Pakistan\", \"cluster\": 0, \"pop\": 146342958, \"life_expect\": 63.61, \"fertility\": 3.9936}, {\"year\": 2000, \"country\": \"Peru\", \"cluster\": 3, \"pop\": 25979722, \"life_expect\": 69.906, \"fertility\": 2.7005}, {\"year\": 2000, \"country\": \"Philippines\", \"cluster\": 4, \"pop\": 79739825, \"life_expect\": 70.303, \"fertility\": 3.5436}, {\"year\": 2000, \"country\": \"Poland\", \"cluster\": 1, \"pop\": 38654164, \"life_expect\": 74.67, \"fertility\": 1.251}, {\"year\": 2000, \"country\": \"Portugal\", \"cluster\": 1, \"pop\": 10335597, \"life_expect\": 77.29, \"fertility\": 1.454}, {\"year\": 2000, \"country\": \"Rwanda\", \"cluster\": 2, \"pop\": 7507056, \"life_expect\": 43.413, \"fertility\": 6.01}, {\"year\": 2000, \"country\": \"Saudi Arabia\", \"cluster\": 5, \"pop\": 23153090, \"life_expect\": 71.626, \"fertility\": 3.81}, {\"year\": 2000, \"country\": \"South Africa\", \"cluster\": 2, \"pop\": 44066197, \"life_expect\": 53.365, \"fertility\": 2.802}, {\"year\": 2000, \"country\": \"Spain\", \"cluster\": 1, \"pop\": 40016081, \"life_expect\": 79.78, \"fertility\": 1.287}, {\"year\": 2000, \"country\": \"Switzerland\", \"cluster\": 1, \"pop\": 7266920, \"life_expect\": 80.62, \"fertility\": 1.415}, {\"year\": 2000, \"country\": \"Turkey\", \"cluster\": 1, \"pop\": 65666677, \"life_expect\": 70.845, \"fertility\": 2.23}, {\"year\": 2000, \"country\": \"United Kingdom\", \"cluster\": 1, \"pop\": 59522468, \"life_expect\": 78.471, \"fertility\": 1.695}, {\"year\": 2000, \"country\": \"United States\", \"cluster\": 3, \"pop\": 282338631, \"life_expect\": 77.31, \"fertility\": 2.038}, {\"year\": 2000, \"country\": \"Venezuela\", \"cluster\": 3, \"pop\": 23542649, \"life_expect\": 72.766, \"fertility\": 2.723}]}}, {\"mode\": \"vega-lite\"});\n",
       "</script>"
      ],
      "text/plain": [
       "alt.Chart(...)"
      ]
     },
     "execution_count": 19,
     "metadata": {},
     "output_type": "execute_result"
    }
   ],
   "source": [
    "alt.Chart(data2000).mark_point(filled=True).encode(\n",
    "    alt.X('fertility:Q'),\n",
    "    alt.Y('life_expect:Q'),\n",
    "    alt.Size('pop:Q', scale=alt.Scale(range=[0,1000])),\n",
    "    alt.Color('cluster:N'),\n",
    "    alt.OpacityValue(0.5),\n",
    "    alt.Order('pop:Q', sort='descending'),\n",
    "    tooltip = [\n",
    "        alt.Tooltip('country:N'),\n",
    "        alt.Tooltip('fertility:Q'),\n",
    "        alt.Tooltip('life_expect:Q')\n",
    "    ]   \n",
    ")"
   ]
  },
  {
   "cell_type": "markdown",
   "metadata": {
    "colab_type": "text",
    "id": "HLQjhEdwiyR2"
   },
   "source": [
    "Now we can see multiple data fields upon mouse over!"
   ]
  },
  {
   "cell_type": "markdown",
   "metadata": {
    "colab_type": "text",
    "id": "5ViS2LDKRmil"
   },
   "source": [
    "### Column and Row Facets"
   ]
  },
  {
   "cell_type": "markdown",
   "metadata": {
    "colab_type": "text",
    "id": "apPtlcDoi3yT"
   },
   "source": [
    "Spatial position is one of the most powerful and flexible channels for visual encoding, but what can we do if we already have assigned fields to the `x` and `y` channels? One valuable technique is to create a *trellis plot*, consisting of sub-plots that show a subset of the data. A trellis plot is one example of the more general technique of presenting data using [small multiples](https://en.wikipedia.org/wiki/Small_multiple) of views.\n",
    "\n",
    "The `column` and `row` encoding channels generate either a horizontal (columns) or vertical (rows) set of sub-plots, in which the data is partitioned according to the provided data field.\n",
    "\n",
    "Here is a trellis plot that divides the data into one column per \\`cluster\\` value:"
   ]
  },
  {
   "cell_type": "code",
   "execution_count": 21,
   "metadata": {
    "colab": {
     "base_uri": "https://localhost:8080/",
     "height": 441
    },
    "colab_type": "code",
    "id": "gszjktorPmRc",
    "outputId": "b62aff8e-a2aa-409a-be1d-4cf3708f9ab3"
   },
   "outputs": [
    {
     "data": {
      "text/html": [
       "\n",
       "<div id=\"altair-viz-08ac9db9d3034200ba946e97150372ce\"></div>\n",
       "<script type=\"text/javascript\">\n",
       "  (function(spec, embedOpt){\n",
       "    let outputDiv = document.currentScript.previousElementSibling;\n",
       "    if (outputDiv.id !== \"altair-viz-08ac9db9d3034200ba946e97150372ce\") {\n",
       "      outputDiv = document.getElementById(\"altair-viz-08ac9db9d3034200ba946e97150372ce\");\n",
       "    }\n",
       "    const paths = {\n",
       "      \"vega\": \"https://cdn.jsdelivr.net/npm//vega@5?noext\",\n",
       "      \"vega-lib\": \"https://cdn.jsdelivr.net/npm//vega-lib?noext\",\n",
       "      \"vega-lite\": \"https://cdn.jsdelivr.net/npm//vega-lite@4.8.1?noext\",\n",
       "      \"vega-embed\": \"https://cdn.jsdelivr.net/npm//vega-embed@6?noext\",\n",
       "    };\n",
       "\n",
       "    function loadScript(lib) {\n",
       "      return new Promise(function(resolve, reject) {\n",
       "        var s = document.createElement('script');\n",
       "        s.src = paths[lib];\n",
       "        s.async = true;\n",
       "        s.onload = () => resolve(paths[lib]);\n",
       "        s.onerror = () => reject(`Error loading script: ${paths[lib]}`);\n",
       "        document.getElementsByTagName(\"head\")[0].appendChild(s);\n",
       "      });\n",
       "    }\n",
       "\n",
       "    function showError(err) {\n",
       "      outputDiv.innerHTML = `<div class=\"error\" style=\"color:red;\">${err}</div>`;\n",
       "      throw err;\n",
       "    }\n",
       "\n",
       "    function displayChart(vegaEmbed) {\n",
       "      vegaEmbed(outputDiv, spec, embedOpt)\n",
       "        .catch(err => showError(`Javascript Error: ${err.message}<br>This usually means there's a typo in your chart specification. See the javascript console for the full traceback.`));\n",
       "    }\n",
       "\n",
       "    if(typeof define === \"function\" && define.amd) {\n",
       "      requirejs.config({paths});\n",
       "      require([\"vega-embed\"], displayChart, err => showError(`Error loading script: ${err.message}`));\n",
       "    } else if (typeof vegaEmbed === \"function\") {\n",
       "      displayChart(vegaEmbed);\n",
       "    } else {\n",
       "      loadScript(\"vega\")\n",
       "        .then(() => loadScript(\"vega-lite\"))\n",
       "        .then(() => loadScript(\"vega-embed\"))\n",
       "        .catch(showError)\n",
       "        .then(() => displayChart(vegaEmbed));\n",
       "    }\n",
       "  })({\"config\": {\"view\": {\"continuousWidth\": 400, \"continuousHeight\": 300}}, \"data\": {\"name\": \"data-fdeb0b749a6385830bd1445d39ad6ea0\"}, \"mark\": {\"type\": \"point\", \"filled\": true}, \"encoding\": {\"color\": {\"type\": \"nominal\", \"field\": \"cluster\"}, \"column\": {\"type\": \"nominal\", \"field\": \"cluster\"}, \"opacity\": {\"value\": 0.5}, \"order\": {\"type\": \"quantitative\", \"field\": \"pop\", \"sort\": \"descending\"}, \"size\": {\"type\": \"quantitative\", \"field\": \"pop\", \"scale\": {\"range\": [0, 1000]}}, \"tooltip\": {\"type\": \"nominal\", \"field\": \"country\"}, \"x\": {\"type\": \"quantitative\", \"field\": \"fertility\"}, \"y\": {\"type\": \"quantitative\", \"field\": \"life_expect\"}}, \"$schema\": \"https://vega.github.io/schema/vega-lite/v4.8.1.json\", \"datasets\": {\"data-fdeb0b749a6385830bd1445d39ad6ea0\": [{\"year\": 2000, \"country\": \"Afghanistan\", \"cluster\": 0, \"pop\": 23898198, \"life_expect\": 42.129, \"fertility\": 7.4792}, {\"year\": 2000, \"country\": \"Argentina\", \"cluster\": 3, \"pop\": 37497728, \"life_expect\": 74.34, \"fertility\": 2.35}, {\"year\": 2000, \"country\": \"Aruba\", \"cluster\": 3, \"pop\": 69539, \"life_expect\": 73.451, \"fertility\": 2.124}, {\"year\": 2000, \"country\": \"Australia\", \"cluster\": 4, \"pop\": 19164620, \"life_expect\": 80.37, \"fertility\": 1.756}, {\"year\": 2000, \"country\": \"Austria\", \"cluster\": 1, \"pop\": 8113413, \"life_expect\": 78.98, \"fertility\": 1.3820000000000001}, {\"year\": 2000, \"country\": \"Bahamas\", \"cluster\": 3, \"pop\": 290075, \"life_expect\": 71.068, \"fertility\": 2.1111}, {\"year\": 2000, \"country\": \"Bangladesh\", \"cluster\": 0, \"pop\": 130406594, \"life_expect\": 62.013, \"fertility\": 3.224}, {\"year\": 2000, \"country\": \"Barbados\", \"cluster\": 3, \"pop\": 273483, \"life_expect\": 75.97, \"fertility\": 1.5}, {\"year\": 2000, \"country\": \"Belgium\", \"cluster\": 1, \"pop\": 10263618, \"life_expect\": 78.32, \"fertility\": 1.638}, {\"year\": 2000, \"country\": \"Bolivia\", \"cluster\": 3, \"pop\": 8152620, \"life_expect\": 63.883, \"fertility\": 3.9585}, {\"year\": 2000, \"country\": \"Brazil\", \"cluster\": 3, \"pop\": 175552771, \"life_expect\": 71.006, \"fertility\": 2.345}, {\"year\": 2000, \"country\": \"Canada\", \"cluster\": 3, \"pop\": 31278097, \"life_expect\": 79.77, \"fertility\": 1.522}, {\"year\": 2000, \"country\": \"Chile\", \"cluster\": 3, \"pop\": 15153450, \"life_expect\": 77.86, \"fertility\": 2.0}, {\"year\": 2000, \"country\": \"China\", \"cluster\": 4, \"pop\": 1262645000, \"life_expect\": 72.028, \"fertility\": 1.7000000000000002}, {\"year\": 2000, \"country\": \"Colombia\", \"cluster\": 3, \"pop\": 39685655, \"life_expect\": 71.682, \"fertility\": 2.4705}, {\"year\": 2000, \"country\": \"Costa Rica\", \"cluster\": 3, \"pop\": 3710558, \"life_expect\": 78.123, \"fertility\": 2.2815}, {\"year\": 2000, \"country\": \"Croatia\", \"cluster\": 1, \"pop\": 4410830, \"life_expect\": 74.876, \"fertility\": 1.348}, {\"year\": 2000, \"country\": \"Cuba\", \"cluster\": 3, \"pop\": 11134273, \"life_expect\": 77.158, \"fertility\": 1.63}, {\"year\": 2000, \"country\": \"Dominican Republic\", \"cluster\": 3, \"pop\": 8385828, \"life_expect\": 70.847, \"fertility\": 2.95}, {\"year\": 2000, \"country\": \"Ecuador\", \"cluster\": 3, \"pop\": 12505204, \"life_expect\": 74.173, \"fertility\": 2.8175}, {\"year\": 2000, \"country\": \"Egypt\", \"cluster\": 5, \"pop\": 70492342, \"life_expect\": 69.806, \"fertility\": 3.174}, {\"year\": 2000, \"country\": \"El Salvador\", \"cluster\": 3, \"pop\": 6122515, \"life_expect\": 70.734, \"fertility\": 2.883}, {\"year\": 2000, \"country\": \"Finland\", \"cluster\": 1, \"pop\": 5168595, \"life_expect\": 78.37, \"fertility\": 1.754}, {\"year\": 2000, \"country\": \"France\", \"cluster\": 1, \"pop\": 59381628, \"life_expect\": 79.59, \"fertility\": 1.8833000000000002}, {\"year\": 2000, \"country\": \"Georgia\", \"cluster\": 1, \"pop\": 4777209, \"life_expect\": 70.476, \"fertility\": 1.478}, {\"year\": 2000, \"country\": \"Germany\", \"cluster\": 1, \"pop\": 82187909, \"life_expect\": 78.67, \"fertility\": 1.346}, {\"year\": 2000, \"country\": \"Greece\", \"cluster\": 1, \"pop\": 10559110, \"life_expect\": 78.256, \"fertility\": 1.2770000000000001}, {\"year\": 2000, \"country\": \"Grenada\", \"cluster\": 3, \"pop\": 89312, \"life_expect\": 67.746, \"fertility\": 2.429}, {\"year\": 2000, \"country\": \"Haiti\", \"cluster\": 3, \"pop\": 7306302, \"life_expect\": 58.137, \"fertility\": 4.0}, {\"year\": 2000, \"country\": \"Hong Kong\", \"cluster\": 4, \"pop\": 6658720, \"life_expect\": 81.495, \"fertility\": 0.9400000000000001}, {\"year\": 2000, \"country\": \"Iceland\", \"cluster\": 1, \"pop\": 281043, \"life_expect\": 80.5, \"fertility\": 1.9929999999999999}, {\"year\": 2000, \"country\": \"India\", \"cluster\": 0, \"pop\": 1007702000, \"life_expect\": 62.879, \"fertility\": 3.1132}, {\"year\": 2000, \"country\": \"Indonesia\", \"cluster\": 4, \"pop\": 206265000, \"life_expect\": 68.588, \"fertility\": 2.3761}, {\"year\": 2000, \"country\": \"Iran\", \"cluster\": 5, \"pop\": 65660289, \"life_expect\": 69.451, \"fertility\": 2.124}, {\"year\": 2000, \"country\": \"Iraq\", \"cluster\": 5, \"pop\": 22675617, \"life_expect\": 57.046, \"fertility\": 4.858}, {\"year\": 2000, \"country\": \"Ireland\", \"cluster\": 1, \"pop\": 3791690, \"life_expect\": 77.783, \"fertility\": 1.9689999999999999}, {\"year\": 2000, \"country\": \"Israel\", \"cluster\": 5, \"pop\": 5842454, \"life_expect\": 79.696, \"fertility\": 2.906}, {\"year\": 2000, \"country\": \"Italy\", \"cluster\": 1, \"pop\": 57719337, \"life_expect\": 80.24, \"fertility\": 1.286}, {\"year\": 2000, \"country\": \"Jamaica\", \"cluster\": 3, \"pop\": 2615467, \"life_expect\": 72.047, \"fertility\": 2.628}, {\"year\": 2000, \"country\": \"Japan\", \"cluster\": 4, \"pop\": 126699784, \"life_expect\": 82.0, \"fertility\": 1.291}, {\"year\": 2000, \"country\": \"Kenya\", \"cluster\": 2, \"pop\": 29985839, \"life_expect\": 50.992, \"fertility\": 5.0}, {\"year\": 2000, \"country\": \"South Korea\", \"cluster\": 4, \"pop\": 21647682, \"life_expect\": 66.662, \"fertility\": 1.9173}, {\"year\": 2000, \"country\": \"North Korea\", \"cluster\": 4, \"pop\": 47351083, \"life_expect\": 77.045, \"fertility\": 1.242}, {\"year\": 2000, \"country\": \"Lebanon\", \"cluster\": 5, \"pop\": 3578036, \"life_expect\": 71.028, \"fertility\": 2.319}, {\"year\": 2000, \"country\": \"Mexico\", \"cluster\": 3, \"pop\": 99926620, \"life_expect\": 74.902, \"fertility\": 2.4005}, {\"year\": 2000, \"country\": \"Netherlands\", \"cluster\": 1, \"pop\": 15907853, \"life_expect\": 78.53, \"fertility\": 1.726}, {\"year\": 2000, \"country\": \"New Zealand\", \"cluster\": 4, \"pop\": 3819762, \"life_expect\": 79.11, \"fertility\": 1.964}, {\"year\": 2000, \"country\": \"Nigeria\", \"cluster\": 2, \"pop\": 114306700, \"life_expect\": 46.608, \"fertility\": 5.845}, {\"year\": 2000, \"country\": \"Norway\", \"cluster\": 1, \"pop\": 4492400, \"life_expect\": 79.05, \"fertility\": 1.8010000000000002}, {\"year\": 2000, \"country\": \"Pakistan\", \"cluster\": 0, \"pop\": 146342958, \"life_expect\": 63.61, \"fertility\": 3.9936}, {\"year\": 2000, \"country\": \"Peru\", \"cluster\": 3, \"pop\": 25979722, \"life_expect\": 69.906, \"fertility\": 2.7005}, {\"year\": 2000, \"country\": \"Philippines\", \"cluster\": 4, \"pop\": 79739825, \"life_expect\": 70.303, \"fertility\": 3.5436}, {\"year\": 2000, \"country\": \"Poland\", \"cluster\": 1, \"pop\": 38654164, \"life_expect\": 74.67, \"fertility\": 1.251}, {\"year\": 2000, \"country\": \"Portugal\", \"cluster\": 1, \"pop\": 10335597, \"life_expect\": 77.29, \"fertility\": 1.454}, {\"year\": 2000, \"country\": \"Rwanda\", \"cluster\": 2, \"pop\": 7507056, \"life_expect\": 43.413, \"fertility\": 6.01}, {\"year\": 2000, \"country\": \"Saudi Arabia\", \"cluster\": 5, \"pop\": 23153090, \"life_expect\": 71.626, \"fertility\": 3.81}, {\"year\": 2000, \"country\": \"South Africa\", \"cluster\": 2, \"pop\": 44066197, \"life_expect\": 53.365, \"fertility\": 2.802}, {\"year\": 2000, \"country\": \"Spain\", \"cluster\": 1, \"pop\": 40016081, \"life_expect\": 79.78, \"fertility\": 1.287}, {\"year\": 2000, \"country\": \"Switzerland\", \"cluster\": 1, \"pop\": 7266920, \"life_expect\": 80.62, \"fertility\": 1.415}, {\"year\": 2000, \"country\": \"Turkey\", \"cluster\": 1, \"pop\": 65666677, \"life_expect\": 70.845, \"fertility\": 2.23}, {\"year\": 2000, \"country\": \"United Kingdom\", \"cluster\": 1, \"pop\": 59522468, \"life_expect\": 78.471, \"fertility\": 1.695}, {\"year\": 2000, \"country\": \"United States\", \"cluster\": 3, \"pop\": 282338631, \"life_expect\": 77.31, \"fertility\": 2.038}, {\"year\": 2000, \"country\": \"Venezuela\", \"cluster\": 3, \"pop\": 23542649, \"life_expect\": 72.766, \"fertility\": 2.723}]}}, {\"mode\": \"vega-lite\"});\n",
       "</script>"
      ],
      "text/plain": [
       "alt.Chart(...)"
      ]
     },
     "execution_count": 20,
     "metadata": {},
     "output_type": "execute_result"
    }
   ],
   "source": [
    "alt.Chart(data2000).mark_point(filled=True).encode(\n",
    "    alt.X('fertility:Q'),\n",
    "    alt.Y('life_expect:Q'),\n",
    "    alt.Size('pop:Q', scale=alt.Scale(range=[0,1000])),\n",
    "    alt.Color('cluster:N'),\n",
    "    alt.OpacityValue(0.5),\n",
    "    alt.Tooltip('country:N'),\n",
    "    alt.Order('pop:Q', sort='descending'),\n",
    "    alt.Column('cluster:N')\n",
    ")"
   ]
  },
  {
   "cell_type": "markdown",
   "metadata": {
    "colab_type": "text",
    "id": "8J0dxQoFj9jw"
   },
   "source": [
    "The plot above does not fit on screen, making it difficult to compare all the sub-plots to each other! We can set the default `width` and `height` properties to create a smaller set of multiples. Also, as the column headers already label the `cluster` values, let's remove our `color` legend by setting it to `None`. To make better use of space we can also orient our `size` legend to the `'bottom'` of the chart."
   ]
  },
  {
   "cell_type": "code",
   "execution_count": 22,
   "metadata": {
    "colab": {
     "base_uri": "https://localhost:8080/",
     "height": 321
    },
    "colab_type": "code",
    "id": "PvKBL59lRrc_",
    "outputId": "3eb84b63-0c69-4985-ee9b-d0d69e5ffb33"
   },
   "outputs": [
    {
     "data": {
      "text/html": [
       "\n",
       "<div id=\"altair-viz-9a80a72e7d44497f84e9c5f1a1b10f51\"></div>\n",
       "<script type=\"text/javascript\">\n",
       "  (function(spec, embedOpt){\n",
       "    let outputDiv = document.currentScript.previousElementSibling;\n",
       "    if (outputDiv.id !== \"altair-viz-9a80a72e7d44497f84e9c5f1a1b10f51\") {\n",
       "      outputDiv = document.getElementById(\"altair-viz-9a80a72e7d44497f84e9c5f1a1b10f51\");\n",
       "    }\n",
       "    const paths = {\n",
       "      \"vega\": \"https://cdn.jsdelivr.net/npm//vega@5?noext\",\n",
       "      \"vega-lib\": \"https://cdn.jsdelivr.net/npm//vega-lib?noext\",\n",
       "      \"vega-lite\": \"https://cdn.jsdelivr.net/npm//vega-lite@4.8.1?noext\",\n",
       "      \"vega-embed\": \"https://cdn.jsdelivr.net/npm//vega-embed@6?noext\",\n",
       "    };\n",
       "\n",
       "    function loadScript(lib) {\n",
       "      return new Promise(function(resolve, reject) {\n",
       "        var s = document.createElement('script');\n",
       "        s.src = paths[lib];\n",
       "        s.async = true;\n",
       "        s.onload = () => resolve(paths[lib]);\n",
       "        s.onerror = () => reject(`Error loading script: ${paths[lib]}`);\n",
       "        document.getElementsByTagName(\"head\")[0].appendChild(s);\n",
       "      });\n",
       "    }\n",
       "\n",
       "    function showError(err) {\n",
       "      outputDiv.innerHTML = `<div class=\"error\" style=\"color:red;\">${err}</div>`;\n",
       "      throw err;\n",
       "    }\n",
       "\n",
       "    function displayChart(vegaEmbed) {\n",
       "      vegaEmbed(outputDiv, spec, embedOpt)\n",
       "        .catch(err => showError(`Javascript Error: ${err.message}<br>This usually means there's a typo in your chart specification. See the javascript console for the full traceback.`));\n",
       "    }\n",
       "\n",
       "    if(typeof define === \"function\" && define.amd) {\n",
       "      requirejs.config({paths});\n",
       "      require([\"vega-embed\"], displayChart, err => showError(`Error loading script: ${err.message}`));\n",
       "    } else if (typeof vegaEmbed === \"function\") {\n",
       "      displayChart(vegaEmbed);\n",
       "    } else {\n",
       "      loadScript(\"vega\")\n",
       "        .then(() => loadScript(\"vega-lite\"))\n",
       "        .then(() => loadScript(\"vega-embed\"))\n",
       "        .catch(showError)\n",
       "        .then(() => displayChart(vegaEmbed));\n",
       "    }\n",
       "  })({\"config\": {\"view\": {\"continuousWidth\": 400, \"continuousHeight\": 300}}, \"data\": {\"name\": \"data-fdeb0b749a6385830bd1445d39ad6ea0\"}, \"mark\": {\"type\": \"point\", \"filled\": true}, \"encoding\": {\"color\": {\"type\": \"nominal\", \"field\": \"cluster\", \"legend\": null}, \"column\": {\"type\": \"nominal\", \"field\": \"cluster\"}, \"opacity\": {\"value\": 0.5}, \"order\": {\"type\": \"quantitative\", \"field\": \"pop\", \"sort\": \"descending\"}, \"size\": {\"type\": \"quantitative\", \"field\": \"pop\", \"legend\": {\"orient\": \"bottom\", \"titleOrient\": \"left\"}, \"scale\": {\"range\": [0, 1000]}}, \"tooltip\": {\"type\": \"nominal\", \"field\": \"country\"}, \"x\": {\"type\": \"quantitative\", \"field\": \"fertility\"}, \"y\": {\"type\": \"quantitative\", \"field\": \"life_expect\"}}, \"height\": 135, \"width\": 135, \"$schema\": \"https://vega.github.io/schema/vega-lite/v4.8.1.json\", \"datasets\": {\"data-fdeb0b749a6385830bd1445d39ad6ea0\": [{\"year\": 2000, \"country\": \"Afghanistan\", \"cluster\": 0, \"pop\": 23898198, \"life_expect\": 42.129, \"fertility\": 7.4792}, {\"year\": 2000, \"country\": \"Argentina\", \"cluster\": 3, \"pop\": 37497728, \"life_expect\": 74.34, \"fertility\": 2.35}, {\"year\": 2000, \"country\": \"Aruba\", \"cluster\": 3, \"pop\": 69539, \"life_expect\": 73.451, \"fertility\": 2.124}, {\"year\": 2000, \"country\": \"Australia\", \"cluster\": 4, \"pop\": 19164620, \"life_expect\": 80.37, \"fertility\": 1.756}, {\"year\": 2000, \"country\": \"Austria\", \"cluster\": 1, \"pop\": 8113413, \"life_expect\": 78.98, \"fertility\": 1.3820000000000001}, {\"year\": 2000, \"country\": \"Bahamas\", \"cluster\": 3, \"pop\": 290075, \"life_expect\": 71.068, \"fertility\": 2.1111}, {\"year\": 2000, \"country\": \"Bangladesh\", \"cluster\": 0, \"pop\": 130406594, \"life_expect\": 62.013, \"fertility\": 3.224}, {\"year\": 2000, \"country\": \"Barbados\", \"cluster\": 3, \"pop\": 273483, \"life_expect\": 75.97, \"fertility\": 1.5}, {\"year\": 2000, \"country\": \"Belgium\", \"cluster\": 1, \"pop\": 10263618, \"life_expect\": 78.32, \"fertility\": 1.638}, {\"year\": 2000, \"country\": \"Bolivia\", \"cluster\": 3, \"pop\": 8152620, \"life_expect\": 63.883, \"fertility\": 3.9585}, {\"year\": 2000, \"country\": \"Brazil\", \"cluster\": 3, \"pop\": 175552771, \"life_expect\": 71.006, \"fertility\": 2.345}, {\"year\": 2000, \"country\": \"Canada\", \"cluster\": 3, \"pop\": 31278097, \"life_expect\": 79.77, \"fertility\": 1.522}, {\"year\": 2000, \"country\": \"Chile\", \"cluster\": 3, \"pop\": 15153450, \"life_expect\": 77.86, \"fertility\": 2.0}, {\"year\": 2000, \"country\": \"China\", \"cluster\": 4, \"pop\": 1262645000, \"life_expect\": 72.028, \"fertility\": 1.7000000000000002}, {\"year\": 2000, \"country\": \"Colombia\", \"cluster\": 3, \"pop\": 39685655, \"life_expect\": 71.682, \"fertility\": 2.4705}, {\"year\": 2000, \"country\": \"Costa Rica\", \"cluster\": 3, \"pop\": 3710558, \"life_expect\": 78.123, \"fertility\": 2.2815}, {\"year\": 2000, \"country\": \"Croatia\", \"cluster\": 1, \"pop\": 4410830, \"life_expect\": 74.876, \"fertility\": 1.348}, {\"year\": 2000, \"country\": \"Cuba\", \"cluster\": 3, \"pop\": 11134273, \"life_expect\": 77.158, \"fertility\": 1.63}, {\"year\": 2000, \"country\": \"Dominican Republic\", \"cluster\": 3, \"pop\": 8385828, \"life_expect\": 70.847, \"fertility\": 2.95}, {\"year\": 2000, \"country\": \"Ecuador\", \"cluster\": 3, \"pop\": 12505204, \"life_expect\": 74.173, \"fertility\": 2.8175}, {\"year\": 2000, \"country\": \"Egypt\", \"cluster\": 5, \"pop\": 70492342, \"life_expect\": 69.806, \"fertility\": 3.174}, {\"year\": 2000, \"country\": \"El Salvador\", \"cluster\": 3, \"pop\": 6122515, \"life_expect\": 70.734, \"fertility\": 2.883}, {\"year\": 2000, \"country\": \"Finland\", \"cluster\": 1, \"pop\": 5168595, \"life_expect\": 78.37, \"fertility\": 1.754}, {\"year\": 2000, \"country\": \"France\", \"cluster\": 1, \"pop\": 59381628, \"life_expect\": 79.59, \"fertility\": 1.8833000000000002}, {\"year\": 2000, \"country\": \"Georgia\", \"cluster\": 1, \"pop\": 4777209, \"life_expect\": 70.476, \"fertility\": 1.478}, {\"year\": 2000, \"country\": \"Germany\", \"cluster\": 1, \"pop\": 82187909, \"life_expect\": 78.67, \"fertility\": 1.346}, {\"year\": 2000, \"country\": \"Greece\", \"cluster\": 1, \"pop\": 10559110, \"life_expect\": 78.256, \"fertility\": 1.2770000000000001}, {\"year\": 2000, \"country\": \"Grenada\", \"cluster\": 3, \"pop\": 89312, \"life_expect\": 67.746, \"fertility\": 2.429}, {\"year\": 2000, \"country\": \"Haiti\", \"cluster\": 3, \"pop\": 7306302, \"life_expect\": 58.137, \"fertility\": 4.0}, {\"year\": 2000, \"country\": \"Hong Kong\", \"cluster\": 4, \"pop\": 6658720, \"life_expect\": 81.495, \"fertility\": 0.9400000000000001}, {\"year\": 2000, \"country\": \"Iceland\", \"cluster\": 1, \"pop\": 281043, \"life_expect\": 80.5, \"fertility\": 1.9929999999999999}, {\"year\": 2000, \"country\": \"India\", \"cluster\": 0, \"pop\": 1007702000, \"life_expect\": 62.879, \"fertility\": 3.1132}, {\"year\": 2000, \"country\": \"Indonesia\", \"cluster\": 4, \"pop\": 206265000, \"life_expect\": 68.588, \"fertility\": 2.3761}, {\"year\": 2000, \"country\": \"Iran\", \"cluster\": 5, \"pop\": 65660289, \"life_expect\": 69.451, \"fertility\": 2.124}, {\"year\": 2000, \"country\": \"Iraq\", \"cluster\": 5, \"pop\": 22675617, \"life_expect\": 57.046, \"fertility\": 4.858}, {\"year\": 2000, \"country\": \"Ireland\", \"cluster\": 1, \"pop\": 3791690, \"life_expect\": 77.783, \"fertility\": 1.9689999999999999}, {\"year\": 2000, \"country\": \"Israel\", \"cluster\": 5, \"pop\": 5842454, \"life_expect\": 79.696, \"fertility\": 2.906}, {\"year\": 2000, \"country\": \"Italy\", \"cluster\": 1, \"pop\": 57719337, \"life_expect\": 80.24, \"fertility\": 1.286}, {\"year\": 2000, \"country\": \"Jamaica\", \"cluster\": 3, \"pop\": 2615467, \"life_expect\": 72.047, \"fertility\": 2.628}, {\"year\": 2000, \"country\": \"Japan\", \"cluster\": 4, \"pop\": 126699784, \"life_expect\": 82.0, \"fertility\": 1.291}, {\"year\": 2000, \"country\": \"Kenya\", \"cluster\": 2, \"pop\": 29985839, \"life_expect\": 50.992, \"fertility\": 5.0}, {\"year\": 2000, \"country\": \"South Korea\", \"cluster\": 4, \"pop\": 21647682, \"life_expect\": 66.662, \"fertility\": 1.9173}, {\"year\": 2000, \"country\": \"North Korea\", \"cluster\": 4, \"pop\": 47351083, \"life_expect\": 77.045, \"fertility\": 1.242}, {\"year\": 2000, \"country\": \"Lebanon\", \"cluster\": 5, \"pop\": 3578036, \"life_expect\": 71.028, \"fertility\": 2.319}, {\"year\": 2000, \"country\": \"Mexico\", \"cluster\": 3, \"pop\": 99926620, \"life_expect\": 74.902, \"fertility\": 2.4005}, {\"year\": 2000, \"country\": \"Netherlands\", \"cluster\": 1, \"pop\": 15907853, \"life_expect\": 78.53, \"fertility\": 1.726}, {\"year\": 2000, \"country\": \"New Zealand\", \"cluster\": 4, \"pop\": 3819762, \"life_expect\": 79.11, \"fertility\": 1.964}, {\"year\": 2000, \"country\": \"Nigeria\", \"cluster\": 2, \"pop\": 114306700, \"life_expect\": 46.608, \"fertility\": 5.845}, {\"year\": 2000, \"country\": \"Norway\", \"cluster\": 1, \"pop\": 4492400, \"life_expect\": 79.05, \"fertility\": 1.8010000000000002}, {\"year\": 2000, \"country\": \"Pakistan\", \"cluster\": 0, \"pop\": 146342958, \"life_expect\": 63.61, \"fertility\": 3.9936}, {\"year\": 2000, \"country\": \"Peru\", \"cluster\": 3, \"pop\": 25979722, \"life_expect\": 69.906, \"fertility\": 2.7005}, {\"year\": 2000, \"country\": \"Philippines\", \"cluster\": 4, \"pop\": 79739825, \"life_expect\": 70.303, \"fertility\": 3.5436}, {\"year\": 2000, \"country\": \"Poland\", \"cluster\": 1, \"pop\": 38654164, \"life_expect\": 74.67, \"fertility\": 1.251}, {\"year\": 2000, \"country\": \"Portugal\", \"cluster\": 1, \"pop\": 10335597, \"life_expect\": 77.29, \"fertility\": 1.454}, {\"year\": 2000, \"country\": \"Rwanda\", \"cluster\": 2, \"pop\": 7507056, \"life_expect\": 43.413, \"fertility\": 6.01}, {\"year\": 2000, \"country\": \"Saudi Arabia\", \"cluster\": 5, \"pop\": 23153090, \"life_expect\": 71.626, \"fertility\": 3.81}, {\"year\": 2000, \"country\": \"South Africa\", \"cluster\": 2, \"pop\": 44066197, \"life_expect\": 53.365, \"fertility\": 2.802}, {\"year\": 2000, \"country\": \"Spain\", \"cluster\": 1, \"pop\": 40016081, \"life_expect\": 79.78, \"fertility\": 1.287}, {\"year\": 2000, \"country\": \"Switzerland\", \"cluster\": 1, \"pop\": 7266920, \"life_expect\": 80.62, \"fertility\": 1.415}, {\"year\": 2000, \"country\": \"Turkey\", \"cluster\": 1, \"pop\": 65666677, \"life_expect\": 70.845, \"fertility\": 2.23}, {\"year\": 2000, \"country\": \"United Kingdom\", \"cluster\": 1, \"pop\": 59522468, \"life_expect\": 78.471, \"fertility\": 1.695}, {\"year\": 2000, \"country\": \"United States\", \"cluster\": 3, \"pop\": 282338631, \"life_expect\": 77.31, \"fertility\": 2.038}, {\"year\": 2000, \"country\": \"Venezuela\", \"cluster\": 3, \"pop\": 23542649, \"life_expect\": 72.766, \"fertility\": 2.723}]}}, {\"mode\": \"vega-lite\"});\n",
       "</script>"
      ],
      "text/plain": [
       "alt.Chart(...)"
      ]
     },
     "execution_count": 21,
     "metadata": {},
     "output_type": "execute_result"
    }
   ],
   "source": [
    "alt.Chart(data2000).mark_point(filled=True).encode(\n",
    "    alt.X('fertility:Q'),\n",
    "    alt.Y('life_expect:Q'),\n",
    "    alt.Size('pop:Q', scale=alt.Scale(range=[0,1000]),\n",
    "             legend=alt.Legend(orient='bottom', titleOrient='left')),\n",
    "    alt.Color('cluster:N', legend=None),\n",
    "    alt.OpacityValue(0.5),\n",
    "    alt.Tooltip('country:N'),\n",
    "    alt.Order('pop:Q', sort='descending'),\n",
    "    alt.Column('cluster:N')\n",
    ").properties(width=135, height=135)"
   ]
  },
  {
   "cell_type": "markdown",
   "metadata": {
    "colab_type": "text",
    "id": "OmQmca9WkKOU"
   },
   "source": [
    "Underneath the hood, the `column` and `row` encodings are translated into a new specification that uses the `facet` view composition operator. We will re-visit faceting in greater depth later on!\n",
    "\n",
    "In the meantime, _can you rewrite the chart above to facet into rows instead of columns?_"
   ]
  },
  {
   "cell_type": "markdown",
   "metadata": {
    "colab_type": "text",
    "id": "-tZXDmLjbAu5"
   },
   "source": [
    "### A Peek Ahead: Interactive Filtering\n",
    "\n",
    "In later modules, we'll dive into interaction techniques for data exploration. Here is a sneak peak: binding a range slider to the `year` field to enable interactive scrubbing through each year of data. Don't worry if the code below is a bit confusing at this point, as we will cover interaction in detail later.\n",
    "\n",
    "_Drag the slider back and forth to see how the data values change over time!_"
   ]
  },
  {
   "cell_type": "code",
   "execution_count": 23,
   "metadata": {
    "colab": {
     "base_uri": "https://localhost:8080/",
     "height": 393
    },
    "colab_type": "code",
    "id": "6kQLe1wqZPub",
    "outputId": "3c934853-9167-4ad1-e560-b366250eb40e"
   },
   "outputs": [
    {
     "data": {
      "text/html": [
       "\n",
       "<div id=\"altair-viz-c3321776a3874e65b3fbb7e3f038f619\"></div>\n",
       "<script type=\"text/javascript\">\n",
       "  (function(spec, embedOpt){\n",
       "    let outputDiv = document.currentScript.previousElementSibling;\n",
       "    if (outputDiv.id !== \"altair-viz-c3321776a3874e65b3fbb7e3f038f619\") {\n",
       "      outputDiv = document.getElementById(\"altair-viz-c3321776a3874e65b3fbb7e3f038f619\");\n",
       "    }\n",
       "    const paths = {\n",
       "      \"vega\": \"https://cdn.jsdelivr.net/npm//vega@5?noext\",\n",
       "      \"vega-lib\": \"https://cdn.jsdelivr.net/npm//vega-lib?noext\",\n",
       "      \"vega-lite\": \"https://cdn.jsdelivr.net/npm//vega-lite@4.8.1?noext\",\n",
       "      \"vega-embed\": \"https://cdn.jsdelivr.net/npm//vega-embed@6?noext\",\n",
       "    };\n",
       "\n",
       "    function loadScript(lib) {\n",
       "      return new Promise(function(resolve, reject) {\n",
       "        var s = document.createElement('script');\n",
       "        s.src = paths[lib];\n",
       "        s.async = true;\n",
       "        s.onload = () => resolve(paths[lib]);\n",
       "        s.onerror = () => reject(`Error loading script: ${paths[lib]}`);\n",
       "        document.getElementsByTagName(\"head\")[0].appendChild(s);\n",
       "      });\n",
       "    }\n",
       "\n",
       "    function showError(err) {\n",
       "      outputDiv.innerHTML = `<div class=\"error\" style=\"color:red;\">${err}</div>`;\n",
       "      throw err;\n",
       "    }\n",
       "\n",
       "    function displayChart(vegaEmbed) {\n",
       "      vegaEmbed(outputDiv, spec, embedOpt)\n",
       "        .catch(err => showError(`Javascript Error: ${err.message}<br>This usually means there's a typo in your chart specification. See the javascript console for the full traceback.`));\n",
       "    }\n",
       "\n",
       "    if(typeof define === \"function\" && define.amd) {\n",
       "      requirejs.config({paths});\n",
       "      require([\"vega-embed\"], displayChart, err => showError(`Error loading script: ${err.message}`));\n",
       "    } else if (typeof vegaEmbed === \"function\") {\n",
       "      displayChart(vegaEmbed);\n",
       "    } else {\n",
       "      loadScript(\"vega\")\n",
       "        .then(() => loadScript(\"vega-lite\"))\n",
       "        .then(() => loadScript(\"vega-embed\"))\n",
       "        .catch(showError)\n",
       "        .then(() => displayChart(vegaEmbed));\n",
       "    }\n",
       "  })({\"config\": {\"view\": {\"continuousWidth\": 400, \"continuousHeight\": 300}}, \"data\": {\"name\": \"data-89be1acdd14c7effd56f4dd0fabf92c3\"}, \"mark\": {\"type\": \"point\", \"filled\": true}, \"encoding\": {\"color\": {\"type\": \"nominal\", \"field\": \"cluster\", \"legend\": null}, \"opacity\": {\"value\": 0.5}, \"order\": {\"type\": \"quantitative\", \"field\": \"pop\", \"sort\": \"descending\"}, \"size\": {\"type\": \"quantitative\", \"field\": \"pop\", \"scale\": {\"domain\": [0, 1200000000], \"range\": [0, 1000]}}, \"tooltip\": {\"type\": \"nominal\", \"field\": \"country\"}, \"x\": {\"type\": \"quantitative\", \"field\": \"fertility\", \"scale\": {\"domain\": [0, 9]}}, \"y\": {\"type\": \"quantitative\", \"field\": \"life_expect\", \"scale\": {\"domain\": [0, 90]}}}, \"selection\": {\"select\": {\"type\": \"single\", \"fields\": [\"year\"], \"init\": {\"year\": 1955}, \"bind\": {\"input\": \"range\", \"max\": 2005, \"min\": 1955, \"step\": 5}}}, \"transform\": [{\"filter\": {\"selection\": \"select\"}}], \"$schema\": \"https://vega.github.io/schema/vega-lite/v4.8.1.json\", \"datasets\": {\"data-89be1acdd14c7effd56f4dd0fabf92c3\": [{\"year\": 1955, \"country\": \"Afghanistan\", \"cluster\": 0, \"pop\": 8891209, \"life_expect\": 30.332, \"fertility\": 7.7}, {\"year\": 1960, \"country\": \"Afghanistan\", \"cluster\": 0, \"pop\": 9829450, \"life_expect\": 31.997, \"fertility\": 7.7}, {\"year\": 1965, \"country\": \"Afghanistan\", \"cluster\": 0, \"pop\": 10997885, \"life_expect\": 34.02, \"fertility\": 7.7}, {\"year\": 1970, \"country\": \"Afghanistan\", \"cluster\": 0, \"pop\": 12430623, \"life_expect\": 36.088, \"fertility\": 7.7}, {\"year\": 1975, \"country\": \"Afghanistan\", \"cluster\": 0, \"pop\": 14132019, \"life_expect\": 38.438, \"fertility\": 7.7}, {\"year\": 1980, \"country\": \"Afghanistan\", \"cluster\": 0, \"pop\": 15112149, \"life_expect\": 39.854, \"fertility\": 7.8}, {\"year\": 1985, \"country\": \"Afghanistan\", \"cluster\": 0, \"pop\": 13796928, \"life_expect\": 40.822, \"fertility\": 7.9}, {\"year\": 1990, \"country\": \"Afghanistan\", \"cluster\": 0, \"pop\": 14669339, \"life_expect\": 41.674, \"fertility\": 8.0}, {\"year\": 1995, \"country\": \"Afghanistan\", \"cluster\": 0, \"pop\": 20881480, \"life_expect\": 41.763, \"fertility\": 8.0}, {\"year\": 2000, \"country\": \"Afghanistan\", \"cluster\": 0, \"pop\": 23898198, \"life_expect\": 42.129, \"fertility\": 7.4792}, {\"year\": 2005, \"country\": \"Afghanistan\", \"cluster\": 0, \"pop\": 29928987, \"life_expect\": 43.828, \"fertility\": 7.0685}, {\"year\": 1955, \"country\": \"Argentina\", \"cluster\": 3, \"pop\": 18927821, \"life_expect\": 64.399, \"fertility\": 3.1265}, {\"year\": 1960, \"country\": \"Argentina\", \"cluster\": 3, \"pop\": 20616009, \"life_expect\": 65.142, \"fertility\": 3.0895}, {\"year\": 1965, \"country\": \"Argentina\", \"cluster\": 3, \"pop\": 22283100, \"life_expect\": 65.634, \"fertility\": 3.049}, {\"year\": 1970, \"country\": \"Argentina\", \"cluster\": 3, \"pop\": 23962313, \"life_expect\": 67.065, \"fertility\": 3.1455}, {\"year\": 1975, \"country\": \"Argentina\", \"cluster\": 3, \"pop\": 26081880, \"life_expect\": 68.481, \"fertility\": 3.44}, {\"year\": 1980, \"country\": \"Argentina\", \"cluster\": 3, \"pop\": 28369799, \"life_expect\": 69.942, \"fertility\": 3.15}, {\"year\": 1985, \"country\": \"Argentina\", \"cluster\": 3, \"pop\": 30675059, \"life_expect\": 70.774, \"fertility\": 3.053}, {\"year\": 1990, \"country\": \"Argentina\", \"cluster\": 3, \"pop\": 33022202, \"life_expect\": 71.868, \"fertility\": 2.9}, {\"year\": 1995, \"country\": \"Argentina\", \"cluster\": 3, \"pop\": 35311049, \"life_expect\": 73.275, \"fertility\": 2.63}, {\"year\": 2000, \"country\": \"Argentina\", \"cluster\": 3, \"pop\": 37497728, \"life_expect\": 74.34, \"fertility\": 2.35}, {\"year\": 2005, \"country\": \"Argentina\", \"cluster\": 3, \"pop\": 39537943, \"life_expect\": 75.32, \"fertility\": 2.254}, {\"year\": 1955, \"country\": \"Aruba\", \"cluster\": 3, \"pop\": 53865, \"life_expect\": 64.381, \"fertility\": 5.15}, {\"year\": 1960, \"country\": \"Aruba\", \"cluster\": 3, \"pop\": 57203, \"life_expect\": 66.606, \"fertility\": 4.399}, {\"year\": 1965, \"country\": \"Aruba\", \"cluster\": 3, \"pop\": 59020, \"life_expect\": 68.336, \"fertility\": 3.301}, {\"year\": 1970, \"country\": \"Aruba\", \"cluster\": 3, \"pop\": 59039, \"life_expect\": 70.941, \"fertility\": 2.651}, {\"year\": 1975, \"country\": \"Aruba\", \"cluster\": 3, \"pop\": 59390, \"life_expect\": 71.83, \"fertility\": 2.45}, {\"year\": 1980, \"country\": \"Aruba\", \"cluster\": 3, \"pop\": 60266, \"life_expect\": 74.116, \"fertility\": 2.358}, {\"year\": 1985, \"country\": \"Aruba\", \"cluster\": 3, \"pop\": 64129, \"life_expect\": 74.494, \"fertility\": 2.3}, {\"year\": 1990, \"country\": \"Aruba\", \"cluster\": 3, \"pop\": 66653, \"life_expect\": 74.108, \"fertility\": 2.2800000000000002}, {\"year\": 1995, \"country\": \"Aruba\", \"cluster\": 3, \"pop\": 67836, \"life_expect\": 73.011, \"fertility\": 2.208}, {\"year\": 2000, \"country\": \"Aruba\", \"cluster\": 3, \"pop\": 69539, \"life_expect\": 73.451, \"fertility\": 2.124}, {\"year\": 2005, \"country\": \"Aruba\", \"cluster\": 3, \"pop\": 71566, \"life_expect\": 74.239, \"fertility\": 2.04}, {\"year\": 1955, \"country\": \"Australia\", \"cluster\": 4, \"pop\": 9277087, \"life_expect\": 70.33, \"fertility\": 3.406}, {\"year\": 1960, \"country\": \"Australia\", \"cluster\": 4, \"pop\": 10361273, \"life_expect\": 70.93, \"fertility\": 3.274}, {\"year\": 1965, \"country\": \"Australia\", \"cluster\": 4, \"pop\": 11439384, \"life_expect\": 71.1, \"fertility\": 2.871}, {\"year\": 1970, \"country\": \"Australia\", \"cluster\": 4, \"pop\": 12660160, \"life_expect\": 71.93, \"fertility\": 2.535}, {\"year\": 1975, \"country\": \"Australia\", \"cluster\": 4, \"pop\": 13771400, \"life_expect\": 73.49, \"fertility\": 1.9889999999999999}, {\"year\": 1980, \"country\": \"Australia\", \"cluster\": 4, \"pop\": 14615900, \"life_expect\": 74.74, \"fertility\": 1.907}, {\"year\": 1985, \"country\": \"Australia\", \"cluster\": 4, \"pop\": 15788300, \"life_expect\": 76.32, \"fertility\": 1.859}, {\"year\": 1990, \"country\": \"Australia\", \"cluster\": 4, \"pop\": 17022133, \"life_expect\": 77.56, \"fertility\": 1.8599999999999999}, {\"year\": 1995, \"country\": \"Australia\", \"cluster\": 4, \"pop\": 18116171, \"life_expect\": 78.83, \"fertility\": 1.776}, {\"year\": 2000, \"country\": \"Australia\", \"cluster\": 4, \"pop\": 19164620, \"life_expect\": 80.37, \"fertility\": 1.756}, {\"year\": 2005, \"country\": \"Australia\", \"cluster\": 4, \"pop\": 20090437, \"life_expect\": 81.235, \"fertility\": 1.788}, {\"year\": 1955, \"country\": \"Austria\", \"cluster\": 1, \"pop\": 6946885, \"life_expect\": 67.48, \"fertility\": 2.52}, {\"year\": 1960, \"country\": \"Austria\", \"cluster\": 1, \"pop\": 7047437, \"life_expect\": 69.54, \"fertility\": 2.7800000000000002}, {\"year\": 1965, \"country\": \"Austria\", \"cluster\": 1, \"pop\": 7270889, \"life_expect\": 70.14, \"fertility\": 2.5300000000000002}, {\"year\": 1970, \"country\": \"Austria\", \"cluster\": 1, \"pop\": 7467086, \"life_expect\": 70.63, \"fertility\": 2.02}, {\"year\": 1975, \"country\": \"Austria\", \"cluster\": 1, \"pop\": 7578903, \"life_expect\": 72.17, \"fertility\": 1.6400000000000001}, {\"year\": 1980, \"country\": \"Austria\", \"cluster\": 1, \"pop\": 7549433, \"life_expect\": 73.18, \"fertility\": 1.62}, {\"year\": 1985, \"country\": \"Austria\", \"cluster\": 1, \"pop\": 7559776, \"life_expect\": 74.94, \"fertility\": 1.45}, {\"year\": 1990, \"country\": \"Austria\", \"cluster\": 1, \"pop\": 7722953, \"life_expect\": 76.04, \"fertility\": 1.47}, {\"year\": 1995, \"country\": \"Austria\", \"cluster\": 1, \"pop\": 8047433, \"life_expect\": 77.51, \"fertility\": 1.388}, {\"year\": 2000, \"country\": \"Austria\", \"cluster\": 1, \"pop\": 8113413, \"life_expect\": 78.98, \"fertility\": 1.3820000000000001}, {\"year\": 2005, \"country\": \"Austria\", \"cluster\": 1, \"pop\": 8184691, \"life_expect\": 79.829, \"fertility\": 1.42}, {\"year\": 1955, \"country\": \"Bahamas\", \"cluster\": 3, \"pop\": 87138, \"life_expect\": 62.405, \"fertility\": 4.305}, {\"year\": 1960, \"country\": \"Bahamas\", \"cluster\": 3, \"pop\": 112234, \"life_expect\": 64.209, \"fertility\": 4.503}, {\"year\": 1965, \"country\": \"Bahamas\", \"cluster\": 3, \"pop\": 139205, \"life_expect\": 65.795, \"fertility\": 3.794}, {\"year\": 1970, \"country\": \"Bahamas\", \"cluster\": 3, \"pop\": 170323, \"life_expect\": 66.515, \"fertility\": 3.444}, {\"year\": 1975, \"country\": \"Bahamas\", \"cluster\": 3, \"pop\": 189139, \"life_expect\": 67.199, \"fertility\": 3.221}, {\"year\": 1980, \"country\": \"Bahamas\", \"cluster\": 3, \"pop\": 209944, \"life_expect\": 67.874, \"fertility\": 3.16}, {\"year\": 1985, \"country\": \"Bahamas\", \"cluster\": 3, \"pop\": 234988, \"life_expect\": 69.524, \"fertility\": 2.62}, {\"year\": 1990, \"country\": \"Bahamas\", \"cluster\": 3, \"pop\": 257253, \"life_expect\": 69.171, \"fertility\": 2.6}, {\"year\": 1995, \"country\": \"Bahamas\", \"cluster\": 3, \"pop\": 275303, \"life_expect\": 68.472, \"fertility\": 2.4}, {\"year\": 2000, \"country\": \"Bahamas\", \"cluster\": 3, \"pop\": 290075, \"life_expect\": 71.068, \"fertility\": 2.1111}, {\"year\": 2005, \"country\": \"Bahamas\", \"cluster\": 3, \"pop\": 301790, \"life_expect\": 73.495, \"fertility\": 2.0221}, {\"year\": 1955, \"country\": \"Bangladesh\", \"cluster\": 0, \"pop\": 49601520, \"life_expect\": 39.348, \"fertility\": 6.76}, {\"year\": 1960, \"country\": \"Bangladesh\", \"cluster\": 0, \"pop\": 54621538, \"life_expect\": 41.216, \"fertility\": 6.85}, {\"year\": 1965, \"country\": \"Bangladesh\", \"cluster\": 0, \"pop\": 60332117, \"life_expect\": 43.453, \"fertility\": 6.6}, {\"year\": 1970, \"country\": \"Bangladesh\", \"cluster\": 0, \"pop\": 67402621, \"life_expect\": 45.252, \"fertility\": 6.15}, {\"year\": 1975, \"country\": \"Bangladesh\", \"cluster\": 0, \"pop\": 76253310, \"life_expect\": 46.923, \"fertility\": 5.6}, {\"year\": 1980, \"country\": \"Bangladesh\", \"cluster\": 0, \"pop\": 88076996, \"life_expect\": 50.009, \"fertility\": 5.25}, {\"year\": 1985, \"country\": \"Bangladesh\", \"cluster\": 0, \"pop\": 99752733, \"life_expect\": 52.819, \"fertility\": 4.629}, {\"year\": 1990, \"country\": \"Bangladesh\", \"cluster\": 0, \"pop\": 109896945, \"life_expect\": 56.018, \"fertility\": 4.117}, {\"year\": 1995, \"country\": \"Bangladesh\", \"cluster\": 0, \"pop\": 119186448, \"life_expect\": 59.412, \"fertility\": 3.5042999999999997}, {\"year\": 2000, \"country\": \"Bangladesh\", \"cluster\": 0, \"pop\": 130406594, \"life_expect\": 62.013, \"fertility\": 3.224}, {\"year\": 2005, \"country\": \"Bangladesh\", \"cluster\": 0, \"pop\": 144319628, \"life_expect\": 64.062, \"fertility\": 2.826}, {\"year\": 1955, \"country\": \"Barbados\", \"cluster\": 3, \"pop\": 227255, \"life_expect\": 62.57, \"fertility\": 4.67}, {\"year\": 1960, \"country\": \"Barbados\", \"cluster\": 3, \"pop\": 232339, \"life_expect\": 65.87, \"fertility\": 4.26}, {\"year\": 1965, \"country\": \"Barbados\", \"cluster\": 3, \"pop\": 234980, \"life_expect\": 67.62, \"fertility\": 3.45}, {\"year\": 1970, \"country\": \"Barbados\", \"cluster\": 3, \"pop\": 238756, \"life_expect\": 69.42, \"fertility\": 2.74}, {\"year\": 1975, \"country\": \"Barbados\", \"cluster\": 3, \"pop\": 247147, \"life_expect\": 71.27, \"fertility\": 2.19}, {\"year\": 1980, \"country\": \"Barbados\", \"cluster\": 3, \"pop\": 251966, \"life_expect\": 72.695, \"fertility\": 1.92}, {\"year\": 1985, \"country\": \"Barbados\", \"cluster\": 3, \"pop\": 257446, \"life_expect\": 74.027, \"fertility\": 1.75}, {\"year\": 1990, \"country\": \"Barbados\", \"cluster\": 3, \"pop\": 262624, \"life_expect\": 74.894, \"fertility\": 1.6}, {\"year\": 1995, \"country\": \"Barbados\", \"cluster\": 3, \"pop\": 267907, \"life_expect\": 74.912, \"fertility\": 1.5}, {\"year\": 2000, \"country\": \"Barbados\", \"cluster\": 3, \"pop\": 273483, \"life_expect\": 75.97, \"fertility\": 1.5}, {\"year\": 2005, \"country\": \"Barbados\", \"cluster\": 3, \"pop\": 278870, \"life_expect\": 77.296, \"fertility\": 1.5}, {\"year\": 1955, \"country\": \"Belgium\", \"cluster\": 1, \"pop\": 8868475, \"life_expect\": 69.24, \"fertility\": 2.496}, {\"year\": 1960, \"country\": \"Belgium\", \"cluster\": 1, \"pop\": 9118700, \"life_expect\": 70.25, \"fertility\": 2.644}, {\"year\": 1965, \"country\": \"Belgium\", \"cluster\": 1, \"pop\": 9448100, \"life_expect\": 70.94, \"fertility\": 2.392}, {\"year\": 1970, \"country\": \"Belgium\", \"cluster\": 1, \"pop\": 9637800, \"life_expect\": 71.44, \"fertility\": 2.015}, {\"year\": 1975, \"country\": \"Belgium\", \"cluster\": 1, \"pop\": 9794800, \"life_expect\": 72.8, \"fertility\": 1.705}, {\"year\": 1980, \"country\": \"Belgium\", \"cluster\": 1, \"pop\": 9846800, \"life_expect\": 73.93, \"fertility\": 1.595}, {\"year\": 1985, \"country\": \"Belgium\", \"cluster\": 1, \"pop\": 9858200, \"life_expect\": 75.35, \"fertility\": 1.5590000000000002}, {\"year\": 1990, \"country\": \"Belgium\", \"cluster\": 1, \"pop\": 9969310, \"life_expect\": 76.46, \"fertility\": 1.613}, {\"year\": 1995, \"country\": \"Belgium\", \"cluster\": 1, \"pop\": 10155459, \"life_expect\": 77.53, \"fertility\": 1.604}, {\"year\": 2000, \"country\": \"Belgium\", \"cluster\": 1, \"pop\": 10263618, \"life_expect\": 78.32, \"fertility\": 1.638}, {\"year\": 2005, \"country\": \"Belgium\", \"cluster\": 1, \"pop\": 10364388, \"life_expect\": 79.441, \"fertility\": 1.646}, {\"year\": 1955, \"country\": \"Bolivia\", \"cluster\": 3, \"pop\": 3074311, \"life_expect\": 41.89, \"fertility\": 6.75}, {\"year\": 1960, \"country\": \"Bolivia\", \"cluster\": 3, \"pop\": 3434073, \"life_expect\": 43.428, \"fertility\": 6.63}, {\"year\": 1965, \"country\": \"Bolivia\", \"cluster\": 3, \"pop\": 3853315, \"life_expect\": 45.032, \"fertility\": 6.5600000000000005}, {\"year\": 1970, \"country\": \"Bolivia\", \"cluster\": 3, \"pop\": 4346218, \"life_expect\": 46.714, \"fertility\": 6.5}, {\"year\": 1975, \"country\": \"Bolivia\", \"cluster\": 3, \"pop\": 4914316, \"life_expect\": 50.023, \"fertility\": 5.8}, {\"year\": 1980, \"country\": \"Bolivia\", \"cluster\": 3, \"pop\": 5441298, \"life_expect\": 53.859, \"fertility\": 5.2995}, {\"year\": 1985, \"country\": \"Bolivia\", \"cluster\": 3, \"pop\": 5934935, \"life_expect\": 57.251, \"fertility\": 5.0}, {\"year\": 1990, \"country\": \"Bolivia\", \"cluster\": 3, \"pop\": 6573900, \"life_expect\": 59.957, \"fertility\": 4.8}, {\"year\": 1995, \"country\": \"Bolivia\", \"cluster\": 3, \"pop\": 7376582, \"life_expect\": 62.05, \"fertility\": 4.324}, {\"year\": 2000, \"country\": \"Bolivia\", \"cluster\": 3, \"pop\": 8152620, \"life_expect\": 63.883, \"fertility\": 3.9585}, {\"year\": 2005, \"country\": \"Bolivia\", \"cluster\": 3, \"pop\": 8857870, \"life_expect\": 65.554, \"fertility\": 3.5}, {\"year\": 1955, \"country\": \"Brazil\", \"cluster\": 3, \"pop\": 61773546, \"life_expect\": 53.285, \"fertility\": 6.1501}, {\"year\": 1960, \"country\": \"Brazil\", \"cluster\": 3, \"pop\": 71694810, \"life_expect\": 55.665, \"fertility\": 6.1501}, {\"year\": 1965, \"country\": \"Brazil\", \"cluster\": 3, \"pop\": 83092908, \"life_expect\": 57.632, \"fertility\": 5.38}, {\"year\": 1970, \"country\": \"Brazil\", \"cluster\": 3, \"pop\": 95684297, \"life_expect\": 59.504, \"fertility\": 4.7175}, {\"year\": 1975, \"country\": \"Brazil\", \"cluster\": 3, \"pop\": 108823732, \"life_expect\": 61.489, \"fertility\": 4.305}, {\"year\": 1980, \"country\": \"Brazil\", \"cluster\": 3, \"pop\": 122958132, \"life_expect\": 63.336, \"fertility\": 3.8}, {\"year\": 1985, \"country\": \"Brazil\", \"cluster\": 3, \"pop\": 137302933, \"life_expect\": 65.205, \"fertility\": 3.1}, {\"year\": 1990, \"country\": \"Brazil\", \"cluster\": 3, \"pop\": 151083809, \"life_expect\": 67.057, \"fertility\": 2.6}, {\"year\": 1995, \"country\": \"Brazil\", \"cluster\": 3, \"pop\": 163542501, \"life_expect\": 69.388, \"fertility\": 2.45}, {\"year\": 2000, \"country\": \"Brazil\", \"cluster\": 3, \"pop\": 175552771, \"life_expect\": 71.006, \"fertility\": 2.345}, {\"year\": 2005, \"country\": \"Brazil\", \"cluster\": 3, \"pop\": 186112794, \"life_expect\": 72.39, \"fertility\": 2.245}, {\"year\": 1955, \"country\": \"Canada\", \"cluster\": 3, \"pop\": 16050356, \"life_expect\": 69.96, \"fertility\": 3.882}, {\"year\": 1960, \"country\": \"Canada\", \"cluster\": 3, \"pop\": 18266765, \"life_expect\": 71.3, \"fertility\": 3.675}, {\"year\": 1965, \"country\": \"Canada\", \"cluster\": 3, \"pop\": 20071104, \"life_expect\": 72.13, \"fertility\": 2.61}, {\"year\": 1970, \"country\": \"Canada\", \"cluster\": 3, \"pop\": 21749986, \"life_expect\": 72.88, \"fertility\": 1.976}, {\"year\": 1975, \"country\": \"Canada\", \"cluster\": 3, \"pop\": 23209200, \"life_expect\": 74.21, \"fertility\": 1.734}, {\"year\": 1980, \"country\": \"Canada\", \"cluster\": 3, \"pop\": 24593300, \"life_expect\": 75.76, \"fertility\": 1.634}, {\"year\": 1985, \"country\": \"Canada\", \"cluster\": 3, \"pop\": 25941600, \"life_expect\": 76.86, \"fertility\": 1.616}, {\"year\": 1990, \"country\": \"Canada\", \"cluster\": 3, \"pop\": 27790600, \"life_expect\": 77.95, \"fertility\": 1.694}, {\"year\": 1995, \"country\": \"Canada\", \"cluster\": 3, \"pop\": 29619002, \"life_expect\": 78.61, \"fertility\": 1.564}, {\"year\": 2000, \"country\": \"Canada\", \"cluster\": 3, \"pop\": 31278097, \"life_expect\": 79.77, \"fertility\": 1.522}, {\"year\": 2005, \"country\": \"Canada\", \"cluster\": 3, \"pop\": 32805041, \"life_expect\": 80.653, \"fertility\": 1.5270000000000001}, {\"year\": 1955, \"country\": \"Chile\", \"cluster\": 3, \"pop\": 6743269, \"life_expect\": 56.074, \"fertility\": 5.486}, {\"year\": 1960, \"country\": \"Chile\", \"cluster\": 3, \"pop\": 7585349, \"life_expect\": 57.924, \"fertility\": 5.4385}, {\"year\": 1965, \"country\": \"Chile\", \"cluster\": 3, \"pop\": 8509950, \"life_expect\": 60.523, \"fertility\": 4.4405}, {\"year\": 1970, \"country\": \"Chile\", \"cluster\": 3, \"pop\": 9368558, \"life_expect\": 63.441, \"fertility\": 3.63}, {\"year\": 1975, \"country\": \"Chile\", \"cluster\": 3, \"pop\": 10251542, \"life_expect\": 67.052, \"fertility\": 2.803}, {\"year\": 1980, \"country\": \"Chile\", \"cluster\": 3, \"pop\": 11093718, \"life_expect\": 70.565, \"fertility\": 2.6710000000000003}, {\"year\": 1985, \"country\": \"Chile\", \"cluster\": 3, \"pop\": 12066701, \"life_expect\": 72.492, \"fertility\": 2.65}, {\"year\": 1990, \"country\": \"Chile\", \"cluster\": 3, \"pop\": 13127760, \"life_expect\": 74.126, \"fertility\": 2.55}, {\"year\": 1995, \"country\": \"Chile\", \"cluster\": 3, \"pop\": 14205449, \"life_expect\": 75.816, \"fertility\": 2.21}, {\"year\": 2000, \"country\": \"Chile\", \"cluster\": 3, \"pop\": 15153450, \"life_expect\": 77.86, \"fertility\": 2.0}, {\"year\": 2005, \"country\": \"Chile\", \"cluster\": 3, \"pop\": 15980912, \"life_expect\": 78.553, \"fertility\": 1.944}, {\"year\": 1955, \"country\": \"China\", \"cluster\": 4, \"pop\": 608655000, \"life_expect\": 50.54896, \"fertility\": 5.59}, {\"year\": 1960, \"country\": \"China\", \"cluster\": 4, \"pop\": 667070000, \"life_expect\": 44.50136, \"fertility\": 5.72}, {\"year\": 1965, \"country\": \"China\", \"cluster\": 4, \"pop\": 715185000, \"life_expect\": 58.38112, \"fertility\": 6.06}, {\"year\": 1970, \"country\": \"China\", \"cluster\": 4, \"pop\": 818315000, \"life_expect\": 63.11888, \"fertility\": 4.86}, {\"year\": 1975, \"country\": \"China\", \"cluster\": 4, \"pop\": 916395000, \"life_expect\": 63.96736, \"fertility\": 3.32}, {\"year\": 1980, \"country\": \"China\", \"cluster\": 4, \"pop\": 981235000, \"life_expect\": 65.525, \"fertility\": 2.55}, {\"year\": 1985, \"country\": \"China\", \"cluster\": 4, \"pop\": 1051040000, \"life_expect\": 67.274, \"fertility\": 2.46}, {\"year\": 1990, \"country\": \"China\", \"cluster\": 4, \"pop\": 1135185000, \"life_expect\": 68.69, \"fertility\": 1.92}, {\"year\": 1995, \"country\": \"China\", \"cluster\": 4, \"pop\": 1204855000, \"life_expect\": 70.426, \"fertility\": 1.7810000000000001}, {\"year\": 2000, \"country\": \"China\", \"cluster\": 4, \"pop\": 1262645000, \"life_expect\": 72.028, \"fertility\": 1.7000000000000002}, {\"year\": 2005, \"country\": \"China\", \"cluster\": 4, \"pop\": 1303182268, \"life_expect\": 72.961, \"fertility\": 1.725}, {\"year\": 1955, \"country\": \"Colombia\", \"cluster\": 3, \"pop\": 13588405, \"life_expect\": 55.118, \"fertility\": 6.76}, {\"year\": 1960, \"country\": \"Colombia\", \"cluster\": 3, \"pop\": 15952727, \"life_expect\": 57.863, \"fertility\": 6.76}, {\"year\": 1965, \"country\": \"Colombia\", \"cluster\": 3, \"pop\": 18646175, \"life_expect\": 59.963, \"fertility\": 6.18}, {\"year\": 1970, \"country\": \"Colombia\", \"cluster\": 3, \"pop\": 21429658, \"life_expect\": 61.623, \"fertility\": 5.0005}, {\"year\": 1975, \"country\": \"Colombia\", \"cluster\": 3, \"pop\": 24114177, \"life_expect\": 63.837, \"fertility\": 4.3385}, {\"year\": 1980, \"country\": \"Colombia\", \"cluster\": 3, \"pop\": 26582811, \"life_expect\": 66.653, \"fertility\": 3.685}, {\"year\": 1985, \"country\": \"Colombia\", \"cluster\": 3, \"pop\": 29678395, \"life_expect\": 67.768, \"fertility\": 3.172}, {\"year\": 1990, \"country\": \"Colombia\", \"cluster\": 3, \"pop\": 32858579, \"life_expect\": 68.421, \"fertility\": 2.93005}, {\"year\": 1995, \"country\": \"Colombia\", \"cluster\": 3, \"pop\": 36280883, \"life_expect\": 70.313, \"fertility\": 2.7}, {\"year\": 2000, \"country\": \"Colombia\", \"cluster\": 3, \"pop\": 39685655, \"life_expect\": 71.682, \"fertility\": 2.4705}, {\"year\": 2005, \"country\": \"Colombia\", \"cluster\": 3, \"pop\": 42954279, \"life_expect\": 72.889, \"fertility\": 2.2205}, {\"year\": 1955, \"country\": \"Costa Rica\", \"cluster\": 3, \"pop\": 1031782, \"life_expect\": 60.026, \"fertility\": 7.1135}, {\"year\": 1960, \"country\": \"Costa Rica\", \"cluster\": 3, \"pop\": 1248022, \"life_expect\": 62.842, \"fertility\": 7.2245}, {\"year\": 1965, \"country\": \"Costa Rica\", \"cluster\": 3, \"pop\": 1487605, \"life_expect\": 65.424, \"fertility\": 5.801}, {\"year\": 1970, \"country\": \"Costa Rica\", \"cluster\": 3, \"pop\": 1735523, \"life_expect\": 67.849, \"fertility\": 4.346}, {\"year\": 1975, \"country\": \"Costa Rica\", \"cluster\": 3, \"pop\": 1991580, \"life_expect\": 70.75, \"fertility\": 3.7755}, {\"year\": 1980, \"country\": \"Costa Rica\", \"cluster\": 3, \"pop\": 2299124, \"life_expect\": 73.45, \"fertility\": 3.527}, {\"year\": 1985, \"country\": \"Costa Rica\", \"cluster\": 3, \"pop\": 2643808, \"life_expect\": 74.752, \"fertility\": 3.374}, {\"year\": 1990, \"country\": \"Costa Rica\", \"cluster\": 3, \"pop\": 3027175, \"life_expect\": 75.713, \"fertility\": 2.9450000000000003}, {\"year\": 1995, \"country\": \"Costa Rica\", \"cluster\": 3, \"pop\": 3383786, \"life_expect\": 77.26, \"fertility\": 2.5835}, {\"year\": 2000, \"country\": \"Costa Rica\", \"cluster\": 3, \"pop\": 3710558, \"life_expect\": 78.123, \"fertility\": 2.2815}, {\"year\": 2005, \"country\": \"Costa Rica\", \"cluster\": 3, \"pop\": 4016173, \"life_expect\": 78.782, \"fertility\": 2.0985}, {\"year\": 1955, \"country\": \"Croatia\", \"cluster\": 1, \"pop\": 3955526, \"life_expect\": 64.77, \"fertility\": 2.42}, {\"year\": 1960, \"country\": \"Croatia\", \"cluster\": 1, \"pop\": 4036145, \"life_expect\": 67.13, \"fertility\": 2.27}, {\"year\": 1965, \"country\": \"Croatia\", \"cluster\": 1, \"pop\": 4133313, \"life_expect\": 68.5, \"fertility\": 2.09}, {\"year\": 1970, \"country\": \"Croatia\", \"cluster\": 1, \"pop\": 4205389, \"life_expect\": 69.61, \"fertility\": 1.96}, {\"year\": 1975, \"country\": \"Croatia\", \"cluster\": 1, \"pop\": 4255000, \"life_expect\": 70.64, \"fertility\": 2.02}, {\"year\": 1980, \"country\": \"Croatia\", \"cluster\": 1, \"pop\": 4383000, \"life_expect\": 70.46, \"fertility\": 1.96}, {\"year\": 1985, \"country\": \"Croatia\", \"cluster\": 1, \"pop\": 4457874, \"life_expect\": 71.52, \"fertility\": 1.8399999999999999}, {\"year\": 1990, \"country\": \"Croatia\", \"cluster\": 1, \"pop\": 4508347, \"life_expect\": 72.527, \"fertility\": 1.52}, {\"year\": 1995, \"country\": \"Croatia\", \"cluster\": 1, \"pop\": 4496683, \"life_expect\": 73.68, \"fertility\": 1.537}, {\"year\": 2000, \"country\": \"Croatia\", \"cluster\": 1, \"pop\": 4410830, \"life_expect\": 74.876, \"fertility\": 1.348}, {\"year\": 2005, \"country\": \"Croatia\", \"cluster\": 1, \"pop\": 4495904, \"life_expect\": 75.748, \"fertility\": 1.346}, {\"year\": 1955, \"country\": \"Cuba\", \"cluster\": 3, \"pop\": 6381106, \"life_expect\": 62.325, \"fertility\": 3.6995}, {\"year\": 1960, \"country\": \"Cuba\", \"cluster\": 3, \"pop\": 7027210, \"life_expect\": 65.246, \"fertility\": 4.6805}, {\"year\": 1965, \"country\": \"Cuba\", \"cluster\": 3, \"pop\": 7809916, \"life_expect\": 68.29, \"fertility\": 4.3}, {\"year\": 1970, \"country\": \"Cuba\", \"cluster\": 3, \"pop\": 8542746, \"life_expect\": 70.723, \"fertility\": 3.6}, {\"year\": 1975, \"country\": \"Cuba\", \"cluster\": 3, \"pop\": 9290074, \"life_expect\": 72.649, \"fertility\": 2.15}, {\"year\": 1980, \"country\": \"Cuba\", \"cluster\": 3, \"pop\": 9652975, \"life_expect\": 73.717, \"fertility\": 1.8495}, {\"year\": 1985, \"country\": \"Cuba\", \"cluster\": 3, \"pop\": 10078658, \"life_expect\": 74.174, \"fertility\": 1.8495}, {\"year\": 1990, \"country\": \"Cuba\", \"cluster\": 3, \"pop\": 10544793, \"life_expect\": 74.414, \"fertility\": 1.6505}, {\"year\": 1995, \"country\": \"Cuba\", \"cluster\": 3, \"pop\": 10896802, \"life_expect\": 76.151, \"fertility\": 1.6095000000000002}, {\"year\": 2000, \"country\": \"Cuba\", \"cluster\": 3, \"pop\": 11134273, \"life_expect\": 77.158, \"fertility\": 1.63}, {\"year\": 2005, \"country\": \"Cuba\", \"cluster\": 3, \"pop\": 11346670, \"life_expect\": 78.273, \"fertility\": 1.49}, {\"year\": 1955, \"country\": \"Dominican Republic\", \"cluster\": 3, \"pop\": 2737257, \"life_expect\": 49.828, \"fertility\": 7.6405}, {\"year\": 1960, \"country\": \"Dominican Republic\", \"cluster\": 3, \"pop\": 3231488, \"life_expect\": 53.459, \"fertility\": 7.3505}, {\"year\": 1965, \"country\": \"Dominican Republic\", \"cluster\": 3, \"pop\": 3805881, \"life_expect\": 56.751, \"fertility\": 6.6495}, {\"year\": 1970, \"country\": \"Dominican Republic\", \"cluster\": 3, \"pop\": 4422755, \"life_expect\": 59.631, \"fertility\": 5.71}, {\"year\": 1975, \"country\": \"Dominican Republic\", \"cluster\": 3, \"pop\": 5048499, \"life_expect\": 61.788, \"fertility\": 4.76}, {\"year\": 1980, \"country\": \"Dominican Republic\", \"cluster\": 3, \"pop\": 5696855, \"life_expect\": 63.727, \"fertility\": 4.0}, {\"year\": 1985, \"country\": \"Dominican Republic\", \"cluster\": 3, \"pop\": 6377765, \"life_expect\": 66.046, \"fertility\": 3.47}, {\"year\": 1990, \"country\": \"Dominican Republic\", \"cluster\": 3, \"pop\": 7077651, \"life_expect\": 68.457, \"fertility\": 3.1995}, {\"year\": 1995, \"country\": \"Dominican Republic\", \"cluster\": 3, \"pop\": 7730224, \"life_expect\": 69.957, \"fertility\": 3.05}, {\"year\": 2000, \"country\": \"Dominican Republic\", \"cluster\": 3, \"pop\": 8385828, \"life_expect\": 70.847, \"fertility\": 2.95}, {\"year\": 2005, \"country\": \"Dominican Republic\", \"cluster\": 3, \"pop\": 9049595, \"life_expect\": 72.235, \"fertility\": 2.81}, {\"year\": 1955, \"country\": \"Ecuador\", \"cluster\": 3, \"pop\": 3842399, \"life_expect\": 51.356, \"fertility\": 6.7}, {\"year\": 1960, \"country\": \"Ecuador\", \"cluster\": 3, \"pop\": 4415956, \"life_expect\": 54.64, \"fertility\": 6.7}, {\"year\": 1965, \"country\": \"Ecuador\", \"cluster\": 3, \"pop\": 5117779, \"life_expect\": 56.678, \"fertility\": 6.5}, {\"year\": 1970, \"country\": \"Ecuador\", \"cluster\": 3, \"pop\": 5939246, \"life_expect\": 58.796, \"fertility\": 6.0005}, {\"year\": 1975, \"country\": \"Ecuador\", \"cluster\": 3, \"pop\": 6871698, \"life_expect\": 61.31, \"fertility\": 5.4005}, {\"year\": 1980, \"country\": \"Ecuador\", \"cluster\": 3, \"pop\": 7920499, \"life_expect\": 64.342, \"fertility\": 4.7005}, {\"year\": 1985, \"country\": \"Ecuador\", \"cluster\": 3, \"pop\": 9061664, \"life_expect\": 67.231, \"fertility\": 4.0}, {\"year\": 1990, \"country\": \"Ecuador\", \"cluster\": 3, \"pop\": 10318036, \"life_expect\": 69.613, \"fertility\": 3.4005}, {\"year\": 1995, \"country\": \"Ecuador\", \"cluster\": 3, \"pop\": 11438004, \"life_expect\": 72.312, \"fertility\": 3.1}, {\"year\": 2000, \"country\": \"Ecuador\", \"cluster\": 3, \"pop\": 12505204, \"life_expect\": 74.173, \"fertility\": 2.8175}, {\"year\": 2005, \"country\": \"Ecuador\", \"cluster\": 3, \"pop\": 13363593, \"life_expect\": 74.994, \"fertility\": 2.578}, {\"year\": 1955, \"country\": \"Egypt\", \"cluster\": 5, \"pop\": 23855527, \"life_expect\": 44.444, \"fertility\": 6.97}, {\"year\": 1960, \"country\": \"Egypt\", \"cluster\": 5, \"pop\": 26846610, \"life_expect\": 46.992, \"fertility\": 7.073}, {\"year\": 1965, \"country\": \"Egypt\", \"cluster\": 5, \"pop\": 30265148, \"life_expect\": 49.293, \"fertility\": 6.5600000000000005}, {\"year\": 1970, \"country\": \"Egypt\", \"cluster\": 5, \"pop\": 33574026, \"life_expect\": 51.137, \"fertility\": 5.855}, {\"year\": 1975, \"country\": \"Egypt\", \"cluster\": 5, \"pop\": 36952499, \"life_expect\": 53.319, \"fertility\": 5.609}, {\"year\": 1980, \"country\": \"Egypt\", \"cluster\": 5, \"pop\": 42634215, \"life_expect\": 56.006, \"fertility\": 5.332}, {\"year\": 1985, \"country\": \"Egypt\", \"cluster\": 5, \"pop\": 50052381, \"life_expect\": 59.797, \"fertility\": 4.833}, {\"year\": 1990, \"country\": \"Egypt\", \"cluster\": 5, \"pop\": 56694413, \"life_expect\": 63.674, \"fertility\": 3.908}, {\"year\": 1995, \"country\": \"Egypt\", \"cluster\": 5, \"pop\": 63321615, \"life_expect\": 67.217, \"fertility\": 3.5}, {\"year\": 2000, \"country\": \"Egypt\", \"cluster\": 5, \"pop\": 70492342, \"life_expect\": 69.806, \"fertility\": 3.174}, {\"year\": 2005, \"country\": \"Egypt\", \"cluster\": 5, \"pop\": 77505756, \"life_expect\": 71.338, \"fertility\": 2.891}, {\"year\": 1955, \"country\": \"El Salvador\", \"cluster\": 3, \"pop\": 2221139, \"life_expect\": 48.57, \"fertility\": 6.8065}, {\"year\": 1960, \"country\": \"El Salvador\", \"cluster\": 3, \"pop\": 2581583, \"life_expect\": 52.307, \"fertility\": 6.8469999999999995}, {\"year\": 1965, \"country\": \"El Salvador\", \"cluster\": 3, \"pop\": 3017852, \"life_expect\": 55.855, \"fertility\": 6.621}, {\"year\": 1970, \"country\": \"El Salvador\", \"cluster\": 3, \"pop\": 3603907, \"life_expect\": 58.207, \"fertility\": 6.0995}, {\"year\": 1975, \"country\": \"El Salvador\", \"cluster\": 3, \"pop\": 4071179, \"life_expect\": 56.696, \"fertility\": 5.5996}, {\"year\": 1980, \"country\": \"El Salvador\", \"cluster\": 3, \"pop\": 4566199, \"life_expect\": 56.604, \"fertility\": 4.5}, {\"year\": 1985, \"country\": \"El Salvador\", \"cluster\": 3, \"pop\": 4664361, \"life_expect\": 63.154, \"fertility\": 3.901}, {\"year\": 1990, \"country\": \"El Salvador\", \"cluster\": 3, \"pop\": 5099884, \"life_expect\": 66.798, \"fertility\": 3.52}, {\"year\": 1995, \"country\": \"El Salvador\", \"cluster\": 3, \"pop\": 5568437, \"life_expect\": 69.535, \"fertility\": 3.17}, {\"year\": 2000, \"country\": \"El Salvador\", \"cluster\": 3, \"pop\": 6122515, \"life_expect\": 70.734, \"fertility\": 2.883}, {\"year\": 2005, \"country\": \"El Salvador\", \"cluster\": 3, \"pop\": 6704932, \"life_expect\": 71.878, \"fertility\": 2.6825}, {\"year\": 1955, \"country\": \"Finland\", \"cluster\": 1, \"pop\": 4234900, \"life_expect\": 67.49, \"fertility\": 2.769}, {\"year\": 1960, \"country\": \"Finland\", \"cluster\": 1, \"pop\": 4429600, \"life_expect\": 68.75, \"fertility\": 2.66}, {\"year\": 1965, \"country\": \"Finland\", \"cluster\": 1, \"pop\": 4563732, \"life_expect\": 69.83, \"fertility\": 2.191}, {\"year\": 1970, \"country\": \"Finland\", \"cluster\": 1, \"pop\": 4606307, \"life_expect\": 70.87, \"fertility\": 1.623}, {\"year\": 1975, \"country\": \"Finland\", \"cluster\": 1, \"pop\": 4711439, \"life_expect\": 72.52, \"fertility\": 1.663}, {\"year\": 1980, \"country\": \"Finland\", \"cluster\": 1, \"pop\": 4779535, \"life_expect\": 74.55, \"fertility\": 1.685}, {\"year\": 1985, \"country\": \"Finland\", \"cluster\": 1, \"pop\": 4901783, \"life_expect\": 74.83, \"fertility\": 1.6600000000000001}, {\"year\": 1990, \"country\": \"Finland\", \"cluster\": 1, \"pop\": 4986431, \"life_expect\": 75.7, \"fertility\": 1.819}, {\"year\": 1995, \"country\": \"Finland\", \"cluster\": 1, \"pop\": 5104654, \"life_expect\": 77.13, \"fertility\": 1.7429999999999999}, {\"year\": 2000, \"country\": \"Finland\", \"cluster\": 1, \"pop\": 5168595, \"life_expect\": 78.37, \"fertility\": 1.754}, {\"year\": 2005, \"country\": \"Finland\", \"cluster\": 1, \"pop\": 5223442, \"life_expect\": 79.313, \"fertility\": 1.8250000000000002}, {\"year\": 1955, \"country\": \"France\", \"cluster\": 1, \"pop\": 43427669, \"life_expect\": 68.93, \"fertility\": 2.7119999999999997}, {\"year\": 1960, \"country\": \"France\", \"cluster\": 1, \"pop\": 45670000, \"life_expect\": 70.51, \"fertility\": 2.85}, {\"year\": 1965, \"country\": \"France\", \"cluster\": 1, \"pop\": 48763000, \"life_expect\": 71.55, \"fertility\": 2.607}, {\"year\": 1970, \"country\": \"France\", \"cluster\": 1, \"pop\": 50787000, \"life_expect\": 72.38, \"fertility\": 2.31}, {\"year\": 1975, \"country\": \"France\", \"cluster\": 1, \"pop\": 52758427, \"life_expect\": 73.83, \"fertility\": 1.862}, {\"year\": 1980, \"country\": \"France\", \"cluster\": 1, \"pop\": 53869743, \"life_expect\": 74.89, \"fertility\": 1.866}, {\"year\": 1985, \"country\": \"France\", \"cluster\": 1, \"pop\": 55171224, \"life_expect\": 76.34, \"fertility\": 1.8050000000000002}, {\"year\": 1990, \"country\": \"France\", \"cluster\": 1, \"pop\": 56735161, \"life_expect\": 77.46, \"fertility\": 1.713}, {\"year\": 1995, \"country\": \"France\", \"cluster\": 1, \"pop\": 58149727, \"life_expect\": 78.64, \"fertility\": 1.7624}, {\"year\": 2000, \"country\": \"France\", \"cluster\": 1, \"pop\": 59381628, \"life_expect\": 79.59, \"fertility\": 1.8833000000000002}, {\"year\": 2005, \"country\": \"France\", \"cluster\": 1, \"pop\": 60656178, \"life_expect\": 80.657, \"fertility\": 1.8916}, {\"year\": 1955, \"country\": \"Georgia\", \"cluster\": 1, \"pop\": 3827154, \"life_expect\": 62.625, \"fertility\": 2.909}, {\"year\": 1960, \"country\": \"Georgia\", \"cluster\": 1, \"pop\": 4146570, \"life_expect\": 64.644, \"fertility\": 2.979}, {\"year\": 1965, \"country\": \"Georgia\", \"cluster\": 1, \"pop\": 4464959, \"life_expect\": 66.654, \"fertility\": 2.6109999999999998}, {\"year\": 1970, \"country\": \"Georgia\", \"cluster\": 1, \"pop\": 4694491, \"life_expect\": 68.158, \"fertility\": 2.601}, {\"year\": 1975, \"country\": \"Georgia\", \"cluster\": 1, \"pop\": 4897656, \"life_expect\": 69.634, \"fertility\": 2.39}, {\"year\": 1980, \"country\": \"Georgia\", \"cluster\": 1, \"pop\": 5045697, \"life_expect\": 69.638, \"fertility\": 2.269}, {\"year\": 1985, \"country\": \"Georgia\", \"cluster\": 1, \"pop\": 5192957, \"life_expect\": 70.45, \"fertility\": 2.263}, {\"year\": 1990, \"country\": \"Georgia\", \"cluster\": 1, \"pop\": 5426207, \"life_expect\": 70.465, \"fertility\": 1.9500000000000002}, {\"year\": 1995, \"country\": \"Georgia\", \"cluster\": 1, \"pop\": 5012952, \"life_expect\": 70.49, \"fertility\": 1.58}, {\"year\": 2000, \"country\": \"Georgia\", \"cluster\": 1, \"pop\": 4777209, \"life_expect\": 70.476, \"fertility\": 1.478}, {\"year\": 2005, \"country\": \"Georgia\", \"cluster\": 1, \"pop\": 4677401, \"life_expect\": 70.987, \"fertility\": 1.407}, {\"year\": 1955, \"country\": \"Germany\", \"cluster\": 1, \"pop\": 70195612, \"life_expect\": 69.1, \"fertility\": 2.3}, {\"year\": 1960, \"country\": \"Germany\", \"cluster\": 1, \"pop\": 72480869, \"life_expect\": 70.3, \"fertility\": 2.49}, {\"year\": 1965, \"country\": \"Germany\", \"cluster\": 1, \"pop\": 75638851, \"life_expect\": 70.8, \"fertility\": 2.32}, {\"year\": 1970, \"country\": \"Germany\", \"cluster\": 1, \"pop\": 77783164, \"life_expect\": 71.0, \"fertility\": 1.6400000000000001}, {\"year\": 1975, \"country\": \"Germany\", \"cluster\": 1, \"pop\": 78682325, \"life_expect\": 72.5, \"fertility\": 1.52}, {\"year\": 1980, \"country\": \"Germany\", \"cluster\": 1, \"pop\": 78297904, \"life_expect\": 73.8, \"fertility\": 1.46}, {\"year\": 1985, \"country\": \"Germany\", \"cluster\": 1, \"pop\": 77684907, \"life_expect\": 74.847, \"fertility\": 1.43}, {\"year\": 1990, \"country\": \"Germany\", \"cluster\": 1, \"pop\": 79380394, \"life_expect\": 76.07, \"fertility\": 1.31}, {\"year\": 1995, \"country\": \"Germany\", \"cluster\": 1, \"pop\": 81653702, \"life_expect\": 77.34, \"fertility\": 1.34}, {\"year\": 2000, \"country\": \"Germany\", \"cluster\": 1, \"pop\": 82187909, \"life_expect\": 78.67, \"fertility\": 1.346}, {\"year\": 2005, \"country\": \"Germany\", \"cluster\": 1, \"pop\": 82431390, \"life_expect\": 79.406, \"fertility\": 1.3599999999999999}, {\"year\": 1955, \"country\": \"Greece\", \"cluster\": 1, \"pop\": 7965538, \"life_expect\": 67.86, \"fertility\": 2.27}, {\"year\": 1960, \"country\": \"Greece\", \"cluster\": 1, \"pop\": 8327405, \"life_expect\": 69.51, \"fertility\": 2.2}, {\"year\": 1965, \"country\": \"Greece\", \"cluster\": 1, \"pop\": 8550333, \"life_expect\": 71.0, \"fertility\": 2.38}, {\"year\": 1970, \"country\": \"Greece\", \"cluster\": 1, \"pop\": 8792806, \"life_expect\": 72.34, \"fertility\": 2.32}, {\"year\": 1975, \"country\": \"Greece\", \"cluster\": 1, \"pop\": 9046542, \"life_expect\": 73.68, \"fertility\": 2.32}, {\"year\": 1980, \"country\": \"Greece\", \"cluster\": 1, \"pop\": 9642505, \"life_expect\": 75.24, \"fertility\": 1.96}, {\"year\": 1985, \"country\": \"Greece\", \"cluster\": 1, \"pop\": 9923253, \"life_expect\": 76.67, \"fertility\": 1.53}, {\"year\": 1990, \"country\": \"Greece\", \"cluster\": 1, \"pop\": 10129603, \"life_expect\": 77.03, \"fertility\": 1.37}, {\"year\": 1995, \"country\": \"Greece\", \"cluster\": 1, \"pop\": 10457554, \"life_expect\": 77.869, \"fertility\": 1.296}, {\"year\": 2000, \"country\": \"Greece\", \"cluster\": 1, \"pop\": 10559110, \"life_expect\": 78.256, \"fertility\": 1.2770000000000001}, {\"year\": 2005, \"country\": \"Greece\", \"cluster\": 1, \"pop\": 10668354, \"life_expect\": 79.483, \"fertility\": 1.325}, {\"year\": 1955, \"country\": \"Grenada\", \"cluster\": 3, \"pop\": 84621, \"life_expect\": 63.114, \"fertility\": 6.7}, {\"year\": 1960, \"country\": \"Grenada\", \"cluster\": 3, \"pop\": 90148, \"life_expect\": 63.608, \"fertility\": 6.4}, {\"year\": 1965, \"country\": \"Grenada\", \"cluster\": 3, \"pop\": 93290, \"life_expect\": 64.091, \"fertility\": 4.8}, {\"year\": 1970, \"country\": \"Grenada\", \"cluster\": 3, \"pop\": 95410, \"life_expect\": 64.577, \"fertility\": 4.6}, {\"year\": 1975, \"country\": \"Grenada\", \"cluster\": 3, \"pop\": 95819, \"life_expect\": 65.035, \"fertility\": 4.3}, {\"year\": 1980, \"country\": \"Grenada\", \"cluster\": 3, \"pop\": 90164, \"life_expect\": 65.503, \"fertility\": 4.23}, {\"year\": 1985, \"country\": \"Grenada\", \"cluster\": 3, \"pop\": 92203, \"life_expect\": 66.002, \"fertility\": 4.14}, {\"year\": 1990, \"country\": \"Grenada\", \"cluster\": 3, \"pop\": 92360, \"life_expect\": 66.469, \"fertility\": 3.26}, {\"year\": 1995, \"country\": \"Grenada\", \"cluster\": 3, \"pop\": 90603, \"life_expect\": 66.986, \"fertility\": 2.814}, {\"year\": 2000, \"country\": \"Grenada\", \"cluster\": 3, \"pop\": 89312, \"life_expect\": 67.746, \"fertility\": 2.429}, {\"year\": 2005, \"country\": \"Grenada\", \"cluster\": 3, \"pop\": 89502, \"life_expect\": 68.724, \"fertility\": 2.302}, {\"year\": 1955, \"country\": \"Haiti\", \"cluster\": 3, \"pop\": 3376419, \"life_expect\": 40.696, \"fertility\": 6.3}, {\"year\": 1960, \"country\": \"Haiti\", \"cluster\": 3, \"pop\": 3722743, \"life_expect\": 43.59, \"fertility\": 6.3}, {\"year\": 1965, \"country\": \"Haiti\", \"cluster\": 3, \"pop\": 4137405, \"life_expect\": 46.243, \"fertility\": 6.0}, {\"year\": 1970, \"country\": \"Haiti\", \"cluster\": 3, \"pop\": 4604915, \"life_expect\": 48.042, \"fertility\": 5.6005}, {\"year\": 1975, \"country\": \"Haiti\", \"cluster\": 3, \"pop\": 4828338, \"life_expect\": 49.923, \"fertility\": 5.8}, {\"year\": 1980, \"country\": \"Haiti\", \"cluster\": 3, \"pop\": 5029725, \"life_expect\": 51.461, \"fertility\": 6.2099}, {\"year\": 1985, \"country\": \"Haiti\", \"cluster\": 3, \"pop\": 5517977, \"life_expect\": 53.636, \"fertility\": 5.69985}, {\"year\": 1990, \"country\": \"Haiti\", \"cluster\": 3, \"pop\": 6126101, \"life_expect\": 55.089, \"fertility\": 5.14985}, {\"year\": 1995, \"country\": \"Haiti\", \"cluster\": 3, \"pop\": 6675578, \"life_expect\": 56.671, \"fertility\": 4.61995}, {\"year\": 2000, \"country\": \"Haiti\", \"cluster\": 3, \"pop\": 7306302, \"life_expect\": 58.137, \"fertility\": 4.0}, {\"year\": 2005, \"country\": \"Haiti\", \"cluster\": 3, \"pop\": 8121622, \"life_expect\": 60.916, \"fertility\": 3.5445}, {\"year\": 1955, \"country\": \"Hong Kong\", \"cluster\": 4, \"pop\": 2490400, \"life_expect\": 64.75, \"fertility\": 4.72}, {\"year\": 1960, \"country\": \"Hong Kong\", \"cluster\": 4, \"pop\": 3075300, \"life_expect\": 67.65, \"fertility\": 5.31}, {\"year\": 1965, \"country\": \"Hong Kong\", \"cluster\": 4, \"pop\": 3597900, \"life_expect\": 70.0, \"fertility\": 4.02}, {\"year\": 1970, \"country\": \"Hong Kong\", \"cluster\": 4, \"pop\": 3959000, \"life_expect\": 72.0, \"fertility\": 2.89}, {\"year\": 1975, \"country\": \"Hong Kong\", \"cluster\": 4, \"pop\": 4395800, \"life_expect\": 73.6, \"fertility\": 2.32}, {\"year\": 1980, \"country\": \"Hong Kong\", \"cluster\": 4, \"pop\": 5063100, \"life_expect\": 75.45, \"fertility\": 1.8}, {\"year\": 1985, \"country\": \"Hong Kong\", \"cluster\": 4, \"pop\": 5456200, \"life_expect\": 76.2, \"fertility\": 1.31}, {\"year\": 1990, \"country\": \"Hong Kong\", \"cluster\": 4, \"pop\": 5687959, \"life_expect\": 77.601, \"fertility\": 1.288}, {\"year\": 1995, \"country\": \"Hong Kong\", \"cluster\": 4, \"pop\": 6225347, \"life_expect\": 80.0, \"fertility\": 1.08}, {\"year\": 2000, \"country\": \"Hong Kong\", \"cluster\": 4, \"pop\": 6658720, \"life_expect\": 81.495, \"fertility\": 0.9400000000000001}, {\"year\": 2005, \"country\": \"Hong Kong\", \"cluster\": 4, \"pop\": 6898686, \"life_expect\": 82.208, \"fertility\": 0.966}, {\"year\": 1955, \"country\": \"Iceland\", \"cluster\": 1, \"pop\": 158044, \"life_expect\": 73.47, \"fertility\": 4.023}, {\"year\": 1960, \"country\": \"Iceland\", \"cluster\": 1, \"pop\": 175860, \"life_expect\": 73.68, \"fertility\": 3.943}, {\"year\": 1965, \"country\": \"Iceland\", \"cluster\": 1, \"pop\": 192288, \"life_expect\": 73.73, \"fertility\": 3.154}, {\"year\": 1970, \"country\": \"Iceland\", \"cluster\": 1, \"pop\": 204104, \"life_expect\": 74.46, \"fertility\": 2.843}, {\"year\": 1975, \"country\": \"Iceland\", \"cluster\": 1, \"pop\": 218031, \"life_expect\": 76.11, \"fertility\": 2.287}, {\"year\": 1980, \"country\": \"Iceland\", \"cluster\": 1, \"pop\": 228161, \"life_expect\": 76.99, \"fertility\": 2.248}, {\"year\": 1985, \"country\": \"Iceland\", \"cluster\": 1, \"pop\": 241403, \"life_expect\": 77.23, \"fertility\": 2.116}, {\"year\": 1990, \"country\": \"Iceland\", \"cluster\": 1, \"pop\": 254719, \"life_expect\": 78.77, \"fertility\": 2.194}, {\"year\": 1995, \"country\": \"Iceland\", \"cluster\": 1, \"pop\": 267527, \"life_expect\": 78.95, \"fertility\": 2.056}, {\"year\": 2000, \"country\": \"Iceland\", \"cluster\": 1, \"pop\": 281043, \"life_expect\": 80.5, \"fertility\": 1.9929999999999999}, {\"year\": 2005, \"country\": \"Iceland\", \"cluster\": 1, \"pop\": 296737, \"life_expect\": 81.757, \"fertility\": 2.052}, {\"year\": 1955, \"country\": \"India\", \"cluster\": 0, \"pop\": 393000000, \"life_expect\": 40.249, \"fertility\": 5.8961}, {\"year\": 1960, \"country\": \"India\", \"cluster\": 0, \"pop\": 434000000, \"life_expect\": 43.605, \"fertility\": 5.8216}, {\"year\": 1965, \"country\": \"India\", \"cluster\": 0, \"pop\": 485000000, \"life_expect\": 47.193, \"fertility\": 5.6058}, {\"year\": 1970, \"country\": \"India\", \"cluster\": 0, \"pop\": 541000000, \"life_expect\": 50.651, \"fertility\": 5.264}, {\"year\": 1975, \"country\": \"India\", \"cluster\": 0, \"pop\": 607000000, \"life_expect\": 54.208, \"fertility\": 4.8888}, {\"year\": 1980, \"country\": \"India\", \"cluster\": 0, \"pop\": 679000000, \"life_expect\": 56.596, \"fertility\": 4.4975}, {\"year\": 1985, \"country\": \"India\", \"cluster\": 0, \"pop\": 755000000, \"life_expect\": 58.553, \"fertility\": 4.15}, {\"year\": 1990, \"country\": \"India\", \"cluster\": 0, \"pop\": 839000000, \"life_expect\": 60.223, \"fertility\": 3.8648}, {\"year\": 1995, \"country\": \"India\", \"cluster\": 0, \"pop\": 927000000, \"life_expect\": 61.765, \"fertility\": 3.4551}, {\"year\": 2000, \"country\": \"India\", \"cluster\": 0, \"pop\": 1007702000, \"life_expect\": 62.879, \"fertility\": 3.1132}, {\"year\": 2005, \"country\": \"India\", \"cluster\": 0, \"pop\": 1080264388, \"life_expect\": 64.698, \"fertility\": 2.8073}, {\"year\": 1955, \"country\": \"Indonesia\", \"cluster\": 4, \"pop\": 86807000, \"life_expect\": 39.918, \"fertility\": 5.672}, {\"year\": 1960, \"country\": \"Indonesia\", \"cluster\": 4, \"pop\": 95254000, \"life_expect\": 42.518, \"fertility\": 5.62}, {\"year\": 1965, \"country\": \"Indonesia\", \"cluster\": 4, \"pop\": 105093000, \"life_expect\": 45.964, \"fertility\": 5.568}, {\"year\": 1970, \"country\": \"Indonesia\", \"cluster\": 4, \"pop\": 116044000, \"life_expect\": 49.203, \"fertility\": 5.3}, {\"year\": 1975, \"country\": \"Indonesia\", \"cluster\": 4, \"pop\": 130297000, \"life_expect\": 52.702, \"fertility\": 4.73}, {\"year\": 1980, \"country\": \"Indonesia\", \"cluster\": 4, \"pop\": 146995000, \"life_expect\": 56.159, \"fertility\": 4.109}, {\"year\": 1985, \"country\": \"Indonesia\", \"cluster\": 4, \"pop\": 163403000, \"life_expect\": 60.137, \"fertility\": 3.4}, {\"year\": 1990, \"country\": \"Indonesia\", \"cluster\": 4, \"pop\": 178500000, \"life_expect\": 62.681, \"fertility\": 2.9}, {\"year\": 1995, \"country\": \"Indonesia\", \"cluster\": 4, \"pop\": 194755000, \"life_expect\": 66.041, \"fertility\": 2.55}, {\"year\": 2000, \"country\": \"Indonesia\", \"cluster\": 4, \"pop\": 206265000, \"life_expect\": 68.588, \"fertility\": 2.3761}, {\"year\": 2005, \"country\": \"Indonesia\", \"cluster\": 4, \"pop\": 218465000, \"life_expect\": 70.65, \"fertility\": 2.182}, {\"year\": 1955, \"country\": \"Iran\", \"cluster\": 5, \"pop\": 18729000, \"life_expect\": 47.181, \"fertility\": 7.0}, {\"year\": 1960, \"country\": \"Iran\", \"cluster\": 5, \"pop\": 21577000, \"life_expect\": 49.325, \"fertility\": 7.0}, {\"year\": 1965, \"country\": \"Iran\", \"cluster\": 5, \"pop\": 25000000, \"life_expect\": 52.469, \"fertility\": 6.8}, {\"year\": 1970, \"country\": \"Iran\", \"cluster\": 5, \"pop\": 28933000, \"life_expect\": 55.234, \"fertility\": 6.4}, {\"year\": 1975, \"country\": \"Iran\", \"cluster\": 5, \"pop\": 33379000, \"life_expect\": 57.702, \"fertility\": 6.5}, {\"year\": 1980, \"country\": \"Iran\", \"cluster\": 5, \"pop\": 39583397, \"life_expect\": 59.62, \"fertility\": 6.63}, {\"year\": 1985, \"country\": \"Iran\", \"cluster\": 5, \"pop\": 48439952, \"life_expect\": 63.04, \"fertility\": 5.62}, {\"year\": 1990, \"country\": \"Iran\", \"cluster\": 5, \"pop\": 57035717, \"life_expect\": 65.742, \"fertility\": 4.328}, {\"year\": 1995, \"country\": \"Iran\", \"cluster\": 5, \"pop\": 61628116, \"life_expect\": 68.042, \"fertility\": 2.534}, {\"year\": 2000, \"country\": \"Iran\", \"cluster\": 5, \"pop\": 65660289, \"life_expect\": 69.451, \"fertility\": 2.124}, {\"year\": 2005, \"country\": \"Iran\", \"cluster\": 5, \"pop\": 68017860, \"life_expect\": 70.964, \"fertility\": 2.04}, {\"year\": 1955, \"country\": \"Iraq\", \"cluster\": 5, \"pop\": 5903253, \"life_expect\": 48.437, \"fertility\": 7.3}, {\"year\": 1960, \"country\": \"Iraq\", \"cluster\": 5, \"pop\": 6822030, \"life_expect\": 51.457, \"fertility\": 7.25}, {\"year\": 1965, \"country\": \"Iraq\", \"cluster\": 5, \"pop\": 7970746, \"life_expect\": 54.459, \"fertility\": 7.2}, {\"year\": 1970, \"country\": \"Iraq\", \"cluster\": 5, \"pop\": 9413671, \"life_expect\": 56.95, \"fertility\": 7.15}, {\"year\": 1975, \"country\": \"Iraq\", \"cluster\": 5, \"pop\": 11117804, \"life_expect\": 60.413, \"fertility\": 6.8}, {\"year\": 1980, \"country\": \"Iraq\", \"cluster\": 5, \"pop\": 13232839, \"life_expect\": 62.038, \"fertility\": 6.35}, {\"year\": 1985, \"country\": \"Iraq\", \"cluster\": 5, \"pop\": 15693620, \"life_expect\": 65.044, \"fertility\": 6.15}, {\"year\": 1990, \"country\": \"Iraq\", \"cluster\": 5, \"pop\": 18134702, \"life_expect\": 59.461, \"fertility\": 5.7}, {\"year\": 1995, \"country\": \"Iraq\", \"cluster\": 5, \"pop\": 19557247, \"life_expect\": 58.811, \"fertility\": 5.37}, {\"year\": 2000, \"country\": \"Iraq\", \"cluster\": 5, \"pop\": 22675617, \"life_expect\": 57.046, \"fertility\": 4.858}, {\"year\": 2005, \"country\": \"Iraq\", \"cluster\": 5, \"pop\": 26074906, \"life_expect\": 59.545, \"fertility\": 4.264}, {\"year\": 1955, \"country\": \"Ireland\", \"cluster\": 1, \"pop\": 2916133, \"life_expect\": 68.9, \"fertility\": 3.68}, {\"year\": 1960, \"country\": \"Ireland\", \"cluster\": 1, \"pop\": 2832000, \"life_expect\": 70.29, \"fertility\": 3.979}, {\"year\": 1965, \"country\": \"Ireland\", \"cluster\": 1, \"pop\": 2876000, \"life_expect\": 71.08, \"fertility\": 3.873}, {\"year\": 1970, \"country\": \"Ireland\", \"cluster\": 1, \"pop\": 2950100, \"life_expect\": 71.28, \"fertility\": 3.815}, {\"year\": 1975, \"country\": \"Ireland\", \"cluster\": 1, \"pop\": 3177300, \"life_expect\": 72.03, \"fertility\": 3.478}, {\"year\": 1980, \"country\": \"Ireland\", \"cluster\": 1, \"pop\": 3401000, \"life_expect\": 73.1, \"fertility\": 2.877}, {\"year\": 1985, \"country\": \"Ireland\", \"cluster\": 1, \"pop\": 3540000, \"life_expect\": 74.36, \"fertility\": 2.287}, {\"year\": 1990, \"country\": \"Ireland\", \"cluster\": 1, \"pop\": 3508200, \"life_expect\": 75.467, \"fertility\": 1.9689999999999999}, {\"year\": 1995, \"country\": \"Ireland\", \"cluster\": 1, \"pop\": 3613890, \"life_expect\": 76.122, \"fertility\": 1.9}, {\"year\": 2000, \"country\": \"Ireland\", \"cluster\": 1, \"pop\": 3791690, \"life_expect\": 77.783, \"fertility\": 1.9689999999999999}, {\"year\": 2005, \"country\": \"Ireland\", \"cluster\": 1, \"pop\": 4015676, \"life_expect\": 78.885, \"fertility\": 1.964}, {\"year\": 1955, \"country\": \"Israel\", \"cluster\": 5, \"pop\": 1772032, \"life_expect\": 67.84, \"fertility\": 3.893}, {\"year\": 1960, \"country\": \"Israel\", \"cluster\": 5, \"pop\": 2141495, \"life_expect\": 69.39, \"fertility\": 3.852}, {\"year\": 1965, \"country\": \"Israel\", \"cluster\": 5, \"pop\": 2578184, \"life_expect\": 70.75, \"fertility\": 3.79}, {\"year\": 1970, \"country\": \"Israel\", \"cluster\": 5, \"pop\": 2903434, \"life_expect\": 71.63, \"fertility\": 3.77}, {\"year\": 1975, \"country\": \"Israel\", \"cluster\": 5, \"pop\": 3354242, \"life_expect\": 73.06, \"fertility\": 3.409}, {\"year\": 1980, \"country\": \"Israel\", \"cluster\": 5, \"pop\": 3737473, \"life_expect\": 74.45, \"fertility\": 3.125}, {\"year\": 1985, \"country\": \"Israel\", \"cluster\": 5, \"pop\": 4074965, \"life_expect\": 75.6, \"fertility\": 3.051}, {\"year\": 1990, \"country\": \"Israel\", \"cluster\": 5, \"pop\": 4512068, \"life_expect\": 76.93, \"fertility\": 2.933}, {\"year\": 1995, \"country\": \"Israel\", \"cluster\": 5, \"pop\": 5305120, \"life_expect\": 78.269, \"fertility\": 2.942}, {\"year\": 2000, \"country\": \"Israel\", \"cluster\": 5, \"pop\": 5842454, \"life_expect\": 79.696, \"fertility\": 2.906}, {\"year\": 2005, \"country\": \"Israel\", \"cluster\": 5, \"pop\": 6276883, \"life_expect\": 80.745, \"fertility\": 2.75}, {\"year\": 1955, \"country\": \"Italy\", \"cluster\": 1, \"pop\": 48633000, \"life_expect\": 67.81, \"fertility\": 2.35}, {\"year\": 1960, \"country\": \"Italy\", \"cluster\": 1, \"pop\": 50197600, \"life_expect\": 69.24, \"fertility\": 2.498}, {\"year\": 1965, \"country\": \"Italy\", \"cluster\": 1, \"pop\": 51987100, \"life_expect\": 71.06, \"fertility\": 2.493}, {\"year\": 1970, \"country\": \"Italy\", \"cluster\": 1, \"pop\": 53661100, \"life_expect\": 72.19, \"fertility\": 2.325}, {\"year\": 1975, \"country\": \"Italy\", \"cluster\": 1, \"pop\": 55571894, \"life_expect\": 73.48, \"fertility\": 1.889}, {\"year\": 1980, \"country\": \"Italy\", \"cluster\": 1, \"pop\": 56451247, \"life_expect\": 74.98, \"fertility\": 1.53}, {\"year\": 1985, \"country\": \"Italy\", \"cluster\": 1, \"pop\": 56731215, \"life_expect\": 76.42, \"fertility\": 1.349}, {\"year\": 1990, \"country\": \"Italy\", \"cluster\": 1, \"pop\": 56742886, \"life_expect\": 77.44, \"fertility\": 1.275}, {\"year\": 1995, \"country\": \"Italy\", \"cluster\": 1, \"pop\": 57274531, \"life_expect\": 78.82, \"fertility\": 1.213}, {\"year\": 2000, \"country\": \"Italy\", \"cluster\": 1, \"pop\": 57719337, \"life_expect\": 80.24, \"fertility\": 1.286}, {\"year\": 2005, \"country\": \"Italy\", \"cluster\": 1, \"pop\": 58103033, \"life_expect\": 80.546, \"fertility\": 1.379}, {\"year\": 1955, \"country\": \"Jamaica\", \"cluster\": 3, \"pop\": 1488805, \"life_expect\": 62.61, \"fertility\": 5.08}, {\"year\": 1960, \"country\": \"Jamaica\", \"cluster\": 3, \"pop\": 1631784, \"life_expect\": 65.61, \"fertility\": 5.64}, {\"year\": 1965, \"country\": \"Jamaica\", \"cluster\": 3, \"pop\": 1777397, \"life_expect\": 67.51, \"fertility\": 5.78}, {\"year\": 1970, \"country\": \"Jamaica\", \"cluster\": 3, \"pop\": 1943787, \"life_expect\": 69.0, \"fertility\": 5.0}, {\"year\": 1975, \"country\": \"Jamaica\", \"cluster\": 3, \"pop\": 2104879, \"life_expect\": 70.11, \"fertility\": 4.0}, {\"year\": 1980, \"country\": \"Jamaica\", \"cluster\": 3, \"pop\": 2228803, \"life_expect\": 71.21, \"fertility\": 3.55}, {\"year\": 1985, \"country\": \"Jamaica\", \"cluster\": 3, \"pop\": 2318652, \"life_expect\": 71.77, \"fertility\": 3.1}, {\"year\": 1990, \"country\": \"Jamaica\", \"cluster\": 3, \"pop\": 2347922, \"life_expect\": 71.766, \"fertility\": 2.84}, {\"year\": 1995, \"country\": \"Jamaica\", \"cluster\": 3, \"pop\": 2469389, \"life_expect\": 72.262, \"fertility\": 2.67}, {\"year\": 2000, \"country\": \"Jamaica\", \"cluster\": 3, \"pop\": 2615467, \"life_expect\": 72.047, \"fertility\": 2.628}, {\"year\": 2005, \"country\": \"Jamaica\", \"cluster\": 3, \"pop\": 2735520, \"life_expect\": 72.567, \"fertility\": 2.4289}, {\"year\": 1955, \"country\": \"Japan\", \"cluster\": 4, \"pop\": 89815060, \"life_expect\": 65.5, \"fertility\": 2.08}, {\"year\": 1960, \"country\": \"Japan\", \"cluster\": 4, \"pop\": 94091638, \"life_expect\": 68.73, \"fertility\": 2.02}, {\"year\": 1965, \"country\": \"Japan\", \"cluster\": 4, \"pop\": 98882534, \"life_expect\": 71.43, \"fertility\": 2.0}, {\"year\": 1970, \"country\": \"Japan\", \"cluster\": 4, \"pop\": 104344973, \"life_expect\": 73.42, \"fertility\": 2.07}, {\"year\": 1975, \"country\": \"Japan\", \"cluster\": 4, \"pop\": 111573116, \"life_expect\": 75.38, \"fertility\": 1.81}, {\"year\": 1980, \"country\": \"Japan\", \"cluster\": 4, \"pop\": 116807309, \"life_expect\": 77.11, \"fertility\": 1.76}, {\"year\": 1985, \"country\": \"Japan\", \"cluster\": 4, \"pop\": 120754335, \"life_expect\": 78.67, \"fertility\": 1.6600000000000001}, {\"year\": 1990, \"country\": \"Japan\", \"cluster\": 4, \"pop\": 123537399, \"life_expect\": 79.36, \"fertility\": 1.49}, {\"year\": 1995, \"country\": \"Japan\", \"cluster\": 4, \"pop\": 125341354, \"life_expect\": 80.69, \"fertility\": 1.3900000000000001}, {\"year\": 2000, \"country\": \"Japan\", \"cluster\": 4, \"pop\": 126699784, \"life_expect\": 82.0, \"fertility\": 1.291}, {\"year\": 2005, \"country\": \"Japan\", \"cluster\": 4, \"pop\": 127417244, \"life_expect\": 82.603, \"fertility\": 1.27}, {\"year\": 1955, \"country\": \"Kenya\", \"cluster\": 2, \"pop\": 7033999, \"life_expect\": 44.686, \"fertility\": 7.816}, {\"year\": 1960, \"country\": \"Kenya\", \"cluster\": 2, \"pop\": 8156827, \"life_expect\": 47.949, \"fertility\": 8.12}, {\"year\": 1965, \"country\": \"Kenya\", \"cluster\": 2, \"pop\": 9549179, \"life_expect\": 50.654, \"fertility\": 8.12}, {\"year\": 1970, \"country\": \"Kenya\", \"cluster\": 2, \"pop\": 11247182, \"life_expect\": 53.559, \"fertility\": 8.0}, {\"year\": 1975, \"country\": \"Kenya\", \"cluster\": 2, \"pop\": 13433414, \"life_expect\": 56.155, \"fertility\": 7.6}, {\"year\": 1980, \"country\": \"Kenya\", \"cluster\": 2, \"pop\": 16331401, \"life_expect\": 58.766, \"fertility\": 7.2}, {\"year\": 1985, \"country\": \"Kenya\", \"cluster\": 2, \"pop\": 19763285, \"life_expect\": 59.339, \"fertility\": 6.5}, {\"year\": 1990, \"country\": \"Kenya\", \"cluster\": 2, \"pop\": 23358413, \"life_expect\": 59.285, \"fertility\": 5.4}, {\"year\": 1995, \"country\": \"Kenya\", \"cluster\": 2, \"pop\": 27060142, \"life_expect\": 54.407, \"fertility\": 5.0}, {\"year\": 2000, \"country\": \"Kenya\", \"cluster\": 2, \"pop\": 29985839, \"life_expect\": 50.992, \"fertility\": 5.0}, {\"year\": 2005, \"country\": \"Kenya\", \"cluster\": 2, \"pop\": 33829590, \"life_expect\": 54.11, \"fertility\": 4.959}, {\"year\": 1955, \"country\": \"South Korea\", \"cluster\": 4, \"pop\": 8839427, \"life_expect\": 54.081, \"fertility\": 3.8}, {\"year\": 1960, \"country\": \"South Korea\", \"cluster\": 4, \"pop\": 10391909, \"life_expect\": 56.656, \"fertility\": 3.41}, {\"year\": 1965, \"country\": \"South Korea\", \"cluster\": 4, \"pop\": 11868751, \"life_expect\": 59.942, \"fertility\": 4.09}, {\"year\": 1970, \"country\": \"South Korea\", \"cluster\": 4, \"pop\": 13911902, \"life_expect\": 63.983, \"fertility\": 3.7199999999999998}, {\"year\": 1975, \"country\": \"South Korea\", \"cluster\": 4, \"pop\": 15801308, \"life_expect\": 67.159, \"fertility\": 2.58}, {\"year\": 1980, \"country\": \"South Korea\", \"cluster\": 4, \"pop\": 17113626, \"life_expect\": 69.1, \"fertility\": 2.93}, {\"year\": 1985, \"country\": \"South Korea\", \"cluster\": 4, \"pop\": 18481420, \"life_expect\": 70.647, \"fertility\": 2.45}, {\"year\": 1990, \"country\": \"South Korea\", \"cluster\": 4, \"pop\": 20018546, \"life_expect\": 69.978, \"fertility\": 2.35}, {\"year\": 1995, \"country\": \"South Korea\", \"cluster\": 4, \"pop\": 21561856, \"life_expect\": 67.727, \"fertility\": 2.0938}, {\"year\": 2000, \"country\": \"South Korea\", \"cluster\": 4, \"pop\": 21647682, \"life_expect\": 66.662, \"fertility\": 1.9173}, {\"year\": 2005, \"country\": \"South Korea\", \"cluster\": 4, \"pop\": 22912177, \"life_expect\": 67.297, \"fertility\": 1.85}, {\"year\": 1955, \"country\": \"North Korea\", \"cluster\": 4, \"pop\": 21551834, \"life_expect\": 52.681, \"fertility\": 6.332}, {\"year\": 1960, \"country\": \"North Korea\", \"cluster\": 4, \"pop\": 24784140, \"life_expect\": 55.292, \"fertility\": 5.63}, {\"year\": 1965, \"country\": \"North Korea\", \"cluster\": 4, \"pop\": 28705000, \"life_expect\": 57.716, \"fertility\": 4.708}, {\"year\": 1970, \"country\": \"North Korea\", \"cluster\": 4, \"pop\": 32241000, \"life_expect\": 62.612, \"fertility\": 4.281}, {\"year\": 1975, \"country\": \"North Korea\", \"cluster\": 4, \"pop\": 35281000, \"life_expect\": 64.766, \"fertility\": 2.919}, {\"year\": 1980, \"country\": \"North Korea\", \"cluster\": 4, \"pop\": 38124000, \"life_expect\": 67.123, \"fertility\": 2.234}, {\"year\": 1985, \"country\": \"North Korea\", \"cluster\": 4, \"pop\": 40806000, \"life_expect\": 69.81, \"fertility\": 1.601}, {\"year\": 1990, \"country\": \"North Korea\", \"cluster\": 4, \"pop\": 42869000, \"life_expect\": 72.244, \"fertility\": 1.6960000000000002}, {\"year\": 1995, \"country\": \"North Korea\", \"cluster\": 4, \"pop\": 45264146, \"life_expect\": 74.647, \"fertility\": 1.514}, {\"year\": 2000, \"country\": \"North Korea\", \"cluster\": 4, \"pop\": 47351083, \"life_expect\": 77.045, \"fertility\": 1.242}, {\"year\": 2005, \"country\": \"North Korea\", \"cluster\": 4, \"pop\": 48640671, \"life_expect\": 78.623, \"fertility\": 1.21}, {\"year\": 1955, \"country\": \"Lebanon\", \"cluster\": 5, \"pop\": 1560985, \"life_expect\": 59.489, \"fertility\": 5.72}, {\"year\": 1960, \"country\": \"Lebanon\", \"cluster\": 5, \"pop\": 1786235, \"life_expect\": 62.094, \"fertility\": 5.689}, {\"year\": 1965, \"country\": \"Lebanon\", \"cluster\": 5, \"pop\": 2057945, \"life_expect\": 63.87, \"fertility\": 5.336}, {\"year\": 1970, \"country\": \"Lebanon\", \"cluster\": 5, \"pop\": 2383029, \"life_expect\": 65.421, \"fertility\": 4.78}, {\"year\": 1975, \"country\": \"Lebanon\", \"cluster\": 5, \"pop\": 3098159, \"life_expect\": 66.099, \"fertility\": 4.311}, {\"year\": 1980, \"country\": \"Lebanon\", \"cluster\": 5, \"pop\": 3085876, \"life_expect\": 66.983, \"fertility\": 3.895}, {\"year\": 1985, \"country\": \"Lebanon\", \"cluster\": 5, \"pop\": 3088235, \"life_expect\": 67.926, \"fertility\": 3.313}, {\"year\": 1990, \"country\": \"Lebanon\", \"cluster\": 5, \"pop\": 3147267, \"life_expect\": 69.292, \"fertility\": 3.0}, {\"year\": 1995, \"country\": \"Lebanon\", \"cluster\": 5, \"pop\": 3334733, \"life_expect\": 70.265, \"fertility\": 2.6950000000000003}, {\"year\": 2000, \"country\": \"Lebanon\", \"cluster\": 5, \"pop\": 3578036, \"life_expect\": 71.028, \"fertility\": 2.319}, {\"year\": 2005, \"country\": \"Lebanon\", \"cluster\": 5, \"pop\": 3826018, \"life_expect\": 71.993, \"fertility\": 2.209}, {\"year\": 1955, \"country\": \"Mexico\", \"cluster\": 3, \"pop\": 32929914, \"life_expect\": 55.19, \"fertility\": 6.8}, {\"year\": 1960, \"country\": \"Mexico\", \"cluster\": 3, \"pop\": 38578505, \"life_expect\": 58.299, \"fertility\": 6.7495}, {\"year\": 1965, \"country\": \"Mexico\", \"cluster\": 3, \"pop\": 45142399, \"life_expect\": 60.11, \"fertility\": 6.7495}, {\"year\": 1970, \"country\": \"Mexico\", \"cluster\": 3, \"pop\": 52775158, \"life_expect\": 62.361, \"fertility\": 6.5}, {\"year\": 1975, \"country\": \"Mexico\", \"cluster\": 3, \"pop\": 60678045, \"life_expect\": 65.032, \"fertility\": 5.2505}, {\"year\": 1980, \"country\": \"Mexico\", \"cluster\": 3, \"pop\": 68347479, \"life_expect\": 67.405, \"fertility\": 4.25}, {\"year\": 1985, \"country\": \"Mexico\", \"cluster\": 3, \"pop\": 76767225, \"life_expect\": 69.498, \"fertility\": 3.6295}, {\"year\": 1990, \"country\": \"Mexico\", \"cluster\": 3, \"pop\": 84913652, \"life_expect\": 71.455, \"fertility\": 3.1905}, {\"year\": 1995, \"country\": \"Mexico\", \"cluster\": 3, \"pop\": 92880353, \"life_expect\": 73.67, \"fertility\": 2.6705}, {\"year\": 2000, \"country\": \"Mexico\", \"cluster\": 3, \"pop\": 99926620, \"life_expect\": 74.902, \"fertility\": 2.4005}, {\"year\": 2005, \"country\": \"Mexico\", \"cluster\": 3, \"pop\": 106202903, \"life_expect\": 76.195, \"fertility\": 2.211}, {\"year\": 1955, \"country\": \"Netherlands\", \"cluster\": 1, \"pop\": 10750842, \"life_expect\": 72.99, \"fertility\": 3.095}, {\"year\": 1960, \"country\": \"Netherlands\", \"cluster\": 1, \"pop\": 11486000, \"life_expect\": 73.23, \"fertility\": 3.168}, {\"year\": 1965, \"country\": \"Netherlands\", \"cluster\": 1, \"pop\": 12292000, \"life_expect\": 73.82, \"fertility\": 2.797}, {\"year\": 1970, \"country\": \"Netherlands\", \"cluster\": 1, \"pop\": 13032335, \"life_expect\": 73.75, \"fertility\": 2.059}, {\"year\": 1975, \"country\": \"Netherlands\", \"cluster\": 1, \"pop\": 13653438, \"life_expect\": 75.24, \"fertility\": 1.596}, {\"year\": 1980, \"country\": \"Netherlands\", \"cluster\": 1, \"pop\": 14143901, \"life_expect\": 76.05, \"fertility\": 1.5150000000000001}, {\"year\": 1985, \"country\": \"Netherlands\", \"cluster\": 1, \"pop\": 14491380, \"life_expect\": 76.83, \"fertility\": 1.5550000000000002}, {\"year\": 1990, \"country\": \"Netherlands\", \"cluster\": 1, \"pop\": 14951510, \"life_expect\": 77.42, \"fertility\": 1.583}, {\"year\": 1995, \"country\": \"Netherlands\", \"cluster\": 1, \"pop\": 15459054, \"life_expect\": 78.03, \"fertility\": 1.6}, {\"year\": 2000, \"country\": \"Netherlands\", \"cluster\": 1, \"pop\": 15907853, \"life_expect\": 78.53, \"fertility\": 1.726}, {\"year\": 2005, \"country\": \"Netherlands\", \"cluster\": 1, \"pop\": 16407491, \"life_expect\": 79.762, \"fertility\": 1.721}, {\"year\": 1955, \"country\": \"New Zealand\", \"cluster\": 4, \"pop\": 2136168, \"life_expect\": 70.26, \"fertility\": 4.07}, {\"year\": 1960, \"country\": \"New Zealand\", \"cluster\": 4, \"pop\": 2371746, \"life_expect\": 71.24, \"fertility\": 4.022}, {\"year\": 1965, \"country\": \"New Zealand\", \"cluster\": 4, \"pop\": 2640400, \"life_expect\": 71.52, \"fertility\": 3.348}, {\"year\": 1970, \"country\": \"New Zealand\", \"cluster\": 4, \"pop\": 2828050, \"life_expect\": 71.89, \"fertility\": 2.843}, {\"year\": 1975, \"country\": \"New Zealand\", \"cluster\": 4, \"pop\": 3117800, \"life_expect\": 72.22, \"fertility\": 2.178}, {\"year\": 1980, \"country\": \"New Zealand\", \"cluster\": 4, \"pop\": 3170150, \"life_expect\": 73.84, \"fertility\": 1.963}, {\"year\": 1985, \"country\": \"New Zealand\", \"cluster\": 4, \"pop\": 3298050, \"life_expect\": 74.32, \"fertility\": 2.053}, {\"year\": 1990, \"country\": \"New Zealand\", \"cluster\": 4, \"pop\": 3359604, \"life_expect\": 76.33, \"fertility\": 2.061}, {\"year\": 1995, \"country\": \"New Zealand\", \"cluster\": 4, \"pop\": 3565990, \"life_expect\": 77.55, \"fertility\": 1.952}, {\"year\": 2000, \"country\": \"New Zealand\", \"cluster\": 4, \"pop\": 3819762, \"life_expect\": 79.11, \"fertility\": 1.964}, {\"year\": 2005, \"country\": \"New Zealand\", \"cluster\": 4, \"pop\": 4035461, \"life_expect\": 80.204, \"fertility\": 1.994}, {\"year\": 1955, \"country\": \"Nigeria\", \"cluster\": 2, \"pop\": 35458978, \"life_expect\": 37.802, \"fertility\": 6.9}, {\"year\": 1960, \"country\": \"Nigeria\", \"cluster\": 2, \"pop\": 39914593, \"life_expect\": 39.36, \"fertility\": 6.9}, {\"year\": 1965, \"country\": \"Nigeria\", \"cluster\": 2, \"pop\": 45020052, \"life_expect\": 41.04, \"fertility\": 6.9}, {\"year\": 1970, \"country\": \"Nigeria\", \"cluster\": 2, \"pop\": 51027516, \"life_expect\": 42.821, \"fertility\": 6.9}, {\"year\": 1975, \"country\": \"Nigeria\", \"cluster\": 2, \"pop\": 58522112, \"life_expect\": 44.514, \"fertility\": 6.9}, {\"year\": 1980, \"country\": \"Nigeria\", \"cluster\": 2, \"pop\": 68550274, \"life_expect\": 45.826, \"fertility\": 6.9}, {\"year\": 1985, \"country\": \"Nigeria\", \"cluster\": 2, \"pop\": 77573154, \"life_expect\": 46.886, \"fertility\": 6.834}, {\"year\": 1990, \"country\": \"Nigeria\", \"cluster\": 2, \"pop\": 88510354, \"life_expect\": 47.472, \"fertility\": 6.635}, {\"year\": 1995, \"country\": \"Nigeria\", \"cluster\": 2, \"pop\": 100960105, \"life_expect\": 47.464, \"fertility\": 6.246}, {\"year\": 2000, \"country\": \"Nigeria\", \"cluster\": 2, \"pop\": 114306700, \"life_expect\": 46.608, \"fertility\": 5.845}, {\"year\": 2005, \"country\": \"Nigeria\", \"cluster\": 2, \"pop\": 128765768, \"life_expect\": 46.859, \"fertility\": 5.322}, {\"year\": 1955, \"country\": \"Norway\", \"cluster\": 1, \"pop\": 3427409, \"life_expect\": 73.44, \"fertility\": 2.8369999999999997}, {\"year\": 1960, \"country\": \"Norway\", \"cluster\": 1, \"pop\": 3581239, \"life_expect\": 73.47, \"fertility\": 2.898}, {\"year\": 1965, \"country\": \"Norway\", \"cluster\": 1, \"pop\": 3723153, \"life_expect\": 74.08, \"fertility\": 2.719}, {\"year\": 1970, \"country\": \"Norway\", \"cluster\": 1, \"pop\": 3877386, \"life_expect\": 74.34, \"fertility\": 2.248}, {\"year\": 1975, \"country\": \"Norway\", \"cluster\": 1, \"pop\": 4007313, \"life_expect\": 75.37, \"fertility\": 1.81}, {\"year\": 1980, \"country\": \"Norway\", \"cluster\": 1, \"pop\": 4085620, \"life_expect\": 75.97, \"fertility\": 1.687}, {\"year\": 1985, \"country\": \"Norway\", \"cluster\": 1, \"pop\": 4152419, \"life_expect\": 75.89, \"fertility\": 1.8}, {\"year\": 1990, \"country\": \"Norway\", \"cluster\": 1, \"pop\": 4242006, \"life_expect\": 77.32, \"fertility\": 1.8860000000000001}, {\"year\": 1995, \"country\": \"Norway\", \"cluster\": 1, \"pop\": 4359101, \"life_expect\": 78.32, \"fertility\": 1.853}, {\"year\": 2000, \"country\": \"Norway\", \"cluster\": 1, \"pop\": 4492400, \"life_expect\": 79.05, \"fertility\": 1.8010000000000002}, {\"year\": 2005, \"country\": \"Norway\", \"cluster\": 1, \"pop\": 4593041, \"life_expect\": 80.196, \"fertility\": 1.8479999999999999}, {\"year\": 1955, \"country\": \"Pakistan\", \"cluster\": 0, \"pop\": 44434445, \"life_expect\": 45.557, \"fertility\": 6.6}, {\"year\": 1960, \"country\": \"Pakistan\", \"cluster\": 0, \"pop\": 50386898, \"life_expect\": 47.67, \"fertility\": 6.6}, {\"year\": 1965, \"country\": \"Pakistan\", \"cluster\": 0, \"pop\": 57494940, \"life_expect\": 49.8, \"fertility\": 6.6}, {\"year\": 1970, \"country\": \"Pakistan\", \"cluster\": 0, \"pop\": 65705964, \"life_expect\": 51.929, \"fertility\": 6.6}, {\"year\": 1975, \"country\": \"Pakistan\", \"cluster\": 0, \"pop\": 74711541, \"life_expect\": 54.043, \"fertility\": 6.6}, {\"year\": 1980, \"country\": \"Pakistan\", \"cluster\": 0, \"pop\": 85219117, \"life_expect\": 56.158, \"fertility\": 6.6}, {\"year\": 1985, \"country\": \"Pakistan\", \"cluster\": 0, \"pop\": 99060352, \"life_expect\": 58.245, \"fertility\": 6.66}, {\"year\": 1990, \"country\": \"Pakistan\", \"cluster\": 0, \"pop\": 114578478, \"life_expect\": 60.838, \"fertility\": 5.8}, {\"year\": 1995, \"country\": \"Pakistan\", \"cluster\": 0, \"pop\": 128690285, \"life_expect\": 61.818, \"fertility\": 4.9596}, {\"year\": 2000, \"country\": \"Pakistan\", \"cluster\": 0, \"pop\": 146342958, \"life_expect\": 63.61, \"fertility\": 3.9936}, {\"year\": 2005, \"country\": \"Pakistan\", \"cluster\": 0, \"pop\": 162419946, \"life_expect\": 65.483, \"fertility\": 3.5211}, {\"year\": 1955, \"country\": \"Peru\", \"cluster\": 3, \"pop\": 8671500, \"life_expect\": 46.263, \"fertility\": 6.853}, {\"year\": 1960, \"country\": \"Peru\", \"cluster\": 3, \"pop\": 9931000, \"life_expect\": 49.096, \"fertility\": 6.853}, {\"year\": 1965, \"country\": \"Peru\", \"cluster\": 3, \"pop\": 11467300, \"life_expect\": 51.445, \"fertility\": 6.5600000000000005}, {\"year\": 1970, \"country\": \"Peru\", \"cluster\": 3, \"pop\": 13192800, \"life_expect\": 55.448, \"fertility\": 6.0}, {\"year\": 1975, \"country\": \"Peru\", \"cluster\": 3, \"pop\": 15161199, \"life_expect\": 58.447, \"fertility\": 5.378}, {\"year\": 1980, \"country\": \"Peru\", \"cluster\": 3, \"pop\": 17295298, \"life_expect\": 61.406, \"fertility\": 4.65}, {\"year\": 1985, \"country\": \"Peru\", \"cluster\": 3, \"pop\": 19348926, \"life_expect\": 64.134, \"fertility\": 4.1}, {\"year\": 1990, \"country\": \"Peru\", \"cluster\": 3, \"pop\": 21511443, \"life_expect\": 66.458, \"fertility\": 3.7}, {\"year\": 1995, \"country\": \"Peru\", \"cluster\": 3, \"pop\": 23846388, \"life_expect\": 68.386, \"fertility\": 3.0995}, {\"year\": 2000, \"country\": \"Peru\", \"cluster\": 3, \"pop\": 25979722, \"life_expect\": 69.906, \"fertility\": 2.7005}, {\"year\": 2005, \"country\": \"Peru\", \"cluster\": 3, \"pop\": 27925628, \"life_expect\": 71.421, \"fertility\": 2.5065}, {\"year\": 1955, \"country\": \"Philippines\", \"cluster\": 4, \"pop\": 24553055, \"life_expect\": 51.334, \"fertility\": 7.13}, {\"year\": 1960, \"country\": \"Philippines\", \"cluster\": 4, \"pop\": 28528939, \"life_expect\": 54.757, \"fertility\": 6.85}, {\"year\": 1965, \"country\": \"Philippines\", \"cluster\": 4, \"pop\": 33267569, \"life_expect\": 56.393, \"fertility\": 6.5}, {\"year\": 1970, \"country\": \"Philippines\", \"cluster\": 4, \"pop\": 38603696, \"life_expect\": 58.065, \"fertility\": 6.0}, {\"year\": 1975, \"country\": \"Philippines\", \"cluster\": 4, \"pop\": 44336842, \"life_expect\": 60.06, \"fertility\": 5.5}, {\"year\": 1980, \"country\": \"Philippines\", \"cluster\": 4, \"pop\": 50940182, \"life_expect\": 62.082, \"fertility\": 4.95}, {\"year\": 1985, \"country\": \"Philippines\", \"cluster\": 4, \"pop\": 57288037, \"life_expect\": 64.151, \"fertility\": 4.55}, {\"year\": 1990, \"country\": \"Philippines\", \"cluster\": 4, \"pop\": 64318120, \"life_expect\": 66.458, \"fertility\": 4.143}, {\"year\": 1995, \"country\": \"Philippines\", \"cluster\": 4, \"pop\": 71717437, \"life_expect\": 68.564, \"fertility\": 3.7248}, {\"year\": 2000, \"country\": \"Philippines\", \"cluster\": 4, \"pop\": 79739825, \"life_expect\": 70.303, \"fertility\": 3.5436}, {\"year\": 2005, \"country\": \"Philippines\", \"cluster\": 4, \"pop\": 87857473, \"life_expect\": 71.688, \"fertility\": 3.2327}, {\"year\": 1955, \"country\": \"Poland\", \"cluster\": 1, \"pop\": 27220668, \"life_expect\": 65.77, \"fertility\": 3.29}, {\"year\": 1960, \"country\": \"Poland\", \"cluster\": 1, \"pop\": 29589842, \"life_expect\": 67.64, \"fertility\": 2.65}, {\"year\": 1965, \"country\": \"Poland\", \"cluster\": 1, \"pop\": 31262358, \"life_expect\": 69.61, \"fertility\": 2.27}, {\"year\": 1970, \"country\": \"Poland\", \"cluster\": 1, \"pop\": 32526000, \"life_expect\": 70.85, \"fertility\": 2.25}, {\"year\": 1975, \"country\": \"Poland\", \"cluster\": 1, \"pop\": 33969240, \"life_expect\": 70.67, \"fertility\": 2.26}, {\"year\": 1980, \"country\": \"Poland\", \"cluster\": 1, \"pop\": 35578016, \"life_expect\": 71.32, \"fertility\": 2.33}, {\"year\": 1985, \"country\": \"Poland\", \"cluster\": 1, \"pop\": 37225792, \"life_expect\": 70.98, \"fertility\": 2.15}, {\"year\": 1990, \"country\": \"Poland\", \"cluster\": 1, \"pop\": 38119408, \"life_expect\": 70.99, \"fertility\": 1.8900000000000001}, {\"year\": 1995, \"country\": \"Poland\", \"cluster\": 1, \"pop\": 38600642, \"life_expect\": 72.75, \"fertility\": 1.478}, {\"year\": 2000, \"country\": \"Poland\", \"cluster\": 1, \"pop\": 38654164, \"life_expect\": 74.67, \"fertility\": 1.251}, {\"year\": 2005, \"country\": \"Poland\", \"cluster\": 1, \"pop\": 38557984, \"life_expect\": 75.563, \"fertility\": 1.227}, {\"year\": 1955, \"country\": \"Portugal\", \"cluster\": 1, \"pop\": 8692600, \"life_expect\": 61.51, \"fertility\": 3.03}, {\"year\": 1960, \"country\": \"Portugal\", \"cluster\": 1, \"pop\": 9036700, \"life_expect\": 64.39, \"fertility\": 3.074}, {\"year\": 1965, \"country\": \"Portugal\", \"cluster\": 1, \"pop\": 9128850, \"life_expect\": 66.6, \"fertility\": 2.849}, {\"year\": 1970, \"country\": \"Portugal\", \"cluster\": 1, \"pop\": 9044200, \"life_expect\": 69.26, \"fertility\": 2.748}, {\"year\": 1975, \"country\": \"Portugal\", \"cluster\": 1, \"pop\": 9411090, \"life_expect\": 70.41, \"fertility\": 2.41}, {\"year\": 1980, \"country\": \"Portugal\", \"cluster\": 1, \"pop\": 9777800, \"life_expect\": 72.77, \"fertility\": 1.982}, {\"year\": 1985, \"country\": \"Portugal\", \"cluster\": 1, \"pop\": 9897192, \"life_expect\": 74.06, \"fertility\": 1.5939999999999999}, {\"year\": 1990, \"country\": \"Portugal\", \"cluster\": 1, \"pop\": 9922689, \"life_expect\": 74.86, \"fertility\": 1.516}, {\"year\": 1995, \"country\": \"Portugal\", \"cluster\": 1, \"pop\": 10065543, \"life_expect\": 75.97, \"fertility\": 1.475}, {\"year\": 2000, \"country\": \"Portugal\", \"cluster\": 1, \"pop\": 10335597, \"life_expect\": 77.29, \"fertility\": 1.454}, {\"year\": 2005, \"country\": \"Portugal\", \"cluster\": 1, \"pop\": 10566212, \"life_expect\": 78.098, \"fertility\": 1.455}, {\"year\": 1955, \"country\": \"Rwanda\", \"cluster\": 2, \"pop\": 2698272, \"life_expect\": 41.5, \"fertility\": 8.0}, {\"year\": 1960, \"country\": \"Rwanda\", \"cluster\": 2, \"pop\": 3031804, \"life_expect\": 43.0, \"fertility\": 8.1}, {\"year\": 1965, \"country\": \"Rwanda\", \"cluster\": 2, \"pop\": 3264640, \"life_expect\": 44.1, \"fertility\": 8.2}, {\"year\": 1970, \"country\": \"Rwanda\", \"cluster\": 2, \"pop\": 3769171, \"life_expect\": 44.6, \"fertility\": 8.29}, {\"year\": 1975, \"country\": \"Rwanda\", \"cluster\": 2, \"pop\": 4356863, \"life_expect\": 45.0, \"fertility\": 8.492}, {\"year\": 1980, \"country\": \"Rwanda\", \"cluster\": 2, \"pop\": 5138689, \"life_expect\": 46.218, \"fertility\": 8.5}, {\"year\": 1985, \"country\": \"Rwanda\", \"cluster\": 2, \"pop\": 6009833, \"life_expect\": 44.02, \"fertility\": 8.25}, {\"year\": 1990, \"country\": \"Rwanda\", \"cluster\": 2, \"pop\": 6923738, \"life_expect\": 23.599, \"fertility\": 6.9}, {\"year\": 1995, \"country\": \"Rwanda\", \"cluster\": 2, \"pop\": 5706501, \"life_expect\": 36.087, \"fertility\": 6.0993}, {\"year\": 2000, \"country\": \"Rwanda\", \"cluster\": 2, \"pop\": 7507056, \"life_expect\": 43.413, \"fertility\": 6.01}, {\"year\": 2005, \"country\": \"Rwanda\", \"cluster\": 2, \"pop\": 8440820, \"life_expect\": 46.242, \"fertility\": 5.9169}, {\"year\": 1955, \"country\": \"Saudi Arabia\", \"cluster\": 5, \"pop\": 4243218, \"life_expect\": 42.868, \"fertility\": 7.175}, {\"year\": 1960, \"country\": \"Saudi Arabia\", \"cluster\": 5, \"pop\": 4718301, \"life_expect\": 45.914, \"fertility\": 7.257}, {\"year\": 1965, \"country\": \"Saudi Arabia\", \"cluster\": 5, \"pop\": 5327432, \"life_expect\": 49.901, \"fertility\": 7.257}, {\"year\": 1970, \"country\": \"Saudi Arabia\", \"cluster\": 5, \"pop\": 6109051, \"life_expect\": 53.886, \"fertility\": 7.298}, {\"year\": 1975, \"country\": \"Saudi Arabia\", \"cluster\": 5, \"pop\": 7204820, \"life_expect\": 58.69, \"fertility\": 7.2780000000000005}, {\"year\": 1980, \"country\": \"Saudi Arabia\", \"cluster\": 5, \"pop\": 9999161, \"life_expect\": 63.012, \"fertility\": 7.015}, {\"year\": 1985, \"country\": \"Saudi Arabia\", \"cluster\": 5, \"pop\": 13330067, \"life_expect\": 66.295, \"fertility\": 6.217}, {\"year\": 1990, \"country\": \"Saudi Arabia\", \"cluster\": 5, \"pop\": 16060761, \"life_expect\": 68.768, \"fertility\": 5.446}, {\"year\": 1995, \"country\": \"Saudi Arabia\", \"cluster\": 5, \"pop\": 19966998, \"life_expect\": 70.533, \"fertility\": 4.621}, {\"year\": 2000, \"country\": \"Saudi Arabia\", \"cluster\": 5, \"pop\": 23153090, \"life_expect\": 71.626, \"fertility\": 3.81}, {\"year\": 2005, \"country\": \"Saudi Arabia\", \"cluster\": 5, \"pop\": 26417599, \"life_expect\": 72.777, \"fertility\": 3.352}, {\"year\": 1955, \"country\": \"South Africa\", \"cluster\": 2, \"pop\": 15368551, \"life_expect\": 47.985, \"fertility\": 6.5}, {\"year\": 1960, \"country\": \"South Africa\", \"cluster\": 2, \"pop\": 17416653, \"life_expect\": 49.951, \"fertility\": 6.3}, {\"year\": 1965, \"country\": \"South Africa\", \"cluster\": 2, \"pop\": 19898242, \"life_expect\": 51.927, \"fertility\": 5.7}, {\"year\": 1970, \"country\": \"South Africa\", \"cluster\": 2, \"pop\": 22739921, \"life_expect\": 53.696, \"fertility\": 5.47}, {\"year\": 1975, \"country\": \"South Africa\", \"cluster\": 2, \"pop\": 25815144, \"life_expect\": 55.527, \"fertility\": 5.0}, {\"year\": 1980, \"country\": \"South Africa\", \"cluster\": 2, \"pop\": 29251588, \"life_expect\": 58.161, \"fertility\": 4.556}, {\"year\": 1985, \"country\": \"South Africa\", \"cluster\": 2, \"pop\": 34254092, \"life_expect\": 60.834, \"fertility\": 3.85}, {\"year\": 1990, \"country\": \"South Africa\", \"cluster\": 2, \"pop\": 38391094, \"life_expect\": 61.888, \"fertility\": 3.343}, {\"year\": 1995, \"country\": \"South Africa\", \"cluster\": 2, \"pop\": 41779149, \"life_expect\": 60.236, \"fertility\": 2.954}, {\"year\": 2000, \"country\": \"South Africa\", \"cluster\": 2, \"pop\": 44066197, \"life_expect\": 53.365, \"fertility\": 2.802}, {\"year\": 2005, \"country\": \"South Africa\", \"cluster\": 2, \"pop\": 44344136, \"life_expect\": 49.339, \"fertility\": 2.637}, {\"year\": 1955, \"country\": \"Spain\", \"cluster\": 1, \"pop\": 29318745, \"life_expect\": 66.66, \"fertility\": 2.75}, {\"year\": 1960, \"country\": \"Spain\", \"cluster\": 1, \"pop\": 30641187, \"life_expect\": 69.69, \"fertility\": 2.89}, {\"year\": 1965, \"country\": \"Spain\", \"cluster\": 1, \"pop\": 32084511, \"life_expect\": 71.44, \"fertility\": 2.92}, {\"year\": 1970, \"country\": \"Spain\", \"cluster\": 1, \"pop\": 33876479, \"life_expect\": 73.06, \"fertility\": 2.86}, {\"year\": 1975, \"country\": \"Spain\", \"cluster\": 1, \"pop\": 35563535, \"life_expect\": 74.39, \"fertility\": 2.5700000000000003}, {\"year\": 1980, \"country\": \"Spain\", \"cluster\": 1, \"pop\": 37488360, \"life_expect\": 76.3, \"fertility\": 1.8900000000000001}, {\"year\": 1985, \"country\": \"Spain\", \"cluster\": 1, \"pop\": 38534853, \"life_expect\": 76.9, \"fertility\": 1.48}, {\"year\": 1990, \"country\": \"Spain\", \"cluster\": 1, \"pop\": 39350769, \"life_expect\": 77.57, \"fertility\": 1.27}, {\"year\": 1995, \"country\": \"Spain\", \"cluster\": 1, \"pop\": 39749715, \"life_expect\": 78.77, \"fertility\": 1.182}, {\"year\": 2000, \"country\": \"Spain\", \"cluster\": 1, \"pop\": 40016081, \"life_expect\": 79.78, \"fertility\": 1.287}, {\"year\": 2005, \"country\": \"Spain\", \"cluster\": 1, \"pop\": 40341462, \"life_expect\": 80.941, \"fertility\": 1.409}, {\"year\": 1955, \"country\": \"Switzerland\", \"cluster\": 1, \"pop\": 4980000, \"life_expect\": 70.56, \"fertility\": 2.34}, {\"year\": 1960, \"country\": \"Switzerland\", \"cluster\": 1, \"pop\": 5362000, \"life_expect\": 71.32, \"fertility\": 2.51}, {\"year\": 1965, \"country\": \"Switzerland\", \"cluster\": 1, \"pop\": 5943000, \"life_expect\": 72.77, \"fertility\": 2.27}, {\"year\": 1970, \"country\": \"Switzerland\", \"cluster\": 1, \"pop\": 6267000, \"life_expect\": 73.78, \"fertility\": 1.82}, {\"year\": 1975, \"country\": \"Switzerland\", \"cluster\": 1, \"pop\": 6403500, \"life_expect\": 75.39, \"fertility\": 1.53}, {\"year\": 1980, \"country\": \"Switzerland\", \"cluster\": 1, \"pop\": 6385229, \"life_expect\": 76.21, \"fertility\": 1.53}, {\"year\": 1985, \"country\": \"Switzerland\", \"cluster\": 1, \"pop\": 6563770, \"life_expect\": 77.41, \"fertility\": 1.53}, {\"year\": 1990, \"country\": \"Switzerland\", \"cluster\": 1, \"pop\": 6836626, \"life_expect\": 78.03, \"fertility\": 1.54}, {\"year\": 1995, \"country\": \"Switzerland\", \"cluster\": 1, \"pop\": 7157106, \"life_expect\": 79.37, \"fertility\": 1.47}, {\"year\": 2000, \"country\": \"Switzerland\", \"cluster\": 1, \"pop\": 7266920, \"life_expect\": 80.62, \"fertility\": 1.415}, {\"year\": 2005, \"country\": \"Switzerland\", \"cluster\": 1, \"pop\": 7489370, \"life_expect\": 81.701, \"fertility\": 1.42}, {\"year\": 1955, \"country\": \"Turkey\", \"cluster\": 1, \"pop\": 24144571, \"life_expect\": 48.079, \"fertility\": 6.6}, {\"year\": 1960, \"country\": \"Turkey\", \"cluster\": 1, \"pop\": 28217122, \"life_expect\": 52.098, \"fertility\": 6.19}, {\"year\": 1965, \"country\": \"Turkey\", \"cluster\": 1, \"pop\": 31950718, \"life_expect\": 54.336, \"fertility\": 5.7}, {\"year\": 1970, \"country\": \"Turkey\", \"cluster\": 1, \"pop\": 35758382, \"life_expect\": 57.005, \"fertility\": 5.3}, {\"year\": 1975, \"country\": \"Turkey\", \"cluster\": 1, \"pop\": 40529798, \"life_expect\": 59.507, \"fertility\": 4.715}, {\"year\": 1980, \"country\": \"Turkey\", \"cluster\": 1, \"pop\": 45120802, \"life_expect\": 61.036, \"fertility\": 4.15}, {\"year\": 1985, \"country\": \"Turkey\", \"cluster\": 1, \"pop\": 50669003, \"life_expect\": 63.108, \"fertility\": 3.276}, {\"year\": 1990, \"country\": \"Turkey\", \"cluster\": 1, \"pop\": 56084632, \"life_expect\": 66.146, \"fertility\": 2.904}, {\"year\": 1995, \"country\": \"Turkey\", \"cluster\": 1, \"pop\": 61188984, \"life_expect\": 68.835, \"fertility\": 2.574}, {\"year\": 2000, \"country\": \"Turkey\", \"cluster\": 1, \"pop\": 65666677, \"life_expect\": 70.845, \"fertility\": 2.23}, {\"year\": 2005, \"country\": \"Turkey\", \"cluster\": 1, \"pop\": 69660559, \"life_expect\": 71.777, \"fertility\": 2.143}, {\"year\": 1955, \"country\": \"United Kingdom\", \"cluster\": 1, \"pop\": 50946000, \"life_expect\": 70.42, \"fertility\": 2.49}, {\"year\": 1960, \"country\": \"United Kingdom\", \"cluster\": 1, \"pop\": 52372000, \"life_expect\": 70.76, \"fertility\": 2.81}, {\"year\": 1965, \"country\": \"United Kingdom\", \"cluster\": 1, \"pop\": 54350000, \"life_expect\": 71.36, \"fertility\": 2.52}, {\"year\": 1970, \"country\": \"United Kingdom\", \"cluster\": 1, \"pop\": 55632000, \"life_expect\": 72.01, \"fertility\": 2.04}, {\"year\": 1975, \"country\": \"United Kingdom\", \"cluster\": 1, \"pop\": 56215000, \"life_expect\": 72.76, \"fertility\": 1.72}, {\"year\": 1980, \"country\": \"United Kingdom\", \"cluster\": 1, \"pop\": 56314000, \"life_expect\": 74.04, \"fertility\": 1.8}, {\"year\": 1985, \"country\": \"United Kingdom\", \"cluster\": 1, \"pop\": 56620240, \"life_expect\": 75.007, \"fertility\": 1.81}, {\"year\": 1990, \"country\": \"United Kingdom\", \"cluster\": 1, \"pop\": 57493307, \"life_expect\": 76.42, \"fertility\": 1.78}, {\"year\": 1995, \"country\": \"United Kingdom\", \"cluster\": 1, \"pop\": 58426014, \"life_expect\": 77.218, \"fertility\": 1.7000000000000002}, {\"year\": 2000, \"country\": \"United Kingdom\", \"cluster\": 1, \"pop\": 59522468, \"life_expect\": 78.471, \"fertility\": 1.695}, {\"year\": 2005, \"country\": \"United Kingdom\", \"cluster\": 1, \"pop\": 60441457, \"life_expect\": 79.425, \"fertility\": 1.815}, {\"year\": 1955, \"country\": \"United States\", \"cluster\": 3, \"pop\": 165931000, \"life_expect\": 69.49, \"fertility\": 3.706}, {\"year\": 1960, \"country\": \"United States\", \"cluster\": 3, \"pop\": 180671000, \"life_expect\": 70.21, \"fertility\": 3.314}, {\"year\": 1965, \"country\": \"United States\", \"cluster\": 3, \"pop\": 194303000, \"life_expect\": 70.76, \"fertility\": 2.545}, {\"year\": 1970, \"country\": \"United States\", \"cluster\": 3, \"pop\": 205052000, \"life_expect\": 71.34, \"fertility\": 2.016}, {\"year\": 1975, \"country\": \"United States\", \"cluster\": 3, \"pop\": 215973000, \"life_expect\": 73.38, \"fertility\": 1.788}, {\"year\": 1980, \"country\": \"United States\", \"cluster\": 3, \"pop\": 227726463, \"life_expect\": 74.65, \"fertility\": 1.8250000000000002}, {\"year\": 1985, \"country\": \"United States\", \"cluster\": 3, \"pop\": 238466283, \"life_expect\": 75.02, \"fertility\": 1.924}, {\"year\": 1990, \"country\": \"United States\", \"cluster\": 3, \"pop\": 250131894, \"life_expect\": 76.09, \"fertility\": 2.025}, {\"year\": 1995, \"country\": \"United States\", \"cluster\": 3, \"pop\": 266557091, \"life_expect\": 76.81, \"fertility\": 1.994}, {\"year\": 2000, \"country\": \"United States\", \"cluster\": 3, \"pop\": 282338631, \"life_expect\": 77.31, \"fertility\": 2.038}, {\"year\": 2005, \"country\": \"United States\", \"cluster\": 3, \"pop\": 295734134, \"life_expect\": 78.242, \"fertility\": 2.054}, {\"year\": 1955, \"country\": \"Venezuela\", \"cluster\": 3, \"pop\": 6170497, \"life_expect\": 57.907, \"fertility\": 6.4585}, {\"year\": 1960, \"country\": \"Venezuela\", \"cluster\": 3, \"pop\": 7556483, \"life_expect\": 60.77, \"fertility\": 6.657}, {\"year\": 1965, \"country\": \"Venezuela\", \"cluster\": 3, \"pop\": 9067735, \"life_expect\": 63.479, \"fertility\": 5.9045000000000005}, {\"year\": 1970, \"country\": \"Venezuela\", \"cluster\": 3, \"pop\": 10758017, \"life_expect\": 65.712, \"fertility\": 4.941}, {\"year\": 1975, \"country\": \"Venezuela\", \"cluster\": 3, \"pop\": 12674987, \"life_expect\": 67.456, \"fertility\": 4.4685}, {\"year\": 1980, \"country\": \"Venezuela\", \"cluster\": 3, \"pop\": 14767890, \"life_expect\": 68.557, \"fertility\": 3.957}, {\"year\": 1985, \"country\": \"Venezuela\", \"cluster\": 3, \"pop\": 16997509, \"life_expect\": 70.19, \"fertility\": 3.6485000000000003}, {\"year\": 1990, \"country\": \"Venezuela\", \"cluster\": 3, \"pop\": 19325222, \"life_expect\": 71.15, \"fertility\": 3.25}, {\"year\": 1995, \"country\": \"Venezuela\", \"cluster\": 3, \"pop\": 21555902, \"life_expect\": 72.146, \"fertility\": 2.9415}, {\"year\": 2000, \"country\": \"Venezuela\", \"cluster\": 3, \"pop\": 23542649, \"life_expect\": 72.766, \"fertility\": 2.723}, {\"year\": 2005, \"country\": \"Venezuela\", \"cluster\": 3, \"pop\": 25375281, \"life_expect\": 73.747, \"fertility\": 2.547}]}}, {\"mode\": \"vega-lite\"});\n",
       "</script>"
      ],
      "text/plain": [
       "alt.Chart(...)"
      ]
     },
     "execution_count": 22,
     "metadata": {},
     "output_type": "execute_result"
    }
   ],
   "source": [
    "select_year = alt.selection_single(\n",
    "    name='select', fields=['year'], init={'year': 1955},\n",
    "    bind=alt.binding_range(min=1955, max=2005, step=5)\n",
    ")\n",
    "\n",
    "alt.Chart(data).mark_point(filled=True).encode(\n",
    "    alt.X('fertility:Q', scale=alt.Scale(domain=[0,9])),\n",
    "    alt.Y('life_expect:Q', scale=alt.Scale(domain=[0,90])),\n",
    "    alt.Size('pop:Q', scale=alt.Scale(domain=[0, 1200000000], range=[0,1000])),\n",
    "    alt.Color('cluster:N', legend=None),\n",
    "    alt.OpacityValue(0.5),\n",
    "    alt.Tooltip('country:N'),\n",
    "    alt.Order('pop:Q', sort='descending')\n",
    ").add_selection(select_year).transform_filter(select_year)"
   ]
  },
  {
   "cell_type": "markdown",
   "metadata": {
    "colab_type": "text",
    "id": "UPdDrmm9YK5E"
   },
   "source": [
    "## Graphical Marks\n",
    "\n",
    "Our exploration of encoding channels above exclusively uses `point` marks to visualize the data. However, the `point` mark type is only one of the many geometric shapes that can be used to visually represent data. Altair includes a number of built-in mark types, including:\n",
    "\n",
    "- `mark_area()` - Filled areas defined by a top-line and a baseline.\n",
    "- `mark_bar()` -\tRectangular bars.\n",
    "- `mark_circle()`\t- Scatter plot points as filled circles.\n",
    "- `mark_line()` - Connected line segments.\n",
    "- `mark_point()` - Scatter plot points with configurable shapes.\n",
    "- `mark_rect()` - Filled rectangles, useful for heatmaps.\n",
    "- `mark_rule()` - Vertical or horizontal lines spanning the axis.\n",
    "- `mark_square()` - Scatter plot points as filled squares.\n",
    "- `mark_text()` - Scatter plot points represented by text.\n",
    "- `mark_tick()` - Vertical or horizontal tick marks.\t\n",
    "\n",
    "For a complete list, and links to examples, see the [Altair marks documentation](https://altair-viz.github.io/user_guide/marks.html). Next, we will step through a number of the most commonly used mark types for statistical graphics."
   ]
  },
  {
   "cell_type": "markdown",
   "metadata": {
    "colab_type": "text",
    "id": "jVp7cC-BbYF5"
   },
   "source": [
    "### Point Marks\n",
    "\n",
    "The `point` mark type conveys specific points, as in *scatter plots* and *dot plots*. In addition to `x` and `y` encoding channels (to specify 2D point positions), point marks can use `color`, `size`, and `shape` encodings to convey additional data fields.\n",
    "\n",
    "Below is a dot plot of `fertility`, with the `cluster` field redundantly encoded using both the `y` and `shape` channels. \n",
    "\n"
   ]
  },
  {
   "cell_type": "code",
   "execution_count": 24,
   "metadata": {
    "colab": {
     "base_uri": "https://localhost:8080/",
     "height": 192
    },
    "colab_type": "code",
    "id": "3jrFfaKCtbyL",
    "outputId": "6332a348-f8f0-4dd8-9c4a-63687e286d4a"
   },
   "outputs": [
    {
     "data": {
      "text/html": [
       "\n",
       "<div id=\"altair-viz-e742f7c3c5fe4d1e8d127d8eb16135c0\"></div>\n",
       "<script type=\"text/javascript\">\n",
       "  (function(spec, embedOpt){\n",
       "    let outputDiv = document.currentScript.previousElementSibling;\n",
       "    if (outputDiv.id !== \"altair-viz-e742f7c3c5fe4d1e8d127d8eb16135c0\") {\n",
       "      outputDiv = document.getElementById(\"altair-viz-e742f7c3c5fe4d1e8d127d8eb16135c0\");\n",
       "    }\n",
       "    const paths = {\n",
       "      \"vega\": \"https://cdn.jsdelivr.net/npm//vega@5?noext\",\n",
       "      \"vega-lib\": \"https://cdn.jsdelivr.net/npm//vega-lib?noext\",\n",
       "      \"vega-lite\": \"https://cdn.jsdelivr.net/npm//vega-lite@4.8.1?noext\",\n",
       "      \"vega-embed\": \"https://cdn.jsdelivr.net/npm//vega-embed@6?noext\",\n",
       "    };\n",
       "\n",
       "    function loadScript(lib) {\n",
       "      return new Promise(function(resolve, reject) {\n",
       "        var s = document.createElement('script');\n",
       "        s.src = paths[lib];\n",
       "        s.async = true;\n",
       "        s.onload = () => resolve(paths[lib]);\n",
       "        s.onerror = () => reject(`Error loading script: ${paths[lib]}`);\n",
       "        document.getElementsByTagName(\"head\")[0].appendChild(s);\n",
       "      });\n",
       "    }\n",
       "\n",
       "    function showError(err) {\n",
       "      outputDiv.innerHTML = `<div class=\"error\" style=\"color:red;\">${err}</div>`;\n",
       "      throw err;\n",
       "    }\n",
       "\n",
       "    function displayChart(vegaEmbed) {\n",
       "      vegaEmbed(outputDiv, spec, embedOpt)\n",
       "        .catch(err => showError(`Javascript Error: ${err.message}<br>This usually means there's a typo in your chart specification. See the javascript console for the full traceback.`));\n",
       "    }\n",
       "\n",
       "    if(typeof define === \"function\" && define.amd) {\n",
       "      requirejs.config({paths});\n",
       "      require([\"vega-embed\"], displayChart, err => showError(`Error loading script: ${err.message}`));\n",
       "    } else if (typeof vegaEmbed === \"function\") {\n",
       "      displayChart(vegaEmbed);\n",
       "    } else {\n",
       "      loadScript(\"vega\")\n",
       "        .then(() => loadScript(\"vega-lite\"))\n",
       "        .then(() => loadScript(\"vega-embed\"))\n",
       "        .catch(showError)\n",
       "        .then(() => displayChart(vegaEmbed));\n",
       "    }\n",
       "  })({\"config\": {\"view\": {\"continuousWidth\": 400, \"continuousHeight\": 300}}, \"data\": {\"name\": \"data-fdeb0b749a6385830bd1445d39ad6ea0\"}, \"mark\": \"point\", \"encoding\": {\"shape\": {\"type\": \"nominal\", \"field\": \"cluster\"}, \"x\": {\"type\": \"quantitative\", \"field\": \"fertility\"}, \"y\": {\"type\": \"nominal\", \"field\": \"cluster\"}}, \"$schema\": \"https://vega.github.io/schema/vega-lite/v4.8.1.json\", \"datasets\": {\"data-fdeb0b749a6385830bd1445d39ad6ea0\": [{\"year\": 2000, \"country\": \"Afghanistan\", \"cluster\": 0, \"pop\": 23898198, \"life_expect\": 42.129, \"fertility\": 7.4792}, {\"year\": 2000, \"country\": \"Argentina\", \"cluster\": 3, \"pop\": 37497728, \"life_expect\": 74.34, \"fertility\": 2.35}, {\"year\": 2000, \"country\": \"Aruba\", \"cluster\": 3, \"pop\": 69539, \"life_expect\": 73.451, \"fertility\": 2.124}, {\"year\": 2000, \"country\": \"Australia\", \"cluster\": 4, \"pop\": 19164620, \"life_expect\": 80.37, \"fertility\": 1.756}, {\"year\": 2000, \"country\": \"Austria\", \"cluster\": 1, \"pop\": 8113413, \"life_expect\": 78.98, \"fertility\": 1.3820000000000001}, {\"year\": 2000, \"country\": \"Bahamas\", \"cluster\": 3, \"pop\": 290075, \"life_expect\": 71.068, \"fertility\": 2.1111}, {\"year\": 2000, \"country\": \"Bangladesh\", \"cluster\": 0, \"pop\": 130406594, \"life_expect\": 62.013, \"fertility\": 3.224}, {\"year\": 2000, \"country\": \"Barbados\", \"cluster\": 3, \"pop\": 273483, \"life_expect\": 75.97, \"fertility\": 1.5}, {\"year\": 2000, \"country\": \"Belgium\", \"cluster\": 1, \"pop\": 10263618, \"life_expect\": 78.32, \"fertility\": 1.638}, {\"year\": 2000, \"country\": \"Bolivia\", \"cluster\": 3, \"pop\": 8152620, \"life_expect\": 63.883, \"fertility\": 3.9585}, {\"year\": 2000, \"country\": \"Brazil\", \"cluster\": 3, \"pop\": 175552771, \"life_expect\": 71.006, \"fertility\": 2.345}, {\"year\": 2000, \"country\": \"Canada\", \"cluster\": 3, \"pop\": 31278097, \"life_expect\": 79.77, \"fertility\": 1.522}, {\"year\": 2000, \"country\": \"Chile\", \"cluster\": 3, \"pop\": 15153450, \"life_expect\": 77.86, \"fertility\": 2.0}, {\"year\": 2000, \"country\": \"China\", \"cluster\": 4, \"pop\": 1262645000, \"life_expect\": 72.028, \"fertility\": 1.7000000000000002}, {\"year\": 2000, \"country\": \"Colombia\", \"cluster\": 3, \"pop\": 39685655, \"life_expect\": 71.682, \"fertility\": 2.4705}, {\"year\": 2000, \"country\": \"Costa Rica\", \"cluster\": 3, \"pop\": 3710558, \"life_expect\": 78.123, \"fertility\": 2.2815}, {\"year\": 2000, \"country\": \"Croatia\", \"cluster\": 1, \"pop\": 4410830, \"life_expect\": 74.876, \"fertility\": 1.348}, {\"year\": 2000, \"country\": \"Cuba\", \"cluster\": 3, \"pop\": 11134273, \"life_expect\": 77.158, \"fertility\": 1.63}, {\"year\": 2000, \"country\": \"Dominican Republic\", \"cluster\": 3, \"pop\": 8385828, \"life_expect\": 70.847, \"fertility\": 2.95}, {\"year\": 2000, \"country\": \"Ecuador\", \"cluster\": 3, \"pop\": 12505204, \"life_expect\": 74.173, \"fertility\": 2.8175}, {\"year\": 2000, \"country\": \"Egypt\", \"cluster\": 5, \"pop\": 70492342, \"life_expect\": 69.806, \"fertility\": 3.174}, {\"year\": 2000, \"country\": \"El Salvador\", \"cluster\": 3, \"pop\": 6122515, \"life_expect\": 70.734, \"fertility\": 2.883}, {\"year\": 2000, \"country\": \"Finland\", \"cluster\": 1, \"pop\": 5168595, \"life_expect\": 78.37, \"fertility\": 1.754}, {\"year\": 2000, \"country\": \"France\", \"cluster\": 1, \"pop\": 59381628, \"life_expect\": 79.59, \"fertility\": 1.8833000000000002}, {\"year\": 2000, \"country\": \"Georgia\", \"cluster\": 1, \"pop\": 4777209, \"life_expect\": 70.476, \"fertility\": 1.478}, {\"year\": 2000, \"country\": \"Germany\", \"cluster\": 1, \"pop\": 82187909, \"life_expect\": 78.67, \"fertility\": 1.346}, {\"year\": 2000, \"country\": \"Greece\", \"cluster\": 1, \"pop\": 10559110, \"life_expect\": 78.256, \"fertility\": 1.2770000000000001}, {\"year\": 2000, \"country\": \"Grenada\", \"cluster\": 3, \"pop\": 89312, \"life_expect\": 67.746, \"fertility\": 2.429}, {\"year\": 2000, \"country\": \"Haiti\", \"cluster\": 3, \"pop\": 7306302, \"life_expect\": 58.137, \"fertility\": 4.0}, {\"year\": 2000, \"country\": \"Hong Kong\", \"cluster\": 4, \"pop\": 6658720, \"life_expect\": 81.495, \"fertility\": 0.9400000000000001}, {\"year\": 2000, \"country\": \"Iceland\", \"cluster\": 1, \"pop\": 281043, \"life_expect\": 80.5, \"fertility\": 1.9929999999999999}, {\"year\": 2000, \"country\": \"India\", \"cluster\": 0, \"pop\": 1007702000, \"life_expect\": 62.879, \"fertility\": 3.1132}, {\"year\": 2000, \"country\": \"Indonesia\", \"cluster\": 4, \"pop\": 206265000, \"life_expect\": 68.588, \"fertility\": 2.3761}, {\"year\": 2000, \"country\": \"Iran\", \"cluster\": 5, \"pop\": 65660289, \"life_expect\": 69.451, \"fertility\": 2.124}, {\"year\": 2000, \"country\": \"Iraq\", \"cluster\": 5, \"pop\": 22675617, \"life_expect\": 57.046, \"fertility\": 4.858}, {\"year\": 2000, \"country\": \"Ireland\", \"cluster\": 1, \"pop\": 3791690, \"life_expect\": 77.783, \"fertility\": 1.9689999999999999}, {\"year\": 2000, \"country\": \"Israel\", \"cluster\": 5, \"pop\": 5842454, \"life_expect\": 79.696, \"fertility\": 2.906}, {\"year\": 2000, \"country\": \"Italy\", \"cluster\": 1, \"pop\": 57719337, \"life_expect\": 80.24, \"fertility\": 1.286}, {\"year\": 2000, \"country\": \"Jamaica\", \"cluster\": 3, \"pop\": 2615467, \"life_expect\": 72.047, \"fertility\": 2.628}, {\"year\": 2000, \"country\": \"Japan\", \"cluster\": 4, \"pop\": 126699784, \"life_expect\": 82.0, \"fertility\": 1.291}, {\"year\": 2000, \"country\": \"Kenya\", \"cluster\": 2, \"pop\": 29985839, \"life_expect\": 50.992, \"fertility\": 5.0}, {\"year\": 2000, \"country\": \"South Korea\", \"cluster\": 4, \"pop\": 21647682, \"life_expect\": 66.662, \"fertility\": 1.9173}, {\"year\": 2000, \"country\": \"North Korea\", \"cluster\": 4, \"pop\": 47351083, \"life_expect\": 77.045, \"fertility\": 1.242}, {\"year\": 2000, \"country\": \"Lebanon\", \"cluster\": 5, \"pop\": 3578036, \"life_expect\": 71.028, \"fertility\": 2.319}, {\"year\": 2000, \"country\": \"Mexico\", \"cluster\": 3, \"pop\": 99926620, \"life_expect\": 74.902, \"fertility\": 2.4005}, {\"year\": 2000, \"country\": \"Netherlands\", \"cluster\": 1, \"pop\": 15907853, \"life_expect\": 78.53, \"fertility\": 1.726}, {\"year\": 2000, \"country\": \"New Zealand\", \"cluster\": 4, \"pop\": 3819762, \"life_expect\": 79.11, \"fertility\": 1.964}, {\"year\": 2000, \"country\": \"Nigeria\", \"cluster\": 2, \"pop\": 114306700, \"life_expect\": 46.608, \"fertility\": 5.845}, {\"year\": 2000, \"country\": \"Norway\", \"cluster\": 1, \"pop\": 4492400, \"life_expect\": 79.05, \"fertility\": 1.8010000000000002}, {\"year\": 2000, \"country\": \"Pakistan\", \"cluster\": 0, \"pop\": 146342958, \"life_expect\": 63.61, \"fertility\": 3.9936}, {\"year\": 2000, \"country\": \"Peru\", \"cluster\": 3, \"pop\": 25979722, \"life_expect\": 69.906, \"fertility\": 2.7005}, {\"year\": 2000, \"country\": \"Philippines\", \"cluster\": 4, \"pop\": 79739825, \"life_expect\": 70.303, \"fertility\": 3.5436}, {\"year\": 2000, \"country\": \"Poland\", \"cluster\": 1, \"pop\": 38654164, \"life_expect\": 74.67, \"fertility\": 1.251}, {\"year\": 2000, \"country\": \"Portugal\", \"cluster\": 1, \"pop\": 10335597, \"life_expect\": 77.29, \"fertility\": 1.454}, {\"year\": 2000, \"country\": \"Rwanda\", \"cluster\": 2, \"pop\": 7507056, \"life_expect\": 43.413, \"fertility\": 6.01}, {\"year\": 2000, \"country\": \"Saudi Arabia\", \"cluster\": 5, \"pop\": 23153090, \"life_expect\": 71.626, \"fertility\": 3.81}, {\"year\": 2000, \"country\": \"South Africa\", \"cluster\": 2, \"pop\": 44066197, \"life_expect\": 53.365, \"fertility\": 2.802}, {\"year\": 2000, \"country\": \"Spain\", \"cluster\": 1, \"pop\": 40016081, \"life_expect\": 79.78, \"fertility\": 1.287}, {\"year\": 2000, \"country\": \"Switzerland\", \"cluster\": 1, \"pop\": 7266920, \"life_expect\": 80.62, \"fertility\": 1.415}, {\"year\": 2000, \"country\": \"Turkey\", \"cluster\": 1, \"pop\": 65666677, \"life_expect\": 70.845, \"fertility\": 2.23}, {\"year\": 2000, \"country\": \"United Kingdom\", \"cluster\": 1, \"pop\": 59522468, \"life_expect\": 78.471, \"fertility\": 1.695}, {\"year\": 2000, \"country\": \"United States\", \"cluster\": 3, \"pop\": 282338631, \"life_expect\": 77.31, \"fertility\": 2.038}, {\"year\": 2000, \"country\": \"Venezuela\", \"cluster\": 3, \"pop\": 23542649, \"life_expect\": 72.766, \"fertility\": 2.723}]}}, {\"mode\": \"vega-lite\"});\n",
       "</script>"
      ],
      "text/plain": [
       "alt.Chart(...)"
      ]
     },
     "execution_count": 23,
     "metadata": {},
     "output_type": "execute_result"
    }
   ],
   "source": [
    "alt.Chart(data2000).mark_point().encode(\n",
    "    alt.X('fertility:Q'),\n",
    "    alt.Y('cluster:N'),\n",
    "    alt.Shape('cluster:N')\n",
    ")"
   ]
  },
  {
   "cell_type": "markdown",
   "metadata": {
    "colab_type": "text",
    "id": "bONM4Ccrt4Sw"
   },
   "source": [
    "In addition to encoding channels, marks can be stylized by providing values to the `mark_*()` methods.\n",
    "\n",
    "For example: point marks are drawn with stroked outlines by default, but can be specified to use `filled` shapes instead. Similarly, you can set a default `size` to set the total pixel area of the point mark.\n"
   ]
  },
  {
   "cell_type": "code",
   "execution_count": 25,
   "metadata": {
    "colab": {
     "base_uri": "https://localhost:8080/",
     "height": 192
    },
    "colab_type": "code",
    "id": "3-HgJ1PjvKdH",
    "outputId": "dcf26fa9-281b-4297-da50-84c7f5ccd318"
   },
   "outputs": [
    {
     "data": {
      "text/html": [
       "\n",
       "<div id=\"altair-viz-e45d3f06c7f14b2e92de32c84487d425\"></div>\n",
       "<script type=\"text/javascript\">\n",
       "  (function(spec, embedOpt){\n",
       "    let outputDiv = document.currentScript.previousElementSibling;\n",
       "    if (outputDiv.id !== \"altair-viz-e45d3f06c7f14b2e92de32c84487d425\") {\n",
       "      outputDiv = document.getElementById(\"altair-viz-e45d3f06c7f14b2e92de32c84487d425\");\n",
       "    }\n",
       "    const paths = {\n",
       "      \"vega\": \"https://cdn.jsdelivr.net/npm//vega@5?noext\",\n",
       "      \"vega-lib\": \"https://cdn.jsdelivr.net/npm//vega-lib?noext\",\n",
       "      \"vega-lite\": \"https://cdn.jsdelivr.net/npm//vega-lite@4.8.1?noext\",\n",
       "      \"vega-embed\": \"https://cdn.jsdelivr.net/npm//vega-embed@6?noext\",\n",
       "    };\n",
       "\n",
       "    function loadScript(lib) {\n",
       "      return new Promise(function(resolve, reject) {\n",
       "        var s = document.createElement('script');\n",
       "        s.src = paths[lib];\n",
       "        s.async = true;\n",
       "        s.onload = () => resolve(paths[lib]);\n",
       "        s.onerror = () => reject(`Error loading script: ${paths[lib]}`);\n",
       "        document.getElementsByTagName(\"head\")[0].appendChild(s);\n",
       "      });\n",
       "    }\n",
       "\n",
       "    function showError(err) {\n",
       "      outputDiv.innerHTML = `<div class=\"error\" style=\"color:red;\">${err}</div>`;\n",
       "      throw err;\n",
       "    }\n",
       "\n",
       "    function displayChart(vegaEmbed) {\n",
       "      vegaEmbed(outputDiv, spec, embedOpt)\n",
       "        .catch(err => showError(`Javascript Error: ${err.message}<br>This usually means there's a typo in your chart specification. See the javascript console for the full traceback.`));\n",
       "    }\n",
       "\n",
       "    if(typeof define === \"function\" && define.amd) {\n",
       "      requirejs.config({paths});\n",
       "      require([\"vega-embed\"], displayChart, err => showError(`Error loading script: ${err.message}`));\n",
       "    } else if (typeof vegaEmbed === \"function\") {\n",
       "      displayChart(vegaEmbed);\n",
       "    } else {\n",
       "      loadScript(\"vega\")\n",
       "        .then(() => loadScript(\"vega-lite\"))\n",
       "        .then(() => loadScript(\"vega-embed\"))\n",
       "        .catch(showError)\n",
       "        .then(() => displayChart(vegaEmbed));\n",
       "    }\n",
       "  })({\"config\": {\"view\": {\"continuousWidth\": 400, \"continuousHeight\": 300}}, \"data\": {\"name\": \"data-fdeb0b749a6385830bd1445d39ad6ea0\"}, \"mark\": {\"type\": \"point\", \"filled\": true, \"size\": 100}, \"encoding\": {\"shape\": {\"type\": \"nominal\", \"field\": \"cluster\"}, \"x\": {\"type\": \"quantitative\", \"field\": \"fertility\"}, \"y\": {\"type\": \"nominal\", \"field\": \"cluster\"}}, \"$schema\": \"https://vega.github.io/schema/vega-lite/v4.8.1.json\", \"datasets\": {\"data-fdeb0b749a6385830bd1445d39ad6ea0\": [{\"year\": 2000, \"country\": \"Afghanistan\", \"cluster\": 0, \"pop\": 23898198, \"life_expect\": 42.129, \"fertility\": 7.4792}, {\"year\": 2000, \"country\": \"Argentina\", \"cluster\": 3, \"pop\": 37497728, \"life_expect\": 74.34, \"fertility\": 2.35}, {\"year\": 2000, \"country\": \"Aruba\", \"cluster\": 3, \"pop\": 69539, \"life_expect\": 73.451, \"fertility\": 2.124}, {\"year\": 2000, \"country\": \"Australia\", \"cluster\": 4, \"pop\": 19164620, \"life_expect\": 80.37, \"fertility\": 1.756}, {\"year\": 2000, \"country\": \"Austria\", \"cluster\": 1, \"pop\": 8113413, \"life_expect\": 78.98, \"fertility\": 1.3820000000000001}, {\"year\": 2000, \"country\": \"Bahamas\", \"cluster\": 3, \"pop\": 290075, \"life_expect\": 71.068, \"fertility\": 2.1111}, {\"year\": 2000, \"country\": \"Bangladesh\", \"cluster\": 0, \"pop\": 130406594, \"life_expect\": 62.013, \"fertility\": 3.224}, {\"year\": 2000, \"country\": \"Barbados\", \"cluster\": 3, \"pop\": 273483, \"life_expect\": 75.97, \"fertility\": 1.5}, {\"year\": 2000, \"country\": \"Belgium\", \"cluster\": 1, \"pop\": 10263618, \"life_expect\": 78.32, \"fertility\": 1.638}, {\"year\": 2000, \"country\": \"Bolivia\", \"cluster\": 3, \"pop\": 8152620, \"life_expect\": 63.883, \"fertility\": 3.9585}, {\"year\": 2000, \"country\": \"Brazil\", \"cluster\": 3, \"pop\": 175552771, \"life_expect\": 71.006, \"fertility\": 2.345}, {\"year\": 2000, \"country\": \"Canada\", \"cluster\": 3, \"pop\": 31278097, \"life_expect\": 79.77, \"fertility\": 1.522}, {\"year\": 2000, \"country\": \"Chile\", \"cluster\": 3, \"pop\": 15153450, \"life_expect\": 77.86, \"fertility\": 2.0}, {\"year\": 2000, \"country\": \"China\", \"cluster\": 4, \"pop\": 1262645000, \"life_expect\": 72.028, \"fertility\": 1.7000000000000002}, {\"year\": 2000, \"country\": \"Colombia\", \"cluster\": 3, \"pop\": 39685655, \"life_expect\": 71.682, \"fertility\": 2.4705}, {\"year\": 2000, \"country\": \"Costa Rica\", \"cluster\": 3, \"pop\": 3710558, \"life_expect\": 78.123, \"fertility\": 2.2815}, {\"year\": 2000, \"country\": \"Croatia\", \"cluster\": 1, \"pop\": 4410830, \"life_expect\": 74.876, \"fertility\": 1.348}, {\"year\": 2000, \"country\": \"Cuba\", \"cluster\": 3, \"pop\": 11134273, \"life_expect\": 77.158, \"fertility\": 1.63}, {\"year\": 2000, \"country\": \"Dominican Republic\", \"cluster\": 3, \"pop\": 8385828, \"life_expect\": 70.847, \"fertility\": 2.95}, {\"year\": 2000, \"country\": \"Ecuador\", \"cluster\": 3, \"pop\": 12505204, \"life_expect\": 74.173, \"fertility\": 2.8175}, {\"year\": 2000, \"country\": \"Egypt\", \"cluster\": 5, \"pop\": 70492342, \"life_expect\": 69.806, \"fertility\": 3.174}, {\"year\": 2000, \"country\": \"El Salvador\", \"cluster\": 3, \"pop\": 6122515, \"life_expect\": 70.734, \"fertility\": 2.883}, {\"year\": 2000, \"country\": \"Finland\", \"cluster\": 1, \"pop\": 5168595, \"life_expect\": 78.37, \"fertility\": 1.754}, {\"year\": 2000, \"country\": \"France\", \"cluster\": 1, \"pop\": 59381628, \"life_expect\": 79.59, \"fertility\": 1.8833000000000002}, {\"year\": 2000, \"country\": \"Georgia\", \"cluster\": 1, \"pop\": 4777209, \"life_expect\": 70.476, \"fertility\": 1.478}, {\"year\": 2000, \"country\": \"Germany\", \"cluster\": 1, \"pop\": 82187909, \"life_expect\": 78.67, \"fertility\": 1.346}, {\"year\": 2000, \"country\": \"Greece\", \"cluster\": 1, \"pop\": 10559110, \"life_expect\": 78.256, \"fertility\": 1.2770000000000001}, {\"year\": 2000, \"country\": \"Grenada\", \"cluster\": 3, \"pop\": 89312, \"life_expect\": 67.746, \"fertility\": 2.429}, {\"year\": 2000, \"country\": \"Haiti\", \"cluster\": 3, \"pop\": 7306302, \"life_expect\": 58.137, \"fertility\": 4.0}, {\"year\": 2000, \"country\": \"Hong Kong\", \"cluster\": 4, \"pop\": 6658720, \"life_expect\": 81.495, \"fertility\": 0.9400000000000001}, {\"year\": 2000, \"country\": \"Iceland\", \"cluster\": 1, \"pop\": 281043, \"life_expect\": 80.5, \"fertility\": 1.9929999999999999}, {\"year\": 2000, \"country\": \"India\", \"cluster\": 0, \"pop\": 1007702000, \"life_expect\": 62.879, \"fertility\": 3.1132}, {\"year\": 2000, \"country\": \"Indonesia\", \"cluster\": 4, \"pop\": 206265000, \"life_expect\": 68.588, \"fertility\": 2.3761}, {\"year\": 2000, \"country\": \"Iran\", \"cluster\": 5, \"pop\": 65660289, \"life_expect\": 69.451, \"fertility\": 2.124}, {\"year\": 2000, \"country\": \"Iraq\", \"cluster\": 5, \"pop\": 22675617, \"life_expect\": 57.046, \"fertility\": 4.858}, {\"year\": 2000, \"country\": \"Ireland\", \"cluster\": 1, \"pop\": 3791690, \"life_expect\": 77.783, \"fertility\": 1.9689999999999999}, {\"year\": 2000, \"country\": \"Israel\", \"cluster\": 5, \"pop\": 5842454, \"life_expect\": 79.696, \"fertility\": 2.906}, {\"year\": 2000, \"country\": \"Italy\", \"cluster\": 1, \"pop\": 57719337, \"life_expect\": 80.24, \"fertility\": 1.286}, {\"year\": 2000, \"country\": \"Jamaica\", \"cluster\": 3, \"pop\": 2615467, \"life_expect\": 72.047, \"fertility\": 2.628}, {\"year\": 2000, \"country\": \"Japan\", \"cluster\": 4, \"pop\": 126699784, \"life_expect\": 82.0, \"fertility\": 1.291}, {\"year\": 2000, \"country\": \"Kenya\", \"cluster\": 2, \"pop\": 29985839, \"life_expect\": 50.992, \"fertility\": 5.0}, {\"year\": 2000, \"country\": \"South Korea\", \"cluster\": 4, \"pop\": 21647682, \"life_expect\": 66.662, \"fertility\": 1.9173}, {\"year\": 2000, \"country\": \"North Korea\", \"cluster\": 4, \"pop\": 47351083, \"life_expect\": 77.045, \"fertility\": 1.242}, {\"year\": 2000, \"country\": \"Lebanon\", \"cluster\": 5, \"pop\": 3578036, \"life_expect\": 71.028, \"fertility\": 2.319}, {\"year\": 2000, \"country\": \"Mexico\", \"cluster\": 3, \"pop\": 99926620, \"life_expect\": 74.902, \"fertility\": 2.4005}, {\"year\": 2000, \"country\": \"Netherlands\", \"cluster\": 1, \"pop\": 15907853, \"life_expect\": 78.53, \"fertility\": 1.726}, {\"year\": 2000, \"country\": \"New Zealand\", \"cluster\": 4, \"pop\": 3819762, \"life_expect\": 79.11, \"fertility\": 1.964}, {\"year\": 2000, \"country\": \"Nigeria\", \"cluster\": 2, \"pop\": 114306700, \"life_expect\": 46.608, \"fertility\": 5.845}, {\"year\": 2000, \"country\": \"Norway\", \"cluster\": 1, \"pop\": 4492400, \"life_expect\": 79.05, \"fertility\": 1.8010000000000002}, {\"year\": 2000, \"country\": \"Pakistan\", \"cluster\": 0, \"pop\": 146342958, \"life_expect\": 63.61, \"fertility\": 3.9936}, {\"year\": 2000, \"country\": \"Peru\", \"cluster\": 3, \"pop\": 25979722, \"life_expect\": 69.906, \"fertility\": 2.7005}, {\"year\": 2000, \"country\": \"Philippines\", \"cluster\": 4, \"pop\": 79739825, \"life_expect\": 70.303, \"fertility\": 3.5436}, {\"year\": 2000, \"country\": \"Poland\", \"cluster\": 1, \"pop\": 38654164, \"life_expect\": 74.67, \"fertility\": 1.251}, {\"year\": 2000, \"country\": \"Portugal\", \"cluster\": 1, \"pop\": 10335597, \"life_expect\": 77.29, \"fertility\": 1.454}, {\"year\": 2000, \"country\": \"Rwanda\", \"cluster\": 2, \"pop\": 7507056, \"life_expect\": 43.413, \"fertility\": 6.01}, {\"year\": 2000, \"country\": \"Saudi Arabia\", \"cluster\": 5, \"pop\": 23153090, \"life_expect\": 71.626, \"fertility\": 3.81}, {\"year\": 2000, \"country\": \"South Africa\", \"cluster\": 2, \"pop\": 44066197, \"life_expect\": 53.365, \"fertility\": 2.802}, {\"year\": 2000, \"country\": \"Spain\", \"cluster\": 1, \"pop\": 40016081, \"life_expect\": 79.78, \"fertility\": 1.287}, {\"year\": 2000, \"country\": \"Switzerland\", \"cluster\": 1, \"pop\": 7266920, \"life_expect\": 80.62, \"fertility\": 1.415}, {\"year\": 2000, \"country\": \"Turkey\", \"cluster\": 1, \"pop\": 65666677, \"life_expect\": 70.845, \"fertility\": 2.23}, {\"year\": 2000, \"country\": \"United Kingdom\", \"cluster\": 1, \"pop\": 59522468, \"life_expect\": 78.471, \"fertility\": 1.695}, {\"year\": 2000, \"country\": \"United States\", \"cluster\": 3, \"pop\": 282338631, \"life_expect\": 77.31, \"fertility\": 2.038}, {\"year\": 2000, \"country\": \"Venezuela\", \"cluster\": 3, \"pop\": 23542649, \"life_expect\": 72.766, \"fertility\": 2.723}]}}, {\"mode\": \"vega-lite\"});\n",
       "</script>"
      ],
      "text/plain": [
       "alt.Chart(...)"
      ]
     },
     "execution_count": 24,
     "metadata": {},
     "output_type": "execute_result"
    }
   ],
   "source": [
    "alt.Chart(data2000).mark_point(filled=True, size=100).encode(\n",
    "    alt.X('fertility:Q'),\n",
    "    alt.Y('cluster:N'),\n",
    "    alt.Shape('cluster:N')\n",
    ")"
   ]
  },
  {
   "cell_type": "markdown",
   "metadata": {
    "colab_type": "text",
    "id": "CGMm4gyNcLzB"
   },
   "source": [
    "### Circle Marks\n",
    "\n",
    "The `circle` mark type is a convenient shorthand for `point` marks drawn as filled circles."
   ]
  },
  {
   "cell_type": "code",
   "execution_count": 26,
   "metadata": {
    "colab": {
     "base_uri": "https://localhost:8080/",
     "height": 192
    },
    "colab_type": "code",
    "id": "R7JgFhB-vn5X",
    "outputId": "80cd9d0f-c126-4673-bfcf-eaf5b34e0058"
   },
   "outputs": [
    {
     "data": {
      "text/html": [
       "\n",
       "<div id=\"altair-viz-3d07381ec4924f0fbf9e1593a6e71c3d\"></div>\n",
       "<script type=\"text/javascript\">\n",
       "  (function(spec, embedOpt){\n",
       "    let outputDiv = document.currentScript.previousElementSibling;\n",
       "    if (outputDiv.id !== \"altair-viz-3d07381ec4924f0fbf9e1593a6e71c3d\") {\n",
       "      outputDiv = document.getElementById(\"altair-viz-3d07381ec4924f0fbf9e1593a6e71c3d\");\n",
       "    }\n",
       "    const paths = {\n",
       "      \"vega\": \"https://cdn.jsdelivr.net/npm//vega@5?noext\",\n",
       "      \"vega-lib\": \"https://cdn.jsdelivr.net/npm//vega-lib?noext\",\n",
       "      \"vega-lite\": \"https://cdn.jsdelivr.net/npm//vega-lite@4.8.1?noext\",\n",
       "      \"vega-embed\": \"https://cdn.jsdelivr.net/npm//vega-embed@6?noext\",\n",
       "    };\n",
       "\n",
       "    function loadScript(lib) {\n",
       "      return new Promise(function(resolve, reject) {\n",
       "        var s = document.createElement('script');\n",
       "        s.src = paths[lib];\n",
       "        s.async = true;\n",
       "        s.onload = () => resolve(paths[lib]);\n",
       "        s.onerror = () => reject(`Error loading script: ${paths[lib]}`);\n",
       "        document.getElementsByTagName(\"head\")[0].appendChild(s);\n",
       "      });\n",
       "    }\n",
       "\n",
       "    function showError(err) {\n",
       "      outputDiv.innerHTML = `<div class=\"error\" style=\"color:red;\">${err}</div>`;\n",
       "      throw err;\n",
       "    }\n",
       "\n",
       "    function displayChart(vegaEmbed) {\n",
       "      vegaEmbed(outputDiv, spec, embedOpt)\n",
       "        .catch(err => showError(`Javascript Error: ${err.message}<br>This usually means there's a typo in your chart specification. See the javascript console for the full traceback.`));\n",
       "    }\n",
       "\n",
       "    if(typeof define === \"function\" && define.amd) {\n",
       "      requirejs.config({paths});\n",
       "      require([\"vega-embed\"], displayChart, err => showError(`Error loading script: ${err.message}`));\n",
       "    } else if (typeof vegaEmbed === \"function\") {\n",
       "      displayChart(vegaEmbed);\n",
       "    } else {\n",
       "      loadScript(\"vega\")\n",
       "        .then(() => loadScript(\"vega-lite\"))\n",
       "        .then(() => loadScript(\"vega-embed\"))\n",
       "        .catch(showError)\n",
       "        .then(() => displayChart(vegaEmbed));\n",
       "    }\n",
       "  })({\"config\": {\"view\": {\"continuousWidth\": 400, \"continuousHeight\": 300}}, \"data\": {\"name\": \"data-fdeb0b749a6385830bd1445d39ad6ea0\"}, \"mark\": {\"type\": \"circle\", \"size\": 100}, \"encoding\": {\"shape\": {\"type\": \"nominal\", \"field\": \"cluster\"}, \"x\": {\"type\": \"quantitative\", \"field\": \"fertility\"}, \"y\": {\"type\": \"nominal\", \"field\": \"cluster\"}}, \"$schema\": \"https://vega.github.io/schema/vega-lite/v4.8.1.json\", \"datasets\": {\"data-fdeb0b749a6385830bd1445d39ad6ea0\": [{\"year\": 2000, \"country\": \"Afghanistan\", \"cluster\": 0, \"pop\": 23898198, \"life_expect\": 42.129, \"fertility\": 7.4792}, {\"year\": 2000, \"country\": \"Argentina\", \"cluster\": 3, \"pop\": 37497728, \"life_expect\": 74.34, \"fertility\": 2.35}, {\"year\": 2000, \"country\": \"Aruba\", \"cluster\": 3, \"pop\": 69539, \"life_expect\": 73.451, \"fertility\": 2.124}, {\"year\": 2000, \"country\": \"Australia\", \"cluster\": 4, \"pop\": 19164620, \"life_expect\": 80.37, \"fertility\": 1.756}, {\"year\": 2000, \"country\": \"Austria\", \"cluster\": 1, \"pop\": 8113413, \"life_expect\": 78.98, \"fertility\": 1.3820000000000001}, {\"year\": 2000, \"country\": \"Bahamas\", \"cluster\": 3, \"pop\": 290075, \"life_expect\": 71.068, \"fertility\": 2.1111}, {\"year\": 2000, \"country\": \"Bangladesh\", \"cluster\": 0, \"pop\": 130406594, \"life_expect\": 62.013, \"fertility\": 3.224}, {\"year\": 2000, \"country\": \"Barbados\", \"cluster\": 3, \"pop\": 273483, \"life_expect\": 75.97, \"fertility\": 1.5}, {\"year\": 2000, \"country\": \"Belgium\", \"cluster\": 1, \"pop\": 10263618, \"life_expect\": 78.32, \"fertility\": 1.638}, {\"year\": 2000, \"country\": \"Bolivia\", \"cluster\": 3, \"pop\": 8152620, \"life_expect\": 63.883, \"fertility\": 3.9585}, {\"year\": 2000, \"country\": \"Brazil\", \"cluster\": 3, \"pop\": 175552771, \"life_expect\": 71.006, \"fertility\": 2.345}, {\"year\": 2000, \"country\": \"Canada\", \"cluster\": 3, \"pop\": 31278097, \"life_expect\": 79.77, \"fertility\": 1.522}, {\"year\": 2000, \"country\": \"Chile\", \"cluster\": 3, \"pop\": 15153450, \"life_expect\": 77.86, \"fertility\": 2.0}, {\"year\": 2000, \"country\": \"China\", \"cluster\": 4, \"pop\": 1262645000, \"life_expect\": 72.028, \"fertility\": 1.7000000000000002}, {\"year\": 2000, \"country\": \"Colombia\", \"cluster\": 3, \"pop\": 39685655, \"life_expect\": 71.682, \"fertility\": 2.4705}, {\"year\": 2000, \"country\": \"Costa Rica\", \"cluster\": 3, \"pop\": 3710558, \"life_expect\": 78.123, \"fertility\": 2.2815}, {\"year\": 2000, \"country\": \"Croatia\", \"cluster\": 1, \"pop\": 4410830, \"life_expect\": 74.876, \"fertility\": 1.348}, {\"year\": 2000, \"country\": \"Cuba\", \"cluster\": 3, \"pop\": 11134273, \"life_expect\": 77.158, \"fertility\": 1.63}, {\"year\": 2000, \"country\": \"Dominican Republic\", \"cluster\": 3, \"pop\": 8385828, \"life_expect\": 70.847, \"fertility\": 2.95}, {\"year\": 2000, \"country\": \"Ecuador\", \"cluster\": 3, \"pop\": 12505204, \"life_expect\": 74.173, \"fertility\": 2.8175}, {\"year\": 2000, \"country\": \"Egypt\", \"cluster\": 5, \"pop\": 70492342, \"life_expect\": 69.806, \"fertility\": 3.174}, {\"year\": 2000, \"country\": \"El Salvador\", \"cluster\": 3, \"pop\": 6122515, \"life_expect\": 70.734, \"fertility\": 2.883}, {\"year\": 2000, \"country\": \"Finland\", \"cluster\": 1, \"pop\": 5168595, \"life_expect\": 78.37, \"fertility\": 1.754}, {\"year\": 2000, \"country\": \"France\", \"cluster\": 1, \"pop\": 59381628, \"life_expect\": 79.59, \"fertility\": 1.8833000000000002}, {\"year\": 2000, \"country\": \"Georgia\", \"cluster\": 1, \"pop\": 4777209, \"life_expect\": 70.476, \"fertility\": 1.478}, {\"year\": 2000, \"country\": \"Germany\", \"cluster\": 1, \"pop\": 82187909, \"life_expect\": 78.67, \"fertility\": 1.346}, {\"year\": 2000, \"country\": \"Greece\", \"cluster\": 1, \"pop\": 10559110, \"life_expect\": 78.256, \"fertility\": 1.2770000000000001}, {\"year\": 2000, \"country\": \"Grenada\", \"cluster\": 3, \"pop\": 89312, \"life_expect\": 67.746, \"fertility\": 2.429}, {\"year\": 2000, \"country\": \"Haiti\", \"cluster\": 3, \"pop\": 7306302, \"life_expect\": 58.137, \"fertility\": 4.0}, {\"year\": 2000, \"country\": \"Hong Kong\", \"cluster\": 4, \"pop\": 6658720, \"life_expect\": 81.495, \"fertility\": 0.9400000000000001}, {\"year\": 2000, \"country\": \"Iceland\", \"cluster\": 1, \"pop\": 281043, \"life_expect\": 80.5, \"fertility\": 1.9929999999999999}, {\"year\": 2000, \"country\": \"India\", \"cluster\": 0, \"pop\": 1007702000, \"life_expect\": 62.879, \"fertility\": 3.1132}, {\"year\": 2000, \"country\": \"Indonesia\", \"cluster\": 4, \"pop\": 206265000, \"life_expect\": 68.588, \"fertility\": 2.3761}, {\"year\": 2000, \"country\": \"Iran\", \"cluster\": 5, \"pop\": 65660289, \"life_expect\": 69.451, \"fertility\": 2.124}, {\"year\": 2000, \"country\": \"Iraq\", \"cluster\": 5, \"pop\": 22675617, \"life_expect\": 57.046, \"fertility\": 4.858}, {\"year\": 2000, \"country\": \"Ireland\", \"cluster\": 1, \"pop\": 3791690, \"life_expect\": 77.783, \"fertility\": 1.9689999999999999}, {\"year\": 2000, \"country\": \"Israel\", \"cluster\": 5, \"pop\": 5842454, \"life_expect\": 79.696, \"fertility\": 2.906}, {\"year\": 2000, \"country\": \"Italy\", \"cluster\": 1, \"pop\": 57719337, \"life_expect\": 80.24, \"fertility\": 1.286}, {\"year\": 2000, \"country\": \"Jamaica\", \"cluster\": 3, \"pop\": 2615467, \"life_expect\": 72.047, \"fertility\": 2.628}, {\"year\": 2000, \"country\": \"Japan\", \"cluster\": 4, \"pop\": 126699784, \"life_expect\": 82.0, \"fertility\": 1.291}, {\"year\": 2000, \"country\": \"Kenya\", \"cluster\": 2, \"pop\": 29985839, \"life_expect\": 50.992, \"fertility\": 5.0}, {\"year\": 2000, \"country\": \"South Korea\", \"cluster\": 4, \"pop\": 21647682, \"life_expect\": 66.662, \"fertility\": 1.9173}, {\"year\": 2000, \"country\": \"North Korea\", \"cluster\": 4, \"pop\": 47351083, \"life_expect\": 77.045, \"fertility\": 1.242}, {\"year\": 2000, \"country\": \"Lebanon\", \"cluster\": 5, \"pop\": 3578036, \"life_expect\": 71.028, \"fertility\": 2.319}, {\"year\": 2000, \"country\": \"Mexico\", \"cluster\": 3, \"pop\": 99926620, \"life_expect\": 74.902, \"fertility\": 2.4005}, {\"year\": 2000, \"country\": \"Netherlands\", \"cluster\": 1, \"pop\": 15907853, \"life_expect\": 78.53, \"fertility\": 1.726}, {\"year\": 2000, \"country\": \"New Zealand\", \"cluster\": 4, \"pop\": 3819762, \"life_expect\": 79.11, \"fertility\": 1.964}, {\"year\": 2000, \"country\": \"Nigeria\", \"cluster\": 2, \"pop\": 114306700, \"life_expect\": 46.608, \"fertility\": 5.845}, {\"year\": 2000, \"country\": \"Norway\", \"cluster\": 1, \"pop\": 4492400, \"life_expect\": 79.05, \"fertility\": 1.8010000000000002}, {\"year\": 2000, \"country\": \"Pakistan\", \"cluster\": 0, \"pop\": 146342958, \"life_expect\": 63.61, \"fertility\": 3.9936}, {\"year\": 2000, \"country\": \"Peru\", \"cluster\": 3, \"pop\": 25979722, \"life_expect\": 69.906, \"fertility\": 2.7005}, {\"year\": 2000, \"country\": \"Philippines\", \"cluster\": 4, \"pop\": 79739825, \"life_expect\": 70.303, \"fertility\": 3.5436}, {\"year\": 2000, \"country\": \"Poland\", \"cluster\": 1, \"pop\": 38654164, \"life_expect\": 74.67, \"fertility\": 1.251}, {\"year\": 2000, \"country\": \"Portugal\", \"cluster\": 1, \"pop\": 10335597, \"life_expect\": 77.29, \"fertility\": 1.454}, {\"year\": 2000, \"country\": \"Rwanda\", \"cluster\": 2, \"pop\": 7507056, \"life_expect\": 43.413, \"fertility\": 6.01}, {\"year\": 2000, \"country\": \"Saudi Arabia\", \"cluster\": 5, \"pop\": 23153090, \"life_expect\": 71.626, \"fertility\": 3.81}, {\"year\": 2000, \"country\": \"South Africa\", \"cluster\": 2, \"pop\": 44066197, \"life_expect\": 53.365, \"fertility\": 2.802}, {\"year\": 2000, \"country\": \"Spain\", \"cluster\": 1, \"pop\": 40016081, \"life_expect\": 79.78, \"fertility\": 1.287}, {\"year\": 2000, \"country\": \"Switzerland\", \"cluster\": 1, \"pop\": 7266920, \"life_expect\": 80.62, \"fertility\": 1.415}, {\"year\": 2000, \"country\": \"Turkey\", \"cluster\": 1, \"pop\": 65666677, \"life_expect\": 70.845, \"fertility\": 2.23}, {\"year\": 2000, \"country\": \"United Kingdom\", \"cluster\": 1, \"pop\": 59522468, \"life_expect\": 78.471, \"fertility\": 1.695}, {\"year\": 2000, \"country\": \"United States\", \"cluster\": 3, \"pop\": 282338631, \"life_expect\": 77.31, \"fertility\": 2.038}, {\"year\": 2000, \"country\": \"Venezuela\", \"cluster\": 3, \"pop\": 23542649, \"life_expect\": 72.766, \"fertility\": 2.723}]}}, {\"mode\": \"vega-lite\"});\n",
       "</script>"
      ],
      "text/plain": [
       "alt.Chart(...)"
      ]
     },
     "execution_count": 25,
     "metadata": {},
     "output_type": "execute_result"
    }
   ],
   "source": [
    "alt.Chart(data2000).mark_circle(size=100).encode(\n",
    "    alt.X('fertility:Q'),\n",
    "    alt.Y('cluster:N'),\n",
    "    alt.Shape('cluster:N')\n",
    ")"
   ]
  },
  {
   "cell_type": "markdown",
   "metadata": {
    "colab_type": "text",
    "id": "IAZSJlWhcOr_"
   },
   "source": [
    "### Square Marks\n",
    "\n",
    "The `square` mark type is a convenient shorthand for `point` marks drawn as filled squares."
   ]
  },
  {
   "cell_type": "code",
   "execution_count": 27,
   "metadata": {
    "colab": {
     "base_uri": "https://localhost:8080/",
     "height": 192
    },
    "colab_type": "code",
    "id": "rfby5R-Mvuwx",
    "outputId": "8ff4b0d4-f3ce-45e5-f597-1a6fd296ba47"
   },
   "outputs": [
    {
     "data": {
      "text/html": [
       "\n",
       "<div id=\"altair-viz-3c20967d5ddb4b8f89a0a9f812d91822\"></div>\n",
       "<script type=\"text/javascript\">\n",
       "  (function(spec, embedOpt){\n",
       "    let outputDiv = document.currentScript.previousElementSibling;\n",
       "    if (outputDiv.id !== \"altair-viz-3c20967d5ddb4b8f89a0a9f812d91822\") {\n",
       "      outputDiv = document.getElementById(\"altair-viz-3c20967d5ddb4b8f89a0a9f812d91822\");\n",
       "    }\n",
       "    const paths = {\n",
       "      \"vega\": \"https://cdn.jsdelivr.net/npm//vega@5?noext\",\n",
       "      \"vega-lib\": \"https://cdn.jsdelivr.net/npm//vega-lib?noext\",\n",
       "      \"vega-lite\": \"https://cdn.jsdelivr.net/npm//vega-lite@4.8.1?noext\",\n",
       "      \"vega-embed\": \"https://cdn.jsdelivr.net/npm//vega-embed@6?noext\",\n",
       "    };\n",
       "\n",
       "    function loadScript(lib) {\n",
       "      return new Promise(function(resolve, reject) {\n",
       "        var s = document.createElement('script');\n",
       "        s.src = paths[lib];\n",
       "        s.async = true;\n",
       "        s.onload = () => resolve(paths[lib]);\n",
       "        s.onerror = () => reject(`Error loading script: ${paths[lib]}`);\n",
       "        document.getElementsByTagName(\"head\")[0].appendChild(s);\n",
       "      });\n",
       "    }\n",
       "\n",
       "    function showError(err) {\n",
       "      outputDiv.innerHTML = `<div class=\"error\" style=\"color:red;\">${err}</div>`;\n",
       "      throw err;\n",
       "    }\n",
       "\n",
       "    function displayChart(vegaEmbed) {\n",
       "      vegaEmbed(outputDiv, spec, embedOpt)\n",
       "        .catch(err => showError(`Javascript Error: ${err.message}<br>This usually means there's a typo in your chart specification. See the javascript console for the full traceback.`));\n",
       "    }\n",
       "\n",
       "    if(typeof define === \"function\" && define.amd) {\n",
       "      requirejs.config({paths});\n",
       "      require([\"vega-embed\"], displayChart, err => showError(`Error loading script: ${err.message}`));\n",
       "    } else if (typeof vegaEmbed === \"function\") {\n",
       "      displayChart(vegaEmbed);\n",
       "    } else {\n",
       "      loadScript(\"vega\")\n",
       "        .then(() => loadScript(\"vega-lite\"))\n",
       "        .then(() => loadScript(\"vega-embed\"))\n",
       "        .catch(showError)\n",
       "        .then(() => displayChart(vegaEmbed));\n",
       "    }\n",
       "  })({\"config\": {\"view\": {\"continuousWidth\": 400, \"continuousHeight\": 300}}, \"data\": {\"name\": \"data-fdeb0b749a6385830bd1445d39ad6ea0\"}, \"mark\": {\"type\": \"square\", \"size\": 100}, \"encoding\": {\"shape\": {\"type\": \"nominal\", \"field\": \"cluster\"}, \"x\": {\"type\": \"quantitative\", \"field\": \"fertility\"}, \"y\": {\"type\": \"nominal\", \"field\": \"cluster\"}}, \"$schema\": \"https://vega.github.io/schema/vega-lite/v4.8.1.json\", \"datasets\": {\"data-fdeb0b749a6385830bd1445d39ad6ea0\": [{\"year\": 2000, \"country\": \"Afghanistan\", \"cluster\": 0, \"pop\": 23898198, \"life_expect\": 42.129, \"fertility\": 7.4792}, {\"year\": 2000, \"country\": \"Argentina\", \"cluster\": 3, \"pop\": 37497728, \"life_expect\": 74.34, \"fertility\": 2.35}, {\"year\": 2000, \"country\": \"Aruba\", \"cluster\": 3, \"pop\": 69539, \"life_expect\": 73.451, \"fertility\": 2.124}, {\"year\": 2000, \"country\": \"Australia\", \"cluster\": 4, \"pop\": 19164620, \"life_expect\": 80.37, \"fertility\": 1.756}, {\"year\": 2000, \"country\": \"Austria\", \"cluster\": 1, \"pop\": 8113413, \"life_expect\": 78.98, \"fertility\": 1.3820000000000001}, {\"year\": 2000, \"country\": \"Bahamas\", \"cluster\": 3, \"pop\": 290075, \"life_expect\": 71.068, \"fertility\": 2.1111}, {\"year\": 2000, \"country\": \"Bangladesh\", \"cluster\": 0, \"pop\": 130406594, \"life_expect\": 62.013, \"fertility\": 3.224}, {\"year\": 2000, \"country\": \"Barbados\", \"cluster\": 3, \"pop\": 273483, \"life_expect\": 75.97, \"fertility\": 1.5}, {\"year\": 2000, \"country\": \"Belgium\", \"cluster\": 1, \"pop\": 10263618, \"life_expect\": 78.32, \"fertility\": 1.638}, {\"year\": 2000, \"country\": \"Bolivia\", \"cluster\": 3, \"pop\": 8152620, \"life_expect\": 63.883, \"fertility\": 3.9585}, {\"year\": 2000, \"country\": \"Brazil\", \"cluster\": 3, \"pop\": 175552771, \"life_expect\": 71.006, \"fertility\": 2.345}, {\"year\": 2000, \"country\": \"Canada\", \"cluster\": 3, \"pop\": 31278097, \"life_expect\": 79.77, \"fertility\": 1.522}, {\"year\": 2000, \"country\": \"Chile\", \"cluster\": 3, \"pop\": 15153450, \"life_expect\": 77.86, \"fertility\": 2.0}, {\"year\": 2000, \"country\": \"China\", \"cluster\": 4, \"pop\": 1262645000, \"life_expect\": 72.028, \"fertility\": 1.7000000000000002}, {\"year\": 2000, \"country\": \"Colombia\", \"cluster\": 3, \"pop\": 39685655, \"life_expect\": 71.682, \"fertility\": 2.4705}, {\"year\": 2000, \"country\": \"Costa Rica\", \"cluster\": 3, \"pop\": 3710558, \"life_expect\": 78.123, \"fertility\": 2.2815}, {\"year\": 2000, \"country\": \"Croatia\", \"cluster\": 1, \"pop\": 4410830, \"life_expect\": 74.876, \"fertility\": 1.348}, {\"year\": 2000, \"country\": \"Cuba\", \"cluster\": 3, \"pop\": 11134273, \"life_expect\": 77.158, \"fertility\": 1.63}, {\"year\": 2000, \"country\": \"Dominican Republic\", \"cluster\": 3, \"pop\": 8385828, \"life_expect\": 70.847, \"fertility\": 2.95}, {\"year\": 2000, \"country\": \"Ecuador\", \"cluster\": 3, \"pop\": 12505204, \"life_expect\": 74.173, \"fertility\": 2.8175}, {\"year\": 2000, \"country\": \"Egypt\", \"cluster\": 5, \"pop\": 70492342, \"life_expect\": 69.806, \"fertility\": 3.174}, {\"year\": 2000, \"country\": \"El Salvador\", \"cluster\": 3, \"pop\": 6122515, \"life_expect\": 70.734, \"fertility\": 2.883}, {\"year\": 2000, \"country\": \"Finland\", \"cluster\": 1, \"pop\": 5168595, \"life_expect\": 78.37, \"fertility\": 1.754}, {\"year\": 2000, \"country\": \"France\", \"cluster\": 1, \"pop\": 59381628, \"life_expect\": 79.59, \"fertility\": 1.8833000000000002}, {\"year\": 2000, \"country\": \"Georgia\", \"cluster\": 1, \"pop\": 4777209, \"life_expect\": 70.476, \"fertility\": 1.478}, {\"year\": 2000, \"country\": \"Germany\", \"cluster\": 1, \"pop\": 82187909, \"life_expect\": 78.67, \"fertility\": 1.346}, {\"year\": 2000, \"country\": \"Greece\", \"cluster\": 1, \"pop\": 10559110, \"life_expect\": 78.256, \"fertility\": 1.2770000000000001}, {\"year\": 2000, \"country\": \"Grenada\", \"cluster\": 3, \"pop\": 89312, \"life_expect\": 67.746, \"fertility\": 2.429}, {\"year\": 2000, \"country\": \"Haiti\", \"cluster\": 3, \"pop\": 7306302, \"life_expect\": 58.137, \"fertility\": 4.0}, {\"year\": 2000, \"country\": \"Hong Kong\", \"cluster\": 4, \"pop\": 6658720, \"life_expect\": 81.495, \"fertility\": 0.9400000000000001}, {\"year\": 2000, \"country\": \"Iceland\", \"cluster\": 1, \"pop\": 281043, \"life_expect\": 80.5, \"fertility\": 1.9929999999999999}, {\"year\": 2000, \"country\": \"India\", \"cluster\": 0, \"pop\": 1007702000, \"life_expect\": 62.879, \"fertility\": 3.1132}, {\"year\": 2000, \"country\": \"Indonesia\", \"cluster\": 4, \"pop\": 206265000, \"life_expect\": 68.588, \"fertility\": 2.3761}, {\"year\": 2000, \"country\": \"Iran\", \"cluster\": 5, \"pop\": 65660289, \"life_expect\": 69.451, \"fertility\": 2.124}, {\"year\": 2000, \"country\": \"Iraq\", \"cluster\": 5, \"pop\": 22675617, \"life_expect\": 57.046, \"fertility\": 4.858}, {\"year\": 2000, \"country\": \"Ireland\", \"cluster\": 1, \"pop\": 3791690, \"life_expect\": 77.783, \"fertility\": 1.9689999999999999}, {\"year\": 2000, \"country\": \"Israel\", \"cluster\": 5, \"pop\": 5842454, \"life_expect\": 79.696, \"fertility\": 2.906}, {\"year\": 2000, \"country\": \"Italy\", \"cluster\": 1, \"pop\": 57719337, \"life_expect\": 80.24, \"fertility\": 1.286}, {\"year\": 2000, \"country\": \"Jamaica\", \"cluster\": 3, \"pop\": 2615467, \"life_expect\": 72.047, \"fertility\": 2.628}, {\"year\": 2000, \"country\": \"Japan\", \"cluster\": 4, \"pop\": 126699784, \"life_expect\": 82.0, \"fertility\": 1.291}, {\"year\": 2000, \"country\": \"Kenya\", \"cluster\": 2, \"pop\": 29985839, \"life_expect\": 50.992, \"fertility\": 5.0}, {\"year\": 2000, \"country\": \"South Korea\", \"cluster\": 4, \"pop\": 21647682, \"life_expect\": 66.662, \"fertility\": 1.9173}, {\"year\": 2000, \"country\": \"North Korea\", \"cluster\": 4, \"pop\": 47351083, \"life_expect\": 77.045, \"fertility\": 1.242}, {\"year\": 2000, \"country\": \"Lebanon\", \"cluster\": 5, \"pop\": 3578036, \"life_expect\": 71.028, \"fertility\": 2.319}, {\"year\": 2000, \"country\": \"Mexico\", \"cluster\": 3, \"pop\": 99926620, \"life_expect\": 74.902, \"fertility\": 2.4005}, {\"year\": 2000, \"country\": \"Netherlands\", \"cluster\": 1, \"pop\": 15907853, \"life_expect\": 78.53, \"fertility\": 1.726}, {\"year\": 2000, \"country\": \"New Zealand\", \"cluster\": 4, \"pop\": 3819762, \"life_expect\": 79.11, \"fertility\": 1.964}, {\"year\": 2000, \"country\": \"Nigeria\", \"cluster\": 2, \"pop\": 114306700, \"life_expect\": 46.608, \"fertility\": 5.845}, {\"year\": 2000, \"country\": \"Norway\", \"cluster\": 1, \"pop\": 4492400, \"life_expect\": 79.05, \"fertility\": 1.8010000000000002}, {\"year\": 2000, \"country\": \"Pakistan\", \"cluster\": 0, \"pop\": 146342958, \"life_expect\": 63.61, \"fertility\": 3.9936}, {\"year\": 2000, \"country\": \"Peru\", \"cluster\": 3, \"pop\": 25979722, \"life_expect\": 69.906, \"fertility\": 2.7005}, {\"year\": 2000, \"country\": \"Philippines\", \"cluster\": 4, \"pop\": 79739825, \"life_expect\": 70.303, \"fertility\": 3.5436}, {\"year\": 2000, \"country\": \"Poland\", \"cluster\": 1, \"pop\": 38654164, \"life_expect\": 74.67, \"fertility\": 1.251}, {\"year\": 2000, \"country\": \"Portugal\", \"cluster\": 1, \"pop\": 10335597, \"life_expect\": 77.29, \"fertility\": 1.454}, {\"year\": 2000, \"country\": \"Rwanda\", \"cluster\": 2, \"pop\": 7507056, \"life_expect\": 43.413, \"fertility\": 6.01}, {\"year\": 2000, \"country\": \"Saudi Arabia\", \"cluster\": 5, \"pop\": 23153090, \"life_expect\": 71.626, \"fertility\": 3.81}, {\"year\": 2000, \"country\": \"South Africa\", \"cluster\": 2, \"pop\": 44066197, \"life_expect\": 53.365, \"fertility\": 2.802}, {\"year\": 2000, \"country\": \"Spain\", \"cluster\": 1, \"pop\": 40016081, \"life_expect\": 79.78, \"fertility\": 1.287}, {\"year\": 2000, \"country\": \"Switzerland\", \"cluster\": 1, \"pop\": 7266920, \"life_expect\": 80.62, \"fertility\": 1.415}, {\"year\": 2000, \"country\": \"Turkey\", \"cluster\": 1, \"pop\": 65666677, \"life_expect\": 70.845, \"fertility\": 2.23}, {\"year\": 2000, \"country\": \"United Kingdom\", \"cluster\": 1, \"pop\": 59522468, \"life_expect\": 78.471, \"fertility\": 1.695}, {\"year\": 2000, \"country\": \"United States\", \"cluster\": 3, \"pop\": 282338631, \"life_expect\": 77.31, \"fertility\": 2.038}, {\"year\": 2000, \"country\": \"Venezuela\", \"cluster\": 3, \"pop\": 23542649, \"life_expect\": 72.766, \"fertility\": 2.723}]}}, {\"mode\": \"vega-lite\"});\n",
       "</script>"
      ],
      "text/plain": [
       "alt.Chart(...)"
      ]
     },
     "execution_count": 26,
     "metadata": {},
     "output_type": "execute_result"
    }
   ],
   "source": [
    "alt.Chart(data2000).mark_square(size=100).encode(\n",
    "    alt.X('fertility:Q'),\n",
    "    alt.Y('cluster:N'),\n",
    "    alt.Shape('cluster:N')\n",
    ")"
   ]
  },
  {
   "cell_type": "markdown",
   "metadata": {
    "colab_type": "text",
    "id": "SJF0vNqGcRdv"
   },
   "source": [
    "### Tick Marks\n",
    "\n",
    "The `tick` mark type conveys a data point using a short line segment or \"tick\". These are particularly useful for comparing values along a single dimension with minimal overlap. A *dot plot* drawn with tick marks is sometimes referred to as a *strip plot*."
   ]
  },
  {
   "cell_type": "code",
   "execution_count": 28,
   "metadata": {
    "colab": {
     "base_uri": "https://localhost:8080/",
     "height": 192
    },
    "colab_type": "code",
    "id": "Thvp_VJ2v-xd",
    "outputId": "c6133250-333f-4c29-e217-221634dd8337"
   },
   "outputs": [
    {
     "data": {
      "text/html": [
       "\n",
       "<div id=\"altair-viz-702803cad4af496788bd03d59009f6b3\"></div>\n",
       "<script type=\"text/javascript\">\n",
       "  (function(spec, embedOpt){\n",
       "    let outputDiv = document.currentScript.previousElementSibling;\n",
       "    if (outputDiv.id !== \"altair-viz-702803cad4af496788bd03d59009f6b3\") {\n",
       "      outputDiv = document.getElementById(\"altair-viz-702803cad4af496788bd03d59009f6b3\");\n",
       "    }\n",
       "    const paths = {\n",
       "      \"vega\": \"https://cdn.jsdelivr.net/npm//vega@5?noext\",\n",
       "      \"vega-lib\": \"https://cdn.jsdelivr.net/npm//vega-lib?noext\",\n",
       "      \"vega-lite\": \"https://cdn.jsdelivr.net/npm//vega-lite@4.8.1?noext\",\n",
       "      \"vega-embed\": \"https://cdn.jsdelivr.net/npm//vega-embed@6?noext\",\n",
       "    };\n",
       "\n",
       "    function loadScript(lib) {\n",
       "      return new Promise(function(resolve, reject) {\n",
       "        var s = document.createElement('script');\n",
       "        s.src = paths[lib];\n",
       "        s.async = true;\n",
       "        s.onload = () => resolve(paths[lib]);\n",
       "        s.onerror = () => reject(`Error loading script: ${paths[lib]}`);\n",
       "        document.getElementsByTagName(\"head\")[0].appendChild(s);\n",
       "      });\n",
       "    }\n",
       "\n",
       "    function showError(err) {\n",
       "      outputDiv.innerHTML = `<div class=\"error\" style=\"color:red;\">${err}</div>`;\n",
       "      throw err;\n",
       "    }\n",
       "\n",
       "    function displayChart(vegaEmbed) {\n",
       "      vegaEmbed(outputDiv, spec, embedOpt)\n",
       "        .catch(err => showError(`Javascript Error: ${err.message}<br>This usually means there's a typo in your chart specification. See the javascript console for the full traceback.`));\n",
       "    }\n",
       "\n",
       "    if(typeof define === \"function\" && define.amd) {\n",
       "      requirejs.config({paths});\n",
       "      require([\"vega-embed\"], displayChart, err => showError(`Error loading script: ${err.message}`));\n",
       "    } else if (typeof vegaEmbed === \"function\") {\n",
       "      displayChart(vegaEmbed);\n",
       "    } else {\n",
       "      loadScript(\"vega\")\n",
       "        .then(() => loadScript(\"vega-lite\"))\n",
       "        .then(() => loadScript(\"vega-embed\"))\n",
       "        .catch(showError)\n",
       "        .then(() => displayChart(vegaEmbed));\n",
       "    }\n",
       "  })({\"config\": {\"view\": {\"continuousWidth\": 400, \"continuousHeight\": 300}}, \"data\": {\"name\": \"data-fdeb0b749a6385830bd1445d39ad6ea0\"}, \"mark\": \"tick\", \"encoding\": {\"shape\": {\"type\": \"nominal\", \"field\": \"cluster\"}, \"x\": {\"type\": \"quantitative\", \"field\": \"fertility\"}, \"y\": {\"type\": \"nominal\", \"field\": \"cluster\"}}, \"$schema\": \"https://vega.github.io/schema/vega-lite/v4.8.1.json\", \"datasets\": {\"data-fdeb0b749a6385830bd1445d39ad6ea0\": [{\"year\": 2000, \"country\": \"Afghanistan\", \"cluster\": 0, \"pop\": 23898198, \"life_expect\": 42.129, \"fertility\": 7.4792}, {\"year\": 2000, \"country\": \"Argentina\", \"cluster\": 3, \"pop\": 37497728, \"life_expect\": 74.34, \"fertility\": 2.35}, {\"year\": 2000, \"country\": \"Aruba\", \"cluster\": 3, \"pop\": 69539, \"life_expect\": 73.451, \"fertility\": 2.124}, {\"year\": 2000, \"country\": \"Australia\", \"cluster\": 4, \"pop\": 19164620, \"life_expect\": 80.37, \"fertility\": 1.756}, {\"year\": 2000, \"country\": \"Austria\", \"cluster\": 1, \"pop\": 8113413, \"life_expect\": 78.98, \"fertility\": 1.3820000000000001}, {\"year\": 2000, \"country\": \"Bahamas\", \"cluster\": 3, \"pop\": 290075, \"life_expect\": 71.068, \"fertility\": 2.1111}, {\"year\": 2000, \"country\": \"Bangladesh\", \"cluster\": 0, \"pop\": 130406594, \"life_expect\": 62.013, \"fertility\": 3.224}, {\"year\": 2000, \"country\": \"Barbados\", \"cluster\": 3, \"pop\": 273483, \"life_expect\": 75.97, \"fertility\": 1.5}, {\"year\": 2000, \"country\": \"Belgium\", \"cluster\": 1, \"pop\": 10263618, \"life_expect\": 78.32, \"fertility\": 1.638}, {\"year\": 2000, \"country\": \"Bolivia\", \"cluster\": 3, \"pop\": 8152620, \"life_expect\": 63.883, \"fertility\": 3.9585}, {\"year\": 2000, \"country\": \"Brazil\", \"cluster\": 3, \"pop\": 175552771, \"life_expect\": 71.006, \"fertility\": 2.345}, {\"year\": 2000, \"country\": \"Canada\", \"cluster\": 3, \"pop\": 31278097, \"life_expect\": 79.77, \"fertility\": 1.522}, {\"year\": 2000, \"country\": \"Chile\", \"cluster\": 3, \"pop\": 15153450, \"life_expect\": 77.86, \"fertility\": 2.0}, {\"year\": 2000, \"country\": \"China\", \"cluster\": 4, \"pop\": 1262645000, \"life_expect\": 72.028, \"fertility\": 1.7000000000000002}, {\"year\": 2000, \"country\": \"Colombia\", \"cluster\": 3, \"pop\": 39685655, \"life_expect\": 71.682, \"fertility\": 2.4705}, {\"year\": 2000, \"country\": \"Costa Rica\", \"cluster\": 3, \"pop\": 3710558, \"life_expect\": 78.123, \"fertility\": 2.2815}, {\"year\": 2000, \"country\": \"Croatia\", \"cluster\": 1, \"pop\": 4410830, \"life_expect\": 74.876, \"fertility\": 1.348}, {\"year\": 2000, \"country\": \"Cuba\", \"cluster\": 3, \"pop\": 11134273, \"life_expect\": 77.158, \"fertility\": 1.63}, {\"year\": 2000, \"country\": \"Dominican Republic\", \"cluster\": 3, \"pop\": 8385828, \"life_expect\": 70.847, \"fertility\": 2.95}, {\"year\": 2000, \"country\": \"Ecuador\", \"cluster\": 3, \"pop\": 12505204, \"life_expect\": 74.173, \"fertility\": 2.8175}, {\"year\": 2000, \"country\": \"Egypt\", \"cluster\": 5, \"pop\": 70492342, \"life_expect\": 69.806, \"fertility\": 3.174}, {\"year\": 2000, \"country\": \"El Salvador\", \"cluster\": 3, \"pop\": 6122515, \"life_expect\": 70.734, \"fertility\": 2.883}, {\"year\": 2000, \"country\": \"Finland\", \"cluster\": 1, \"pop\": 5168595, \"life_expect\": 78.37, \"fertility\": 1.754}, {\"year\": 2000, \"country\": \"France\", \"cluster\": 1, \"pop\": 59381628, \"life_expect\": 79.59, \"fertility\": 1.8833000000000002}, {\"year\": 2000, \"country\": \"Georgia\", \"cluster\": 1, \"pop\": 4777209, \"life_expect\": 70.476, \"fertility\": 1.478}, {\"year\": 2000, \"country\": \"Germany\", \"cluster\": 1, \"pop\": 82187909, \"life_expect\": 78.67, \"fertility\": 1.346}, {\"year\": 2000, \"country\": \"Greece\", \"cluster\": 1, \"pop\": 10559110, \"life_expect\": 78.256, \"fertility\": 1.2770000000000001}, {\"year\": 2000, \"country\": \"Grenada\", \"cluster\": 3, \"pop\": 89312, \"life_expect\": 67.746, \"fertility\": 2.429}, {\"year\": 2000, \"country\": \"Haiti\", \"cluster\": 3, \"pop\": 7306302, \"life_expect\": 58.137, \"fertility\": 4.0}, {\"year\": 2000, \"country\": \"Hong Kong\", \"cluster\": 4, \"pop\": 6658720, \"life_expect\": 81.495, \"fertility\": 0.9400000000000001}, {\"year\": 2000, \"country\": \"Iceland\", \"cluster\": 1, \"pop\": 281043, \"life_expect\": 80.5, \"fertility\": 1.9929999999999999}, {\"year\": 2000, \"country\": \"India\", \"cluster\": 0, \"pop\": 1007702000, \"life_expect\": 62.879, \"fertility\": 3.1132}, {\"year\": 2000, \"country\": \"Indonesia\", \"cluster\": 4, \"pop\": 206265000, \"life_expect\": 68.588, \"fertility\": 2.3761}, {\"year\": 2000, \"country\": \"Iran\", \"cluster\": 5, \"pop\": 65660289, \"life_expect\": 69.451, \"fertility\": 2.124}, {\"year\": 2000, \"country\": \"Iraq\", \"cluster\": 5, \"pop\": 22675617, \"life_expect\": 57.046, \"fertility\": 4.858}, {\"year\": 2000, \"country\": \"Ireland\", \"cluster\": 1, \"pop\": 3791690, \"life_expect\": 77.783, \"fertility\": 1.9689999999999999}, {\"year\": 2000, \"country\": \"Israel\", \"cluster\": 5, \"pop\": 5842454, \"life_expect\": 79.696, \"fertility\": 2.906}, {\"year\": 2000, \"country\": \"Italy\", \"cluster\": 1, \"pop\": 57719337, \"life_expect\": 80.24, \"fertility\": 1.286}, {\"year\": 2000, \"country\": \"Jamaica\", \"cluster\": 3, \"pop\": 2615467, \"life_expect\": 72.047, \"fertility\": 2.628}, {\"year\": 2000, \"country\": \"Japan\", \"cluster\": 4, \"pop\": 126699784, \"life_expect\": 82.0, \"fertility\": 1.291}, {\"year\": 2000, \"country\": \"Kenya\", \"cluster\": 2, \"pop\": 29985839, \"life_expect\": 50.992, \"fertility\": 5.0}, {\"year\": 2000, \"country\": \"South Korea\", \"cluster\": 4, \"pop\": 21647682, \"life_expect\": 66.662, \"fertility\": 1.9173}, {\"year\": 2000, \"country\": \"North Korea\", \"cluster\": 4, \"pop\": 47351083, \"life_expect\": 77.045, \"fertility\": 1.242}, {\"year\": 2000, \"country\": \"Lebanon\", \"cluster\": 5, \"pop\": 3578036, \"life_expect\": 71.028, \"fertility\": 2.319}, {\"year\": 2000, \"country\": \"Mexico\", \"cluster\": 3, \"pop\": 99926620, \"life_expect\": 74.902, \"fertility\": 2.4005}, {\"year\": 2000, \"country\": \"Netherlands\", \"cluster\": 1, \"pop\": 15907853, \"life_expect\": 78.53, \"fertility\": 1.726}, {\"year\": 2000, \"country\": \"New Zealand\", \"cluster\": 4, \"pop\": 3819762, \"life_expect\": 79.11, \"fertility\": 1.964}, {\"year\": 2000, \"country\": \"Nigeria\", \"cluster\": 2, \"pop\": 114306700, \"life_expect\": 46.608, \"fertility\": 5.845}, {\"year\": 2000, \"country\": \"Norway\", \"cluster\": 1, \"pop\": 4492400, \"life_expect\": 79.05, \"fertility\": 1.8010000000000002}, {\"year\": 2000, \"country\": \"Pakistan\", \"cluster\": 0, \"pop\": 146342958, \"life_expect\": 63.61, \"fertility\": 3.9936}, {\"year\": 2000, \"country\": \"Peru\", \"cluster\": 3, \"pop\": 25979722, \"life_expect\": 69.906, \"fertility\": 2.7005}, {\"year\": 2000, \"country\": \"Philippines\", \"cluster\": 4, \"pop\": 79739825, \"life_expect\": 70.303, \"fertility\": 3.5436}, {\"year\": 2000, \"country\": \"Poland\", \"cluster\": 1, \"pop\": 38654164, \"life_expect\": 74.67, \"fertility\": 1.251}, {\"year\": 2000, \"country\": \"Portugal\", \"cluster\": 1, \"pop\": 10335597, \"life_expect\": 77.29, \"fertility\": 1.454}, {\"year\": 2000, \"country\": \"Rwanda\", \"cluster\": 2, \"pop\": 7507056, \"life_expect\": 43.413, \"fertility\": 6.01}, {\"year\": 2000, \"country\": \"Saudi Arabia\", \"cluster\": 5, \"pop\": 23153090, \"life_expect\": 71.626, \"fertility\": 3.81}, {\"year\": 2000, \"country\": \"South Africa\", \"cluster\": 2, \"pop\": 44066197, \"life_expect\": 53.365, \"fertility\": 2.802}, {\"year\": 2000, \"country\": \"Spain\", \"cluster\": 1, \"pop\": 40016081, \"life_expect\": 79.78, \"fertility\": 1.287}, {\"year\": 2000, \"country\": \"Switzerland\", \"cluster\": 1, \"pop\": 7266920, \"life_expect\": 80.62, \"fertility\": 1.415}, {\"year\": 2000, \"country\": \"Turkey\", \"cluster\": 1, \"pop\": 65666677, \"life_expect\": 70.845, \"fertility\": 2.23}, {\"year\": 2000, \"country\": \"United Kingdom\", \"cluster\": 1, \"pop\": 59522468, \"life_expect\": 78.471, \"fertility\": 1.695}, {\"year\": 2000, \"country\": \"United States\", \"cluster\": 3, \"pop\": 282338631, \"life_expect\": 77.31, \"fertility\": 2.038}, {\"year\": 2000, \"country\": \"Venezuela\", \"cluster\": 3, \"pop\": 23542649, \"life_expect\": 72.766, \"fertility\": 2.723}]}}, {\"mode\": \"vega-lite\"});\n",
       "</script>"
      ],
      "text/plain": [
       "alt.Chart(...)"
      ]
     },
     "execution_count": 27,
     "metadata": {},
     "output_type": "execute_result"
    }
   ],
   "source": [
    "alt.Chart(data2000).mark_tick().encode(\n",
    "    alt.X('fertility:Q'),\n",
    "    alt.Y('cluster:N'),\n",
    "    alt.Shape('cluster:N')\n",
    ")"
   ]
  },
  {
   "cell_type": "markdown",
   "metadata": {
    "colab_type": "text",
    "id": "x8j5XVZJcB7l"
   },
   "source": [
    "### Bar Marks\n",
    "\n",
    "The \\`bar\\` mark type draws a rectangle with a position, width, and height.\n",
    "\n",
    "The plot below is a simple bar chart of the population (\\`pop\\`) of each country."
   ]
  },
  {
   "cell_type": "code",
   "execution_count": 29,
   "metadata": {
    "colab": {
     "base_uri": "https://localhost:8080/",
     "height": 445
    },
    "colab_type": "code",
    "id": "eFN9Kw85xFQK",
    "outputId": "8da431d3-9ba7-4ecf-de55-e478c4527a39"
   },
   "outputs": [
    {
     "data": {
      "text/html": [
       "\n",
       "<div id=\"altair-viz-ce5b672d9f4c473da6a9b37088722c80\"></div>\n",
       "<script type=\"text/javascript\">\n",
       "  (function(spec, embedOpt){\n",
       "    let outputDiv = document.currentScript.previousElementSibling;\n",
       "    if (outputDiv.id !== \"altair-viz-ce5b672d9f4c473da6a9b37088722c80\") {\n",
       "      outputDiv = document.getElementById(\"altair-viz-ce5b672d9f4c473da6a9b37088722c80\");\n",
       "    }\n",
       "    const paths = {\n",
       "      \"vega\": \"https://cdn.jsdelivr.net/npm//vega@5?noext\",\n",
       "      \"vega-lib\": \"https://cdn.jsdelivr.net/npm//vega-lib?noext\",\n",
       "      \"vega-lite\": \"https://cdn.jsdelivr.net/npm//vega-lite@4.8.1?noext\",\n",
       "      \"vega-embed\": \"https://cdn.jsdelivr.net/npm//vega-embed@6?noext\",\n",
       "    };\n",
       "\n",
       "    function loadScript(lib) {\n",
       "      return new Promise(function(resolve, reject) {\n",
       "        var s = document.createElement('script');\n",
       "        s.src = paths[lib];\n",
       "        s.async = true;\n",
       "        s.onload = () => resolve(paths[lib]);\n",
       "        s.onerror = () => reject(`Error loading script: ${paths[lib]}`);\n",
       "        document.getElementsByTagName(\"head\")[0].appendChild(s);\n",
       "      });\n",
       "    }\n",
       "\n",
       "    function showError(err) {\n",
       "      outputDiv.innerHTML = `<div class=\"error\" style=\"color:red;\">${err}</div>`;\n",
       "      throw err;\n",
       "    }\n",
       "\n",
       "    function displayChart(vegaEmbed) {\n",
       "      vegaEmbed(outputDiv, spec, embedOpt)\n",
       "        .catch(err => showError(`Javascript Error: ${err.message}<br>This usually means there's a typo in your chart specification. See the javascript console for the full traceback.`));\n",
       "    }\n",
       "\n",
       "    if(typeof define === \"function\" && define.amd) {\n",
       "      requirejs.config({paths});\n",
       "      require([\"vega-embed\"], displayChart, err => showError(`Error loading script: ${err.message}`));\n",
       "    } else if (typeof vegaEmbed === \"function\") {\n",
       "      displayChart(vegaEmbed);\n",
       "    } else {\n",
       "      loadScript(\"vega\")\n",
       "        .then(() => loadScript(\"vega-lite\"))\n",
       "        .then(() => loadScript(\"vega-embed\"))\n",
       "        .catch(showError)\n",
       "        .then(() => displayChart(vegaEmbed));\n",
       "    }\n",
       "  })({\"config\": {\"view\": {\"continuousWidth\": 400, \"continuousHeight\": 300}}, \"data\": {\"name\": \"data-fdeb0b749a6385830bd1445d39ad6ea0\"}, \"mark\": \"bar\", \"encoding\": {\"x\": {\"type\": \"nominal\", \"field\": \"country\"}, \"y\": {\"type\": \"quantitative\", \"field\": \"pop\"}}, \"$schema\": \"https://vega.github.io/schema/vega-lite/v4.8.1.json\", \"datasets\": {\"data-fdeb0b749a6385830bd1445d39ad6ea0\": [{\"year\": 2000, \"country\": \"Afghanistan\", \"cluster\": 0, \"pop\": 23898198, \"life_expect\": 42.129, \"fertility\": 7.4792}, {\"year\": 2000, \"country\": \"Argentina\", \"cluster\": 3, \"pop\": 37497728, \"life_expect\": 74.34, \"fertility\": 2.35}, {\"year\": 2000, \"country\": \"Aruba\", \"cluster\": 3, \"pop\": 69539, \"life_expect\": 73.451, \"fertility\": 2.124}, {\"year\": 2000, \"country\": \"Australia\", \"cluster\": 4, \"pop\": 19164620, \"life_expect\": 80.37, \"fertility\": 1.756}, {\"year\": 2000, \"country\": \"Austria\", \"cluster\": 1, \"pop\": 8113413, \"life_expect\": 78.98, \"fertility\": 1.3820000000000001}, {\"year\": 2000, \"country\": \"Bahamas\", \"cluster\": 3, \"pop\": 290075, \"life_expect\": 71.068, \"fertility\": 2.1111}, {\"year\": 2000, \"country\": \"Bangladesh\", \"cluster\": 0, \"pop\": 130406594, \"life_expect\": 62.013, \"fertility\": 3.224}, {\"year\": 2000, \"country\": \"Barbados\", \"cluster\": 3, \"pop\": 273483, \"life_expect\": 75.97, \"fertility\": 1.5}, {\"year\": 2000, \"country\": \"Belgium\", \"cluster\": 1, \"pop\": 10263618, \"life_expect\": 78.32, \"fertility\": 1.638}, {\"year\": 2000, \"country\": \"Bolivia\", \"cluster\": 3, \"pop\": 8152620, \"life_expect\": 63.883, \"fertility\": 3.9585}, {\"year\": 2000, \"country\": \"Brazil\", \"cluster\": 3, \"pop\": 175552771, \"life_expect\": 71.006, \"fertility\": 2.345}, {\"year\": 2000, \"country\": \"Canada\", \"cluster\": 3, \"pop\": 31278097, \"life_expect\": 79.77, \"fertility\": 1.522}, {\"year\": 2000, \"country\": \"Chile\", \"cluster\": 3, \"pop\": 15153450, \"life_expect\": 77.86, \"fertility\": 2.0}, {\"year\": 2000, \"country\": \"China\", \"cluster\": 4, \"pop\": 1262645000, \"life_expect\": 72.028, \"fertility\": 1.7000000000000002}, {\"year\": 2000, \"country\": \"Colombia\", \"cluster\": 3, \"pop\": 39685655, \"life_expect\": 71.682, \"fertility\": 2.4705}, {\"year\": 2000, \"country\": \"Costa Rica\", \"cluster\": 3, \"pop\": 3710558, \"life_expect\": 78.123, \"fertility\": 2.2815}, {\"year\": 2000, \"country\": \"Croatia\", \"cluster\": 1, \"pop\": 4410830, \"life_expect\": 74.876, \"fertility\": 1.348}, {\"year\": 2000, \"country\": \"Cuba\", \"cluster\": 3, \"pop\": 11134273, \"life_expect\": 77.158, \"fertility\": 1.63}, {\"year\": 2000, \"country\": \"Dominican Republic\", \"cluster\": 3, \"pop\": 8385828, \"life_expect\": 70.847, \"fertility\": 2.95}, {\"year\": 2000, \"country\": \"Ecuador\", \"cluster\": 3, \"pop\": 12505204, \"life_expect\": 74.173, \"fertility\": 2.8175}, {\"year\": 2000, \"country\": \"Egypt\", \"cluster\": 5, \"pop\": 70492342, \"life_expect\": 69.806, \"fertility\": 3.174}, {\"year\": 2000, \"country\": \"El Salvador\", \"cluster\": 3, \"pop\": 6122515, \"life_expect\": 70.734, \"fertility\": 2.883}, {\"year\": 2000, \"country\": \"Finland\", \"cluster\": 1, \"pop\": 5168595, \"life_expect\": 78.37, \"fertility\": 1.754}, {\"year\": 2000, \"country\": \"France\", \"cluster\": 1, \"pop\": 59381628, \"life_expect\": 79.59, \"fertility\": 1.8833000000000002}, {\"year\": 2000, \"country\": \"Georgia\", \"cluster\": 1, \"pop\": 4777209, \"life_expect\": 70.476, \"fertility\": 1.478}, {\"year\": 2000, \"country\": \"Germany\", \"cluster\": 1, \"pop\": 82187909, \"life_expect\": 78.67, \"fertility\": 1.346}, {\"year\": 2000, \"country\": \"Greece\", \"cluster\": 1, \"pop\": 10559110, \"life_expect\": 78.256, \"fertility\": 1.2770000000000001}, {\"year\": 2000, \"country\": \"Grenada\", \"cluster\": 3, \"pop\": 89312, \"life_expect\": 67.746, \"fertility\": 2.429}, {\"year\": 2000, \"country\": \"Haiti\", \"cluster\": 3, \"pop\": 7306302, \"life_expect\": 58.137, \"fertility\": 4.0}, {\"year\": 2000, \"country\": \"Hong Kong\", \"cluster\": 4, \"pop\": 6658720, \"life_expect\": 81.495, \"fertility\": 0.9400000000000001}, {\"year\": 2000, \"country\": \"Iceland\", \"cluster\": 1, \"pop\": 281043, \"life_expect\": 80.5, \"fertility\": 1.9929999999999999}, {\"year\": 2000, \"country\": \"India\", \"cluster\": 0, \"pop\": 1007702000, \"life_expect\": 62.879, \"fertility\": 3.1132}, {\"year\": 2000, \"country\": \"Indonesia\", \"cluster\": 4, \"pop\": 206265000, \"life_expect\": 68.588, \"fertility\": 2.3761}, {\"year\": 2000, \"country\": \"Iran\", \"cluster\": 5, \"pop\": 65660289, \"life_expect\": 69.451, \"fertility\": 2.124}, {\"year\": 2000, \"country\": \"Iraq\", \"cluster\": 5, \"pop\": 22675617, \"life_expect\": 57.046, \"fertility\": 4.858}, {\"year\": 2000, \"country\": \"Ireland\", \"cluster\": 1, \"pop\": 3791690, \"life_expect\": 77.783, \"fertility\": 1.9689999999999999}, {\"year\": 2000, \"country\": \"Israel\", \"cluster\": 5, \"pop\": 5842454, \"life_expect\": 79.696, \"fertility\": 2.906}, {\"year\": 2000, \"country\": \"Italy\", \"cluster\": 1, \"pop\": 57719337, \"life_expect\": 80.24, \"fertility\": 1.286}, {\"year\": 2000, \"country\": \"Jamaica\", \"cluster\": 3, \"pop\": 2615467, \"life_expect\": 72.047, \"fertility\": 2.628}, {\"year\": 2000, \"country\": \"Japan\", \"cluster\": 4, \"pop\": 126699784, \"life_expect\": 82.0, \"fertility\": 1.291}, {\"year\": 2000, \"country\": \"Kenya\", \"cluster\": 2, \"pop\": 29985839, \"life_expect\": 50.992, \"fertility\": 5.0}, {\"year\": 2000, \"country\": \"South Korea\", \"cluster\": 4, \"pop\": 21647682, \"life_expect\": 66.662, \"fertility\": 1.9173}, {\"year\": 2000, \"country\": \"North Korea\", \"cluster\": 4, \"pop\": 47351083, \"life_expect\": 77.045, \"fertility\": 1.242}, {\"year\": 2000, \"country\": \"Lebanon\", \"cluster\": 5, \"pop\": 3578036, \"life_expect\": 71.028, \"fertility\": 2.319}, {\"year\": 2000, \"country\": \"Mexico\", \"cluster\": 3, \"pop\": 99926620, \"life_expect\": 74.902, \"fertility\": 2.4005}, {\"year\": 2000, \"country\": \"Netherlands\", \"cluster\": 1, \"pop\": 15907853, \"life_expect\": 78.53, \"fertility\": 1.726}, {\"year\": 2000, \"country\": \"New Zealand\", \"cluster\": 4, \"pop\": 3819762, \"life_expect\": 79.11, \"fertility\": 1.964}, {\"year\": 2000, \"country\": \"Nigeria\", \"cluster\": 2, \"pop\": 114306700, \"life_expect\": 46.608, \"fertility\": 5.845}, {\"year\": 2000, \"country\": \"Norway\", \"cluster\": 1, \"pop\": 4492400, \"life_expect\": 79.05, \"fertility\": 1.8010000000000002}, {\"year\": 2000, \"country\": \"Pakistan\", \"cluster\": 0, \"pop\": 146342958, \"life_expect\": 63.61, \"fertility\": 3.9936}, {\"year\": 2000, \"country\": \"Peru\", \"cluster\": 3, \"pop\": 25979722, \"life_expect\": 69.906, \"fertility\": 2.7005}, {\"year\": 2000, \"country\": \"Philippines\", \"cluster\": 4, \"pop\": 79739825, \"life_expect\": 70.303, \"fertility\": 3.5436}, {\"year\": 2000, \"country\": \"Poland\", \"cluster\": 1, \"pop\": 38654164, \"life_expect\": 74.67, \"fertility\": 1.251}, {\"year\": 2000, \"country\": \"Portugal\", \"cluster\": 1, \"pop\": 10335597, \"life_expect\": 77.29, \"fertility\": 1.454}, {\"year\": 2000, \"country\": \"Rwanda\", \"cluster\": 2, \"pop\": 7507056, \"life_expect\": 43.413, \"fertility\": 6.01}, {\"year\": 2000, \"country\": \"Saudi Arabia\", \"cluster\": 5, \"pop\": 23153090, \"life_expect\": 71.626, \"fertility\": 3.81}, {\"year\": 2000, \"country\": \"South Africa\", \"cluster\": 2, \"pop\": 44066197, \"life_expect\": 53.365, \"fertility\": 2.802}, {\"year\": 2000, \"country\": \"Spain\", \"cluster\": 1, \"pop\": 40016081, \"life_expect\": 79.78, \"fertility\": 1.287}, {\"year\": 2000, \"country\": \"Switzerland\", \"cluster\": 1, \"pop\": 7266920, \"life_expect\": 80.62, \"fertility\": 1.415}, {\"year\": 2000, \"country\": \"Turkey\", \"cluster\": 1, \"pop\": 65666677, \"life_expect\": 70.845, \"fertility\": 2.23}, {\"year\": 2000, \"country\": \"United Kingdom\", \"cluster\": 1, \"pop\": 59522468, \"life_expect\": 78.471, \"fertility\": 1.695}, {\"year\": 2000, \"country\": \"United States\", \"cluster\": 3, \"pop\": 282338631, \"life_expect\": 77.31, \"fertility\": 2.038}, {\"year\": 2000, \"country\": \"Venezuela\", \"cluster\": 3, \"pop\": 23542649, \"life_expect\": 72.766, \"fertility\": 2.723}]}}, {\"mode\": \"vega-lite\"});\n",
       "</script>"
      ],
      "text/plain": [
       "alt.Chart(...)"
      ]
     },
     "execution_count": 28,
     "metadata": {},
     "output_type": "execute_result"
    }
   ],
   "source": [
    "alt.Chart(data2000).mark_bar().encode(\n",
    "    alt.X('country:N'),\n",
    "    alt.Y('pop:Q')\n",
    ")"
   ]
  },
  {
   "cell_type": "markdown",
   "metadata": {
    "colab_type": "text",
    "id": "rHX8bKgbzW3I"
   },
   "source": [
    "The bar width is set to a default size. We will discuss how to adjust the bar width later in this notebook. (A subsequent notebook will take a closer look at configuring axes, scales, and legends.)\n",
    "\n",
    "Bars can also be stacked. Let's change the `x` encoding to use the `cluster` field, and encode `country` using the `color` channel. We'll also disable the legend (which would be very long with colors for all countries!) and use tooltips for the country name."
   ]
  },
  {
   "cell_type": "code",
   "execution_count": 30,
   "metadata": {
    "colab": {
     "base_uri": "https://localhost:8080/",
     "height": 368
    },
    "colab_type": "code",
    "id": "x9maAWhOxsrq",
    "outputId": "7960be03-eefd-4c3f-a114-8405395c772c"
   },
   "outputs": [
    {
     "data": {
      "text/html": [
       "\n",
       "<div id=\"altair-viz-385be82139e44792adba03e35c47c269\"></div>\n",
       "<script type=\"text/javascript\">\n",
       "  (function(spec, embedOpt){\n",
       "    let outputDiv = document.currentScript.previousElementSibling;\n",
       "    if (outputDiv.id !== \"altair-viz-385be82139e44792adba03e35c47c269\") {\n",
       "      outputDiv = document.getElementById(\"altair-viz-385be82139e44792adba03e35c47c269\");\n",
       "    }\n",
       "    const paths = {\n",
       "      \"vega\": \"https://cdn.jsdelivr.net/npm//vega@5?noext\",\n",
       "      \"vega-lib\": \"https://cdn.jsdelivr.net/npm//vega-lib?noext\",\n",
       "      \"vega-lite\": \"https://cdn.jsdelivr.net/npm//vega-lite@4.8.1?noext\",\n",
       "      \"vega-embed\": \"https://cdn.jsdelivr.net/npm//vega-embed@6?noext\",\n",
       "    };\n",
       "\n",
       "    function loadScript(lib) {\n",
       "      return new Promise(function(resolve, reject) {\n",
       "        var s = document.createElement('script');\n",
       "        s.src = paths[lib];\n",
       "        s.async = true;\n",
       "        s.onload = () => resolve(paths[lib]);\n",
       "        s.onerror = () => reject(`Error loading script: ${paths[lib]}`);\n",
       "        document.getElementsByTagName(\"head\")[0].appendChild(s);\n",
       "      });\n",
       "    }\n",
       "\n",
       "    function showError(err) {\n",
       "      outputDiv.innerHTML = `<div class=\"error\" style=\"color:red;\">${err}</div>`;\n",
       "      throw err;\n",
       "    }\n",
       "\n",
       "    function displayChart(vegaEmbed) {\n",
       "      vegaEmbed(outputDiv, spec, embedOpt)\n",
       "        .catch(err => showError(`Javascript Error: ${err.message}<br>This usually means there's a typo in your chart specification. See the javascript console for the full traceback.`));\n",
       "    }\n",
       "\n",
       "    if(typeof define === \"function\" && define.amd) {\n",
       "      requirejs.config({paths});\n",
       "      require([\"vega-embed\"], displayChart, err => showError(`Error loading script: ${err.message}`));\n",
       "    } else if (typeof vegaEmbed === \"function\") {\n",
       "      displayChart(vegaEmbed);\n",
       "    } else {\n",
       "      loadScript(\"vega\")\n",
       "        .then(() => loadScript(\"vega-lite\"))\n",
       "        .then(() => loadScript(\"vega-embed\"))\n",
       "        .catch(showError)\n",
       "        .then(() => displayChart(vegaEmbed));\n",
       "    }\n",
       "  })({\"config\": {\"view\": {\"continuousWidth\": 400, \"continuousHeight\": 300}}, \"data\": {\"name\": \"data-fdeb0b749a6385830bd1445d39ad6ea0\"}, \"mark\": \"bar\", \"encoding\": {\"color\": {\"type\": \"nominal\", \"field\": \"country\", \"legend\": null}, \"tooltip\": {\"type\": \"nominal\", \"field\": \"country\"}, \"x\": {\"type\": \"nominal\", \"field\": \"cluster\"}, \"y\": {\"type\": \"quantitative\", \"field\": \"pop\"}}, \"$schema\": \"https://vega.github.io/schema/vega-lite/v4.8.1.json\", \"datasets\": {\"data-fdeb0b749a6385830bd1445d39ad6ea0\": [{\"year\": 2000, \"country\": \"Afghanistan\", \"cluster\": 0, \"pop\": 23898198, \"life_expect\": 42.129, \"fertility\": 7.4792}, {\"year\": 2000, \"country\": \"Argentina\", \"cluster\": 3, \"pop\": 37497728, \"life_expect\": 74.34, \"fertility\": 2.35}, {\"year\": 2000, \"country\": \"Aruba\", \"cluster\": 3, \"pop\": 69539, \"life_expect\": 73.451, \"fertility\": 2.124}, {\"year\": 2000, \"country\": \"Australia\", \"cluster\": 4, \"pop\": 19164620, \"life_expect\": 80.37, \"fertility\": 1.756}, {\"year\": 2000, \"country\": \"Austria\", \"cluster\": 1, \"pop\": 8113413, \"life_expect\": 78.98, \"fertility\": 1.3820000000000001}, {\"year\": 2000, \"country\": \"Bahamas\", \"cluster\": 3, \"pop\": 290075, \"life_expect\": 71.068, \"fertility\": 2.1111}, {\"year\": 2000, \"country\": \"Bangladesh\", \"cluster\": 0, \"pop\": 130406594, \"life_expect\": 62.013, \"fertility\": 3.224}, {\"year\": 2000, \"country\": \"Barbados\", \"cluster\": 3, \"pop\": 273483, \"life_expect\": 75.97, \"fertility\": 1.5}, {\"year\": 2000, \"country\": \"Belgium\", \"cluster\": 1, \"pop\": 10263618, \"life_expect\": 78.32, \"fertility\": 1.638}, {\"year\": 2000, \"country\": \"Bolivia\", \"cluster\": 3, \"pop\": 8152620, \"life_expect\": 63.883, \"fertility\": 3.9585}, {\"year\": 2000, \"country\": \"Brazil\", \"cluster\": 3, \"pop\": 175552771, \"life_expect\": 71.006, \"fertility\": 2.345}, {\"year\": 2000, \"country\": \"Canada\", \"cluster\": 3, \"pop\": 31278097, \"life_expect\": 79.77, \"fertility\": 1.522}, {\"year\": 2000, \"country\": \"Chile\", \"cluster\": 3, \"pop\": 15153450, \"life_expect\": 77.86, \"fertility\": 2.0}, {\"year\": 2000, \"country\": \"China\", \"cluster\": 4, \"pop\": 1262645000, \"life_expect\": 72.028, \"fertility\": 1.7000000000000002}, {\"year\": 2000, \"country\": \"Colombia\", \"cluster\": 3, \"pop\": 39685655, \"life_expect\": 71.682, \"fertility\": 2.4705}, {\"year\": 2000, \"country\": \"Costa Rica\", \"cluster\": 3, \"pop\": 3710558, \"life_expect\": 78.123, \"fertility\": 2.2815}, {\"year\": 2000, \"country\": \"Croatia\", \"cluster\": 1, \"pop\": 4410830, \"life_expect\": 74.876, \"fertility\": 1.348}, {\"year\": 2000, \"country\": \"Cuba\", \"cluster\": 3, \"pop\": 11134273, \"life_expect\": 77.158, \"fertility\": 1.63}, {\"year\": 2000, \"country\": \"Dominican Republic\", \"cluster\": 3, \"pop\": 8385828, \"life_expect\": 70.847, \"fertility\": 2.95}, {\"year\": 2000, \"country\": \"Ecuador\", \"cluster\": 3, \"pop\": 12505204, \"life_expect\": 74.173, \"fertility\": 2.8175}, {\"year\": 2000, \"country\": \"Egypt\", \"cluster\": 5, \"pop\": 70492342, \"life_expect\": 69.806, \"fertility\": 3.174}, {\"year\": 2000, \"country\": \"El Salvador\", \"cluster\": 3, \"pop\": 6122515, \"life_expect\": 70.734, \"fertility\": 2.883}, {\"year\": 2000, \"country\": \"Finland\", \"cluster\": 1, \"pop\": 5168595, \"life_expect\": 78.37, \"fertility\": 1.754}, {\"year\": 2000, \"country\": \"France\", \"cluster\": 1, \"pop\": 59381628, \"life_expect\": 79.59, \"fertility\": 1.8833000000000002}, {\"year\": 2000, \"country\": \"Georgia\", \"cluster\": 1, \"pop\": 4777209, \"life_expect\": 70.476, \"fertility\": 1.478}, {\"year\": 2000, \"country\": \"Germany\", \"cluster\": 1, \"pop\": 82187909, \"life_expect\": 78.67, \"fertility\": 1.346}, {\"year\": 2000, \"country\": \"Greece\", \"cluster\": 1, \"pop\": 10559110, \"life_expect\": 78.256, \"fertility\": 1.2770000000000001}, {\"year\": 2000, \"country\": \"Grenada\", \"cluster\": 3, \"pop\": 89312, \"life_expect\": 67.746, \"fertility\": 2.429}, {\"year\": 2000, \"country\": \"Haiti\", \"cluster\": 3, \"pop\": 7306302, \"life_expect\": 58.137, \"fertility\": 4.0}, {\"year\": 2000, \"country\": \"Hong Kong\", \"cluster\": 4, \"pop\": 6658720, \"life_expect\": 81.495, \"fertility\": 0.9400000000000001}, {\"year\": 2000, \"country\": \"Iceland\", \"cluster\": 1, \"pop\": 281043, \"life_expect\": 80.5, \"fertility\": 1.9929999999999999}, {\"year\": 2000, \"country\": \"India\", \"cluster\": 0, \"pop\": 1007702000, \"life_expect\": 62.879, \"fertility\": 3.1132}, {\"year\": 2000, \"country\": \"Indonesia\", \"cluster\": 4, \"pop\": 206265000, \"life_expect\": 68.588, \"fertility\": 2.3761}, {\"year\": 2000, \"country\": \"Iran\", \"cluster\": 5, \"pop\": 65660289, \"life_expect\": 69.451, \"fertility\": 2.124}, {\"year\": 2000, \"country\": \"Iraq\", \"cluster\": 5, \"pop\": 22675617, \"life_expect\": 57.046, \"fertility\": 4.858}, {\"year\": 2000, \"country\": \"Ireland\", \"cluster\": 1, \"pop\": 3791690, \"life_expect\": 77.783, \"fertility\": 1.9689999999999999}, {\"year\": 2000, \"country\": \"Israel\", \"cluster\": 5, \"pop\": 5842454, \"life_expect\": 79.696, \"fertility\": 2.906}, {\"year\": 2000, \"country\": \"Italy\", \"cluster\": 1, \"pop\": 57719337, \"life_expect\": 80.24, \"fertility\": 1.286}, {\"year\": 2000, \"country\": \"Jamaica\", \"cluster\": 3, \"pop\": 2615467, \"life_expect\": 72.047, \"fertility\": 2.628}, {\"year\": 2000, \"country\": \"Japan\", \"cluster\": 4, \"pop\": 126699784, \"life_expect\": 82.0, \"fertility\": 1.291}, {\"year\": 2000, \"country\": \"Kenya\", \"cluster\": 2, \"pop\": 29985839, \"life_expect\": 50.992, \"fertility\": 5.0}, {\"year\": 2000, \"country\": \"South Korea\", \"cluster\": 4, \"pop\": 21647682, \"life_expect\": 66.662, \"fertility\": 1.9173}, {\"year\": 2000, \"country\": \"North Korea\", \"cluster\": 4, \"pop\": 47351083, \"life_expect\": 77.045, \"fertility\": 1.242}, {\"year\": 2000, \"country\": \"Lebanon\", \"cluster\": 5, \"pop\": 3578036, \"life_expect\": 71.028, \"fertility\": 2.319}, {\"year\": 2000, \"country\": \"Mexico\", \"cluster\": 3, \"pop\": 99926620, \"life_expect\": 74.902, \"fertility\": 2.4005}, {\"year\": 2000, \"country\": \"Netherlands\", \"cluster\": 1, \"pop\": 15907853, \"life_expect\": 78.53, \"fertility\": 1.726}, {\"year\": 2000, \"country\": \"New Zealand\", \"cluster\": 4, \"pop\": 3819762, \"life_expect\": 79.11, \"fertility\": 1.964}, {\"year\": 2000, \"country\": \"Nigeria\", \"cluster\": 2, \"pop\": 114306700, \"life_expect\": 46.608, \"fertility\": 5.845}, {\"year\": 2000, \"country\": \"Norway\", \"cluster\": 1, \"pop\": 4492400, \"life_expect\": 79.05, \"fertility\": 1.8010000000000002}, {\"year\": 2000, \"country\": \"Pakistan\", \"cluster\": 0, \"pop\": 146342958, \"life_expect\": 63.61, \"fertility\": 3.9936}, {\"year\": 2000, \"country\": \"Peru\", \"cluster\": 3, \"pop\": 25979722, \"life_expect\": 69.906, \"fertility\": 2.7005}, {\"year\": 2000, \"country\": \"Philippines\", \"cluster\": 4, \"pop\": 79739825, \"life_expect\": 70.303, \"fertility\": 3.5436}, {\"year\": 2000, \"country\": \"Poland\", \"cluster\": 1, \"pop\": 38654164, \"life_expect\": 74.67, \"fertility\": 1.251}, {\"year\": 2000, \"country\": \"Portugal\", \"cluster\": 1, \"pop\": 10335597, \"life_expect\": 77.29, \"fertility\": 1.454}, {\"year\": 2000, \"country\": \"Rwanda\", \"cluster\": 2, \"pop\": 7507056, \"life_expect\": 43.413, \"fertility\": 6.01}, {\"year\": 2000, \"country\": \"Saudi Arabia\", \"cluster\": 5, \"pop\": 23153090, \"life_expect\": 71.626, \"fertility\": 3.81}, {\"year\": 2000, \"country\": \"South Africa\", \"cluster\": 2, \"pop\": 44066197, \"life_expect\": 53.365, \"fertility\": 2.802}, {\"year\": 2000, \"country\": \"Spain\", \"cluster\": 1, \"pop\": 40016081, \"life_expect\": 79.78, \"fertility\": 1.287}, {\"year\": 2000, \"country\": \"Switzerland\", \"cluster\": 1, \"pop\": 7266920, \"life_expect\": 80.62, \"fertility\": 1.415}, {\"year\": 2000, \"country\": \"Turkey\", \"cluster\": 1, \"pop\": 65666677, \"life_expect\": 70.845, \"fertility\": 2.23}, {\"year\": 2000, \"country\": \"United Kingdom\", \"cluster\": 1, \"pop\": 59522468, \"life_expect\": 78.471, \"fertility\": 1.695}, {\"year\": 2000, \"country\": \"United States\", \"cluster\": 3, \"pop\": 282338631, \"life_expect\": 77.31, \"fertility\": 2.038}, {\"year\": 2000, \"country\": \"Venezuela\", \"cluster\": 3, \"pop\": 23542649, \"life_expect\": 72.766, \"fertility\": 2.723}]}}, {\"mode\": \"vega-lite\"});\n",
       "</script>"
      ],
      "text/plain": [
       "alt.Chart(...)"
      ]
     },
     "execution_count": 29,
     "metadata": {},
     "output_type": "execute_result"
    }
   ],
   "source": [
    "alt.Chart(data2000).mark_bar().encode(\n",
    "    alt.X('cluster:N'),\n",
    "    alt.Y('pop:Q'),\n",
    "    alt.Color('country:N', legend=None),\n",
    "    alt.Tooltip('country:N')\n",
    ")"
   ]
  },
  {
   "cell_type": "markdown",
   "metadata": {
    "colab_type": "text",
    "id": "de4181jhzgUx"
   },
   "source": [
    "In the chart above, the use of the `color` encoding channel causes Altair / Vega-Lite to automatically stack the bar marks. Otherwise, bars would be drawn on top of each other! Try adding the parameter `stack=None` to the `y` encoding channel to see what happens if we don't apply stacking..."
   ]
  },
  {
   "cell_type": "markdown",
   "metadata": {
    "colab_type": "text",
    "id": "mLSz2vHb2qiV"
   },
   "source": [
    "The examples above create bar charts from a zero-baseline, and the `y` channel only encodes the non-zero value (or height) of the bar. However, the bar mark also allows you to specify starting and ending points to convey ranges.\n",
    "\n",
    "The chart below uses the `x` (starting point) and `x2` (ending point) channels to show the range of life expectancies within each regional cluster. Below we use the `min` and `max` aggregation functions to determine the end points of the range; we will discuss aggregation in greater detail in the next notebook!\n",
    "\n",
    "Alternatively, you can use `x` and `width` to provide a starting point plus offset, such that `x2 = x + width`."
   ]
  },
  {
   "cell_type": "code",
   "execution_count": 31,
   "metadata": {
    "colab": {
     "base_uri": "https://localhost:8080/",
     "height": 192
    },
    "colab_type": "code",
    "id": "NxEVEQLj0l9t",
    "outputId": "2fa67514-b66c-4449-a1e3-c0b1b377ed3a"
   },
   "outputs": [
    {
     "data": {
      "text/html": [
       "\n",
       "<div id=\"altair-viz-5b9aaadae3a642e0af1862ea5e001bb3\"></div>\n",
       "<script type=\"text/javascript\">\n",
       "  (function(spec, embedOpt){\n",
       "    let outputDiv = document.currentScript.previousElementSibling;\n",
       "    if (outputDiv.id !== \"altair-viz-5b9aaadae3a642e0af1862ea5e001bb3\") {\n",
       "      outputDiv = document.getElementById(\"altair-viz-5b9aaadae3a642e0af1862ea5e001bb3\");\n",
       "    }\n",
       "    const paths = {\n",
       "      \"vega\": \"https://cdn.jsdelivr.net/npm//vega@5?noext\",\n",
       "      \"vega-lib\": \"https://cdn.jsdelivr.net/npm//vega-lib?noext\",\n",
       "      \"vega-lite\": \"https://cdn.jsdelivr.net/npm//vega-lite@4.8.1?noext\",\n",
       "      \"vega-embed\": \"https://cdn.jsdelivr.net/npm//vega-embed@6?noext\",\n",
       "    };\n",
       "\n",
       "    function loadScript(lib) {\n",
       "      return new Promise(function(resolve, reject) {\n",
       "        var s = document.createElement('script');\n",
       "        s.src = paths[lib];\n",
       "        s.async = true;\n",
       "        s.onload = () => resolve(paths[lib]);\n",
       "        s.onerror = () => reject(`Error loading script: ${paths[lib]}`);\n",
       "        document.getElementsByTagName(\"head\")[0].appendChild(s);\n",
       "      });\n",
       "    }\n",
       "\n",
       "    function showError(err) {\n",
       "      outputDiv.innerHTML = `<div class=\"error\" style=\"color:red;\">${err}</div>`;\n",
       "      throw err;\n",
       "    }\n",
       "\n",
       "    function displayChart(vegaEmbed) {\n",
       "      vegaEmbed(outputDiv, spec, embedOpt)\n",
       "        .catch(err => showError(`Javascript Error: ${err.message}<br>This usually means there's a typo in your chart specification. See the javascript console for the full traceback.`));\n",
       "    }\n",
       "\n",
       "    if(typeof define === \"function\" && define.amd) {\n",
       "      requirejs.config({paths});\n",
       "      require([\"vega-embed\"], displayChart, err => showError(`Error loading script: ${err.message}`));\n",
       "    } else if (typeof vegaEmbed === \"function\") {\n",
       "      displayChart(vegaEmbed);\n",
       "    } else {\n",
       "      loadScript(\"vega\")\n",
       "        .then(() => loadScript(\"vega-lite\"))\n",
       "        .then(() => loadScript(\"vega-embed\"))\n",
       "        .catch(showError)\n",
       "        .then(() => displayChart(vegaEmbed));\n",
       "    }\n",
       "  })({\"config\": {\"view\": {\"continuousWidth\": 400, \"continuousHeight\": 300}}, \"data\": {\"name\": \"data-fdeb0b749a6385830bd1445d39ad6ea0\"}, \"mark\": \"bar\", \"encoding\": {\"x\": {\"type\": \"quantitative\", \"aggregate\": \"min\", \"field\": \"life_expect\"}, \"x2\": {\"aggregate\": \"max\", \"field\": \"life_expect\"}, \"y\": {\"type\": \"nominal\", \"field\": \"cluster\"}}, \"$schema\": \"https://vega.github.io/schema/vega-lite/v4.8.1.json\", \"datasets\": {\"data-fdeb0b749a6385830bd1445d39ad6ea0\": [{\"year\": 2000, \"country\": \"Afghanistan\", \"cluster\": 0, \"pop\": 23898198, \"life_expect\": 42.129, \"fertility\": 7.4792}, {\"year\": 2000, \"country\": \"Argentina\", \"cluster\": 3, \"pop\": 37497728, \"life_expect\": 74.34, \"fertility\": 2.35}, {\"year\": 2000, \"country\": \"Aruba\", \"cluster\": 3, \"pop\": 69539, \"life_expect\": 73.451, \"fertility\": 2.124}, {\"year\": 2000, \"country\": \"Australia\", \"cluster\": 4, \"pop\": 19164620, \"life_expect\": 80.37, \"fertility\": 1.756}, {\"year\": 2000, \"country\": \"Austria\", \"cluster\": 1, \"pop\": 8113413, \"life_expect\": 78.98, \"fertility\": 1.3820000000000001}, {\"year\": 2000, \"country\": \"Bahamas\", \"cluster\": 3, \"pop\": 290075, \"life_expect\": 71.068, \"fertility\": 2.1111}, {\"year\": 2000, \"country\": \"Bangladesh\", \"cluster\": 0, \"pop\": 130406594, \"life_expect\": 62.013, \"fertility\": 3.224}, {\"year\": 2000, \"country\": \"Barbados\", \"cluster\": 3, \"pop\": 273483, \"life_expect\": 75.97, \"fertility\": 1.5}, {\"year\": 2000, \"country\": \"Belgium\", \"cluster\": 1, \"pop\": 10263618, \"life_expect\": 78.32, \"fertility\": 1.638}, {\"year\": 2000, \"country\": \"Bolivia\", \"cluster\": 3, \"pop\": 8152620, \"life_expect\": 63.883, \"fertility\": 3.9585}, {\"year\": 2000, \"country\": \"Brazil\", \"cluster\": 3, \"pop\": 175552771, \"life_expect\": 71.006, \"fertility\": 2.345}, {\"year\": 2000, \"country\": \"Canada\", \"cluster\": 3, \"pop\": 31278097, \"life_expect\": 79.77, \"fertility\": 1.522}, {\"year\": 2000, \"country\": \"Chile\", \"cluster\": 3, \"pop\": 15153450, \"life_expect\": 77.86, \"fertility\": 2.0}, {\"year\": 2000, \"country\": \"China\", \"cluster\": 4, \"pop\": 1262645000, \"life_expect\": 72.028, \"fertility\": 1.7000000000000002}, {\"year\": 2000, \"country\": \"Colombia\", \"cluster\": 3, \"pop\": 39685655, \"life_expect\": 71.682, \"fertility\": 2.4705}, {\"year\": 2000, \"country\": \"Costa Rica\", \"cluster\": 3, \"pop\": 3710558, \"life_expect\": 78.123, \"fertility\": 2.2815}, {\"year\": 2000, \"country\": \"Croatia\", \"cluster\": 1, \"pop\": 4410830, \"life_expect\": 74.876, \"fertility\": 1.348}, {\"year\": 2000, \"country\": \"Cuba\", \"cluster\": 3, \"pop\": 11134273, \"life_expect\": 77.158, \"fertility\": 1.63}, {\"year\": 2000, \"country\": \"Dominican Republic\", \"cluster\": 3, \"pop\": 8385828, \"life_expect\": 70.847, \"fertility\": 2.95}, {\"year\": 2000, \"country\": \"Ecuador\", \"cluster\": 3, \"pop\": 12505204, \"life_expect\": 74.173, \"fertility\": 2.8175}, {\"year\": 2000, \"country\": \"Egypt\", \"cluster\": 5, \"pop\": 70492342, \"life_expect\": 69.806, \"fertility\": 3.174}, {\"year\": 2000, \"country\": \"El Salvador\", \"cluster\": 3, \"pop\": 6122515, \"life_expect\": 70.734, \"fertility\": 2.883}, {\"year\": 2000, \"country\": \"Finland\", \"cluster\": 1, \"pop\": 5168595, \"life_expect\": 78.37, \"fertility\": 1.754}, {\"year\": 2000, \"country\": \"France\", \"cluster\": 1, \"pop\": 59381628, \"life_expect\": 79.59, \"fertility\": 1.8833000000000002}, {\"year\": 2000, \"country\": \"Georgia\", \"cluster\": 1, \"pop\": 4777209, \"life_expect\": 70.476, \"fertility\": 1.478}, {\"year\": 2000, \"country\": \"Germany\", \"cluster\": 1, \"pop\": 82187909, \"life_expect\": 78.67, \"fertility\": 1.346}, {\"year\": 2000, \"country\": \"Greece\", \"cluster\": 1, \"pop\": 10559110, \"life_expect\": 78.256, \"fertility\": 1.2770000000000001}, {\"year\": 2000, \"country\": \"Grenada\", \"cluster\": 3, \"pop\": 89312, \"life_expect\": 67.746, \"fertility\": 2.429}, {\"year\": 2000, \"country\": \"Haiti\", \"cluster\": 3, \"pop\": 7306302, \"life_expect\": 58.137, \"fertility\": 4.0}, {\"year\": 2000, \"country\": \"Hong Kong\", \"cluster\": 4, \"pop\": 6658720, \"life_expect\": 81.495, \"fertility\": 0.9400000000000001}, {\"year\": 2000, \"country\": \"Iceland\", \"cluster\": 1, \"pop\": 281043, \"life_expect\": 80.5, \"fertility\": 1.9929999999999999}, {\"year\": 2000, \"country\": \"India\", \"cluster\": 0, \"pop\": 1007702000, \"life_expect\": 62.879, \"fertility\": 3.1132}, {\"year\": 2000, \"country\": \"Indonesia\", \"cluster\": 4, \"pop\": 206265000, \"life_expect\": 68.588, \"fertility\": 2.3761}, {\"year\": 2000, \"country\": \"Iran\", \"cluster\": 5, \"pop\": 65660289, \"life_expect\": 69.451, \"fertility\": 2.124}, {\"year\": 2000, \"country\": \"Iraq\", \"cluster\": 5, \"pop\": 22675617, \"life_expect\": 57.046, \"fertility\": 4.858}, {\"year\": 2000, \"country\": \"Ireland\", \"cluster\": 1, \"pop\": 3791690, \"life_expect\": 77.783, \"fertility\": 1.9689999999999999}, {\"year\": 2000, \"country\": \"Israel\", \"cluster\": 5, \"pop\": 5842454, \"life_expect\": 79.696, \"fertility\": 2.906}, {\"year\": 2000, \"country\": \"Italy\", \"cluster\": 1, \"pop\": 57719337, \"life_expect\": 80.24, \"fertility\": 1.286}, {\"year\": 2000, \"country\": \"Jamaica\", \"cluster\": 3, \"pop\": 2615467, \"life_expect\": 72.047, \"fertility\": 2.628}, {\"year\": 2000, \"country\": \"Japan\", \"cluster\": 4, \"pop\": 126699784, \"life_expect\": 82.0, \"fertility\": 1.291}, {\"year\": 2000, \"country\": \"Kenya\", \"cluster\": 2, \"pop\": 29985839, \"life_expect\": 50.992, \"fertility\": 5.0}, {\"year\": 2000, \"country\": \"South Korea\", \"cluster\": 4, \"pop\": 21647682, \"life_expect\": 66.662, \"fertility\": 1.9173}, {\"year\": 2000, \"country\": \"North Korea\", \"cluster\": 4, \"pop\": 47351083, \"life_expect\": 77.045, \"fertility\": 1.242}, {\"year\": 2000, \"country\": \"Lebanon\", \"cluster\": 5, \"pop\": 3578036, \"life_expect\": 71.028, \"fertility\": 2.319}, {\"year\": 2000, \"country\": \"Mexico\", \"cluster\": 3, \"pop\": 99926620, \"life_expect\": 74.902, \"fertility\": 2.4005}, {\"year\": 2000, \"country\": \"Netherlands\", \"cluster\": 1, \"pop\": 15907853, \"life_expect\": 78.53, \"fertility\": 1.726}, {\"year\": 2000, \"country\": \"New Zealand\", \"cluster\": 4, \"pop\": 3819762, \"life_expect\": 79.11, \"fertility\": 1.964}, {\"year\": 2000, \"country\": \"Nigeria\", \"cluster\": 2, \"pop\": 114306700, \"life_expect\": 46.608, \"fertility\": 5.845}, {\"year\": 2000, \"country\": \"Norway\", \"cluster\": 1, \"pop\": 4492400, \"life_expect\": 79.05, \"fertility\": 1.8010000000000002}, {\"year\": 2000, \"country\": \"Pakistan\", \"cluster\": 0, \"pop\": 146342958, \"life_expect\": 63.61, \"fertility\": 3.9936}, {\"year\": 2000, \"country\": \"Peru\", \"cluster\": 3, \"pop\": 25979722, \"life_expect\": 69.906, \"fertility\": 2.7005}, {\"year\": 2000, \"country\": \"Philippines\", \"cluster\": 4, \"pop\": 79739825, \"life_expect\": 70.303, \"fertility\": 3.5436}, {\"year\": 2000, \"country\": \"Poland\", \"cluster\": 1, \"pop\": 38654164, \"life_expect\": 74.67, \"fertility\": 1.251}, {\"year\": 2000, \"country\": \"Portugal\", \"cluster\": 1, \"pop\": 10335597, \"life_expect\": 77.29, \"fertility\": 1.454}, {\"year\": 2000, \"country\": \"Rwanda\", \"cluster\": 2, \"pop\": 7507056, \"life_expect\": 43.413, \"fertility\": 6.01}, {\"year\": 2000, \"country\": \"Saudi Arabia\", \"cluster\": 5, \"pop\": 23153090, \"life_expect\": 71.626, \"fertility\": 3.81}, {\"year\": 2000, \"country\": \"South Africa\", \"cluster\": 2, \"pop\": 44066197, \"life_expect\": 53.365, \"fertility\": 2.802}, {\"year\": 2000, \"country\": \"Spain\", \"cluster\": 1, \"pop\": 40016081, \"life_expect\": 79.78, \"fertility\": 1.287}, {\"year\": 2000, \"country\": \"Switzerland\", \"cluster\": 1, \"pop\": 7266920, \"life_expect\": 80.62, \"fertility\": 1.415}, {\"year\": 2000, \"country\": \"Turkey\", \"cluster\": 1, \"pop\": 65666677, \"life_expect\": 70.845, \"fertility\": 2.23}, {\"year\": 2000, \"country\": \"United Kingdom\", \"cluster\": 1, \"pop\": 59522468, \"life_expect\": 78.471, \"fertility\": 1.695}, {\"year\": 2000, \"country\": \"United States\", \"cluster\": 3, \"pop\": 282338631, \"life_expect\": 77.31, \"fertility\": 2.038}, {\"year\": 2000, \"country\": \"Venezuela\", \"cluster\": 3, \"pop\": 23542649, \"life_expect\": 72.766, \"fertility\": 2.723}]}}, {\"mode\": \"vega-lite\"});\n",
       "</script>"
      ],
      "text/plain": [
       "alt.Chart(...)"
      ]
     },
     "execution_count": 30,
     "metadata": {},
     "output_type": "execute_result"
    }
   ],
   "source": [
    "alt.Chart(data2000).mark_bar().encode(\n",
    "    alt.X('min(life_expect):Q'),\n",
    "    alt.X2('max(life_expect):Q'),\n",
    "    alt.Y('cluster:N')\n",
    ")"
   ]
  },
  {
   "cell_type": "markdown",
   "metadata": {
    "colab_type": "text",
    "id": "bTnEQk1NcD7y"
   },
   "source": [
    "### Line Marks\n",
    "\n",
    "The `line` mark type connects plotted points with line segments, for example so that a line's slope conveys information about the rate of change.\n",
    "\n",
    "Let's plot a line chart of fertility per country over the years, using the full, unfiltered global development data frame. We'll again hide the legend and use tooltips instead.\n"
   ]
  },
  {
   "cell_type": "code",
   "execution_count": 32,
   "metadata": {
    "colab": {
     "base_uri": "https://localhost:8080/",
     "height": 385
    },
    "colab_type": "code",
    "id": "lTWmDwv1Jhzt",
    "outputId": "7bbd15a9-4b8f-4f66-fe7e-6a55f2c38449"
   },
   "outputs": [
    {
     "data": {
      "text/html": [
       "\n",
       "<div id=\"altair-viz-67f9e774f4924e21aab7404e18a36b07\"></div>\n",
       "<script type=\"text/javascript\">\n",
       "  (function(spec, embedOpt){\n",
       "    let outputDiv = document.currentScript.previousElementSibling;\n",
       "    if (outputDiv.id !== \"altair-viz-67f9e774f4924e21aab7404e18a36b07\") {\n",
       "      outputDiv = document.getElementById(\"altair-viz-67f9e774f4924e21aab7404e18a36b07\");\n",
       "    }\n",
       "    const paths = {\n",
       "      \"vega\": \"https://cdn.jsdelivr.net/npm//vega@5?noext\",\n",
       "      \"vega-lib\": \"https://cdn.jsdelivr.net/npm//vega-lib?noext\",\n",
       "      \"vega-lite\": \"https://cdn.jsdelivr.net/npm//vega-lite@4.8.1?noext\",\n",
       "      \"vega-embed\": \"https://cdn.jsdelivr.net/npm//vega-embed@6?noext\",\n",
       "    };\n",
       "\n",
       "    function loadScript(lib) {\n",
       "      return new Promise(function(resolve, reject) {\n",
       "        var s = document.createElement('script');\n",
       "        s.src = paths[lib];\n",
       "        s.async = true;\n",
       "        s.onload = () => resolve(paths[lib]);\n",
       "        s.onerror = () => reject(`Error loading script: ${paths[lib]}`);\n",
       "        document.getElementsByTagName(\"head\")[0].appendChild(s);\n",
       "      });\n",
       "    }\n",
       "\n",
       "    function showError(err) {\n",
       "      outputDiv.innerHTML = `<div class=\"error\" style=\"color:red;\">${err}</div>`;\n",
       "      throw err;\n",
       "    }\n",
       "\n",
       "    function displayChart(vegaEmbed) {\n",
       "      vegaEmbed(outputDiv, spec, embedOpt)\n",
       "        .catch(err => showError(`Javascript Error: ${err.message}<br>This usually means there's a typo in your chart specification. See the javascript console for the full traceback.`));\n",
       "    }\n",
       "\n",
       "    if(typeof define === \"function\" && define.amd) {\n",
       "      requirejs.config({paths});\n",
       "      require([\"vega-embed\"], displayChart, err => showError(`Error loading script: ${err.message}`));\n",
       "    } else if (typeof vegaEmbed === \"function\") {\n",
       "      displayChart(vegaEmbed);\n",
       "    } else {\n",
       "      loadScript(\"vega\")\n",
       "        .then(() => loadScript(\"vega-lite\"))\n",
       "        .then(() => loadScript(\"vega-embed\"))\n",
       "        .catch(showError)\n",
       "        .then(() => displayChart(vegaEmbed));\n",
       "    }\n",
       "  })({\"config\": {\"view\": {\"continuousWidth\": 400, \"continuousHeight\": 300}}, \"data\": {\"name\": \"data-89be1acdd14c7effd56f4dd0fabf92c3\"}, \"mark\": \"line\", \"encoding\": {\"color\": {\"type\": \"nominal\", \"field\": \"country\", \"legend\": null}, \"tooltip\": {\"type\": \"nominal\", \"field\": \"country\"}, \"x\": {\"type\": \"ordinal\", \"field\": \"year\"}, \"y\": {\"type\": \"quantitative\", \"field\": \"fertility\"}}, \"width\": 400, \"$schema\": \"https://vega.github.io/schema/vega-lite/v4.8.1.json\", \"datasets\": {\"data-89be1acdd14c7effd56f4dd0fabf92c3\": [{\"year\": 1955, \"country\": \"Afghanistan\", \"cluster\": 0, \"pop\": 8891209, \"life_expect\": 30.332, \"fertility\": 7.7}, {\"year\": 1960, \"country\": \"Afghanistan\", \"cluster\": 0, \"pop\": 9829450, \"life_expect\": 31.997, \"fertility\": 7.7}, {\"year\": 1965, \"country\": \"Afghanistan\", \"cluster\": 0, \"pop\": 10997885, \"life_expect\": 34.02, \"fertility\": 7.7}, {\"year\": 1970, \"country\": \"Afghanistan\", \"cluster\": 0, \"pop\": 12430623, \"life_expect\": 36.088, \"fertility\": 7.7}, {\"year\": 1975, \"country\": \"Afghanistan\", \"cluster\": 0, \"pop\": 14132019, \"life_expect\": 38.438, \"fertility\": 7.7}, {\"year\": 1980, \"country\": \"Afghanistan\", \"cluster\": 0, \"pop\": 15112149, \"life_expect\": 39.854, \"fertility\": 7.8}, {\"year\": 1985, \"country\": \"Afghanistan\", \"cluster\": 0, \"pop\": 13796928, \"life_expect\": 40.822, \"fertility\": 7.9}, {\"year\": 1990, \"country\": \"Afghanistan\", \"cluster\": 0, \"pop\": 14669339, \"life_expect\": 41.674, \"fertility\": 8.0}, {\"year\": 1995, \"country\": \"Afghanistan\", \"cluster\": 0, \"pop\": 20881480, \"life_expect\": 41.763, \"fertility\": 8.0}, {\"year\": 2000, \"country\": \"Afghanistan\", \"cluster\": 0, \"pop\": 23898198, \"life_expect\": 42.129, \"fertility\": 7.4792}, {\"year\": 2005, \"country\": \"Afghanistan\", \"cluster\": 0, \"pop\": 29928987, \"life_expect\": 43.828, \"fertility\": 7.0685}, {\"year\": 1955, \"country\": \"Argentina\", \"cluster\": 3, \"pop\": 18927821, \"life_expect\": 64.399, \"fertility\": 3.1265}, {\"year\": 1960, \"country\": \"Argentina\", \"cluster\": 3, \"pop\": 20616009, \"life_expect\": 65.142, \"fertility\": 3.0895}, {\"year\": 1965, \"country\": \"Argentina\", \"cluster\": 3, \"pop\": 22283100, \"life_expect\": 65.634, \"fertility\": 3.049}, {\"year\": 1970, \"country\": \"Argentina\", \"cluster\": 3, \"pop\": 23962313, \"life_expect\": 67.065, \"fertility\": 3.1455}, {\"year\": 1975, \"country\": \"Argentina\", \"cluster\": 3, \"pop\": 26081880, \"life_expect\": 68.481, \"fertility\": 3.44}, {\"year\": 1980, \"country\": \"Argentina\", \"cluster\": 3, \"pop\": 28369799, \"life_expect\": 69.942, \"fertility\": 3.15}, {\"year\": 1985, \"country\": \"Argentina\", \"cluster\": 3, \"pop\": 30675059, \"life_expect\": 70.774, \"fertility\": 3.053}, {\"year\": 1990, \"country\": \"Argentina\", \"cluster\": 3, \"pop\": 33022202, \"life_expect\": 71.868, \"fertility\": 2.9}, {\"year\": 1995, \"country\": \"Argentina\", \"cluster\": 3, \"pop\": 35311049, \"life_expect\": 73.275, \"fertility\": 2.63}, {\"year\": 2000, \"country\": \"Argentina\", \"cluster\": 3, \"pop\": 37497728, \"life_expect\": 74.34, \"fertility\": 2.35}, {\"year\": 2005, \"country\": \"Argentina\", \"cluster\": 3, \"pop\": 39537943, \"life_expect\": 75.32, \"fertility\": 2.254}, {\"year\": 1955, \"country\": \"Aruba\", \"cluster\": 3, \"pop\": 53865, \"life_expect\": 64.381, \"fertility\": 5.15}, {\"year\": 1960, \"country\": \"Aruba\", \"cluster\": 3, \"pop\": 57203, \"life_expect\": 66.606, \"fertility\": 4.399}, {\"year\": 1965, \"country\": \"Aruba\", \"cluster\": 3, \"pop\": 59020, \"life_expect\": 68.336, \"fertility\": 3.301}, {\"year\": 1970, \"country\": \"Aruba\", \"cluster\": 3, \"pop\": 59039, \"life_expect\": 70.941, \"fertility\": 2.651}, {\"year\": 1975, \"country\": \"Aruba\", \"cluster\": 3, \"pop\": 59390, \"life_expect\": 71.83, \"fertility\": 2.45}, {\"year\": 1980, \"country\": \"Aruba\", \"cluster\": 3, \"pop\": 60266, \"life_expect\": 74.116, \"fertility\": 2.358}, {\"year\": 1985, \"country\": \"Aruba\", \"cluster\": 3, \"pop\": 64129, \"life_expect\": 74.494, \"fertility\": 2.3}, {\"year\": 1990, \"country\": \"Aruba\", \"cluster\": 3, \"pop\": 66653, \"life_expect\": 74.108, \"fertility\": 2.2800000000000002}, {\"year\": 1995, \"country\": \"Aruba\", \"cluster\": 3, \"pop\": 67836, \"life_expect\": 73.011, \"fertility\": 2.208}, {\"year\": 2000, \"country\": \"Aruba\", \"cluster\": 3, \"pop\": 69539, \"life_expect\": 73.451, \"fertility\": 2.124}, {\"year\": 2005, \"country\": \"Aruba\", \"cluster\": 3, \"pop\": 71566, \"life_expect\": 74.239, \"fertility\": 2.04}, {\"year\": 1955, \"country\": \"Australia\", \"cluster\": 4, \"pop\": 9277087, \"life_expect\": 70.33, \"fertility\": 3.406}, {\"year\": 1960, \"country\": \"Australia\", \"cluster\": 4, \"pop\": 10361273, \"life_expect\": 70.93, \"fertility\": 3.274}, {\"year\": 1965, \"country\": \"Australia\", \"cluster\": 4, \"pop\": 11439384, \"life_expect\": 71.1, \"fertility\": 2.871}, {\"year\": 1970, \"country\": \"Australia\", \"cluster\": 4, \"pop\": 12660160, \"life_expect\": 71.93, \"fertility\": 2.535}, {\"year\": 1975, \"country\": \"Australia\", \"cluster\": 4, \"pop\": 13771400, \"life_expect\": 73.49, \"fertility\": 1.9889999999999999}, {\"year\": 1980, \"country\": \"Australia\", \"cluster\": 4, \"pop\": 14615900, \"life_expect\": 74.74, \"fertility\": 1.907}, {\"year\": 1985, \"country\": \"Australia\", \"cluster\": 4, \"pop\": 15788300, \"life_expect\": 76.32, \"fertility\": 1.859}, {\"year\": 1990, \"country\": \"Australia\", \"cluster\": 4, \"pop\": 17022133, \"life_expect\": 77.56, \"fertility\": 1.8599999999999999}, {\"year\": 1995, \"country\": \"Australia\", \"cluster\": 4, \"pop\": 18116171, \"life_expect\": 78.83, \"fertility\": 1.776}, {\"year\": 2000, \"country\": \"Australia\", \"cluster\": 4, \"pop\": 19164620, \"life_expect\": 80.37, \"fertility\": 1.756}, {\"year\": 2005, \"country\": \"Australia\", \"cluster\": 4, \"pop\": 20090437, \"life_expect\": 81.235, \"fertility\": 1.788}, {\"year\": 1955, \"country\": \"Austria\", \"cluster\": 1, \"pop\": 6946885, \"life_expect\": 67.48, \"fertility\": 2.52}, {\"year\": 1960, \"country\": \"Austria\", \"cluster\": 1, \"pop\": 7047437, \"life_expect\": 69.54, \"fertility\": 2.7800000000000002}, {\"year\": 1965, \"country\": \"Austria\", \"cluster\": 1, \"pop\": 7270889, \"life_expect\": 70.14, \"fertility\": 2.5300000000000002}, {\"year\": 1970, \"country\": \"Austria\", \"cluster\": 1, \"pop\": 7467086, \"life_expect\": 70.63, \"fertility\": 2.02}, {\"year\": 1975, \"country\": \"Austria\", \"cluster\": 1, \"pop\": 7578903, \"life_expect\": 72.17, \"fertility\": 1.6400000000000001}, {\"year\": 1980, \"country\": \"Austria\", \"cluster\": 1, \"pop\": 7549433, \"life_expect\": 73.18, \"fertility\": 1.62}, {\"year\": 1985, \"country\": \"Austria\", \"cluster\": 1, \"pop\": 7559776, \"life_expect\": 74.94, \"fertility\": 1.45}, {\"year\": 1990, \"country\": \"Austria\", \"cluster\": 1, \"pop\": 7722953, \"life_expect\": 76.04, \"fertility\": 1.47}, {\"year\": 1995, \"country\": \"Austria\", \"cluster\": 1, \"pop\": 8047433, \"life_expect\": 77.51, \"fertility\": 1.388}, {\"year\": 2000, \"country\": \"Austria\", \"cluster\": 1, \"pop\": 8113413, \"life_expect\": 78.98, \"fertility\": 1.3820000000000001}, {\"year\": 2005, \"country\": \"Austria\", \"cluster\": 1, \"pop\": 8184691, \"life_expect\": 79.829, \"fertility\": 1.42}, {\"year\": 1955, \"country\": \"Bahamas\", \"cluster\": 3, \"pop\": 87138, \"life_expect\": 62.405, \"fertility\": 4.305}, {\"year\": 1960, \"country\": \"Bahamas\", \"cluster\": 3, \"pop\": 112234, \"life_expect\": 64.209, \"fertility\": 4.503}, {\"year\": 1965, \"country\": \"Bahamas\", \"cluster\": 3, \"pop\": 139205, \"life_expect\": 65.795, \"fertility\": 3.794}, {\"year\": 1970, \"country\": \"Bahamas\", \"cluster\": 3, \"pop\": 170323, \"life_expect\": 66.515, \"fertility\": 3.444}, {\"year\": 1975, \"country\": \"Bahamas\", \"cluster\": 3, \"pop\": 189139, \"life_expect\": 67.199, \"fertility\": 3.221}, {\"year\": 1980, \"country\": \"Bahamas\", \"cluster\": 3, \"pop\": 209944, \"life_expect\": 67.874, \"fertility\": 3.16}, {\"year\": 1985, \"country\": \"Bahamas\", \"cluster\": 3, \"pop\": 234988, \"life_expect\": 69.524, \"fertility\": 2.62}, {\"year\": 1990, \"country\": \"Bahamas\", \"cluster\": 3, \"pop\": 257253, \"life_expect\": 69.171, \"fertility\": 2.6}, {\"year\": 1995, \"country\": \"Bahamas\", \"cluster\": 3, \"pop\": 275303, \"life_expect\": 68.472, \"fertility\": 2.4}, {\"year\": 2000, \"country\": \"Bahamas\", \"cluster\": 3, \"pop\": 290075, \"life_expect\": 71.068, \"fertility\": 2.1111}, {\"year\": 2005, \"country\": \"Bahamas\", \"cluster\": 3, \"pop\": 301790, \"life_expect\": 73.495, \"fertility\": 2.0221}, {\"year\": 1955, \"country\": \"Bangladesh\", \"cluster\": 0, \"pop\": 49601520, \"life_expect\": 39.348, \"fertility\": 6.76}, {\"year\": 1960, \"country\": \"Bangladesh\", \"cluster\": 0, \"pop\": 54621538, \"life_expect\": 41.216, \"fertility\": 6.85}, {\"year\": 1965, \"country\": \"Bangladesh\", \"cluster\": 0, \"pop\": 60332117, \"life_expect\": 43.453, \"fertility\": 6.6}, {\"year\": 1970, \"country\": \"Bangladesh\", \"cluster\": 0, \"pop\": 67402621, \"life_expect\": 45.252, \"fertility\": 6.15}, {\"year\": 1975, \"country\": \"Bangladesh\", \"cluster\": 0, \"pop\": 76253310, \"life_expect\": 46.923, \"fertility\": 5.6}, {\"year\": 1980, \"country\": \"Bangladesh\", \"cluster\": 0, \"pop\": 88076996, \"life_expect\": 50.009, \"fertility\": 5.25}, {\"year\": 1985, \"country\": \"Bangladesh\", \"cluster\": 0, \"pop\": 99752733, \"life_expect\": 52.819, \"fertility\": 4.629}, {\"year\": 1990, \"country\": \"Bangladesh\", \"cluster\": 0, \"pop\": 109896945, \"life_expect\": 56.018, \"fertility\": 4.117}, {\"year\": 1995, \"country\": \"Bangladesh\", \"cluster\": 0, \"pop\": 119186448, \"life_expect\": 59.412, \"fertility\": 3.5042999999999997}, {\"year\": 2000, \"country\": \"Bangladesh\", \"cluster\": 0, \"pop\": 130406594, \"life_expect\": 62.013, \"fertility\": 3.224}, {\"year\": 2005, \"country\": \"Bangladesh\", \"cluster\": 0, \"pop\": 144319628, \"life_expect\": 64.062, \"fertility\": 2.826}, {\"year\": 1955, \"country\": \"Barbados\", \"cluster\": 3, \"pop\": 227255, \"life_expect\": 62.57, \"fertility\": 4.67}, {\"year\": 1960, \"country\": \"Barbados\", \"cluster\": 3, \"pop\": 232339, \"life_expect\": 65.87, \"fertility\": 4.26}, {\"year\": 1965, \"country\": \"Barbados\", \"cluster\": 3, \"pop\": 234980, \"life_expect\": 67.62, \"fertility\": 3.45}, {\"year\": 1970, \"country\": \"Barbados\", \"cluster\": 3, \"pop\": 238756, \"life_expect\": 69.42, \"fertility\": 2.74}, {\"year\": 1975, \"country\": \"Barbados\", \"cluster\": 3, \"pop\": 247147, \"life_expect\": 71.27, \"fertility\": 2.19}, {\"year\": 1980, \"country\": \"Barbados\", \"cluster\": 3, \"pop\": 251966, \"life_expect\": 72.695, \"fertility\": 1.92}, {\"year\": 1985, \"country\": \"Barbados\", \"cluster\": 3, \"pop\": 257446, \"life_expect\": 74.027, \"fertility\": 1.75}, {\"year\": 1990, \"country\": \"Barbados\", \"cluster\": 3, \"pop\": 262624, \"life_expect\": 74.894, \"fertility\": 1.6}, {\"year\": 1995, \"country\": \"Barbados\", \"cluster\": 3, \"pop\": 267907, \"life_expect\": 74.912, \"fertility\": 1.5}, {\"year\": 2000, \"country\": \"Barbados\", \"cluster\": 3, \"pop\": 273483, \"life_expect\": 75.97, \"fertility\": 1.5}, {\"year\": 2005, \"country\": \"Barbados\", \"cluster\": 3, \"pop\": 278870, \"life_expect\": 77.296, \"fertility\": 1.5}, {\"year\": 1955, \"country\": \"Belgium\", \"cluster\": 1, \"pop\": 8868475, \"life_expect\": 69.24, \"fertility\": 2.496}, {\"year\": 1960, \"country\": \"Belgium\", \"cluster\": 1, \"pop\": 9118700, \"life_expect\": 70.25, \"fertility\": 2.644}, {\"year\": 1965, \"country\": \"Belgium\", \"cluster\": 1, \"pop\": 9448100, \"life_expect\": 70.94, \"fertility\": 2.392}, {\"year\": 1970, \"country\": \"Belgium\", \"cluster\": 1, \"pop\": 9637800, \"life_expect\": 71.44, \"fertility\": 2.015}, {\"year\": 1975, \"country\": \"Belgium\", \"cluster\": 1, \"pop\": 9794800, \"life_expect\": 72.8, \"fertility\": 1.705}, {\"year\": 1980, \"country\": \"Belgium\", \"cluster\": 1, \"pop\": 9846800, \"life_expect\": 73.93, \"fertility\": 1.595}, {\"year\": 1985, \"country\": \"Belgium\", \"cluster\": 1, \"pop\": 9858200, \"life_expect\": 75.35, \"fertility\": 1.5590000000000002}, {\"year\": 1990, \"country\": \"Belgium\", \"cluster\": 1, \"pop\": 9969310, \"life_expect\": 76.46, \"fertility\": 1.613}, {\"year\": 1995, \"country\": \"Belgium\", \"cluster\": 1, \"pop\": 10155459, \"life_expect\": 77.53, \"fertility\": 1.604}, {\"year\": 2000, \"country\": \"Belgium\", \"cluster\": 1, \"pop\": 10263618, \"life_expect\": 78.32, \"fertility\": 1.638}, {\"year\": 2005, \"country\": \"Belgium\", \"cluster\": 1, \"pop\": 10364388, \"life_expect\": 79.441, \"fertility\": 1.646}, {\"year\": 1955, \"country\": \"Bolivia\", \"cluster\": 3, \"pop\": 3074311, \"life_expect\": 41.89, \"fertility\": 6.75}, {\"year\": 1960, \"country\": \"Bolivia\", \"cluster\": 3, \"pop\": 3434073, \"life_expect\": 43.428, \"fertility\": 6.63}, {\"year\": 1965, \"country\": \"Bolivia\", \"cluster\": 3, \"pop\": 3853315, \"life_expect\": 45.032, \"fertility\": 6.5600000000000005}, {\"year\": 1970, \"country\": \"Bolivia\", \"cluster\": 3, \"pop\": 4346218, \"life_expect\": 46.714, \"fertility\": 6.5}, {\"year\": 1975, \"country\": \"Bolivia\", \"cluster\": 3, \"pop\": 4914316, \"life_expect\": 50.023, \"fertility\": 5.8}, {\"year\": 1980, \"country\": \"Bolivia\", \"cluster\": 3, \"pop\": 5441298, \"life_expect\": 53.859, \"fertility\": 5.2995}, {\"year\": 1985, \"country\": \"Bolivia\", \"cluster\": 3, \"pop\": 5934935, \"life_expect\": 57.251, \"fertility\": 5.0}, {\"year\": 1990, \"country\": \"Bolivia\", \"cluster\": 3, \"pop\": 6573900, \"life_expect\": 59.957, \"fertility\": 4.8}, {\"year\": 1995, \"country\": \"Bolivia\", \"cluster\": 3, \"pop\": 7376582, \"life_expect\": 62.05, \"fertility\": 4.324}, {\"year\": 2000, \"country\": \"Bolivia\", \"cluster\": 3, \"pop\": 8152620, \"life_expect\": 63.883, \"fertility\": 3.9585}, {\"year\": 2005, \"country\": \"Bolivia\", \"cluster\": 3, \"pop\": 8857870, \"life_expect\": 65.554, \"fertility\": 3.5}, {\"year\": 1955, \"country\": \"Brazil\", \"cluster\": 3, \"pop\": 61773546, \"life_expect\": 53.285, \"fertility\": 6.1501}, {\"year\": 1960, \"country\": \"Brazil\", \"cluster\": 3, \"pop\": 71694810, \"life_expect\": 55.665, \"fertility\": 6.1501}, {\"year\": 1965, \"country\": \"Brazil\", \"cluster\": 3, \"pop\": 83092908, \"life_expect\": 57.632, \"fertility\": 5.38}, {\"year\": 1970, \"country\": \"Brazil\", \"cluster\": 3, \"pop\": 95684297, \"life_expect\": 59.504, \"fertility\": 4.7175}, {\"year\": 1975, \"country\": \"Brazil\", \"cluster\": 3, \"pop\": 108823732, \"life_expect\": 61.489, \"fertility\": 4.305}, {\"year\": 1980, \"country\": \"Brazil\", \"cluster\": 3, \"pop\": 122958132, \"life_expect\": 63.336, \"fertility\": 3.8}, {\"year\": 1985, \"country\": \"Brazil\", \"cluster\": 3, \"pop\": 137302933, \"life_expect\": 65.205, \"fertility\": 3.1}, {\"year\": 1990, \"country\": \"Brazil\", \"cluster\": 3, \"pop\": 151083809, \"life_expect\": 67.057, \"fertility\": 2.6}, {\"year\": 1995, \"country\": \"Brazil\", \"cluster\": 3, \"pop\": 163542501, \"life_expect\": 69.388, \"fertility\": 2.45}, {\"year\": 2000, \"country\": \"Brazil\", \"cluster\": 3, \"pop\": 175552771, \"life_expect\": 71.006, \"fertility\": 2.345}, {\"year\": 2005, \"country\": \"Brazil\", \"cluster\": 3, \"pop\": 186112794, \"life_expect\": 72.39, \"fertility\": 2.245}, {\"year\": 1955, \"country\": \"Canada\", \"cluster\": 3, \"pop\": 16050356, \"life_expect\": 69.96, \"fertility\": 3.882}, {\"year\": 1960, \"country\": \"Canada\", \"cluster\": 3, \"pop\": 18266765, \"life_expect\": 71.3, \"fertility\": 3.675}, {\"year\": 1965, \"country\": \"Canada\", \"cluster\": 3, \"pop\": 20071104, \"life_expect\": 72.13, \"fertility\": 2.61}, {\"year\": 1970, \"country\": \"Canada\", \"cluster\": 3, \"pop\": 21749986, \"life_expect\": 72.88, \"fertility\": 1.976}, {\"year\": 1975, \"country\": \"Canada\", \"cluster\": 3, \"pop\": 23209200, \"life_expect\": 74.21, \"fertility\": 1.734}, {\"year\": 1980, \"country\": \"Canada\", \"cluster\": 3, \"pop\": 24593300, \"life_expect\": 75.76, \"fertility\": 1.634}, {\"year\": 1985, \"country\": \"Canada\", \"cluster\": 3, \"pop\": 25941600, \"life_expect\": 76.86, \"fertility\": 1.616}, {\"year\": 1990, \"country\": \"Canada\", \"cluster\": 3, \"pop\": 27790600, \"life_expect\": 77.95, \"fertility\": 1.694}, {\"year\": 1995, \"country\": \"Canada\", \"cluster\": 3, \"pop\": 29619002, \"life_expect\": 78.61, \"fertility\": 1.564}, {\"year\": 2000, \"country\": \"Canada\", \"cluster\": 3, \"pop\": 31278097, \"life_expect\": 79.77, \"fertility\": 1.522}, {\"year\": 2005, \"country\": \"Canada\", \"cluster\": 3, \"pop\": 32805041, \"life_expect\": 80.653, \"fertility\": 1.5270000000000001}, {\"year\": 1955, \"country\": \"Chile\", \"cluster\": 3, \"pop\": 6743269, \"life_expect\": 56.074, \"fertility\": 5.486}, {\"year\": 1960, \"country\": \"Chile\", \"cluster\": 3, \"pop\": 7585349, \"life_expect\": 57.924, \"fertility\": 5.4385}, {\"year\": 1965, \"country\": \"Chile\", \"cluster\": 3, \"pop\": 8509950, \"life_expect\": 60.523, \"fertility\": 4.4405}, {\"year\": 1970, \"country\": \"Chile\", \"cluster\": 3, \"pop\": 9368558, \"life_expect\": 63.441, \"fertility\": 3.63}, {\"year\": 1975, \"country\": \"Chile\", \"cluster\": 3, \"pop\": 10251542, \"life_expect\": 67.052, \"fertility\": 2.803}, {\"year\": 1980, \"country\": \"Chile\", \"cluster\": 3, \"pop\": 11093718, \"life_expect\": 70.565, \"fertility\": 2.6710000000000003}, {\"year\": 1985, \"country\": \"Chile\", \"cluster\": 3, \"pop\": 12066701, \"life_expect\": 72.492, \"fertility\": 2.65}, {\"year\": 1990, \"country\": \"Chile\", \"cluster\": 3, \"pop\": 13127760, \"life_expect\": 74.126, \"fertility\": 2.55}, {\"year\": 1995, \"country\": \"Chile\", \"cluster\": 3, \"pop\": 14205449, \"life_expect\": 75.816, \"fertility\": 2.21}, {\"year\": 2000, \"country\": \"Chile\", \"cluster\": 3, \"pop\": 15153450, \"life_expect\": 77.86, \"fertility\": 2.0}, {\"year\": 2005, \"country\": \"Chile\", \"cluster\": 3, \"pop\": 15980912, \"life_expect\": 78.553, \"fertility\": 1.944}, {\"year\": 1955, \"country\": \"China\", \"cluster\": 4, \"pop\": 608655000, \"life_expect\": 50.54896, \"fertility\": 5.59}, {\"year\": 1960, \"country\": \"China\", \"cluster\": 4, \"pop\": 667070000, \"life_expect\": 44.50136, \"fertility\": 5.72}, {\"year\": 1965, \"country\": \"China\", \"cluster\": 4, \"pop\": 715185000, \"life_expect\": 58.38112, \"fertility\": 6.06}, {\"year\": 1970, \"country\": \"China\", \"cluster\": 4, \"pop\": 818315000, \"life_expect\": 63.11888, \"fertility\": 4.86}, {\"year\": 1975, \"country\": \"China\", \"cluster\": 4, \"pop\": 916395000, \"life_expect\": 63.96736, \"fertility\": 3.32}, {\"year\": 1980, \"country\": \"China\", \"cluster\": 4, \"pop\": 981235000, \"life_expect\": 65.525, \"fertility\": 2.55}, {\"year\": 1985, \"country\": \"China\", \"cluster\": 4, \"pop\": 1051040000, \"life_expect\": 67.274, \"fertility\": 2.46}, {\"year\": 1990, \"country\": \"China\", \"cluster\": 4, \"pop\": 1135185000, \"life_expect\": 68.69, \"fertility\": 1.92}, {\"year\": 1995, \"country\": \"China\", \"cluster\": 4, \"pop\": 1204855000, \"life_expect\": 70.426, \"fertility\": 1.7810000000000001}, {\"year\": 2000, \"country\": \"China\", \"cluster\": 4, \"pop\": 1262645000, \"life_expect\": 72.028, \"fertility\": 1.7000000000000002}, {\"year\": 2005, \"country\": \"China\", \"cluster\": 4, \"pop\": 1303182268, \"life_expect\": 72.961, \"fertility\": 1.725}, {\"year\": 1955, \"country\": \"Colombia\", \"cluster\": 3, \"pop\": 13588405, \"life_expect\": 55.118, \"fertility\": 6.76}, {\"year\": 1960, \"country\": \"Colombia\", \"cluster\": 3, \"pop\": 15952727, \"life_expect\": 57.863, \"fertility\": 6.76}, {\"year\": 1965, \"country\": \"Colombia\", \"cluster\": 3, \"pop\": 18646175, \"life_expect\": 59.963, \"fertility\": 6.18}, {\"year\": 1970, \"country\": \"Colombia\", \"cluster\": 3, \"pop\": 21429658, \"life_expect\": 61.623, \"fertility\": 5.0005}, {\"year\": 1975, \"country\": \"Colombia\", \"cluster\": 3, \"pop\": 24114177, \"life_expect\": 63.837, \"fertility\": 4.3385}, {\"year\": 1980, \"country\": \"Colombia\", \"cluster\": 3, \"pop\": 26582811, \"life_expect\": 66.653, \"fertility\": 3.685}, {\"year\": 1985, \"country\": \"Colombia\", \"cluster\": 3, \"pop\": 29678395, \"life_expect\": 67.768, \"fertility\": 3.172}, {\"year\": 1990, \"country\": \"Colombia\", \"cluster\": 3, \"pop\": 32858579, \"life_expect\": 68.421, \"fertility\": 2.93005}, {\"year\": 1995, \"country\": \"Colombia\", \"cluster\": 3, \"pop\": 36280883, \"life_expect\": 70.313, \"fertility\": 2.7}, {\"year\": 2000, \"country\": \"Colombia\", \"cluster\": 3, \"pop\": 39685655, \"life_expect\": 71.682, \"fertility\": 2.4705}, {\"year\": 2005, \"country\": \"Colombia\", \"cluster\": 3, \"pop\": 42954279, \"life_expect\": 72.889, \"fertility\": 2.2205}, {\"year\": 1955, \"country\": \"Costa Rica\", \"cluster\": 3, \"pop\": 1031782, \"life_expect\": 60.026, \"fertility\": 7.1135}, {\"year\": 1960, \"country\": \"Costa Rica\", \"cluster\": 3, \"pop\": 1248022, \"life_expect\": 62.842, \"fertility\": 7.2245}, {\"year\": 1965, \"country\": \"Costa Rica\", \"cluster\": 3, \"pop\": 1487605, \"life_expect\": 65.424, \"fertility\": 5.801}, {\"year\": 1970, \"country\": \"Costa Rica\", \"cluster\": 3, \"pop\": 1735523, \"life_expect\": 67.849, \"fertility\": 4.346}, {\"year\": 1975, \"country\": \"Costa Rica\", \"cluster\": 3, \"pop\": 1991580, \"life_expect\": 70.75, \"fertility\": 3.7755}, {\"year\": 1980, \"country\": \"Costa Rica\", \"cluster\": 3, \"pop\": 2299124, \"life_expect\": 73.45, \"fertility\": 3.527}, {\"year\": 1985, \"country\": \"Costa Rica\", \"cluster\": 3, \"pop\": 2643808, \"life_expect\": 74.752, \"fertility\": 3.374}, {\"year\": 1990, \"country\": \"Costa Rica\", \"cluster\": 3, \"pop\": 3027175, \"life_expect\": 75.713, \"fertility\": 2.9450000000000003}, {\"year\": 1995, \"country\": \"Costa Rica\", \"cluster\": 3, \"pop\": 3383786, \"life_expect\": 77.26, \"fertility\": 2.5835}, {\"year\": 2000, \"country\": \"Costa Rica\", \"cluster\": 3, \"pop\": 3710558, \"life_expect\": 78.123, \"fertility\": 2.2815}, {\"year\": 2005, \"country\": \"Costa Rica\", \"cluster\": 3, \"pop\": 4016173, \"life_expect\": 78.782, \"fertility\": 2.0985}, {\"year\": 1955, \"country\": \"Croatia\", \"cluster\": 1, \"pop\": 3955526, \"life_expect\": 64.77, \"fertility\": 2.42}, {\"year\": 1960, \"country\": \"Croatia\", \"cluster\": 1, \"pop\": 4036145, \"life_expect\": 67.13, \"fertility\": 2.27}, {\"year\": 1965, \"country\": \"Croatia\", \"cluster\": 1, \"pop\": 4133313, \"life_expect\": 68.5, \"fertility\": 2.09}, {\"year\": 1970, \"country\": \"Croatia\", \"cluster\": 1, \"pop\": 4205389, \"life_expect\": 69.61, \"fertility\": 1.96}, {\"year\": 1975, \"country\": \"Croatia\", \"cluster\": 1, \"pop\": 4255000, \"life_expect\": 70.64, \"fertility\": 2.02}, {\"year\": 1980, \"country\": \"Croatia\", \"cluster\": 1, \"pop\": 4383000, \"life_expect\": 70.46, \"fertility\": 1.96}, {\"year\": 1985, \"country\": \"Croatia\", \"cluster\": 1, \"pop\": 4457874, \"life_expect\": 71.52, \"fertility\": 1.8399999999999999}, {\"year\": 1990, \"country\": \"Croatia\", \"cluster\": 1, \"pop\": 4508347, \"life_expect\": 72.527, \"fertility\": 1.52}, {\"year\": 1995, \"country\": \"Croatia\", \"cluster\": 1, \"pop\": 4496683, \"life_expect\": 73.68, \"fertility\": 1.537}, {\"year\": 2000, \"country\": \"Croatia\", \"cluster\": 1, \"pop\": 4410830, \"life_expect\": 74.876, \"fertility\": 1.348}, {\"year\": 2005, \"country\": \"Croatia\", \"cluster\": 1, \"pop\": 4495904, \"life_expect\": 75.748, \"fertility\": 1.346}, {\"year\": 1955, \"country\": \"Cuba\", \"cluster\": 3, \"pop\": 6381106, \"life_expect\": 62.325, \"fertility\": 3.6995}, {\"year\": 1960, \"country\": \"Cuba\", \"cluster\": 3, \"pop\": 7027210, \"life_expect\": 65.246, \"fertility\": 4.6805}, {\"year\": 1965, \"country\": \"Cuba\", \"cluster\": 3, \"pop\": 7809916, \"life_expect\": 68.29, \"fertility\": 4.3}, {\"year\": 1970, \"country\": \"Cuba\", \"cluster\": 3, \"pop\": 8542746, \"life_expect\": 70.723, \"fertility\": 3.6}, {\"year\": 1975, \"country\": \"Cuba\", \"cluster\": 3, \"pop\": 9290074, \"life_expect\": 72.649, \"fertility\": 2.15}, {\"year\": 1980, \"country\": \"Cuba\", \"cluster\": 3, \"pop\": 9652975, \"life_expect\": 73.717, \"fertility\": 1.8495}, {\"year\": 1985, \"country\": \"Cuba\", \"cluster\": 3, \"pop\": 10078658, \"life_expect\": 74.174, \"fertility\": 1.8495}, {\"year\": 1990, \"country\": \"Cuba\", \"cluster\": 3, \"pop\": 10544793, \"life_expect\": 74.414, \"fertility\": 1.6505}, {\"year\": 1995, \"country\": \"Cuba\", \"cluster\": 3, \"pop\": 10896802, \"life_expect\": 76.151, \"fertility\": 1.6095000000000002}, {\"year\": 2000, \"country\": \"Cuba\", \"cluster\": 3, \"pop\": 11134273, \"life_expect\": 77.158, \"fertility\": 1.63}, {\"year\": 2005, \"country\": \"Cuba\", \"cluster\": 3, \"pop\": 11346670, \"life_expect\": 78.273, \"fertility\": 1.49}, {\"year\": 1955, \"country\": \"Dominican Republic\", \"cluster\": 3, \"pop\": 2737257, \"life_expect\": 49.828, \"fertility\": 7.6405}, {\"year\": 1960, \"country\": \"Dominican Republic\", \"cluster\": 3, \"pop\": 3231488, \"life_expect\": 53.459, \"fertility\": 7.3505}, {\"year\": 1965, \"country\": \"Dominican Republic\", \"cluster\": 3, \"pop\": 3805881, \"life_expect\": 56.751, \"fertility\": 6.6495}, {\"year\": 1970, \"country\": \"Dominican Republic\", \"cluster\": 3, \"pop\": 4422755, \"life_expect\": 59.631, \"fertility\": 5.71}, {\"year\": 1975, \"country\": \"Dominican Republic\", \"cluster\": 3, \"pop\": 5048499, \"life_expect\": 61.788, \"fertility\": 4.76}, {\"year\": 1980, \"country\": \"Dominican Republic\", \"cluster\": 3, \"pop\": 5696855, \"life_expect\": 63.727, \"fertility\": 4.0}, {\"year\": 1985, \"country\": \"Dominican Republic\", \"cluster\": 3, \"pop\": 6377765, \"life_expect\": 66.046, \"fertility\": 3.47}, {\"year\": 1990, \"country\": \"Dominican Republic\", \"cluster\": 3, \"pop\": 7077651, \"life_expect\": 68.457, \"fertility\": 3.1995}, {\"year\": 1995, \"country\": \"Dominican Republic\", \"cluster\": 3, \"pop\": 7730224, \"life_expect\": 69.957, \"fertility\": 3.05}, {\"year\": 2000, \"country\": \"Dominican Republic\", \"cluster\": 3, \"pop\": 8385828, \"life_expect\": 70.847, \"fertility\": 2.95}, {\"year\": 2005, \"country\": \"Dominican Republic\", \"cluster\": 3, \"pop\": 9049595, \"life_expect\": 72.235, \"fertility\": 2.81}, {\"year\": 1955, \"country\": \"Ecuador\", \"cluster\": 3, \"pop\": 3842399, \"life_expect\": 51.356, \"fertility\": 6.7}, {\"year\": 1960, \"country\": \"Ecuador\", \"cluster\": 3, \"pop\": 4415956, \"life_expect\": 54.64, \"fertility\": 6.7}, {\"year\": 1965, \"country\": \"Ecuador\", \"cluster\": 3, \"pop\": 5117779, \"life_expect\": 56.678, \"fertility\": 6.5}, {\"year\": 1970, \"country\": \"Ecuador\", \"cluster\": 3, \"pop\": 5939246, \"life_expect\": 58.796, \"fertility\": 6.0005}, {\"year\": 1975, \"country\": \"Ecuador\", \"cluster\": 3, \"pop\": 6871698, \"life_expect\": 61.31, \"fertility\": 5.4005}, {\"year\": 1980, \"country\": \"Ecuador\", \"cluster\": 3, \"pop\": 7920499, \"life_expect\": 64.342, \"fertility\": 4.7005}, {\"year\": 1985, \"country\": \"Ecuador\", \"cluster\": 3, \"pop\": 9061664, \"life_expect\": 67.231, \"fertility\": 4.0}, {\"year\": 1990, \"country\": \"Ecuador\", \"cluster\": 3, \"pop\": 10318036, \"life_expect\": 69.613, \"fertility\": 3.4005}, {\"year\": 1995, \"country\": \"Ecuador\", \"cluster\": 3, \"pop\": 11438004, \"life_expect\": 72.312, \"fertility\": 3.1}, {\"year\": 2000, \"country\": \"Ecuador\", \"cluster\": 3, \"pop\": 12505204, \"life_expect\": 74.173, \"fertility\": 2.8175}, {\"year\": 2005, \"country\": \"Ecuador\", \"cluster\": 3, \"pop\": 13363593, \"life_expect\": 74.994, \"fertility\": 2.578}, {\"year\": 1955, \"country\": \"Egypt\", \"cluster\": 5, \"pop\": 23855527, \"life_expect\": 44.444, \"fertility\": 6.97}, {\"year\": 1960, \"country\": \"Egypt\", \"cluster\": 5, \"pop\": 26846610, \"life_expect\": 46.992, \"fertility\": 7.073}, {\"year\": 1965, \"country\": \"Egypt\", \"cluster\": 5, \"pop\": 30265148, \"life_expect\": 49.293, \"fertility\": 6.5600000000000005}, {\"year\": 1970, \"country\": \"Egypt\", \"cluster\": 5, \"pop\": 33574026, \"life_expect\": 51.137, \"fertility\": 5.855}, {\"year\": 1975, \"country\": \"Egypt\", \"cluster\": 5, \"pop\": 36952499, \"life_expect\": 53.319, \"fertility\": 5.609}, {\"year\": 1980, \"country\": \"Egypt\", \"cluster\": 5, \"pop\": 42634215, \"life_expect\": 56.006, \"fertility\": 5.332}, {\"year\": 1985, \"country\": \"Egypt\", \"cluster\": 5, \"pop\": 50052381, \"life_expect\": 59.797, \"fertility\": 4.833}, {\"year\": 1990, \"country\": \"Egypt\", \"cluster\": 5, \"pop\": 56694413, \"life_expect\": 63.674, \"fertility\": 3.908}, {\"year\": 1995, \"country\": \"Egypt\", \"cluster\": 5, \"pop\": 63321615, \"life_expect\": 67.217, \"fertility\": 3.5}, {\"year\": 2000, \"country\": \"Egypt\", \"cluster\": 5, \"pop\": 70492342, \"life_expect\": 69.806, \"fertility\": 3.174}, {\"year\": 2005, \"country\": \"Egypt\", \"cluster\": 5, \"pop\": 77505756, \"life_expect\": 71.338, \"fertility\": 2.891}, {\"year\": 1955, \"country\": \"El Salvador\", \"cluster\": 3, \"pop\": 2221139, \"life_expect\": 48.57, \"fertility\": 6.8065}, {\"year\": 1960, \"country\": \"El Salvador\", \"cluster\": 3, \"pop\": 2581583, \"life_expect\": 52.307, \"fertility\": 6.8469999999999995}, {\"year\": 1965, \"country\": \"El Salvador\", \"cluster\": 3, \"pop\": 3017852, \"life_expect\": 55.855, \"fertility\": 6.621}, {\"year\": 1970, \"country\": \"El Salvador\", \"cluster\": 3, \"pop\": 3603907, \"life_expect\": 58.207, \"fertility\": 6.0995}, {\"year\": 1975, \"country\": \"El Salvador\", \"cluster\": 3, \"pop\": 4071179, \"life_expect\": 56.696, \"fertility\": 5.5996}, {\"year\": 1980, \"country\": \"El Salvador\", \"cluster\": 3, \"pop\": 4566199, \"life_expect\": 56.604, \"fertility\": 4.5}, {\"year\": 1985, \"country\": \"El Salvador\", \"cluster\": 3, \"pop\": 4664361, \"life_expect\": 63.154, \"fertility\": 3.901}, {\"year\": 1990, \"country\": \"El Salvador\", \"cluster\": 3, \"pop\": 5099884, \"life_expect\": 66.798, \"fertility\": 3.52}, {\"year\": 1995, \"country\": \"El Salvador\", \"cluster\": 3, \"pop\": 5568437, \"life_expect\": 69.535, \"fertility\": 3.17}, {\"year\": 2000, \"country\": \"El Salvador\", \"cluster\": 3, \"pop\": 6122515, \"life_expect\": 70.734, \"fertility\": 2.883}, {\"year\": 2005, \"country\": \"El Salvador\", \"cluster\": 3, \"pop\": 6704932, \"life_expect\": 71.878, \"fertility\": 2.6825}, {\"year\": 1955, \"country\": \"Finland\", \"cluster\": 1, \"pop\": 4234900, \"life_expect\": 67.49, \"fertility\": 2.769}, {\"year\": 1960, \"country\": \"Finland\", \"cluster\": 1, \"pop\": 4429600, \"life_expect\": 68.75, \"fertility\": 2.66}, {\"year\": 1965, \"country\": \"Finland\", \"cluster\": 1, \"pop\": 4563732, \"life_expect\": 69.83, \"fertility\": 2.191}, {\"year\": 1970, \"country\": \"Finland\", \"cluster\": 1, \"pop\": 4606307, \"life_expect\": 70.87, \"fertility\": 1.623}, {\"year\": 1975, \"country\": \"Finland\", \"cluster\": 1, \"pop\": 4711439, \"life_expect\": 72.52, \"fertility\": 1.663}, {\"year\": 1980, \"country\": \"Finland\", \"cluster\": 1, \"pop\": 4779535, \"life_expect\": 74.55, \"fertility\": 1.685}, {\"year\": 1985, \"country\": \"Finland\", \"cluster\": 1, \"pop\": 4901783, \"life_expect\": 74.83, \"fertility\": 1.6600000000000001}, {\"year\": 1990, \"country\": \"Finland\", \"cluster\": 1, \"pop\": 4986431, \"life_expect\": 75.7, \"fertility\": 1.819}, {\"year\": 1995, \"country\": \"Finland\", \"cluster\": 1, \"pop\": 5104654, \"life_expect\": 77.13, \"fertility\": 1.7429999999999999}, {\"year\": 2000, \"country\": \"Finland\", \"cluster\": 1, \"pop\": 5168595, \"life_expect\": 78.37, \"fertility\": 1.754}, {\"year\": 2005, \"country\": \"Finland\", \"cluster\": 1, \"pop\": 5223442, \"life_expect\": 79.313, \"fertility\": 1.8250000000000002}, {\"year\": 1955, \"country\": \"France\", \"cluster\": 1, \"pop\": 43427669, \"life_expect\": 68.93, \"fertility\": 2.7119999999999997}, {\"year\": 1960, \"country\": \"France\", \"cluster\": 1, \"pop\": 45670000, \"life_expect\": 70.51, \"fertility\": 2.85}, {\"year\": 1965, \"country\": \"France\", \"cluster\": 1, \"pop\": 48763000, \"life_expect\": 71.55, \"fertility\": 2.607}, {\"year\": 1970, \"country\": \"France\", \"cluster\": 1, \"pop\": 50787000, \"life_expect\": 72.38, \"fertility\": 2.31}, {\"year\": 1975, \"country\": \"France\", \"cluster\": 1, \"pop\": 52758427, \"life_expect\": 73.83, \"fertility\": 1.862}, {\"year\": 1980, \"country\": \"France\", \"cluster\": 1, \"pop\": 53869743, \"life_expect\": 74.89, \"fertility\": 1.866}, {\"year\": 1985, \"country\": \"France\", \"cluster\": 1, \"pop\": 55171224, \"life_expect\": 76.34, \"fertility\": 1.8050000000000002}, {\"year\": 1990, \"country\": \"France\", \"cluster\": 1, \"pop\": 56735161, \"life_expect\": 77.46, \"fertility\": 1.713}, {\"year\": 1995, \"country\": \"France\", \"cluster\": 1, \"pop\": 58149727, \"life_expect\": 78.64, \"fertility\": 1.7624}, {\"year\": 2000, \"country\": \"France\", \"cluster\": 1, \"pop\": 59381628, \"life_expect\": 79.59, \"fertility\": 1.8833000000000002}, {\"year\": 2005, \"country\": \"France\", \"cluster\": 1, \"pop\": 60656178, \"life_expect\": 80.657, \"fertility\": 1.8916}, {\"year\": 1955, \"country\": \"Georgia\", \"cluster\": 1, \"pop\": 3827154, \"life_expect\": 62.625, \"fertility\": 2.909}, {\"year\": 1960, \"country\": \"Georgia\", \"cluster\": 1, \"pop\": 4146570, \"life_expect\": 64.644, \"fertility\": 2.979}, {\"year\": 1965, \"country\": \"Georgia\", \"cluster\": 1, \"pop\": 4464959, \"life_expect\": 66.654, \"fertility\": 2.6109999999999998}, {\"year\": 1970, \"country\": \"Georgia\", \"cluster\": 1, \"pop\": 4694491, \"life_expect\": 68.158, \"fertility\": 2.601}, {\"year\": 1975, \"country\": \"Georgia\", \"cluster\": 1, \"pop\": 4897656, \"life_expect\": 69.634, \"fertility\": 2.39}, {\"year\": 1980, \"country\": \"Georgia\", \"cluster\": 1, \"pop\": 5045697, \"life_expect\": 69.638, \"fertility\": 2.269}, {\"year\": 1985, \"country\": \"Georgia\", \"cluster\": 1, \"pop\": 5192957, \"life_expect\": 70.45, \"fertility\": 2.263}, {\"year\": 1990, \"country\": \"Georgia\", \"cluster\": 1, \"pop\": 5426207, \"life_expect\": 70.465, \"fertility\": 1.9500000000000002}, {\"year\": 1995, \"country\": \"Georgia\", \"cluster\": 1, \"pop\": 5012952, \"life_expect\": 70.49, \"fertility\": 1.58}, {\"year\": 2000, \"country\": \"Georgia\", \"cluster\": 1, \"pop\": 4777209, \"life_expect\": 70.476, \"fertility\": 1.478}, {\"year\": 2005, \"country\": \"Georgia\", \"cluster\": 1, \"pop\": 4677401, \"life_expect\": 70.987, \"fertility\": 1.407}, {\"year\": 1955, \"country\": \"Germany\", \"cluster\": 1, \"pop\": 70195612, \"life_expect\": 69.1, \"fertility\": 2.3}, {\"year\": 1960, \"country\": \"Germany\", \"cluster\": 1, \"pop\": 72480869, \"life_expect\": 70.3, \"fertility\": 2.49}, {\"year\": 1965, \"country\": \"Germany\", \"cluster\": 1, \"pop\": 75638851, \"life_expect\": 70.8, \"fertility\": 2.32}, {\"year\": 1970, \"country\": \"Germany\", \"cluster\": 1, \"pop\": 77783164, \"life_expect\": 71.0, \"fertility\": 1.6400000000000001}, {\"year\": 1975, \"country\": \"Germany\", \"cluster\": 1, \"pop\": 78682325, \"life_expect\": 72.5, \"fertility\": 1.52}, {\"year\": 1980, \"country\": \"Germany\", \"cluster\": 1, \"pop\": 78297904, \"life_expect\": 73.8, \"fertility\": 1.46}, {\"year\": 1985, \"country\": \"Germany\", \"cluster\": 1, \"pop\": 77684907, \"life_expect\": 74.847, \"fertility\": 1.43}, {\"year\": 1990, \"country\": \"Germany\", \"cluster\": 1, \"pop\": 79380394, \"life_expect\": 76.07, \"fertility\": 1.31}, {\"year\": 1995, \"country\": \"Germany\", \"cluster\": 1, \"pop\": 81653702, \"life_expect\": 77.34, \"fertility\": 1.34}, {\"year\": 2000, \"country\": \"Germany\", \"cluster\": 1, \"pop\": 82187909, \"life_expect\": 78.67, \"fertility\": 1.346}, {\"year\": 2005, \"country\": \"Germany\", \"cluster\": 1, \"pop\": 82431390, \"life_expect\": 79.406, \"fertility\": 1.3599999999999999}, {\"year\": 1955, \"country\": \"Greece\", \"cluster\": 1, \"pop\": 7965538, \"life_expect\": 67.86, \"fertility\": 2.27}, {\"year\": 1960, \"country\": \"Greece\", \"cluster\": 1, \"pop\": 8327405, \"life_expect\": 69.51, \"fertility\": 2.2}, {\"year\": 1965, \"country\": \"Greece\", \"cluster\": 1, \"pop\": 8550333, \"life_expect\": 71.0, \"fertility\": 2.38}, {\"year\": 1970, \"country\": \"Greece\", \"cluster\": 1, \"pop\": 8792806, \"life_expect\": 72.34, \"fertility\": 2.32}, {\"year\": 1975, \"country\": \"Greece\", \"cluster\": 1, \"pop\": 9046542, \"life_expect\": 73.68, \"fertility\": 2.32}, {\"year\": 1980, \"country\": \"Greece\", \"cluster\": 1, \"pop\": 9642505, \"life_expect\": 75.24, \"fertility\": 1.96}, {\"year\": 1985, \"country\": \"Greece\", \"cluster\": 1, \"pop\": 9923253, \"life_expect\": 76.67, \"fertility\": 1.53}, {\"year\": 1990, \"country\": \"Greece\", \"cluster\": 1, \"pop\": 10129603, \"life_expect\": 77.03, \"fertility\": 1.37}, {\"year\": 1995, \"country\": \"Greece\", \"cluster\": 1, \"pop\": 10457554, \"life_expect\": 77.869, \"fertility\": 1.296}, {\"year\": 2000, \"country\": \"Greece\", \"cluster\": 1, \"pop\": 10559110, \"life_expect\": 78.256, \"fertility\": 1.2770000000000001}, {\"year\": 2005, \"country\": \"Greece\", \"cluster\": 1, \"pop\": 10668354, \"life_expect\": 79.483, \"fertility\": 1.325}, {\"year\": 1955, \"country\": \"Grenada\", \"cluster\": 3, \"pop\": 84621, \"life_expect\": 63.114, \"fertility\": 6.7}, {\"year\": 1960, \"country\": \"Grenada\", \"cluster\": 3, \"pop\": 90148, \"life_expect\": 63.608, \"fertility\": 6.4}, {\"year\": 1965, \"country\": \"Grenada\", \"cluster\": 3, \"pop\": 93290, \"life_expect\": 64.091, \"fertility\": 4.8}, {\"year\": 1970, \"country\": \"Grenada\", \"cluster\": 3, \"pop\": 95410, \"life_expect\": 64.577, \"fertility\": 4.6}, {\"year\": 1975, \"country\": \"Grenada\", \"cluster\": 3, \"pop\": 95819, \"life_expect\": 65.035, \"fertility\": 4.3}, {\"year\": 1980, \"country\": \"Grenada\", \"cluster\": 3, \"pop\": 90164, \"life_expect\": 65.503, \"fertility\": 4.23}, {\"year\": 1985, \"country\": \"Grenada\", \"cluster\": 3, \"pop\": 92203, \"life_expect\": 66.002, \"fertility\": 4.14}, {\"year\": 1990, \"country\": \"Grenada\", \"cluster\": 3, \"pop\": 92360, \"life_expect\": 66.469, \"fertility\": 3.26}, {\"year\": 1995, \"country\": \"Grenada\", \"cluster\": 3, \"pop\": 90603, \"life_expect\": 66.986, \"fertility\": 2.814}, {\"year\": 2000, \"country\": \"Grenada\", \"cluster\": 3, \"pop\": 89312, \"life_expect\": 67.746, \"fertility\": 2.429}, {\"year\": 2005, \"country\": \"Grenada\", \"cluster\": 3, \"pop\": 89502, \"life_expect\": 68.724, \"fertility\": 2.302}, {\"year\": 1955, \"country\": \"Haiti\", \"cluster\": 3, \"pop\": 3376419, \"life_expect\": 40.696, \"fertility\": 6.3}, {\"year\": 1960, \"country\": \"Haiti\", \"cluster\": 3, \"pop\": 3722743, \"life_expect\": 43.59, \"fertility\": 6.3}, {\"year\": 1965, \"country\": \"Haiti\", \"cluster\": 3, \"pop\": 4137405, \"life_expect\": 46.243, \"fertility\": 6.0}, {\"year\": 1970, \"country\": \"Haiti\", \"cluster\": 3, \"pop\": 4604915, \"life_expect\": 48.042, \"fertility\": 5.6005}, {\"year\": 1975, \"country\": \"Haiti\", \"cluster\": 3, \"pop\": 4828338, \"life_expect\": 49.923, \"fertility\": 5.8}, {\"year\": 1980, \"country\": \"Haiti\", \"cluster\": 3, \"pop\": 5029725, \"life_expect\": 51.461, \"fertility\": 6.2099}, {\"year\": 1985, \"country\": \"Haiti\", \"cluster\": 3, \"pop\": 5517977, \"life_expect\": 53.636, \"fertility\": 5.69985}, {\"year\": 1990, \"country\": \"Haiti\", \"cluster\": 3, \"pop\": 6126101, \"life_expect\": 55.089, \"fertility\": 5.14985}, {\"year\": 1995, \"country\": \"Haiti\", \"cluster\": 3, \"pop\": 6675578, \"life_expect\": 56.671, \"fertility\": 4.61995}, {\"year\": 2000, \"country\": \"Haiti\", \"cluster\": 3, \"pop\": 7306302, \"life_expect\": 58.137, \"fertility\": 4.0}, {\"year\": 2005, \"country\": \"Haiti\", \"cluster\": 3, \"pop\": 8121622, \"life_expect\": 60.916, \"fertility\": 3.5445}, {\"year\": 1955, \"country\": \"Hong Kong\", \"cluster\": 4, \"pop\": 2490400, \"life_expect\": 64.75, \"fertility\": 4.72}, {\"year\": 1960, \"country\": \"Hong Kong\", \"cluster\": 4, \"pop\": 3075300, \"life_expect\": 67.65, \"fertility\": 5.31}, {\"year\": 1965, \"country\": \"Hong Kong\", \"cluster\": 4, \"pop\": 3597900, \"life_expect\": 70.0, \"fertility\": 4.02}, {\"year\": 1970, \"country\": \"Hong Kong\", \"cluster\": 4, \"pop\": 3959000, \"life_expect\": 72.0, \"fertility\": 2.89}, {\"year\": 1975, \"country\": \"Hong Kong\", \"cluster\": 4, \"pop\": 4395800, \"life_expect\": 73.6, \"fertility\": 2.32}, {\"year\": 1980, \"country\": \"Hong Kong\", \"cluster\": 4, \"pop\": 5063100, \"life_expect\": 75.45, \"fertility\": 1.8}, {\"year\": 1985, \"country\": \"Hong Kong\", \"cluster\": 4, \"pop\": 5456200, \"life_expect\": 76.2, \"fertility\": 1.31}, {\"year\": 1990, \"country\": \"Hong Kong\", \"cluster\": 4, \"pop\": 5687959, \"life_expect\": 77.601, \"fertility\": 1.288}, {\"year\": 1995, \"country\": \"Hong Kong\", \"cluster\": 4, \"pop\": 6225347, \"life_expect\": 80.0, \"fertility\": 1.08}, {\"year\": 2000, \"country\": \"Hong Kong\", \"cluster\": 4, \"pop\": 6658720, \"life_expect\": 81.495, \"fertility\": 0.9400000000000001}, {\"year\": 2005, \"country\": \"Hong Kong\", \"cluster\": 4, \"pop\": 6898686, \"life_expect\": 82.208, \"fertility\": 0.966}, {\"year\": 1955, \"country\": \"Iceland\", \"cluster\": 1, \"pop\": 158044, \"life_expect\": 73.47, \"fertility\": 4.023}, {\"year\": 1960, \"country\": \"Iceland\", \"cluster\": 1, \"pop\": 175860, \"life_expect\": 73.68, \"fertility\": 3.943}, {\"year\": 1965, \"country\": \"Iceland\", \"cluster\": 1, \"pop\": 192288, \"life_expect\": 73.73, \"fertility\": 3.154}, {\"year\": 1970, \"country\": \"Iceland\", \"cluster\": 1, \"pop\": 204104, \"life_expect\": 74.46, \"fertility\": 2.843}, {\"year\": 1975, \"country\": \"Iceland\", \"cluster\": 1, \"pop\": 218031, \"life_expect\": 76.11, \"fertility\": 2.287}, {\"year\": 1980, \"country\": \"Iceland\", \"cluster\": 1, \"pop\": 228161, \"life_expect\": 76.99, \"fertility\": 2.248}, {\"year\": 1985, \"country\": \"Iceland\", \"cluster\": 1, \"pop\": 241403, \"life_expect\": 77.23, \"fertility\": 2.116}, {\"year\": 1990, \"country\": \"Iceland\", \"cluster\": 1, \"pop\": 254719, \"life_expect\": 78.77, \"fertility\": 2.194}, {\"year\": 1995, \"country\": \"Iceland\", \"cluster\": 1, \"pop\": 267527, \"life_expect\": 78.95, \"fertility\": 2.056}, {\"year\": 2000, \"country\": \"Iceland\", \"cluster\": 1, \"pop\": 281043, \"life_expect\": 80.5, \"fertility\": 1.9929999999999999}, {\"year\": 2005, \"country\": \"Iceland\", \"cluster\": 1, \"pop\": 296737, \"life_expect\": 81.757, \"fertility\": 2.052}, {\"year\": 1955, \"country\": \"India\", \"cluster\": 0, \"pop\": 393000000, \"life_expect\": 40.249, \"fertility\": 5.8961}, {\"year\": 1960, \"country\": \"India\", \"cluster\": 0, \"pop\": 434000000, \"life_expect\": 43.605, \"fertility\": 5.8216}, {\"year\": 1965, \"country\": \"India\", \"cluster\": 0, \"pop\": 485000000, \"life_expect\": 47.193, \"fertility\": 5.6058}, {\"year\": 1970, \"country\": \"India\", \"cluster\": 0, \"pop\": 541000000, \"life_expect\": 50.651, \"fertility\": 5.264}, {\"year\": 1975, \"country\": \"India\", \"cluster\": 0, \"pop\": 607000000, \"life_expect\": 54.208, \"fertility\": 4.8888}, {\"year\": 1980, \"country\": \"India\", \"cluster\": 0, \"pop\": 679000000, \"life_expect\": 56.596, \"fertility\": 4.4975}, {\"year\": 1985, \"country\": \"India\", \"cluster\": 0, \"pop\": 755000000, \"life_expect\": 58.553, \"fertility\": 4.15}, {\"year\": 1990, \"country\": \"India\", \"cluster\": 0, \"pop\": 839000000, \"life_expect\": 60.223, \"fertility\": 3.8648}, {\"year\": 1995, \"country\": \"India\", \"cluster\": 0, \"pop\": 927000000, \"life_expect\": 61.765, \"fertility\": 3.4551}, {\"year\": 2000, \"country\": \"India\", \"cluster\": 0, \"pop\": 1007702000, \"life_expect\": 62.879, \"fertility\": 3.1132}, {\"year\": 2005, \"country\": \"India\", \"cluster\": 0, \"pop\": 1080264388, \"life_expect\": 64.698, \"fertility\": 2.8073}, {\"year\": 1955, \"country\": \"Indonesia\", \"cluster\": 4, \"pop\": 86807000, \"life_expect\": 39.918, \"fertility\": 5.672}, {\"year\": 1960, \"country\": \"Indonesia\", \"cluster\": 4, \"pop\": 95254000, \"life_expect\": 42.518, \"fertility\": 5.62}, {\"year\": 1965, \"country\": \"Indonesia\", \"cluster\": 4, \"pop\": 105093000, \"life_expect\": 45.964, \"fertility\": 5.568}, {\"year\": 1970, \"country\": \"Indonesia\", \"cluster\": 4, \"pop\": 116044000, \"life_expect\": 49.203, \"fertility\": 5.3}, {\"year\": 1975, \"country\": \"Indonesia\", \"cluster\": 4, \"pop\": 130297000, \"life_expect\": 52.702, \"fertility\": 4.73}, {\"year\": 1980, \"country\": \"Indonesia\", \"cluster\": 4, \"pop\": 146995000, \"life_expect\": 56.159, \"fertility\": 4.109}, {\"year\": 1985, \"country\": \"Indonesia\", \"cluster\": 4, \"pop\": 163403000, \"life_expect\": 60.137, \"fertility\": 3.4}, {\"year\": 1990, \"country\": \"Indonesia\", \"cluster\": 4, \"pop\": 178500000, \"life_expect\": 62.681, \"fertility\": 2.9}, {\"year\": 1995, \"country\": \"Indonesia\", \"cluster\": 4, \"pop\": 194755000, \"life_expect\": 66.041, \"fertility\": 2.55}, {\"year\": 2000, \"country\": \"Indonesia\", \"cluster\": 4, \"pop\": 206265000, \"life_expect\": 68.588, \"fertility\": 2.3761}, {\"year\": 2005, \"country\": \"Indonesia\", \"cluster\": 4, \"pop\": 218465000, \"life_expect\": 70.65, \"fertility\": 2.182}, {\"year\": 1955, \"country\": \"Iran\", \"cluster\": 5, \"pop\": 18729000, \"life_expect\": 47.181, \"fertility\": 7.0}, {\"year\": 1960, \"country\": \"Iran\", \"cluster\": 5, \"pop\": 21577000, \"life_expect\": 49.325, \"fertility\": 7.0}, {\"year\": 1965, \"country\": \"Iran\", \"cluster\": 5, \"pop\": 25000000, \"life_expect\": 52.469, \"fertility\": 6.8}, {\"year\": 1970, \"country\": \"Iran\", \"cluster\": 5, \"pop\": 28933000, \"life_expect\": 55.234, \"fertility\": 6.4}, {\"year\": 1975, \"country\": \"Iran\", \"cluster\": 5, \"pop\": 33379000, \"life_expect\": 57.702, \"fertility\": 6.5}, {\"year\": 1980, \"country\": \"Iran\", \"cluster\": 5, \"pop\": 39583397, \"life_expect\": 59.62, \"fertility\": 6.63}, {\"year\": 1985, \"country\": \"Iran\", \"cluster\": 5, \"pop\": 48439952, \"life_expect\": 63.04, \"fertility\": 5.62}, {\"year\": 1990, \"country\": \"Iran\", \"cluster\": 5, \"pop\": 57035717, \"life_expect\": 65.742, \"fertility\": 4.328}, {\"year\": 1995, \"country\": \"Iran\", \"cluster\": 5, \"pop\": 61628116, \"life_expect\": 68.042, \"fertility\": 2.534}, {\"year\": 2000, \"country\": \"Iran\", \"cluster\": 5, \"pop\": 65660289, \"life_expect\": 69.451, \"fertility\": 2.124}, {\"year\": 2005, \"country\": \"Iran\", \"cluster\": 5, \"pop\": 68017860, \"life_expect\": 70.964, \"fertility\": 2.04}, {\"year\": 1955, \"country\": \"Iraq\", \"cluster\": 5, \"pop\": 5903253, \"life_expect\": 48.437, \"fertility\": 7.3}, {\"year\": 1960, \"country\": \"Iraq\", \"cluster\": 5, \"pop\": 6822030, \"life_expect\": 51.457, \"fertility\": 7.25}, {\"year\": 1965, \"country\": \"Iraq\", \"cluster\": 5, \"pop\": 7970746, \"life_expect\": 54.459, \"fertility\": 7.2}, {\"year\": 1970, \"country\": \"Iraq\", \"cluster\": 5, \"pop\": 9413671, \"life_expect\": 56.95, \"fertility\": 7.15}, {\"year\": 1975, \"country\": \"Iraq\", \"cluster\": 5, \"pop\": 11117804, \"life_expect\": 60.413, \"fertility\": 6.8}, {\"year\": 1980, \"country\": \"Iraq\", \"cluster\": 5, \"pop\": 13232839, \"life_expect\": 62.038, \"fertility\": 6.35}, {\"year\": 1985, \"country\": \"Iraq\", \"cluster\": 5, \"pop\": 15693620, \"life_expect\": 65.044, \"fertility\": 6.15}, {\"year\": 1990, \"country\": \"Iraq\", \"cluster\": 5, \"pop\": 18134702, \"life_expect\": 59.461, \"fertility\": 5.7}, {\"year\": 1995, \"country\": \"Iraq\", \"cluster\": 5, \"pop\": 19557247, \"life_expect\": 58.811, \"fertility\": 5.37}, {\"year\": 2000, \"country\": \"Iraq\", \"cluster\": 5, \"pop\": 22675617, \"life_expect\": 57.046, \"fertility\": 4.858}, {\"year\": 2005, \"country\": \"Iraq\", \"cluster\": 5, \"pop\": 26074906, \"life_expect\": 59.545, \"fertility\": 4.264}, {\"year\": 1955, \"country\": \"Ireland\", \"cluster\": 1, \"pop\": 2916133, \"life_expect\": 68.9, \"fertility\": 3.68}, {\"year\": 1960, \"country\": \"Ireland\", \"cluster\": 1, \"pop\": 2832000, \"life_expect\": 70.29, \"fertility\": 3.979}, {\"year\": 1965, \"country\": \"Ireland\", \"cluster\": 1, \"pop\": 2876000, \"life_expect\": 71.08, \"fertility\": 3.873}, {\"year\": 1970, \"country\": \"Ireland\", \"cluster\": 1, \"pop\": 2950100, \"life_expect\": 71.28, \"fertility\": 3.815}, {\"year\": 1975, \"country\": \"Ireland\", \"cluster\": 1, \"pop\": 3177300, \"life_expect\": 72.03, \"fertility\": 3.478}, {\"year\": 1980, \"country\": \"Ireland\", \"cluster\": 1, \"pop\": 3401000, \"life_expect\": 73.1, \"fertility\": 2.877}, {\"year\": 1985, \"country\": \"Ireland\", \"cluster\": 1, \"pop\": 3540000, \"life_expect\": 74.36, \"fertility\": 2.287}, {\"year\": 1990, \"country\": \"Ireland\", \"cluster\": 1, \"pop\": 3508200, \"life_expect\": 75.467, \"fertility\": 1.9689999999999999}, {\"year\": 1995, \"country\": \"Ireland\", \"cluster\": 1, \"pop\": 3613890, \"life_expect\": 76.122, \"fertility\": 1.9}, {\"year\": 2000, \"country\": \"Ireland\", \"cluster\": 1, \"pop\": 3791690, \"life_expect\": 77.783, \"fertility\": 1.9689999999999999}, {\"year\": 2005, \"country\": \"Ireland\", \"cluster\": 1, \"pop\": 4015676, \"life_expect\": 78.885, \"fertility\": 1.964}, {\"year\": 1955, \"country\": \"Israel\", \"cluster\": 5, \"pop\": 1772032, \"life_expect\": 67.84, \"fertility\": 3.893}, {\"year\": 1960, \"country\": \"Israel\", \"cluster\": 5, \"pop\": 2141495, \"life_expect\": 69.39, \"fertility\": 3.852}, {\"year\": 1965, \"country\": \"Israel\", \"cluster\": 5, \"pop\": 2578184, \"life_expect\": 70.75, \"fertility\": 3.79}, {\"year\": 1970, \"country\": \"Israel\", \"cluster\": 5, \"pop\": 2903434, \"life_expect\": 71.63, \"fertility\": 3.77}, {\"year\": 1975, \"country\": \"Israel\", \"cluster\": 5, \"pop\": 3354242, \"life_expect\": 73.06, \"fertility\": 3.409}, {\"year\": 1980, \"country\": \"Israel\", \"cluster\": 5, \"pop\": 3737473, \"life_expect\": 74.45, \"fertility\": 3.125}, {\"year\": 1985, \"country\": \"Israel\", \"cluster\": 5, \"pop\": 4074965, \"life_expect\": 75.6, \"fertility\": 3.051}, {\"year\": 1990, \"country\": \"Israel\", \"cluster\": 5, \"pop\": 4512068, \"life_expect\": 76.93, \"fertility\": 2.933}, {\"year\": 1995, \"country\": \"Israel\", \"cluster\": 5, \"pop\": 5305120, \"life_expect\": 78.269, \"fertility\": 2.942}, {\"year\": 2000, \"country\": \"Israel\", \"cluster\": 5, \"pop\": 5842454, \"life_expect\": 79.696, \"fertility\": 2.906}, {\"year\": 2005, \"country\": \"Israel\", \"cluster\": 5, \"pop\": 6276883, \"life_expect\": 80.745, \"fertility\": 2.75}, {\"year\": 1955, \"country\": \"Italy\", \"cluster\": 1, \"pop\": 48633000, \"life_expect\": 67.81, \"fertility\": 2.35}, {\"year\": 1960, \"country\": \"Italy\", \"cluster\": 1, \"pop\": 50197600, \"life_expect\": 69.24, \"fertility\": 2.498}, {\"year\": 1965, \"country\": \"Italy\", \"cluster\": 1, \"pop\": 51987100, \"life_expect\": 71.06, \"fertility\": 2.493}, {\"year\": 1970, \"country\": \"Italy\", \"cluster\": 1, \"pop\": 53661100, \"life_expect\": 72.19, \"fertility\": 2.325}, {\"year\": 1975, \"country\": \"Italy\", \"cluster\": 1, \"pop\": 55571894, \"life_expect\": 73.48, \"fertility\": 1.889}, {\"year\": 1980, \"country\": \"Italy\", \"cluster\": 1, \"pop\": 56451247, \"life_expect\": 74.98, \"fertility\": 1.53}, {\"year\": 1985, \"country\": \"Italy\", \"cluster\": 1, \"pop\": 56731215, \"life_expect\": 76.42, \"fertility\": 1.349}, {\"year\": 1990, \"country\": \"Italy\", \"cluster\": 1, \"pop\": 56742886, \"life_expect\": 77.44, \"fertility\": 1.275}, {\"year\": 1995, \"country\": \"Italy\", \"cluster\": 1, \"pop\": 57274531, \"life_expect\": 78.82, \"fertility\": 1.213}, {\"year\": 2000, \"country\": \"Italy\", \"cluster\": 1, \"pop\": 57719337, \"life_expect\": 80.24, \"fertility\": 1.286}, {\"year\": 2005, \"country\": \"Italy\", \"cluster\": 1, \"pop\": 58103033, \"life_expect\": 80.546, \"fertility\": 1.379}, {\"year\": 1955, \"country\": \"Jamaica\", \"cluster\": 3, \"pop\": 1488805, \"life_expect\": 62.61, \"fertility\": 5.08}, {\"year\": 1960, \"country\": \"Jamaica\", \"cluster\": 3, \"pop\": 1631784, \"life_expect\": 65.61, \"fertility\": 5.64}, {\"year\": 1965, \"country\": \"Jamaica\", \"cluster\": 3, \"pop\": 1777397, \"life_expect\": 67.51, \"fertility\": 5.78}, {\"year\": 1970, \"country\": \"Jamaica\", \"cluster\": 3, \"pop\": 1943787, \"life_expect\": 69.0, \"fertility\": 5.0}, {\"year\": 1975, \"country\": \"Jamaica\", \"cluster\": 3, \"pop\": 2104879, \"life_expect\": 70.11, \"fertility\": 4.0}, {\"year\": 1980, \"country\": \"Jamaica\", \"cluster\": 3, \"pop\": 2228803, \"life_expect\": 71.21, \"fertility\": 3.55}, {\"year\": 1985, \"country\": \"Jamaica\", \"cluster\": 3, \"pop\": 2318652, \"life_expect\": 71.77, \"fertility\": 3.1}, {\"year\": 1990, \"country\": \"Jamaica\", \"cluster\": 3, \"pop\": 2347922, \"life_expect\": 71.766, \"fertility\": 2.84}, {\"year\": 1995, \"country\": \"Jamaica\", \"cluster\": 3, \"pop\": 2469389, \"life_expect\": 72.262, \"fertility\": 2.67}, {\"year\": 2000, \"country\": \"Jamaica\", \"cluster\": 3, \"pop\": 2615467, \"life_expect\": 72.047, \"fertility\": 2.628}, {\"year\": 2005, \"country\": \"Jamaica\", \"cluster\": 3, \"pop\": 2735520, \"life_expect\": 72.567, \"fertility\": 2.4289}, {\"year\": 1955, \"country\": \"Japan\", \"cluster\": 4, \"pop\": 89815060, \"life_expect\": 65.5, \"fertility\": 2.08}, {\"year\": 1960, \"country\": \"Japan\", \"cluster\": 4, \"pop\": 94091638, \"life_expect\": 68.73, \"fertility\": 2.02}, {\"year\": 1965, \"country\": \"Japan\", \"cluster\": 4, \"pop\": 98882534, \"life_expect\": 71.43, \"fertility\": 2.0}, {\"year\": 1970, \"country\": \"Japan\", \"cluster\": 4, \"pop\": 104344973, \"life_expect\": 73.42, \"fertility\": 2.07}, {\"year\": 1975, \"country\": \"Japan\", \"cluster\": 4, \"pop\": 111573116, \"life_expect\": 75.38, \"fertility\": 1.81}, {\"year\": 1980, \"country\": \"Japan\", \"cluster\": 4, \"pop\": 116807309, \"life_expect\": 77.11, \"fertility\": 1.76}, {\"year\": 1985, \"country\": \"Japan\", \"cluster\": 4, \"pop\": 120754335, \"life_expect\": 78.67, \"fertility\": 1.6600000000000001}, {\"year\": 1990, \"country\": \"Japan\", \"cluster\": 4, \"pop\": 123537399, \"life_expect\": 79.36, \"fertility\": 1.49}, {\"year\": 1995, \"country\": \"Japan\", \"cluster\": 4, \"pop\": 125341354, \"life_expect\": 80.69, \"fertility\": 1.3900000000000001}, {\"year\": 2000, \"country\": \"Japan\", \"cluster\": 4, \"pop\": 126699784, \"life_expect\": 82.0, \"fertility\": 1.291}, {\"year\": 2005, \"country\": \"Japan\", \"cluster\": 4, \"pop\": 127417244, \"life_expect\": 82.603, \"fertility\": 1.27}, {\"year\": 1955, \"country\": \"Kenya\", \"cluster\": 2, \"pop\": 7033999, \"life_expect\": 44.686, \"fertility\": 7.816}, {\"year\": 1960, \"country\": \"Kenya\", \"cluster\": 2, \"pop\": 8156827, \"life_expect\": 47.949, \"fertility\": 8.12}, {\"year\": 1965, \"country\": \"Kenya\", \"cluster\": 2, \"pop\": 9549179, \"life_expect\": 50.654, \"fertility\": 8.12}, {\"year\": 1970, \"country\": \"Kenya\", \"cluster\": 2, \"pop\": 11247182, \"life_expect\": 53.559, \"fertility\": 8.0}, {\"year\": 1975, \"country\": \"Kenya\", \"cluster\": 2, \"pop\": 13433414, \"life_expect\": 56.155, \"fertility\": 7.6}, {\"year\": 1980, \"country\": \"Kenya\", \"cluster\": 2, \"pop\": 16331401, \"life_expect\": 58.766, \"fertility\": 7.2}, {\"year\": 1985, \"country\": \"Kenya\", \"cluster\": 2, \"pop\": 19763285, \"life_expect\": 59.339, \"fertility\": 6.5}, {\"year\": 1990, \"country\": \"Kenya\", \"cluster\": 2, \"pop\": 23358413, \"life_expect\": 59.285, \"fertility\": 5.4}, {\"year\": 1995, \"country\": \"Kenya\", \"cluster\": 2, \"pop\": 27060142, \"life_expect\": 54.407, \"fertility\": 5.0}, {\"year\": 2000, \"country\": \"Kenya\", \"cluster\": 2, \"pop\": 29985839, \"life_expect\": 50.992, \"fertility\": 5.0}, {\"year\": 2005, \"country\": \"Kenya\", \"cluster\": 2, \"pop\": 33829590, \"life_expect\": 54.11, \"fertility\": 4.959}, {\"year\": 1955, \"country\": \"South Korea\", \"cluster\": 4, \"pop\": 8839427, \"life_expect\": 54.081, \"fertility\": 3.8}, {\"year\": 1960, \"country\": \"South Korea\", \"cluster\": 4, \"pop\": 10391909, \"life_expect\": 56.656, \"fertility\": 3.41}, {\"year\": 1965, \"country\": \"South Korea\", \"cluster\": 4, \"pop\": 11868751, \"life_expect\": 59.942, \"fertility\": 4.09}, {\"year\": 1970, \"country\": \"South Korea\", \"cluster\": 4, \"pop\": 13911902, \"life_expect\": 63.983, \"fertility\": 3.7199999999999998}, {\"year\": 1975, \"country\": \"South Korea\", \"cluster\": 4, \"pop\": 15801308, \"life_expect\": 67.159, \"fertility\": 2.58}, {\"year\": 1980, \"country\": \"South Korea\", \"cluster\": 4, \"pop\": 17113626, \"life_expect\": 69.1, \"fertility\": 2.93}, {\"year\": 1985, \"country\": \"South Korea\", \"cluster\": 4, \"pop\": 18481420, \"life_expect\": 70.647, \"fertility\": 2.45}, {\"year\": 1990, \"country\": \"South Korea\", \"cluster\": 4, \"pop\": 20018546, \"life_expect\": 69.978, \"fertility\": 2.35}, {\"year\": 1995, \"country\": \"South Korea\", \"cluster\": 4, \"pop\": 21561856, \"life_expect\": 67.727, \"fertility\": 2.0938}, {\"year\": 2000, \"country\": \"South Korea\", \"cluster\": 4, \"pop\": 21647682, \"life_expect\": 66.662, \"fertility\": 1.9173}, {\"year\": 2005, \"country\": \"South Korea\", \"cluster\": 4, \"pop\": 22912177, \"life_expect\": 67.297, \"fertility\": 1.85}, {\"year\": 1955, \"country\": \"North Korea\", \"cluster\": 4, \"pop\": 21551834, \"life_expect\": 52.681, \"fertility\": 6.332}, {\"year\": 1960, \"country\": \"North Korea\", \"cluster\": 4, \"pop\": 24784140, \"life_expect\": 55.292, \"fertility\": 5.63}, {\"year\": 1965, \"country\": \"North Korea\", \"cluster\": 4, \"pop\": 28705000, \"life_expect\": 57.716, \"fertility\": 4.708}, {\"year\": 1970, \"country\": \"North Korea\", \"cluster\": 4, \"pop\": 32241000, \"life_expect\": 62.612, \"fertility\": 4.281}, {\"year\": 1975, \"country\": \"North Korea\", \"cluster\": 4, \"pop\": 35281000, \"life_expect\": 64.766, \"fertility\": 2.919}, {\"year\": 1980, \"country\": \"North Korea\", \"cluster\": 4, \"pop\": 38124000, \"life_expect\": 67.123, \"fertility\": 2.234}, {\"year\": 1985, \"country\": \"North Korea\", \"cluster\": 4, \"pop\": 40806000, \"life_expect\": 69.81, \"fertility\": 1.601}, {\"year\": 1990, \"country\": \"North Korea\", \"cluster\": 4, \"pop\": 42869000, \"life_expect\": 72.244, \"fertility\": 1.6960000000000002}, {\"year\": 1995, \"country\": \"North Korea\", \"cluster\": 4, \"pop\": 45264146, \"life_expect\": 74.647, \"fertility\": 1.514}, {\"year\": 2000, \"country\": \"North Korea\", \"cluster\": 4, \"pop\": 47351083, \"life_expect\": 77.045, \"fertility\": 1.242}, {\"year\": 2005, \"country\": \"North Korea\", \"cluster\": 4, \"pop\": 48640671, \"life_expect\": 78.623, \"fertility\": 1.21}, {\"year\": 1955, \"country\": \"Lebanon\", \"cluster\": 5, \"pop\": 1560985, \"life_expect\": 59.489, \"fertility\": 5.72}, {\"year\": 1960, \"country\": \"Lebanon\", \"cluster\": 5, \"pop\": 1786235, \"life_expect\": 62.094, \"fertility\": 5.689}, {\"year\": 1965, \"country\": \"Lebanon\", \"cluster\": 5, \"pop\": 2057945, \"life_expect\": 63.87, \"fertility\": 5.336}, {\"year\": 1970, \"country\": \"Lebanon\", \"cluster\": 5, \"pop\": 2383029, \"life_expect\": 65.421, \"fertility\": 4.78}, {\"year\": 1975, \"country\": \"Lebanon\", \"cluster\": 5, \"pop\": 3098159, \"life_expect\": 66.099, \"fertility\": 4.311}, {\"year\": 1980, \"country\": \"Lebanon\", \"cluster\": 5, \"pop\": 3085876, \"life_expect\": 66.983, \"fertility\": 3.895}, {\"year\": 1985, \"country\": \"Lebanon\", \"cluster\": 5, \"pop\": 3088235, \"life_expect\": 67.926, \"fertility\": 3.313}, {\"year\": 1990, \"country\": \"Lebanon\", \"cluster\": 5, \"pop\": 3147267, \"life_expect\": 69.292, \"fertility\": 3.0}, {\"year\": 1995, \"country\": \"Lebanon\", \"cluster\": 5, \"pop\": 3334733, \"life_expect\": 70.265, \"fertility\": 2.6950000000000003}, {\"year\": 2000, \"country\": \"Lebanon\", \"cluster\": 5, \"pop\": 3578036, \"life_expect\": 71.028, \"fertility\": 2.319}, {\"year\": 2005, \"country\": \"Lebanon\", \"cluster\": 5, \"pop\": 3826018, \"life_expect\": 71.993, \"fertility\": 2.209}, {\"year\": 1955, \"country\": \"Mexico\", \"cluster\": 3, \"pop\": 32929914, \"life_expect\": 55.19, \"fertility\": 6.8}, {\"year\": 1960, \"country\": \"Mexico\", \"cluster\": 3, \"pop\": 38578505, \"life_expect\": 58.299, \"fertility\": 6.7495}, {\"year\": 1965, \"country\": \"Mexico\", \"cluster\": 3, \"pop\": 45142399, \"life_expect\": 60.11, \"fertility\": 6.7495}, {\"year\": 1970, \"country\": \"Mexico\", \"cluster\": 3, \"pop\": 52775158, \"life_expect\": 62.361, \"fertility\": 6.5}, {\"year\": 1975, \"country\": \"Mexico\", \"cluster\": 3, \"pop\": 60678045, \"life_expect\": 65.032, \"fertility\": 5.2505}, {\"year\": 1980, \"country\": \"Mexico\", \"cluster\": 3, \"pop\": 68347479, \"life_expect\": 67.405, \"fertility\": 4.25}, {\"year\": 1985, \"country\": \"Mexico\", \"cluster\": 3, \"pop\": 76767225, \"life_expect\": 69.498, \"fertility\": 3.6295}, {\"year\": 1990, \"country\": \"Mexico\", \"cluster\": 3, \"pop\": 84913652, \"life_expect\": 71.455, \"fertility\": 3.1905}, {\"year\": 1995, \"country\": \"Mexico\", \"cluster\": 3, \"pop\": 92880353, \"life_expect\": 73.67, \"fertility\": 2.6705}, {\"year\": 2000, \"country\": \"Mexico\", \"cluster\": 3, \"pop\": 99926620, \"life_expect\": 74.902, \"fertility\": 2.4005}, {\"year\": 2005, \"country\": \"Mexico\", \"cluster\": 3, \"pop\": 106202903, \"life_expect\": 76.195, \"fertility\": 2.211}, {\"year\": 1955, \"country\": \"Netherlands\", \"cluster\": 1, \"pop\": 10750842, \"life_expect\": 72.99, \"fertility\": 3.095}, {\"year\": 1960, \"country\": \"Netherlands\", \"cluster\": 1, \"pop\": 11486000, \"life_expect\": 73.23, \"fertility\": 3.168}, {\"year\": 1965, \"country\": \"Netherlands\", \"cluster\": 1, \"pop\": 12292000, \"life_expect\": 73.82, \"fertility\": 2.797}, {\"year\": 1970, \"country\": \"Netherlands\", \"cluster\": 1, \"pop\": 13032335, \"life_expect\": 73.75, \"fertility\": 2.059}, {\"year\": 1975, \"country\": \"Netherlands\", \"cluster\": 1, \"pop\": 13653438, \"life_expect\": 75.24, \"fertility\": 1.596}, {\"year\": 1980, \"country\": \"Netherlands\", \"cluster\": 1, \"pop\": 14143901, \"life_expect\": 76.05, \"fertility\": 1.5150000000000001}, {\"year\": 1985, \"country\": \"Netherlands\", \"cluster\": 1, \"pop\": 14491380, \"life_expect\": 76.83, \"fertility\": 1.5550000000000002}, {\"year\": 1990, \"country\": \"Netherlands\", \"cluster\": 1, \"pop\": 14951510, \"life_expect\": 77.42, \"fertility\": 1.583}, {\"year\": 1995, \"country\": \"Netherlands\", \"cluster\": 1, \"pop\": 15459054, \"life_expect\": 78.03, \"fertility\": 1.6}, {\"year\": 2000, \"country\": \"Netherlands\", \"cluster\": 1, \"pop\": 15907853, \"life_expect\": 78.53, \"fertility\": 1.726}, {\"year\": 2005, \"country\": \"Netherlands\", \"cluster\": 1, \"pop\": 16407491, \"life_expect\": 79.762, \"fertility\": 1.721}, {\"year\": 1955, \"country\": \"New Zealand\", \"cluster\": 4, \"pop\": 2136168, \"life_expect\": 70.26, \"fertility\": 4.07}, {\"year\": 1960, \"country\": \"New Zealand\", \"cluster\": 4, \"pop\": 2371746, \"life_expect\": 71.24, \"fertility\": 4.022}, {\"year\": 1965, \"country\": \"New Zealand\", \"cluster\": 4, \"pop\": 2640400, \"life_expect\": 71.52, \"fertility\": 3.348}, {\"year\": 1970, \"country\": \"New Zealand\", \"cluster\": 4, \"pop\": 2828050, \"life_expect\": 71.89, \"fertility\": 2.843}, {\"year\": 1975, \"country\": \"New Zealand\", \"cluster\": 4, \"pop\": 3117800, \"life_expect\": 72.22, \"fertility\": 2.178}, {\"year\": 1980, \"country\": \"New Zealand\", \"cluster\": 4, \"pop\": 3170150, \"life_expect\": 73.84, \"fertility\": 1.963}, {\"year\": 1985, \"country\": \"New Zealand\", \"cluster\": 4, \"pop\": 3298050, \"life_expect\": 74.32, \"fertility\": 2.053}, {\"year\": 1990, \"country\": \"New Zealand\", \"cluster\": 4, \"pop\": 3359604, \"life_expect\": 76.33, \"fertility\": 2.061}, {\"year\": 1995, \"country\": \"New Zealand\", \"cluster\": 4, \"pop\": 3565990, \"life_expect\": 77.55, \"fertility\": 1.952}, {\"year\": 2000, \"country\": \"New Zealand\", \"cluster\": 4, \"pop\": 3819762, \"life_expect\": 79.11, \"fertility\": 1.964}, {\"year\": 2005, \"country\": \"New Zealand\", \"cluster\": 4, \"pop\": 4035461, \"life_expect\": 80.204, \"fertility\": 1.994}, {\"year\": 1955, \"country\": \"Nigeria\", \"cluster\": 2, \"pop\": 35458978, \"life_expect\": 37.802, \"fertility\": 6.9}, {\"year\": 1960, \"country\": \"Nigeria\", \"cluster\": 2, \"pop\": 39914593, \"life_expect\": 39.36, \"fertility\": 6.9}, {\"year\": 1965, \"country\": \"Nigeria\", \"cluster\": 2, \"pop\": 45020052, \"life_expect\": 41.04, \"fertility\": 6.9}, {\"year\": 1970, \"country\": \"Nigeria\", \"cluster\": 2, \"pop\": 51027516, \"life_expect\": 42.821, \"fertility\": 6.9}, {\"year\": 1975, \"country\": \"Nigeria\", \"cluster\": 2, \"pop\": 58522112, \"life_expect\": 44.514, \"fertility\": 6.9}, {\"year\": 1980, \"country\": \"Nigeria\", \"cluster\": 2, \"pop\": 68550274, \"life_expect\": 45.826, \"fertility\": 6.9}, {\"year\": 1985, \"country\": \"Nigeria\", \"cluster\": 2, \"pop\": 77573154, \"life_expect\": 46.886, \"fertility\": 6.834}, {\"year\": 1990, \"country\": \"Nigeria\", \"cluster\": 2, \"pop\": 88510354, \"life_expect\": 47.472, \"fertility\": 6.635}, {\"year\": 1995, \"country\": \"Nigeria\", \"cluster\": 2, \"pop\": 100960105, \"life_expect\": 47.464, \"fertility\": 6.246}, {\"year\": 2000, \"country\": \"Nigeria\", \"cluster\": 2, \"pop\": 114306700, \"life_expect\": 46.608, \"fertility\": 5.845}, {\"year\": 2005, \"country\": \"Nigeria\", \"cluster\": 2, \"pop\": 128765768, \"life_expect\": 46.859, \"fertility\": 5.322}, {\"year\": 1955, \"country\": \"Norway\", \"cluster\": 1, \"pop\": 3427409, \"life_expect\": 73.44, \"fertility\": 2.8369999999999997}, {\"year\": 1960, \"country\": \"Norway\", \"cluster\": 1, \"pop\": 3581239, \"life_expect\": 73.47, \"fertility\": 2.898}, {\"year\": 1965, \"country\": \"Norway\", \"cluster\": 1, \"pop\": 3723153, \"life_expect\": 74.08, \"fertility\": 2.719}, {\"year\": 1970, \"country\": \"Norway\", \"cluster\": 1, \"pop\": 3877386, \"life_expect\": 74.34, \"fertility\": 2.248}, {\"year\": 1975, \"country\": \"Norway\", \"cluster\": 1, \"pop\": 4007313, \"life_expect\": 75.37, \"fertility\": 1.81}, {\"year\": 1980, \"country\": \"Norway\", \"cluster\": 1, \"pop\": 4085620, \"life_expect\": 75.97, \"fertility\": 1.687}, {\"year\": 1985, \"country\": \"Norway\", \"cluster\": 1, \"pop\": 4152419, \"life_expect\": 75.89, \"fertility\": 1.8}, {\"year\": 1990, \"country\": \"Norway\", \"cluster\": 1, \"pop\": 4242006, \"life_expect\": 77.32, \"fertility\": 1.8860000000000001}, {\"year\": 1995, \"country\": \"Norway\", \"cluster\": 1, \"pop\": 4359101, \"life_expect\": 78.32, \"fertility\": 1.853}, {\"year\": 2000, \"country\": \"Norway\", \"cluster\": 1, \"pop\": 4492400, \"life_expect\": 79.05, \"fertility\": 1.8010000000000002}, {\"year\": 2005, \"country\": \"Norway\", \"cluster\": 1, \"pop\": 4593041, \"life_expect\": 80.196, \"fertility\": 1.8479999999999999}, {\"year\": 1955, \"country\": \"Pakistan\", \"cluster\": 0, \"pop\": 44434445, \"life_expect\": 45.557, \"fertility\": 6.6}, {\"year\": 1960, \"country\": \"Pakistan\", \"cluster\": 0, \"pop\": 50386898, \"life_expect\": 47.67, \"fertility\": 6.6}, {\"year\": 1965, \"country\": \"Pakistan\", \"cluster\": 0, \"pop\": 57494940, \"life_expect\": 49.8, \"fertility\": 6.6}, {\"year\": 1970, \"country\": \"Pakistan\", \"cluster\": 0, \"pop\": 65705964, \"life_expect\": 51.929, \"fertility\": 6.6}, {\"year\": 1975, \"country\": \"Pakistan\", \"cluster\": 0, \"pop\": 74711541, \"life_expect\": 54.043, \"fertility\": 6.6}, {\"year\": 1980, \"country\": \"Pakistan\", \"cluster\": 0, \"pop\": 85219117, \"life_expect\": 56.158, \"fertility\": 6.6}, {\"year\": 1985, \"country\": \"Pakistan\", \"cluster\": 0, \"pop\": 99060352, \"life_expect\": 58.245, \"fertility\": 6.66}, {\"year\": 1990, \"country\": \"Pakistan\", \"cluster\": 0, \"pop\": 114578478, \"life_expect\": 60.838, \"fertility\": 5.8}, {\"year\": 1995, \"country\": \"Pakistan\", \"cluster\": 0, \"pop\": 128690285, \"life_expect\": 61.818, \"fertility\": 4.9596}, {\"year\": 2000, \"country\": \"Pakistan\", \"cluster\": 0, \"pop\": 146342958, \"life_expect\": 63.61, \"fertility\": 3.9936}, {\"year\": 2005, \"country\": \"Pakistan\", \"cluster\": 0, \"pop\": 162419946, \"life_expect\": 65.483, \"fertility\": 3.5211}, {\"year\": 1955, \"country\": \"Peru\", \"cluster\": 3, \"pop\": 8671500, \"life_expect\": 46.263, \"fertility\": 6.853}, {\"year\": 1960, \"country\": \"Peru\", \"cluster\": 3, \"pop\": 9931000, \"life_expect\": 49.096, \"fertility\": 6.853}, {\"year\": 1965, \"country\": \"Peru\", \"cluster\": 3, \"pop\": 11467300, \"life_expect\": 51.445, \"fertility\": 6.5600000000000005}, {\"year\": 1970, \"country\": \"Peru\", \"cluster\": 3, \"pop\": 13192800, \"life_expect\": 55.448, \"fertility\": 6.0}, {\"year\": 1975, \"country\": \"Peru\", \"cluster\": 3, \"pop\": 15161199, \"life_expect\": 58.447, \"fertility\": 5.378}, {\"year\": 1980, \"country\": \"Peru\", \"cluster\": 3, \"pop\": 17295298, \"life_expect\": 61.406, \"fertility\": 4.65}, {\"year\": 1985, \"country\": \"Peru\", \"cluster\": 3, \"pop\": 19348926, \"life_expect\": 64.134, \"fertility\": 4.1}, {\"year\": 1990, \"country\": \"Peru\", \"cluster\": 3, \"pop\": 21511443, \"life_expect\": 66.458, \"fertility\": 3.7}, {\"year\": 1995, \"country\": \"Peru\", \"cluster\": 3, \"pop\": 23846388, \"life_expect\": 68.386, \"fertility\": 3.0995}, {\"year\": 2000, \"country\": \"Peru\", \"cluster\": 3, \"pop\": 25979722, \"life_expect\": 69.906, \"fertility\": 2.7005}, {\"year\": 2005, \"country\": \"Peru\", \"cluster\": 3, \"pop\": 27925628, \"life_expect\": 71.421, \"fertility\": 2.5065}, {\"year\": 1955, \"country\": \"Philippines\", \"cluster\": 4, \"pop\": 24553055, \"life_expect\": 51.334, \"fertility\": 7.13}, {\"year\": 1960, \"country\": \"Philippines\", \"cluster\": 4, \"pop\": 28528939, \"life_expect\": 54.757, \"fertility\": 6.85}, {\"year\": 1965, \"country\": \"Philippines\", \"cluster\": 4, \"pop\": 33267569, \"life_expect\": 56.393, \"fertility\": 6.5}, {\"year\": 1970, \"country\": \"Philippines\", \"cluster\": 4, \"pop\": 38603696, \"life_expect\": 58.065, \"fertility\": 6.0}, {\"year\": 1975, \"country\": \"Philippines\", \"cluster\": 4, \"pop\": 44336842, \"life_expect\": 60.06, \"fertility\": 5.5}, {\"year\": 1980, \"country\": \"Philippines\", \"cluster\": 4, \"pop\": 50940182, \"life_expect\": 62.082, \"fertility\": 4.95}, {\"year\": 1985, \"country\": \"Philippines\", \"cluster\": 4, \"pop\": 57288037, \"life_expect\": 64.151, \"fertility\": 4.55}, {\"year\": 1990, \"country\": \"Philippines\", \"cluster\": 4, \"pop\": 64318120, \"life_expect\": 66.458, \"fertility\": 4.143}, {\"year\": 1995, \"country\": \"Philippines\", \"cluster\": 4, \"pop\": 71717437, \"life_expect\": 68.564, \"fertility\": 3.7248}, {\"year\": 2000, \"country\": \"Philippines\", \"cluster\": 4, \"pop\": 79739825, \"life_expect\": 70.303, \"fertility\": 3.5436}, {\"year\": 2005, \"country\": \"Philippines\", \"cluster\": 4, \"pop\": 87857473, \"life_expect\": 71.688, \"fertility\": 3.2327}, {\"year\": 1955, \"country\": \"Poland\", \"cluster\": 1, \"pop\": 27220668, \"life_expect\": 65.77, \"fertility\": 3.29}, {\"year\": 1960, \"country\": \"Poland\", \"cluster\": 1, \"pop\": 29589842, \"life_expect\": 67.64, \"fertility\": 2.65}, {\"year\": 1965, \"country\": \"Poland\", \"cluster\": 1, \"pop\": 31262358, \"life_expect\": 69.61, \"fertility\": 2.27}, {\"year\": 1970, \"country\": \"Poland\", \"cluster\": 1, \"pop\": 32526000, \"life_expect\": 70.85, \"fertility\": 2.25}, {\"year\": 1975, \"country\": \"Poland\", \"cluster\": 1, \"pop\": 33969240, \"life_expect\": 70.67, \"fertility\": 2.26}, {\"year\": 1980, \"country\": \"Poland\", \"cluster\": 1, \"pop\": 35578016, \"life_expect\": 71.32, \"fertility\": 2.33}, {\"year\": 1985, \"country\": \"Poland\", \"cluster\": 1, \"pop\": 37225792, \"life_expect\": 70.98, \"fertility\": 2.15}, {\"year\": 1990, \"country\": \"Poland\", \"cluster\": 1, \"pop\": 38119408, \"life_expect\": 70.99, \"fertility\": 1.8900000000000001}, {\"year\": 1995, \"country\": \"Poland\", \"cluster\": 1, \"pop\": 38600642, \"life_expect\": 72.75, \"fertility\": 1.478}, {\"year\": 2000, \"country\": \"Poland\", \"cluster\": 1, \"pop\": 38654164, \"life_expect\": 74.67, \"fertility\": 1.251}, {\"year\": 2005, \"country\": \"Poland\", \"cluster\": 1, \"pop\": 38557984, \"life_expect\": 75.563, \"fertility\": 1.227}, {\"year\": 1955, \"country\": \"Portugal\", \"cluster\": 1, \"pop\": 8692600, \"life_expect\": 61.51, \"fertility\": 3.03}, {\"year\": 1960, \"country\": \"Portugal\", \"cluster\": 1, \"pop\": 9036700, \"life_expect\": 64.39, \"fertility\": 3.074}, {\"year\": 1965, \"country\": \"Portugal\", \"cluster\": 1, \"pop\": 9128850, \"life_expect\": 66.6, \"fertility\": 2.849}, {\"year\": 1970, \"country\": \"Portugal\", \"cluster\": 1, \"pop\": 9044200, \"life_expect\": 69.26, \"fertility\": 2.748}, {\"year\": 1975, \"country\": \"Portugal\", \"cluster\": 1, \"pop\": 9411090, \"life_expect\": 70.41, \"fertility\": 2.41}, {\"year\": 1980, \"country\": \"Portugal\", \"cluster\": 1, \"pop\": 9777800, \"life_expect\": 72.77, \"fertility\": 1.982}, {\"year\": 1985, \"country\": \"Portugal\", \"cluster\": 1, \"pop\": 9897192, \"life_expect\": 74.06, \"fertility\": 1.5939999999999999}, {\"year\": 1990, \"country\": \"Portugal\", \"cluster\": 1, \"pop\": 9922689, \"life_expect\": 74.86, \"fertility\": 1.516}, {\"year\": 1995, \"country\": \"Portugal\", \"cluster\": 1, \"pop\": 10065543, \"life_expect\": 75.97, \"fertility\": 1.475}, {\"year\": 2000, \"country\": \"Portugal\", \"cluster\": 1, \"pop\": 10335597, \"life_expect\": 77.29, \"fertility\": 1.454}, {\"year\": 2005, \"country\": \"Portugal\", \"cluster\": 1, \"pop\": 10566212, \"life_expect\": 78.098, \"fertility\": 1.455}, {\"year\": 1955, \"country\": \"Rwanda\", \"cluster\": 2, \"pop\": 2698272, \"life_expect\": 41.5, \"fertility\": 8.0}, {\"year\": 1960, \"country\": \"Rwanda\", \"cluster\": 2, \"pop\": 3031804, \"life_expect\": 43.0, \"fertility\": 8.1}, {\"year\": 1965, \"country\": \"Rwanda\", \"cluster\": 2, \"pop\": 3264640, \"life_expect\": 44.1, \"fertility\": 8.2}, {\"year\": 1970, \"country\": \"Rwanda\", \"cluster\": 2, \"pop\": 3769171, \"life_expect\": 44.6, \"fertility\": 8.29}, {\"year\": 1975, \"country\": \"Rwanda\", \"cluster\": 2, \"pop\": 4356863, \"life_expect\": 45.0, \"fertility\": 8.492}, {\"year\": 1980, \"country\": \"Rwanda\", \"cluster\": 2, \"pop\": 5138689, \"life_expect\": 46.218, \"fertility\": 8.5}, {\"year\": 1985, \"country\": \"Rwanda\", \"cluster\": 2, \"pop\": 6009833, \"life_expect\": 44.02, \"fertility\": 8.25}, {\"year\": 1990, \"country\": \"Rwanda\", \"cluster\": 2, \"pop\": 6923738, \"life_expect\": 23.599, \"fertility\": 6.9}, {\"year\": 1995, \"country\": \"Rwanda\", \"cluster\": 2, \"pop\": 5706501, \"life_expect\": 36.087, \"fertility\": 6.0993}, {\"year\": 2000, \"country\": \"Rwanda\", \"cluster\": 2, \"pop\": 7507056, \"life_expect\": 43.413, \"fertility\": 6.01}, {\"year\": 2005, \"country\": \"Rwanda\", \"cluster\": 2, \"pop\": 8440820, \"life_expect\": 46.242, \"fertility\": 5.9169}, {\"year\": 1955, \"country\": \"Saudi Arabia\", \"cluster\": 5, \"pop\": 4243218, \"life_expect\": 42.868, \"fertility\": 7.175}, {\"year\": 1960, \"country\": \"Saudi Arabia\", \"cluster\": 5, \"pop\": 4718301, \"life_expect\": 45.914, \"fertility\": 7.257}, {\"year\": 1965, \"country\": \"Saudi Arabia\", \"cluster\": 5, \"pop\": 5327432, \"life_expect\": 49.901, \"fertility\": 7.257}, {\"year\": 1970, \"country\": \"Saudi Arabia\", \"cluster\": 5, \"pop\": 6109051, \"life_expect\": 53.886, \"fertility\": 7.298}, {\"year\": 1975, \"country\": \"Saudi Arabia\", \"cluster\": 5, \"pop\": 7204820, \"life_expect\": 58.69, \"fertility\": 7.2780000000000005}, {\"year\": 1980, \"country\": \"Saudi Arabia\", \"cluster\": 5, \"pop\": 9999161, \"life_expect\": 63.012, \"fertility\": 7.015}, {\"year\": 1985, \"country\": \"Saudi Arabia\", \"cluster\": 5, \"pop\": 13330067, \"life_expect\": 66.295, \"fertility\": 6.217}, {\"year\": 1990, \"country\": \"Saudi Arabia\", \"cluster\": 5, \"pop\": 16060761, \"life_expect\": 68.768, \"fertility\": 5.446}, {\"year\": 1995, \"country\": \"Saudi Arabia\", \"cluster\": 5, \"pop\": 19966998, \"life_expect\": 70.533, \"fertility\": 4.621}, {\"year\": 2000, \"country\": \"Saudi Arabia\", \"cluster\": 5, \"pop\": 23153090, \"life_expect\": 71.626, \"fertility\": 3.81}, {\"year\": 2005, \"country\": \"Saudi Arabia\", \"cluster\": 5, \"pop\": 26417599, \"life_expect\": 72.777, \"fertility\": 3.352}, {\"year\": 1955, \"country\": \"South Africa\", \"cluster\": 2, \"pop\": 15368551, \"life_expect\": 47.985, \"fertility\": 6.5}, {\"year\": 1960, \"country\": \"South Africa\", \"cluster\": 2, \"pop\": 17416653, \"life_expect\": 49.951, \"fertility\": 6.3}, {\"year\": 1965, \"country\": \"South Africa\", \"cluster\": 2, \"pop\": 19898242, \"life_expect\": 51.927, \"fertility\": 5.7}, {\"year\": 1970, \"country\": \"South Africa\", \"cluster\": 2, \"pop\": 22739921, \"life_expect\": 53.696, \"fertility\": 5.47}, {\"year\": 1975, \"country\": \"South Africa\", \"cluster\": 2, \"pop\": 25815144, \"life_expect\": 55.527, \"fertility\": 5.0}, {\"year\": 1980, \"country\": \"South Africa\", \"cluster\": 2, \"pop\": 29251588, \"life_expect\": 58.161, \"fertility\": 4.556}, {\"year\": 1985, \"country\": \"South Africa\", \"cluster\": 2, \"pop\": 34254092, \"life_expect\": 60.834, \"fertility\": 3.85}, {\"year\": 1990, \"country\": \"South Africa\", \"cluster\": 2, \"pop\": 38391094, \"life_expect\": 61.888, \"fertility\": 3.343}, {\"year\": 1995, \"country\": \"South Africa\", \"cluster\": 2, \"pop\": 41779149, \"life_expect\": 60.236, \"fertility\": 2.954}, {\"year\": 2000, \"country\": \"South Africa\", \"cluster\": 2, \"pop\": 44066197, \"life_expect\": 53.365, \"fertility\": 2.802}, {\"year\": 2005, \"country\": \"South Africa\", \"cluster\": 2, \"pop\": 44344136, \"life_expect\": 49.339, \"fertility\": 2.637}, {\"year\": 1955, \"country\": \"Spain\", \"cluster\": 1, \"pop\": 29318745, \"life_expect\": 66.66, \"fertility\": 2.75}, {\"year\": 1960, \"country\": \"Spain\", \"cluster\": 1, \"pop\": 30641187, \"life_expect\": 69.69, \"fertility\": 2.89}, {\"year\": 1965, \"country\": \"Spain\", \"cluster\": 1, \"pop\": 32084511, \"life_expect\": 71.44, \"fertility\": 2.92}, {\"year\": 1970, \"country\": \"Spain\", \"cluster\": 1, \"pop\": 33876479, \"life_expect\": 73.06, \"fertility\": 2.86}, {\"year\": 1975, \"country\": \"Spain\", \"cluster\": 1, \"pop\": 35563535, \"life_expect\": 74.39, \"fertility\": 2.5700000000000003}, {\"year\": 1980, \"country\": \"Spain\", \"cluster\": 1, \"pop\": 37488360, \"life_expect\": 76.3, \"fertility\": 1.8900000000000001}, {\"year\": 1985, \"country\": \"Spain\", \"cluster\": 1, \"pop\": 38534853, \"life_expect\": 76.9, \"fertility\": 1.48}, {\"year\": 1990, \"country\": \"Spain\", \"cluster\": 1, \"pop\": 39350769, \"life_expect\": 77.57, \"fertility\": 1.27}, {\"year\": 1995, \"country\": \"Spain\", \"cluster\": 1, \"pop\": 39749715, \"life_expect\": 78.77, \"fertility\": 1.182}, {\"year\": 2000, \"country\": \"Spain\", \"cluster\": 1, \"pop\": 40016081, \"life_expect\": 79.78, \"fertility\": 1.287}, {\"year\": 2005, \"country\": \"Spain\", \"cluster\": 1, \"pop\": 40341462, \"life_expect\": 80.941, \"fertility\": 1.409}, {\"year\": 1955, \"country\": \"Switzerland\", \"cluster\": 1, \"pop\": 4980000, \"life_expect\": 70.56, \"fertility\": 2.34}, {\"year\": 1960, \"country\": \"Switzerland\", \"cluster\": 1, \"pop\": 5362000, \"life_expect\": 71.32, \"fertility\": 2.51}, {\"year\": 1965, \"country\": \"Switzerland\", \"cluster\": 1, \"pop\": 5943000, \"life_expect\": 72.77, \"fertility\": 2.27}, {\"year\": 1970, \"country\": \"Switzerland\", \"cluster\": 1, \"pop\": 6267000, \"life_expect\": 73.78, \"fertility\": 1.82}, {\"year\": 1975, \"country\": \"Switzerland\", \"cluster\": 1, \"pop\": 6403500, \"life_expect\": 75.39, \"fertility\": 1.53}, {\"year\": 1980, \"country\": \"Switzerland\", \"cluster\": 1, \"pop\": 6385229, \"life_expect\": 76.21, \"fertility\": 1.53}, {\"year\": 1985, \"country\": \"Switzerland\", \"cluster\": 1, \"pop\": 6563770, \"life_expect\": 77.41, \"fertility\": 1.53}, {\"year\": 1990, \"country\": \"Switzerland\", \"cluster\": 1, \"pop\": 6836626, \"life_expect\": 78.03, \"fertility\": 1.54}, {\"year\": 1995, \"country\": \"Switzerland\", \"cluster\": 1, \"pop\": 7157106, \"life_expect\": 79.37, \"fertility\": 1.47}, {\"year\": 2000, \"country\": \"Switzerland\", \"cluster\": 1, \"pop\": 7266920, \"life_expect\": 80.62, \"fertility\": 1.415}, {\"year\": 2005, \"country\": \"Switzerland\", \"cluster\": 1, \"pop\": 7489370, \"life_expect\": 81.701, \"fertility\": 1.42}, {\"year\": 1955, \"country\": \"Turkey\", \"cluster\": 1, \"pop\": 24144571, \"life_expect\": 48.079, \"fertility\": 6.6}, {\"year\": 1960, \"country\": \"Turkey\", \"cluster\": 1, \"pop\": 28217122, \"life_expect\": 52.098, \"fertility\": 6.19}, {\"year\": 1965, \"country\": \"Turkey\", \"cluster\": 1, \"pop\": 31950718, \"life_expect\": 54.336, \"fertility\": 5.7}, {\"year\": 1970, \"country\": \"Turkey\", \"cluster\": 1, \"pop\": 35758382, \"life_expect\": 57.005, \"fertility\": 5.3}, {\"year\": 1975, \"country\": \"Turkey\", \"cluster\": 1, \"pop\": 40529798, \"life_expect\": 59.507, \"fertility\": 4.715}, {\"year\": 1980, \"country\": \"Turkey\", \"cluster\": 1, \"pop\": 45120802, \"life_expect\": 61.036, \"fertility\": 4.15}, {\"year\": 1985, \"country\": \"Turkey\", \"cluster\": 1, \"pop\": 50669003, \"life_expect\": 63.108, \"fertility\": 3.276}, {\"year\": 1990, \"country\": \"Turkey\", \"cluster\": 1, \"pop\": 56084632, \"life_expect\": 66.146, \"fertility\": 2.904}, {\"year\": 1995, \"country\": \"Turkey\", \"cluster\": 1, \"pop\": 61188984, \"life_expect\": 68.835, \"fertility\": 2.574}, {\"year\": 2000, \"country\": \"Turkey\", \"cluster\": 1, \"pop\": 65666677, \"life_expect\": 70.845, \"fertility\": 2.23}, {\"year\": 2005, \"country\": \"Turkey\", \"cluster\": 1, \"pop\": 69660559, \"life_expect\": 71.777, \"fertility\": 2.143}, {\"year\": 1955, \"country\": \"United Kingdom\", \"cluster\": 1, \"pop\": 50946000, \"life_expect\": 70.42, \"fertility\": 2.49}, {\"year\": 1960, \"country\": \"United Kingdom\", \"cluster\": 1, \"pop\": 52372000, \"life_expect\": 70.76, \"fertility\": 2.81}, {\"year\": 1965, \"country\": \"United Kingdom\", \"cluster\": 1, \"pop\": 54350000, \"life_expect\": 71.36, \"fertility\": 2.52}, {\"year\": 1970, \"country\": \"United Kingdom\", \"cluster\": 1, \"pop\": 55632000, \"life_expect\": 72.01, \"fertility\": 2.04}, {\"year\": 1975, \"country\": \"United Kingdom\", \"cluster\": 1, \"pop\": 56215000, \"life_expect\": 72.76, \"fertility\": 1.72}, {\"year\": 1980, \"country\": \"United Kingdom\", \"cluster\": 1, \"pop\": 56314000, \"life_expect\": 74.04, \"fertility\": 1.8}, {\"year\": 1985, \"country\": \"United Kingdom\", \"cluster\": 1, \"pop\": 56620240, \"life_expect\": 75.007, \"fertility\": 1.81}, {\"year\": 1990, \"country\": \"United Kingdom\", \"cluster\": 1, \"pop\": 57493307, \"life_expect\": 76.42, \"fertility\": 1.78}, {\"year\": 1995, \"country\": \"United Kingdom\", \"cluster\": 1, \"pop\": 58426014, \"life_expect\": 77.218, \"fertility\": 1.7000000000000002}, {\"year\": 2000, \"country\": \"United Kingdom\", \"cluster\": 1, \"pop\": 59522468, \"life_expect\": 78.471, \"fertility\": 1.695}, {\"year\": 2005, \"country\": \"United Kingdom\", \"cluster\": 1, \"pop\": 60441457, \"life_expect\": 79.425, \"fertility\": 1.815}, {\"year\": 1955, \"country\": \"United States\", \"cluster\": 3, \"pop\": 165931000, \"life_expect\": 69.49, \"fertility\": 3.706}, {\"year\": 1960, \"country\": \"United States\", \"cluster\": 3, \"pop\": 180671000, \"life_expect\": 70.21, \"fertility\": 3.314}, {\"year\": 1965, \"country\": \"United States\", \"cluster\": 3, \"pop\": 194303000, \"life_expect\": 70.76, \"fertility\": 2.545}, {\"year\": 1970, \"country\": \"United States\", \"cluster\": 3, \"pop\": 205052000, \"life_expect\": 71.34, \"fertility\": 2.016}, {\"year\": 1975, \"country\": \"United States\", \"cluster\": 3, \"pop\": 215973000, \"life_expect\": 73.38, \"fertility\": 1.788}, {\"year\": 1980, \"country\": \"United States\", \"cluster\": 3, \"pop\": 227726463, \"life_expect\": 74.65, \"fertility\": 1.8250000000000002}, {\"year\": 1985, \"country\": \"United States\", \"cluster\": 3, \"pop\": 238466283, \"life_expect\": 75.02, \"fertility\": 1.924}, {\"year\": 1990, \"country\": \"United States\", \"cluster\": 3, \"pop\": 250131894, \"life_expect\": 76.09, \"fertility\": 2.025}, {\"year\": 1995, \"country\": \"United States\", \"cluster\": 3, \"pop\": 266557091, \"life_expect\": 76.81, \"fertility\": 1.994}, {\"year\": 2000, \"country\": \"United States\", \"cluster\": 3, \"pop\": 282338631, \"life_expect\": 77.31, \"fertility\": 2.038}, {\"year\": 2005, \"country\": \"United States\", \"cluster\": 3, \"pop\": 295734134, \"life_expect\": 78.242, \"fertility\": 2.054}, {\"year\": 1955, \"country\": \"Venezuela\", \"cluster\": 3, \"pop\": 6170497, \"life_expect\": 57.907, \"fertility\": 6.4585}, {\"year\": 1960, \"country\": \"Venezuela\", \"cluster\": 3, \"pop\": 7556483, \"life_expect\": 60.77, \"fertility\": 6.657}, {\"year\": 1965, \"country\": \"Venezuela\", \"cluster\": 3, \"pop\": 9067735, \"life_expect\": 63.479, \"fertility\": 5.9045000000000005}, {\"year\": 1970, \"country\": \"Venezuela\", \"cluster\": 3, \"pop\": 10758017, \"life_expect\": 65.712, \"fertility\": 4.941}, {\"year\": 1975, \"country\": \"Venezuela\", \"cluster\": 3, \"pop\": 12674987, \"life_expect\": 67.456, \"fertility\": 4.4685}, {\"year\": 1980, \"country\": \"Venezuela\", \"cluster\": 3, \"pop\": 14767890, \"life_expect\": 68.557, \"fertility\": 3.957}, {\"year\": 1985, \"country\": \"Venezuela\", \"cluster\": 3, \"pop\": 16997509, \"life_expect\": 70.19, \"fertility\": 3.6485000000000003}, {\"year\": 1990, \"country\": \"Venezuela\", \"cluster\": 3, \"pop\": 19325222, \"life_expect\": 71.15, \"fertility\": 3.25}, {\"year\": 1995, \"country\": \"Venezuela\", \"cluster\": 3, \"pop\": 21555902, \"life_expect\": 72.146, \"fertility\": 2.9415}, {\"year\": 2000, \"country\": \"Venezuela\", \"cluster\": 3, \"pop\": 23542649, \"life_expect\": 72.766, \"fertility\": 2.723}, {\"year\": 2005, \"country\": \"Venezuela\", \"cluster\": 3, \"pop\": 25375281, \"life_expect\": 73.747, \"fertility\": 2.547}]}}, {\"mode\": \"vega-lite\"});\n",
       "</script>"
      ],
      "text/plain": [
       "alt.Chart(...)"
      ]
     },
     "execution_count": 31,
     "metadata": {},
     "output_type": "execute_result"
    }
   ],
   "source": [
    "alt.Chart(data).mark_line().encode(\n",
    "    alt.X('year:O'),\n",
    "    alt.Y('fertility:Q'),\n",
    "    alt.Color('country:N', legend=None),\n",
    "    alt.Tooltip('country:N')\n",
    ").properties(\n",
    "    width=400\n",
    ")"
   ]
  },
  {
   "cell_type": "markdown",
   "metadata": {
    "colab_type": "text",
    "id": "qmV54UhSMPxU"
   },
   "source": [
    "We can see interesting variations per country, but overall trends for lower numbers of children per family over time. Also note that we set a custom width of 400 pixels. _Try changing (or removing) the widths and see what happens!_\n",
    "\n",
    "Let's change some of the default mark parameters to customize the plot. We can set the `strokeWidth` to determine the thickness of the lines and the `opacity` to add some transparency. By default, the `line` mark uses straight line segments to connect data points. In some cases we might want to smooth the lines. We can adjust the interpolation used to connect data points by setting the `interpolate` mark parameter. Let's use `'monotone'` interpolation to provide smooth lines that are also guaranteed not to inadvertently generate \"false\" minimum or maximum values as a result of the interpolation."
   ]
  },
  {
   "cell_type": "code",
   "execution_count": 33,
   "metadata": {
    "colab": {
     "base_uri": "https://localhost:8080/",
     "height": 385
    },
    "colab_type": "code",
    "id": "PbdSZMs43rgW",
    "outputId": "07007338-a2c7-4dc2-9f36-bb344e4103ec"
   },
   "outputs": [
    {
     "data": {
      "text/html": [
       "\n",
       "<div id=\"altair-viz-ffd334c2d024472ebf45195306199f46\"></div>\n",
       "<script type=\"text/javascript\">\n",
       "  (function(spec, embedOpt){\n",
       "    let outputDiv = document.currentScript.previousElementSibling;\n",
       "    if (outputDiv.id !== \"altair-viz-ffd334c2d024472ebf45195306199f46\") {\n",
       "      outputDiv = document.getElementById(\"altair-viz-ffd334c2d024472ebf45195306199f46\");\n",
       "    }\n",
       "    const paths = {\n",
       "      \"vega\": \"https://cdn.jsdelivr.net/npm//vega@5?noext\",\n",
       "      \"vega-lib\": \"https://cdn.jsdelivr.net/npm//vega-lib?noext\",\n",
       "      \"vega-lite\": \"https://cdn.jsdelivr.net/npm//vega-lite@4.8.1?noext\",\n",
       "      \"vega-embed\": \"https://cdn.jsdelivr.net/npm//vega-embed@6?noext\",\n",
       "    };\n",
       "\n",
       "    function loadScript(lib) {\n",
       "      return new Promise(function(resolve, reject) {\n",
       "        var s = document.createElement('script');\n",
       "        s.src = paths[lib];\n",
       "        s.async = true;\n",
       "        s.onload = () => resolve(paths[lib]);\n",
       "        s.onerror = () => reject(`Error loading script: ${paths[lib]}`);\n",
       "        document.getElementsByTagName(\"head\")[0].appendChild(s);\n",
       "      });\n",
       "    }\n",
       "\n",
       "    function showError(err) {\n",
       "      outputDiv.innerHTML = `<div class=\"error\" style=\"color:red;\">${err}</div>`;\n",
       "      throw err;\n",
       "    }\n",
       "\n",
       "    function displayChart(vegaEmbed) {\n",
       "      vegaEmbed(outputDiv, spec, embedOpt)\n",
       "        .catch(err => showError(`Javascript Error: ${err.message}<br>This usually means there's a typo in your chart specification. See the javascript console for the full traceback.`));\n",
       "    }\n",
       "\n",
       "    if(typeof define === \"function\" && define.amd) {\n",
       "      requirejs.config({paths});\n",
       "      require([\"vega-embed\"], displayChart, err => showError(`Error loading script: ${err.message}`));\n",
       "    } else if (typeof vegaEmbed === \"function\") {\n",
       "      displayChart(vegaEmbed);\n",
       "    } else {\n",
       "      loadScript(\"vega\")\n",
       "        .then(() => loadScript(\"vega-lite\"))\n",
       "        .then(() => loadScript(\"vega-embed\"))\n",
       "        .catch(showError)\n",
       "        .then(() => displayChart(vegaEmbed));\n",
       "    }\n",
       "  })({\"config\": {\"view\": {\"continuousWidth\": 400, \"continuousHeight\": 300}}, \"data\": {\"name\": \"data-89be1acdd14c7effd56f4dd0fabf92c3\"}, \"mark\": {\"type\": \"line\", \"interpolate\": \"monotone\", \"opacity\": 0.5, \"strokeWidth\": 3}, \"encoding\": {\"color\": {\"type\": \"nominal\", \"field\": \"country\", \"legend\": null}, \"tooltip\": {\"type\": \"nominal\", \"field\": \"country\"}, \"x\": {\"type\": \"ordinal\", \"field\": \"year\"}, \"y\": {\"type\": \"quantitative\", \"field\": \"fertility\"}}, \"width\": 400, \"$schema\": \"https://vega.github.io/schema/vega-lite/v4.8.1.json\", \"datasets\": {\"data-89be1acdd14c7effd56f4dd0fabf92c3\": [{\"year\": 1955, \"country\": \"Afghanistan\", \"cluster\": 0, \"pop\": 8891209, \"life_expect\": 30.332, \"fertility\": 7.7}, {\"year\": 1960, \"country\": \"Afghanistan\", \"cluster\": 0, \"pop\": 9829450, \"life_expect\": 31.997, \"fertility\": 7.7}, {\"year\": 1965, \"country\": \"Afghanistan\", \"cluster\": 0, \"pop\": 10997885, \"life_expect\": 34.02, \"fertility\": 7.7}, {\"year\": 1970, \"country\": \"Afghanistan\", \"cluster\": 0, \"pop\": 12430623, \"life_expect\": 36.088, \"fertility\": 7.7}, {\"year\": 1975, \"country\": \"Afghanistan\", \"cluster\": 0, \"pop\": 14132019, \"life_expect\": 38.438, \"fertility\": 7.7}, {\"year\": 1980, \"country\": \"Afghanistan\", \"cluster\": 0, \"pop\": 15112149, \"life_expect\": 39.854, \"fertility\": 7.8}, {\"year\": 1985, \"country\": \"Afghanistan\", \"cluster\": 0, \"pop\": 13796928, \"life_expect\": 40.822, \"fertility\": 7.9}, {\"year\": 1990, \"country\": \"Afghanistan\", \"cluster\": 0, \"pop\": 14669339, \"life_expect\": 41.674, \"fertility\": 8.0}, {\"year\": 1995, \"country\": \"Afghanistan\", \"cluster\": 0, \"pop\": 20881480, \"life_expect\": 41.763, \"fertility\": 8.0}, {\"year\": 2000, \"country\": \"Afghanistan\", \"cluster\": 0, \"pop\": 23898198, \"life_expect\": 42.129, \"fertility\": 7.4792}, {\"year\": 2005, \"country\": \"Afghanistan\", \"cluster\": 0, \"pop\": 29928987, \"life_expect\": 43.828, \"fertility\": 7.0685}, {\"year\": 1955, \"country\": \"Argentina\", \"cluster\": 3, \"pop\": 18927821, \"life_expect\": 64.399, \"fertility\": 3.1265}, {\"year\": 1960, \"country\": \"Argentina\", \"cluster\": 3, \"pop\": 20616009, \"life_expect\": 65.142, \"fertility\": 3.0895}, {\"year\": 1965, \"country\": \"Argentina\", \"cluster\": 3, \"pop\": 22283100, \"life_expect\": 65.634, \"fertility\": 3.049}, {\"year\": 1970, \"country\": \"Argentina\", \"cluster\": 3, \"pop\": 23962313, \"life_expect\": 67.065, \"fertility\": 3.1455}, {\"year\": 1975, \"country\": \"Argentina\", \"cluster\": 3, \"pop\": 26081880, \"life_expect\": 68.481, \"fertility\": 3.44}, {\"year\": 1980, \"country\": \"Argentina\", \"cluster\": 3, \"pop\": 28369799, \"life_expect\": 69.942, \"fertility\": 3.15}, {\"year\": 1985, \"country\": \"Argentina\", \"cluster\": 3, \"pop\": 30675059, \"life_expect\": 70.774, \"fertility\": 3.053}, {\"year\": 1990, \"country\": \"Argentina\", \"cluster\": 3, \"pop\": 33022202, \"life_expect\": 71.868, \"fertility\": 2.9}, {\"year\": 1995, \"country\": \"Argentina\", \"cluster\": 3, \"pop\": 35311049, \"life_expect\": 73.275, \"fertility\": 2.63}, {\"year\": 2000, \"country\": \"Argentina\", \"cluster\": 3, \"pop\": 37497728, \"life_expect\": 74.34, \"fertility\": 2.35}, {\"year\": 2005, \"country\": \"Argentina\", \"cluster\": 3, \"pop\": 39537943, \"life_expect\": 75.32, \"fertility\": 2.254}, {\"year\": 1955, \"country\": \"Aruba\", \"cluster\": 3, \"pop\": 53865, \"life_expect\": 64.381, \"fertility\": 5.15}, {\"year\": 1960, \"country\": \"Aruba\", \"cluster\": 3, \"pop\": 57203, \"life_expect\": 66.606, \"fertility\": 4.399}, {\"year\": 1965, \"country\": \"Aruba\", \"cluster\": 3, \"pop\": 59020, \"life_expect\": 68.336, \"fertility\": 3.301}, {\"year\": 1970, \"country\": \"Aruba\", \"cluster\": 3, \"pop\": 59039, \"life_expect\": 70.941, \"fertility\": 2.651}, {\"year\": 1975, \"country\": \"Aruba\", \"cluster\": 3, \"pop\": 59390, \"life_expect\": 71.83, \"fertility\": 2.45}, {\"year\": 1980, \"country\": \"Aruba\", \"cluster\": 3, \"pop\": 60266, \"life_expect\": 74.116, \"fertility\": 2.358}, {\"year\": 1985, \"country\": \"Aruba\", \"cluster\": 3, \"pop\": 64129, \"life_expect\": 74.494, \"fertility\": 2.3}, {\"year\": 1990, \"country\": \"Aruba\", \"cluster\": 3, \"pop\": 66653, \"life_expect\": 74.108, \"fertility\": 2.2800000000000002}, {\"year\": 1995, \"country\": \"Aruba\", \"cluster\": 3, \"pop\": 67836, \"life_expect\": 73.011, \"fertility\": 2.208}, {\"year\": 2000, \"country\": \"Aruba\", \"cluster\": 3, \"pop\": 69539, \"life_expect\": 73.451, \"fertility\": 2.124}, {\"year\": 2005, \"country\": \"Aruba\", \"cluster\": 3, \"pop\": 71566, \"life_expect\": 74.239, \"fertility\": 2.04}, {\"year\": 1955, \"country\": \"Australia\", \"cluster\": 4, \"pop\": 9277087, \"life_expect\": 70.33, \"fertility\": 3.406}, {\"year\": 1960, \"country\": \"Australia\", \"cluster\": 4, \"pop\": 10361273, \"life_expect\": 70.93, \"fertility\": 3.274}, {\"year\": 1965, \"country\": \"Australia\", \"cluster\": 4, \"pop\": 11439384, \"life_expect\": 71.1, \"fertility\": 2.871}, {\"year\": 1970, \"country\": \"Australia\", \"cluster\": 4, \"pop\": 12660160, \"life_expect\": 71.93, \"fertility\": 2.535}, {\"year\": 1975, \"country\": \"Australia\", \"cluster\": 4, \"pop\": 13771400, \"life_expect\": 73.49, \"fertility\": 1.9889999999999999}, {\"year\": 1980, \"country\": \"Australia\", \"cluster\": 4, \"pop\": 14615900, \"life_expect\": 74.74, \"fertility\": 1.907}, {\"year\": 1985, \"country\": \"Australia\", \"cluster\": 4, \"pop\": 15788300, \"life_expect\": 76.32, \"fertility\": 1.859}, {\"year\": 1990, \"country\": \"Australia\", \"cluster\": 4, \"pop\": 17022133, \"life_expect\": 77.56, \"fertility\": 1.8599999999999999}, {\"year\": 1995, \"country\": \"Australia\", \"cluster\": 4, \"pop\": 18116171, \"life_expect\": 78.83, \"fertility\": 1.776}, {\"year\": 2000, \"country\": \"Australia\", \"cluster\": 4, \"pop\": 19164620, \"life_expect\": 80.37, \"fertility\": 1.756}, {\"year\": 2005, \"country\": \"Australia\", \"cluster\": 4, \"pop\": 20090437, \"life_expect\": 81.235, \"fertility\": 1.788}, {\"year\": 1955, \"country\": \"Austria\", \"cluster\": 1, \"pop\": 6946885, \"life_expect\": 67.48, \"fertility\": 2.52}, {\"year\": 1960, \"country\": \"Austria\", \"cluster\": 1, \"pop\": 7047437, \"life_expect\": 69.54, \"fertility\": 2.7800000000000002}, {\"year\": 1965, \"country\": \"Austria\", \"cluster\": 1, \"pop\": 7270889, \"life_expect\": 70.14, \"fertility\": 2.5300000000000002}, {\"year\": 1970, \"country\": \"Austria\", \"cluster\": 1, \"pop\": 7467086, \"life_expect\": 70.63, \"fertility\": 2.02}, {\"year\": 1975, \"country\": \"Austria\", \"cluster\": 1, \"pop\": 7578903, \"life_expect\": 72.17, \"fertility\": 1.6400000000000001}, {\"year\": 1980, \"country\": \"Austria\", \"cluster\": 1, \"pop\": 7549433, \"life_expect\": 73.18, \"fertility\": 1.62}, {\"year\": 1985, \"country\": \"Austria\", \"cluster\": 1, \"pop\": 7559776, \"life_expect\": 74.94, \"fertility\": 1.45}, {\"year\": 1990, \"country\": \"Austria\", \"cluster\": 1, \"pop\": 7722953, \"life_expect\": 76.04, \"fertility\": 1.47}, {\"year\": 1995, \"country\": \"Austria\", \"cluster\": 1, \"pop\": 8047433, \"life_expect\": 77.51, \"fertility\": 1.388}, {\"year\": 2000, \"country\": \"Austria\", \"cluster\": 1, \"pop\": 8113413, \"life_expect\": 78.98, \"fertility\": 1.3820000000000001}, {\"year\": 2005, \"country\": \"Austria\", \"cluster\": 1, \"pop\": 8184691, \"life_expect\": 79.829, \"fertility\": 1.42}, {\"year\": 1955, \"country\": \"Bahamas\", \"cluster\": 3, \"pop\": 87138, \"life_expect\": 62.405, \"fertility\": 4.305}, {\"year\": 1960, \"country\": \"Bahamas\", \"cluster\": 3, \"pop\": 112234, \"life_expect\": 64.209, \"fertility\": 4.503}, {\"year\": 1965, \"country\": \"Bahamas\", \"cluster\": 3, \"pop\": 139205, \"life_expect\": 65.795, \"fertility\": 3.794}, {\"year\": 1970, \"country\": \"Bahamas\", \"cluster\": 3, \"pop\": 170323, \"life_expect\": 66.515, \"fertility\": 3.444}, {\"year\": 1975, \"country\": \"Bahamas\", \"cluster\": 3, \"pop\": 189139, \"life_expect\": 67.199, \"fertility\": 3.221}, {\"year\": 1980, \"country\": \"Bahamas\", \"cluster\": 3, \"pop\": 209944, \"life_expect\": 67.874, \"fertility\": 3.16}, {\"year\": 1985, \"country\": \"Bahamas\", \"cluster\": 3, \"pop\": 234988, \"life_expect\": 69.524, \"fertility\": 2.62}, {\"year\": 1990, \"country\": \"Bahamas\", \"cluster\": 3, \"pop\": 257253, \"life_expect\": 69.171, \"fertility\": 2.6}, {\"year\": 1995, \"country\": \"Bahamas\", \"cluster\": 3, \"pop\": 275303, \"life_expect\": 68.472, \"fertility\": 2.4}, {\"year\": 2000, \"country\": \"Bahamas\", \"cluster\": 3, \"pop\": 290075, \"life_expect\": 71.068, \"fertility\": 2.1111}, {\"year\": 2005, \"country\": \"Bahamas\", \"cluster\": 3, \"pop\": 301790, \"life_expect\": 73.495, \"fertility\": 2.0221}, {\"year\": 1955, \"country\": \"Bangladesh\", \"cluster\": 0, \"pop\": 49601520, \"life_expect\": 39.348, \"fertility\": 6.76}, {\"year\": 1960, \"country\": \"Bangladesh\", \"cluster\": 0, \"pop\": 54621538, \"life_expect\": 41.216, \"fertility\": 6.85}, {\"year\": 1965, \"country\": \"Bangladesh\", \"cluster\": 0, \"pop\": 60332117, \"life_expect\": 43.453, \"fertility\": 6.6}, {\"year\": 1970, \"country\": \"Bangladesh\", \"cluster\": 0, \"pop\": 67402621, \"life_expect\": 45.252, \"fertility\": 6.15}, {\"year\": 1975, \"country\": \"Bangladesh\", \"cluster\": 0, \"pop\": 76253310, \"life_expect\": 46.923, \"fertility\": 5.6}, {\"year\": 1980, \"country\": \"Bangladesh\", \"cluster\": 0, \"pop\": 88076996, \"life_expect\": 50.009, \"fertility\": 5.25}, {\"year\": 1985, \"country\": \"Bangladesh\", \"cluster\": 0, \"pop\": 99752733, \"life_expect\": 52.819, \"fertility\": 4.629}, {\"year\": 1990, \"country\": \"Bangladesh\", \"cluster\": 0, \"pop\": 109896945, \"life_expect\": 56.018, \"fertility\": 4.117}, {\"year\": 1995, \"country\": \"Bangladesh\", \"cluster\": 0, \"pop\": 119186448, \"life_expect\": 59.412, \"fertility\": 3.5042999999999997}, {\"year\": 2000, \"country\": \"Bangladesh\", \"cluster\": 0, \"pop\": 130406594, \"life_expect\": 62.013, \"fertility\": 3.224}, {\"year\": 2005, \"country\": \"Bangladesh\", \"cluster\": 0, \"pop\": 144319628, \"life_expect\": 64.062, \"fertility\": 2.826}, {\"year\": 1955, \"country\": \"Barbados\", \"cluster\": 3, \"pop\": 227255, \"life_expect\": 62.57, \"fertility\": 4.67}, {\"year\": 1960, \"country\": \"Barbados\", \"cluster\": 3, \"pop\": 232339, \"life_expect\": 65.87, \"fertility\": 4.26}, {\"year\": 1965, \"country\": \"Barbados\", \"cluster\": 3, \"pop\": 234980, \"life_expect\": 67.62, \"fertility\": 3.45}, {\"year\": 1970, \"country\": \"Barbados\", \"cluster\": 3, \"pop\": 238756, \"life_expect\": 69.42, \"fertility\": 2.74}, {\"year\": 1975, \"country\": \"Barbados\", \"cluster\": 3, \"pop\": 247147, \"life_expect\": 71.27, \"fertility\": 2.19}, {\"year\": 1980, \"country\": \"Barbados\", \"cluster\": 3, \"pop\": 251966, \"life_expect\": 72.695, \"fertility\": 1.92}, {\"year\": 1985, \"country\": \"Barbados\", \"cluster\": 3, \"pop\": 257446, \"life_expect\": 74.027, \"fertility\": 1.75}, {\"year\": 1990, \"country\": \"Barbados\", \"cluster\": 3, \"pop\": 262624, \"life_expect\": 74.894, \"fertility\": 1.6}, {\"year\": 1995, \"country\": \"Barbados\", \"cluster\": 3, \"pop\": 267907, \"life_expect\": 74.912, \"fertility\": 1.5}, {\"year\": 2000, \"country\": \"Barbados\", \"cluster\": 3, \"pop\": 273483, \"life_expect\": 75.97, \"fertility\": 1.5}, {\"year\": 2005, \"country\": \"Barbados\", \"cluster\": 3, \"pop\": 278870, \"life_expect\": 77.296, \"fertility\": 1.5}, {\"year\": 1955, \"country\": \"Belgium\", \"cluster\": 1, \"pop\": 8868475, \"life_expect\": 69.24, \"fertility\": 2.496}, {\"year\": 1960, \"country\": \"Belgium\", \"cluster\": 1, \"pop\": 9118700, \"life_expect\": 70.25, \"fertility\": 2.644}, {\"year\": 1965, \"country\": \"Belgium\", \"cluster\": 1, \"pop\": 9448100, \"life_expect\": 70.94, \"fertility\": 2.392}, {\"year\": 1970, \"country\": \"Belgium\", \"cluster\": 1, \"pop\": 9637800, \"life_expect\": 71.44, \"fertility\": 2.015}, {\"year\": 1975, \"country\": \"Belgium\", \"cluster\": 1, \"pop\": 9794800, \"life_expect\": 72.8, \"fertility\": 1.705}, {\"year\": 1980, \"country\": \"Belgium\", \"cluster\": 1, \"pop\": 9846800, \"life_expect\": 73.93, \"fertility\": 1.595}, {\"year\": 1985, \"country\": \"Belgium\", \"cluster\": 1, \"pop\": 9858200, \"life_expect\": 75.35, \"fertility\": 1.5590000000000002}, {\"year\": 1990, \"country\": \"Belgium\", \"cluster\": 1, \"pop\": 9969310, \"life_expect\": 76.46, \"fertility\": 1.613}, {\"year\": 1995, \"country\": \"Belgium\", \"cluster\": 1, \"pop\": 10155459, \"life_expect\": 77.53, \"fertility\": 1.604}, {\"year\": 2000, \"country\": \"Belgium\", \"cluster\": 1, \"pop\": 10263618, \"life_expect\": 78.32, \"fertility\": 1.638}, {\"year\": 2005, \"country\": \"Belgium\", \"cluster\": 1, \"pop\": 10364388, \"life_expect\": 79.441, \"fertility\": 1.646}, {\"year\": 1955, \"country\": \"Bolivia\", \"cluster\": 3, \"pop\": 3074311, \"life_expect\": 41.89, \"fertility\": 6.75}, {\"year\": 1960, \"country\": \"Bolivia\", \"cluster\": 3, \"pop\": 3434073, \"life_expect\": 43.428, \"fertility\": 6.63}, {\"year\": 1965, \"country\": \"Bolivia\", \"cluster\": 3, \"pop\": 3853315, \"life_expect\": 45.032, \"fertility\": 6.5600000000000005}, {\"year\": 1970, \"country\": \"Bolivia\", \"cluster\": 3, \"pop\": 4346218, \"life_expect\": 46.714, \"fertility\": 6.5}, {\"year\": 1975, \"country\": \"Bolivia\", \"cluster\": 3, \"pop\": 4914316, \"life_expect\": 50.023, \"fertility\": 5.8}, {\"year\": 1980, \"country\": \"Bolivia\", \"cluster\": 3, \"pop\": 5441298, \"life_expect\": 53.859, \"fertility\": 5.2995}, {\"year\": 1985, \"country\": \"Bolivia\", \"cluster\": 3, \"pop\": 5934935, \"life_expect\": 57.251, \"fertility\": 5.0}, {\"year\": 1990, \"country\": \"Bolivia\", \"cluster\": 3, \"pop\": 6573900, \"life_expect\": 59.957, \"fertility\": 4.8}, {\"year\": 1995, \"country\": \"Bolivia\", \"cluster\": 3, \"pop\": 7376582, \"life_expect\": 62.05, \"fertility\": 4.324}, {\"year\": 2000, \"country\": \"Bolivia\", \"cluster\": 3, \"pop\": 8152620, \"life_expect\": 63.883, \"fertility\": 3.9585}, {\"year\": 2005, \"country\": \"Bolivia\", \"cluster\": 3, \"pop\": 8857870, \"life_expect\": 65.554, \"fertility\": 3.5}, {\"year\": 1955, \"country\": \"Brazil\", \"cluster\": 3, \"pop\": 61773546, \"life_expect\": 53.285, \"fertility\": 6.1501}, {\"year\": 1960, \"country\": \"Brazil\", \"cluster\": 3, \"pop\": 71694810, \"life_expect\": 55.665, \"fertility\": 6.1501}, {\"year\": 1965, \"country\": \"Brazil\", \"cluster\": 3, \"pop\": 83092908, \"life_expect\": 57.632, \"fertility\": 5.38}, {\"year\": 1970, \"country\": \"Brazil\", \"cluster\": 3, \"pop\": 95684297, \"life_expect\": 59.504, \"fertility\": 4.7175}, {\"year\": 1975, \"country\": \"Brazil\", \"cluster\": 3, \"pop\": 108823732, \"life_expect\": 61.489, \"fertility\": 4.305}, {\"year\": 1980, \"country\": \"Brazil\", \"cluster\": 3, \"pop\": 122958132, \"life_expect\": 63.336, \"fertility\": 3.8}, {\"year\": 1985, \"country\": \"Brazil\", \"cluster\": 3, \"pop\": 137302933, \"life_expect\": 65.205, \"fertility\": 3.1}, {\"year\": 1990, \"country\": \"Brazil\", \"cluster\": 3, \"pop\": 151083809, \"life_expect\": 67.057, \"fertility\": 2.6}, {\"year\": 1995, \"country\": \"Brazil\", \"cluster\": 3, \"pop\": 163542501, \"life_expect\": 69.388, \"fertility\": 2.45}, {\"year\": 2000, \"country\": \"Brazil\", \"cluster\": 3, \"pop\": 175552771, \"life_expect\": 71.006, \"fertility\": 2.345}, {\"year\": 2005, \"country\": \"Brazil\", \"cluster\": 3, \"pop\": 186112794, \"life_expect\": 72.39, \"fertility\": 2.245}, {\"year\": 1955, \"country\": \"Canada\", \"cluster\": 3, \"pop\": 16050356, \"life_expect\": 69.96, \"fertility\": 3.882}, {\"year\": 1960, \"country\": \"Canada\", \"cluster\": 3, \"pop\": 18266765, \"life_expect\": 71.3, \"fertility\": 3.675}, {\"year\": 1965, \"country\": \"Canada\", \"cluster\": 3, \"pop\": 20071104, \"life_expect\": 72.13, \"fertility\": 2.61}, {\"year\": 1970, \"country\": \"Canada\", \"cluster\": 3, \"pop\": 21749986, \"life_expect\": 72.88, \"fertility\": 1.976}, {\"year\": 1975, \"country\": \"Canada\", \"cluster\": 3, \"pop\": 23209200, \"life_expect\": 74.21, \"fertility\": 1.734}, {\"year\": 1980, \"country\": \"Canada\", \"cluster\": 3, \"pop\": 24593300, \"life_expect\": 75.76, \"fertility\": 1.634}, {\"year\": 1985, \"country\": \"Canada\", \"cluster\": 3, \"pop\": 25941600, \"life_expect\": 76.86, \"fertility\": 1.616}, {\"year\": 1990, \"country\": \"Canada\", \"cluster\": 3, \"pop\": 27790600, \"life_expect\": 77.95, \"fertility\": 1.694}, {\"year\": 1995, \"country\": \"Canada\", \"cluster\": 3, \"pop\": 29619002, \"life_expect\": 78.61, \"fertility\": 1.564}, {\"year\": 2000, \"country\": \"Canada\", \"cluster\": 3, \"pop\": 31278097, \"life_expect\": 79.77, \"fertility\": 1.522}, {\"year\": 2005, \"country\": \"Canada\", \"cluster\": 3, \"pop\": 32805041, \"life_expect\": 80.653, \"fertility\": 1.5270000000000001}, {\"year\": 1955, \"country\": \"Chile\", \"cluster\": 3, \"pop\": 6743269, \"life_expect\": 56.074, \"fertility\": 5.486}, {\"year\": 1960, \"country\": \"Chile\", \"cluster\": 3, \"pop\": 7585349, \"life_expect\": 57.924, \"fertility\": 5.4385}, {\"year\": 1965, \"country\": \"Chile\", \"cluster\": 3, \"pop\": 8509950, \"life_expect\": 60.523, \"fertility\": 4.4405}, {\"year\": 1970, \"country\": \"Chile\", \"cluster\": 3, \"pop\": 9368558, \"life_expect\": 63.441, \"fertility\": 3.63}, {\"year\": 1975, \"country\": \"Chile\", \"cluster\": 3, \"pop\": 10251542, \"life_expect\": 67.052, \"fertility\": 2.803}, {\"year\": 1980, \"country\": \"Chile\", \"cluster\": 3, \"pop\": 11093718, \"life_expect\": 70.565, \"fertility\": 2.6710000000000003}, {\"year\": 1985, \"country\": \"Chile\", \"cluster\": 3, \"pop\": 12066701, \"life_expect\": 72.492, \"fertility\": 2.65}, {\"year\": 1990, \"country\": \"Chile\", \"cluster\": 3, \"pop\": 13127760, \"life_expect\": 74.126, \"fertility\": 2.55}, {\"year\": 1995, \"country\": \"Chile\", \"cluster\": 3, \"pop\": 14205449, \"life_expect\": 75.816, \"fertility\": 2.21}, {\"year\": 2000, \"country\": \"Chile\", \"cluster\": 3, \"pop\": 15153450, \"life_expect\": 77.86, \"fertility\": 2.0}, {\"year\": 2005, \"country\": \"Chile\", \"cluster\": 3, \"pop\": 15980912, \"life_expect\": 78.553, \"fertility\": 1.944}, {\"year\": 1955, \"country\": \"China\", \"cluster\": 4, \"pop\": 608655000, \"life_expect\": 50.54896, \"fertility\": 5.59}, {\"year\": 1960, \"country\": \"China\", \"cluster\": 4, \"pop\": 667070000, \"life_expect\": 44.50136, \"fertility\": 5.72}, {\"year\": 1965, \"country\": \"China\", \"cluster\": 4, \"pop\": 715185000, \"life_expect\": 58.38112, \"fertility\": 6.06}, {\"year\": 1970, \"country\": \"China\", \"cluster\": 4, \"pop\": 818315000, \"life_expect\": 63.11888, \"fertility\": 4.86}, {\"year\": 1975, \"country\": \"China\", \"cluster\": 4, \"pop\": 916395000, \"life_expect\": 63.96736, \"fertility\": 3.32}, {\"year\": 1980, \"country\": \"China\", \"cluster\": 4, \"pop\": 981235000, \"life_expect\": 65.525, \"fertility\": 2.55}, {\"year\": 1985, \"country\": \"China\", \"cluster\": 4, \"pop\": 1051040000, \"life_expect\": 67.274, \"fertility\": 2.46}, {\"year\": 1990, \"country\": \"China\", \"cluster\": 4, \"pop\": 1135185000, \"life_expect\": 68.69, \"fertility\": 1.92}, {\"year\": 1995, \"country\": \"China\", \"cluster\": 4, \"pop\": 1204855000, \"life_expect\": 70.426, \"fertility\": 1.7810000000000001}, {\"year\": 2000, \"country\": \"China\", \"cluster\": 4, \"pop\": 1262645000, \"life_expect\": 72.028, \"fertility\": 1.7000000000000002}, {\"year\": 2005, \"country\": \"China\", \"cluster\": 4, \"pop\": 1303182268, \"life_expect\": 72.961, \"fertility\": 1.725}, {\"year\": 1955, \"country\": \"Colombia\", \"cluster\": 3, \"pop\": 13588405, \"life_expect\": 55.118, \"fertility\": 6.76}, {\"year\": 1960, \"country\": \"Colombia\", \"cluster\": 3, \"pop\": 15952727, \"life_expect\": 57.863, \"fertility\": 6.76}, {\"year\": 1965, \"country\": \"Colombia\", \"cluster\": 3, \"pop\": 18646175, \"life_expect\": 59.963, \"fertility\": 6.18}, {\"year\": 1970, \"country\": \"Colombia\", \"cluster\": 3, \"pop\": 21429658, \"life_expect\": 61.623, \"fertility\": 5.0005}, {\"year\": 1975, \"country\": \"Colombia\", \"cluster\": 3, \"pop\": 24114177, \"life_expect\": 63.837, \"fertility\": 4.3385}, {\"year\": 1980, \"country\": \"Colombia\", \"cluster\": 3, \"pop\": 26582811, \"life_expect\": 66.653, \"fertility\": 3.685}, {\"year\": 1985, \"country\": \"Colombia\", \"cluster\": 3, \"pop\": 29678395, \"life_expect\": 67.768, \"fertility\": 3.172}, {\"year\": 1990, \"country\": \"Colombia\", \"cluster\": 3, \"pop\": 32858579, \"life_expect\": 68.421, \"fertility\": 2.93005}, {\"year\": 1995, \"country\": \"Colombia\", \"cluster\": 3, \"pop\": 36280883, \"life_expect\": 70.313, \"fertility\": 2.7}, {\"year\": 2000, \"country\": \"Colombia\", \"cluster\": 3, \"pop\": 39685655, \"life_expect\": 71.682, \"fertility\": 2.4705}, {\"year\": 2005, \"country\": \"Colombia\", \"cluster\": 3, \"pop\": 42954279, \"life_expect\": 72.889, \"fertility\": 2.2205}, {\"year\": 1955, \"country\": \"Costa Rica\", \"cluster\": 3, \"pop\": 1031782, \"life_expect\": 60.026, \"fertility\": 7.1135}, {\"year\": 1960, \"country\": \"Costa Rica\", \"cluster\": 3, \"pop\": 1248022, \"life_expect\": 62.842, \"fertility\": 7.2245}, {\"year\": 1965, \"country\": \"Costa Rica\", \"cluster\": 3, \"pop\": 1487605, \"life_expect\": 65.424, \"fertility\": 5.801}, {\"year\": 1970, \"country\": \"Costa Rica\", \"cluster\": 3, \"pop\": 1735523, \"life_expect\": 67.849, \"fertility\": 4.346}, {\"year\": 1975, \"country\": \"Costa Rica\", \"cluster\": 3, \"pop\": 1991580, \"life_expect\": 70.75, \"fertility\": 3.7755}, {\"year\": 1980, \"country\": \"Costa Rica\", \"cluster\": 3, \"pop\": 2299124, \"life_expect\": 73.45, \"fertility\": 3.527}, {\"year\": 1985, \"country\": \"Costa Rica\", \"cluster\": 3, \"pop\": 2643808, \"life_expect\": 74.752, \"fertility\": 3.374}, {\"year\": 1990, \"country\": \"Costa Rica\", \"cluster\": 3, \"pop\": 3027175, \"life_expect\": 75.713, \"fertility\": 2.9450000000000003}, {\"year\": 1995, \"country\": \"Costa Rica\", \"cluster\": 3, \"pop\": 3383786, \"life_expect\": 77.26, \"fertility\": 2.5835}, {\"year\": 2000, \"country\": \"Costa Rica\", \"cluster\": 3, \"pop\": 3710558, \"life_expect\": 78.123, \"fertility\": 2.2815}, {\"year\": 2005, \"country\": \"Costa Rica\", \"cluster\": 3, \"pop\": 4016173, \"life_expect\": 78.782, \"fertility\": 2.0985}, {\"year\": 1955, \"country\": \"Croatia\", \"cluster\": 1, \"pop\": 3955526, \"life_expect\": 64.77, \"fertility\": 2.42}, {\"year\": 1960, \"country\": \"Croatia\", \"cluster\": 1, \"pop\": 4036145, \"life_expect\": 67.13, \"fertility\": 2.27}, {\"year\": 1965, \"country\": \"Croatia\", \"cluster\": 1, \"pop\": 4133313, \"life_expect\": 68.5, \"fertility\": 2.09}, {\"year\": 1970, \"country\": \"Croatia\", \"cluster\": 1, \"pop\": 4205389, \"life_expect\": 69.61, \"fertility\": 1.96}, {\"year\": 1975, \"country\": \"Croatia\", \"cluster\": 1, \"pop\": 4255000, \"life_expect\": 70.64, \"fertility\": 2.02}, {\"year\": 1980, \"country\": \"Croatia\", \"cluster\": 1, \"pop\": 4383000, \"life_expect\": 70.46, \"fertility\": 1.96}, {\"year\": 1985, \"country\": \"Croatia\", \"cluster\": 1, \"pop\": 4457874, \"life_expect\": 71.52, \"fertility\": 1.8399999999999999}, {\"year\": 1990, \"country\": \"Croatia\", \"cluster\": 1, \"pop\": 4508347, \"life_expect\": 72.527, \"fertility\": 1.52}, {\"year\": 1995, \"country\": \"Croatia\", \"cluster\": 1, \"pop\": 4496683, \"life_expect\": 73.68, \"fertility\": 1.537}, {\"year\": 2000, \"country\": \"Croatia\", \"cluster\": 1, \"pop\": 4410830, \"life_expect\": 74.876, \"fertility\": 1.348}, {\"year\": 2005, \"country\": \"Croatia\", \"cluster\": 1, \"pop\": 4495904, \"life_expect\": 75.748, \"fertility\": 1.346}, {\"year\": 1955, \"country\": \"Cuba\", \"cluster\": 3, \"pop\": 6381106, \"life_expect\": 62.325, \"fertility\": 3.6995}, {\"year\": 1960, \"country\": \"Cuba\", \"cluster\": 3, \"pop\": 7027210, \"life_expect\": 65.246, \"fertility\": 4.6805}, {\"year\": 1965, \"country\": \"Cuba\", \"cluster\": 3, \"pop\": 7809916, \"life_expect\": 68.29, \"fertility\": 4.3}, {\"year\": 1970, \"country\": \"Cuba\", \"cluster\": 3, \"pop\": 8542746, \"life_expect\": 70.723, \"fertility\": 3.6}, {\"year\": 1975, \"country\": \"Cuba\", \"cluster\": 3, \"pop\": 9290074, \"life_expect\": 72.649, \"fertility\": 2.15}, {\"year\": 1980, \"country\": \"Cuba\", \"cluster\": 3, \"pop\": 9652975, \"life_expect\": 73.717, \"fertility\": 1.8495}, {\"year\": 1985, \"country\": \"Cuba\", \"cluster\": 3, \"pop\": 10078658, \"life_expect\": 74.174, \"fertility\": 1.8495}, {\"year\": 1990, \"country\": \"Cuba\", \"cluster\": 3, \"pop\": 10544793, \"life_expect\": 74.414, \"fertility\": 1.6505}, {\"year\": 1995, \"country\": \"Cuba\", \"cluster\": 3, \"pop\": 10896802, \"life_expect\": 76.151, \"fertility\": 1.6095000000000002}, {\"year\": 2000, \"country\": \"Cuba\", \"cluster\": 3, \"pop\": 11134273, \"life_expect\": 77.158, \"fertility\": 1.63}, {\"year\": 2005, \"country\": \"Cuba\", \"cluster\": 3, \"pop\": 11346670, \"life_expect\": 78.273, \"fertility\": 1.49}, {\"year\": 1955, \"country\": \"Dominican Republic\", \"cluster\": 3, \"pop\": 2737257, \"life_expect\": 49.828, \"fertility\": 7.6405}, {\"year\": 1960, \"country\": \"Dominican Republic\", \"cluster\": 3, \"pop\": 3231488, \"life_expect\": 53.459, \"fertility\": 7.3505}, {\"year\": 1965, \"country\": \"Dominican Republic\", \"cluster\": 3, \"pop\": 3805881, \"life_expect\": 56.751, \"fertility\": 6.6495}, {\"year\": 1970, \"country\": \"Dominican Republic\", \"cluster\": 3, \"pop\": 4422755, \"life_expect\": 59.631, \"fertility\": 5.71}, {\"year\": 1975, \"country\": \"Dominican Republic\", \"cluster\": 3, \"pop\": 5048499, \"life_expect\": 61.788, \"fertility\": 4.76}, {\"year\": 1980, \"country\": \"Dominican Republic\", \"cluster\": 3, \"pop\": 5696855, \"life_expect\": 63.727, \"fertility\": 4.0}, {\"year\": 1985, \"country\": \"Dominican Republic\", \"cluster\": 3, \"pop\": 6377765, \"life_expect\": 66.046, \"fertility\": 3.47}, {\"year\": 1990, \"country\": \"Dominican Republic\", \"cluster\": 3, \"pop\": 7077651, \"life_expect\": 68.457, \"fertility\": 3.1995}, {\"year\": 1995, \"country\": \"Dominican Republic\", \"cluster\": 3, \"pop\": 7730224, \"life_expect\": 69.957, \"fertility\": 3.05}, {\"year\": 2000, \"country\": \"Dominican Republic\", \"cluster\": 3, \"pop\": 8385828, \"life_expect\": 70.847, \"fertility\": 2.95}, {\"year\": 2005, \"country\": \"Dominican Republic\", \"cluster\": 3, \"pop\": 9049595, \"life_expect\": 72.235, \"fertility\": 2.81}, {\"year\": 1955, \"country\": \"Ecuador\", \"cluster\": 3, \"pop\": 3842399, \"life_expect\": 51.356, \"fertility\": 6.7}, {\"year\": 1960, \"country\": \"Ecuador\", \"cluster\": 3, \"pop\": 4415956, \"life_expect\": 54.64, \"fertility\": 6.7}, {\"year\": 1965, \"country\": \"Ecuador\", \"cluster\": 3, \"pop\": 5117779, \"life_expect\": 56.678, \"fertility\": 6.5}, {\"year\": 1970, \"country\": \"Ecuador\", \"cluster\": 3, \"pop\": 5939246, \"life_expect\": 58.796, \"fertility\": 6.0005}, {\"year\": 1975, \"country\": \"Ecuador\", \"cluster\": 3, \"pop\": 6871698, \"life_expect\": 61.31, \"fertility\": 5.4005}, {\"year\": 1980, \"country\": \"Ecuador\", \"cluster\": 3, \"pop\": 7920499, \"life_expect\": 64.342, \"fertility\": 4.7005}, {\"year\": 1985, \"country\": \"Ecuador\", \"cluster\": 3, \"pop\": 9061664, \"life_expect\": 67.231, \"fertility\": 4.0}, {\"year\": 1990, \"country\": \"Ecuador\", \"cluster\": 3, \"pop\": 10318036, \"life_expect\": 69.613, \"fertility\": 3.4005}, {\"year\": 1995, \"country\": \"Ecuador\", \"cluster\": 3, \"pop\": 11438004, \"life_expect\": 72.312, \"fertility\": 3.1}, {\"year\": 2000, \"country\": \"Ecuador\", \"cluster\": 3, \"pop\": 12505204, \"life_expect\": 74.173, \"fertility\": 2.8175}, {\"year\": 2005, \"country\": \"Ecuador\", \"cluster\": 3, \"pop\": 13363593, \"life_expect\": 74.994, \"fertility\": 2.578}, {\"year\": 1955, \"country\": \"Egypt\", \"cluster\": 5, \"pop\": 23855527, \"life_expect\": 44.444, \"fertility\": 6.97}, {\"year\": 1960, \"country\": \"Egypt\", \"cluster\": 5, \"pop\": 26846610, \"life_expect\": 46.992, \"fertility\": 7.073}, {\"year\": 1965, \"country\": \"Egypt\", \"cluster\": 5, \"pop\": 30265148, \"life_expect\": 49.293, \"fertility\": 6.5600000000000005}, {\"year\": 1970, \"country\": \"Egypt\", \"cluster\": 5, \"pop\": 33574026, \"life_expect\": 51.137, \"fertility\": 5.855}, {\"year\": 1975, \"country\": \"Egypt\", \"cluster\": 5, \"pop\": 36952499, \"life_expect\": 53.319, \"fertility\": 5.609}, {\"year\": 1980, \"country\": \"Egypt\", \"cluster\": 5, \"pop\": 42634215, \"life_expect\": 56.006, \"fertility\": 5.332}, {\"year\": 1985, \"country\": \"Egypt\", \"cluster\": 5, \"pop\": 50052381, \"life_expect\": 59.797, \"fertility\": 4.833}, {\"year\": 1990, \"country\": \"Egypt\", \"cluster\": 5, \"pop\": 56694413, \"life_expect\": 63.674, \"fertility\": 3.908}, {\"year\": 1995, \"country\": \"Egypt\", \"cluster\": 5, \"pop\": 63321615, \"life_expect\": 67.217, \"fertility\": 3.5}, {\"year\": 2000, \"country\": \"Egypt\", \"cluster\": 5, \"pop\": 70492342, \"life_expect\": 69.806, \"fertility\": 3.174}, {\"year\": 2005, \"country\": \"Egypt\", \"cluster\": 5, \"pop\": 77505756, \"life_expect\": 71.338, \"fertility\": 2.891}, {\"year\": 1955, \"country\": \"El Salvador\", \"cluster\": 3, \"pop\": 2221139, \"life_expect\": 48.57, \"fertility\": 6.8065}, {\"year\": 1960, \"country\": \"El Salvador\", \"cluster\": 3, \"pop\": 2581583, \"life_expect\": 52.307, \"fertility\": 6.8469999999999995}, {\"year\": 1965, \"country\": \"El Salvador\", \"cluster\": 3, \"pop\": 3017852, \"life_expect\": 55.855, \"fertility\": 6.621}, {\"year\": 1970, \"country\": \"El Salvador\", \"cluster\": 3, \"pop\": 3603907, \"life_expect\": 58.207, \"fertility\": 6.0995}, {\"year\": 1975, \"country\": \"El Salvador\", \"cluster\": 3, \"pop\": 4071179, \"life_expect\": 56.696, \"fertility\": 5.5996}, {\"year\": 1980, \"country\": \"El Salvador\", \"cluster\": 3, \"pop\": 4566199, \"life_expect\": 56.604, \"fertility\": 4.5}, {\"year\": 1985, \"country\": \"El Salvador\", \"cluster\": 3, \"pop\": 4664361, \"life_expect\": 63.154, \"fertility\": 3.901}, {\"year\": 1990, \"country\": \"El Salvador\", \"cluster\": 3, \"pop\": 5099884, \"life_expect\": 66.798, \"fertility\": 3.52}, {\"year\": 1995, \"country\": \"El Salvador\", \"cluster\": 3, \"pop\": 5568437, \"life_expect\": 69.535, \"fertility\": 3.17}, {\"year\": 2000, \"country\": \"El Salvador\", \"cluster\": 3, \"pop\": 6122515, \"life_expect\": 70.734, \"fertility\": 2.883}, {\"year\": 2005, \"country\": \"El Salvador\", \"cluster\": 3, \"pop\": 6704932, \"life_expect\": 71.878, \"fertility\": 2.6825}, {\"year\": 1955, \"country\": \"Finland\", \"cluster\": 1, \"pop\": 4234900, \"life_expect\": 67.49, \"fertility\": 2.769}, {\"year\": 1960, \"country\": \"Finland\", \"cluster\": 1, \"pop\": 4429600, \"life_expect\": 68.75, \"fertility\": 2.66}, {\"year\": 1965, \"country\": \"Finland\", \"cluster\": 1, \"pop\": 4563732, \"life_expect\": 69.83, \"fertility\": 2.191}, {\"year\": 1970, \"country\": \"Finland\", \"cluster\": 1, \"pop\": 4606307, \"life_expect\": 70.87, \"fertility\": 1.623}, {\"year\": 1975, \"country\": \"Finland\", \"cluster\": 1, \"pop\": 4711439, \"life_expect\": 72.52, \"fertility\": 1.663}, {\"year\": 1980, \"country\": \"Finland\", \"cluster\": 1, \"pop\": 4779535, \"life_expect\": 74.55, \"fertility\": 1.685}, {\"year\": 1985, \"country\": \"Finland\", \"cluster\": 1, \"pop\": 4901783, \"life_expect\": 74.83, \"fertility\": 1.6600000000000001}, {\"year\": 1990, \"country\": \"Finland\", \"cluster\": 1, \"pop\": 4986431, \"life_expect\": 75.7, \"fertility\": 1.819}, {\"year\": 1995, \"country\": \"Finland\", \"cluster\": 1, \"pop\": 5104654, \"life_expect\": 77.13, \"fertility\": 1.7429999999999999}, {\"year\": 2000, \"country\": \"Finland\", \"cluster\": 1, \"pop\": 5168595, \"life_expect\": 78.37, \"fertility\": 1.754}, {\"year\": 2005, \"country\": \"Finland\", \"cluster\": 1, \"pop\": 5223442, \"life_expect\": 79.313, \"fertility\": 1.8250000000000002}, {\"year\": 1955, \"country\": \"France\", \"cluster\": 1, \"pop\": 43427669, \"life_expect\": 68.93, \"fertility\": 2.7119999999999997}, {\"year\": 1960, \"country\": \"France\", \"cluster\": 1, \"pop\": 45670000, \"life_expect\": 70.51, \"fertility\": 2.85}, {\"year\": 1965, \"country\": \"France\", \"cluster\": 1, \"pop\": 48763000, \"life_expect\": 71.55, \"fertility\": 2.607}, {\"year\": 1970, \"country\": \"France\", \"cluster\": 1, \"pop\": 50787000, \"life_expect\": 72.38, \"fertility\": 2.31}, {\"year\": 1975, \"country\": \"France\", \"cluster\": 1, \"pop\": 52758427, \"life_expect\": 73.83, \"fertility\": 1.862}, {\"year\": 1980, \"country\": \"France\", \"cluster\": 1, \"pop\": 53869743, \"life_expect\": 74.89, \"fertility\": 1.866}, {\"year\": 1985, \"country\": \"France\", \"cluster\": 1, \"pop\": 55171224, \"life_expect\": 76.34, \"fertility\": 1.8050000000000002}, {\"year\": 1990, \"country\": \"France\", \"cluster\": 1, \"pop\": 56735161, \"life_expect\": 77.46, \"fertility\": 1.713}, {\"year\": 1995, \"country\": \"France\", \"cluster\": 1, \"pop\": 58149727, \"life_expect\": 78.64, \"fertility\": 1.7624}, {\"year\": 2000, \"country\": \"France\", \"cluster\": 1, \"pop\": 59381628, \"life_expect\": 79.59, \"fertility\": 1.8833000000000002}, {\"year\": 2005, \"country\": \"France\", \"cluster\": 1, \"pop\": 60656178, \"life_expect\": 80.657, \"fertility\": 1.8916}, {\"year\": 1955, \"country\": \"Georgia\", \"cluster\": 1, \"pop\": 3827154, \"life_expect\": 62.625, \"fertility\": 2.909}, {\"year\": 1960, \"country\": \"Georgia\", \"cluster\": 1, \"pop\": 4146570, \"life_expect\": 64.644, \"fertility\": 2.979}, {\"year\": 1965, \"country\": \"Georgia\", \"cluster\": 1, \"pop\": 4464959, \"life_expect\": 66.654, \"fertility\": 2.6109999999999998}, {\"year\": 1970, \"country\": \"Georgia\", \"cluster\": 1, \"pop\": 4694491, \"life_expect\": 68.158, \"fertility\": 2.601}, {\"year\": 1975, \"country\": \"Georgia\", \"cluster\": 1, \"pop\": 4897656, \"life_expect\": 69.634, \"fertility\": 2.39}, {\"year\": 1980, \"country\": \"Georgia\", \"cluster\": 1, \"pop\": 5045697, \"life_expect\": 69.638, \"fertility\": 2.269}, {\"year\": 1985, \"country\": \"Georgia\", \"cluster\": 1, \"pop\": 5192957, \"life_expect\": 70.45, \"fertility\": 2.263}, {\"year\": 1990, \"country\": \"Georgia\", \"cluster\": 1, \"pop\": 5426207, \"life_expect\": 70.465, \"fertility\": 1.9500000000000002}, {\"year\": 1995, \"country\": \"Georgia\", \"cluster\": 1, \"pop\": 5012952, \"life_expect\": 70.49, \"fertility\": 1.58}, {\"year\": 2000, \"country\": \"Georgia\", \"cluster\": 1, \"pop\": 4777209, \"life_expect\": 70.476, \"fertility\": 1.478}, {\"year\": 2005, \"country\": \"Georgia\", \"cluster\": 1, \"pop\": 4677401, \"life_expect\": 70.987, \"fertility\": 1.407}, {\"year\": 1955, \"country\": \"Germany\", \"cluster\": 1, \"pop\": 70195612, \"life_expect\": 69.1, \"fertility\": 2.3}, {\"year\": 1960, \"country\": \"Germany\", \"cluster\": 1, \"pop\": 72480869, \"life_expect\": 70.3, \"fertility\": 2.49}, {\"year\": 1965, \"country\": \"Germany\", \"cluster\": 1, \"pop\": 75638851, \"life_expect\": 70.8, \"fertility\": 2.32}, {\"year\": 1970, \"country\": \"Germany\", \"cluster\": 1, \"pop\": 77783164, \"life_expect\": 71.0, \"fertility\": 1.6400000000000001}, {\"year\": 1975, \"country\": \"Germany\", \"cluster\": 1, \"pop\": 78682325, \"life_expect\": 72.5, \"fertility\": 1.52}, {\"year\": 1980, \"country\": \"Germany\", \"cluster\": 1, \"pop\": 78297904, \"life_expect\": 73.8, \"fertility\": 1.46}, {\"year\": 1985, \"country\": \"Germany\", \"cluster\": 1, \"pop\": 77684907, \"life_expect\": 74.847, \"fertility\": 1.43}, {\"year\": 1990, \"country\": \"Germany\", \"cluster\": 1, \"pop\": 79380394, \"life_expect\": 76.07, \"fertility\": 1.31}, {\"year\": 1995, \"country\": \"Germany\", \"cluster\": 1, \"pop\": 81653702, \"life_expect\": 77.34, \"fertility\": 1.34}, {\"year\": 2000, \"country\": \"Germany\", \"cluster\": 1, \"pop\": 82187909, \"life_expect\": 78.67, \"fertility\": 1.346}, {\"year\": 2005, \"country\": \"Germany\", \"cluster\": 1, \"pop\": 82431390, \"life_expect\": 79.406, \"fertility\": 1.3599999999999999}, {\"year\": 1955, \"country\": \"Greece\", \"cluster\": 1, \"pop\": 7965538, \"life_expect\": 67.86, \"fertility\": 2.27}, {\"year\": 1960, \"country\": \"Greece\", \"cluster\": 1, \"pop\": 8327405, \"life_expect\": 69.51, \"fertility\": 2.2}, {\"year\": 1965, \"country\": \"Greece\", \"cluster\": 1, \"pop\": 8550333, \"life_expect\": 71.0, \"fertility\": 2.38}, {\"year\": 1970, \"country\": \"Greece\", \"cluster\": 1, \"pop\": 8792806, \"life_expect\": 72.34, \"fertility\": 2.32}, {\"year\": 1975, \"country\": \"Greece\", \"cluster\": 1, \"pop\": 9046542, \"life_expect\": 73.68, \"fertility\": 2.32}, {\"year\": 1980, \"country\": \"Greece\", \"cluster\": 1, \"pop\": 9642505, \"life_expect\": 75.24, \"fertility\": 1.96}, {\"year\": 1985, \"country\": \"Greece\", \"cluster\": 1, \"pop\": 9923253, \"life_expect\": 76.67, \"fertility\": 1.53}, {\"year\": 1990, \"country\": \"Greece\", \"cluster\": 1, \"pop\": 10129603, \"life_expect\": 77.03, \"fertility\": 1.37}, {\"year\": 1995, \"country\": \"Greece\", \"cluster\": 1, \"pop\": 10457554, \"life_expect\": 77.869, \"fertility\": 1.296}, {\"year\": 2000, \"country\": \"Greece\", \"cluster\": 1, \"pop\": 10559110, \"life_expect\": 78.256, \"fertility\": 1.2770000000000001}, {\"year\": 2005, \"country\": \"Greece\", \"cluster\": 1, \"pop\": 10668354, \"life_expect\": 79.483, \"fertility\": 1.325}, {\"year\": 1955, \"country\": \"Grenada\", \"cluster\": 3, \"pop\": 84621, \"life_expect\": 63.114, \"fertility\": 6.7}, {\"year\": 1960, \"country\": \"Grenada\", \"cluster\": 3, \"pop\": 90148, \"life_expect\": 63.608, \"fertility\": 6.4}, {\"year\": 1965, \"country\": \"Grenada\", \"cluster\": 3, \"pop\": 93290, \"life_expect\": 64.091, \"fertility\": 4.8}, {\"year\": 1970, \"country\": \"Grenada\", \"cluster\": 3, \"pop\": 95410, \"life_expect\": 64.577, \"fertility\": 4.6}, {\"year\": 1975, \"country\": \"Grenada\", \"cluster\": 3, \"pop\": 95819, \"life_expect\": 65.035, \"fertility\": 4.3}, {\"year\": 1980, \"country\": \"Grenada\", \"cluster\": 3, \"pop\": 90164, \"life_expect\": 65.503, \"fertility\": 4.23}, {\"year\": 1985, \"country\": \"Grenada\", \"cluster\": 3, \"pop\": 92203, \"life_expect\": 66.002, \"fertility\": 4.14}, {\"year\": 1990, \"country\": \"Grenada\", \"cluster\": 3, \"pop\": 92360, \"life_expect\": 66.469, \"fertility\": 3.26}, {\"year\": 1995, \"country\": \"Grenada\", \"cluster\": 3, \"pop\": 90603, \"life_expect\": 66.986, \"fertility\": 2.814}, {\"year\": 2000, \"country\": \"Grenada\", \"cluster\": 3, \"pop\": 89312, \"life_expect\": 67.746, \"fertility\": 2.429}, {\"year\": 2005, \"country\": \"Grenada\", \"cluster\": 3, \"pop\": 89502, \"life_expect\": 68.724, \"fertility\": 2.302}, {\"year\": 1955, \"country\": \"Haiti\", \"cluster\": 3, \"pop\": 3376419, \"life_expect\": 40.696, \"fertility\": 6.3}, {\"year\": 1960, \"country\": \"Haiti\", \"cluster\": 3, \"pop\": 3722743, \"life_expect\": 43.59, \"fertility\": 6.3}, {\"year\": 1965, \"country\": \"Haiti\", \"cluster\": 3, \"pop\": 4137405, \"life_expect\": 46.243, \"fertility\": 6.0}, {\"year\": 1970, \"country\": \"Haiti\", \"cluster\": 3, \"pop\": 4604915, \"life_expect\": 48.042, \"fertility\": 5.6005}, {\"year\": 1975, \"country\": \"Haiti\", \"cluster\": 3, \"pop\": 4828338, \"life_expect\": 49.923, \"fertility\": 5.8}, {\"year\": 1980, \"country\": \"Haiti\", \"cluster\": 3, \"pop\": 5029725, \"life_expect\": 51.461, \"fertility\": 6.2099}, {\"year\": 1985, \"country\": \"Haiti\", \"cluster\": 3, \"pop\": 5517977, \"life_expect\": 53.636, \"fertility\": 5.69985}, {\"year\": 1990, \"country\": \"Haiti\", \"cluster\": 3, \"pop\": 6126101, \"life_expect\": 55.089, \"fertility\": 5.14985}, {\"year\": 1995, \"country\": \"Haiti\", \"cluster\": 3, \"pop\": 6675578, \"life_expect\": 56.671, \"fertility\": 4.61995}, {\"year\": 2000, \"country\": \"Haiti\", \"cluster\": 3, \"pop\": 7306302, \"life_expect\": 58.137, \"fertility\": 4.0}, {\"year\": 2005, \"country\": \"Haiti\", \"cluster\": 3, \"pop\": 8121622, \"life_expect\": 60.916, \"fertility\": 3.5445}, {\"year\": 1955, \"country\": \"Hong Kong\", \"cluster\": 4, \"pop\": 2490400, \"life_expect\": 64.75, \"fertility\": 4.72}, {\"year\": 1960, \"country\": \"Hong Kong\", \"cluster\": 4, \"pop\": 3075300, \"life_expect\": 67.65, \"fertility\": 5.31}, {\"year\": 1965, \"country\": \"Hong Kong\", \"cluster\": 4, \"pop\": 3597900, \"life_expect\": 70.0, \"fertility\": 4.02}, {\"year\": 1970, \"country\": \"Hong Kong\", \"cluster\": 4, \"pop\": 3959000, \"life_expect\": 72.0, \"fertility\": 2.89}, {\"year\": 1975, \"country\": \"Hong Kong\", \"cluster\": 4, \"pop\": 4395800, \"life_expect\": 73.6, \"fertility\": 2.32}, {\"year\": 1980, \"country\": \"Hong Kong\", \"cluster\": 4, \"pop\": 5063100, \"life_expect\": 75.45, \"fertility\": 1.8}, {\"year\": 1985, \"country\": \"Hong Kong\", \"cluster\": 4, \"pop\": 5456200, \"life_expect\": 76.2, \"fertility\": 1.31}, {\"year\": 1990, \"country\": \"Hong Kong\", \"cluster\": 4, \"pop\": 5687959, \"life_expect\": 77.601, \"fertility\": 1.288}, {\"year\": 1995, \"country\": \"Hong Kong\", \"cluster\": 4, \"pop\": 6225347, \"life_expect\": 80.0, \"fertility\": 1.08}, {\"year\": 2000, \"country\": \"Hong Kong\", \"cluster\": 4, \"pop\": 6658720, \"life_expect\": 81.495, \"fertility\": 0.9400000000000001}, {\"year\": 2005, \"country\": \"Hong Kong\", \"cluster\": 4, \"pop\": 6898686, \"life_expect\": 82.208, \"fertility\": 0.966}, {\"year\": 1955, \"country\": \"Iceland\", \"cluster\": 1, \"pop\": 158044, \"life_expect\": 73.47, \"fertility\": 4.023}, {\"year\": 1960, \"country\": \"Iceland\", \"cluster\": 1, \"pop\": 175860, \"life_expect\": 73.68, \"fertility\": 3.943}, {\"year\": 1965, \"country\": \"Iceland\", \"cluster\": 1, \"pop\": 192288, \"life_expect\": 73.73, \"fertility\": 3.154}, {\"year\": 1970, \"country\": \"Iceland\", \"cluster\": 1, \"pop\": 204104, \"life_expect\": 74.46, \"fertility\": 2.843}, {\"year\": 1975, \"country\": \"Iceland\", \"cluster\": 1, \"pop\": 218031, \"life_expect\": 76.11, \"fertility\": 2.287}, {\"year\": 1980, \"country\": \"Iceland\", \"cluster\": 1, \"pop\": 228161, \"life_expect\": 76.99, \"fertility\": 2.248}, {\"year\": 1985, \"country\": \"Iceland\", \"cluster\": 1, \"pop\": 241403, \"life_expect\": 77.23, \"fertility\": 2.116}, {\"year\": 1990, \"country\": \"Iceland\", \"cluster\": 1, \"pop\": 254719, \"life_expect\": 78.77, \"fertility\": 2.194}, {\"year\": 1995, \"country\": \"Iceland\", \"cluster\": 1, \"pop\": 267527, \"life_expect\": 78.95, \"fertility\": 2.056}, {\"year\": 2000, \"country\": \"Iceland\", \"cluster\": 1, \"pop\": 281043, \"life_expect\": 80.5, \"fertility\": 1.9929999999999999}, {\"year\": 2005, \"country\": \"Iceland\", \"cluster\": 1, \"pop\": 296737, \"life_expect\": 81.757, \"fertility\": 2.052}, {\"year\": 1955, \"country\": \"India\", \"cluster\": 0, \"pop\": 393000000, \"life_expect\": 40.249, \"fertility\": 5.8961}, {\"year\": 1960, \"country\": \"India\", \"cluster\": 0, \"pop\": 434000000, \"life_expect\": 43.605, \"fertility\": 5.8216}, {\"year\": 1965, \"country\": \"India\", \"cluster\": 0, \"pop\": 485000000, \"life_expect\": 47.193, \"fertility\": 5.6058}, {\"year\": 1970, \"country\": \"India\", \"cluster\": 0, \"pop\": 541000000, \"life_expect\": 50.651, \"fertility\": 5.264}, {\"year\": 1975, \"country\": \"India\", \"cluster\": 0, \"pop\": 607000000, \"life_expect\": 54.208, \"fertility\": 4.8888}, {\"year\": 1980, \"country\": \"India\", \"cluster\": 0, \"pop\": 679000000, \"life_expect\": 56.596, \"fertility\": 4.4975}, {\"year\": 1985, \"country\": \"India\", \"cluster\": 0, \"pop\": 755000000, \"life_expect\": 58.553, \"fertility\": 4.15}, {\"year\": 1990, \"country\": \"India\", \"cluster\": 0, \"pop\": 839000000, \"life_expect\": 60.223, \"fertility\": 3.8648}, {\"year\": 1995, \"country\": \"India\", \"cluster\": 0, \"pop\": 927000000, \"life_expect\": 61.765, \"fertility\": 3.4551}, {\"year\": 2000, \"country\": \"India\", \"cluster\": 0, \"pop\": 1007702000, \"life_expect\": 62.879, \"fertility\": 3.1132}, {\"year\": 2005, \"country\": \"India\", \"cluster\": 0, \"pop\": 1080264388, \"life_expect\": 64.698, \"fertility\": 2.8073}, {\"year\": 1955, \"country\": \"Indonesia\", \"cluster\": 4, \"pop\": 86807000, \"life_expect\": 39.918, \"fertility\": 5.672}, {\"year\": 1960, \"country\": \"Indonesia\", \"cluster\": 4, \"pop\": 95254000, \"life_expect\": 42.518, \"fertility\": 5.62}, {\"year\": 1965, \"country\": \"Indonesia\", \"cluster\": 4, \"pop\": 105093000, \"life_expect\": 45.964, \"fertility\": 5.568}, {\"year\": 1970, \"country\": \"Indonesia\", \"cluster\": 4, \"pop\": 116044000, \"life_expect\": 49.203, \"fertility\": 5.3}, {\"year\": 1975, \"country\": \"Indonesia\", \"cluster\": 4, \"pop\": 130297000, \"life_expect\": 52.702, \"fertility\": 4.73}, {\"year\": 1980, \"country\": \"Indonesia\", \"cluster\": 4, \"pop\": 146995000, \"life_expect\": 56.159, \"fertility\": 4.109}, {\"year\": 1985, \"country\": \"Indonesia\", \"cluster\": 4, \"pop\": 163403000, \"life_expect\": 60.137, \"fertility\": 3.4}, {\"year\": 1990, \"country\": \"Indonesia\", \"cluster\": 4, \"pop\": 178500000, \"life_expect\": 62.681, \"fertility\": 2.9}, {\"year\": 1995, \"country\": \"Indonesia\", \"cluster\": 4, \"pop\": 194755000, \"life_expect\": 66.041, \"fertility\": 2.55}, {\"year\": 2000, \"country\": \"Indonesia\", \"cluster\": 4, \"pop\": 206265000, \"life_expect\": 68.588, \"fertility\": 2.3761}, {\"year\": 2005, \"country\": \"Indonesia\", \"cluster\": 4, \"pop\": 218465000, \"life_expect\": 70.65, \"fertility\": 2.182}, {\"year\": 1955, \"country\": \"Iran\", \"cluster\": 5, \"pop\": 18729000, \"life_expect\": 47.181, \"fertility\": 7.0}, {\"year\": 1960, \"country\": \"Iran\", \"cluster\": 5, \"pop\": 21577000, \"life_expect\": 49.325, \"fertility\": 7.0}, {\"year\": 1965, \"country\": \"Iran\", \"cluster\": 5, \"pop\": 25000000, \"life_expect\": 52.469, \"fertility\": 6.8}, {\"year\": 1970, \"country\": \"Iran\", \"cluster\": 5, \"pop\": 28933000, \"life_expect\": 55.234, \"fertility\": 6.4}, {\"year\": 1975, \"country\": \"Iran\", \"cluster\": 5, \"pop\": 33379000, \"life_expect\": 57.702, \"fertility\": 6.5}, {\"year\": 1980, \"country\": \"Iran\", \"cluster\": 5, \"pop\": 39583397, \"life_expect\": 59.62, \"fertility\": 6.63}, {\"year\": 1985, \"country\": \"Iran\", \"cluster\": 5, \"pop\": 48439952, \"life_expect\": 63.04, \"fertility\": 5.62}, {\"year\": 1990, \"country\": \"Iran\", \"cluster\": 5, \"pop\": 57035717, \"life_expect\": 65.742, \"fertility\": 4.328}, {\"year\": 1995, \"country\": \"Iran\", \"cluster\": 5, \"pop\": 61628116, \"life_expect\": 68.042, \"fertility\": 2.534}, {\"year\": 2000, \"country\": \"Iran\", \"cluster\": 5, \"pop\": 65660289, \"life_expect\": 69.451, \"fertility\": 2.124}, {\"year\": 2005, \"country\": \"Iran\", \"cluster\": 5, \"pop\": 68017860, \"life_expect\": 70.964, \"fertility\": 2.04}, {\"year\": 1955, \"country\": \"Iraq\", \"cluster\": 5, \"pop\": 5903253, \"life_expect\": 48.437, \"fertility\": 7.3}, {\"year\": 1960, \"country\": \"Iraq\", \"cluster\": 5, \"pop\": 6822030, \"life_expect\": 51.457, \"fertility\": 7.25}, {\"year\": 1965, \"country\": \"Iraq\", \"cluster\": 5, \"pop\": 7970746, \"life_expect\": 54.459, \"fertility\": 7.2}, {\"year\": 1970, \"country\": \"Iraq\", \"cluster\": 5, \"pop\": 9413671, \"life_expect\": 56.95, \"fertility\": 7.15}, {\"year\": 1975, \"country\": \"Iraq\", \"cluster\": 5, \"pop\": 11117804, \"life_expect\": 60.413, \"fertility\": 6.8}, {\"year\": 1980, \"country\": \"Iraq\", \"cluster\": 5, \"pop\": 13232839, \"life_expect\": 62.038, \"fertility\": 6.35}, {\"year\": 1985, \"country\": \"Iraq\", \"cluster\": 5, \"pop\": 15693620, \"life_expect\": 65.044, \"fertility\": 6.15}, {\"year\": 1990, \"country\": \"Iraq\", \"cluster\": 5, \"pop\": 18134702, \"life_expect\": 59.461, \"fertility\": 5.7}, {\"year\": 1995, \"country\": \"Iraq\", \"cluster\": 5, \"pop\": 19557247, \"life_expect\": 58.811, \"fertility\": 5.37}, {\"year\": 2000, \"country\": \"Iraq\", \"cluster\": 5, \"pop\": 22675617, \"life_expect\": 57.046, \"fertility\": 4.858}, {\"year\": 2005, \"country\": \"Iraq\", \"cluster\": 5, \"pop\": 26074906, \"life_expect\": 59.545, \"fertility\": 4.264}, {\"year\": 1955, \"country\": \"Ireland\", \"cluster\": 1, \"pop\": 2916133, \"life_expect\": 68.9, \"fertility\": 3.68}, {\"year\": 1960, \"country\": \"Ireland\", \"cluster\": 1, \"pop\": 2832000, \"life_expect\": 70.29, \"fertility\": 3.979}, {\"year\": 1965, \"country\": \"Ireland\", \"cluster\": 1, \"pop\": 2876000, \"life_expect\": 71.08, \"fertility\": 3.873}, {\"year\": 1970, \"country\": \"Ireland\", \"cluster\": 1, \"pop\": 2950100, \"life_expect\": 71.28, \"fertility\": 3.815}, {\"year\": 1975, \"country\": \"Ireland\", \"cluster\": 1, \"pop\": 3177300, \"life_expect\": 72.03, \"fertility\": 3.478}, {\"year\": 1980, \"country\": \"Ireland\", \"cluster\": 1, \"pop\": 3401000, \"life_expect\": 73.1, \"fertility\": 2.877}, {\"year\": 1985, \"country\": \"Ireland\", \"cluster\": 1, \"pop\": 3540000, \"life_expect\": 74.36, \"fertility\": 2.287}, {\"year\": 1990, \"country\": \"Ireland\", \"cluster\": 1, \"pop\": 3508200, \"life_expect\": 75.467, \"fertility\": 1.9689999999999999}, {\"year\": 1995, \"country\": \"Ireland\", \"cluster\": 1, \"pop\": 3613890, \"life_expect\": 76.122, \"fertility\": 1.9}, {\"year\": 2000, \"country\": \"Ireland\", \"cluster\": 1, \"pop\": 3791690, \"life_expect\": 77.783, \"fertility\": 1.9689999999999999}, {\"year\": 2005, \"country\": \"Ireland\", \"cluster\": 1, \"pop\": 4015676, \"life_expect\": 78.885, \"fertility\": 1.964}, {\"year\": 1955, \"country\": \"Israel\", \"cluster\": 5, \"pop\": 1772032, \"life_expect\": 67.84, \"fertility\": 3.893}, {\"year\": 1960, \"country\": \"Israel\", \"cluster\": 5, \"pop\": 2141495, \"life_expect\": 69.39, \"fertility\": 3.852}, {\"year\": 1965, \"country\": \"Israel\", \"cluster\": 5, \"pop\": 2578184, \"life_expect\": 70.75, \"fertility\": 3.79}, {\"year\": 1970, \"country\": \"Israel\", \"cluster\": 5, \"pop\": 2903434, \"life_expect\": 71.63, \"fertility\": 3.77}, {\"year\": 1975, \"country\": \"Israel\", \"cluster\": 5, \"pop\": 3354242, \"life_expect\": 73.06, \"fertility\": 3.409}, {\"year\": 1980, \"country\": \"Israel\", \"cluster\": 5, \"pop\": 3737473, \"life_expect\": 74.45, \"fertility\": 3.125}, {\"year\": 1985, \"country\": \"Israel\", \"cluster\": 5, \"pop\": 4074965, \"life_expect\": 75.6, \"fertility\": 3.051}, {\"year\": 1990, \"country\": \"Israel\", \"cluster\": 5, \"pop\": 4512068, \"life_expect\": 76.93, \"fertility\": 2.933}, {\"year\": 1995, \"country\": \"Israel\", \"cluster\": 5, \"pop\": 5305120, \"life_expect\": 78.269, \"fertility\": 2.942}, {\"year\": 2000, \"country\": \"Israel\", \"cluster\": 5, \"pop\": 5842454, \"life_expect\": 79.696, \"fertility\": 2.906}, {\"year\": 2005, \"country\": \"Israel\", \"cluster\": 5, \"pop\": 6276883, \"life_expect\": 80.745, \"fertility\": 2.75}, {\"year\": 1955, \"country\": \"Italy\", \"cluster\": 1, \"pop\": 48633000, \"life_expect\": 67.81, \"fertility\": 2.35}, {\"year\": 1960, \"country\": \"Italy\", \"cluster\": 1, \"pop\": 50197600, \"life_expect\": 69.24, \"fertility\": 2.498}, {\"year\": 1965, \"country\": \"Italy\", \"cluster\": 1, \"pop\": 51987100, \"life_expect\": 71.06, \"fertility\": 2.493}, {\"year\": 1970, \"country\": \"Italy\", \"cluster\": 1, \"pop\": 53661100, \"life_expect\": 72.19, \"fertility\": 2.325}, {\"year\": 1975, \"country\": \"Italy\", \"cluster\": 1, \"pop\": 55571894, \"life_expect\": 73.48, \"fertility\": 1.889}, {\"year\": 1980, \"country\": \"Italy\", \"cluster\": 1, \"pop\": 56451247, \"life_expect\": 74.98, \"fertility\": 1.53}, {\"year\": 1985, \"country\": \"Italy\", \"cluster\": 1, \"pop\": 56731215, \"life_expect\": 76.42, \"fertility\": 1.349}, {\"year\": 1990, \"country\": \"Italy\", \"cluster\": 1, \"pop\": 56742886, \"life_expect\": 77.44, \"fertility\": 1.275}, {\"year\": 1995, \"country\": \"Italy\", \"cluster\": 1, \"pop\": 57274531, \"life_expect\": 78.82, \"fertility\": 1.213}, {\"year\": 2000, \"country\": \"Italy\", \"cluster\": 1, \"pop\": 57719337, \"life_expect\": 80.24, \"fertility\": 1.286}, {\"year\": 2005, \"country\": \"Italy\", \"cluster\": 1, \"pop\": 58103033, \"life_expect\": 80.546, \"fertility\": 1.379}, {\"year\": 1955, \"country\": \"Jamaica\", \"cluster\": 3, \"pop\": 1488805, \"life_expect\": 62.61, \"fertility\": 5.08}, {\"year\": 1960, \"country\": \"Jamaica\", \"cluster\": 3, \"pop\": 1631784, \"life_expect\": 65.61, \"fertility\": 5.64}, {\"year\": 1965, \"country\": \"Jamaica\", \"cluster\": 3, \"pop\": 1777397, \"life_expect\": 67.51, \"fertility\": 5.78}, {\"year\": 1970, \"country\": \"Jamaica\", \"cluster\": 3, \"pop\": 1943787, \"life_expect\": 69.0, \"fertility\": 5.0}, {\"year\": 1975, \"country\": \"Jamaica\", \"cluster\": 3, \"pop\": 2104879, \"life_expect\": 70.11, \"fertility\": 4.0}, {\"year\": 1980, \"country\": \"Jamaica\", \"cluster\": 3, \"pop\": 2228803, \"life_expect\": 71.21, \"fertility\": 3.55}, {\"year\": 1985, \"country\": \"Jamaica\", \"cluster\": 3, \"pop\": 2318652, \"life_expect\": 71.77, \"fertility\": 3.1}, {\"year\": 1990, \"country\": \"Jamaica\", \"cluster\": 3, \"pop\": 2347922, \"life_expect\": 71.766, \"fertility\": 2.84}, {\"year\": 1995, \"country\": \"Jamaica\", \"cluster\": 3, \"pop\": 2469389, \"life_expect\": 72.262, \"fertility\": 2.67}, {\"year\": 2000, \"country\": \"Jamaica\", \"cluster\": 3, \"pop\": 2615467, \"life_expect\": 72.047, \"fertility\": 2.628}, {\"year\": 2005, \"country\": \"Jamaica\", \"cluster\": 3, \"pop\": 2735520, \"life_expect\": 72.567, \"fertility\": 2.4289}, {\"year\": 1955, \"country\": \"Japan\", \"cluster\": 4, \"pop\": 89815060, \"life_expect\": 65.5, \"fertility\": 2.08}, {\"year\": 1960, \"country\": \"Japan\", \"cluster\": 4, \"pop\": 94091638, \"life_expect\": 68.73, \"fertility\": 2.02}, {\"year\": 1965, \"country\": \"Japan\", \"cluster\": 4, \"pop\": 98882534, \"life_expect\": 71.43, \"fertility\": 2.0}, {\"year\": 1970, \"country\": \"Japan\", \"cluster\": 4, \"pop\": 104344973, \"life_expect\": 73.42, \"fertility\": 2.07}, {\"year\": 1975, \"country\": \"Japan\", \"cluster\": 4, \"pop\": 111573116, \"life_expect\": 75.38, \"fertility\": 1.81}, {\"year\": 1980, \"country\": \"Japan\", \"cluster\": 4, \"pop\": 116807309, \"life_expect\": 77.11, \"fertility\": 1.76}, {\"year\": 1985, \"country\": \"Japan\", \"cluster\": 4, \"pop\": 120754335, \"life_expect\": 78.67, \"fertility\": 1.6600000000000001}, {\"year\": 1990, \"country\": \"Japan\", \"cluster\": 4, \"pop\": 123537399, \"life_expect\": 79.36, \"fertility\": 1.49}, {\"year\": 1995, \"country\": \"Japan\", \"cluster\": 4, \"pop\": 125341354, \"life_expect\": 80.69, \"fertility\": 1.3900000000000001}, {\"year\": 2000, \"country\": \"Japan\", \"cluster\": 4, \"pop\": 126699784, \"life_expect\": 82.0, \"fertility\": 1.291}, {\"year\": 2005, \"country\": \"Japan\", \"cluster\": 4, \"pop\": 127417244, \"life_expect\": 82.603, \"fertility\": 1.27}, {\"year\": 1955, \"country\": \"Kenya\", \"cluster\": 2, \"pop\": 7033999, \"life_expect\": 44.686, \"fertility\": 7.816}, {\"year\": 1960, \"country\": \"Kenya\", \"cluster\": 2, \"pop\": 8156827, \"life_expect\": 47.949, \"fertility\": 8.12}, {\"year\": 1965, \"country\": \"Kenya\", \"cluster\": 2, \"pop\": 9549179, \"life_expect\": 50.654, \"fertility\": 8.12}, {\"year\": 1970, \"country\": \"Kenya\", \"cluster\": 2, \"pop\": 11247182, \"life_expect\": 53.559, \"fertility\": 8.0}, {\"year\": 1975, \"country\": \"Kenya\", \"cluster\": 2, \"pop\": 13433414, \"life_expect\": 56.155, \"fertility\": 7.6}, {\"year\": 1980, \"country\": \"Kenya\", \"cluster\": 2, \"pop\": 16331401, \"life_expect\": 58.766, \"fertility\": 7.2}, {\"year\": 1985, \"country\": \"Kenya\", \"cluster\": 2, \"pop\": 19763285, \"life_expect\": 59.339, \"fertility\": 6.5}, {\"year\": 1990, \"country\": \"Kenya\", \"cluster\": 2, \"pop\": 23358413, \"life_expect\": 59.285, \"fertility\": 5.4}, {\"year\": 1995, \"country\": \"Kenya\", \"cluster\": 2, \"pop\": 27060142, \"life_expect\": 54.407, \"fertility\": 5.0}, {\"year\": 2000, \"country\": \"Kenya\", \"cluster\": 2, \"pop\": 29985839, \"life_expect\": 50.992, \"fertility\": 5.0}, {\"year\": 2005, \"country\": \"Kenya\", \"cluster\": 2, \"pop\": 33829590, \"life_expect\": 54.11, \"fertility\": 4.959}, {\"year\": 1955, \"country\": \"South Korea\", \"cluster\": 4, \"pop\": 8839427, \"life_expect\": 54.081, \"fertility\": 3.8}, {\"year\": 1960, \"country\": \"South Korea\", \"cluster\": 4, \"pop\": 10391909, \"life_expect\": 56.656, \"fertility\": 3.41}, {\"year\": 1965, \"country\": \"South Korea\", \"cluster\": 4, \"pop\": 11868751, \"life_expect\": 59.942, \"fertility\": 4.09}, {\"year\": 1970, \"country\": \"South Korea\", \"cluster\": 4, \"pop\": 13911902, \"life_expect\": 63.983, \"fertility\": 3.7199999999999998}, {\"year\": 1975, \"country\": \"South Korea\", \"cluster\": 4, \"pop\": 15801308, \"life_expect\": 67.159, \"fertility\": 2.58}, {\"year\": 1980, \"country\": \"South Korea\", \"cluster\": 4, \"pop\": 17113626, \"life_expect\": 69.1, \"fertility\": 2.93}, {\"year\": 1985, \"country\": \"South Korea\", \"cluster\": 4, \"pop\": 18481420, \"life_expect\": 70.647, \"fertility\": 2.45}, {\"year\": 1990, \"country\": \"South Korea\", \"cluster\": 4, \"pop\": 20018546, \"life_expect\": 69.978, \"fertility\": 2.35}, {\"year\": 1995, \"country\": \"South Korea\", \"cluster\": 4, \"pop\": 21561856, \"life_expect\": 67.727, \"fertility\": 2.0938}, {\"year\": 2000, \"country\": \"South Korea\", \"cluster\": 4, \"pop\": 21647682, \"life_expect\": 66.662, \"fertility\": 1.9173}, {\"year\": 2005, \"country\": \"South Korea\", \"cluster\": 4, \"pop\": 22912177, \"life_expect\": 67.297, \"fertility\": 1.85}, {\"year\": 1955, \"country\": \"North Korea\", \"cluster\": 4, \"pop\": 21551834, \"life_expect\": 52.681, \"fertility\": 6.332}, {\"year\": 1960, \"country\": \"North Korea\", \"cluster\": 4, \"pop\": 24784140, \"life_expect\": 55.292, \"fertility\": 5.63}, {\"year\": 1965, \"country\": \"North Korea\", \"cluster\": 4, \"pop\": 28705000, \"life_expect\": 57.716, \"fertility\": 4.708}, {\"year\": 1970, \"country\": \"North Korea\", \"cluster\": 4, \"pop\": 32241000, \"life_expect\": 62.612, \"fertility\": 4.281}, {\"year\": 1975, \"country\": \"North Korea\", \"cluster\": 4, \"pop\": 35281000, \"life_expect\": 64.766, \"fertility\": 2.919}, {\"year\": 1980, \"country\": \"North Korea\", \"cluster\": 4, \"pop\": 38124000, \"life_expect\": 67.123, \"fertility\": 2.234}, {\"year\": 1985, \"country\": \"North Korea\", \"cluster\": 4, \"pop\": 40806000, \"life_expect\": 69.81, \"fertility\": 1.601}, {\"year\": 1990, \"country\": \"North Korea\", \"cluster\": 4, \"pop\": 42869000, \"life_expect\": 72.244, \"fertility\": 1.6960000000000002}, {\"year\": 1995, \"country\": \"North Korea\", \"cluster\": 4, \"pop\": 45264146, \"life_expect\": 74.647, \"fertility\": 1.514}, {\"year\": 2000, \"country\": \"North Korea\", \"cluster\": 4, \"pop\": 47351083, \"life_expect\": 77.045, \"fertility\": 1.242}, {\"year\": 2005, \"country\": \"North Korea\", \"cluster\": 4, \"pop\": 48640671, \"life_expect\": 78.623, \"fertility\": 1.21}, {\"year\": 1955, \"country\": \"Lebanon\", \"cluster\": 5, \"pop\": 1560985, \"life_expect\": 59.489, \"fertility\": 5.72}, {\"year\": 1960, \"country\": \"Lebanon\", \"cluster\": 5, \"pop\": 1786235, \"life_expect\": 62.094, \"fertility\": 5.689}, {\"year\": 1965, \"country\": \"Lebanon\", \"cluster\": 5, \"pop\": 2057945, \"life_expect\": 63.87, \"fertility\": 5.336}, {\"year\": 1970, \"country\": \"Lebanon\", \"cluster\": 5, \"pop\": 2383029, \"life_expect\": 65.421, \"fertility\": 4.78}, {\"year\": 1975, \"country\": \"Lebanon\", \"cluster\": 5, \"pop\": 3098159, \"life_expect\": 66.099, \"fertility\": 4.311}, {\"year\": 1980, \"country\": \"Lebanon\", \"cluster\": 5, \"pop\": 3085876, \"life_expect\": 66.983, \"fertility\": 3.895}, {\"year\": 1985, \"country\": \"Lebanon\", \"cluster\": 5, \"pop\": 3088235, \"life_expect\": 67.926, \"fertility\": 3.313}, {\"year\": 1990, \"country\": \"Lebanon\", \"cluster\": 5, \"pop\": 3147267, \"life_expect\": 69.292, \"fertility\": 3.0}, {\"year\": 1995, \"country\": \"Lebanon\", \"cluster\": 5, \"pop\": 3334733, \"life_expect\": 70.265, \"fertility\": 2.6950000000000003}, {\"year\": 2000, \"country\": \"Lebanon\", \"cluster\": 5, \"pop\": 3578036, \"life_expect\": 71.028, \"fertility\": 2.319}, {\"year\": 2005, \"country\": \"Lebanon\", \"cluster\": 5, \"pop\": 3826018, \"life_expect\": 71.993, \"fertility\": 2.209}, {\"year\": 1955, \"country\": \"Mexico\", \"cluster\": 3, \"pop\": 32929914, \"life_expect\": 55.19, \"fertility\": 6.8}, {\"year\": 1960, \"country\": \"Mexico\", \"cluster\": 3, \"pop\": 38578505, \"life_expect\": 58.299, \"fertility\": 6.7495}, {\"year\": 1965, \"country\": \"Mexico\", \"cluster\": 3, \"pop\": 45142399, \"life_expect\": 60.11, \"fertility\": 6.7495}, {\"year\": 1970, \"country\": \"Mexico\", \"cluster\": 3, \"pop\": 52775158, \"life_expect\": 62.361, \"fertility\": 6.5}, {\"year\": 1975, \"country\": \"Mexico\", \"cluster\": 3, \"pop\": 60678045, \"life_expect\": 65.032, \"fertility\": 5.2505}, {\"year\": 1980, \"country\": \"Mexico\", \"cluster\": 3, \"pop\": 68347479, \"life_expect\": 67.405, \"fertility\": 4.25}, {\"year\": 1985, \"country\": \"Mexico\", \"cluster\": 3, \"pop\": 76767225, \"life_expect\": 69.498, \"fertility\": 3.6295}, {\"year\": 1990, \"country\": \"Mexico\", \"cluster\": 3, \"pop\": 84913652, \"life_expect\": 71.455, \"fertility\": 3.1905}, {\"year\": 1995, \"country\": \"Mexico\", \"cluster\": 3, \"pop\": 92880353, \"life_expect\": 73.67, \"fertility\": 2.6705}, {\"year\": 2000, \"country\": \"Mexico\", \"cluster\": 3, \"pop\": 99926620, \"life_expect\": 74.902, \"fertility\": 2.4005}, {\"year\": 2005, \"country\": \"Mexico\", \"cluster\": 3, \"pop\": 106202903, \"life_expect\": 76.195, \"fertility\": 2.211}, {\"year\": 1955, \"country\": \"Netherlands\", \"cluster\": 1, \"pop\": 10750842, \"life_expect\": 72.99, \"fertility\": 3.095}, {\"year\": 1960, \"country\": \"Netherlands\", \"cluster\": 1, \"pop\": 11486000, \"life_expect\": 73.23, \"fertility\": 3.168}, {\"year\": 1965, \"country\": \"Netherlands\", \"cluster\": 1, \"pop\": 12292000, \"life_expect\": 73.82, \"fertility\": 2.797}, {\"year\": 1970, \"country\": \"Netherlands\", \"cluster\": 1, \"pop\": 13032335, \"life_expect\": 73.75, \"fertility\": 2.059}, {\"year\": 1975, \"country\": \"Netherlands\", \"cluster\": 1, \"pop\": 13653438, \"life_expect\": 75.24, \"fertility\": 1.596}, {\"year\": 1980, \"country\": \"Netherlands\", \"cluster\": 1, \"pop\": 14143901, \"life_expect\": 76.05, \"fertility\": 1.5150000000000001}, {\"year\": 1985, \"country\": \"Netherlands\", \"cluster\": 1, \"pop\": 14491380, \"life_expect\": 76.83, \"fertility\": 1.5550000000000002}, {\"year\": 1990, \"country\": \"Netherlands\", \"cluster\": 1, \"pop\": 14951510, \"life_expect\": 77.42, \"fertility\": 1.583}, {\"year\": 1995, \"country\": \"Netherlands\", \"cluster\": 1, \"pop\": 15459054, \"life_expect\": 78.03, \"fertility\": 1.6}, {\"year\": 2000, \"country\": \"Netherlands\", \"cluster\": 1, \"pop\": 15907853, \"life_expect\": 78.53, \"fertility\": 1.726}, {\"year\": 2005, \"country\": \"Netherlands\", \"cluster\": 1, \"pop\": 16407491, \"life_expect\": 79.762, \"fertility\": 1.721}, {\"year\": 1955, \"country\": \"New Zealand\", \"cluster\": 4, \"pop\": 2136168, \"life_expect\": 70.26, \"fertility\": 4.07}, {\"year\": 1960, \"country\": \"New Zealand\", \"cluster\": 4, \"pop\": 2371746, \"life_expect\": 71.24, \"fertility\": 4.022}, {\"year\": 1965, \"country\": \"New Zealand\", \"cluster\": 4, \"pop\": 2640400, \"life_expect\": 71.52, \"fertility\": 3.348}, {\"year\": 1970, \"country\": \"New Zealand\", \"cluster\": 4, \"pop\": 2828050, \"life_expect\": 71.89, \"fertility\": 2.843}, {\"year\": 1975, \"country\": \"New Zealand\", \"cluster\": 4, \"pop\": 3117800, \"life_expect\": 72.22, \"fertility\": 2.178}, {\"year\": 1980, \"country\": \"New Zealand\", \"cluster\": 4, \"pop\": 3170150, \"life_expect\": 73.84, \"fertility\": 1.963}, {\"year\": 1985, \"country\": \"New Zealand\", \"cluster\": 4, \"pop\": 3298050, \"life_expect\": 74.32, \"fertility\": 2.053}, {\"year\": 1990, \"country\": \"New Zealand\", \"cluster\": 4, \"pop\": 3359604, \"life_expect\": 76.33, \"fertility\": 2.061}, {\"year\": 1995, \"country\": \"New Zealand\", \"cluster\": 4, \"pop\": 3565990, \"life_expect\": 77.55, \"fertility\": 1.952}, {\"year\": 2000, \"country\": \"New Zealand\", \"cluster\": 4, \"pop\": 3819762, \"life_expect\": 79.11, \"fertility\": 1.964}, {\"year\": 2005, \"country\": \"New Zealand\", \"cluster\": 4, \"pop\": 4035461, \"life_expect\": 80.204, \"fertility\": 1.994}, {\"year\": 1955, \"country\": \"Nigeria\", \"cluster\": 2, \"pop\": 35458978, \"life_expect\": 37.802, \"fertility\": 6.9}, {\"year\": 1960, \"country\": \"Nigeria\", \"cluster\": 2, \"pop\": 39914593, \"life_expect\": 39.36, \"fertility\": 6.9}, {\"year\": 1965, \"country\": \"Nigeria\", \"cluster\": 2, \"pop\": 45020052, \"life_expect\": 41.04, \"fertility\": 6.9}, {\"year\": 1970, \"country\": \"Nigeria\", \"cluster\": 2, \"pop\": 51027516, \"life_expect\": 42.821, \"fertility\": 6.9}, {\"year\": 1975, \"country\": \"Nigeria\", \"cluster\": 2, \"pop\": 58522112, \"life_expect\": 44.514, \"fertility\": 6.9}, {\"year\": 1980, \"country\": \"Nigeria\", \"cluster\": 2, \"pop\": 68550274, \"life_expect\": 45.826, \"fertility\": 6.9}, {\"year\": 1985, \"country\": \"Nigeria\", \"cluster\": 2, \"pop\": 77573154, \"life_expect\": 46.886, \"fertility\": 6.834}, {\"year\": 1990, \"country\": \"Nigeria\", \"cluster\": 2, \"pop\": 88510354, \"life_expect\": 47.472, \"fertility\": 6.635}, {\"year\": 1995, \"country\": \"Nigeria\", \"cluster\": 2, \"pop\": 100960105, \"life_expect\": 47.464, \"fertility\": 6.246}, {\"year\": 2000, \"country\": \"Nigeria\", \"cluster\": 2, \"pop\": 114306700, \"life_expect\": 46.608, \"fertility\": 5.845}, {\"year\": 2005, \"country\": \"Nigeria\", \"cluster\": 2, \"pop\": 128765768, \"life_expect\": 46.859, \"fertility\": 5.322}, {\"year\": 1955, \"country\": \"Norway\", \"cluster\": 1, \"pop\": 3427409, \"life_expect\": 73.44, \"fertility\": 2.8369999999999997}, {\"year\": 1960, \"country\": \"Norway\", \"cluster\": 1, \"pop\": 3581239, \"life_expect\": 73.47, \"fertility\": 2.898}, {\"year\": 1965, \"country\": \"Norway\", \"cluster\": 1, \"pop\": 3723153, \"life_expect\": 74.08, \"fertility\": 2.719}, {\"year\": 1970, \"country\": \"Norway\", \"cluster\": 1, \"pop\": 3877386, \"life_expect\": 74.34, \"fertility\": 2.248}, {\"year\": 1975, \"country\": \"Norway\", \"cluster\": 1, \"pop\": 4007313, \"life_expect\": 75.37, \"fertility\": 1.81}, {\"year\": 1980, \"country\": \"Norway\", \"cluster\": 1, \"pop\": 4085620, \"life_expect\": 75.97, \"fertility\": 1.687}, {\"year\": 1985, \"country\": \"Norway\", \"cluster\": 1, \"pop\": 4152419, \"life_expect\": 75.89, \"fertility\": 1.8}, {\"year\": 1990, \"country\": \"Norway\", \"cluster\": 1, \"pop\": 4242006, \"life_expect\": 77.32, \"fertility\": 1.8860000000000001}, {\"year\": 1995, \"country\": \"Norway\", \"cluster\": 1, \"pop\": 4359101, \"life_expect\": 78.32, \"fertility\": 1.853}, {\"year\": 2000, \"country\": \"Norway\", \"cluster\": 1, \"pop\": 4492400, \"life_expect\": 79.05, \"fertility\": 1.8010000000000002}, {\"year\": 2005, \"country\": \"Norway\", \"cluster\": 1, \"pop\": 4593041, \"life_expect\": 80.196, \"fertility\": 1.8479999999999999}, {\"year\": 1955, \"country\": \"Pakistan\", \"cluster\": 0, \"pop\": 44434445, \"life_expect\": 45.557, \"fertility\": 6.6}, {\"year\": 1960, \"country\": \"Pakistan\", \"cluster\": 0, \"pop\": 50386898, \"life_expect\": 47.67, \"fertility\": 6.6}, {\"year\": 1965, \"country\": \"Pakistan\", \"cluster\": 0, \"pop\": 57494940, \"life_expect\": 49.8, \"fertility\": 6.6}, {\"year\": 1970, \"country\": \"Pakistan\", \"cluster\": 0, \"pop\": 65705964, \"life_expect\": 51.929, \"fertility\": 6.6}, {\"year\": 1975, \"country\": \"Pakistan\", \"cluster\": 0, \"pop\": 74711541, \"life_expect\": 54.043, \"fertility\": 6.6}, {\"year\": 1980, \"country\": \"Pakistan\", \"cluster\": 0, \"pop\": 85219117, \"life_expect\": 56.158, \"fertility\": 6.6}, {\"year\": 1985, \"country\": \"Pakistan\", \"cluster\": 0, \"pop\": 99060352, \"life_expect\": 58.245, \"fertility\": 6.66}, {\"year\": 1990, \"country\": \"Pakistan\", \"cluster\": 0, \"pop\": 114578478, \"life_expect\": 60.838, \"fertility\": 5.8}, {\"year\": 1995, \"country\": \"Pakistan\", \"cluster\": 0, \"pop\": 128690285, \"life_expect\": 61.818, \"fertility\": 4.9596}, {\"year\": 2000, \"country\": \"Pakistan\", \"cluster\": 0, \"pop\": 146342958, \"life_expect\": 63.61, \"fertility\": 3.9936}, {\"year\": 2005, \"country\": \"Pakistan\", \"cluster\": 0, \"pop\": 162419946, \"life_expect\": 65.483, \"fertility\": 3.5211}, {\"year\": 1955, \"country\": \"Peru\", \"cluster\": 3, \"pop\": 8671500, \"life_expect\": 46.263, \"fertility\": 6.853}, {\"year\": 1960, \"country\": \"Peru\", \"cluster\": 3, \"pop\": 9931000, \"life_expect\": 49.096, \"fertility\": 6.853}, {\"year\": 1965, \"country\": \"Peru\", \"cluster\": 3, \"pop\": 11467300, \"life_expect\": 51.445, \"fertility\": 6.5600000000000005}, {\"year\": 1970, \"country\": \"Peru\", \"cluster\": 3, \"pop\": 13192800, \"life_expect\": 55.448, \"fertility\": 6.0}, {\"year\": 1975, \"country\": \"Peru\", \"cluster\": 3, \"pop\": 15161199, \"life_expect\": 58.447, \"fertility\": 5.378}, {\"year\": 1980, \"country\": \"Peru\", \"cluster\": 3, \"pop\": 17295298, \"life_expect\": 61.406, \"fertility\": 4.65}, {\"year\": 1985, \"country\": \"Peru\", \"cluster\": 3, \"pop\": 19348926, \"life_expect\": 64.134, \"fertility\": 4.1}, {\"year\": 1990, \"country\": \"Peru\", \"cluster\": 3, \"pop\": 21511443, \"life_expect\": 66.458, \"fertility\": 3.7}, {\"year\": 1995, \"country\": \"Peru\", \"cluster\": 3, \"pop\": 23846388, \"life_expect\": 68.386, \"fertility\": 3.0995}, {\"year\": 2000, \"country\": \"Peru\", \"cluster\": 3, \"pop\": 25979722, \"life_expect\": 69.906, \"fertility\": 2.7005}, {\"year\": 2005, \"country\": \"Peru\", \"cluster\": 3, \"pop\": 27925628, \"life_expect\": 71.421, \"fertility\": 2.5065}, {\"year\": 1955, \"country\": \"Philippines\", \"cluster\": 4, \"pop\": 24553055, \"life_expect\": 51.334, \"fertility\": 7.13}, {\"year\": 1960, \"country\": \"Philippines\", \"cluster\": 4, \"pop\": 28528939, \"life_expect\": 54.757, \"fertility\": 6.85}, {\"year\": 1965, \"country\": \"Philippines\", \"cluster\": 4, \"pop\": 33267569, \"life_expect\": 56.393, \"fertility\": 6.5}, {\"year\": 1970, \"country\": \"Philippines\", \"cluster\": 4, \"pop\": 38603696, \"life_expect\": 58.065, \"fertility\": 6.0}, {\"year\": 1975, \"country\": \"Philippines\", \"cluster\": 4, \"pop\": 44336842, \"life_expect\": 60.06, \"fertility\": 5.5}, {\"year\": 1980, \"country\": \"Philippines\", \"cluster\": 4, \"pop\": 50940182, \"life_expect\": 62.082, \"fertility\": 4.95}, {\"year\": 1985, \"country\": \"Philippines\", \"cluster\": 4, \"pop\": 57288037, \"life_expect\": 64.151, \"fertility\": 4.55}, {\"year\": 1990, \"country\": \"Philippines\", \"cluster\": 4, \"pop\": 64318120, \"life_expect\": 66.458, \"fertility\": 4.143}, {\"year\": 1995, \"country\": \"Philippines\", \"cluster\": 4, \"pop\": 71717437, \"life_expect\": 68.564, \"fertility\": 3.7248}, {\"year\": 2000, \"country\": \"Philippines\", \"cluster\": 4, \"pop\": 79739825, \"life_expect\": 70.303, \"fertility\": 3.5436}, {\"year\": 2005, \"country\": \"Philippines\", \"cluster\": 4, \"pop\": 87857473, \"life_expect\": 71.688, \"fertility\": 3.2327}, {\"year\": 1955, \"country\": \"Poland\", \"cluster\": 1, \"pop\": 27220668, \"life_expect\": 65.77, \"fertility\": 3.29}, {\"year\": 1960, \"country\": \"Poland\", \"cluster\": 1, \"pop\": 29589842, \"life_expect\": 67.64, \"fertility\": 2.65}, {\"year\": 1965, \"country\": \"Poland\", \"cluster\": 1, \"pop\": 31262358, \"life_expect\": 69.61, \"fertility\": 2.27}, {\"year\": 1970, \"country\": \"Poland\", \"cluster\": 1, \"pop\": 32526000, \"life_expect\": 70.85, \"fertility\": 2.25}, {\"year\": 1975, \"country\": \"Poland\", \"cluster\": 1, \"pop\": 33969240, \"life_expect\": 70.67, \"fertility\": 2.26}, {\"year\": 1980, \"country\": \"Poland\", \"cluster\": 1, \"pop\": 35578016, \"life_expect\": 71.32, \"fertility\": 2.33}, {\"year\": 1985, \"country\": \"Poland\", \"cluster\": 1, \"pop\": 37225792, \"life_expect\": 70.98, \"fertility\": 2.15}, {\"year\": 1990, \"country\": \"Poland\", \"cluster\": 1, \"pop\": 38119408, \"life_expect\": 70.99, \"fertility\": 1.8900000000000001}, {\"year\": 1995, \"country\": \"Poland\", \"cluster\": 1, \"pop\": 38600642, \"life_expect\": 72.75, \"fertility\": 1.478}, {\"year\": 2000, \"country\": \"Poland\", \"cluster\": 1, \"pop\": 38654164, \"life_expect\": 74.67, \"fertility\": 1.251}, {\"year\": 2005, \"country\": \"Poland\", \"cluster\": 1, \"pop\": 38557984, \"life_expect\": 75.563, \"fertility\": 1.227}, {\"year\": 1955, \"country\": \"Portugal\", \"cluster\": 1, \"pop\": 8692600, \"life_expect\": 61.51, \"fertility\": 3.03}, {\"year\": 1960, \"country\": \"Portugal\", \"cluster\": 1, \"pop\": 9036700, \"life_expect\": 64.39, \"fertility\": 3.074}, {\"year\": 1965, \"country\": \"Portugal\", \"cluster\": 1, \"pop\": 9128850, \"life_expect\": 66.6, \"fertility\": 2.849}, {\"year\": 1970, \"country\": \"Portugal\", \"cluster\": 1, \"pop\": 9044200, \"life_expect\": 69.26, \"fertility\": 2.748}, {\"year\": 1975, \"country\": \"Portugal\", \"cluster\": 1, \"pop\": 9411090, \"life_expect\": 70.41, \"fertility\": 2.41}, {\"year\": 1980, \"country\": \"Portugal\", \"cluster\": 1, \"pop\": 9777800, \"life_expect\": 72.77, \"fertility\": 1.982}, {\"year\": 1985, \"country\": \"Portugal\", \"cluster\": 1, \"pop\": 9897192, \"life_expect\": 74.06, \"fertility\": 1.5939999999999999}, {\"year\": 1990, \"country\": \"Portugal\", \"cluster\": 1, \"pop\": 9922689, \"life_expect\": 74.86, \"fertility\": 1.516}, {\"year\": 1995, \"country\": \"Portugal\", \"cluster\": 1, \"pop\": 10065543, \"life_expect\": 75.97, \"fertility\": 1.475}, {\"year\": 2000, \"country\": \"Portugal\", \"cluster\": 1, \"pop\": 10335597, \"life_expect\": 77.29, \"fertility\": 1.454}, {\"year\": 2005, \"country\": \"Portugal\", \"cluster\": 1, \"pop\": 10566212, \"life_expect\": 78.098, \"fertility\": 1.455}, {\"year\": 1955, \"country\": \"Rwanda\", \"cluster\": 2, \"pop\": 2698272, \"life_expect\": 41.5, \"fertility\": 8.0}, {\"year\": 1960, \"country\": \"Rwanda\", \"cluster\": 2, \"pop\": 3031804, \"life_expect\": 43.0, \"fertility\": 8.1}, {\"year\": 1965, \"country\": \"Rwanda\", \"cluster\": 2, \"pop\": 3264640, \"life_expect\": 44.1, \"fertility\": 8.2}, {\"year\": 1970, \"country\": \"Rwanda\", \"cluster\": 2, \"pop\": 3769171, \"life_expect\": 44.6, \"fertility\": 8.29}, {\"year\": 1975, \"country\": \"Rwanda\", \"cluster\": 2, \"pop\": 4356863, \"life_expect\": 45.0, \"fertility\": 8.492}, {\"year\": 1980, \"country\": \"Rwanda\", \"cluster\": 2, \"pop\": 5138689, \"life_expect\": 46.218, \"fertility\": 8.5}, {\"year\": 1985, \"country\": \"Rwanda\", \"cluster\": 2, \"pop\": 6009833, \"life_expect\": 44.02, \"fertility\": 8.25}, {\"year\": 1990, \"country\": \"Rwanda\", \"cluster\": 2, \"pop\": 6923738, \"life_expect\": 23.599, \"fertility\": 6.9}, {\"year\": 1995, \"country\": \"Rwanda\", \"cluster\": 2, \"pop\": 5706501, \"life_expect\": 36.087, \"fertility\": 6.0993}, {\"year\": 2000, \"country\": \"Rwanda\", \"cluster\": 2, \"pop\": 7507056, \"life_expect\": 43.413, \"fertility\": 6.01}, {\"year\": 2005, \"country\": \"Rwanda\", \"cluster\": 2, \"pop\": 8440820, \"life_expect\": 46.242, \"fertility\": 5.9169}, {\"year\": 1955, \"country\": \"Saudi Arabia\", \"cluster\": 5, \"pop\": 4243218, \"life_expect\": 42.868, \"fertility\": 7.175}, {\"year\": 1960, \"country\": \"Saudi Arabia\", \"cluster\": 5, \"pop\": 4718301, \"life_expect\": 45.914, \"fertility\": 7.257}, {\"year\": 1965, \"country\": \"Saudi Arabia\", \"cluster\": 5, \"pop\": 5327432, \"life_expect\": 49.901, \"fertility\": 7.257}, {\"year\": 1970, \"country\": \"Saudi Arabia\", \"cluster\": 5, \"pop\": 6109051, \"life_expect\": 53.886, \"fertility\": 7.298}, {\"year\": 1975, \"country\": \"Saudi Arabia\", \"cluster\": 5, \"pop\": 7204820, \"life_expect\": 58.69, \"fertility\": 7.2780000000000005}, {\"year\": 1980, \"country\": \"Saudi Arabia\", \"cluster\": 5, \"pop\": 9999161, \"life_expect\": 63.012, \"fertility\": 7.015}, {\"year\": 1985, \"country\": \"Saudi Arabia\", \"cluster\": 5, \"pop\": 13330067, \"life_expect\": 66.295, \"fertility\": 6.217}, {\"year\": 1990, \"country\": \"Saudi Arabia\", \"cluster\": 5, \"pop\": 16060761, \"life_expect\": 68.768, \"fertility\": 5.446}, {\"year\": 1995, \"country\": \"Saudi Arabia\", \"cluster\": 5, \"pop\": 19966998, \"life_expect\": 70.533, \"fertility\": 4.621}, {\"year\": 2000, \"country\": \"Saudi Arabia\", \"cluster\": 5, \"pop\": 23153090, \"life_expect\": 71.626, \"fertility\": 3.81}, {\"year\": 2005, \"country\": \"Saudi Arabia\", \"cluster\": 5, \"pop\": 26417599, \"life_expect\": 72.777, \"fertility\": 3.352}, {\"year\": 1955, \"country\": \"South Africa\", \"cluster\": 2, \"pop\": 15368551, \"life_expect\": 47.985, \"fertility\": 6.5}, {\"year\": 1960, \"country\": \"South Africa\", \"cluster\": 2, \"pop\": 17416653, \"life_expect\": 49.951, \"fertility\": 6.3}, {\"year\": 1965, \"country\": \"South Africa\", \"cluster\": 2, \"pop\": 19898242, \"life_expect\": 51.927, \"fertility\": 5.7}, {\"year\": 1970, \"country\": \"South Africa\", \"cluster\": 2, \"pop\": 22739921, \"life_expect\": 53.696, \"fertility\": 5.47}, {\"year\": 1975, \"country\": \"South Africa\", \"cluster\": 2, \"pop\": 25815144, \"life_expect\": 55.527, \"fertility\": 5.0}, {\"year\": 1980, \"country\": \"South Africa\", \"cluster\": 2, \"pop\": 29251588, \"life_expect\": 58.161, \"fertility\": 4.556}, {\"year\": 1985, \"country\": \"South Africa\", \"cluster\": 2, \"pop\": 34254092, \"life_expect\": 60.834, \"fertility\": 3.85}, {\"year\": 1990, \"country\": \"South Africa\", \"cluster\": 2, \"pop\": 38391094, \"life_expect\": 61.888, \"fertility\": 3.343}, {\"year\": 1995, \"country\": \"South Africa\", \"cluster\": 2, \"pop\": 41779149, \"life_expect\": 60.236, \"fertility\": 2.954}, {\"year\": 2000, \"country\": \"South Africa\", \"cluster\": 2, \"pop\": 44066197, \"life_expect\": 53.365, \"fertility\": 2.802}, {\"year\": 2005, \"country\": \"South Africa\", \"cluster\": 2, \"pop\": 44344136, \"life_expect\": 49.339, \"fertility\": 2.637}, {\"year\": 1955, \"country\": \"Spain\", \"cluster\": 1, \"pop\": 29318745, \"life_expect\": 66.66, \"fertility\": 2.75}, {\"year\": 1960, \"country\": \"Spain\", \"cluster\": 1, \"pop\": 30641187, \"life_expect\": 69.69, \"fertility\": 2.89}, {\"year\": 1965, \"country\": \"Spain\", \"cluster\": 1, \"pop\": 32084511, \"life_expect\": 71.44, \"fertility\": 2.92}, {\"year\": 1970, \"country\": \"Spain\", \"cluster\": 1, \"pop\": 33876479, \"life_expect\": 73.06, \"fertility\": 2.86}, {\"year\": 1975, \"country\": \"Spain\", \"cluster\": 1, \"pop\": 35563535, \"life_expect\": 74.39, \"fertility\": 2.5700000000000003}, {\"year\": 1980, \"country\": \"Spain\", \"cluster\": 1, \"pop\": 37488360, \"life_expect\": 76.3, \"fertility\": 1.8900000000000001}, {\"year\": 1985, \"country\": \"Spain\", \"cluster\": 1, \"pop\": 38534853, \"life_expect\": 76.9, \"fertility\": 1.48}, {\"year\": 1990, \"country\": \"Spain\", \"cluster\": 1, \"pop\": 39350769, \"life_expect\": 77.57, \"fertility\": 1.27}, {\"year\": 1995, \"country\": \"Spain\", \"cluster\": 1, \"pop\": 39749715, \"life_expect\": 78.77, \"fertility\": 1.182}, {\"year\": 2000, \"country\": \"Spain\", \"cluster\": 1, \"pop\": 40016081, \"life_expect\": 79.78, \"fertility\": 1.287}, {\"year\": 2005, \"country\": \"Spain\", \"cluster\": 1, \"pop\": 40341462, \"life_expect\": 80.941, \"fertility\": 1.409}, {\"year\": 1955, \"country\": \"Switzerland\", \"cluster\": 1, \"pop\": 4980000, \"life_expect\": 70.56, \"fertility\": 2.34}, {\"year\": 1960, \"country\": \"Switzerland\", \"cluster\": 1, \"pop\": 5362000, \"life_expect\": 71.32, \"fertility\": 2.51}, {\"year\": 1965, \"country\": \"Switzerland\", \"cluster\": 1, \"pop\": 5943000, \"life_expect\": 72.77, \"fertility\": 2.27}, {\"year\": 1970, \"country\": \"Switzerland\", \"cluster\": 1, \"pop\": 6267000, \"life_expect\": 73.78, \"fertility\": 1.82}, {\"year\": 1975, \"country\": \"Switzerland\", \"cluster\": 1, \"pop\": 6403500, \"life_expect\": 75.39, \"fertility\": 1.53}, {\"year\": 1980, \"country\": \"Switzerland\", \"cluster\": 1, \"pop\": 6385229, \"life_expect\": 76.21, \"fertility\": 1.53}, {\"year\": 1985, \"country\": \"Switzerland\", \"cluster\": 1, \"pop\": 6563770, \"life_expect\": 77.41, \"fertility\": 1.53}, {\"year\": 1990, \"country\": \"Switzerland\", \"cluster\": 1, \"pop\": 6836626, \"life_expect\": 78.03, \"fertility\": 1.54}, {\"year\": 1995, \"country\": \"Switzerland\", \"cluster\": 1, \"pop\": 7157106, \"life_expect\": 79.37, \"fertility\": 1.47}, {\"year\": 2000, \"country\": \"Switzerland\", \"cluster\": 1, \"pop\": 7266920, \"life_expect\": 80.62, \"fertility\": 1.415}, {\"year\": 2005, \"country\": \"Switzerland\", \"cluster\": 1, \"pop\": 7489370, \"life_expect\": 81.701, \"fertility\": 1.42}, {\"year\": 1955, \"country\": \"Turkey\", \"cluster\": 1, \"pop\": 24144571, \"life_expect\": 48.079, \"fertility\": 6.6}, {\"year\": 1960, \"country\": \"Turkey\", \"cluster\": 1, \"pop\": 28217122, \"life_expect\": 52.098, \"fertility\": 6.19}, {\"year\": 1965, \"country\": \"Turkey\", \"cluster\": 1, \"pop\": 31950718, \"life_expect\": 54.336, \"fertility\": 5.7}, {\"year\": 1970, \"country\": \"Turkey\", \"cluster\": 1, \"pop\": 35758382, \"life_expect\": 57.005, \"fertility\": 5.3}, {\"year\": 1975, \"country\": \"Turkey\", \"cluster\": 1, \"pop\": 40529798, \"life_expect\": 59.507, \"fertility\": 4.715}, {\"year\": 1980, \"country\": \"Turkey\", \"cluster\": 1, \"pop\": 45120802, \"life_expect\": 61.036, \"fertility\": 4.15}, {\"year\": 1985, \"country\": \"Turkey\", \"cluster\": 1, \"pop\": 50669003, \"life_expect\": 63.108, \"fertility\": 3.276}, {\"year\": 1990, \"country\": \"Turkey\", \"cluster\": 1, \"pop\": 56084632, \"life_expect\": 66.146, \"fertility\": 2.904}, {\"year\": 1995, \"country\": \"Turkey\", \"cluster\": 1, \"pop\": 61188984, \"life_expect\": 68.835, \"fertility\": 2.574}, {\"year\": 2000, \"country\": \"Turkey\", \"cluster\": 1, \"pop\": 65666677, \"life_expect\": 70.845, \"fertility\": 2.23}, {\"year\": 2005, \"country\": \"Turkey\", \"cluster\": 1, \"pop\": 69660559, \"life_expect\": 71.777, \"fertility\": 2.143}, {\"year\": 1955, \"country\": \"United Kingdom\", \"cluster\": 1, \"pop\": 50946000, \"life_expect\": 70.42, \"fertility\": 2.49}, {\"year\": 1960, \"country\": \"United Kingdom\", \"cluster\": 1, \"pop\": 52372000, \"life_expect\": 70.76, \"fertility\": 2.81}, {\"year\": 1965, \"country\": \"United Kingdom\", \"cluster\": 1, \"pop\": 54350000, \"life_expect\": 71.36, \"fertility\": 2.52}, {\"year\": 1970, \"country\": \"United Kingdom\", \"cluster\": 1, \"pop\": 55632000, \"life_expect\": 72.01, \"fertility\": 2.04}, {\"year\": 1975, \"country\": \"United Kingdom\", \"cluster\": 1, \"pop\": 56215000, \"life_expect\": 72.76, \"fertility\": 1.72}, {\"year\": 1980, \"country\": \"United Kingdom\", \"cluster\": 1, \"pop\": 56314000, \"life_expect\": 74.04, \"fertility\": 1.8}, {\"year\": 1985, \"country\": \"United Kingdom\", \"cluster\": 1, \"pop\": 56620240, \"life_expect\": 75.007, \"fertility\": 1.81}, {\"year\": 1990, \"country\": \"United Kingdom\", \"cluster\": 1, \"pop\": 57493307, \"life_expect\": 76.42, \"fertility\": 1.78}, {\"year\": 1995, \"country\": \"United Kingdom\", \"cluster\": 1, \"pop\": 58426014, \"life_expect\": 77.218, \"fertility\": 1.7000000000000002}, {\"year\": 2000, \"country\": \"United Kingdom\", \"cluster\": 1, \"pop\": 59522468, \"life_expect\": 78.471, \"fertility\": 1.695}, {\"year\": 2005, \"country\": \"United Kingdom\", \"cluster\": 1, \"pop\": 60441457, \"life_expect\": 79.425, \"fertility\": 1.815}, {\"year\": 1955, \"country\": \"United States\", \"cluster\": 3, \"pop\": 165931000, \"life_expect\": 69.49, \"fertility\": 3.706}, {\"year\": 1960, \"country\": \"United States\", \"cluster\": 3, \"pop\": 180671000, \"life_expect\": 70.21, \"fertility\": 3.314}, {\"year\": 1965, \"country\": \"United States\", \"cluster\": 3, \"pop\": 194303000, \"life_expect\": 70.76, \"fertility\": 2.545}, {\"year\": 1970, \"country\": \"United States\", \"cluster\": 3, \"pop\": 205052000, \"life_expect\": 71.34, \"fertility\": 2.016}, {\"year\": 1975, \"country\": \"United States\", \"cluster\": 3, \"pop\": 215973000, \"life_expect\": 73.38, \"fertility\": 1.788}, {\"year\": 1980, \"country\": \"United States\", \"cluster\": 3, \"pop\": 227726463, \"life_expect\": 74.65, \"fertility\": 1.8250000000000002}, {\"year\": 1985, \"country\": \"United States\", \"cluster\": 3, \"pop\": 238466283, \"life_expect\": 75.02, \"fertility\": 1.924}, {\"year\": 1990, \"country\": \"United States\", \"cluster\": 3, \"pop\": 250131894, \"life_expect\": 76.09, \"fertility\": 2.025}, {\"year\": 1995, \"country\": \"United States\", \"cluster\": 3, \"pop\": 266557091, \"life_expect\": 76.81, \"fertility\": 1.994}, {\"year\": 2000, \"country\": \"United States\", \"cluster\": 3, \"pop\": 282338631, \"life_expect\": 77.31, \"fertility\": 2.038}, {\"year\": 2005, \"country\": \"United States\", \"cluster\": 3, \"pop\": 295734134, \"life_expect\": 78.242, \"fertility\": 2.054}, {\"year\": 1955, \"country\": \"Venezuela\", \"cluster\": 3, \"pop\": 6170497, \"life_expect\": 57.907, \"fertility\": 6.4585}, {\"year\": 1960, \"country\": \"Venezuela\", \"cluster\": 3, \"pop\": 7556483, \"life_expect\": 60.77, \"fertility\": 6.657}, {\"year\": 1965, \"country\": \"Venezuela\", \"cluster\": 3, \"pop\": 9067735, \"life_expect\": 63.479, \"fertility\": 5.9045000000000005}, {\"year\": 1970, \"country\": \"Venezuela\", \"cluster\": 3, \"pop\": 10758017, \"life_expect\": 65.712, \"fertility\": 4.941}, {\"year\": 1975, \"country\": \"Venezuela\", \"cluster\": 3, \"pop\": 12674987, \"life_expect\": 67.456, \"fertility\": 4.4685}, {\"year\": 1980, \"country\": \"Venezuela\", \"cluster\": 3, \"pop\": 14767890, \"life_expect\": 68.557, \"fertility\": 3.957}, {\"year\": 1985, \"country\": \"Venezuela\", \"cluster\": 3, \"pop\": 16997509, \"life_expect\": 70.19, \"fertility\": 3.6485000000000003}, {\"year\": 1990, \"country\": \"Venezuela\", \"cluster\": 3, \"pop\": 19325222, \"life_expect\": 71.15, \"fertility\": 3.25}, {\"year\": 1995, \"country\": \"Venezuela\", \"cluster\": 3, \"pop\": 21555902, \"life_expect\": 72.146, \"fertility\": 2.9415}, {\"year\": 2000, \"country\": \"Venezuela\", \"cluster\": 3, \"pop\": 23542649, \"life_expect\": 72.766, \"fertility\": 2.723}, {\"year\": 2005, \"country\": \"Venezuela\", \"cluster\": 3, \"pop\": 25375281, \"life_expect\": 73.747, \"fertility\": 2.547}]}}, {\"mode\": \"vega-lite\"});\n",
       "</script>"
      ],
      "text/plain": [
       "alt.Chart(...)"
      ]
     },
     "execution_count": 32,
     "metadata": {},
     "output_type": "execute_result"
    }
   ],
   "source": [
    "alt.Chart(data).mark_line(\n",
    "    strokeWidth=3,\n",
    "    opacity=0.5,\n",
    "    interpolate='monotone'\n",
    ").encode(\n",
    "    alt.X('year:O'),\n",
    "    alt.Y('fertility:Q'),\n",
    "    alt.Color('country:N', legend=None),\n",
    "    alt.Tooltip('country:N')\n",
    ").properties(\n",
    "    width=400\n",
    ")"
   ]
  },
  {
   "cell_type": "markdown",
   "metadata": {
    "colab_type": "text",
    "id": "_PZcXCF6OZm2"
   },
   "source": [
    "The `line` mark can also be used to create *slope graphs*, charts that highlight the change in value between two comparison points using line slopes.\n",
    "\n",
    "Below let's create a slope graph comparing the populations of each country at minimum and maximum years in our full dataset: 1955 and 2005. We first create a new Pandas data frame filtered to those years, then use Altair to create the slope graph.\n",
    "\n",
    "By default, Altair places the years close together. To better space out the years along the x-axis, we can indicate the size (in pixels) of discrete steps along the width of our chart as indicated by the comment below. Try adjusting the width `step` value below and see how the chart changes in response."
   ]
  },
  {
   "cell_type": "code",
   "execution_count": 34,
   "metadata": {
    "colab": {
     "base_uri": "https://localhost:8080/",
     "height": 385
    },
    "colab_type": "code",
    "id": "glipk3XoKUcc",
    "outputId": "edd1292a-97a7-44d1-b2ec-c5b8d755aa86"
   },
   "outputs": [
    {
     "data": {
      "text/html": [
       "\n",
       "<div id=\"altair-viz-89b198639cc3484796223ba7913ab01c\"></div>\n",
       "<script type=\"text/javascript\">\n",
       "  (function(spec, embedOpt){\n",
       "    let outputDiv = document.currentScript.previousElementSibling;\n",
       "    if (outputDiv.id !== \"altair-viz-89b198639cc3484796223ba7913ab01c\") {\n",
       "      outputDiv = document.getElementById(\"altair-viz-89b198639cc3484796223ba7913ab01c\");\n",
       "    }\n",
       "    const paths = {\n",
       "      \"vega\": \"https://cdn.jsdelivr.net/npm//vega@5?noext\",\n",
       "      \"vega-lib\": \"https://cdn.jsdelivr.net/npm//vega-lib?noext\",\n",
       "      \"vega-lite\": \"https://cdn.jsdelivr.net/npm//vega-lite@4.8.1?noext\",\n",
       "      \"vega-embed\": \"https://cdn.jsdelivr.net/npm//vega-embed@6?noext\",\n",
       "    };\n",
       "\n",
       "    function loadScript(lib) {\n",
       "      return new Promise(function(resolve, reject) {\n",
       "        var s = document.createElement('script');\n",
       "        s.src = paths[lib];\n",
       "        s.async = true;\n",
       "        s.onload = () => resolve(paths[lib]);\n",
       "        s.onerror = () => reject(`Error loading script: ${paths[lib]}`);\n",
       "        document.getElementsByTagName(\"head\")[0].appendChild(s);\n",
       "      });\n",
       "    }\n",
       "\n",
       "    function showError(err) {\n",
       "      outputDiv.innerHTML = `<div class=\"error\" style=\"color:red;\">${err}</div>`;\n",
       "      throw err;\n",
       "    }\n",
       "\n",
       "    function displayChart(vegaEmbed) {\n",
       "      vegaEmbed(outputDiv, spec, embedOpt)\n",
       "        .catch(err => showError(`Javascript Error: ${err.message}<br>This usually means there's a typo in your chart specification. See the javascript console for the full traceback.`));\n",
       "    }\n",
       "\n",
       "    if(typeof define === \"function\" && define.amd) {\n",
       "      requirejs.config({paths});\n",
       "      require([\"vega-embed\"], displayChart, err => showError(`Error loading script: ${err.message}`));\n",
       "    } else if (typeof vegaEmbed === \"function\") {\n",
       "      displayChart(vegaEmbed);\n",
       "    } else {\n",
       "      loadScript(\"vega\")\n",
       "        .then(() => loadScript(\"vega-lite\"))\n",
       "        .then(() => loadScript(\"vega-embed\"))\n",
       "        .catch(showError)\n",
       "        .then(() => displayChart(vegaEmbed));\n",
       "    }\n",
       "  })({\"config\": {\"view\": {\"continuousWidth\": 400, \"continuousHeight\": 300}}, \"data\": {\"name\": \"data-cb152d9c221aa74672d5bedc49a3e5c7\"}, \"mark\": {\"type\": \"line\", \"opacity\": 0.5}, \"encoding\": {\"color\": {\"type\": \"nominal\", \"field\": \"country\", \"legend\": null}, \"tooltip\": {\"type\": \"nominal\", \"field\": \"country\"}, \"x\": {\"type\": \"ordinal\", \"field\": \"year\"}, \"y\": {\"type\": \"quantitative\", \"field\": \"pop\"}}, \"width\": {\"step\": 50}, \"$schema\": \"https://vega.github.io/schema/vega-lite/v4.8.1.json\", \"datasets\": {\"data-cb152d9c221aa74672d5bedc49a3e5c7\": [{\"year\": 1955, \"country\": \"Afghanistan\", \"cluster\": 0, \"pop\": 8891209, \"life_expect\": 30.332, \"fertility\": 7.7}, {\"year\": 2005, \"country\": \"Afghanistan\", \"cluster\": 0, \"pop\": 29928987, \"life_expect\": 43.828, \"fertility\": 7.0685}, {\"year\": 1955, \"country\": \"Argentina\", \"cluster\": 3, \"pop\": 18927821, \"life_expect\": 64.399, \"fertility\": 3.1265}, {\"year\": 2005, \"country\": \"Argentina\", \"cluster\": 3, \"pop\": 39537943, \"life_expect\": 75.32, \"fertility\": 2.254}, {\"year\": 1955, \"country\": \"Aruba\", \"cluster\": 3, \"pop\": 53865, \"life_expect\": 64.381, \"fertility\": 5.15}, {\"year\": 2005, \"country\": \"Aruba\", \"cluster\": 3, \"pop\": 71566, \"life_expect\": 74.239, \"fertility\": 2.04}, {\"year\": 1955, \"country\": \"Australia\", \"cluster\": 4, \"pop\": 9277087, \"life_expect\": 70.33, \"fertility\": 3.406}, {\"year\": 2005, \"country\": \"Australia\", \"cluster\": 4, \"pop\": 20090437, \"life_expect\": 81.235, \"fertility\": 1.788}, {\"year\": 1955, \"country\": \"Austria\", \"cluster\": 1, \"pop\": 6946885, \"life_expect\": 67.48, \"fertility\": 2.52}, {\"year\": 2005, \"country\": \"Austria\", \"cluster\": 1, \"pop\": 8184691, \"life_expect\": 79.829, \"fertility\": 1.42}, {\"year\": 1955, \"country\": \"Bahamas\", \"cluster\": 3, \"pop\": 87138, \"life_expect\": 62.405, \"fertility\": 4.305}, {\"year\": 2005, \"country\": \"Bahamas\", \"cluster\": 3, \"pop\": 301790, \"life_expect\": 73.495, \"fertility\": 2.0221}, {\"year\": 1955, \"country\": \"Bangladesh\", \"cluster\": 0, \"pop\": 49601520, \"life_expect\": 39.348, \"fertility\": 6.76}, {\"year\": 2005, \"country\": \"Bangladesh\", \"cluster\": 0, \"pop\": 144319628, \"life_expect\": 64.062, \"fertility\": 2.826}, {\"year\": 1955, \"country\": \"Barbados\", \"cluster\": 3, \"pop\": 227255, \"life_expect\": 62.57, \"fertility\": 4.67}, {\"year\": 2005, \"country\": \"Barbados\", \"cluster\": 3, \"pop\": 278870, \"life_expect\": 77.296, \"fertility\": 1.5}, {\"year\": 1955, \"country\": \"Belgium\", \"cluster\": 1, \"pop\": 8868475, \"life_expect\": 69.24, \"fertility\": 2.496}, {\"year\": 2005, \"country\": \"Belgium\", \"cluster\": 1, \"pop\": 10364388, \"life_expect\": 79.441, \"fertility\": 1.646}, {\"year\": 1955, \"country\": \"Bolivia\", \"cluster\": 3, \"pop\": 3074311, \"life_expect\": 41.89, \"fertility\": 6.75}, {\"year\": 2005, \"country\": \"Bolivia\", \"cluster\": 3, \"pop\": 8857870, \"life_expect\": 65.554, \"fertility\": 3.5}, {\"year\": 1955, \"country\": \"Brazil\", \"cluster\": 3, \"pop\": 61773546, \"life_expect\": 53.285, \"fertility\": 6.1501}, {\"year\": 2005, \"country\": \"Brazil\", \"cluster\": 3, \"pop\": 186112794, \"life_expect\": 72.39, \"fertility\": 2.245}, {\"year\": 1955, \"country\": \"Canada\", \"cluster\": 3, \"pop\": 16050356, \"life_expect\": 69.96, \"fertility\": 3.882}, {\"year\": 2005, \"country\": \"Canada\", \"cluster\": 3, \"pop\": 32805041, \"life_expect\": 80.653, \"fertility\": 1.5270000000000001}, {\"year\": 1955, \"country\": \"Chile\", \"cluster\": 3, \"pop\": 6743269, \"life_expect\": 56.074, \"fertility\": 5.486}, {\"year\": 2005, \"country\": \"Chile\", \"cluster\": 3, \"pop\": 15980912, \"life_expect\": 78.553, \"fertility\": 1.944}, {\"year\": 1955, \"country\": \"China\", \"cluster\": 4, \"pop\": 608655000, \"life_expect\": 50.54896, \"fertility\": 5.59}, {\"year\": 2005, \"country\": \"China\", \"cluster\": 4, \"pop\": 1303182268, \"life_expect\": 72.961, \"fertility\": 1.725}, {\"year\": 1955, \"country\": \"Colombia\", \"cluster\": 3, \"pop\": 13588405, \"life_expect\": 55.118, \"fertility\": 6.76}, {\"year\": 2005, \"country\": \"Colombia\", \"cluster\": 3, \"pop\": 42954279, \"life_expect\": 72.889, \"fertility\": 2.2205}, {\"year\": 1955, \"country\": \"Costa Rica\", \"cluster\": 3, \"pop\": 1031782, \"life_expect\": 60.026, \"fertility\": 7.1135}, {\"year\": 2005, \"country\": \"Costa Rica\", \"cluster\": 3, \"pop\": 4016173, \"life_expect\": 78.782, \"fertility\": 2.0985}, {\"year\": 1955, \"country\": \"Croatia\", \"cluster\": 1, \"pop\": 3955526, \"life_expect\": 64.77, \"fertility\": 2.42}, {\"year\": 2005, \"country\": \"Croatia\", \"cluster\": 1, \"pop\": 4495904, \"life_expect\": 75.748, \"fertility\": 1.346}, {\"year\": 1955, \"country\": \"Cuba\", \"cluster\": 3, \"pop\": 6381106, \"life_expect\": 62.325, \"fertility\": 3.6995}, {\"year\": 2005, \"country\": \"Cuba\", \"cluster\": 3, \"pop\": 11346670, \"life_expect\": 78.273, \"fertility\": 1.49}, {\"year\": 1955, \"country\": \"Dominican Republic\", \"cluster\": 3, \"pop\": 2737257, \"life_expect\": 49.828, \"fertility\": 7.6405}, {\"year\": 2005, \"country\": \"Dominican Republic\", \"cluster\": 3, \"pop\": 9049595, \"life_expect\": 72.235, \"fertility\": 2.81}, {\"year\": 1955, \"country\": \"Ecuador\", \"cluster\": 3, \"pop\": 3842399, \"life_expect\": 51.356, \"fertility\": 6.7}, {\"year\": 2005, \"country\": \"Ecuador\", \"cluster\": 3, \"pop\": 13363593, \"life_expect\": 74.994, \"fertility\": 2.578}, {\"year\": 1955, \"country\": \"Egypt\", \"cluster\": 5, \"pop\": 23855527, \"life_expect\": 44.444, \"fertility\": 6.97}, {\"year\": 2005, \"country\": \"Egypt\", \"cluster\": 5, \"pop\": 77505756, \"life_expect\": 71.338, \"fertility\": 2.891}, {\"year\": 1955, \"country\": \"El Salvador\", \"cluster\": 3, \"pop\": 2221139, \"life_expect\": 48.57, \"fertility\": 6.8065}, {\"year\": 2005, \"country\": \"El Salvador\", \"cluster\": 3, \"pop\": 6704932, \"life_expect\": 71.878, \"fertility\": 2.6825}, {\"year\": 1955, \"country\": \"Finland\", \"cluster\": 1, \"pop\": 4234900, \"life_expect\": 67.49, \"fertility\": 2.769}, {\"year\": 2005, \"country\": \"Finland\", \"cluster\": 1, \"pop\": 5223442, \"life_expect\": 79.313, \"fertility\": 1.8250000000000002}, {\"year\": 1955, \"country\": \"France\", \"cluster\": 1, \"pop\": 43427669, \"life_expect\": 68.93, \"fertility\": 2.7119999999999997}, {\"year\": 2005, \"country\": \"France\", \"cluster\": 1, \"pop\": 60656178, \"life_expect\": 80.657, \"fertility\": 1.8916}, {\"year\": 1955, \"country\": \"Georgia\", \"cluster\": 1, \"pop\": 3827154, \"life_expect\": 62.625, \"fertility\": 2.909}, {\"year\": 2005, \"country\": \"Georgia\", \"cluster\": 1, \"pop\": 4677401, \"life_expect\": 70.987, \"fertility\": 1.407}, {\"year\": 1955, \"country\": \"Germany\", \"cluster\": 1, \"pop\": 70195612, \"life_expect\": 69.1, \"fertility\": 2.3}, {\"year\": 2005, \"country\": \"Germany\", \"cluster\": 1, \"pop\": 82431390, \"life_expect\": 79.406, \"fertility\": 1.3599999999999999}, {\"year\": 1955, \"country\": \"Greece\", \"cluster\": 1, \"pop\": 7965538, \"life_expect\": 67.86, \"fertility\": 2.27}, {\"year\": 2005, \"country\": \"Greece\", \"cluster\": 1, \"pop\": 10668354, \"life_expect\": 79.483, \"fertility\": 1.325}, {\"year\": 1955, \"country\": \"Grenada\", \"cluster\": 3, \"pop\": 84621, \"life_expect\": 63.114, \"fertility\": 6.7}, {\"year\": 2005, \"country\": \"Grenada\", \"cluster\": 3, \"pop\": 89502, \"life_expect\": 68.724, \"fertility\": 2.302}, {\"year\": 1955, \"country\": \"Haiti\", \"cluster\": 3, \"pop\": 3376419, \"life_expect\": 40.696, \"fertility\": 6.3}, {\"year\": 2005, \"country\": \"Haiti\", \"cluster\": 3, \"pop\": 8121622, \"life_expect\": 60.916, \"fertility\": 3.5445}, {\"year\": 1955, \"country\": \"Hong Kong\", \"cluster\": 4, \"pop\": 2490400, \"life_expect\": 64.75, \"fertility\": 4.72}, {\"year\": 2005, \"country\": \"Hong Kong\", \"cluster\": 4, \"pop\": 6898686, \"life_expect\": 82.208, \"fertility\": 0.966}, {\"year\": 1955, \"country\": \"Iceland\", \"cluster\": 1, \"pop\": 158044, \"life_expect\": 73.47, \"fertility\": 4.023}, {\"year\": 2005, \"country\": \"Iceland\", \"cluster\": 1, \"pop\": 296737, \"life_expect\": 81.757, \"fertility\": 2.052}, {\"year\": 1955, \"country\": \"India\", \"cluster\": 0, \"pop\": 393000000, \"life_expect\": 40.249, \"fertility\": 5.8961}, {\"year\": 2005, \"country\": \"India\", \"cluster\": 0, \"pop\": 1080264388, \"life_expect\": 64.698, \"fertility\": 2.8073}, {\"year\": 1955, \"country\": \"Indonesia\", \"cluster\": 4, \"pop\": 86807000, \"life_expect\": 39.918, \"fertility\": 5.672}, {\"year\": 2005, \"country\": \"Indonesia\", \"cluster\": 4, \"pop\": 218465000, \"life_expect\": 70.65, \"fertility\": 2.182}, {\"year\": 1955, \"country\": \"Iran\", \"cluster\": 5, \"pop\": 18729000, \"life_expect\": 47.181, \"fertility\": 7.0}, {\"year\": 2005, \"country\": \"Iran\", \"cluster\": 5, \"pop\": 68017860, \"life_expect\": 70.964, \"fertility\": 2.04}, {\"year\": 1955, \"country\": \"Iraq\", \"cluster\": 5, \"pop\": 5903253, \"life_expect\": 48.437, \"fertility\": 7.3}, {\"year\": 2005, \"country\": \"Iraq\", \"cluster\": 5, \"pop\": 26074906, \"life_expect\": 59.545, \"fertility\": 4.264}, {\"year\": 1955, \"country\": \"Ireland\", \"cluster\": 1, \"pop\": 2916133, \"life_expect\": 68.9, \"fertility\": 3.68}, {\"year\": 2005, \"country\": \"Ireland\", \"cluster\": 1, \"pop\": 4015676, \"life_expect\": 78.885, \"fertility\": 1.964}, {\"year\": 1955, \"country\": \"Israel\", \"cluster\": 5, \"pop\": 1772032, \"life_expect\": 67.84, \"fertility\": 3.893}, {\"year\": 2005, \"country\": \"Israel\", \"cluster\": 5, \"pop\": 6276883, \"life_expect\": 80.745, \"fertility\": 2.75}, {\"year\": 1955, \"country\": \"Italy\", \"cluster\": 1, \"pop\": 48633000, \"life_expect\": 67.81, \"fertility\": 2.35}, {\"year\": 2005, \"country\": \"Italy\", \"cluster\": 1, \"pop\": 58103033, \"life_expect\": 80.546, \"fertility\": 1.379}, {\"year\": 1955, \"country\": \"Jamaica\", \"cluster\": 3, \"pop\": 1488805, \"life_expect\": 62.61, \"fertility\": 5.08}, {\"year\": 2005, \"country\": \"Jamaica\", \"cluster\": 3, \"pop\": 2735520, \"life_expect\": 72.567, \"fertility\": 2.4289}, {\"year\": 1955, \"country\": \"Japan\", \"cluster\": 4, \"pop\": 89815060, \"life_expect\": 65.5, \"fertility\": 2.08}, {\"year\": 2005, \"country\": \"Japan\", \"cluster\": 4, \"pop\": 127417244, \"life_expect\": 82.603, \"fertility\": 1.27}, {\"year\": 1955, \"country\": \"Kenya\", \"cluster\": 2, \"pop\": 7033999, \"life_expect\": 44.686, \"fertility\": 7.816}, {\"year\": 2005, \"country\": \"Kenya\", \"cluster\": 2, \"pop\": 33829590, \"life_expect\": 54.11, \"fertility\": 4.959}, {\"year\": 1955, \"country\": \"South Korea\", \"cluster\": 4, \"pop\": 8839427, \"life_expect\": 54.081, \"fertility\": 3.8}, {\"year\": 2005, \"country\": \"South Korea\", \"cluster\": 4, \"pop\": 22912177, \"life_expect\": 67.297, \"fertility\": 1.85}, {\"year\": 1955, \"country\": \"North Korea\", \"cluster\": 4, \"pop\": 21551834, \"life_expect\": 52.681, \"fertility\": 6.332}, {\"year\": 2005, \"country\": \"North Korea\", \"cluster\": 4, \"pop\": 48640671, \"life_expect\": 78.623, \"fertility\": 1.21}, {\"year\": 1955, \"country\": \"Lebanon\", \"cluster\": 5, \"pop\": 1560985, \"life_expect\": 59.489, \"fertility\": 5.72}, {\"year\": 2005, \"country\": \"Lebanon\", \"cluster\": 5, \"pop\": 3826018, \"life_expect\": 71.993, \"fertility\": 2.209}, {\"year\": 1955, \"country\": \"Mexico\", \"cluster\": 3, \"pop\": 32929914, \"life_expect\": 55.19, \"fertility\": 6.8}, {\"year\": 2005, \"country\": \"Mexico\", \"cluster\": 3, \"pop\": 106202903, \"life_expect\": 76.195, \"fertility\": 2.211}, {\"year\": 1955, \"country\": \"Netherlands\", \"cluster\": 1, \"pop\": 10750842, \"life_expect\": 72.99, \"fertility\": 3.095}, {\"year\": 2005, \"country\": \"Netherlands\", \"cluster\": 1, \"pop\": 16407491, \"life_expect\": 79.762, \"fertility\": 1.721}, {\"year\": 1955, \"country\": \"New Zealand\", \"cluster\": 4, \"pop\": 2136168, \"life_expect\": 70.26, \"fertility\": 4.07}, {\"year\": 2005, \"country\": \"New Zealand\", \"cluster\": 4, \"pop\": 4035461, \"life_expect\": 80.204, \"fertility\": 1.994}, {\"year\": 1955, \"country\": \"Nigeria\", \"cluster\": 2, \"pop\": 35458978, \"life_expect\": 37.802, \"fertility\": 6.9}, {\"year\": 2005, \"country\": \"Nigeria\", \"cluster\": 2, \"pop\": 128765768, \"life_expect\": 46.859, \"fertility\": 5.322}, {\"year\": 1955, \"country\": \"Norway\", \"cluster\": 1, \"pop\": 3427409, \"life_expect\": 73.44, \"fertility\": 2.8369999999999997}, {\"year\": 2005, \"country\": \"Norway\", \"cluster\": 1, \"pop\": 4593041, \"life_expect\": 80.196, \"fertility\": 1.8479999999999999}, {\"year\": 1955, \"country\": \"Pakistan\", \"cluster\": 0, \"pop\": 44434445, \"life_expect\": 45.557, \"fertility\": 6.6}, {\"year\": 2005, \"country\": \"Pakistan\", \"cluster\": 0, \"pop\": 162419946, \"life_expect\": 65.483, \"fertility\": 3.5211}, {\"year\": 1955, \"country\": \"Peru\", \"cluster\": 3, \"pop\": 8671500, \"life_expect\": 46.263, \"fertility\": 6.853}, {\"year\": 2005, \"country\": \"Peru\", \"cluster\": 3, \"pop\": 27925628, \"life_expect\": 71.421, \"fertility\": 2.5065}, {\"year\": 1955, \"country\": \"Philippines\", \"cluster\": 4, \"pop\": 24553055, \"life_expect\": 51.334, \"fertility\": 7.13}, {\"year\": 2005, \"country\": \"Philippines\", \"cluster\": 4, \"pop\": 87857473, \"life_expect\": 71.688, \"fertility\": 3.2327}, {\"year\": 1955, \"country\": \"Poland\", \"cluster\": 1, \"pop\": 27220668, \"life_expect\": 65.77, \"fertility\": 3.29}, {\"year\": 2005, \"country\": \"Poland\", \"cluster\": 1, \"pop\": 38557984, \"life_expect\": 75.563, \"fertility\": 1.227}, {\"year\": 1955, \"country\": \"Portugal\", \"cluster\": 1, \"pop\": 8692600, \"life_expect\": 61.51, \"fertility\": 3.03}, {\"year\": 2005, \"country\": \"Portugal\", \"cluster\": 1, \"pop\": 10566212, \"life_expect\": 78.098, \"fertility\": 1.455}, {\"year\": 1955, \"country\": \"Rwanda\", \"cluster\": 2, \"pop\": 2698272, \"life_expect\": 41.5, \"fertility\": 8.0}, {\"year\": 2005, \"country\": \"Rwanda\", \"cluster\": 2, \"pop\": 8440820, \"life_expect\": 46.242, \"fertility\": 5.9169}, {\"year\": 1955, \"country\": \"Saudi Arabia\", \"cluster\": 5, \"pop\": 4243218, \"life_expect\": 42.868, \"fertility\": 7.175}, {\"year\": 2005, \"country\": \"Saudi Arabia\", \"cluster\": 5, \"pop\": 26417599, \"life_expect\": 72.777, \"fertility\": 3.352}, {\"year\": 1955, \"country\": \"South Africa\", \"cluster\": 2, \"pop\": 15368551, \"life_expect\": 47.985, \"fertility\": 6.5}, {\"year\": 2005, \"country\": \"South Africa\", \"cluster\": 2, \"pop\": 44344136, \"life_expect\": 49.339, \"fertility\": 2.637}, {\"year\": 1955, \"country\": \"Spain\", \"cluster\": 1, \"pop\": 29318745, \"life_expect\": 66.66, \"fertility\": 2.75}, {\"year\": 2005, \"country\": \"Spain\", \"cluster\": 1, \"pop\": 40341462, \"life_expect\": 80.941, \"fertility\": 1.409}, {\"year\": 1955, \"country\": \"Switzerland\", \"cluster\": 1, \"pop\": 4980000, \"life_expect\": 70.56, \"fertility\": 2.34}, {\"year\": 2005, \"country\": \"Switzerland\", \"cluster\": 1, \"pop\": 7489370, \"life_expect\": 81.701, \"fertility\": 1.42}, {\"year\": 1955, \"country\": \"Turkey\", \"cluster\": 1, \"pop\": 24144571, \"life_expect\": 48.079, \"fertility\": 6.6}, {\"year\": 2005, \"country\": \"Turkey\", \"cluster\": 1, \"pop\": 69660559, \"life_expect\": 71.777, \"fertility\": 2.143}, {\"year\": 1955, \"country\": \"United Kingdom\", \"cluster\": 1, \"pop\": 50946000, \"life_expect\": 70.42, \"fertility\": 2.49}, {\"year\": 2005, \"country\": \"United Kingdom\", \"cluster\": 1, \"pop\": 60441457, \"life_expect\": 79.425, \"fertility\": 1.815}, {\"year\": 1955, \"country\": \"United States\", \"cluster\": 3, \"pop\": 165931000, \"life_expect\": 69.49, \"fertility\": 3.706}, {\"year\": 2005, \"country\": \"United States\", \"cluster\": 3, \"pop\": 295734134, \"life_expect\": 78.242, \"fertility\": 2.054}, {\"year\": 1955, \"country\": \"Venezuela\", \"cluster\": 3, \"pop\": 6170497, \"life_expect\": 57.907, \"fertility\": 6.4585}, {\"year\": 2005, \"country\": \"Venezuela\", \"cluster\": 3, \"pop\": 25375281, \"life_expect\": 73.747, \"fertility\": 2.547}]}}, {\"mode\": \"vega-lite\"});\n",
       "</script>"
      ],
      "text/plain": [
       "alt.Chart(...)"
      ]
     },
     "execution_count": 33,
     "metadata": {},
     "output_type": "execute_result"
    }
   ],
   "source": [
    "dataTime = data.loc[(data['year'] == 1955) | (data['year'] == 2005)]\n",
    "\n",
    "alt.Chart(dataTime).mark_line(opacity=0.5).encode(\n",
    "    alt.X('year:O'),\n",
    "    alt.Y('pop:Q'),\n",
    "    alt.Color('country:N', legend=None),\n",
    "    alt.Tooltip('country:N')\n",
    ").properties(\n",
    "    width={\"step\": 50} # adjust the step parameter\n",
    ")"
   ]
  },
  {
   "cell_type": "markdown",
   "metadata": {
    "colab_type": "text",
    "id": "LLo0NmuncGAa"
   },
   "source": [
    "### Area Marks\n",
    "\n",
    "The `area` mark type combines aspects of `line` and `bar` marks: it visualizes connections (slopes) among data points, but also shows a filled region, with one edge defaulting to a zero-valued baseline."
   ]
  },
  {
   "cell_type": "markdown",
   "metadata": {
    "colab_type": "text",
    "id": "mYtoHUPuPpxW"
   },
   "source": [
    "The chart below is an area chart of population over time for just the United States:"
   ]
  },
  {
   "cell_type": "code",
   "execution_count": 35,
   "metadata": {
    "colab": {
     "base_uri": "https://localhost:8080/",
     "height": 385
    },
    "colab_type": "code",
    "id": "cXdOREmBHiaH",
    "outputId": "37cd899d-2ad1-42ea-fbe0-12e591a28326"
   },
   "outputs": [
    {
     "data": {
      "text/html": [
       "\n",
       "<div id=\"altair-viz-d589e20d1895495c9d995542a8c774b3\"></div>\n",
       "<script type=\"text/javascript\">\n",
       "  (function(spec, embedOpt){\n",
       "    let outputDiv = document.currentScript.previousElementSibling;\n",
       "    if (outputDiv.id !== \"altair-viz-d589e20d1895495c9d995542a8c774b3\") {\n",
       "      outputDiv = document.getElementById(\"altair-viz-d589e20d1895495c9d995542a8c774b3\");\n",
       "    }\n",
       "    const paths = {\n",
       "      \"vega\": \"https://cdn.jsdelivr.net/npm//vega@5?noext\",\n",
       "      \"vega-lib\": \"https://cdn.jsdelivr.net/npm//vega-lib?noext\",\n",
       "      \"vega-lite\": \"https://cdn.jsdelivr.net/npm//vega-lite@4.8.1?noext\",\n",
       "      \"vega-embed\": \"https://cdn.jsdelivr.net/npm//vega-embed@6?noext\",\n",
       "    };\n",
       "\n",
       "    function loadScript(lib) {\n",
       "      return new Promise(function(resolve, reject) {\n",
       "        var s = document.createElement('script');\n",
       "        s.src = paths[lib];\n",
       "        s.async = true;\n",
       "        s.onload = () => resolve(paths[lib]);\n",
       "        s.onerror = () => reject(`Error loading script: ${paths[lib]}`);\n",
       "        document.getElementsByTagName(\"head\")[0].appendChild(s);\n",
       "      });\n",
       "    }\n",
       "\n",
       "    function showError(err) {\n",
       "      outputDiv.innerHTML = `<div class=\"error\" style=\"color:red;\">${err}</div>`;\n",
       "      throw err;\n",
       "    }\n",
       "\n",
       "    function displayChart(vegaEmbed) {\n",
       "      vegaEmbed(outputDiv, spec, embedOpt)\n",
       "        .catch(err => showError(`Javascript Error: ${err.message}<br>This usually means there's a typo in your chart specification. See the javascript console for the full traceback.`));\n",
       "    }\n",
       "\n",
       "    if(typeof define === \"function\" && define.amd) {\n",
       "      requirejs.config({paths});\n",
       "      require([\"vega-embed\"], displayChart, err => showError(`Error loading script: ${err.message}`));\n",
       "    } else if (typeof vegaEmbed === \"function\") {\n",
       "      displayChart(vegaEmbed);\n",
       "    } else {\n",
       "      loadScript(\"vega\")\n",
       "        .then(() => loadScript(\"vega-lite\"))\n",
       "        .then(() => loadScript(\"vega-embed\"))\n",
       "        .catch(showError)\n",
       "        .then(() => displayChart(vegaEmbed));\n",
       "    }\n",
       "  })({\"config\": {\"view\": {\"continuousWidth\": 400, \"continuousHeight\": 300}}, \"data\": {\"name\": \"data-5ec75749a8b91a020fd2730b61b83888\"}, \"mark\": \"area\", \"encoding\": {\"x\": {\"type\": \"ordinal\", \"field\": \"year\"}, \"y\": {\"type\": \"quantitative\", \"field\": \"fertility\"}}, \"$schema\": \"https://vega.github.io/schema/vega-lite/v4.8.1.json\", \"datasets\": {\"data-5ec75749a8b91a020fd2730b61b83888\": [{\"year\": 1955, \"country\": \"United States\", \"cluster\": 3, \"pop\": 165931000, \"life_expect\": 69.49, \"fertility\": 3.706}, {\"year\": 1960, \"country\": \"United States\", \"cluster\": 3, \"pop\": 180671000, \"life_expect\": 70.21, \"fertility\": 3.314}, {\"year\": 1965, \"country\": \"United States\", \"cluster\": 3, \"pop\": 194303000, \"life_expect\": 70.76, \"fertility\": 2.545}, {\"year\": 1970, \"country\": \"United States\", \"cluster\": 3, \"pop\": 205052000, \"life_expect\": 71.34, \"fertility\": 2.016}, {\"year\": 1975, \"country\": \"United States\", \"cluster\": 3, \"pop\": 215973000, \"life_expect\": 73.38, \"fertility\": 1.788}, {\"year\": 1980, \"country\": \"United States\", \"cluster\": 3, \"pop\": 227726463, \"life_expect\": 74.65, \"fertility\": 1.8250000000000002}, {\"year\": 1985, \"country\": \"United States\", \"cluster\": 3, \"pop\": 238466283, \"life_expect\": 75.02, \"fertility\": 1.924}, {\"year\": 1990, \"country\": \"United States\", \"cluster\": 3, \"pop\": 250131894, \"life_expect\": 76.09, \"fertility\": 2.025}, {\"year\": 1995, \"country\": \"United States\", \"cluster\": 3, \"pop\": 266557091, \"life_expect\": 76.81, \"fertility\": 1.994}, {\"year\": 2000, \"country\": \"United States\", \"cluster\": 3, \"pop\": 282338631, \"life_expect\": 77.31, \"fertility\": 2.038}, {\"year\": 2005, \"country\": \"United States\", \"cluster\": 3, \"pop\": 295734134, \"life_expect\": 78.242, \"fertility\": 2.054}]}}, {\"mode\": \"vega-lite\"});\n",
       "</script>"
      ],
      "text/plain": [
       "alt.Chart(...)"
      ]
     },
     "execution_count": 34,
     "metadata": {},
     "output_type": "execute_result"
    }
   ],
   "source": [
    "dataUS = data.loc[data['country'] == 'United States']\n",
    "\n",
    "alt.Chart(dataUS).mark_area().encode(\n",
    "    alt.X('year:O'),\n",
    "    alt.Y('fertility:Q')\n",
    ")"
   ]
  },
  {
   "cell_type": "markdown",
   "metadata": {
    "colab_type": "text",
    "id": "aDPZ6bWEPv2_"
   },
   "source": [
    "Similar to `line` marks, `area` marks support an `interpolate` parameter."
   ]
  },
  {
   "cell_type": "code",
   "execution_count": 36,
   "metadata": {
    "colab": {
     "base_uri": "https://localhost:8080/",
     "height": 385
    },
    "colab_type": "code",
    "id": "-ZpfjqMxJvXF",
    "outputId": "eba5baab-44be-46ac-c9ae-0ad3b094573a"
   },
   "outputs": [
    {
     "data": {
      "text/html": [
       "\n",
       "<div id=\"altair-viz-ab293e6198464f03a7f9dc6898277265\"></div>\n",
       "<script type=\"text/javascript\">\n",
       "  (function(spec, embedOpt){\n",
       "    let outputDiv = document.currentScript.previousElementSibling;\n",
       "    if (outputDiv.id !== \"altair-viz-ab293e6198464f03a7f9dc6898277265\") {\n",
       "      outputDiv = document.getElementById(\"altair-viz-ab293e6198464f03a7f9dc6898277265\");\n",
       "    }\n",
       "    const paths = {\n",
       "      \"vega\": \"https://cdn.jsdelivr.net/npm//vega@5?noext\",\n",
       "      \"vega-lib\": \"https://cdn.jsdelivr.net/npm//vega-lib?noext\",\n",
       "      \"vega-lite\": \"https://cdn.jsdelivr.net/npm//vega-lite@4.8.1?noext\",\n",
       "      \"vega-embed\": \"https://cdn.jsdelivr.net/npm//vega-embed@6?noext\",\n",
       "    };\n",
       "\n",
       "    function loadScript(lib) {\n",
       "      return new Promise(function(resolve, reject) {\n",
       "        var s = document.createElement('script');\n",
       "        s.src = paths[lib];\n",
       "        s.async = true;\n",
       "        s.onload = () => resolve(paths[lib]);\n",
       "        s.onerror = () => reject(`Error loading script: ${paths[lib]}`);\n",
       "        document.getElementsByTagName(\"head\")[0].appendChild(s);\n",
       "      });\n",
       "    }\n",
       "\n",
       "    function showError(err) {\n",
       "      outputDiv.innerHTML = `<div class=\"error\" style=\"color:red;\">${err}</div>`;\n",
       "      throw err;\n",
       "    }\n",
       "\n",
       "    function displayChart(vegaEmbed) {\n",
       "      vegaEmbed(outputDiv, spec, embedOpt)\n",
       "        .catch(err => showError(`Javascript Error: ${err.message}<br>This usually means there's a typo in your chart specification. See the javascript console for the full traceback.`));\n",
       "    }\n",
       "\n",
       "    if(typeof define === \"function\" && define.amd) {\n",
       "      requirejs.config({paths});\n",
       "      require([\"vega-embed\"], displayChart, err => showError(`Error loading script: ${err.message}`));\n",
       "    } else if (typeof vegaEmbed === \"function\") {\n",
       "      displayChart(vegaEmbed);\n",
       "    } else {\n",
       "      loadScript(\"vega\")\n",
       "        .then(() => loadScript(\"vega-lite\"))\n",
       "        .then(() => loadScript(\"vega-embed\"))\n",
       "        .catch(showError)\n",
       "        .then(() => displayChart(vegaEmbed));\n",
       "    }\n",
       "  })({\"config\": {\"view\": {\"continuousWidth\": 400, \"continuousHeight\": 300}}, \"data\": {\"name\": \"data-5ec75749a8b91a020fd2730b61b83888\"}, \"mark\": {\"type\": \"area\", \"interpolate\": \"monotone\"}, \"encoding\": {\"x\": {\"type\": \"ordinal\", \"field\": \"year\"}, \"y\": {\"type\": \"quantitative\", \"field\": \"fertility\"}}, \"$schema\": \"https://vega.github.io/schema/vega-lite/v4.8.1.json\", \"datasets\": {\"data-5ec75749a8b91a020fd2730b61b83888\": [{\"year\": 1955, \"country\": \"United States\", \"cluster\": 3, \"pop\": 165931000, \"life_expect\": 69.49, \"fertility\": 3.706}, {\"year\": 1960, \"country\": \"United States\", \"cluster\": 3, \"pop\": 180671000, \"life_expect\": 70.21, \"fertility\": 3.314}, {\"year\": 1965, \"country\": \"United States\", \"cluster\": 3, \"pop\": 194303000, \"life_expect\": 70.76, \"fertility\": 2.545}, {\"year\": 1970, \"country\": \"United States\", \"cluster\": 3, \"pop\": 205052000, \"life_expect\": 71.34, \"fertility\": 2.016}, {\"year\": 1975, \"country\": \"United States\", \"cluster\": 3, \"pop\": 215973000, \"life_expect\": 73.38, \"fertility\": 1.788}, {\"year\": 1980, \"country\": \"United States\", \"cluster\": 3, \"pop\": 227726463, \"life_expect\": 74.65, \"fertility\": 1.8250000000000002}, {\"year\": 1985, \"country\": \"United States\", \"cluster\": 3, \"pop\": 238466283, \"life_expect\": 75.02, \"fertility\": 1.924}, {\"year\": 1990, \"country\": \"United States\", \"cluster\": 3, \"pop\": 250131894, \"life_expect\": 76.09, \"fertility\": 2.025}, {\"year\": 1995, \"country\": \"United States\", \"cluster\": 3, \"pop\": 266557091, \"life_expect\": 76.81, \"fertility\": 1.994}, {\"year\": 2000, \"country\": \"United States\", \"cluster\": 3, \"pop\": 282338631, \"life_expect\": 77.31, \"fertility\": 2.038}, {\"year\": 2005, \"country\": \"United States\", \"cluster\": 3, \"pop\": 295734134, \"life_expect\": 78.242, \"fertility\": 2.054}]}}, {\"mode\": \"vega-lite\"});\n",
       "</script>"
      ],
      "text/plain": [
       "alt.Chart(...)"
      ]
     },
     "execution_count": 35,
     "metadata": {},
     "output_type": "execute_result"
    }
   ],
   "source": [
    "alt.Chart(dataUS).mark_area(interpolate='monotone').encode(\n",
    "    alt.X('year:O'),\n",
    "    alt.Y('fertility:Q')\n",
    ")"
   ]
  },
  {
   "cell_type": "markdown",
   "metadata": {
    "colab_type": "text",
    "id": "_YolZaDbP7jh"
   },
   "source": [
    "Similar to `bar` marks, `area` marks also support stacking. Here we create a new data frame with data for the three North American countries, then plot them using an `area` mark and a `color` encoding channel to stack by country."
   ]
  },
  {
   "cell_type": "code",
   "execution_count": 37,
   "metadata": {
    "colab": {
     "base_uri": "https://localhost:8080/",
     "height": 385
    },
    "colab_type": "code",
    "id": "tYOS0Il_H8h3",
    "outputId": "70e210aa-4771-4ed9-e5a3-0af587d03c60"
   },
   "outputs": [
    {
     "data": {
      "text/html": [
       "\n",
       "<div id=\"altair-viz-547d97c7bb1d43059ca2c9af80668563\"></div>\n",
       "<script type=\"text/javascript\">\n",
       "  (function(spec, embedOpt){\n",
       "    let outputDiv = document.currentScript.previousElementSibling;\n",
       "    if (outputDiv.id !== \"altair-viz-547d97c7bb1d43059ca2c9af80668563\") {\n",
       "      outputDiv = document.getElementById(\"altair-viz-547d97c7bb1d43059ca2c9af80668563\");\n",
       "    }\n",
       "    const paths = {\n",
       "      \"vega\": \"https://cdn.jsdelivr.net/npm//vega@5?noext\",\n",
       "      \"vega-lib\": \"https://cdn.jsdelivr.net/npm//vega-lib?noext\",\n",
       "      \"vega-lite\": \"https://cdn.jsdelivr.net/npm//vega-lite@4.8.1?noext\",\n",
       "      \"vega-embed\": \"https://cdn.jsdelivr.net/npm//vega-embed@6?noext\",\n",
       "    };\n",
       "\n",
       "    function loadScript(lib) {\n",
       "      return new Promise(function(resolve, reject) {\n",
       "        var s = document.createElement('script');\n",
       "        s.src = paths[lib];\n",
       "        s.async = true;\n",
       "        s.onload = () => resolve(paths[lib]);\n",
       "        s.onerror = () => reject(`Error loading script: ${paths[lib]}`);\n",
       "        document.getElementsByTagName(\"head\")[0].appendChild(s);\n",
       "      });\n",
       "    }\n",
       "\n",
       "    function showError(err) {\n",
       "      outputDiv.innerHTML = `<div class=\"error\" style=\"color:red;\">${err}</div>`;\n",
       "      throw err;\n",
       "    }\n",
       "\n",
       "    function displayChart(vegaEmbed) {\n",
       "      vegaEmbed(outputDiv, spec, embedOpt)\n",
       "        .catch(err => showError(`Javascript Error: ${err.message}<br>This usually means there's a typo in your chart specification. See the javascript console for the full traceback.`));\n",
       "    }\n",
       "\n",
       "    if(typeof define === \"function\" && define.amd) {\n",
       "      requirejs.config({paths});\n",
       "      require([\"vega-embed\"], displayChart, err => showError(`Error loading script: ${err.message}`));\n",
       "    } else if (typeof vegaEmbed === \"function\") {\n",
       "      displayChart(vegaEmbed);\n",
       "    } else {\n",
       "      loadScript(\"vega\")\n",
       "        .then(() => loadScript(\"vega-lite\"))\n",
       "        .then(() => loadScript(\"vega-embed\"))\n",
       "        .catch(showError)\n",
       "        .then(() => displayChart(vegaEmbed));\n",
       "    }\n",
       "  })({\"config\": {\"view\": {\"continuousWidth\": 400, \"continuousHeight\": 300}}, \"data\": {\"name\": \"data-90247f35efb014c7706cfdd66a0e9a4d\"}, \"mark\": \"area\", \"encoding\": {\"color\": {\"type\": \"nominal\", \"field\": \"country\"}, \"x\": {\"type\": \"ordinal\", \"field\": \"year\"}, \"y\": {\"type\": \"quantitative\", \"field\": \"pop\"}}, \"$schema\": \"https://vega.github.io/schema/vega-lite/v4.8.1.json\", \"datasets\": {\"data-90247f35efb014c7706cfdd66a0e9a4d\": [{\"year\": 1955, \"country\": \"Canada\", \"cluster\": 3, \"pop\": 16050356, \"life_expect\": 69.96, \"fertility\": 3.882}, {\"year\": 1960, \"country\": \"Canada\", \"cluster\": 3, \"pop\": 18266765, \"life_expect\": 71.3, \"fertility\": 3.675}, {\"year\": 1965, \"country\": \"Canada\", \"cluster\": 3, \"pop\": 20071104, \"life_expect\": 72.13, \"fertility\": 2.61}, {\"year\": 1970, \"country\": \"Canada\", \"cluster\": 3, \"pop\": 21749986, \"life_expect\": 72.88, \"fertility\": 1.976}, {\"year\": 1975, \"country\": \"Canada\", \"cluster\": 3, \"pop\": 23209200, \"life_expect\": 74.21, \"fertility\": 1.734}, {\"year\": 1980, \"country\": \"Canada\", \"cluster\": 3, \"pop\": 24593300, \"life_expect\": 75.76, \"fertility\": 1.634}, {\"year\": 1985, \"country\": \"Canada\", \"cluster\": 3, \"pop\": 25941600, \"life_expect\": 76.86, \"fertility\": 1.616}, {\"year\": 1990, \"country\": \"Canada\", \"cluster\": 3, \"pop\": 27790600, \"life_expect\": 77.95, \"fertility\": 1.694}, {\"year\": 1995, \"country\": \"Canada\", \"cluster\": 3, \"pop\": 29619002, \"life_expect\": 78.61, \"fertility\": 1.564}, {\"year\": 2000, \"country\": \"Canada\", \"cluster\": 3, \"pop\": 31278097, \"life_expect\": 79.77, \"fertility\": 1.522}, {\"year\": 2005, \"country\": \"Canada\", \"cluster\": 3, \"pop\": 32805041, \"life_expect\": 80.653, \"fertility\": 1.5270000000000001}, {\"year\": 1955, \"country\": \"Mexico\", \"cluster\": 3, \"pop\": 32929914, \"life_expect\": 55.19, \"fertility\": 6.8}, {\"year\": 1960, \"country\": \"Mexico\", \"cluster\": 3, \"pop\": 38578505, \"life_expect\": 58.299, \"fertility\": 6.7495}, {\"year\": 1965, \"country\": \"Mexico\", \"cluster\": 3, \"pop\": 45142399, \"life_expect\": 60.11, \"fertility\": 6.7495}, {\"year\": 1970, \"country\": \"Mexico\", \"cluster\": 3, \"pop\": 52775158, \"life_expect\": 62.361, \"fertility\": 6.5}, {\"year\": 1975, \"country\": \"Mexico\", \"cluster\": 3, \"pop\": 60678045, \"life_expect\": 65.032, \"fertility\": 5.2505}, {\"year\": 1980, \"country\": \"Mexico\", \"cluster\": 3, \"pop\": 68347479, \"life_expect\": 67.405, \"fertility\": 4.25}, {\"year\": 1985, \"country\": \"Mexico\", \"cluster\": 3, \"pop\": 76767225, \"life_expect\": 69.498, \"fertility\": 3.6295}, {\"year\": 1990, \"country\": \"Mexico\", \"cluster\": 3, \"pop\": 84913652, \"life_expect\": 71.455, \"fertility\": 3.1905}, {\"year\": 1995, \"country\": \"Mexico\", \"cluster\": 3, \"pop\": 92880353, \"life_expect\": 73.67, \"fertility\": 2.6705}, {\"year\": 2000, \"country\": \"Mexico\", \"cluster\": 3, \"pop\": 99926620, \"life_expect\": 74.902, \"fertility\": 2.4005}, {\"year\": 2005, \"country\": \"Mexico\", \"cluster\": 3, \"pop\": 106202903, \"life_expect\": 76.195, \"fertility\": 2.211}, {\"year\": 1955, \"country\": \"United States\", \"cluster\": 3, \"pop\": 165931000, \"life_expect\": 69.49, \"fertility\": 3.706}, {\"year\": 1960, \"country\": \"United States\", \"cluster\": 3, \"pop\": 180671000, \"life_expect\": 70.21, \"fertility\": 3.314}, {\"year\": 1965, \"country\": \"United States\", \"cluster\": 3, \"pop\": 194303000, \"life_expect\": 70.76, \"fertility\": 2.545}, {\"year\": 1970, \"country\": \"United States\", \"cluster\": 3, \"pop\": 205052000, \"life_expect\": 71.34, \"fertility\": 2.016}, {\"year\": 1975, \"country\": \"United States\", \"cluster\": 3, \"pop\": 215973000, \"life_expect\": 73.38, \"fertility\": 1.788}, {\"year\": 1980, \"country\": \"United States\", \"cluster\": 3, \"pop\": 227726463, \"life_expect\": 74.65, \"fertility\": 1.8250000000000002}, {\"year\": 1985, \"country\": \"United States\", \"cluster\": 3, \"pop\": 238466283, \"life_expect\": 75.02, \"fertility\": 1.924}, {\"year\": 1990, \"country\": \"United States\", \"cluster\": 3, \"pop\": 250131894, \"life_expect\": 76.09, \"fertility\": 2.025}, {\"year\": 1995, \"country\": \"United States\", \"cluster\": 3, \"pop\": 266557091, \"life_expect\": 76.81, \"fertility\": 1.994}, {\"year\": 2000, \"country\": \"United States\", \"cluster\": 3, \"pop\": 282338631, \"life_expect\": 77.31, \"fertility\": 2.038}, {\"year\": 2005, \"country\": \"United States\", \"cluster\": 3, \"pop\": 295734134, \"life_expect\": 78.242, \"fertility\": 2.054}]}}, {\"mode\": \"vega-lite\"});\n",
       "</script>"
      ],
      "text/plain": [
       "alt.Chart(...)"
      ]
     },
     "execution_count": 36,
     "metadata": {},
     "output_type": "execute_result"
    }
   ],
   "source": [
    "dataNA = data.loc[\n",
    "    (data['country'] == 'United States') |\n",
    "    (data['country'] == 'Canada') |\n",
    "    (data['country'] == 'Mexico')\n",
    "]\n",
    "\n",
    "alt.Chart(dataNA).mark_area().encode(\n",
    "    alt.X('year:O'),\n",
    "    alt.Y('pop:Q'),\n",
    "    alt.Color('country:N')\n",
    ")"
   ]
  },
  {
   "cell_type": "markdown",
   "metadata": {
    "colab_type": "text",
    "id": "oVinPfTZpNtY"
   },
   "source": [
    "By default, stacking is performed relative to a zero baseline. However, other `stack` options are available:\n",
    "\n",
    "* `center` - to stack relative to a baseline in the center of the chart, creating a *streamgraph* visualization, and\n",
    "* `normalize` - to normalize the summed data at each stacking point to 100%, enabling percentage comparisons.\n",
    "\n",
    "Below we adapt the chart by setting the `y` encoding `stack` attribute to `center`. What happens if you instead set it `normalize`?"
   ]
  },
  {
   "cell_type": "code",
   "execution_count": 38,
   "metadata": {
    "colab": {
     "base_uri": "https://localhost:8080/",
     "height": 385
    },
    "colab_type": "code",
    "id": "6SQpyJzqpB5G",
    "outputId": "3a7cb75a-3acf-4b0e-d0e8-cdc7c85fd5ee"
   },
   "outputs": [
    {
     "data": {
      "text/html": [
       "\n",
       "<div id=\"altair-viz-18fd32dc2424430db97267d0db472c05\"></div>\n",
       "<script type=\"text/javascript\">\n",
       "  (function(spec, embedOpt){\n",
       "    let outputDiv = document.currentScript.previousElementSibling;\n",
       "    if (outputDiv.id !== \"altair-viz-18fd32dc2424430db97267d0db472c05\") {\n",
       "      outputDiv = document.getElementById(\"altair-viz-18fd32dc2424430db97267d0db472c05\");\n",
       "    }\n",
       "    const paths = {\n",
       "      \"vega\": \"https://cdn.jsdelivr.net/npm//vega@5?noext\",\n",
       "      \"vega-lib\": \"https://cdn.jsdelivr.net/npm//vega-lib?noext\",\n",
       "      \"vega-lite\": \"https://cdn.jsdelivr.net/npm//vega-lite@4.8.1?noext\",\n",
       "      \"vega-embed\": \"https://cdn.jsdelivr.net/npm//vega-embed@6?noext\",\n",
       "    };\n",
       "\n",
       "    function loadScript(lib) {\n",
       "      return new Promise(function(resolve, reject) {\n",
       "        var s = document.createElement('script');\n",
       "        s.src = paths[lib];\n",
       "        s.async = true;\n",
       "        s.onload = () => resolve(paths[lib]);\n",
       "        s.onerror = () => reject(`Error loading script: ${paths[lib]}`);\n",
       "        document.getElementsByTagName(\"head\")[0].appendChild(s);\n",
       "      });\n",
       "    }\n",
       "\n",
       "    function showError(err) {\n",
       "      outputDiv.innerHTML = `<div class=\"error\" style=\"color:red;\">${err}</div>`;\n",
       "      throw err;\n",
       "    }\n",
       "\n",
       "    function displayChart(vegaEmbed) {\n",
       "      vegaEmbed(outputDiv, spec, embedOpt)\n",
       "        .catch(err => showError(`Javascript Error: ${err.message}<br>This usually means there's a typo in your chart specification. See the javascript console for the full traceback.`));\n",
       "    }\n",
       "\n",
       "    if(typeof define === \"function\" && define.amd) {\n",
       "      requirejs.config({paths});\n",
       "      require([\"vega-embed\"], displayChart, err => showError(`Error loading script: ${err.message}`));\n",
       "    } else if (typeof vegaEmbed === \"function\") {\n",
       "      displayChart(vegaEmbed);\n",
       "    } else {\n",
       "      loadScript(\"vega\")\n",
       "        .then(() => loadScript(\"vega-lite\"))\n",
       "        .then(() => loadScript(\"vega-embed\"))\n",
       "        .catch(showError)\n",
       "        .then(() => displayChart(vegaEmbed));\n",
       "    }\n",
       "  })({\"config\": {\"view\": {\"continuousWidth\": 400, \"continuousHeight\": 300}}, \"data\": {\"name\": \"data-90247f35efb014c7706cfdd66a0e9a4d\"}, \"mark\": \"area\", \"encoding\": {\"color\": {\"type\": \"nominal\", \"field\": \"country\"}, \"x\": {\"type\": \"ordinal\", \"field\": \"year\"}, \"y\": {\"type\": \"quantitative\", \"field\": \"pop\", \"stack\": \"center\"}}, \"$schema\": \"https://vega.github.io/schema/vega-lite/v4.8.1.json\", \"datasets\": {\"data-90247f35efb014c7706cfdd66a0e9a4d\": [{\"year\": 1955, \"country\": \"Canada\", \"cluster\": 3, \"pop\": 16050356, \"life_expect\": 69.96, \"fertility\": 3.882}, {\"year\": 1960, \"country\": \"Canada\", \"cluster\": 3, \"pop\": 18266765, \"life_expect\": 71.3, \"fertility\": 3.675}, {\"year\": 1965, \"country\": \"Canada\", \"cluster\": 3, \"pop\": 20071104, \"life_expect\": 72.13, \"fertility\": 2.61}, {\"year\": 1970, \"country\": \"Canada\", \"cluster\": 3, \"pop\": 21749986, \"life_expect\": 72.88, \"fertility\": 1.976}, {\"year\": 1975, \"country\": \"Canada\", \"cluster\": 3, \"pop\": 23209200, \"life_expect\": 74.21, \"fertility\": 1.734}, {\"year\": 1980, \"country\": \"Canada\", \"cluster\": 3, \"pop\": 24593300, \"life_expect\": 75.76, \"fertility\": 1.634}, {\"year\": 1985, \"country\": \"Canada\", \"cluster\": 3, \"pop\": 25941600, \"life_expect\": 76.86, \"fertility\": 1.616}, {\"year\": 1990, \"country\": \"Canada\", \"cluster\": 3, \"pop\": 27790600, \"life_expect\": 77.95, \"fertility\": 1.694}, {\"year\": 1995, \"country\": \"Canada\", \"cluster\": 3, \"pop\": 29619002, \"life_expect\": 78.61, \"fertility\": 1.564}, {\"year\": 2000, \"country\": \"Canada\", \"cluster\": 3, \"pop\": 31278097, \"life_expect\": 79.77, \"fertility\": 1.522}, {\"year\": 2005, \"country\": \"Canada\", \"cluster\": 3, \"pop\": 32805041, \"life_expect\": 80.653, \"fertility\": 1.5270000000000001}, {\"year\": 1955, \"country\": \"Mexico\", \"cluster\": 3, \"pop\": 32929914, \"life_expect\": 55.19, \"fertility\": 6.8}, {\"year\": 1960, \"country\": \"Mexico\", \"cluster\": 3, \"pop\": 38578505, \"life_expect\": 58.299, \"fertility\": 6.7495}, {\"year\": 1965, \"country\": \"Mexico\", \"cluster\": 3, \"pop\": 45142399, \"life_expect\": 60.11, \"fertility\": 6.7495}, {\"year\": 1970, \"country\": \"Mexico\", \"cluster\": 3, \"pop\": 52775158, \"life_expect\": 62.361, \"fertility\": 6.5}, {\"year\": 1975, \"country\": \"Mexico\", \"cluster\": 3, \"pop\": 60678045, \"life_expect\": 65.032, \"fertility\": 5.2505}, {\"year\": 1980, \"country\": \"Mexico\", \"cluster\": 3, \"pop\": 68347479, \"life_expect\": 67.405, \"fertility\": 4.25}, {\"year\": 1985, \"country\": \"Mexico\", \"cluster\": 3, \"pop\": 76767225, \"life_expect\": 69.498, \"fertility\": 3.6295}, {\"year\": 1990, \"country\": \"Mexico\", \"cluster\": 3, \"pop\": 84913652, \"life_expect\": 71.455, \"fertility\": 3.1905}, {\"year\": 1995, \"country\": \"Mexico\", \"cluster\": 3, \"pop\": 92880353, \"life_expect\": 73.67, \"fertility\": 2.6705}, {\"year\": 2000, \"country\": \"Mexico\", \"cluster\": 3, \"pop\": 99926620, \"life_expect\": 74.902, \"fertility\": 2.4005}, {\"year\": 2005, \"country\": \"Mexico\", \"cluster\": 3, \"pop\": 106202903, \"life_expect\": 76.195, \"fertility\": 2.211}, {\"year\": 1955, \"country\": \"United States\", \"cluster\": 3, \"pop\": 165931000, \"life_expect\": 69.49, \"fertility\": 3.706}, {\"year\": 1960, \"country\": \"United States\", \"cluster\": 3, \"pop\": 180671000, \"life_expect\": 70.21, \"fertility\": 3.314}, {\"year\": 1965, \"country\": \"United States\", \"cluster\": 3, \"pop\": 194303000, \"life_expect\": 70.76, \"fertility\": 2.545}, {\"year\": 1970, \"country\": \"United States\", \"cluster\": 3, \"pop\": 205052000, \"life_expect\": 71.34, \"fertility\": 2.016}, {\"year\": 1975, \"country\": \"United States\", \"cluster\": 3, \"pop\": 215973000, \"life_expect\": 73.38, \"fertility\": 1.788}, {\"year\": 1980, \"country\": \"United States\", \"cluster\": 3, \"pop\": 227726463, \"life_expect\": 74.65, \"fertility\": 1.8250000000000002}, {\"year\": 1985, \"country\": \"United States\", \"cluster\": 3, \"pop\": 238466283, \"life_expect\": 75.02, \"fertility\": 1.924}, {\"year\": 1990, \"country\": \"United States\", \"cluster\": 3, \"pop\": 250131894, \"life_expect\": 76.09, \"fertility\": 2.025}, {\"year\": 1995, \"country\": \"United States\", \"cluster\": 3, \"pop\": 266557091, \"life_expect\": 76.81, \"fertility\": 1.994}, {\"year\": 2000, \"country\": \"United States\", \"cluster\": 3, \"pop\": 282338631, \"life_expect\": 77.31, \"fertility\": 2.038}, {\"year\": 2005, \"country\": \"United States\", \"cluster\": 3, \"pop\": 295734134, \"life_expect\": 78.242, \"fertility\": 2.054}]}}, {\"mode\": \"vega-lite\"});\n",
       "</script>"
      ],
      "text/plain": [
       "alt.Chart(...)"
      ]
     },
     "execution_count": 37,
     "metadata": {},
     "output_type": "execute_result"
    }
   ],
   "source": [
    "alt.Chart(dataNA).mark_area().encode(\n",
    "    alt.X('year:O'),\n",
    "    alt.Y('pop:Q', stack='center'),\n",
    "    alt.Color('country:N')\n",
    ")"
   ]
  },
  {
   "cell_type": "markdown",
   "metadata": {
    "colab_type": "text",
    "id": "fQN5a3gfQFBW"
   },
   "source": [
    "To disable stacking altogether, set the  `stack` attribute to `None`. We can also add `opacity` as a default mark parameter to ensure we see the overlapping areas!"
   ]
  },
  {
   "cell_type": "code",
   "execution_count": 39,
   "metadata": {
    "colab": {
     "base_uri": "https://localhost:8080/",
     "height": 385
    },
    "colab_type": "code",
    "id": "MY8xDiqkKDMc",
    "outputId": "41345e53-eeaa-4c69-969d-738c1479ba26"
   },
   "outputs": [
    {
     "data": {
      "text/html": [
       "\n",
       "<div id=\"altair-viz-f634aa4ad46543cfb620749b24904878\"></div>\n",
       "<script type=\"text/javascript\">\n",
       "  (function(spec, embedOpt){\n",
       "    let outputDiv = document.currentScript.previousElementSibling;\n",
       "    if (outputDiv.id !== \"altair-viz-f634aa4ad46543cfb620749b24904878\") {\n",
       "      outputDiv = document.getElementById(\"altair-viz-f634aa4ad46543cfb620749b24904878\");\n",
       "    }\n",
       "    const paths = {\n",
       "      \"vega\": \"https://cdn.jsdelivr.net/npm//vega@5?noext\",\n",
       "      \"vega-lib\": \"https://cdn.jsdelivr.net/npm//vega-lib?noext\",\n",
       "      \"vega-lite\": \"https://cdn.jsdelivr.net/npm//vega-lite@4.8.1?noext\",\n",
       "      \"vega-embed\": \"https://cdn.jsdelivr.net/npm//vega-embed@6?noext\",\n",
       "    };\n",
       "\n",
       "    function loadScript(lib) {\n",
       "      return new Promise(function(resolve, reject) {\n",
       "        var s = document.createElement('script');\n",
       "        s.src = paths[lib];\n",
       "        s.async = true;\n",
       "        s.onload = () => resolve(paths[lib]);\n",
       "        s.onerror = () => reject(`Error loading script: ${paths[lib]}`);\n",
       "        document.getElementsByTagName(\"head\")[0].appendChild(s);\n",
       "      });\n",
       "    }\n",
       "\n",
       "    function showError(err) {\n",
       "      outputDiv.innerHTML = `<div class=\"error\" style=\"color:red;\">${err}</div>`;\n",
       "      throw err;\n",
       "    }\n",
       "\n",
       "    function displayChart(vegaEmbed) {\n",
       "      vegaEmbed(outputDiv, spec, embedOpt)\n",
       "        .catch(err => showError(`Javascript Error: ${err.message}<br>This usually means there's a typo in your chart specification. See the javascript console for the full traceback.`));\n",
       "    }\n",
       "\n",
       "    if(typeof define === \"function\" && define.amd) {\n",
       "      requirejs.config({paths});\n",
       "      require([\"vega-embed\"], displayChart, err => showError(`Error loading script: ${err.message}`));\n",
       "    } else if (typeof vegaEmbed === \"function\") {\n",
       "      displayChart(vegaEmbed);\n",
       "    } else {\n",
       "      loadScript(\"vega\")\n",
       "        .then(() => loadScript(\"vega-lite\"))\n",
       "        .then(() => loadScript(\"vega-embed\"))\n",
       "        .catch(showError)\n",
       "        .then(() => displayChart(vegaEmbed));\n",
       "    }\n",
       "  })({\"config\": {\"view\": {\"continuousWidth\": 400, \"continuousHeight\": 300}}, \"data\": {\"name\": \"data-90247f35efb014c7706cfdd66a0e9a4d\"}, \"mark\": {\"type\": \"area\", \"opacity\": 0.5}, \"encoding\": {\"color\": {\"type\": \"nominal\", \"field\": \"country\"}, \"x\": {\"type\": \"ordinal\", \"field\": \"year\"}, \"y\": {\"type\": \"quantitative\", \"field\": \"pop\", \"stack\": null}}, \"$schema\": \"https://vega.github.io/schema/vega-lite/v4.8.1.json\", \"datasets\": {\"data-90247f35efb014c7706cfdd66a0e9a4d\": [{\"year\": 1955, \"country\": \"Canada\", \"cluster\": 3, \"pop\": 16050356, \"life_expect\": 69.96, \"fertility\": 3.882}, {\"year\": 1960, \"country\": \"Canada\", \"cluster\": 3, \"pop\": 18266765, \"life_expect\": 71.3, \"fertility\": 3.675}, {\"year\": 1965, \"country\": \"Canada\", \"cluster\": 3, \"pop\": 20071104, \"life_expect\": 72.13, \"fertility\": 2.61}, {\"year\": 1970, \"country\": \"Canada\", \"cluster\": 3, \"pop\": 21749986, \"life_expect\": 72.88, \"fertility\": 1.976}, {\"year\": 1975, \"country\": \"Canada\", \"cluster\": 3, \"pop\": 23209200, \"life_expect\": 74.21, \"fertility\": 1.734}, {\"year\": 1980, \"country\": \"Canada\", \"cluster\": 3, \"pop\": 24593300, \"life_expect\": 75.76, \"fertility\": 1.634}, {\"year\": 1985, \"country\": \"Canada\", \"cluster\": 3, \"pop\": 25941600, \"life_expect\": 76.86, \"fertility\": 1.616}, {\"year\": 1990, \"country\": \"Canada\", \"cluster\": 3, \"pop\": 27790600, \"life_expect\": 77.95, \"fertility\": 1.694}, {\"year\": 1995, \"country\": \"Canada\", \"cluster\": 3, \"pop\": 29619002, \"life_expect\": 78.61, \"fertility\": 1.564}, {\"year\": 2000, \"country\": \"Canada\", \"cluster\": 3, \"pop\": 31278097, \"life_expect\": 79.77, \"fertility\": 1.522}, {\"year\": 2005, \"country\": \"Canada\", \"cluster\": 3, \"pop\": 32805041, \"life_expect\": 80.653, \"fertility\": 1.5270000000000001}, {\"year\": 1955, \"country\": \"Mexico\", \"cluster\": 3, \"pop\": 32929914, \"life_expect\": 55.19, \"fertility\": 6.8}, {\"year\": 1960, \"country\": \"Mexico\", \"cluster\": 3, \"pop\": 38578505, \"life_expect\": 58.299, \"fertility\": 6.7495}, {\"year\": 1965, \"country\": \"Mexico\", \"cluster\": 3, \"pop\": 45142399, \"life_expect\": 60.11, \"fertility\": 6.7495}, {\"year\": 1970, \"country\": \"Mexico\", \"cluster\": 3, \"pop\": 52775158, \"life_expect\": 62.361, \"fertility\": 6.5}, {\"year\": 1975, \"country\": \"Mexico\", \"cluster\": 3, \"pop\": 60678045, \"life_expect\": 65.032, \"fertility\": 5.2505}, {\"year\": 1980, \"country\": \"Mexico\", \"cluster\": 3, \"pop\": 68347479, \"life_expect\": 67.405, \"fertility\": 4.25}, {\"year\": 1985, \"country\": \"Mexico\", \"cluster\": 3, \"pop\": 76767225, \"life_expect\": 69.498, \"fertility\": 3.6295}, {\"year\": 1990, \"country\": \"Mexico\", \"cluster\": 3, \"pop\": 84913652, \"life_expect\": 71.455, \"fertility\": 3.1905}, {\"year\": 1995, \"country\": \"Mexico\", \"cluster\": 3, \"pop\": 92880353, \"life_expect\": 73.67, \"fertility\": 2.6705}, {\"year\": 2000, \"country\": \"Mexico\", \"cluster\": 3, \"pop\": 99926620, \"life_expect\": 74.902, \"fertility\": 2.4005}, {\"year\": 2005, \"country\": \"Mexico\", \"cluster\": 3, \"pop\": 106202903, \"life_expect\": 76.195, \"fertility\": 2.211}, {\"year\": 1955, \"country\": \"United States\", \"cluster\": 3, \"pop\": 165931000, \"life_expect\": 69.49, \"fertility\": 3.706}, {\"year\": 1960, \"country\": \"United States\", \"cluster\": 3, \"pop\": 180671000, \"life_expect\": 70.21, \"fertility\": 3.314}, {\"year\": 1965, \"country\": \"United States\", \"cluster\": 3, \"pop\": 194303000, \"life_expect\": 70.76, \"fertility\": 2.545}, {\"year\": 1970, \"country\": \"United States\", \"cluster\": 3, \"pop\": 205052000, \"life_expect\": 71.34, \"fertility\": 2.016}, {\"year\": 1975, \"country\": \"United States\", \"cluster\": 3, \"pop\": 215973000, \"life_expect\": 73.38, \"fertility\": 1.788}, {\"year\": 1980, \"country\": \"United States\", \"cluster\": 3, \"pop\": 227726463, \"life_expect\": 74.65, \"fertility\": 1.8250000000000002}, {\"year\": 1985, \"country\": \"United States\", \"cluster\": 3, \"pop\": 238466283, \"life_expect\": 75.02, \"fertility\": 1.924}, {\"year\": 1990, \"country\": \"United States\", \"cluster\": 3, \"pop\": 250131894, \"life_expect\": 76.09, \"fertility\": 2.025}, {\"year\": 1995, \"country\": \"United States\", \"cluster\": 3, \"pop\": 266557091, \"life_expect\": 76.81, \"fertility\": 1.994}, {\"year\": 2000, \"country\": \"United States\", \"cluster\": 3, \"pop\": 282338631, \"life_expect\": 77.31, \"fertility\": 2.038}, {\"year\": 2005, \"country\": \"United States\", \"cluster\": 3, \"pop\": 295734134, \"life_expect\": 78.242, \"fertility\": 2.054}]}}, {\"mode\": \"vega-lite\"});\n",
       "</script>"
      ],
      "text/plain": [
       "alt.Chart(...)"
      ]
     },
     "execution_count": 38,
     "metadata": {},
     "output_type": "execute_result"
    }
   ],
   "source": [
    "alt.Chart(dataNA).mark_area(opacity=0.5).encode(\n",
    "    alt.X('year:O'),\n",
    "    alt.Y('pop:Q', stack=None),\n",
    "    alt.Color('country:N')\n",
    ")"
   ]
  },
  {
   "cell_type": "markdown",
   "metadata": {
    "colab_type": "text",
    "id": "ro21p2rsQMl3"
   },
   "source": [
    "The `area` mark type also supports data-driven baselines, with both the upper and lower series determined by data fields. As with `bar` marks, we can use the `x` and `x2` (or `y` and `y2`) channels to provide end points for the area mark.\n",
    "\n",
    "The chart below visualizes the range of minimum and maximum fertility, per year, for North American countries:"
   ]
  },
  {
   "cell_type": "code",
   "execution_count": 40,
   "metadata": {
    "colab": {
     "base_uri": "https://localhost:8080/",
     "height": 385
    },
    "colab_type": "code",
    "id": "I084oc4aQeMw",
    "outputId": "fb6d0868-79f4-4f96-8f5d-aff6d504b3fe"
   },
   "outputs": [
    {
     "data": {
      "text/html": [
       "\n",
       "<div id=\"altair-viz-4c798919fc1e408198bdf13b2c513e4f\"></div>\n",
       "<script type=\"text/javascript\">\n",
       "  (function(spec, embedOpt){\n",
       "    let outputDiv = document.currentScript.previousElementSibling;\n",
       "    if (outputDiv.id !== \"altair-viz-4c798919fc1e408198bdf13b2c513e4f\") {\n",
       "      outputDiv = document.getElementById(\"altair-viz-4c798919fc1e408198bdf13b2c513e4f\");\n",
       "    }\n",
       "    const paths = {\n",
       "      \"vega\": \"https://cdn.jsdelivr.net/npm//vega@5?noext\",\n",
       "      \"vega-lib\": \"https://cdn.jsdelivr.net/npm//vega-lib?noext\",\n",
       "      \"vega-lite\": \"https://cdn.jsdelivr.net/npm//vega-lite@4.8.1?noext\",\n",
       "      \"vega-embed\": \"https://cdn.jsdelivr.net/npm//vega-embed@6?noext\",\n",
       "    };\n",
       "\n",
       "    function loadScript(lib) {\n",
       "      return new Promise(function(resolve, reject) {\n",
       "        var s = document.createElement('script');\n",
       "        s.src = paths[lib];\n",
       "        s.async = true;\n",
       "        s.onload = () => resolve(paths[lib]);\n",
       "        s.onerror = () => reject(`Error loading script: ${paths[lib]}`);\n",
       "        document.getElementsByTagName(\"head\")[0].appendChild(s);\n",
       "      });\n",
       "    }\n",
       "\n",
       "    function showError(err) {\n",
       "      outputDiv.innerHTML = `<div class=\"error\" style=\"color:red;\">${err}</div>`;\n",
       "      throw err;\n",
       "    }\n",
       "\n",
       "    function displayChart(vegaEmbed) {\n",
       "      vegaEmbed(outputDiv, spec, embedOpt)\n",
       "        .catch(err => showError(`Javascript Error: ${err.message}<br>This usually means there's a typo in your chart specification. See the javascript console for the full traceback.`));\n",
       "    }\n",
       "\n",
       "    if(typeof define === \"function\" && define.amd) {\n",
       "      requirejs.config({paths});\n",
       "      require([\"vega-embed\"], displayChart, err => showError(`Error loading script: ${err.message}`));\n",
       "    } else if (typeof vegaEmbed === \"function\") {\n",
       "      displayChart(vegaEmbed);\n",
       "    } else {\n",
       "      loadScript(\"vega\")\n",
       "        .then(() => loadScript(\"vega-lite\"))\n",
       "        .then(() => loadScript(\"vega-embed\"))\n",
       "        .catch(showError)\n",
       "        .then(() => displayChart(vegaEmbed));\n",
       "    }\n",
       "  })({\"config\": {\"view\": {\"continuousWidth\": 400, \"continuousHeight\": 300}}, \"data\": {\"name\": \"data-90247f35efb014c7706cfdd66a0e9a4d\"}, \"mark\": \"area\", \"encoding\": {\"x\": {\"type\": \"ordinal\", \"field\": \"year\"}, \"y\": {\"type\": \"quantitative\", \"aggregate\": \"min\", \"field\": \"fertility\"}, \"y2\": {\"aggregate\": \"max\", \"field\": \"fertility\"}}, \"width\": {\"step\": 40}, \"$schema\": \"https://vega.github.io/schema/vega-lite/v4.8.1.json\", \"datasets\": {\"data-90247f35efb014c7706cfdd66a0e9a4d\": [{\"year\": 1955, \"country\": \"Canada\", \"cluster\": 3, \"pop\": 16050356, \"life_expect\": 69.96, \"fertility\": 3.882}, {\"year\": 1960, \"country\": \"Canada\", \"cluster\": 3, \"pop\": 18266765, \"life_expect\": 71.3, \"fertility\": 3.675}, {\"year\": 1965, \"country\": \"Canada\", \"cluster\": 3, \"pop\": 20071104, \"life_expect\": 72.13, \"fertility\": 2.61}, {\"year\": 1970, \"country\": \"Canada\", \"cluster\": 3, \"pop\": 21749986, \"life_expect\": 72.88, \"fertility\": 1.976}, {\"year\": 1975, \"country\": \"Canada\", \"cluster\": 3, \"pop\": 23209200, \"life_expect\": 74.21, \"fertility\": 1.734}, {\"year\": 1980, \"country\": \"Canada\", \"cluster\": 3, \"pop\": 24593300, \"life_expect\": 75.76, \"fertility\": 1.634}, {\"year\": 1985, \"country\": \"Canada\", \"cluster\": 3, \"pop\": 25941600, \"life_expect\": 76.86, \"fertility\": 1.616}, {\"year\": 1990, \"country\": \"Canada\", \"cluster\": 3, \"pop\": 27790600, \"life_expect\": 77.95, \"fertility\": 1.694}, {\"year\": 1995, \"country\": \"Canada\", \"cluster\": 3, \"pop\": 29619002, \"life_expect\": 78.61, \"fertility\": 1.564}, {\"year\": 2000, \"country\": \"Canada\", \"cluster\": 3, \"pop\": 31278097, \"life_expect\": 79.77, \"fertility\": 1.522}, {\"year\": 2005, \"country\": \"Canada\", \"cluster\": 3, \"pop\": 32805041, \"life_expect\": 80.653, \"fertility\": 1.5270000000000001}, {\"year\": 1955, \"country\": \"Mexico\", \"cluster\": 3, \"pop\": 32929914, \"life_expect\": 55.19, \"fertility\": 6.8}, {\"year\": 1960, \"country\": \"Mexico\", \"cluster\": 3, \"pop\": 38578505, \"life_expect\": 58.299, \"fertility\": 6.7495}, {\"year\": 1965, \"country\": \"Mexico\", \"cluster\": 3, \"pop\": 45142399, \"life_expect\": 60.11, \"fertility\": 6.7495}, {\"year\": 1970, \"country\": \"Mexico\", \"cluster\": 3, \"pop\": 52775158, \"life_expect\": 62.361, \"fertility\": 6.5}, {\"year\": 1975, \"country\": \"Mexico\", \"cluster\": 3, \"pop\": 60678045, \"life_expect\": 65.032, \"fertility\": 5.2505}, {\"year\": 1980, \"country\": \"Mexico\", \"cluster\": 3, \"pop\": 68347479, \"life_expect\": 67.405, \"fertility\": 4.25}, {\"year\": 1985, \"country\": \"Mexico\", \"cluster\": 3, \"pop\": 76767225, \"life_expect\": 69.498, \"fertility\": 3.6295}, {\"year\": 1990, \"country\": \"Mexico\", \"cluster\": 3, \"pop\": 84913652, \"life_expect\": 71.455, \"fertility\": 3.1905}, {\"year\": 1995, \"country\": \"Mexico\", \"cluster\": 3, \"pop\": 92880353, \"life_expect\": 73.67, \"fertility\": 2.6705}, {\"year\": 2000, \"country\": \"Mexico\", \"cluster\": 3, \"pop\": 99926620, \"life_expect\": 74.902, \"fertility\": 2.4005}, {\"year\": 2005, \"country\": \"Mexico\", \"cluster\": 3, \"pop\": 106202903, \"life_expect\": 76.195, \"fertility\": 2.211}, {\"year\": 1955, \"country\": \"United States\", \"cluster\": 3, \"pop\": 165931000, \"life_expect\": 69.49, \"fertility\": 3.706}, {\"year\": 1960, \"country\": \"United States\", \"cluster\": 3, \"pop\": 180671000, \"life_expect\": 70.21, \"fertility\": 3.314}, {\"year\": 1965, \"country\": \"United States\", \"cluster\": 3, \"pop\": 194303000, \"life_expect\": 70.76, \"fertility\": 2.545}, {\"year\": 1970, \"country\": \"United States\", \"cluster\": 3, \"pop\": 205052000, \"life_expect\": 71.34, \"fertility\": 2.016}, {\"year\": 1975, \"country\": \"United States\", \"cluster\": 3, \"pop\": 215973000, \"life_expect\": 73.38, \"fertility\": 1.788}, {\"year\": 1980, \"country\": \"United States\", \"cluster\": 3, \"pop\": 227726463, \"life_expect\": 74.65, \"fertility\": 1.8250000000000002}, {\"year\": 1985, \"country\": \"United States\", \"cluster\": 3, \"pop\": 238466283, \"life_expect\": 75.02, \"fertility\": 1.924}, {\"year\": 1990, \"country\": \"United States\", \"cluster\": 3, \"pop\": 250131894, \"life_expect\": 76.09, \"fertility\": 2.025}, {\"year\": 1995, \"country\": \"United States\", \"cluster\": 3, \"pop\": 266557091, \"life_expect\": 76.81, \"fertility\": 1.994}, {\"year\": 2000, \"country\": \"United States\", \"cluster\": 3, \"pop\": 282338631, \"life_expect\": 77.31, \"fertility\": 2.038}, {\"year\": 2005, \"country\": \"United States\", \"cluster\": 3, \"pop\": 295734134, \"life_expect\": 78.242, \"fertility\": 2.054}]}}, {\"mode\": \"vega-lite\"});\n",
       "</script>"
      ],
      "text/plain": [
       "alt.Chart(...)"
      ]
     },
     "execution_count": 39,
     "metadata": {},
     "output_type": "execute_result"
    }
   ],
   "source": [
    "alt.Chart(dataNA).mark_area().encode(\n",
    "    alt.X('year:O'),\n",
    "    alt.Y('min(fertility):Q'),\n",
    "    alt.Y2('max(fertility):Q')\n",
    ").properties(\n",
    "    width={\"step\": 40}\n",
    ")"
   ]
  },
  {
   "cell_type": "markdown",
   "metadata": {
    "colab_type": "text",
    "id": "msL27DW2qoqJ"
   },
   "source": [
    "We can see a larger range of values in 1995, from just under 4 to just under 7. By 2005, both the overall fertility values and the variability have declined, centered around 2 children per familty."
   ]
  },
  {
   "cell_type": "markdown",
   "metadata": {
    "colab_type": "text",
    "id": "5BoLjQCgrHZL"
   },
   "source": [
    "All the `area` mark examples above use a vertically oriented area. However, Altair and Vega-Lite support horizontal areas as well. Let's transpose the chart above, simply by swapping the `x` and `y` channels."
   ]
  },
  {
   "cell_type": "code",
   "execution_count": 41,
   "metadata": {
    "colab": {
     "base_uri": "https://localhost:8080/",
     "height": 506
    },
    "colab_type": "code",
    "id": "l_TDR4SNrStr",
    "outputId": "e7bf35e5-c94b-4316-9f8d-0dc68f242763"
   },
   "outputs": [
    {
     "data": {
      "text/html": [
       "\n",
       "<div id=\"altair-viz-4b3d6acb84f74aeeb34d0d1b94baa296\"></div>\n",
       "<script type=\"text/javascript\">\n",
       "  (function(spec, embedOpt){\n",
       "    let outputDiv = document.currentScript.previousElementSibling;\n",
       "    if (outputDiv.id !== \"altair-viz-4b3d6acb84f74aeeb34d0d1b94baa296\") {\n",
       "      outputDiv = document.getElementById(\"altair-viz-4b3d6acb84f74aeeb34d0d1b94baa296\");\n",
       "    }\n",
       "    const paths = {\n",
       "      \"vega\": \"https://cdn.jsdelivr.net/npm//vega@5?noext\",\n",
       "      \"vega-lib\": \"https://cdn.jsdelivr.net/npm//vega-lib?noext\",\n",
       "      \"vega-lite\": \"https://cdn.jsdelivr.net/npm//vega-lite@4.8.1?noext\",\n",
       "      \"vega-embed\": \"https://cdn.jsdelivr.net/npm//vega-embed@6?noext\",\n",
       "    };\n",
       "\n",
       "    function loadScript(lib) {\n",
       "      return new Promise(function(resolve, reject) {\n",
       "        var s = document.createElement('script');\n",
       "        s.src = paths[lib];\n",
       "        s.async = true;\n",
       "        s.onload = () => resolve(paths[lib]);\n",
       "        s.onerror = () => reject(`Error loading script: ${paths[lib]}`);\n",
       "        document.getElementsByTagName(\"head\")[0].appendChild(s);\n",
       "      });\n",
       "    }\n",
       "\n",
       "    function showError(err) {\n",
       "      outputDiv.innerHTML = `<div class=\"error\" style=\"color:red;\">${err}</div>`;\n",
       "      throw err;\n",
       "    }\n",
       "\n",
       "    function displayChart(vegaEmbed) {\n",
       "      vegaEmbed(outputDiv, spec, embedOpt)\n",
       "        .catch(err => showError(`Javascript Error: ${err.message}<br>This usually means there's a typo in your chart specification. See the javascript console for the full traceback.`));\n",
       "    }\n",
       "\n",
       "    if(typeof define === \"function\" && define.amd) {\n",
       "      requirejs.config({paths});\n",
       "      require([\"vega-embed\"], displayChart, err => showError(`Error loading script: ${err.message}`));\n",
       "    } else if (typeof vegaEmbed === \"function\") {\n",
       "      displayChart(vegaEmbed);\n",
       "    } else {\n",
       "      loadScript(\"vega\")\n",
       "        .then(() => loadScript(\"vega-lite\"))\n",
       "        .then(() => loadScript(\"vega-embed\"))\n",
       "        .catch(showError)\n",
       "        .then(() => displayChart(vegaEmbed));\n",
       "    }\n",
       "  })({\"config\": {\"view\": {\"continuousWidth\": 400, \"continuousHeight\": 300}}, \"data\": {\"name\": \"data-90247f35efb014c7706cfdd66a0e9a4d\"}, \"mark\": \"area\", \"encoding\": {\"x\": {\"type\": \"quantitative\", \"aggregate\": \"min\", \"field\": \"fertility\"}, \"x2\": {\"aggregate\": \"max\", \"field\": \"fertility\"}, \"y\": {\"type\": \"ordinal\", \"field\": \"year\"}}, \"width\": {\"step\": 40}, \"$schema\": \"https://vega.github.io/schema/vega-lite/v4.8.1.json\", \"datasets\": {\"data-90247f35efb014c7706cfdd66a0e9a4d\": [{\"year\": 1955, \"country\": \"Canada\", \"cluster\": 3, \"pop\": 16050356, \"life_expect\": 69.96, \"fertility\": 3.882}, {\"year\": 1960, \"country\": \"Canada\", \"cluster\": 3, \"pop\": 18266765, \"life_expect\": 71.3, \"fertility\": 3.675}, {\"year\": 1965, \"country\": \"Canada\", \"cluster\": 3, \"pop\": 20071104, \"life_expect\": 72.13, \"fertility\": 2.61}, {\"year\": 1970, \"country\": \"Canada\", \"cluster\": 3, \"pop\": 21749986, \"life_expect\": 72.88, \"fertility\": 1.976}, {\"year\": 1975, \"country\": \"Canada\", \"cluster\": 3, \"pop\": 23209200, \"life_expect\": 74.21, \"fertility\": 1.734}, {\"year\": 1980, \"country\": \"Canada\", \"cluster\": 3, \"pop\": 24593300, \"life_expect\": 75.76, \"fertility\": 1.634}, {\"year\": 1985, \"country\": \"Canada\", \"cluster\": 3, \"pop\": 25941600, \"life_expect\": 76.86, \"fertility\": 1.616}, {\"year\": 1990, \"country\": \"Canada\", \"cluster\": 3, \"pop\": 27790600, \"life_expect\": 77.95, \"fertility\": 1.694}, {\"year\": 1995, \"country\": \"Canada\", \"cluster\": 3, \"pop\": 29619002, \"life_expect\": 78.61, \"fertility\": 1.564}, {\"year\": 2000, \"country\": \"Canada\", \"cluster\": 3, \"pop\": 31278097, \"life_expect\": 79.77, \"fertility\": 1.522}, {\"year\": 2005, \"country\": \"Canada\", \"cluster\": 3, \"pop\": 32805041, \"life_expect\": 80.653, \"fertility\": 1.5270000000000001}, {\"year\": 1955, \"country\": \"Mexico\", \"cluster\": 3, \"pop\": 32929914, \"life_expect\": 55.19, \"fertility\": 6.8}, {\"year\": 1960, \"country\": \"Mexico\", \"cluster\": 3, \"pop\": 38578505, \"life_expect\": 58.299, \"fertility\": 6.7495}, {\"year\": 1965, \"country\": \"Mexico\", \"cluster\": 3, \"pop\": 45142399, \"life_expect\": 60.11, \"fertility\": 6.7495}, {\"year\": 1970, \"country\": \"Mexico\", \"cluster\": 3, \"pop\": 52775158, \"life_expect\": 62.361, \"fertility\": 6.5}, {\"year\": 1975, \"country\": \"Mexico\", \"cluster\": 3, \"pop\": 60678045, \"life_expect\": 65.032, \"fertility\": 5.2505}, {\"year\": 1980, \"country\": \"Mexico\", \"cluster\": 3, \"pop\": 68347479, \"life_expect\": 67.405, \"fertility\": 4.25}, {\"year\": 1985, \"country\": \"Mexico\", \"cluster\": 3, \"pop\": 76767225, \"life_expect\": 69.498, \"fertility\": 3.6295}, {\"year\": 1990, \"country\": \"Mexico\", \"cluster\": 3, \"pop\": 84913652, \"life_expect\": 71.455, \"fertility\": 3.1905}, {\"year\": 1995, \"country\": \"Mexico\", \"cluster\": 3, \"pop\": 92880353, \"life_expect\": 73.67, \"fertility\": 2.6705}, {\"year\": 2000, \"country\": \"Mexico\", \"cluster\": 3, \"pop\": 99926620, \"life_expect\": 74.902, \"fertility\": 2.4005}, {\"year\": 2005, \"country\": \"Mexico\", \"cluster\": 3, \"pop\": 106202903, \"life_expect\": 76.195, \"fertility\": 2.211}, {\"year\": 1955, \"country\": \"United States\", \"cluster\": 3, \"pop\": 165931000, \"life_expect\": 69.49, \"fertility\": 3.706}, {\"year\": 1960, \"country\": \"United States\", \"cluster\": 3, \"pop\": 180671000, \"life_expect\": 70.21, \"fertility\": 3.314}, {\"year\": 1965, \"country\": \"United States\", \"cluster\": 3, \"pop\": 194303000, \"life_expect\": 70.76, \"fertility\": 2.545}, {\"year\": 1970, \"country\": \"United States\", \"cluster\": 3, \"pop\": 205052000, \"life_expect\": 71.34, \"fertility\": 2.016}, {\"year\": 1975, \"country\": \"United States\", \"cluster\": 3, \"pop\": 215973000, \"life_expect\": 73.38, \"fertility\": 1.788}, {\"year\": 1980, \"country\": \"United States\", \"cluster\": 3, \"pop\": 227726463, \"life_expect\": 74.65, \"fertility\": 1.8250000000000002}, {\"year\": 1985, \"country\": \"United States\", \"cluster\": 3, \"pop\": 238466283, \"life_expect\": 75.02, \"fertility\": 1.924}, {\"year\": 1990, \"country\": \"United States\", \"cluster\": 3, \"pop\": 250131894, \"life_expect\": 76.09, \"fertility\": 2.025}, {\"year\": 1995, \"country\": \"United States\", \"cluster\": 3, \"pop\": 266557091, \"life_expect\": 76.81, \"fertility\": 1.994}, {\"year\": 2000, \"country\": \"United States\", \"cluster\": 3, \"pop\": 282338631, \"life_expect\": 77.31, \"fertility\": 2.038}, {\"year\": 2005, \"country\": \"United States\", \"cluster\": 3, \"pop\": 295734134, \"life_expect\": 78.242, \"fertility\": 2.054}]}}, {\"mode\": \"vega-lite\"});\n",
       "</script>"
      ],
      "text/plain": [
       "alt.Chart(...)"
      ]
     },
     "execution_count": 40,
     "metadata": {},
     "output_type": "execute_result"
    }
   ],
   "source": [
    "alt.Chart(dataNA).mark_area().encode(\n",
    "    alt.Y('year:O'),\n",
    "    alt.X('min(fertility):Q'),\n",
    "    alt.X2('max(fertility):Q')\n",
    ").properties(\n",
    "    width={\"step\": 40}\n",
    ")"
   ]
  },
  {
   "cell_type": "markdown",
   "metadata": {
    "colab_type": "text",
    "id": "OAmIxLRarios"
   },
   "source": [
    "## Summary\n",
    "\n",
    "We've completed our tour of data types, encoding channels, and graphical marks! You should now be well-equipped to further explore the space of encodings, mark types, and mark parameters. For a comprehensive reference &ndash; including features we've skipped over here! &ndash; see the Altair [marks](https://altair-viz.github.io/user_guide/marks.html) and [encoding](https://altair-viz.github.io/user_guide/encoding.html) documentation.\n",
    "\n",
    "In the next module, we will look at the use of data transformations to create charts that summarize data or visualize new derived fields. In a later module, we'll examine how to further customize your charts by modifying scales, axes, and legends.\n",
    "\n",
    "Interested in learning more about visual encoding?"
   ]
  },
  {
   "cell_type": "markdown",
   "metadata": {},
   "source": [
    "<img title=\"Bertin's Taxonomy of Visual Encoding Channels\" src=\"https://cdn-images-1.medium.com/max/2000/1*jsb78Rr2cDy6zrE7j2IKig.png\" style=\"max-width: 650px;\"><br/>\n",
    "\n",
    "<small>Bertin's taxonomy of visual encodings from <a href=\"https://books.google.com/books/about/Semiology_of_Graphics.html?id=X5caQwAACAAJ\"><em>Sémiologie Graphique</em></a>, as adapted by <a href=\"https://bost.ocks.org/mike/\">Mike Bostock</a>.</small>"
   ]
  },
  {
   "cell_type": "markdown",
   "metadata": {},
   "source": [
    "- The systematic study of marks, visual encodings, and backing data types was initiated by [Jacques Bertin](https://en.wikipedia.org/wiki/Jacques_Bertin) in his pioneering 1967 work [_Sémiologie Graphique (The Semiology of Graphics)_](https://books.google.com/books/about/Semiology_of_Graphics.html?id=X5caQwAACAAJ). The image above illustrates position, size, value (brightness), texture, color (hue), orientation, and shape channels, alongside Bertin's recommendations for the data types they support.\n",
    "- The framework of data types, marks, and channels also guides _automated_ visualization design tools, starting with [Mackinlay's APT (A Presentation Tool)](https://scholar.google.com/scholar?cluster=10191273548472217907) in 1986 and continuing in more recent systems such as [Voyager](http://idl.cs.washington.edu/papers/voyager/) and [Draco](http://idl.cs.washington.edu/papers/draco/).\n",
    "- The identification of nominal, ordinal, interval, and ratio types dates at least as far back as S. S. Steven's 1947 article [_On the theory of scales of measurement_](https://scholar.google.com/scholar?cluster=14356809180080326415)."
   ]
  }
 ],
 "metadata": {
  "kernelspec": {
   "display_name": "Python 3",
   "language": "python",
   "name": "python3"
  },
  "language_info": {
   "codemirror_mode": {
    "name": "ipython",
    "version": 3
   },
   "file_extension": ".py",
   "mimetype": "text/x-python",
   "name": "python",
   "nbconvert_exporter": "python",
   "pygments_lexer": "ipython3",
   "version": "3.8.5"
  }
 },
 "nbformat": 4,
 "nbformat_minor": 4
}
