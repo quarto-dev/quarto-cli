{
 "cells": [
  {
   "cell_type": "raw",
   "metadata": {},
   "source": [
    "---\n",
    "title: Starter ipynb with no kernel info\n",
    "format: html\n",
    "execute:\n",
    "  enabled: true\n",
    "jupyter:\n",
    "  kernel: python3\n",
    "_quarto:\n",
    "  tests:\n",
    "    html:\n",
    "      ensureHtmlElements:\n",
    "        - ['.cell-output-stdout']\n",
    "        - []\n",
    "---"
   ]
  },
  {
   "cell_type": "markdown",
   "metadata": {},
   "source": [
    "This document should have no metadata kernelspec defined in its ipynb json representation. \n",
    "\n",
    "If quarto render is called on it, then it will add some and the change should not be committed."
   ]
  },
  {
   "cell_type": "code",
   "execution_count": null,
   "metadata": {},
   "outputs": [],
   "source": [
    "x = 1\n",
    "print(x)"
   ]
  }
 ],
 "metadata": {
  "language_info": {
   "name": "python"
  }
 },
 "nbformat": 4,
 "nbformat_minor": 2
}
