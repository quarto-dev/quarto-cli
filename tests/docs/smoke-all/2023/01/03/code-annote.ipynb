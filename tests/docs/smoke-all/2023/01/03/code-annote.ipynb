{
 "cells": [
  {
   "cell_type": "markdown",
   "id": "6aae5a0e",
   "metadata": {},
   "source": [
    "---\n",
    "title: Test Notebook\n",
    "author: Norah Jones\n",
    "date: last-modified\n",
    "---"
   ]
  },
  {
   "cell_type": "code",
   "execution_count": 4,
   "id": "bac753a1",
   "metadata": {},
   "outputs": [
    {
     "name": "stdout",
     "output_type": "stream",
     "text": [
      "The area of the triangle is 14.70\n"
     ]
    },
    {
     "name": "stderr",
     "output_type": "stream",
     "text": [
      "<ipython-input-4-f3c20f77dc05>:7: UserWarning: Warning Message: 4\n",
      "  warnings.warn('Warning Message: 4')\n"
     ]
    }
   ],
   "source": [
    "import warnings;\n",
    "\n",
    "a = 5 # <1>\n",
    "b = 6 # <1>\n",
    "c = 7 # <1>\n",
    "\n",
    "warnings.warn('This is warning you')\n",
    "print(\"I just warned you\")\n",
    "\n",
    "s = (a + b + c) / 2  # <2>\n",
    "\n",
    "area = (s*(s-a)*(s-b)*(s-c)) ** 0.5  # <3>\n",
    "print('The area of the triangle is %0.2f' %area)"
   ]
  },
  {
   "cell_type": "markdown",
   "id": "71d73861",
   "metadata": {},
   "source": [
    "1. The inputs - these could easily be replace by user input or something else.\n",
    "2. Calculate the semi-perimeter\n",
    "3. Calculate the area"
   ]
  },
  {
   "cell_type": "code",
   "execution_count": null,
   "id": "f4423d71",
   "metadata": {},
   "outputs": [],
   "source": []
  }
 ],
 "metadata": {
  "kernelspec": {
   "display_name": "Python 3",
   "language": "python",
   "name": "python3"
  },
  "language_info": {
   "codemirror_mode": {
    "name": "ipython",
    "version": 3
   },
   "file_extension": ".py",
   "mimetype": "text/x-python",
   "name": "python",
   "nbconvert_exporter": "python",
   "pygments_lexer": "ipython3",
   "version": "3.9.13"
  }
 },
 "nbformat": 4,
 "nbformat_minor": 5
}
