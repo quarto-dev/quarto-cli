{
 "cells": [
  {
   "cell_type": "raw",
   "id": "dbd7953c",
   "metadata": {},
   "source": [
    "---\n",
    "title: Some title\n",
    "author: Some name\n",
    "date: '2022-01-09'\n",
    "format:\n",
    "  html:\n",
    "    toc: true\n",
    "    toc-depth: 2\n",
    "    code-fold: true\n",
    "    self-contained: true\n",
    "---"
   ]
  },
  {
   "cell_type": "code",
   "execution_count": 15,
   "id": "54f3e4bb",
   "metadata": {},
   "outputs": [
    {
     "data": {
      "text/plain": []
     },
     "execution_count": 16,
     "metadata": {},
     "output_type": "execute_result"
    },
    {
     "name": "stdout",
     "output_type": "stream",
     "text": [
      "┌─────────┬─────────┬────────┬────────┐\n",
      "│\u001b[1m         \u001b[0m│\u001b[1m cv_elpd \u001b[0m│\u001b[1m cv_avg \u001b[0m│\u001b[1m weight \u001b[0m│\n",
      "├─────────┼─────────┼────────┼────────┤\n",
      "│\u001b[1m model_2 \u001b[0m│    0.00 │   0.00 │   0.79 │\n",
      "│\u001b[1m model_3 \u001b[0m│   -1.51 │  -0.01 │   0.18 │\n",
      "│\u001b[1m model_1 \u001b[0m│   -3.28 │  -0.02 │   0.03 │\n",
      "│\u001b[1m model_4 \u001b[0m│  -13.14 │  -0.07 │   0.00 │\n",
      "└─────────┴─────────┴────────┴────────┘\n"
     ]
    }
   ],
   "source": [
    "loo_compare(loo_model1, loo_model2, loo_model3, loo_model4)\n",
    "# Past results\n",
    "# ┌─────────┬─────────┬────────┬────────┐\n",
    "# │         │ cv_elpd │ cv_avg │ weight │\n",
    "# ├─────────┼─────────┼────────┼────────┤\n",
    "# │ model_2 │    0.00 │   0.00 │   0.84 │\n",
    "# │ model_3 │   -1.77 │  -0.01 │   0.14 │\n",
    "# │ model_1 │   -3.70 │  -0.02 │   0.02 │\n",
    "# │ model_4 │  -13.94 │  -0.07 │   0.00 │\n",
    "# └─────────┴─────────┴────────┴────────┘"
   ]
  }
 ],
 "metadata": {
  "kernelspec": {
   "display_name": "julia6 1.8.4",
   "language": "julia",
   "name": "julia6-1.8"
  },
  "language_info": {
   "file_extension": ".jl",
   "mimetype": "application/julia",
   "name": "julia",
   "version": "1.8.4"
  }
 },
 "nbformat": 4,
 "nbformat_minor": 5
}
